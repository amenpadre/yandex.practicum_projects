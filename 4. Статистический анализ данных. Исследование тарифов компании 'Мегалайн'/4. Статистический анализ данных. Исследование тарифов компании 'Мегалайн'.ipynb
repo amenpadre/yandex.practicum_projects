{
 "cells": [
  {
   "cell_type": "markdown",
   "metadata": {},
   "source": [
    "# Исследование тарифов компании \"Мегалайн\""
   ]
  },
  {
   "cell_type": "markdown",
   "metadata": {},
   "source": [
    "Компания **«Мегалайн»** — федеральный оператор сотовой связи. Клиентам предлагают два тарифных плана: **«Смарт»** и **«Ультра»**. Чтобы скорректировать рекламный бюджет, коммерческий департамент хочет понять, какой тариф приносит больше денег.\n",
    "\n",
    "Необходимо сделать предварительный анализ тарифов на небольшой выборке клиентов. В распоряжении данные 500 пользователей **«Мегалайна»**: кто они, откуда, каким тарифом пользуются, сколько звонков и сообщений каждый отправил за 2018 год. Нужно проанализировать поведение клиентов и сделать вывод — какой тариф лучше."
   ]
  },
  {
   "cell_type": "markdown",
   "metadata": {},
   "source": [
    "**Описание тарифов**\n",
    "\n",
    "**Тариф «Смарт»**\n",
    "\n",
    "1. Ежемесячная плата: 550 рублей\n",
    "2. Включено 500 минут разговора, 50 сообщений и 15 Гб интернет-трафика\n",
    "3. Стоимость услуг сверх тарифного пакета:\n",
    "  * минута разговора: 3 рубля\n",
    "  * сообщение: 3 рубля\n",
    "  * 1 Гб интернет-трафика: 200 рублей\n",
    "\n",
    "**Тариф «Ультра»**\n",
    "\n",
    "1. Ежемесячная плата: 1950 рублей\n",
    "2. Включено 3000 минут разговора, 1000 сообщений и 30 Гб интернет-трафика\n",
    "3. Стоимость услуг сверх тарифного пакета:\n",
    "  * минута разговора: 1 рубль\n",
    "  * сообщение: 1 рубль\n",
    "  * 1 Гб интернет-трафика: 150 рублей"
   ]
  },
  {
   "cell_type": "markdown",
   "metadata": {},
   "source": [
    "**«Мегалайн»** всегда округляет секунды до минут, а мегабайты — до гигабайт. Каждый звонок округляется отдельно: даже если он длился всего 1 секунду, будет засчитан как 1 минута.\n",
    "\n",
    "Для веб-трафика отдельные сессии не считаются. Вместо этого общая сумма за месяц округляется в бо́льшую сторону. Если абонент использует 1025 мегабайт в этом месяце, с него возьмут плату за 2 гигабайта. Неиспользованные за предыдущий месяц звонки, смс, интернет на следующий месяц не переносятся."
   ]
  },
  {
   "cell_type": "markdown",
   "metadata": {},
   "source": [
    "**План выполнения проекта**\n",
    "\n",
    "    1) Изучить данные из предоставленных датасетов;\n",
    "    2) Подготовить данные:\n",
    "        2.1) Привести данные к нужным типам;    \n",
    "        2.2) Заполнить пропуски в данных;    \n",
    "        2.3) Проверить данные на дубликаты;    \n",
    "        2.4) Составить сводные таблицы с помесячным числом минут разговоров, отправленных сообщений и израсходаванного трафика для каждого пользователя;    \n",
    "        2.5) Посчитать помесячную выручку от каждого клиента;    \n",
    "    3) Проанализировать данные:\n",
    "        3.1) Посчитать среднее, дисперсию и стандартное отклонение для минут разговора пользователей обоих тарифов. Построить гистограммы для этих величин;\n",
    "        3.2) Посчитать среднее, дисперсию и стандартное отклонение для отправленных сообщений пользователей обоих тарифов. Построить гистограммы для этих величин;\n",
    "        3.3) Посчитать среднее, дисперсию и стандартное отклонение для израсходованного трафика пользователей обоих тарифов. Построить гистограммы для этих величин;\n",
    "    4) Проверить гипотезы:\n",
    "        4.1) О различии выручки от пользователей тарифов;\n",
    "        4.2) О различии выручки от пользователей из Москвы и от пользователей из других городов."
   ]
  },
  {
   "cell_type": "markdown",
   "metadata": {},
   "source": [
    "## Изучение данных из файлов"
   ]
  },
  {
   "cell_type": "code",
   "execution_count": 1,
   "metadata": {},
   "outputs": [],
   "source": [
    "import pandas as pd\n",
    "import numpy as np\n",
    "import matplotlib.pyplot as plt\n",
    "from scipy import stats as st"
   ]
  },
  {
   "cell_type": "markdown",
   "metadata": {},
   "source": [
    "### Данные о звонках"
   ]
  },
  {
   "cell_type": "code",
   "execution_count": 2,
   "metadata": {},
   "outputs": [
    {
     "data": {
      "text/html": [
       "<div>\n",
       "<style scoped>\n",
       "    .dataframe tbody tr th:only-of-type {\n",
       "        vertical-align: middle;\n",
       "    }\n",
       "\n",
       "    .dataframe tbody tr th {\n",
       "        vertical-align: top;\n",
       "    }\n",
       "\n",
       "    .dataframe thead th {\n",
       "        text-align: right;\n",
       "    }\n",
       "</style>\n",
       "<table border=\"1\" class=\"dataframe\">\n",
       "  <thead>\n",
       "    <tr style=\"text-align: right;\">\n",
       "      <th></th>\n",
       "      <th>id</th>\n",
       "      <th>call_date</th>\n",
       "      <th>duration</th>\n",
       "      <th>user_id</th>\n",
       "    </tr>\n",
       "  </thead>\n",
       "  <tbody>\n",
       "    <tr>\n",
       "      <th>0</th>\n",
       "      <td>1000_0</td>\n",
       "      <td>2018-07-25</td>\n",
       "      <td>0.00</td>\n",
       "      <td>1000</td>\n",
       "    </tr>\n",
       "    <tr>\n",
       "      <th>1</th>\n",
       "      <td>1000_1</td>\n",
       "      <td>2018-08-17</td>\n",
       "      <td>0.00</td>\n",
       "      <td>1000</td>\n",
       "    </tr>\n",
       "    <tr>\n",
       "      <th>2</th>\n",
       "      <td>1000_2</td>\n",
       "      <td>2018-06-11</td>\n",
       "      <td>2.85</td>\n",
       "      <td>1000</td>\n",
       "    </tr>\n",
       "    <tr>\n",
       "      <th>3</th>\n",
       "      <td>1000_3</td>\n",
       "      <td>2018-09-21</td>\n",
       "      <td>13.80</td>\n",
       "      <td>1000</td>\n",
       "    </tr>\n",
       "    <tr>\n",
       "      <th>4</th>\n",
       "      <td>1000_4</td>\n",
       "      <td>2018-12-15</td>\n",
       "      <td>5.18</td>\n",
       "      <td>1000</td>\n",
       "    </tr>\n",
       "    <tr>\n",
       "      <th>5</th>\n",
       "      <td>1000_5</td>\n",
       "      <td>2018-11-02</td>\n",
       "      <td>0.00</td>\n",
       "      <td>1000</td>\n",
       "    </tr>\n",
       "    <tr>\n",
       "      <th>6</th>\n",
       "      <td>1000_6</td>\n",
       "      <td>2018-10-18</td>\n",
       "      <td>0.00</td>\n",
       "      <td>1000</td>\n",
       "    </tr>\n",
       "    <tr>\n",
       "      <th>7</th>\n",
       "      <td>1000_7</td>\n",
       "      <td>2018-08-22</td>\n",
       "      <td>18.31</td>\n",
       "      <td>1000</td>\n",
       "    </tr>\n",
       "    <tr>\n",
       "      <th>8</th>\n",
       "      <td>1000_8</td>\n",
       "      <td>2018-09-15</td>\n",
       "      <td>18.44</td>\n",
       "      <td>1000</td>\n",
       "    </tr>\n",
       "    <tr>\n",
       "      <th>9</th>\n",
       "      <td>1000_9</td>\n",
       "      <td>2018-08-15</td>\n",
       "      <td>0.00</td>\n",
       "      <td>1000</td>\n",
       "    </tr>\n",
       "  </tbody>\n",
       "</table>\n",
       "</div>"
      ],
      "text/plain": [
       "       id   call_date  duration  user_id\n",
       "0  1000_0  2018-07-25      0.00     1000\n",
       "1  1000_1  2018-08-17      0.00     1000\n",
       "2  1000_2  2018-06-11      2.85     1000\n",
       "3  1000_3  2018-09-21     13.80     1000\n",
       "4  1000_4  2018-12-15      5.18     1000\n",
       "5  1000_5  2018-11-02      0.00     1000\n",
       "6  1000_6  2018-10-18      0.00     1000\n",
       "7  1000_7  2018-08-22     18.31     1000\n",
       "8  1000_8  2018-09-15     18.44     1000\n",
       "9  1000_9  2018-08-15      0.00     1000"
      ]
     },
     "metadata": {},
     "output_type": "display_data"
    },
    {
     "name": "stdout",
     "output_type": "stream",
     "text": [
      "<class 'pandas.core.frame.DataFrame'>\n",
      "RangeIndex: 202607 entries, 0 to 202606\n",
      "Data columns (total 4 columns):\n",
      " #   Column     Non-Null Count   Dtype  \n",
      "---  ------     --------------   -----  \n",
      " 0   id         202607 non-null  object \n",
      " 1   call_date  202607 non-null  object \n",
      " 2   duration   202607 non-null  float64\n",
      " 3   user_id    202607 non-null  int64  \n",
      "dtypes: float64(1), int64(1), object(2)\n",
      "memory usage: 6.2+ MB\n",
      "None\n"
     ]
    }
   ],
   "source": [
    "data_calls = pd.read_csv('/datasets/calls.csv')\n",
    "display(data_calls.head(10))\n",
    "print(data_calls.info())"
   ]
  },
  {
   "cell_type": "markdown",
   "metadata": {},
   "source": [
    "В таблице с информацией о звонках 202607 строк и 4 столбца: уникальный идентифекатор звонка, дата звонка, длительность звонка (в минутах), уникальный идентифекатор пользователя. В длительности звонков есть нулевые значения - это пропущенные звонки. Данные столбца с датой звонка небоходимо будет привести к типу `datetime`."
   ]
  },
  {
   "cell_type": "markdown",
   "metadata": {},
   "source": [
    "### Данные об интернет-сессиях"
   ]
  },
  {
   "cell_type": "code",
   "execution_count": 3,
   "metadata": {},
   "outputs": [
    {
     "data": {
      "text/html": [
       "<div>\n",
       "<style scoped>\n",
       "    .dataframe tbody tr th:only-of-type {\n",
       "        vertical-align: middle;\n",
       "    }\n",
       "\n",
       "    .dataframe tbody tr th {\n",
       "        vertical-align: top;\n",
       "    }\n",
       "\n",
       "    .dataframe thead th {\n",
       "        text-align: right;\n",
       "    }\n",
       "</style>\n",
       "<table border=\"1\" class=\"dataframe\">\n",
       "  <thead>\n",
       "    <tr style=\"text-align: right;\">\n",
       "      <th></th>\n",
       "      <th>id</th>\n",
       "      <th>mb_used</th>\n",
       "      <th>session_date</th>\n",
       "      <th>user_id</th>\n",
       "    </tr>\n",
       "  </thead>\n",
       "  <tbody>\n",
       "    <tr>\n",
       "      <th>0</th>\n",
       "      <td>1000_0</td>\n",
       "      <td>112.95</td>\n",
       "      <td>2018-11-25</td>\n",
       "      <td>1000</td>\n",
       "    </tr>\n",
       "    <tr>\n",
       "      <th>1</th>\n",
       "      <td>1000_1</td>\n",
       "      <td>1052.81</td>\n",
       "      <td>2018-09-07</td>\n",
       "      <td>1000</td>\n",
       "    </tr>\n",
       "    <tr>\n",
       "      <th>2</th>\n",
       "      <td>1000_2</td>\n",
       "      <td>1197.26</td>\n",
       "      <td>2018-06-25</td>\n",
       "      <td>1000</td>\n",
       "    </tr>\n",
       "    <tr>\n",
       "      <th>3</th>\n",
       "      <td>1000_3</td>\n",
       "      <td>550.27</td>\n",
       "      <td>2018-08-22</td>\n",
       "      <td>1000</td>\n",
       "    </tr>\n",
       "    <tr>\n",
       "      <th>4</th>\n",
       "      <td>1000_4</td>\n",
       "      <td>302.56</td>\n",
       "      <td>2018-09-24</td>\n",
       "      <td>1000</td>\n",
       "    </tr>\n",
       "    <tr>\n",
       "      <th>5</th>\n",
       "      <td>1000_5</td>\n",
       "      <td>399.97</td>\n",
       "      <td>2018-10-02</td>\n",
       "      <td>1000</td>\n",
       "    </tr>\n",
       "    <tr>\n",
       "      <th>6</th>\n",
       "      <td>1000_6</td>\n",
       "      <td>540.08</td>\n",
       "      <td>2018-09-07</td>\n",
       "      <td>1000</td>\n",
       "    </tr>\n",
       "    <tr>\n",
       "      <th>7</th>\n",
       "      <td>1000_7</td>\n",
       "      <td>415.70</td>\n",
       "      <td>2018-07-11</td>\n",
       "      <td>1000</td>\n",
       "    </tr>\n",
       "    <tr>\n",
       "      <th>8</th>\n",
       "      <td>1000_8</td>\n",
       "      <td>505.40</td>\n",
       "      <td>2018-10-08</td>\n",
       "      <td>1000</td>\n",
       "    </tr>\n",
       "    <tr>\n",
       "      <th>9</th>\n",
       "      <td>1000_9</td>\n",
       "      <td>345.54</td>\n",
       "      <td>2018-09-03</td>\n",
       "      <td>1000</td>\n",
       "    </tr>\n",
       "  </tbody>\n",
       "</table>\n",
       "</div>"
      ],
      "text/plain": [
       "       id  mb_used session_date  user_id\n",
       "0  1000_0   112.95   2018-11-25     1000\n",
       "1  1000_1  1052.81   2018-09-07     1000\n",
       "2  1000_2  1197.26   2018-06-25     1000\n",
       "3  1000_3   550.27   2018-08-22     1000\n",
       "4  1000_4   302.56   2018-09-24     1000\n",
       "5  1000_5   399.97   2018-10-02     1000\n",
       "6  1000_6   540.08   2018-09-07     1000\n",
       "7  1000_7   415.70   2018-07-11     1000\n",
       "8  1000_8   505.40   2018-10-08     1000\n",
       "9  1000_9   345.54   2018-09-03     1000"
      ]
     },
     "metadata": {},
     "output_type": "display_data"
    },
    {
     "name": "stdout",
     "output_type": "stream",
     "text": [
      "<class 'pandas.core.frame.DataFrame'>\n",
      "Int64Index: 149396 entries, 0 to 149395\n",
      "Data columns (total 4 columns):\n",
      " #   Column        Non-Null Count   Dtype  \n",
      "---  ------        --------------   -----  \n",
      " 0   id            149396 non-null  object \n",
      " 1   mb_used       149396 non-null  float64\n",
      " 2   session_date  149396 non-null  object \n",
      " 3   user_id       149396 non-null  int64  \n",
      "dtypes: float64(1), int64(1), object(2)\n",
      "memory usage: 5.7+ MB\n",
      "None\n"
     ]
    }
   ],
   "source": [
    "data_internet = pd.read_csv('/datasets/internet.csv', index_col=0)\n",
    "display(data_internet.head(10))\n",
    "print(data_internet.info())"
   ]
  },
  {
   "cell_type": "markdown",
   "metadata": {},
   "source": [
    "В таблице с информацией об интернет-сессиях 149396 строк и 5 столбцов: уникальный идентифекатор интернет-сессии, количество потрачных мегабайт во время интернет-сессии, дата интернет-сессии, уникальный идентифекатор пользователя и `'Unnamed: 0'`, повторяющий номера строк таблицы (его нужно будет удалить). Данные столбца с датой интернет-сессии необходимо привести к типу `'datetime'`"
   ]
  },
  {
   "cell_type": "markdown",
   "metadata": {},
   "source": [
    "### Данные о сообщениях"
   ]
  },
  {
   "cell_type": "code",
   "execution_count": 4,
   "metadata": {},
   "outputs": [
    {
     "data": {
      "text/html": [
       "<div>\n",
       "<style scoped>\n",
       "    .dataframe tbody tr th:only-of-type {\n",
       "        vertical-align: middle;\n",
       "    }\n",
       "\n",
       "    .dataframe tbody tr th {\n",
       "        vertical-align: top;\n",
       "    }\n",
       "\n",
       "    .dataframe thead th {\n",
       "        text-align: right;\n",
       "    }\n",
       "</style>\n",
       "<table border=\"1\" class=\"dataframe\">\n",
       "  <thead>\n",
       "    <tr style=\"text-align: right;\">\n",
       "      <th></th>\n",
       "      <th>id</th>\n",
       "      <th>message_date</th>\n",
       "      <th>user_id</th>\n",
       "    </tr>\n",
       "  </thead>\n",
       "  <tbody>\n",
       "    <tr>\n",
       "      <th>0</th>\n",
       "      <td>1000_0</td>\n",
       "      <td>2018-06-27</td>\n",
       "      <td>1000</td>\n",
       "    </tr>\n",
       "    <tr>\n",
       "      <th>1</th>\n",
       "      <td>1000_1</td>\n",
       "      <td>2018-10-08</td>\n",
       "      <td>1000</td>\n",
       "    </tr>\n",
       "    <tr>\n",
       "      <th>2</th>\n",
       "      <td>1000_2</td>\n",
       "      <td>2018-08-04</td>\n",
       "      <td>1000</td>\n",
       "    </tr>\n",
       "    <tr>\n",
       "      <th>3</th>\n",
       "      <td>1000_3</td>\n",
       "      <td>2018-06-16</td>\n",
       "      <td>1000</td>\n",
       "    </tr>\n",
       "    <tr>\n",
       "      <th>4</th>\n",
       "      <td>1000_4</td>\n",
       "      <td>2018-12-05</td>\n",
       "      <td>1000</td>\n",
       "    </tr>\n",
       "    <tr>\n",
       "      <th>5</th>\n",
       "      <td>1000_5</td>\n",
       "      <td>2018-06-20</td>\n",
       "      <td>1000</td>\n",
       "    </tr>\n",
       "    <tr>\n",
       "      <th>6</th>\n",
       "      <td>1000_6</td>\n",
       "      <td>2018-11-19</td>\n",
       "      <td>1000</td>\n",
       "    </tr>\n",
       "    <tr>\n",
       "      <th>7</th>\n",
       "      <td>1000_7</td>\n",
       "      <td>2018-10-29</td>\n",
       "      <td>1000</td>\n",
       "    </tr>\n",
       "    <tr>\n",
       "      <th>8</th>\n",
       "      <td>1000_8</td>\n",
       "      <td>2018-06-25</td>\n",
       "      <td>1000</td>\n",
       "    </tr>\n",
       "    <tr>\n",
       "      <th>9</th>\n",
       "      <td>1000_9</td>\n",
       "      <td>2018-12-18</td>\n",
       "      <td>1000</td>\n",
       "    </tr>\n",
       "  </tbody>\n",
       "</table>\n",
       "</div>"
      ],
      "text/plain": [
       "       id message_date  user_id\n",
       "0  1000_0   2018-06-27     1000\n",
       "1  1000_1   2018-10-08     1000\n",
       "2  1000_2   2018-08-04     1000\n",
       "3  1000_3   2018-06-16     1000\n",
       "4  1000_4   2018-12-05     1000\n",
       "5  1000_5   2018-06-20     1000\n",
       "6  1000_6   2018-11-19     1000\n",
       "7  1000_7   2018-10-29     1000\n",
       "8  1000_8   2018-06-25     1000\n",
       "9  1000_9   2018-12-18     1000"
      ]
     },
     "metadata": {},
     "output_type": "display_data"
    },
    {
     "name": "stdout",
     "output_type": "stream",
     "text": [
      "<class 'pandas.core.frame.DataFrame'>\n",
      "RangeIndex: 123036 entries, 0 to 123035\n",
      "Data columns (total 3 columns):\n",
      " #   Column        Non-Null Count   Dtype \n",
      "---  ------        --------------   ----- \n",
      " 0   id            123036 non-null  object\n",
      " 1   message_date  123036 non-null  object\n",
      " 2   user_id       123036 non-null  int64 \n",
      "dtypes: int64(1), object(2)\n",
      "memory usage: 2.8+ MB\n",
      "None\n"
     ]
    }
   ],
   "source": [
    "data_messages = pd.read_csv('/datasets/messages.csv')\n",
    "display(data_messages.head(10))\n",
    "print(data_messages.info())"
   ]
  },
  {
   "cell_type": "markdown",
   "metadata": {},
   "source": [
    "В таблице с информацией о сообщениях 123036 строк и 3 столбца: уникальный идентифекатор сообщения, дата отправки сообщения, уникальный идентифекатор пользователя. Данные столбца с датой отправки сообщения необходимо привести к типу `'datetime'`."
   ]
  },
  {
   "cell_type": "markdown",
   "metadata": {},
   "source": [
    "### Данные о тарифах"
   ]
  },
  {
   "cell_type": "code",
   "execution_count": 5,
   "metadata": {},
   "outputs": [
    {
     "data": {
      "text/html": [
       "<div>\n",
       "<style scoped>\n",
       "    .dataframe tbody tr th:only-of-type {\n",
       "        vertical-align: middle;\n",
       "    }\n",
       "\n",
       "    .dataframe tbody tr th {\n",
       "        vertical-align: top;\n",
       "    }\n",
       "\n",
       "    .dataframe thead th {\n",
       "        text-align: right;\n",
       "    }\n",
       "</style>\n",
       "<table border=\"1\" class=\"dataframe\">\n",
       "  <thead>\n",
       "    <tr style=\"text-align: right;\">\n",
       "      <th></th>\n",
       "      <th>messages_included</th>\n",
       "      <th>mb_per_month_included</th>\n",
       "      <th>minutes_included</th>\n",
       "      <th>rub_monthly_fee</th>\n",
       "      <th>rub_per_gb</th>\n",
       "      <th>rub_per_message</th>\n",
       "      <th>rub_per_minute</th>\n",
       "      <th>tariff</th>\n",
       "    </tr>\n",
       "  </thead>\n",
       "  <tbody>\n",
       "    <tr>\n",
       "      <th>0</th>\n",
       "      <td>50</td>\n",
       "      <td>15360</td>\n",
       "      <td>500</td>\n",
       "      <td>550</td>\n",
       "      <td>200</td>\n",
       "      <td>3</td>\n",
       "      <td>3</td>\n",
       "      <td>smart</td>\n",
       "    </tr>\n",
       "    <tr>\n",
       "      <th>1</th>\n",
       "      <td>1000</td>\n",
       "      <td>30720</td>\n",
       "      <td>3000</td>\n",
       "      <td>1950</td>\n",
       "      <td>150</td>\n",
       "      <td>1</td>\n",
       "      <td>1</td>\n",
       "      <td>ultra</td>\n",
       "    </tr>\n",
       "  </tbody>\n",
       "</table>\n",
       "</div>"
      ],
      "text/plain": [
       "   messages_included  mb_per_month_included  minutes_included  \\\n",
       "0                 50                  15360               500   \n",
       "1               1000                  30720              3000   \n",
       "\n",
       "   rub_monthly_fee  rub_per_gb  rub_per_message  rub_per_minute tariff  \n",
       "0              550         200                3               3  smart  \n",
       "1             1950         150                1               1  ultra  "
      ]
     },
     "metadata": {},
     "output_type": "display_data"
    },
    {
     "name": "stdout",
     "output_type": "stream",
     "text": [
      "<class 'pandas.core.frame.DataFrame'>\n",
      "RangeIndex: 2 entries, 0 to 1\n",
      "Data columns (total 8 columns):\n",
      " #   Column                 Non-Null Count  Dtype \n",
      "---  ------                 --------------  ----- \n",
      " 0   messages_included      2 non-null      int64 \n",
      " 1   mb_per_month_included  2 non-null      int64 \n",
      " 2   minutes_included       2 non-null      int64 \n",
      " 3   rub_monthly_fee        2 non-null      int64 \n",
      " 4   rub_per_gb             2 non-null      int64 \n",
      " 5   rub_per_message        2 non-null      int64 \n",
      " 6   rub_per_minute         2 non-null      int64 \n",
      " 7   tariff                 2 non-null      object\n",
      "dtypes: int64(7), object(1)\n",
      "memory usage: 256.0+ bytes\n",
      "None\n"
     ]
    }
   ],
   "source": [
    "data_tariffs = pd.read_csv('/datasets/tariffs.csv')\n",
    "data_tariffs = data_tariffs.rename(columns={'tariff_name': 'tariff'})\n",
    "display(data_tariffs)\n",
    "print(data_tariffs.info())"
   ]
  },
  {
   "cell_type": "markdown",
   "metadata": {},
   "source": [
    "В таблице 2 строки и 8 столбцов: кол-во предоставленных сообщений, кол-во предоставленных мб, кол-во предоставляемых минут для звонков, цена тарифа за месяц, цена за гб сверх тарифа, цена за сообщение сверх тарифа, цена за минуту разговора сверх тарифа, название тарифа."
   ]
  },
  {
   "cell_type": "markdown",
   "metadata": {},
   "source": [
    "### Данные о пользователях"
   ]
  },
  {
   "cell_type": "code",
   "execution_count": 6,
   "metadata": {},
   "outputs": [
    {
     "data": {
      "text/html": [
       "<div>\n",
       "<style scoped>\n",
       "    .dataframe tbody tr th:only-of-type {\n",
       "        vertical-align: middle;\n",
       "    }\n",
       "\n",
       "    .dataframe tbody tr th {\n",
       "        vertical-align: top;\n",
       "    }\n",
       "\n",
       "    .dataframe thead th {\n",
       "        text-align: right;\n",
       "    }\n",
       "</style>\n",
       "<table border=\"1\" class=\"dataframe\">\n",
       "  <thead>\n",
       "    <tr style=\"text-align: right;\">\n",
       "      <th></th>\n",
       "      <th>user_id</th>\n",
       "      <th>age</th>\n",
       "      <th>churn_date</th>\n",
       "      <th>city</th>\n",
       "      <th>first_name</th>\n",
       "      <th>last_name</th>\n",
       "      <th>reg_date</th>\n",
       "      <th>tariff</th>\n",
       "    </tr>\n",
       "  </thead>\n",
       "  <tbody>\n",
       "    <tr>\n",
       "      <th>0</th>\n",
       "      <td>1000</td>\n",
       "      <td>52</td>\n",
       "      <td>NaN</td>\n",
       "      <td>Краснодар</td>\n",
       "      <td>Рафаил</td>\n",
       "      <td>Верещагин</td>\n",
       "      <td>2018-05-25</td>\n",
       "      <td>ultra</td>\n",
       "    </tr>\n",
       "    <tr>\n",
       "      <th>1</th>\n",
       "      <td>1001</td>\n",
       "      <td>41</td>\n",
       "      <td>NaN</td>\n",
       "      <td>Москва</td>\n",
       "      <td>Иван</td>\n",
       "      <td>Ежов</td>\n",
       "      <td>2018-11-01</td>\n",
       "      <td>smart</td>\n",
       "    </tr>\n",
       "    <tr>\n",
       "      <th>2</th>\n",
       "      <td>1002</td>\n",
       "      <td>59</td>\n",
       "      <td>NaN</td>\n",
       "      <td>Стерлитамак</td>\n",
       "      <td>Евгений</td>\n",
       "      <td>Абрамович</td>\n",
       "      <td>2018-06-17</td>\n",
       "      <td>smart</td>\n",
       "    </tr>\n",
       "    <tr>\n",
       "      <th>3</th>\n",
       "      <td>1003</td>\n",
       "      <td>23</td>\n",
       "      <td>NaN</td>\n",
       "      <td>Москва</td>\n",
       "      <td>Белла</td>\n",
       "      <td>Белякова</td>\n",
       "      <td>2018-08-17</td>\n",
       "      <td>ultra</td>\n",
       "    </tr>\n",
       "    <tr>\n",
       "      <th>4</th>\n",
       "      <td>1004</td>\n",
       "      <td>68</td>\n",
       "      <td>NaN</td>\n",
       "      <td>Новокузнецк</td>\n",
       "      <td>Татьяна</td>\n",
       "      <td>Авдеенко</td>\n",
       "      <td>2018-05-14</td>\n",
       "      <td>ultra</td>\n",
       "    </tr>\n",
       "    <tr>\n",
       "      <th>5</th>\n",
       "      <td>1005</td>\n",
       "      <td>67</td>\n",
       "      <td>NaN</td>\n",
       "      <td>Набережные Челны</td>\n",
       "      <td>Афанасий</td>\n",
       "      <td>Горлов</td>\n",
       "      <td>2018-01-25</td>\n",
       "      <td>smart</td>\n",
       "    </tr>\n",
       "    <tr>\n",
       "      <th>6</th>\n",
       "      <td>1006</td>\n",
       "      <td>21</td>\n",
       "      <td>NaN</td>\n",
       "      <td>Ульяновск</td>\n",
       "      <td>Леонид</td>\n",
       "      <td>Ермолаев</td>\n",
       "      <td>2018-02-26</td>\n",
       "      <td>smart</td>\n",
       "    </tr>\n",
       "    <tr>\n",
       "      <th>7</th>\n",
       "      <td>1007</td>\n",
       "      <td>65</td>\n",
       "      <td>NaN</td>\n",
       "      <td>Москва</td>\n",
       "      <td>Юна</td>\n",
       "      <td>Березина</td>\n",
       "      <td>2018-04-19</td>\n",
       "      <td>smart</td>\n",
       "    </tr>\n",
       "    <tr>\n",
       "      <th>8</th>\n",
       "      <td>1008</td>\n",
       "      <td>63</td>\n",
       "      <td>NaN</td>\n",
       "      <td>Челябинск</td>\n",
       "      <td>Рустэм</td>\n",
       "      <td>Пономарёв</td>\n",
       "      <td>2018-12-19</td>\n",
       "      <td>smart</td>\n",
       "    </tr>\n",
       "    <tr>\n",
       "      <th>9</th>\n",
       "      <td>1009</td>\n",
       "      <td>24</td>\n",
       "      <td>NaN</td>\n",
       "      <td>Пермь</td>\n",
       "      <td>Василиса</td>\n",
       "      <td>Блинова</td>\n",
       "      <td>2018-03-22</td>\n",
       "      <td>smart</td>\n",
       "    </tr>\n",
       "  </tbody>\n",
       "</table>\n",
       "</div>"
      ],
      "text/plain": [
       "   user_id  age churn_date              city first_name  last_name  \\\n",
       "0     1000   52        NaN         Краснодар     Рафаил  Верещагин   \n",
       "1     1001   41        NaN            Москва       Иван       Ежов   \n",
       "2     1002   59        NaN       Стерлитамак    Евгений  Абрамович   \n",
       "3     1003   23        NaN            Москва      Белла   Белякова   \n",
       "4     1004   68        NaN       Новокузнецк    Татьяна   Авдеенко   \n",
       "5     1005   67        NaN  Набережные Челны   Афанасий     Горлов   \n",
       "6     1006   21        NaN         Ульяновск     Леонид   Ермолаев   \n",
       "7     1007   65        NaN            Москва        Юна   Березина   \n",
       "8     1008   63        NaN         Челябинск     Рустэм  Пономарёв   \n",
       "9     1009   24        NaN             Пермь   Василиса    Блинова   \n",
       "\n",
       "     reg_date tariff  \n",
       "0  2018-05-25  ultra  \n",
       "1  2018-11-01  smart  \n",
       "2  2018-06-17  smart  \n",
       "3  2018-08-17  ultra  \n",
       "4  2018-05-14  ultra  \n",
       "5  2018-01-25  smart  \n",
       "6  2018-02-26  smart  \n",
       "7  2018-04-19  smart  \n",
       "8  2018-12-19  smart  \n",
       "9  2018-03-22  smart  "
      ]
     },
     "metadata": {},
     "output_type": "display_data"
    },
    {
     "name": "stdout",
     "output_type": "stream",
     "text": [
      "<class 'pandas.core.frame.DataFrame'>\n",
      "RangeIndex: 500 entries, 0 to 499\n",
      "Data columns (total 8 columns):\n",
      " #   Column      Non-Null Count  Dtype \n",
      "---  ------      --------------  ----- \n",
      " 0   user_id     500 non-null    int64 \n",
      " 1   age         500 non-null    int64 \n",
      " 2   churn_date  38 non-null     object\n",
      " 3   city        500 non-null    object\n",
      " 4   first_name  500 non-null    object\n",
      " 5   last_name   500 non-null    object\n",
      " 6   reg_date    500 non-null    object\n",
      " 7   tariff      500 non-null    object\n",
      "dtypes: int64(2), object(6)\n",
      "memory usage: 31.4+ KB\n",
      "None\n"
     ]
    }
   ],
   "source": [
    "data_users = pd.read_csv('/datasets/users.csv')\n",
    "display(data_users.head(10))\n",
    "print(data_users.info())"
   ]
  },
  {
   "cell_type": "markdown",
   "metadata": {},
   "source": [
    "В таблице 500 строк и 8 столбцов: уникальный идентифекатор пользователя, возраст пользователя, дата отмены тарифа, город проживания пользователя, имя пользователя, фамилия пользователя, дата подключения тарифа, используемый тариф. В столбце даты отмены тарифа есть пропуски, скорее всего они значат, что пользователь всё ещё продолжает пользоваться тарифом."
   ]
  },
  {
   "cell_type": "markdown",
   "metadata": {},
   "source": [
    "### Вывод"
   ]
  },
  {
   "cell_type": "markdown",
   "metadata": {},
   "source": [
    "В таблицах полные данные, пропусков в таблицах нет, кроме столбца `'churn_date'` таблицы с данными о пользователях, но они означают, что клиент продожает пользоваться тарифом. Необходимо привести все столбцы с данными о датах к типу `'datetime'`,  округлить длительность звонка в данных о звонках до целых в большую сторону, ведь \"Мегалайн\" округляет все звонки до минут, а также удалить данные о пропущенных звонках (т.е. те, длительность которых равна `0`)."
   ]
  },
  {
   "cell_type": "markdown",
   "metadata": {},
   "source": [
    "## Подготовка данных"
   ]
  },
  {
   "cell_type": "markdown",
   "metadata": {},
   "source": [
    "### Подготовка данных о звонках"
   ]
  },
  {
   "cell_type": "code",
   "execution_count": 7,
   "metadata": {},
   "outputs": [
    {
     "data": {
      "text/plain": [
       "0"
      ]
     },
     "execution_count": 7,
     "metadata": {},
     "output_type": "execute_result"
    }
   ],
   "source": [
    "len(data_calls[data_calls['duration'] < 0])"
   ]
  },
  {
   "cell_type": "code",
   "execution_count": 8,
   "metadata": {},
   "outputs": [],
   "source": [
    "data_calls = data_calls[data_calls['duration'] > 0].reset_index(drop=True) \n",
    "# В данных нет аномальных значений, которые меньше нуля,\n",
    "# поэтому я применил такую конструкцию, чтобы избавиться от нулевых значений"
   ]
  },
  {
   "cell_type": "code",
   "execution_count": 9,
   "metadata": {},
   "outputs": [],
   "source": [
    "#data_calls['duration'] = data_calls['duration'].apply(math.ceil)\n",
    "data_calls['duration'] = np.ceil(data_calls['duration'])"
   ]
  },
  {
   "cell_type": "code",
   "execution_count": 10,
   "metadata": {},
   "outputs": [
    {
     "data": {
      "text/plain": [
       "0          3.0\n",
       "1         14.0\n",
       "2          6.0\n",
       "3         19.0\n",
       "4         19.0\n",
       "          ... \n",
       "162989     1.0\n",
       "162990    19.0\n",
       "162991    11.0\n",
       "162992     5.0\n",
       "162993    20.0\n",
       "Name: duration, Length: 162994, dtype: float64"
      ]
     },
     "execution_count": 10,
     "metadata": {},
     "output_type": "execute_result"
    }
   ],
   "source": [
    "data_calls['duration']"
   ]
  },
  {
   "cell_type": "markdown",
   "metadata": {},
   "source": [
    "Минуты успешно округлены в большую сторону."
   ]
  },
  {
   "cell_type": "code",
   "execution_count": 11,
   "metadata": {},
   "outputs": [],
   "source": [
    "data_calls['call_date'] = pd.to_datetime(data_calls['call_date'], format='%Y-%m-%d')"
   ]
  },
  {
   "cell_type": "code",
   "execution_count": 12,
   "metadata": {},
   "outputs": [
    {
     "name": "stdout",
     "output_type": "stream",
     "text": [
      "<class 'pandas.core.frame.DataFrame'>\n",
      "RangeIndex: 162994 entries, 0 to 162993\n",
      "Data columns (total 4 columns):\n",
      " #   Column     Non-Null Count   Dtype         \n",
      "---  ------     --------------   -----         \n",
      " 0   id         162994 non-null  object        \n",
      " 1   call_date  162994 non-null  datetime64[ns]\n",
      " 2   duration   162994 non-null  float64       \n",
      " 3   user_id    162994 non-null  int64         \n",
      "dtypes: datetime64[ns](1), float64(1), int64(1), object(1)\n",
      "memory usage: 5.0+ MB\n"
     ]
    }
   ],
   "source": [
    "data_calls.info()"
   ]
  },
  {
   "cell_type": "markdown",
   "metadata": {},
   "source": [
    "Тип данных дат звонков успешно изменён."
   ]
  },
  {
   "cell_type": "code",
   "execution_count": 13,
   "metadata": {},
   "outputs": [
    {
     "data": {
      "text/plain": [
       "0"
      ]
     },
     "execution_count": 13,
     "metadata": {},
     "output_type": "execute_result"
    }
   ],
   "source": [
    "data_calls.duplicated().sum()"
   ]
  },
  {
   "cell_type": "markdown",
   "metadata": {},
   "source": [
    "В данных о звонках нет дубликатов."
   ]
  },
  {
   "cell_type": "markdown",
   "metadata": {},
   "source": [
    "#### Подсчёт количества успешных звонков и израсходованных минут по месяцам для каждого пользователя"
   ]
  },
  {
   "cell_type": "code",
   "execution_count": 14,
   "metadata": {},
   "outputs": [],
   "source": [
    "data_calls['month'] = pd.DatetimeIndex(data_calls['call_date']).month"
   ]
  },
  {
   "cell_type": "code",
   "execution_count": 15,
   "metadata": {},
   "outputs": [],
   "source": [
    "data_calls_pivot = data_calls.pivot_table(index=['user_id', 'month'], values='duration', aggfunc=['count', 'sum'])"
   ]
  },
  {
   "cell_type": "code",
   "execution_count": 16,
   "metadata": {},
   "outputs": [],
   "source": [
    "data_calls_pivot.columns = ['calls_count', 'calls_sum']"
   ]
  },
  {
   "cell_type": "code",
   "execution_count": 17,
   "metadata": {},
   "outputs": [
    {
     "data": {
      "text/html": [
       "<div>\n",
       "<style scoped>\n",
       "    .dataframe tbody tr th:only-of-type {\n",
       "        vertical-align: middle;\n",
       "    }\n",
       "\n",
       "    .dataframe tbody tr th {\n",
       "        vertical-align: top;\n",
       "    }\n",
       "\n",
       "    .dataframe thead th {\n",
       "        text-align: right;\n",
       "    }\n",
       "</style>\n",
       "<table border=\"1\" class=\"dataframe\">\n",
       "  <thead>\n",
       "    <tr style=\"text-align: right;\">\n",
       "      <th></th>\n",
       "      <th>user_id</th>\n",
       "      <th>month</th>\n",
       "      <th>calls_count</th>\n",
       "      <th>calls_sum</th>\n",
       "    </tr>\n",
       "  </thead>\n",
       "  <tbody>\n",
       "    <tr>\n",
       "      <th>0</th>\n",
       "      <td>1000</td>\n",
       "      <td>5</td>\n",
       "      <td>17</td>\n",
       "      <td>159.0</td>\n",
       "    </tr>\n",
       "    <tr>\n",
       "      <th>1</th>\n",
       "      <td>1000</td>\n",
       "      <td>6</td>\n",
       "      <td>28</td>\n",
       "      <td>172.0</td>\n",
       "    </tr>\n",
       "    <tr>\n",
       "      <th>2</th>\n",
       "      <td>1000</td>\n",
       "      <td>7</td>\n",
       "      <td>41</td>\n",
       "      <td>340.0</td>\n",
       "    </tr>\n",
       "    <tr>\n",
       "      <th>3</th>\n",
       "      <td>1000</td>\n",
       "      <td>8</td>\n",
       "      <td>42</td>\n",
       "      <td>408.0</td>\n",
       "    </tr>\n",
       "    <tr>\n",
       "      <th>4</th>\n",
       "      <td>1000</td>\n",
       "      <td>9</td>\n",
       "      <td>46</td>\n",
       "      <td>466.0</td>\n",
       "    </tr>\n",
       "    <tr>\n",
       "      <th>...</th>\n",
       "      <td>...</td>\n",
       "      <td>...</td>\n",
       "      <td>...</td>\n",
       "      <td>...</td>\n",
       "    </tr>\n",
       "    <tr>\n",
       "      <th>3163</th>\n",
       "      <td>1498</td>\n",
       "      <td>10</td>\n",
       "      <td>30</td>\n",
       "      <td>247.0</td>\n",
       "    </tr>\n",
       "    <tr>\n",
       "      <th>3164</th>\n",
       "      <td>1499</td>\n",
       "      <td>9</td>\n",
       "      <td>8</td>\n",
       "      <td>70.0</td>\n",
       "    </tr>\n",
       "    <tr>\n",
       "      <th>3165</th>\n",
       "      <td>1499</td>\n",
       "      <td>10</td>\n",
       "      <td>44</td>\n",
       "      <td>449.0</td>\n",
       "    </tr>\n",
       "    <tr>\n",
       "      <th>3166</th>\n",
       "      <td>1499</td>\n",
       "      <td>11</td>\n",
       "      <td>62</td>\n",
       "      <td>612.0</td>\n",
       "    </tr>\n",
       "    <tr>\n",
       "      <th>3167</th>\n",
       "      <td>1499</td>\n",
       "      <td>12</td>\n",
       "      <td>56</td>\n",
       "      <td>492.0</td>\n",
       "    </tr>\n",
       "  </tbody>\n",
       "</table>\n",
       "<p>3168 rows × 4 columns</p>\n",
       "</div>"
      ],
      "text/plain": [
       "      user_id  month  calls_count  calls_sum\n",
       "0        1000      5           17      159.0\n",
       "1        1000      6           28      172.0\n",
       "2        1000      7           41      340.0\n",
       "3        1000      8           42      408.0\n",
       "4        1000      9           46      466.0\n",
       "...       ...    ...          ...        ...\n",
       "3163     1498     10           30      247.0\n",
       "3164     1499      9            8       70.0\n",
       "3165     1499     10           44      449.0\n",
       "3166     1499     11           62      612.0\n",
       "3167     1499     12           56      492.0\n",
       "\n",
       "[3168 rows x 4 columns]"
      ]
     },
     "execution_count": 17,
     "metadata": {},
     "output_type": "execute_result"
    }
   ],
   "source": [
    "data_calls_pivot = data_calls_pivot.reset_index()\n",
    "data_calls_pivot"
   ]
  },
  {
   "cell_type": "markdown",
   "metadata": {},
   "source": [
    "### Подготовка данных об интернет-сессиях"
   ]
  },
  {
   "cell_type": "code",
   "execution_count": 18,
   "metadata": {},
   "outputs": [],
   "source": [
    "data_internet['session_date'] = pd.to_datetime(data_internet['session_date'], format='%Y-%m-%d')"
   ]
  },
  {
   "cell_type": "markdown",
   "metadata": {},
   "source": [
    "Данные о дате интернет-сессии приведены к типу `'datetime'`."
   ]
  },
  {
   "cell_type": "code",
   "execution_count": 19,
   "metadata": {},
   "outputs": [
    {
     "data": {
      "text/plain": [
       "0"
      ]
     },
     "execution_count": 19,
     "metadata": {},
     "output_type": "execute_result"
    }
   ],
   "source": [
    "data_internet.duplicated().sum()"
   ]
  },
  {
   "cell_type": "markdown",
   "metadata": {},
   "source": [
    "Дубликатов в данных об интернет сессиях нет."
   ]
  },
  {
   "cell_type": "markdown",
   "metadata": {},
   "source": [
    "#### Подсчёт истраченного интернет-трафика по месяцам для каждого пользователя"
   ]
  },
  {
   "cell_type": "code",
   "execution_count": 20,
   "metadata": {},
   "outputs": [],
   "source": [
    "data_internet['month'] = pd.DatetimeIndex(data_internet['session_date']).month"
   ]
  },
  {
   "cell_type": "code",
   "execution_count": 21,
   "metadata": {},
   "outputs": [],
   "source": [
    "data_internet_pivot = data_internet.pivot_table(index=['user_id', 'month'], values='mb_used', aggfunc=['sum'])"
   ]
  },
  {
   "cell_type": "code",
   "execution_count": 22,
   "metadata": {},
   "outputs": [],
   "source": [
    "data_internet_pivot.columns = ['mb_used_sum']"
   ]
  },
  {
   "cell_type": "code",
   "execution_count": 23,
   "metadata": {},
   "outputs": [
    {
     "data": {
      "text/html": [
       "<div>\n",
       "<style scoped>\n",
       "    .dataframe tbody tr th:only-of-type {\n",
       "        vertical-align: middle;\n",
       "    }\n",
       "\n",
       "    .dataframe tbody tr th {\n",
       "        vertical-align: top;\n",
       "    }\n",
       "\n",
       "    .dataframe thead th {\n",
       "        text-align: right;\n",
       "    }\n",
       "</style>\n",
       "<table border=\"1\" class=\"dataframe\">\n",
       "  <thead>\n",
       "    <tr style=\"text-align: right;\">\n",
       "      <th></th>\n",
       "      <th>user_id</th>\n",
       "      <th>month</th>\n",
       "      <th>mb_used_sum</th>\n",
       "    </tr>\n",
       "  </thead>\n",
       "  <tbody>\n",
       "    <tr>\n",
       "      <th>0</th>\n",
       "      <td>1000</td>\n",
       "      <td>5</td>\n",
       "      <td>2253.49</td>\n",
       "    </tr>\n",
       "    <tr>\n",
       "      <th>1</th>\n",
       "      <td>1000</td>\n",
       "      <td>6</td>\n",
       "      <td>23233.77</td>\n",
       "    </tr>\n",
       "    <tr>\n",
       "      <th>2</th>\n",
       "      <td>1000</td>\n",
       "      <td>7</td>\n",
       "      <td>14003.64</td>\n",
       "    </tr>\n",
       "    <tr>\n",
       "      <th>3</th>\n",
       "      <td>1000</td>\n",
       "      <td>8</td>\n",
       "      <td>14055.93</td>\n",
       "    </tr>\n",
       "    <tr>\n",
       "      <th>4</th>\n",
       "      <td>1000</td>\n",
       "      <td>9</td>\n",
       "      <td>14568.91</td>\n",
       "    </tr>\n",
       "    <tr>\n",
       "      <th>...</th>\n",
       "      <td>...</td>\n",
       "      <td>...</td>\n",
       "      <td>...</td>\n",
       "    </tr>\n",
       "    <tr>\n",
       "      <th>3198</th>\n",
       "      <td>1498</td>\n",
       "      <td>10</td>\n",
       "      <td>20579.36</td>\n",
       "    </tr>\n",
       "    <tr>\n",
       "      <th>3199</th>\n",
       "      <td>1499</td>\n",
       "      <td>9</td>\n",
       "      <td>1845.75</td>\n",
       "    </tr>\n",
       "    <tr>\n",
       "      <th>3200</th>\n",
       "      <td>1499</td>\n",
       "      <td>10</td>\n",
       "      <td>17788.51</td>\n",
       "    </tr>\n",
       "    <tr>\n",
       "      <th>3201</th>\n",
       "      <td>1499</td>\n",
       "      <td>11</td>\n",
       "      <td>17963.31</td>\n",
       "    </tr>\n",
       "    <tr>\n",
       "      <th>3202</th>\n",
       "      <td>1499</td>\n",
       "      <td>12</td>\n",
       "      <td>13055.58</td>\n",
       "    </tr>\n",
       "  </tbody>\n",
       "</table>\n",
       "<p>3203 rows × 3 columns</p>\n",
       "</div>"
      ],
      "text/plain": [
       "      user_id  month  mb_used_sum\n",
       "0        1000      5      2253.49\n",
       "1        1000      6     23233.77\n",
       "2        1000      7     14003.64\n",
       "3        1000      8     14055.93\n",
       "4        1000      9     14568.91\n",
       "...       ...    ...          ...\n",
       "3198     1498     10     20579.36\n",
       "3199     1499      9      1845.75\n",
       "3200     1499     10     17788.51\n",
       "3201     1499     11     17963.31\n",
       "3202     1499     12     13055.58\n",
       "\n",
       "[3203 rows x 3 columns]"
      ]
     },
     "execution_count": 23,
     "metadata": {},
     "output_type": "execute_result"
    }
   ],
   "source": [
    "data_internet_pivot = data_internet_pivot.reset_index()\n",
    "data_internet_pivot"
   ]
  },
  {
   "cell_type": "markdown",
   "metadata": {},
   "source": [
    "### Подготовка данных о сообщениях"
   ]
  },
  {
   "cell_type": "code",
   "execution_count": 24,
   "metadata": {},
   "outputs": [],
   "source": [
    "data_messages['message_date'] = pd.to_datetime(data_messages['message_date'], format='%Y-%m-%d')"
   ]
  },
  {
   "cell_type": "markdown",
   "metadata": {},
   "source": [
    "Тип данных столбца с данными о дате сообщения успешно изменен на `'datetime'`."
   ]
  },
  {
   "cell_type": "markdown",
   "metadata": {},
   "source": [
    "#### Подсчёт отправленных сообщений по месяцам для каждого пользователя"
   ]
  },
  {
   "cell_type": "code",
   "execution_count": 25,
   "metadata": {},
   "outputs": [],
   "source": [
    "data_messages['month'] = pd.DatetimeIndex(data_messages['message_date']).month"
   ]
  },
  {
   "cell_type": "code",
   "execution_count": 26,
   "metadata": {},
   "outputs": [],
   "source": [
    "data_messages_pivot = data_messages.pivot_table(index=['user_id', 'month'], values='id', aggfunc=['count'])"
   ]
  },
  {
   "cell_type": "code",
   "execution_count": 27,
   "metadata": {},
   "outputs": [],
   "source": [
    "data_messages_pivot.columns = ['messages_count']"
   ]
  },
  {
   "cell_type": "code",
   "execution_count": 28,
   "metadata": {},
   "outputs": [
    {
     "data": {
      "text/html": [
       "<div>\n",
       "<style scoped>\n",
       "    .dataframe tbody tr th:only-of-type {\n",
       "        vertical-align: middle;\n",
       "    }\n",
       "\n",
       "    .dataframe tbody tr th {\n",
       "        vertical-align: top;\n",
       "    }\n",
       "\n",
       "    .dataframe thead th {\n",
       "        text-align: right;\n",
       "    }\n",
       "</style>\n",
       "<table border=\"1\" class=\"dataframe\">\n",
       "  <thead>\n",
       "    <tr style=\"text-align: right;\">\n",
       "      <th></th>\n",
       "      <th>user_id</th>\n",
       "      <th>month</th>\n",
       "      <th>messages_count</th>\n",
       "    </tr>\n",
       "  </thead>\n",
       "  <tbody>\n",
       "    <tr>\n",
       "      <th>0</th>\n",
       "      <td>1000</td>\n",
       "      <td>5</td>\n",
       "      <td>22</td>\n",
       "    </tr>\n",
       "    <tr>\n",
       "      <th>1</th>\n",
       "      <td>1000</td>\n",
       "      <td>6</td>\n",
       "      <td>60</td>\n",
       "    </tr>\n",
       "    <tr>\n",
       "      <th>2</th>\n",
       "      <td>1000</td>\n",
       "      <td>7</td>\n",
       "      <td>75</td>\n",
       "    </tr>\n",
       "    <tr>\n",
       "      <th>3</th>\n",
       "      <td>1000</td>\n",
       "      <td>8</td>\n",
       "      <td>81</td>\n",
       "    </tr>\n",
       "    <tr>\n",
       "      <th>4</th>\n",
       "      <td>1000</td>\n",
       "      <td>9</td>\n",
       "      <td>57</td>\n",
       "    </tr>\n",
       "    <tr>\n",
       "      <th>...</th>\n",
       "      <td>...</td>\n",
       "      <td>...</td>\n",
       "      <td>...</td>\n",
       "    </tr>\n",
       "    <tr>\n",
       "      <th>2712</th>\n",
       "      <td>1498</td>\n",
       "      <td>10</td>\n",
       "      <td>42</td>\n",
       "    </tr>\n",
       "    <tr>\n",
       "      <th>2713</th>\n",
       "      <td>1499</td>\n",
       "      <td>9</td>\n",
       "      <td>11</td>\n",
       "    </tr>\n",
       "    <tr>\n",
       "      <th>2714</th>\n",
       "      <td>1499</td>\n",
       "      <td>10</td>\n",
       "      <td>48</td>\n",
       "    </tr>\n",
       "    <tr>\n",
       "      <th>2715</th>\n",
       "      <td>1499</td>\n",
       "      <td>11</td>\n",
       "      <td>59</td>\n",
       "    </tr>\n",
       "    <tr>\n",
       "      <th>2716</th>\n",
       "      <td>1499</td>\n",
       "      <td>12</td>\n",
       "      <td>66</td>\n",
       "    </tr>\n",
       "  </tbody>\n",
       "</table>\n",
       "<p>2717 rows × 3 columns</p>\n",
       "</div>"
      ],
      "text/plain": [
       "      user_id  month  messages_count\n",
       "0        1000      5              22\n",
       "1        1000      6              60\n",
       "2        1000      7              75\n",
       "3        1000      8              81\n",
       "4        1000      9              57\n",
       "...       ...    ...             ...\n",
       "2712     1498     10              42\n",
       "2713     1499      9              11\n",
       "2714     1499     10              48\n",
       "2715     1499     11              59\n",
       "2716     1499     12              66\n",
       "\n",
       "[2717 rows x 3 columns]"
      ]
     },
     "execution_count": 28,
     "metadata": {},
     "output_type": "execute_result"
    }
   ],
   "source": [
    "data_messages_pivot = data_messages_pivot.reset_index()\n",
    "data_messages_pivot"
   ]
  },
  {
   "cell_type": "markdown",
   "metadata": {},
   "source": [
    "### Подсчёт помесячной выручки с каждого пользователя"
   ]
  },
  {
   "cell_type": "code",
   "execution_count": 29,
   "metadata": {
    "scrolled": true
   },
   "outputs": [
    {
     "data": {
      "text/html": [
       "<div>\n",
       "<style scoped>\n",
       "    .dataframe tbody tr th:only-of-type {\n",
       "        vertical-align: middle;\n",
       "    }\n",
       "\n",
       "    .dataframe tbody tr th {\n",
       "        vertical-align: top;\n",
       "    }\n",
       "\n",
       "    .dataframe thead th {\n",
       "        text-align: right;\n",
       "    }\n",
       "</style>\n",
       "<table border=\"1\" class=\"dataframe\">\n",
       "  <thead>\n",
       "    <tr style=\"text-align: right;\">\n",
       "      <th></th>\n",
       "      <th>user_id</th>\n",
       "      <th>month</th>\n",
       "      <th>calls_count</th>\n",
       "      <th>calls_sum</th>\n",
       "      <th>messages_count</th>\n",
       "      <th>mb_used_sum</th>\n",
       "      <th>age</th>\n",
       "      <th>churn_date</th>\n",
       "      <th>city</th>\n",
       "      <th>first_name</th>\n",
       "      <th>last_name</th>\n",
       "      <th>reg_date</th>\n",
       "      <th>tariff</th>\n",
       "      <th>messages_included</th>\n",
       "      <th>mb_per_month_included</th>\n",
       "      <th>minutes_included</th>\n",
       "      <th>rub_monthly_fee</th>\n",
       "      <th>rub_per_gb</th>\n",
       "      <th>rub_per_message</th>\n",
       "      <th>rub_per_minute</th>\n",
       "    </tr>\n",
       "  </thead>\n",
       "  <tbody>\n",
       "    <tr>\n",
       "      <th>0</th>\n",
       "      <td>1000</td>\n",
       "      <td>5.0</td>\n",
       "      <td>17.0</td>\n",
       "      <td>159.0</td>\n",
       "      <td>22.0</td>\n",
       "      <td>2253.49</td>\n",
       "      <td>52</td>\n",
       "      <td>NaN</td>\n",
       "      <td>Краснодар</td>\n",
       "      <td>Рафаил</td>\n",
       "      <td>Верещагин</td>\n",
       "      <td>2018-05-25</td>\n",
       "      <td>ultra</td>\n",
       "      <td>1000</td>\n",
       "      <td>30720</td>\n",
       "      <td>3000</td>\n",
       "      <td>1950</td>\n",
       "      <td>150</td>\n",
       "      <td>1</td>\n",
       "      <td>1</td>\n",
       "    </tr>\n",
       "    <tr>\n",
       "      <th>1</th>\n",
       "      <td>1000</td>\n",
       "      <td>6.0</td>\n",
       "      <td>28.0</td>\n",
       "      <td>172.0</td>\n",
       "      <td>60.0</td>\n",
       "      <td>23233.77</td>\n",
       "      <td>52</td>\n",
       "      <td>NaN</td>\n",
       "      <td>Краснодар</td>\n",
       "      <td>Рафаил</td>\n",
       "      <td>Верещагин</td>\n",
       "      <td>2018-05-25</td>\n",
       "      <td>ultra</td>\n",
       "      <td>1000</td>\n",
       "      <td>30720</td>\n",
       "      <td>3000</td>\n",
       "      <td>1950</td>\n",
       "      <td>150</td>\n",
       "      <td>1</td>\n",
       "      <td>1</td>\n",
       "    </tr>\n",
       "    <tr>\n",
       "      <th>2</th>\n",
       "      <td>1000</td>\n",
       "      <td>7.0</td>\n",
       "      <td>41.0</td>\n",
       "      <td>340.0</td>\n",
       "      <td>75.0</td>\n",
       "      <td>14003.64</td>\n",
       "      <td>52</td>\n",
       "      <td>NaN</td>\n",
       "      <td>Краснодар</td>\n",
       "      <td>Рафаил</td>\n",
       "      <td>Верещагин</td>\n",
       "      <td>2018-05-25</td>\n",
       "      <td>ultra</td>\n",
       "      <td>1000</td>\n",
       "      <td>30720</td>\n",
       "      <td>3000</td>\n",
       "      <td>1950</td>\n",
       "      <td>150</td>\n",
       "      <td>1</td>\n",
       "      <td>1</td>\n",
       "    </tr>\n",
       "    <tr>\n",
       "      <th>3</th>\n",
       "      <td>1000</td>\n",
       "      <td>8.0</td>\n",
       "      <td>42.0</td>\n",
       "      <td>408.0</td>\n",
       "      <td>81.0</td>\n",
       "      <td>14055.93</td>\n",
       "      <td>52</td>\n",
       "      <td>NaN</td>\n",
       "      <td>Краснодар</td>\n",
       "      <td>Рафаил</td>\n",
       "      <td>Верещагин</td>\n",
       "      <td>2018-05-25</td>\n",
       "      <td>ultra</td>\n",
       "      <td>1000</td>\n",
       "      <td>30720</td>\n",
       "      <td>3000</td>\n",
       "      <td>1950</td>\n",
       "      <td>150</td>\n",
       "      <td>1</td>\n",
       "      <td>1</td>\n",
       "    </tr>\n",
       "    <tr>\n",
       "      <th>4</th>\n",
       "      <td>1000</td>\n",
       "      <td>9.0</td>\n",
       "      <td>46.0</td>\n",
       "      <td>466.0</td>\n",
       "      <td>57.0</td>\n",
       "      <td>14568.91</td>\n",
       "      <td>52</td>\n",
       "      <td>NaN</td>\n",
       "      <td>Краснодар</td>\n",
       "      <td>Рафаил</td>\n",
       "      <td>Верещагин</td>\n",
       "      <td>2018-05-25</td>\n",
       "      <td>ultra</td>\n",
       "      <td>1000</td>\n",
       "      <td>30720</td>\n",
       "      <td>3000</td>\n",
       "      <td>1950</td>\n",
       "      <td>150</td>\n",
       "      <td>1</td>\n",
       "      <td>1</td>\n",
       "    </tr>\n",
       "    <tr>\n",
       "      <th>...</th>\n",
       "      <td>...</td>\n",
       "      <td>...</td>\n",
       "      <td>...</td>\n",
       "      <td>...</td>\n",
       "      <td>...</td>\n",
       "      <td>...</td>\n",
       "      <td>...</td>\n",
       "      <td>...</td>\n",
       "      <td>...</td>\n",
       "      <td>...</td>\n",
       "      <td>...</td>\n",
       "      <td>...</td>\n",
       "      <td>...</td>\n",
       "      <td>...</td>\n",
       "      <td>...</td>\n",
       "      <td>...</td>\n",
       "      <td>...</td>\n",
       "      <td>...</td>\n",
       "      <td>...</td>\n",
       "      <td>...</td>\n",
       "    </tr>\n",
       "    <tr>\n",
       "      <th>3205</th>\n",
       "      <td>1498</td>\n",
       "      <td>10.0</td>\n",
       "      <td>30.0</td>\n",
       "      <td>247.0</td>\n",
       "      <td>42.0</td>\n",
       "      <td>20579.36</td>\n",
       "      <td>68</td>\n",
       "      <td>2018-10-25</td>\n",
       "      <td>Владикавказ</td>\n",
       "      <td>Всеволод</td>\n",
       "      <td>Акимчин</td>\n",
       "      <td>2018-07-19</td>\n",
       "      <td>smart</td>\n",
       "      <td>50</td>\n",
       "      <td>15360</td>\n",
       "      <td>500</td>\n",
       "      <td>550</td>\n",
       "      <td>200</td>\n",
       "      <td>3</td>\n",
       "      <td>3</td>\n",
       "    </tr>\n",
       "    <tr>\n",
       "      <th>3206</th>\n",
       "      <td>1499</td>\n",
       "      <td>9.0</td>\n",
       "      <td>8.0</td>\n",
       "      <td>70.0</td>\n",
       "      <td>11.0</td>\n",
       "      <td>1845.75</td>\n",
       "      <td>35</td>\n",
       "      <td>NaN</td>\n",
       "      <td>Пермь</td>\n",
       "      <td>Гектор</td>\n",
       "      <td>Корнилов</td>\n",
       "      <td>2018-09-27</td>\n",
       "      <td>smart</td>\n",
       "      <td>50</td>\n",
       "      <td>15360</td>\n",
       "      <td>500</td>\n",
       "      <td>550</td>\n",
       "      <td>200</td>\n",
       "      <td>3</td>\n",
       "      <td>3</td>\n",
       "    </tr>\n",
       "    <tr>\n",
       "      <th>3207</th>\n",
       "      <td>1499</td>\n",
       "      <td>10.0</td>\n",
       "      <td>44.0</td>\n",
       "      <td>449.0</td>\n",
       "      <td>48.0</td>\n",
       "      <td>17788.51</td>\n",
       "      <td>35</td>\n",
       "      <td>NaN</td>\n",
       "      <td>Пермь</td>\n",
       "      <td>Гектор</td>\n",
       "      <td>Корнилов</td>\n",
       "      <td>2018-09-27</td>\n",
       "      <td>smart</td>\n",
       "      <td>50</td>\n",
       "      <td>15360</td>\n",
       "      <td>500</td>\n",
       "      <td>550</td>\n",
       "      <td>200</td>\n",
       "      <td>3</td>\n",
       "      <td>3</td>\n",
       "    </tr>\n",
       "    <tr>\n",
       "      <th>3208</th>\n",
       "      <td>1499</td>\n",
       "      <td>11.0</td>\n",
       "      <td>62.0</td>\n",
       "      <td>612.0</td>\n",
       "      <td>59.0</td>\n",
       "      <td>17963.31</td>\n",
       "      <td>35</td>\n",
       "      <td>NaN</td>\n",
       "      <td>Пермь</td>\n",
       "      <td>Гектор</td>\n",
       "      <td>Корнилов</td>\n",
       "      <td>2018-09-27</td>\n",
       "      <td>smart</td>\n",
       "      <td>50</td>\n",
       "      <td>15360</td>\n",
       "      <td>500</td>\n",
       "      <td>550</td>\n",
       "      <td>200</td>\n",
       "      <td>3</td>\n",
       "      <td>3</td>\n",
       "    </tr>\n",
       "    <tr>\n",
       "      <th>3209</th>\n",
       "      <td>1499</td>\n",
       "      <td>12.0</td>\n",
       "      <td>56.0</td>\n",
       "      <td>492.0</td>\n",
       "      <td>66.0</td>\n",
       "      <td>13055.58</td>\n",
       "      <td>35</td>\n",
       "      <td>NaN</td>\n",
       "      <td>Пермь</td>\n",
       "      <td>Гектор</td>\n",
       "      <td>Корнилов</td>\n",
       "      <td>2018-09-27</td>\n",
       "      <td>smart</td>\n",
       "      <td>50</td>\n",
       "      <td>15360</td>\n",
       "      <td>500</td>\n",
       "      <td>550</td>\n",
       "      <td>200</td>\n",
       "      <td>3</td>\n",
       "      <td>3</td>\n",
       "    </tr>\n",
       "  </tbody>\n",
       "</table>\n",
       "<p>3216 rows × 20 columns</p>\n",
       "</div>"
      ],
      "text/plain": [
       "      user_id  month  calls_count  calls_sum  messages_count  mb_used_sum  \\\n",
       "0        1000    5.0         17.0      159.0            22.0      2253.49   \n",
       "1        1000    6.0         28.0      172.0            60.0     23233.77   \n",
       "2        1000    7.0         41.0      340.0            75.0     14003.64   \n",
       "3        1000    8.0         42.0      408.0            81.0     14055.93   \n",
       "4        1000    9.0         46.0      466.0            57.0     14568.91   \n",
       "...       ...    ...          ...        ...             ...          ...   \n",
       "3205     1498   10.0         30.0      247.0            42.0     20579.36   \n",
       "3206     1499    9.0          8.0       70.0            11.0      1845.75   \n",
       "3207     1499   10.0         44.0      449.0            48.0     17788.51   \n",
       "3208     1499   11.0         62.0      612.0            59.0     17963.31   \n",
       "3209     1499   12.0         56.0      492.0            66.0     13055.58   \n",
       "\n",
       "      age  churn_date         city first_name  last_name    reg_date tariff  \\\n",
       "0      52         NaN    Краснодар     Рафаил  Верещагин  2018-05-25  ultra   \n",
       "1      52         NaN    Краснодар     Рафаил  Верещагин  2018-05-25  ultra   \n",
       "2      52         NaN    Краснодар     Рафаил  Верещагин  2018-05-25  ultra   \n",
       "3      52         NaN    Краснодар     Рафаил  Верещагин  2018-05-25  ultra   \n",
       "4      52         NaN    Краснодар     Рафаил  Верещагин  2018-05-25  ultra   \n",
       "...   ...         ...          ...        ...        ...         ...    ...   \n",
       "3205   68  2018-10-25  Владикавказ   Всеволод    Акимчин  2018-07-19  smart   \n",
       "3206   35         NaN        Пермь     Гектор   Корнилов  2018-09-27  smart   \n",
       "3207   35         NaN        Пермь     Гектор   Корнилов  2018-09-27  smart   \n",
       "3208   35         NaN        Пермь     Гектор   Корнилов  2018-09-27  smart   \n",
       "3209   35         NaN        Пермь     Гектор   Корнилов  2018-09-27  smart   \n",
       "\n",
       "      messages_included  mb_per_month_included  minutes_included  \\\n",
       "0                  1000                  30720              3000   \n",
       "1                  1000                  30720              3000   \n",
       "2                  1000                  30720              3000   \n",
       "3                  1000                  30720              3000   \n",
       "4                  1000                  30720              3000   \n",
       "...                 ...                    ...               ...   \n",
       "3205                 50                  15360               500   \n",
       "3206                 50                  15360               500   \n",
       "3207                 50                  15360               500   \n",
       "3208                 50                  15360               500   \n",
       "3209                 50                  15360               500   \n",
       "\n",
       "      rub_monthly_fee  rub_per_gb  rub_per_message  rub_per_minute  \n",
       "0                1950         150                1               1  \n",
       "1                1950         150                1               1  \n",
       "2                1950         150                1               1  \n",
       "3                1950         150                1               1  \n",
       "4                1950         150                1               1  \n",
       "...               ...         ...              ...             ...  \n",
       "3205              550         200                3               3  \n",
       "3206              550         200                3               3  \n",
       "3207              550         200                3               3  \n",
       "3208              550         200                3               3  \n",
       "3209              550         200                3               3  \n",
       "\n",
       "[3216 rows x 20 columns]"
      ]
     },
     "execution_count": 29,
     "metadata": {},
     "output_type": "execute_result"
    }
   ],
   "source": [
    "full_data = data_calls_pivot.merge(data_messages_pivot, on=['user_id', 'month'], how='outer')\n",
    "full_data = full_data.merge(data_internet_pivot, on=['user_id', 'month'], how='outer')\n",
    "full_data = full_data.merge(data_users, on='user_id', how='outer')\n",
    "full_data = full_data.merge(data_tariffs, on='tariff', how='outer')\n",
    "full_data = full_data.sort_values(by=['user_id', 'month'])\n",
    "full_data"
   ]
  },
  {
   "cell_type": "code",
   "execution_count": 30,
   "metadata": {
    "scrolled": true
   },
   "outputs": [
    {
     "name": "stdout",
     "output_type": "stream",
     "text": [
      "<class 'pandas.core.frame.DataFrame'>\n",
      "Int64Index: 3216 entries, 0 to 3209\n",
      "Data columns (total 20 columns):\n",
      " #   Column                 Non-Null Count  Dtype  \n",
      "---  ------                 --------------  -----  \n",
      " 0   user_id                3216 non-null   int64  \n",
      " 1   month                  3214 non-null   float64\n",
      " 2   calls_count            3168 non-null   float64\n",
      " 3   calls_sum              3168 non-null   float64\n",
      " 4   messages_count         2717 non-null   float64\n",
      " 5   mb_used_sum            3203 non-null   float64\n",
      " 6   age                    3216 non-null   int64  \n",
      " 7   churn_date             189 non-null    object \n",
      " 8   city                   3216 non-null   object \n",
      " 9   first_name             3216 non-null   object \n",
      " 10  last_name              3216 non-null   object \n",
      " 11  reg_date               3216 non-null   object \n",
      " 12  tariff                 3216 non-null   object \n",
      " 13  messages_included      3216 non-null   int64  \n",
      " 14  mb_per_month_included  3216 non-null   int64  \n",
      " 15  minutes_included       3216 non-null   int64  \n",
      " 16  rub_monthly_fee        3216 non-null   int64  \n",
      " 17  rub_per_gb             3216 non-null   int64  \n",
      " 18  rub_per_message        3216 non-null   int64  \n",
      " 19  rub_per_minute         3216 non-null   int64  \n",
      "dtypes: float64(5), int64(9), object(6)\n",
      "memory usage: 527.6+ KB\n"
     ]
    }
   ],
   "source": [
    "full_data.info()"
   ]
  },
  {
   "cell_type": "code",
   "execution_count": 31,
   "metadata": {
    "scrolled": false
   },
   "outputs": [
    {
     "name": "stdout",
     "output_type": "stream",
     "text": [
      "<class 'pandas.core.frame.DataFrame'>\n",
      "Int64Index: 3216 entries, 0 to 3209\n",
      "Data columns (total 20 columns):\n",
      " #   Column                 Non-Null Count  Dtype  \n",
      "---  ------                 --------------  -----  \n",
      " 0   user_id                3216 non-null   int64  \n",
      " 1   month                  3214 non-null   float64\n",
      " 2   calls_count            3216 non-null   float64\n",
      " 3   calls_sum              3216 non-null   float64\n",
      " 4   messages_count         3216 non-null   float64\n",
      " 5   mb_used_sum            3216 non-null   float64\n",
      " 6   age                    3216 non-null   int64  \n",
      " 7   churn_date             189 non-null    object \n",
      " 8   city                   3216 non-null   object \n",
      " 9   first_name             3216 non-null   object \n",
      " 10  last_name              3216 non-null   object \n",
      " 11  reg_date               3216 non-null   object \n",
      " 12  tariff                 3216 non-null   object \n",
      " 13  messages_included      3216 non-null   int64  \n",
      " 14  mb_per_month_included  3216 non-null   int64  \n",
      " 15  minutes_included       3216 non-null   int64  \n",
      " 16  rub_monthly_fee        3216 non-null   int64  \n",
      " 17  rub_per_gb             3216 non-null   int64  \n",
      " 18  rub_per_message        3216 non-null   int64  \n",
      " 19  rub_per_minute         3216 non-null   int64  \n",
      "dtypes: float64(5), int64(9), object(6)\n",
      "memory usage: 527.6+ KB\n"
     ]
    }
   ],
   "source": [
    "full_data['calls_count'] = full_data['calls_count'].fillna(0)\n",
    "full_data['calls_sum'] = full_data['calls_sum'].fillna(0)\n",
    "full_data['messages_count'] = full_data['messages_count'].fillna(0)\n",
    "full_data['mb_used_sum'] = full_data['mb_used_sum'].fillna(0)\n",
    "full_data.info()"
   ]
  },
  {
   "cell_type": "code",
   "execution_count": 32,
   "metadata": {},
   "outputs": [
    {
     "data": {
      "text/html": [
       "<div>\n",
       "<style scoped>\n",
       "    .dataframe tbody tr th:only-of-type {\n",
       "        vertical-align: middle;\n",
       "    }\n",
       "\n",
       "    .dataframe tbody tr th {\n",
       "        vertical-align: top;\n",
       "    }\n",
       "\n",
       "    .dataframe thead th {\n",
       "        text-align: right;\n",
       "    }\n",
       "</style>\n",
       "<table border=\"1\" class=\"dataframe\">\n",
       "  <thead>\n",
       "    <tr style=\"text-align: right;\">\n",
       "      <th></th>\n",
       "      <th>user_id</th>\n",
       "      <th>month</th>\n",
       "      <th>calls_count</th>\n",
       "      <th>calls_sum</th>\n",
       "      <th>messages_count</th>\n",
       "      <th>mb_used_sum</th>\n",
       "      <th>age</th>\n",
       "      <th>churn_date</th>\n",
       "      <th>city</th>\n",
       "      <th>first_name</th>\n",
       "      <th>...</th>\n",
       "      <th>messages_included</th>\n",
       "      <th>mb_per_month_included</th>\n",
       "      <th>minutes_included</th>\n",
       "      <th>rub_monthly_fee</th>\n",
       "      <th>rub_per_gb</th>\n",
       "      <th>rub_per_message</th>\n",
       "      <th>rub_per_minute</th>\n",
       "      <th>dif_message</th>\n",
       "      <th>dif_minutes</th>\n",
       "      <th>dif_mb</th>\n",
       "    </tr>\n",
       "  </thead>\n",
       "  <tbody>\n",
       "    <tr>\n",
       "      <th>0</th>\n",
       "      <td>1000</td>\n",
       "      <td>5.0</td>\n",
       "      <td>17.0</td>\n",
       "      <td>159.0</td>\n",
       "      <td>22.0</td>\n",
       "      <td>2253.49</td>\n",
       "      <td>52</td>\n",
       "      <td>NaN</td>\n",
       "      <td>Краснодар</td>\n",
       "      <td>Рафаил</td>\n",
       "      <td>...</td>\n",
       "      <td>1000</td>\n",
       "      <td>30720</td>\n",
       "      <td>3000</td>\n",
       "      <td>1950</td>\n",
       "      <td>150</td>\n",
       "      <td>1</td>\n",
       "      <td>1</td>\n",
       "      <td>-978.0</td>\n",
       "      <td>-2841.0</td>\n",
       "      <td>-28466.51</td>\n",
       "    </tr>\n",
       "    <tr>\n",
       "      <th>1</th>\n",
       "      <td>1000</td>\n",
       "      <td>6.0</td>\n",
       "      <td>28.0</td>\n",
       "      <td>172.0</td>\n",
       "      <td>60.0</td>\n",
       "      <td>23233.77</td>\n",
       "      <td>52</td>\n",
       "      <td>NaN</td>\n",
       "      <td>Краснодар</td>\n",
       "      <td>Рафаил</td>\n",
       "      <td>...</td>\n",
       "      <td>1000</td>\n",
       "      <td>30720</td>\n",
       "      <td>3000</td>\n",
       "      <td>1950</td>\n",
       "      <td>150</td>\n",
       "      <td>1</td>\n",
       "      <td>1</td>\n",
       "      <td>-940.0</td>\n",
       "      <td>-2828.0</td>\n",
       "      <td>-7486.23</td>\n",
       "    </tr>\n",
       "    <tr>\n",
       "      <th>2</th>\n",
       "      <td>1000</td>\n",
       "      <td>7.0</td>\n",
       "      <td>41.0</td>\n",
       "      <td>340.0</td>\n",
       "      <td>75.0</td>\n",
       "      <td>14003.64</td>\n",
       "      <td>52</td>\n",
       "      <td>NaN</td>\n",
       "      <td>Краснодар</td>\n",
       "      <td>Рафаил</td>\n",
       "      <td>...</td>\n",
       "      <td>1000</td>\n",
       "      <td>30720</td>\n",
       "      <td>3000</td>\n",
       "      <td>1950</td>\n",
       "      <td>150</td>\n",
       "      <td>1</td>\n",
       "      <td>1</td>\n",
       "      <td>-925.0</td>\n",
       "      <td>-2660.0</td>\n",
       "      <td>-16716.36</td>\n",
       "    </tr>\n",
       "    <tr>\n",
       "      <th>3</th>\n",
       "      <td>1000</td>\n",
       "      <td>8.0</td>\n",
       "      <td>42.0</td>\n",
       "      <td>408.0</td>\n",
       "      <td>81.0</td>\n",
       "      <td>14055.93</td>\n",
       "      <td>52</td>\n",
       "      <td>NaN</td>\n",
       "      <td>Краснодар</td>\n",
       "      <td>Рафаил</td>\n",
       "      <td>...</td>\n",
       "      <td>1000</td>\n",
       "      <td>30720</td>\n",
       "      <td>3000</td>\n",
       "      <td>1950</td>\n",
       "      <td>150</td>\n",
       "      <td>1</td>\n",
       "      <td>1</td>\n",
       "      <td>-919.0</td>\n",
       "      <td>-2592.0</td>\n",
       "      <td>-16664.07</td>\n",
       "    </tr>\n",
       "    <tr>\n",
       "      <th>4</th>\n",
       "      <td>1000</td>\n",
       "      <td>9.0</td>\n",
       "      <td>46.0</td>\n",
       "      <td>466.0</td>\n",
       "      <td>57.0</td>\n",
       "      <td>14568.91</td>\n",
       "      <td>52</td>\n",
       "      <td>NaN</td>\n",
       "      <td>Краснодар</td>\n",
       "      <td>Рафаил</td>\n",
       "      <td>...</td>\n",
       "      <td>1000</td>\n",
       "      <td>30720</td>\n",
       "      <td>3000</td>\n",
       "      <td>1950</td>\n",
       "      <td>150</td>\n",
       "      <td>1</td>\n",
       "      <td>1</td>\n",
       "      <td>-943.0</td>\n",
       "      <td>-2534.0</td>\n",
       "      <td>-16151.09</td>\n",
       "    </tr>\n",
       "    <tr>\n",
       "      <th>...</th>\n",
       "      <td>...</td>\n",
       "      <td>...</td>\n",
       "      <td>...</td>\n",
       "      <td>...</td>\n",
       "      <td>...</td>\n",
       "      <td>...</td>\n",
       "      <td>...</td>\n",
       "      <td>...</td>\n",
       "      <td>...</td>\n",
       "      <td>...</td>\n",
       "      <td>...</td>\n",
       "      <td>...</td>\n",
       "      <td>...</td>\n",
       "      <td>...</td>\n",
       "      <td>...</td>\n",
       "      <td>...</td>\n",
       "      <td>...</td>\n",
       "      <td>...</td>\n",
       "      <td>...</td>\n",
       "      <td>...</td>\n",
       "      <td>...</td>\n",
       "    </tr>\n",
       "    <tr>\n",
       "      <th>3205</th>\n",
       "      <td>1498</td>\n",
       "      <td>10.0</td>\n",
       "      <td>30.0</td>\n",
       "      <td>247.0</td>\n",
       "      <td>42.0</td>\n",
       "      <td>20579.36</td>\n",
       "      <td>68</td>\n",
       "      <td>2018-10-25</td>\n",
       "      <td>Владикавказ</td>\n",
       "      <td>Всеволод</td>\n",
       "      <td>...</td>\n",
       "      <td>50</td>\n",
       "      <td>15360</td>\n",
       "      <td>500</td>\n",
       "      <td>550</td>\n",
       "      <td>200</td>\n",
       "      <td>3</td>\n",
       "      <td>3</td>\n",
       "      <td>-8.0</td>\n",
       "      <td>-253.0</td>\n",
       "      <td>5219.36</td>\n",
       "    </tr>\n",
       "    <tr>\n",
       "      <th>3206</th>\n",
       "      <td>1499</td>\n",
       "      <td>9.0</td>\n",
       "      <td>8.0</td>\n",
       "      <td>70.0</td>\n",
       "      <td>11.0</td>\n",
       "      <td>1845.75</td>\n",
       "      <td>35</td>\n",
       "      <td>NaN</td>\n",
       "      <td>Пермь</td>\n",
       "      <td>Гектор</td>\n",
       "      <td>...</td>\n",
       "      <td>50</td>\n",
       "      <td>15360</td>\n",
       "      <td>500</td>\n",
       "      <td>550</td>\n",
       "      <td>200</td>\n",
       "      <td>3</td>\n",
       "      <td>3</td>\n",
       "      <td>-39.0</td>\n",
       "      <td>-430.0</td>\n",
       "      <td>-13514.25</td>\n",
       "    </tr>\n",
       "    <tr>\n",
       "      <th>3207</th>\n",
       "      <td>1499</td>\n",
       "      <td>10.0</td>\n",
       "      <td>44.0</td>\n",
       "      <td>449.0</td>\n",
       "      <td>48.0</td>\n",
       "      <td>17788.51</td>\n",
       "      <td>35</td>\n",
       "      <td>NaN</td>\n",
       "      <td>Пермь</td>\n",
       "      <td>Гектор</td>\n",
       "      <td>...</td>\n",
       "      <td>50</td>\n",
       "      <td>15360</td>\n",
       "      <td>500</td>\n",
       "      <td>550</td>\n",
       "      <td>200</td>\n",
       "      <td>3</td>\n",
       "      <td>3</td>\n",
       "      <td>-2.0</td>\n",
       "      <td>-51.0</td>\n",
       "      <td>2428.51</td>\n",
       "    </tr>\n",
       "    <tr>\n",
       "      <th>3208</th>\n",
       "      <td>1499</td>\n",
       "      <td>11.0</td>\n",
       "      <td>62.0</td>\n",
       "      <td>612.0</td>\n",
       "      <td>59.0</td>\n",
       "      <td>17963.31</td>\n",
       "      <td>35</td>\n",
       "      <td>NaN</td>\n",
       "      <td>Пермь</td>\n",
       "      <td>Гектор</td>\n",
       "      <td>...</td>\n",
       "      <td>50</td>\n",
       "      <td>15360</td>\n",
       "      <td>500</td>\n",
       "      <td>550</td>\n",
       "      <td>200</td>\n",
       "      <td>3</td>\n",
       "      <td>3</td>\n",
       "      <td>9.0</td>\n",
       "      <td>112.0</td>\n",
       "      <td>2603.31</td>\n",
       "    </tr>\n",
       "    <tr>\n",
       "      <th>3209</th>\n",
       "      <td>1499</td>\n",
       "      <td>12.0</td>\n",
       "      <td>56.0</td>\n",
       "      <td>492.0</td>\n",
       "      <td>66.0</td>\n",
       "      <td>13055.58</td>\n",
       "      <td>35</td>\n",
       "      <td>NaN</td>\n",
       "      <td>Пермь</td>\n",
       "      <td>Гектор</td>\n",
       "      <td>...</td>\n",
       "      <td>50</td>\n",
       "      <td>15360</td>\n",
       "      <td>500</td>\n",
       "      <td>550</td>\n",
       "      <td>200</td>\n",
       "      <td>3</td>\n",
       "      <td>3</td>\n",
       "      <td>16.0</td>\n",
       "      <td>-8.0</td>\n",
       "      <td>-2304.42</td>\n",
       "    </tr>\n",
       "  </tbody>\n",
       "</table>\n",
       "<p>3216 rows × 23 columns</p>\n",
       "</div>"
      ],
      "text/plain": [
       "      user_id  month  calls_count  calls_sum  messages_count  mb_used_sum  \\\n",
       "0        1000    5.0         17.0      159.0            22.0      2253.49   \n",
       "1        1000    6.0         28.0      172.0            60.0     23233.77   \n",
       "2        1000    7.0         41.0      340.0            75.0     14003.64   \n",
       "3        1000    8.0         42.0      408.0            81.0     14055.93   \n",
       "4        1000    9.0         46.0      466.0            57.0     14568.91   \n",
       "...       ...    ...          ...        ...             ...          ...   \n",
       "3205     1498   10.0         30.0      247.0            42.0     20579.36   \n",
       "3206     1499    9.0          8.0       70.0            11.0      1845.75   \n",
       "3207     1499   10.0         44.0      449.0            48.0     17788.51   \n",
       "3208     1499   11.0         62.0      612.0            59.0     17963.31   \n",
       "3209     1499   12.0         56.0      492.0            66.0     13055.58   \n",
       "\n",
       "      age  churn_date         city first_name  ... messages_included  \\\n",
       "0      52         NaN    Краснодар     Рафаил  ...              1000   \n",
       "1      52         NaN    Краснодар     Рафаил  ...              1000   \n",
       "2      52         NaN    Краснодар     Рафаил  ...              1000   \n",
       "3      52         NaN    Краснодар     Рафаил  ...              1000   \n",
       "4      52         NaN    Краснодар     Рафаил  ...              1000   \n",
       "...   ...         ...          ...        ...  ...               ...   \n",
       "3205   68  2018-10-25  Владикавказ   Всеволод  ...                50   \n",
       "3206   35         NaN        Пермь     Гектор  ...                50   \n",
       "3207   35         NaN        Пермь     Гектор  ...                50   \n",
       "3208   35         NaN        Пермь     Гектор  ...                50   \n",
       "3209   35         NaN        Пермь     Гектор  ...                50   \n",
       "\n",
       "     mb_per_month_included minutes_included  rub_monthly_fee  rub_per_gb  \\\n",
       "0                    30720             3000             1950         150   \n",
       "1                    30720             3000             1950         150   \n",
       "2                    30720             3000             1950         150   \n",
       "3                    30720             3000             1950         150   \n",
       "4                    30720             3000             1950         150   \n",
       "...                    ...              ...              ...         ...   \n",
       "3205                 15360              500              550         200   \n",
       "3206                 15360              500              550         200   \n",
       "3207                 15360              500              550         200   \n",
       "3208                 15360              500              550         200   \n",
       "3209                 15360              500              550         200   \n",
       "\n",
       "      rub_per_message  rub_per_minute  dif_message  dif_minutes    dif_mb  \n",
       "0                   1               1       -978.0      -2841.0 -28466.51  \n",
       "1                   1               1       -940.0      -2828.0  -7486.23  \n",
       "2                   1               1       -925.0      -2660.0 -16716.36  \n",
       "3                   1               1       -919.0      -2592.0 -16664.07  \n",
       "4                   1               1       -943.0      -2534.0 -16151.09  \n",
       "...               ...             ...          ...          ...       ...  \n",
       "3205                3               3         -8.0       -253.0   5219.36  \n",
       "3206                3               3        -39.0       -430.0 -13514.25  \n",
       "3207                3               3         -2.0        -51.0   2428.51  \n",
       "3208                3               3          9.0        112.0   2603.31  \n",
       "3209                3               3         16.0         -8.0  -2304.42  \n",
       "\n",
       "[3216 rows x 23 columns]"
      ]
     },
     "execution_count": 32,
     "metadata": {},
     "output_type": "execute_result"
    }
   ],
   "source": [
    "full_data['dif_message'] = full_data['messages_count'] - full_data['messages_included']\n",
    "full_data['dif_minutes'] = full_data['calls_sum'] - full_data['minutes_included']\n",
    "full_data['dif_mb'] = full_data['mb_used_sum'] - full_data['mb_per_month_included']\n",
    "full_data"
   ]
  },
  {
   "cell_type": "code",
   "execution_count": 33,
   "metadata": {},
   "outputs": [
    {
     "data": {
      "text/html": [
       "<div>\n",
       "<style scoped>\n",
       "    .dataframe tbody tr th:only-of-type {\n",
       "        vertical-align: middle;\n",
       "    }\n",
       "\n",
       "    .dataframe tbody tr th {\n",
       "        vertical-align: top;\n",
       "    }\n",
       "\n",
       "    .dataframe thead th {\n",
       "        text-align: right;\n",
       "    }\n",
       "</style>\n",
       "<table border=\"1\" class=\"dataframe\">\n",
       "  <thead>\n",
       "    <tr style=\"text-align: right;\">\n",
       "      <th></th>\n",
       "      <th>user_id</th>\n",
       "      <th>month</th>\n",
       "      <th>calls_count</th>\n",
       "      <th>calls_sum</th>\n",
       "      <th>messages_count</th>\n",
       "      <th>mb_used_sum</th>\n",
       "      <th>age</th>\n",
       "      <th>churn_date</th>\n",
       "      <th>city</th>\n",
       "      <th>first_name</th>\n",
       "      <th>...</th>\n",
       "      <th>mb_per_month_included</th>\n",
       "      <th>minutes_included</th>\n",
       "      <th>rub_monthly_fee</th>\n",
       "      <th>rub_per_gb</th>\n",
       "      <th>rub_per_message</th>\n",
       "      <th>rub_per_minute</th>\n",
       "      <th>dif_message</th>\n",
       "      <th>dif_minutes</th>\n",
       "      <th>dif_mb</th>\n",
       "      <th>dif_gb</th>\n",
       "    </tr>\n",
       "  </thead>\n",
       "  <tbody>\n",
       "    <tr>\n",
       "      <th>0</th>\n",
       "      <td>1000</td>\n",
       "      <td>5.0</td>\n",
       "      <td>17.0</td>\n",
       "      <td>159.0</td>\n",
       "      <td>22.0</td>\n",
       "      <td>2253.49</td>\n",
       "      <td>52</td>\n",
       "      <td>NaN</td>\n",
       "      <td>Краснодар</td>\n",
       "      <td>Рафаил</td>\n",
       "      <td>...</td>\n",
       "      <td>30720</td>\n",
       "      <td>3000</td>\n",
       "      <td>1950</td>\n",
       "      <td>150</td>\n",
       "      <td>1</td>\n",
       "      <td>1</td>\n",
       "      <td>0.0</td>\n",
       "      <td>0.0</td>\n",
       "      <td>0.00</td>\n",
       "      <td>0.0</td>\n",
       "    </tr>\n",
       "    <tr>\n",
       "      <th>1</th>\n",
       "      <td>1000</td>\n",
       "      <td>6.0</td>\n",
       "      <td>28.0</td>\n",
       "      <td>172.0</td>\n",
       "      <td>60.0</td>\n",
       "      <td>23233.77</td>\n",
       "      <td>52</td>\n",
       "      <td>NaN</td>\n",
       "      <td>Краснодар</td>\n",
       "      <td>Рафаил</td>\n",
       "      <td>...</td>\n",
       "      <td>30720</td>\n",
       "      <td>3000</td>\n",
       "      <td>1950</td>\n",
       "      <td>150</td>\n",
       "      <td>1</td>\n",
       "      <td>1</td>\n",
       "      <td>0.0</td>\n",
       "      <td>0.0</td>\n",
       "      <td>0.00</td>\n",
       "      <td>0.0</td>\n",
       "    </tr>\n",
       "    <tr>\n",
       "      <th>2</th>\n",
       "      <td>1000</td>\n",
       "      <td>7.0</td>\n",
       "      <td>41.0</td>\n",
       "      <td>340.0</td>\n",
       "      <td>75.0</td>\n",
       "      <td>14003.64</td>\n",
       "      <td>52</td>\n",
       "      <td>NaN</td>\n",
       "      <td>Краснодар</td>\n",
       "      <td>Рафаил</td>\n",
       "      <td>...</td>\n",
       "      <td>30720</td>\n",
       "      <td>3000</td>\n",
       "      <td>1950</td>\n",
       "      <td>150</td>\n",
       "      <td>1</td>\n",
       "      <td>1</td>\n",
       "      <td>0.0</td>\n",
       "      <td>0.0</td>\n",
       "      <td>0.00</td>\n",
       "      <td>0.0</td>\n",
       "    </tr>\n",
       "    <tr>\n",
       "      <th>3</th>\n",
       "      <td>1000</td>\n",
       "      <td>8.0</td>\n",
       "      <td>42.0</td>\n",
       "      <td>408.0</td>\n",
       "      <td>81.0</td>\n",
       "      <td>14055.93</td>\n",
       "      <td>52</td>\n",
       "      <td>NaN</td>\n",
       "      <td>Краснодар</td>\n",
       "      <td>Рафаил</td>\n",
       "      <td>...</td>\n",
       "      <td>30720</td>\n",
       "      <td>3000</td>\n",
       "      <td>1950</td>\n",
       "      <td>150</td>\n",
       "      <td>1</td>\n",
       "      <td>1</td>\n",
       "      <td>0.0</td>\n",
       "      <td>0.0</td>\n",
       "      <td>0.00</td>\n",
       "      <td>0.0</td>\n",
       "    </tr>\n",
       "    <tr>\n",
       "      <th>4</th>\n",
       "      <td>1000</td>\n",
       "      <td>9.0</td>\n",
       "      <td>46.0</td>\n",
       "      <td>466.0</td>\n",
       "      <td>57.0</td>\n",
       "      <td>14568.91</td>\n",
       "      <td>52</td>\n",
       "      <td>NaN</td>\n",
       "      <td>Краснодар</td>\n",
       "      <td>Рафаил</td>\n",
       "      <td>...</td>\n",
       "      <td>30720</td>\n",
       "      <td>3000</td>\n",
       "      <td>1950</td>\n",
       "      <td>150</td>\n",
       "      <td>1</td>\n",
       "      <td>1</td>\n",
       "      <td>0.0</td>\n",
       "      <td>0.0</td>\n",
       "      <td>0.00</td>\n",
       "      <td>0.0</td>\n",
       "    </tr>\n",
       "    <tr>\n",
       "      <th>...</th>\n",
       "      <td>...</td>\n",
       "      <td>...</td>\n",
       "      <td>...</td>\n",
       "      <td>...</td>\n",
       "      <td>...</td>\n",
       "      <td>...</td>\n",
       "      <td>...</td>\n",
       "      <td>...</td>\n",
       "      <td>...</td>\n",
       "      <td>...</td>\n",
       "      <td>...</td>\n",
       "      <td>...</td>\n",
       "      <td>...</td>\n",
       "      <td>...</td>\n",
       "      <td>...</td>\n",
       "      <td>...</td>\n",
       "      <td>...</td>\n",
       "      <td>...</td>\n",
       "      <td>...</td>\n",
       "      <td>...</td>\n",
       "      <td>...</td>\n",
       "    </tr>\n",
       "    <tr>\n",
       "      <th>3205</th>\n",
       "      <td>1498</td>\n",
       "      <td>10.0</td>\n",
       "      <td>30.0</td>\n",
       "      <td>247.0</td>\n",
       "      <td>42.0</td>\n",
       "      <td>20579.36</td>\n",
       "      <td>68</td>\n",
       "      <td>2018-10-25</td>\n",
       "      <td>Владикавказ</td>\n",
       "      <td>Всеволод</td>\n",
       "      <td>...</td>\n",
       "      <td>15360</td>\n",
       "      <td>500</td>\n",
       "      <td>550</td>\n",
       "      <td>200</td>\n",
       "      <td>3</td>\n",
       "      <td>3</td>\n",
       "      <td>0.0</td>\n",
       "      <td>0.0</td>\n",
       "      <td>5219.36</td>\n",
       "      <td>6.0</td>\n",
       "    </tr>\n",
       "    <tr>\n",
       "      <th>3206</th>\n",
       "      <td>1499</td>\n",
       "      <td>9.0</td>\n",
       "      <td>8.0</td>\n",
       "      <td>70.0</td>\n",
       "      <td>11.0</td>\n",
       "      <td>1845.75</td>\n",
       "      <td>35</td>\n",
       "      <td>NaN</td>\n",
       "      <td>Пермь</td>\n",
       "      <td>Гектор</td>\n",
       "      <td>...</td>\n",
       "      <td>15360</td>\n",
       "      <td>500</td>\n",
       "      <td>550</td>\n",
       "      <td>200</td>\n",
       "      <td>3</td>\n",
       "      <td>3</td>\n",
       "      <td>0.0</td>\n",
       "      <td>0.0</td>\n",
       "      <td>0.00</td>\n",
       "      <td>0.0</td>\n",
       "    </tr>\n",
       "    <tr>\n",
       "      <th>3207</th>\n",
       "      <td>1499</td>\n",
       "      <td>10.0</td>\n",
       "      <td>44.0</td>\n",
       "      <td>449.0</td>\n",
       "      <td>48.0</td>\n",
       "      <td>17788.51</td>\n",
       "      <td>35</td>\n",
       "      <td>NaN</td>\n",
       "      <td>Пермь</td>\n",
       "      <td>Гектор</td>\n",
       "      <td>...</td>\n",
       "      <td>15360</td>\n",
       "      <td>500</td>\n",
       "      <td>550</td>\n",
       "      <td>200</td>\n",
       "      <td>3</td>\n",
       "      <td>3</td>\n",
       "      <td>0.0</td>\n",
       "      <td>0.0</td>\n",
       "      <td>2428.51</td>\n",
       "      <td>3.0</td>\n",
       "    </tr>\n",
       "    <tr>\n",
       "      <th>3208</th>\n",
       "      <td>1499</td>\n",
       "      <td>11.0</td>\n",
       "      <td>62.0</td>\n",
       "      <td>612.0</td>\n",
       "      <td>59.0</td>\n",
       "      <td>17963.31</td>\n",
       "      <td>35</td>\n",
       "      <td>NaN</td>\n",
       "      <td>Пермь</td>\n",
       "      <td>Гектор</td>\n",
       "      <td>...</td>\n",
       "      <td>15360</td>\n",
       "      <td>500</td>\n",
       "      <td>550</td>\n",
       "      <td>200</td>\n",
       "      <td>3</td>\n",
       "      <td>3</td>\n",
       "      <td>9.0</td>\n",
       "      <td>112.0</td>\n",
       "      <td>2603.31</td>\n",
       "      <td>3.0</td>\n",
       "    </tr>\n",
       "    <tr>\n",
       "      <th>3209</th>\n",
       "      <td>1499</td>\n",
       "      <td>12.0</td>\n",
       "      <td>56.0</td>\n",
       "      <td>492.0</td>\n",
       "      <td>66.0</td>\n",
       "      <td>13055.58</td>\n",
       "      <td>35</td>\n",
       "      <td>NaN</td>\n",
       "      <td>Пермь</td>\n",
       "      <td>Гектор</td>\n",
       "      <td>...</td>\n",
       "      <td>15360</td>\n",
       "      <td>500</td>\n",
       "      <td>550</td>\n",
       "      <td>200</td>\n",
       "      <td>3</td>\n",
       "      <td>3</td>\n",
       "      <td>16.0</td>\n",
       "      <td>0.0</td>\n",
       "      <td>0.00</td>\n",
       "      <td>0.0</td>\n",
       "    </tr>\n",
       "  </tbody>\n",
       "</table>\n",
       "<p>3216 rows × 24 columns</p>\n",
       "</div>"
      ],
      "text/plain": [
       "      user_id  month  calls_count  calls_sum  messages_count  mb_used_sum  \\\n",
       "0        1000    5.0         17.0      159.0            22.0      2253.49   \n",
       "1        1000    6.0         28.0      172.0            60.0     23233.77   \n",
       "2        1000    7.0         41.0      340.0            75.0     14003.64   \n",
       "3        1000    8.0         42.0      408.0            81.0     14055.93   \n",
       "4        1000    9.0         46.0      466.0            57.0     14568.91   \n",
       "...       ...    ...          ...        ...             ...          ...   \n",
       "3205     1498   10.0         30.0      247.0            42.0     20579.36   \n",
       "3206     1499    9.0          8.0       70.0            11.0      1845.75   \n",
       "3207     1499   10.0         44.0      449.0            48.0     17788.51   \n",
       "3208     1499   11.0         62.0      612.0            59.0     17963.31   \n",
       "3209     1499   12.0         56.0      492.0            66.0     13055.58   \n",
       "\n",
       "      age  churn_date         city first_name  ... mb_per_month_included  \\\n",
       "0      52         NaN    Краснодар     Рафаил  ...                 30720   \n",
       "1      52         NaN    Краснодар     Рафаил  ...                 30720   \n",
       "2      52         NaN    Краснодар     Рафаил  ...                 30720   \n",
       "3      52         NaN    Краснодар     Рафаил  ...                 30720   \n",
       "4      52         NaN    Краснодар     Рафаил  ...                 30720   \n",
       "...   ...         ...          ...        ...  ...                   ...   \n",
       "3205   68  2018-10-25  Владикавказ   Всеволод  ...                 15360   \n",
       "3206   35         NaN        Пермь     Гектор  ...                 15360   \n",
       "3207   35         NaN        Пермь     Гектор  ...                 15360   \n",
       "3208   35         NaN        Пермь     Гектор  ...                 15360   \n",
       "3209   35         NaN        Пермь     Гектор  ...                 15360   \n",
       "\n",
       "     minutes_included rub_monthly_fee  rub_per_gb  rub_per_message  \\\n",
       "0                3000            1950         150                1   \n",
       "1                3000            1950         150                1   \n",
       "2                3000            1950         150                1   \n",
       "3                3000            1950         150                1   \n",
       "4                3000            1950         150                1   \n",
       "...               ...             ...         ...              ...   \n",
       "3205              500             550         200                3   \n",
       "3206              500             550         200                3   \n",
       "3207              500             550         200                3   \n",
       "3208              500             550         200                3   \n",
       "3209              500             550         200                3   \n",
       "\n",
       "      rub_per_minute  dif_message  dif_minutes   dif_mb  dif_gb  \n",
       "0                  1          0.0          0.0     0.00     0.0  \n",
       "1                  1          0.0          0.0     0.00     0.0  \n",
       "2                  1          0.0          0.0     0.00     0.0  \n",
       "3                  1          0.0          0.0     0.00     0.0  \n",
       "4                  1          0.0          0.0     0.00     0.0  \n",
       "...              ...          ...          ...      ...     ...  \n",
       "3205               3          0.0          0.0  5219.36     6.0  \n",
       "3206               3          0.0          0.0     0.00     0.0  \n",
       "3207               3          0.0          0.0  2428.51     3.0  \n",
       "3208               3          9.0        112.0  2603.31     3.0  \n",
       "3209               3         16.0          0.0     0.00     0.0  \n",
       "\n",
       "[3216 rows x 24 columns]"
      ]
     },
     "execution_count": 33,
     "metadata": {},
     "output_type": "execute_result"
    }
   ],
   "source": [
    "full_data['dif_message'] = full_data['dif_message'].where(full_data['dif_message'] > 0, 0)\n",
    "full_data['dif_minutes'] = full_data['dif_minutes'].where(full_data['dif_minutes'] > 0, 0)\n",
    "full_data['dif_mb'] = full_data['dif_mb'].where(full_data['dif_mb'] > 0, 0)\n",
    "\n",
    "full_data['dif_gb'] = np.ceil(full_data['dif_mb'] / 1024)\n",
    "\n",
    "full_data"
   ]
  },
  {
   "cell_type": "code",
   "execution_count": 34,
   "metadata": {},
   "outputs": [
    {
     "data": {
      "text/html": [
       "<div>\n",
       "<style scoped>\n",
       "    .dataframe tbody tr th:only-of-type {\n",
       "        vertical-align: middle;\n",
       "    }\n",
       "\n",
       "    .dataframe tbody tr th {\n",
       "        vertical-align: top;\n",
       "    }\n",
       "\n",
       "    .dataframe thead th {\n",
       "        text-align: right;\n",
       "    }\n",
       "</style>\n",
       "<table border=\"1\" class=\"dataframe\">\n",
       "  <thead>\n",
       "    <tr style=\"text-align: right;\">\n",
       "      <th></th>\n",
       "      <th>user_id</th>\n",
       "      <th>month</th>\n",
       "      <th>calls_count</th>\n",
       "      <th>calls_sum</th>\n",
       "      <th>messages_count</th>\n",
       "      <th>mb_used_sum</th>\n",
       "      <th>age</th>\n",
       "      <th>churn_date</th>\n",
       "      <th>city</th>\n",
       "      <th>first_name</th>\n",
       "      <th>...</th>\n",
       "      <th>minutes_included</th>\n",
       "      <th>rub_monthly_fee</th>\n",
       "      <th>rub_per_gb</th>\n",
       "      <th>rub_per_message</th>\n",
       "      <th>rub_per_minute</th>\n",
       "      <th>dif_message</th>\n",
       "      <th>dif_minutes</th>\n",
       "      <th>dif_mb</th>\n",
       "      <th>dif_gb</th>\n",
       "      <th>profit</th>\n",
       "    </tr>\n",
       "  </thead>\n",
       "  <tbody>\n",
       "    <tr>\n",
       "      <th>0</th>\n",
       "      <td>1000</td>\n",
       "      <td>5.0</td>\n",
       "      <td>17.0</td>\n",
       "      <td>159.0</td>\n",
       "      <td>22.0</td>\n",
       "      <td>2253.49</td>\n",
       "      <td>52</td>\n",
       "      <td>NaN</td>\n",
       "      <td>Краснодар</td>\n",
       "      <td>Рафаил</td>\n",
       "      <td>...</td>\n",
       "      <td>3000</td>\n",
       "      <td>1950</td>\n",
       "      <td>150</td>\n",
       "      <td>1</td>\n",
       "      <td>1</td>\n",
       "      <td>0.0</td>\n",
       "      <td>0.0</td>\n",
       "      <td>0.00</td>\n",
       "      <td>0.0</td>\n",
       "      <td>1950.0</td>\n",
       "    </tr>\n",
       "    <tr>\n",
       "      <th>1</th>\n",
       "      <td>1000</td>\n",
       "      <td>6.0</td>\n",
       "      <td>28.0</td>\n",
       "      <td>172.0</td>\n",
       "      <td>60.0</td>\n",
       "      <td>23233.77</td>\n",
       "      <td>52</td>\n",
       "      <td>NaN</td>\n",
       "      <td>Краснодар</td>\n",
       "      <td>Рафаил</td>\n",
       "      <td>...</td>\n",
       "      <td>3000</td>\n",
       "      <td>1950</td>\n",
       "      <td>150</td>\n",
       "      <td>1</td>\n",
       "      <td>1</td>\n",
       "      <td>0.0</td>\n",
       "      <td>0.0</td>\n",
       "      <td>0.00</td>\n",
       "      <td>0.0</td>\n",
       "      <td>1950.0</td>\n",
       "    </tr>\n",
       "    <tr>\n",
       "      <th>2</th>\n",
       "      <td>1000</td>\n",
       "      <td>7.0</td>\n",
       "      <td>41.0</td>\n",
       "      <td>340.0</td>\n",
       "      <td>75.0</td>\n",
       "      <td>14003.64</td>\n",
       "      <td>52</td>\n",
       "      <td>NaN</td>\n",
       "      <td>Краснодар</td>\n",
       "      <td>Рафаил</td>\n",
       "      <td>...</td>\n",
       "      <td>3000</td>\n",
       "      <td>1950</td>\n",
       "      <td>150</td>\n",
       "      <td>1</td>\n",
       "      <td>1</td>\n",
       "      <td>0.0</td>\n",
       "      <td>0.0</td>\n",
       "      <td>0.00</td>\n",
       "      <td>0.0</td>\n",
       "      <td>1950.0</td>\n",
       "    </tr>\n",
       "    <tr>\n",
       "      <th>3</th>\n",
       "      <td>1000</td>\n",
       "      <td>8.0</td>\n",
       "      <td>42.0</td>\n",
       "      <td>408.0</td>\n",
       "      <td>81.0</td>\n",
       "      <td>14055.93</td>\n",
       "      <td>52</td>\n",
       "      <td>NaN</td>\n",
       "      <td>Краснодар</td>\n",
       "      <td>Рафаил</td>\n",
       "      <td>...</td>\n",
       "      <td>3000</td>\n",
       "      <td>1950</td>\n",
       "      <td>150</td>\n",
       "      <td>1</td>\n",
       "      <td>1</td>\n",
       "      <td>0.0</td>\n",
       "      <td>0.0</td>\n",
       "      <td>0.00</td>\n",
       "      <td>0.0</td>\n",
       "      <td>1950.0</td>\n",
       "    </tr>\n",
       "    <tr>\n",
       "      <th>4</th>\n",
       "      <td>1000</td>\n",
       "      <td>9.0</td>\n",
       "      <td>46.0</td>\n",
       "      <td>466.0</td>\n",
       "      <td>57.0</td>\n",
       "      <td>14568.91</td>\n",
       "      <td>52</td>\n",
       "      <td>NaN</td>\n",
       "      <td>Краснодар</td>\n",
       "      <td>Рафаил</td>\n",
       "      <td>...</td>\n",
       "      <td>3000</td>\n",
       "      <td>1950</td>\n",
       "      <td>150</td>\n",
       "      <td>1</td>\n",
       "      <td>1</td>\n",
       "      <td>0.0</td>\n",
       "      <td>0.0</td>\n",
       "      <td>0.00</td>\n",
       "      <td>0.0</td>\n",
       "      <td>1950.0</td>\n",
       "    </tr>\n",
       "    <tr>\n",
       "      <th>...</th>\n",
       "      <td>...</td>\n",
       "      <td>...</td>\n",
       "      <td>...</td>\n",
       "      <td>...</td>\n",
       "      <td>...</td>\n",
       "      <td>...</td>\n",
       "      <td>...</td>\n",
       "      <td>...</td>\n",
       "      <td>...</td>\n",
       "      <td>...</td>\n",
       "      <td>...</td>\n",
       "      <td>...</td>\n",
       "      <td>...</td>\n",
       "      <td>...</td>\n",
       "      <td>...</td>\n",
       "      <td>...</td>\n",
       "      <td>...</td>\n",
       "      <td>...</td>\n",
       "      <td>...</td>\n",
       "      <td>...</td>\n",
       "      <td>...</td>\n",
       "    </tr>\n",
       "    <tr>\n",
       "      <th>3205</th>\n",
       "      <td>1498</td>\n",
       "      <td>10.0</td>\n",
       "      <td>30.0</td>\n",
       "      <td>247.0</td>\n",
       "      <td>42.0</td>\n",
       "      <td>20579.36</td>\n",
       "      <td>68</td>\n",
       "      <td>2018-10-25</td>\n",
       "      <td>Владикавказ</td>\n",
       "      <td>Всеволод</td>\n",
       "      <td>...</td>\n",
       "      <td>500</td>\n",
       "      <td>550</td>\n",
       "      <td>200</td>\n",
       "      <td>3</td>\n",
       "      <td>3</td>\n",
       "      <td>0.0</td>\n",
       "      <td>0.0</td>\n",
       "      <td>5219.36</td>\n",
       "      <td>6.0</td>\n",
       "      <td>1750.0</td>\n",
       "    </tr>\n",
       "    <tr>\n",
       "      <th>3206</th>\n",
       "      <td>1499</td>\n",
       "      <td>9.0</td>\n",
       "      <td>8.0</td>\n",
       "      <td>70.0</td>\n",
       "      <td>11.0</td>\n",
       "      <td>1845.75</td>\n",
       "      <td>35</td>\n",
       "      <td>NaN</td>\n",
       "      <td>Пермь</td>\n",
       "      <td>Гектор</td>\n",
       "      <td>...</td>\n",
       "      <td>500</td>\n",
       "      <td>550</td>\n",
       "      <td>200</td>\n",
       "      <td>3</td>\n",
       "      <td>3</td>\n",
       "      <td>0.0</td>\n",
       "      <td>0.0</td>\n",
       "      <td>0.00</td>\n",
       "      <td>0.0</td>\n",
       "      <td>550.0</td>\n",
       "    </tr>\n",
       "    <tr>\n",
       "      <th>3207</th>\n",
       "      <td>1499</td>\n",
       "      <td>10.0</td>\n",
       "      <td>44.0</td>\n",
       "      <td>449.0</td>\n",
       "      <td>48.0</td>\n",
       "      <td>17788.51</td>\n",
       "      <td>35</td>\n",
       "      <td>NaN</td>\n",
       "      <td>Пермь</td>\n",
       "      <td>Гектор</td>\n",
       "      <td>...</td>\n",
       "      <td>500</td>\n",
       "      <td>550</td>\n",
       "      <td>200</td>\n",
       "      <td>3</td>\n",
       "      <td>3</td>\n",
       "      <td>0.0</td>\n",
       "      <td>0.0</td>\n",
       "      <td>2428.51</td>\n",
       "      <td>3.0</td>\n",
       "      <td>1150.0</td>\n",
       "    </tr>\n",
       "    <tr>\n",
       "      <th>3208</th>\n",
       "      <td>1499</td>\n",
       "      <td>11.0</td>\n",
       "      <td>62.0</td>\n",
       "      <td>612.0</td>\n",
       "      <td>59.0</td>\n",
       "      <td>17963.31</td>\n",
       "      <td>35</td>\n",
       "      <td>NaN</td>\n",
       "      <td>Пермь</td>\n",
       "      <td>Гектор</td>\n",
       "      <td>...</td>\n",
       "      <td>500</td>\n",
       "      <td>550</td>\n",
       "      <td>200</td>\n",
       "      <td>3</td>\n",
       "      <td>3</td>\n",
       "      <td>9.0</td>\n",
       "      <td>112.0</td>\n",
       "      <td>2603.31</td>\n",
       "      <td>3.0</td>\n",
       "      <td>1513.0</td>\n",
       "    </tr>\n",
       "    <tr>\n",
       "      <th>3209</th>\n",
       "      <td>1499</td>\n",
       "      <td>12.0</td>\n",
       "      <td>56.0</td>\n",
       "      <td>492.0</td>\n",
       "      <td>66.0</td>\n",
       "      <td>13055.58</td>\n",
       "      <td>35</td>\n",
       "      <td>NaN</td>\n",
       "      <td>Пермь</td>\n",
       "      <td>Гектор</td>\n",
       "      <td>...</td>\n",
       "      <td>500</td>\n",
       "      <td>550</td>\n",
       "      <td>200</td>\n",
       "      <td>3</td>\n",
       "      <td>3</td>\n",
       "      <td>16.0</td>\n",
       "      <td>0.0</td>\n",
       "      <td>0.00</td>\n",
       "      <td>0.0</td>\n",
       "      <td>598.0</td>\n",
       "    </tr>\n",
       "  </tbody>\n",
       "</table>\n",
       "<p>3216 rows × 25 columns</p>\n",
       "</div>"
      ],
      "text/plain": [
       "      user_id  month  calls_count  calls_sum  messages_count  mb_used_sum  \\\n",
       "0        1000    5.0         17.0      159.0            22.0      2253.49   \n",
       "1        1000    6.0         28.0      172.0            60.0     23233.77   \n",
       "2        1000    7.0         41.0      340.0            75.0     14003.64   \n",
       "3        1000    8.0         42.0      408.0            81.0     14055.93   \n",
       "4        1000    9.0         46.0      466.0            57.0     14568.91   \n",
       "...       ...    ...          ...        ...             ...          ...   \n",
       "3205     1498   10.0         30.0      247.0            42.0     20579.36   \n",
       "3206     1499    9.0          8.0       70.0            11.0      1845.75   \n",
       "3207     1499   10.0         44.0      449.0            48.0     17788.51   \n",
       "3208     1499   11.0         62.0      612.0            59.0     17963.31   \n",
       "3209     1499   12.0         56.0      492.0            66.0     13055.58   \n",
       "\n",
       "      age  churn_date         city first_name  ... minutes_included  \\\n",
       "0      52         NaN    Краснодар     Рафаил  ...             3000   \n",
       "1      52         NaN    Краснодар     Рафаил  ...             3000   \n",
       "2      52         NaN    Краснодар     Рафаил  ...             3000   \n",
       "3      52         NaN    Краснодар     Рафаил  ...             3000   \n",
       "4      52         NaN    Краснодар     Рафаил  ...             3000   \n",
       "...   ...         ...          ...        ...  ...              ...   \n",
       "3205   68  2018-10-25  Владикавказ   Всеволод  ...              500   \n",
       "3206   35         NaN        Пермь     Гектор  ...              500   \n",
       "3207   35         NaN        Пермь     Гектор  ...              500   \n",
       "3208   35         NaN        Пермь     Гектор  ...              500   \n",
       "3209   35         NaN        Пермь     Гектор  ...              500   \n",
       "\n",
       "     rub_monthly_fee rub_per_gb  rub_per_message  rub_per_minute  dif_message  \\\n",
       "0               1950        150                1               1          0.0   \n",
       "1               1950        150                1               1          0.0   \n",
       "2               1950        150                1               1          0.0   \n",
       "3               1950        150                1               1          0.0   \n",
       "4               1950        150                1               1          0.0   \n",
       "...              ...        ...              ...             ...          ...   \n",
       "3205             550        200                3               3          0.0   \n",
       "3206             550        200                3               3          0.0   \n",
       "3207             550        200                3               3          0.0   \n",
       "3208             550        200                3               3          9.0   \n",
       "3209             550        200                3               3         16.0   \n",
       "\n",
       "      dif_minutes   dif_mb  dif_gb  profit  \n",
       "0             0.0     0.00     0.0  1950.0  \n",
       "1             0.0     0.00     0.0  1950.0  \n",
       "2             0.0     0.00     0.0  1950.0  \n",
       "3             0.0     0.00     0.0  1950.0  \n",
       "4             0.0     0.00     0.0  1950.0  \n",
       "...           ...      ...     ...     ...  \n",
       "3205          0.0  5219.36     6.0  1750.0  \n",
       "3206          0.0     0.00     0.0   550.0  \n",
       "3207          0.0  2428.51     3.0  1150.0  \n",
       "3208        112.0  2603.31     3.0  1513.0  \n",
       "3209          0.0     0.00     0.0   598.0  \n",
       "\n",
       "[3216 rows x 25 columns]"
      ]
     },
     "execution_count": 34,
     "metadata": {},
     "output_type": "execute_result"
    }
   ],
   "source": [
    "full_data['profit'] = (full_data['rub_monthly_fee'] +\n",
    "                      full_data['dif_message'] * full_data['rub_per_message'] +\n",
    "                      full_data['dif_minutes'] * full_data['rub_per_minute'] + \n",
    "                      full_data['dif_gb'] * full_data['rub_per_gb'])\n",
    "full_data"
   ]
  },
  {
   "cell_type": "code",
   "execution_count": 35,
   "metadata": {},
   "outputs": [
    {
     "name": "stdout",
     "output_type": "stream",
     "text": [
      "<class 'pandas.core.frame.DataFrame'>\n",
      "Int64Index: 3216 entries, 0 to 3209\n",
      "Data columns (total 25 columns):\n",
      " #   Column                 Non-Null Count  Dtype  \n",
      "---  ------                 --------------  -----  \n",
      " 0   user_id                3216 non-null   int64  \n",
      " 1   month                  3214 non-null   float64\n",
      " 2   calls_count            3216 non-null   float64\n",
      " 3   calls_sum              3216 non-null   float64\n",
      " 4   messages_count         3216 non-null   float64\n",
      " 5   mb_used_sum            3216 non-null   float64\n",
      " 6   age                    3216 non-null   int64  \n",
      " 7   churn_date             189 non-null    object \n",
      " 8   city                   3216 non-null   object \n",
      " 9   first_name             3216 non-null   object \n",
      " 10  last_name              3216 non-null   object \n",
      " 11  reg_date               3216 non-null   object \n",
      " 12  tariff                 3216 non-null   object \n",
      " 13  messages_included      3216 non-null   int64  \n",
      " 14  mb_per_month_included  3216 non-null   int64  \n",
      " 15  minutes_included       3216 non-null   int64  \n",
      " 16  rub_monthly_fee        3216 non-null   int64  \n",
      " 17  rub_per_gb             3216 non-null   int64  \n",
      " 18  rub_per_message        3216 non-null   int64  \n",
      " 19  rub_per_minute         3216 non-null   int64  \n",
      " 20  dif_message            3216 non-null   float64\n",
      " 21  dif_minutes            3216 non-null   float64\n",
      " 22  dif_mb                 3216 non-null   float64\n",
      " 23  dif_gb                 3216 non-null   float64\n",
      " 24  profit                 3216 non-null   float64\n",
      "dtypes: float64(10), int64(9), object(6)\n",
      "memory usage: 653.2+ KB\n"
     ]
    }
   ],
   "source": [
    "full_data.info()"
   ]
  },
  {
   "cell_type": "code",
   "execution_count": 36,
   "metadata": {},
   "outputs": [
    {
     "data": {
      "text/html": [
       "<div>\n",
       "<style scoped>\n",
       "    .dataframe tbody tr th:only-of-type {\n",
       "        vertical-align: middle;\n",
       "    }\n",
       "\n",
       "    .dataframe tbody tr th {\n",
       "        vertical-align: top;\n",
       "    }\n",
       "\n",
       "    .dataframe thead th {\n",
       "        text-align: right;\n",
       "    }\n",
       "</style>\n",
       "<table border=\"1\" class=\"dataframe\">\n",
       "  <thead>\n",
       "    <tr style=\"text-align: right;\">\n",
       "      <th></th>\n",
       "      <th>user_id</th>\n",
       "      <th>month</th>\n",
       "      <th>calls_sum</th>\n",
       "      <th>messages_count</th>\n",
       "      <th>mb_used_sum</th>\n",
       "      <th>city</th>\n",
       "      <th>tariff</th>\n",
       "      <th>profit</th>\n",
       "    </tr>\n",
       "  </thead>\n",
       "  <tbody>\n",
       "    <tr>\n",
       "      <th>0</th>\n",
       "      <td>1000</td>\n",
       "      <td>5.0</td>\n",
       "      <td>159.0</td>\n",
       "      <td>22.0</td>\n",
       "      <td>2253.49</td>\n",
       "      <td>Краснодар</td>\n",
       "      <td>ultra</td>\n",
       "      <td>1950.0</td>\n",
       "    </tr>\n",
       "    <tr>\n",
       "      <th>1</th>\n",
       "      <td>1000</td>\n",
       "      <td>6.0</td>\n",
       "      <td>172.0</td>\n",
       "      <td>60.0</td>\n",
       "      <td>23233.77</td>\n",
       "      <td>Краснодар</td>\n",
       "      <td>ultra</td>\n",
       "      <td>1950.0</td>\n",
       "    </tr>\n",
       "    <tr>\n",
       "      <th>2</th>\n",
       "      <td>1000</td>\n",
       "      <td>7.0</td>\n",
       "      <td>340.0</td>\n",
       "      <td>75.0</td>\n",
       "      <td>14003.64</td>\n",
       "      <td>Краснодар</td>\n",
       "      <td>ultra</td>\n",
       "      <td>1950.0</td>\n",
       "    </tr>\n",
       "    <tr>\n",
       "      <th>3</th>\n",
       "      <td>1000</td>\n",
       "      <td>8.0</td>\n",
       "      <td>408.0</td>\n",
       "      <td>81.0</td>\n",
       "      <td>14055.93</td>\n",
       "      <td>Краснодар</td>\n",
       "      <td>ultra</td>\n",
       "      <td>1950.0</td>\n",
       "    </tr>\n",
       "    <tr>\n",
       "      <th>4</th>\n",
       "      <td>1000</td>\n",
       "      <td>9.0</td>\n",
       "      <td>466.0</td>\n",
       "      <td>57.0</td>\n",
       "      <td>14568.91</td>\n",
       "      <td>Краснодар</td>\n",
       "      <td>ultra</td>\n",
       "      <td>1950.0</td>\n",
       "    </tr>\n",
       "    <tr>\n",
       "      <th>...</th>\n",
       "      <td>...</td>\n",
       "      <td>...</td>\n",
       "      <td>...</td>\n",
       "      <td>...</td>\n",
       "      <td>...</td>\n",
       "      <td>...</td>\n",
       "      <td>...</td>\n",
       "      <td>...</td>\n",
       "    </tr>\n",
       "    <tr>\n",
       "      <th>3205</th>\n",
       "      <td>1498</td>\n",
       "      <td>10.0</td>\n",
       "      <td>247.0</td>\n",
       "      <td>42.0</td>\n",
       "      <td>20579.36</td>\n",
       "      <td>Владикавказ</td>\n",
       "      <td>smart</td>\n",
       "      <td>1750.0</td>\n",
       "    </tr>\n",
       "    <tr>\n",
       "      <th>3206</th>\n",
       "      <td>1499</td>\n",
       "      <td>9.0</td>\n",
       "      <td>70.0</td>\n",
       "      <td>11.0</td>\n",
       "      <td>1845.75</td>\n",
       "      <td>Пермь</td>\n",
       "      <td>smart</td>\n",
       "      <td>550.0</td>\n",
       "    </tr>\n",
       "    <tr>\n",
       "      <th>3207</th>\n",
       "      <td>1499</td>\n",
       "      <td>10.0</td>\n",
       "      <td>449.0</td>\n",
       "      <td>48.0</td>\n",
       "      <td>17788.51</td>\n",
       "      <td>Пермь</td>\n",
       "      <td>smart</td>\n",
       "      <td>1150.0</td>\n",
       "    </tr>\n",
       "    <tr>\n",
       "      <th>3208</th>\n",
       "      <td>1499</td>\n",
       "      <td>11.0</td>\n",
       "      <td>612.0</td>\n",
       "      <td>59.0</td>\n",
       "      <td>17963.31</td>\n",
       "      <td>Пермь</td>\n",
       "      <td>smart</td>\n",
       "      <td>1513.0</td>\n",
       "    </tr>\n",
       "    <tr>\n",
       "      <th>3209</th>\n",
       "      <td>1499</td>\n",
       "      <td>12.0</td>\n",
       "      <td>492.0</td>\n",
       "      <td>66.0</td>\n",
       "      <td>13055.58</td>\n",
       "      <td>Пермь</td>\n",
       "      <td>smart</td>\n",
       "      <td>598.0</td>\n",
       "    </tr>\n",
       "  </tbody>\n",
       "</table>\n",
       "<p>3216 rows × 8 columns</p>\n",
       "</div>"
      ],
      "text/plain": [
       "      user_id  month  calls_sum  messages_count  mb_used_sum         city  \\\n",
       "0        1000    5.0      159.0            22.0      2253.49    Краснодар   \n",
       "1        1000    6.0      172.0            60.0     23233.77    Краснодар   \n",
       "2        1000    7.0      340.0            75.0     14003.64    Краснодар   \n",
       "3        1000    8.0      408.0            81.0     14055.93    Краснодар   \n",
       "4        1000    9.0      466.0            57.0     14568.91    Краснодар   \n",
       "...       ...    ...        ...             ...          ...          ...   \n",
       "3205     1498   10.0      247.0            42.0     20579.36  Владикавказ   \n",
       "3206     1499    9.0       70.0            11.0      1845.75        Пермь   \n",
       "3207     1499   10.0      449.0            48.0     17788.51        Пермь   \n",
       "3208     1499   11.0      612.0            59.0     17963.31        Пермь   \n",
       "3209     1499   12.0      492.0            66.0     13055.58        Пермь   \n",
       "\n",
       "     tariff  profit  \n",
       "0     ultra  1950.0  \n",
       "1     ultra  1950.0  \n",
       "2     ultra  1950.0  \n",
       "3     ultra  1950.0  \n",
       "4     ultra  1950.0  \n",
       "...     ...     ...  \n",
       "3205  smart  1750.0  \n",
       "3206  smart   550.0  \n",
       "3207  smart  1150.0  \n",
       "3208  smart  1513.0  \n",
       "3209  smart   598.0  \n",
       "\n",
       "[3216 rows x 8 columns]"
      ]
     },
     "execution_count": 36,
     "metadata": {},
     "output_type": "execute_result"
    }
   ],
   "source": [
    "\n",
    "clean_full_data = full_data.drop(['calls_count',\n",
    "                                  'age',\n",
    "                                  'churn_date',\n",
    "                                  'first_name',\n",
    "                                  'last_name',\n",
    "                                  'reg_date',\n",
    "                                  'messages_included',\n",
    "                                  'mb_per_month_included',\n",
    "                                  'minutes_included',\n",
    "                                  'rub_monthly_fee',\n",
    "                                  'rub_per_gb',\n",
    "                                  'rub_per_message',\n",
    "                                  'rub_per_minute',\n",
    "                                  'dif_message',\n",
    "                                  'dif_minutes', \n",
    "                                  'dif_mb', \n",
    "                                  'dif_gb'],\n",
    "                                      axis=1)\n",
    "clean_full_data"
   ]
  },
  {
   "cell_type": "code",
   "execution_count": 37,
   "metadata": {},
   "outputs": [
    {
     "data": {
      "text/plain": [
       "4916951.0"
      ]
     },
     "execution_count": 37,
     "metadata": {},
     "output_type": "execute_result"
    }
   ],
   "source": [
    "# check\n",
    "clean_full_data['profit'].sum()"
   ]
  },
  {
   "cell_type": "markdown",
   "metadata": {},
   "source": [
    "### Вывод"
   ]
  },
  {
   "cell_type": "markdown",
   "metadata": {},
   "source": [
    "На основе исходных таблиц была создана общая таблица, в которую вошли уникальные идентифекаторы пользователей, их города проживания, их тарифы, а также месяцы пользования и помесячные длительности звонков (в минутах), отправленные сообщения, мегабайты использованного интернета, выручки."
   ]
  },
  {
   "cell_type": "markdown",
   "metadata": {},
   "source": [
    "## Анализ данных"
   ]
  },
  {
   "cell_type": "markdown",
   "metadata": {},
   "source": [
    "### Анализ длительности звонков пользователей тарифов ‘Smart’ и ’Ultra’"
   ]
  },
  {
   "cell_type": "code",
   "execution_count": 38,
   "metadata": {},
   "outputs": [
    {
     "name": "stdout",
     "output_type": "stream",
     "text": [
      "Средняя длительность звонка пользователей тарифа \"Smart\": 417.747533632287\n",
      "Дисперсия длительности звонка пользователей тарифа \"Smart\": 36265.12415310985\n",
      "Стандартное отклонение длительности звонка пользователей тарифа \"Smart\": 190.4340414765959\n"
     ]
    },
    {
     "data": {
      "text/plain": [
       "Text(0, 0.5, 'Число пользователей')"
      ]
     },
     "execution_count": 38,
     "metadata": {},
     "output_type": "execute_result"
    },
    {
     "data": {
      "image/png": "[encoded data removed]",
      "text/plain": [
       "<Figure size 432x288 with 1 Axes>"
      ]
     },
     "metadata": {
      "needs_background": "light"
     },
     "output_type": "display_data"
    }
   ],
   "source": [
    "print('Средняя длительность звонка пользователей тарифа \"Smart\":', \n",
    "      clean_full_data.query('tariff == \"smart\"')['calls_sum'].mean())\n",
    "print('Дисперсия длительности звонка пользователей тарифа \"Smart\":', \n",
    "      np.var(clean_full_data.query('tariff == \"smart\"')['calls_sum']))\n",
    "print('Стандартное отклонение длительности звонка пользователей тарифа \"Smart\":', \n",
    "      np.std(clean_full_data.query('tariff == \"smart\"')['calls_sum']))\n",
    "\n",
    "\n",
    " \n",
    "smart_call_graf = clean_full_data.query('tariff == \"smart\"')['calls_sum'].hist(bins=[100, 200, 300, 400, 500, 600, 700, \n",
    "                                                                                    800, 900, 1000, 1100, 1200, 1300, 1400])\n",
    "smart_call_graf.set_title('Средняя длительность звонка пользователей тарифа \"Smart\"')\n",
    "smart_call_graf.set_xlabel('Средняя длительность звонка, мин.')\n",
    "smart_call_graf.set_ylabel('Число пользователей')"
   ]
  },
  {
   "cell_type": "markdown",
   "metadata": {},
   "source": [
    "Диаграмма суммарной длительности звонков по месяцам пользователей тарифа 'Smart' скошенна положительно. Судя по пику гистограммы, в основном пользователи тарифа 'Smart' тратят от 400 до 500 минут в месяц на звонки."
   ]
  },
  {
   "cell_type": "code",
   "execution_count": 39,
   "metadata": {},
   "outputs": [
    {
     "name": "stdout",
     "output_type": "stream",
     "text": [
      "Средняя длительность звонка пользователей тарифа \"Ultra\": 526.0892494929006\n",
      "Дисперсия длительности звонка пользователей тарифа \"Ultra\": 100950.00623331097\n",
      "Стандартное отклонение длительности звонка пользователей тарифа \"Ultra\": 317.72630711559117\n"
     ]
    },
    {
     "data": {
      "text/plain": [
       "Text(0, 0.5, 'Число пользователей')"
      ]
     },
     "execution_count": 39,
     "metadata": {},
     "output_type": "execute_result"
    },
    {
     "data": {
      "image/png": "[encoded data removed]",
      "text/plain": [
       "<Figure size 432x288 with 1 Axes>"
      ]
     },
     "metadata": {
      "needs_background": "light"
     },
     "output_type": "display_data"
    }
   ],
   "source": [
    "print('Средняя длительность звонка пользователей тарифа \"Ultra\":', \n",
    "      clean_full_data.query('tariff == \"ultra\"')['calls_sum'].mean())\n",
    "print('Дисперсия длительности звонка пользователей тарифа \"Ultra\":', \n",
    "      np.var(clean_full_data.query('tariff == \"ultra\"')['calls_sum']))\n",
    "print('Стандартное отклонение длительности звонка пользователей тарифа \"Ultra\":', \n",
    "      np.std(clean_full_data.query('tariff == \"ultra\"')['calls_sum']))\n",
    "ultra_call_graf = clean_full_data.query('tariff == \"ultra\"')['calls_sum'].hist(bins=[100, 200, 300, 400, 500, 600, 700, 800, 900, \n",
    "                                                                                     1000, 1100, 1200, 1300, 1400, 1500, 1600, 1700, 1800])\n",
    "ultra_call_graf.set_title('Средняя длительность звонка пользователей тарифа \"Ultra\"')\n",
    "ultra_call_graf.set_xlabel('Средняя длительность звонка, мин.')\n",
    "ultra_call_graf.set_ylabel('Число пользователей')"
   ]
  },
  {
   "cell_type": "markdown",
   "metadata": {},
   "source": [
    "Диаграмма суммарной длительности звонков по месяцам пользователей тарифа 'Ultra' скошенна положительно. Судя по пику гистограммы, в основном пользователи тарифа 'Smart' тратят от 500 до 600 минут в месяц на звонки."
   ]
  },
  {
   "cell_type": "markdown",
   "metadata": {},
   "source": [
    "#### Вывод"
   ]
  },
  {
   "cell_type": "markdown",
   "metadata": {},
   "source": [
    "В среднем пользователи тарифа 'Ultra' тратят на звонки на 100 минут больше, чем пользователи тарифа 'Smart'. Однако средний разброс и отклонение у пользователей тарифа 'Ultra' больше. Это обусловлено меньшим числом пользователей этого тарифа."
   ]
  },
  {
   "cell_type": "markdown",
   "metadata": {},
   "source": [
    "### Анализ количества сообщений пользователей тарифов ‘Smart’ и ’Ultra’"
   ]
  },
  {
   "cell_type": "code",
   "execution_count": 40,
   "metadata": {},
   "outputs": [
    {
     "name": "stdout",
     "output_type": "stream",
     "text": [
      "Среднее количество сообщений пользователей тарифа \"Smart\": 33.36905829596412\n",
      "Дисперсия количества сообщений пользователей тарифа \"Smart\": 796.5978766916688\n",
      "Стандартное отклонение количества сообщений пользователей тарифа \"Smart\": 28.224065559229217\n"
     ]
    },
    {
     "data": {
      "text/plain": [
       "Text(0, 0.5, 'Число пользователей')"
      ]
     },
     "execution_count": 40,
     "metadata": {},
     "output_type": "execute_result"
    },
    {
     "data": {
      "image/png": "[encoded data removed]",
      "text/plain": [
       "<Figure size 432x288 with 1 Axes>"
      ]
     },
     "metadata": {
      "needs_background": "light"
     },
     "output_type": "display_data"
    }
   ],
   "source": [
    "print('Среднее количество сообщений пользователей тарифа \"Smart\":', \n",
    "      clean_full_data.query('tariff == \"smart\"')['messages_count'].mean())\n",
    "print('Дисперсия количества сообщений пользователей тарифа \"Smart\":', \n",
    "      np.var(clean_full_data.query('tariff == \"smart\"')['messages_count']))\n",
    "print('Стандартное отклонение количества сообщений пользователей тарифа \"Smart\":', \n",
    "      np.std(clean_full_data.query('tariff == \"smart\"')['messages_count']))\n",
    "smart_messages_graf = clean_full_data.query('tariff == \"smart\"')['messages_count'].hist(bins=[20, 40, 60, 80, \n",
    "                                                                                              100, 120, 140, 160])\n",
    "\n",
    "smart_messages_graf.set_title('Среднее число отправленных сообщений пользователей тарифа \"Smart\"')\n",
    "smart_messages_graf.set_xlabel('Среднее число отправленных сообщений.')\n",
    "smart_messages_graf.set_ylabel('Число пользователей')"
   ]
  },
  {
   "cell_type": "markdown",
   "metadata": {},
   "source": [
    "Диаграмма количества сообщений пользователей тарифа \"Smart\" скошена вправо, причём её пик находится в самом начале графика. Это говорит о том, что большинство пользователей отправляют от 20 до 40 сообщений в месяц, причём пользователей отправляющих больше сообщений, всё меньше. Это связано с развитием мессенджеров и соц. сетей в наше время."
   ]
  },
  {
   "cell_type": "code",
   "execution_count": 41,
   "metadata": {},
   "outputs": [
    {
     "name": "stdout",
     "output_type": "stream",
     "text": [
      "Среднее количество сообщений пользователей тарифа \"Ultra\": 49.31338742393509\n",
      "Дисперсия количества сообщений пользователей тарифа \"Ultra\": 2283.0995570851965\n",
      "Стандартное отклонение количества сообщений пользователей тарифа \"Ultra\": 47.781791061922284\n"
     ]
    },
    {
     "data": {
      "text/plain": [
       "Text(0, 0.5, 'Число пользователей')"
      ]
     },
     "execution_count": 41,
     "metadata": {},
     "output_type": "execute_result"
    },
    {
     "data": {
      "image/png": "[encoded data removed]",
      "text/plain": [
       "<Figure size 432x288 with 1 Axes>"
      ]
     },
     "metadata": {
      "needs_background": "light"
     },
     "output_type": "display_data"
    }
   ],
   "source": [
    "print('Среднее количество сообщений пользователей тарифа \"Ultra\":', \n",
    "      clean_full_data.query('tariff == \"ultra\"')['messages_count'].mean())\n",
    "print('Дисперсия количества сообщений пользователей тарифа \"Ultra\":', \n",
    "      np.var(clean_full_data.query('tariff == \"ultra\"')['messages_count']))\n",
    "print('Стандартное отклонение количества сообщений пользователей тарифа \"Ultra\":', \n",
    "      np.std(clean_full_data.query('tariff == \"ultra\"')['messages_count']))\n",
    "\n",
    "ultra_messages_graf = clean_full_data.query('tariff == \"ultra\"')['messages_count'].hist(bins=[20, 40, 60, 80, 100, 120, 140, \n",
    "                                                                                              160, 180, 200, 220, 240, 260])\n",
    "ultra_messages_graf.set_title('Среднее число отправленных сообщений пользователей тарифа \"Ultra\"')\n",
    "ultra_messages_graf.set_xlabel('Среднее число отправленных сообщений.')\n",
    "ultra_messages_graf.set_ylabel('Число пользователей')"
   ]
  },
  {
   "cell_type": "markdown",
   "metadata": {},
   "source": [
    "Диаграмма количества сообщений пользователей тарифа \"Ultra\" аналогична диаграмме количества сообщений пользователей тарифа \"Smart\". Большинство пользователей редко отправляют сообщения, т.к. Существуют мессенджеры и соц. сети."
   ]
  },
  {
   "cell_type": "markdown",
   "metadata": {},
   "source": [
    "#### Вывод"
   ]
  },
  {
   "cell_type": "markdown",
   "metadata": {},
   "source": [
    "В среднем пользователи обоих тарифов отправляют до 40 сообщений в месяц. Однако средний разброс и отклонение у пользователей тарифа 'Ultra' больше. Это обусловлено меньшим числом пользователей этого тарифа."
   ]
  },
  {
   "cell_type": "markdown",
   "metadata": {},
   "source": [
    "### Анализ объёма трафика пользователей тарифов ‘Smart’ и ’Ultra’"
   ]
  },
  {
   "cell_type": "code",
   "execution_count": 42,
   "metadata": {},
   "outputs": [
    {
     "name": "stdout",
     "output_type": "stream",
     "text": [
      "Средний объём трафика пользователей тарифа \"Smart\"(гб): 15.82140493623879\n",
      "Дисперсия объёма трафика пользователей тарифа \"Smart\": 33739.59331199699\n",
      "Стандартное отклонение объёма трафика пользователей тарифа \"Smart\": 5.740106409618821\n"
     ]
    },
    {
     "data": {
      "text/plain": [
       "Text(0, 0.5, 'Число пользователей')"
      ]
     },
     "execution_count": 42,
     "metadata": {},
     "output_type": "execute_result"
    },
    {
     "data": {
      "image/png": "[encoded data removed]",
      "text/plain": [
       "<Figure size 432x288 with 1 Axes>"
      ]
     },
     "metadata": {
      "needs_background": "light"
     },
     "output_type": "display_data"
    }
   ],
   "source": [
    "print('Средний объём трафика пользователей тарифа \"Smart\"(гб):', \n",
    "      (clean_full_data.query('tariff == \"smart\"')['mb_used_sum']/1024).mean())\n",
    "print('Дисперсия объёма трафика пользователей тарифа \"Smart\":', \n",
    "      np.var(clean_full_data.query('tariff == \"smart\"')['mb_used_sum'])/1024)\n",
    "print('Стандартное отклонение объёма трафика пользователей тарифа \"Smart\":', \n",
    "      np.std(clean_full_data.query('tariff == \"smart\"')['mb_used_sum'])/1024)\n",
    "smart_gb_used_graf = (clean_full_data.query('tariff == \"smart\"')['mb_used_sum']/1024).hist(bins=[5, 10, 15, 20, \n",
    "                                                                                          25, 30, 35, 40])\n",
    "\n",
    "smart_gb_used_graf.set_title('Среднее число израсходованного трафика пользователей тарифа \"Smart\"')\n",
    "smart_gb_used_graf.set_xlabel('Среднее число израсходованного трафика, гб.')\n",
    "smart_gb_used_graf.set_ylabel('Число пользователей')"
   ]
  },
  {
   "cell_type": "markdown",
   "metadata": {},
   "source": [
    "Диаграмма объёма трафика пользователей тарифа \"Smart\" скошена вправо. В среднем пользователям тарифа 'Smart' необходимо от 15 до 20 тыс. мб трафика."
   ]
  },
  {
   "cell_type": "code",
   "execution_count": 43,
   "metadata": {},
   "outputs": [
    {
     "name": "stdout",
     "output_type": "stream",
     "text": [
      "Средний объём трафика пользователей тарифа \"Ultra\": 18.993222626537147\n",
      "Дисперсия объёма трафика пользователей тарифа \"Ultra\": 99539.69590165532\n",
      "Стандартное отклонение объёма трафика пользователей тарифа \"Ultra\": 9.859347558482776\n"
     ]
    },
    {
     "data": {
      "text/plain": [
       "Text(0, 0.5, 'Число пользователей')"
      ]
     },
     "execution_count": 43,
     "metadata": {},
     "output_type": "execute_result"
    },
    {
     "data": {
      "image/png": "[encoded data removed]",
      "text/plain": [
       "<Figure size 432x288 with 1 Axes>"
      ]
     },
     "metadata": {
      "needs_background": "light"
     },
     "output_type": "display_data"
    }
   ],
   "source": [
    "print('Средний объём трафика пользователей тарифа \"Ultra\":', \n",
    "      (clean_full_data.query('tariff == \"ultra\"')['mb_used_sum']/1024).mean())\n",
    "print('Дисперсия объёма трафика пользователей тарифа \"Ultra\":', \n",
    "      np.var(clean_full_data.query('tariff == \"ultra\"')['mb_used_sum'])/1024)\n",
    "print('Стандартное отклонение объёма трафика пользователей тарифа \"Ultra\":', \n",
    "      np.std(clean_full_data.query('tariff == \"ultra\"')['mb_used_sum'])/1024)\n",
    "ultra_gb_used_graf = (clean_full_data.query('tariff == \"ultra\"')['mb_used_sum']/1024).hist(bins=[5, 10, 15, 20, 25, \n",
    "                                                                     30, 35, 40, 45, 50])\n",
    "\n",
    "ultra_gb_used_graf.set_title('Среднее число израсходованного трафика пользователей тарифа \"Smart\"')\n",
    "ultra_gb_used_graf.set_xlabel('Среднее число израсходованного трафика, гб.')\n",
    "ultra_gb_used_graf.set_ylabel('Число пользователей')"
   ]
  },
  {
   "cell_type": "markdown",
   "metadata": {},
   "source": [
    "Диаграмма объёма трафика пользователей тарифа \"Ultra\" скошена вправо. В среднем пользователям тарифа 'Ultra' необходимо от 15 до 25 тыс. мб трафика. "
   ]
  },
  {
   "cell_type": "markdown",
   "metadata": {},
   "source": [
    "#### Вывод"
   ]
  },
  {
   "cell_type": "markdown",
   "metadata": {},
   "source": [
    "Пользователи тарифа 'Ultra' немного активнее пользуются интернетом, чем пользователи тарифа 'Smart'. Но средний разброс и отклонение больше, т.к. пользователей тарифа 'Ultra' меньше."
   ]
  },
  {
   "cell_type": "markdown",
   "metadata": {},
   "source": [
    "## Проверка гипотез"
   ]
  },
  {
   "cell_type": "markdown",
   "metadata": {},
   "source": [
    "### Проверка гипотезы о неравенстве средней выручки пользователей тарифов 'Smart' и 'Ultra'"
   ]
  },
  {
   "cell_type": "markdown",
   "metadata": {},
   "source": [
    "**H0**: Средняя выручка от пользователей тарифа 'Smart' равна средней выручке пользователей тарифа 'Ultra'\n",
    "\n",
    "**H1**: Средняя выручка от пользователей тарифа 'Smart' не равна средней выручке пользователей тарифа 'Ultra'"
   ]
  },
  {
   "cell_type": "markdown",
   "metadata": {},
   "source": [
    "Для проверки гипотезы необходимо:\n",
    "1) Посчитать выручку от каждого пользователя; \n",
    "\n",
    "2) Узнать количество пользователей каждого тарифа;\n",
    "\n",
    "3) Выбрать одинаковое количество пользователей в процентном соотношении для каждого тарифа;\n",
    "\n",
    "4) Составить выборки на основе этих данных."
   ]
  },
  {
   "cell_type": "code",
   "execution_count": 44,
   "metadata": {},
   "outputs": [
    {
     "data": {
      "text/html": [
       "<div>\n",
       "<style scoped>\n",
       "    .dataframe tbody tr th:only-of-type {\n",
       "        vertical-align: middle;\n",
       "    }\n",
       "\n",
       "    .dataframe tbody tr th {\n",
       "        vertical-align: top;\n",
       "    }\n",
       "\n",
       "    .dataframe thead th {\n",
       "        text-align: right;\n",
       "    }\n",
       "</style>\n",
       "<table border=\"1\" class=\"dataframe\">\n",
       "  <thead>\n",
       "    <tr style=\"text-align: right;\">\n",
       "      <th></th>\n",
       "      <th>tariff</th>\n",
       "      <th>user_id</th>\n",
       "      <th>profit</th>\n",
       "    </tr>\n",
       "  </thead>\n",
       "  <tbody>\n",
       "    <tr>\n",
       "      <th>0</th>\n",
       "      <td>smart</td>\n",
       "      <td>1001</td>\n",
       "      <td>1700.0</td>\n",
       "    </tr>\n",
       "    <tr>\n",
       "      <th>1</th>\n",
       "      <td>smart</td>\n",
       "      <td>1002</td>\n",
       "      <td>7250.0</td>\n",
       "    </tr>\n",
       "    <tr>\n",
       "      <th>2</th>\n",
       "      <td>smart</td>\n",
       "      <td>1005</td>\n",
       "      <td>9924.0</td>\n",
       "    </tr>\n",
       "    <tr>\n",
       "      <th>3</th>\n",
       "      <td>smart</td>\n",
       "      <td>1006</td>\n",
       "      <td>10250.0</td>\n",
       "    </tr>\n",
       "    <tr>\n",
       "      <th>4</th>\n",
       "      <td>smart</td>\n",
       "      <td>1007</td>\n",
       "      <td>8221.0</td>\n",
       "    </tr>\n",
       "    <tr>\n",
       "      <th>...</th>\n",
       "      <td>...</td>\n",
       "      <td>...</td>\n",
       "      <td>...</td>\n",
       "    </tr>\n",
       "    <tr>\n",
       "      <th>495</th>\n",
       "      <td>ultra</td>\n",
       "      <td>1476</td>\n",
       "      <td>17550.0</td>\n",
       "    </tr>\n",
       "    <tr>\n",
       "      <th>496</th>\n",
       "      <td>ultra</td>\n",
       "      <td>1485</td>\n",
       "      <td>1950.0</td>\n",
       "    </tr>\n",
       "    <tr>\n",
       "      <th>497</th>\n",
       "      <td>ultra</td>\n",
       "      <td>1491</td>\n",
       "      <td>17550.0</td>\n",
       "    </tr>\n",
       "    <tr>\n",
       "      <th>498</th>\n",
       "      <td>ultra</td>\n",
       "      <td>1493</td>\n",
       "      <td>5700.0</td>\n",
       "    </tr>\n",
       "    <tr>\n",
       "      <th>499</th>\n",
       "      <td>ultra</td>\n",
       "      <td>1495</td>\n",
       "      <td>11550.0</td>\n",
       "    </tr>\n",
       "  </tbody>\n",
       "</table>\n",
       "<p>500 rows × 3 columns</p>\n",
       "</div>"
      ],
      "text/plain": [
       "    tariff  user_id   profit\n",
       "0    smart     1001   1700.0\n",
       "1    smart     1002   7250.0\n",
       "2    smart     1005   9924.0\n",
       "3    smart     1006  10250.0\n",
       "4    smart     1007   8221.0\n",
       "..     ...      ...      ...\n",
       "495  ultra     1476  17550.0\n",
       "496  ultra     1485   1950.0\n",
       "497  ultra     1491  17550.0\n",
       "498  ultra     1493   5700.0\n",
       "499  ultra     1495  11550.0\n",
       "\n",
       "[500 rows x 3 columns]"
      ]
     },
     "execution_count": 44,
     "metadata": {},
     "output_type": "execute_result"
    }
   ],
   "source": [
    "tarif_profit_table = clean_full_data.pivot_table(index=['tariff', 'user_id'], values='profit', aggfunc='sum').reset_index()\n",
    "tarif_profit_table"
   ]
  },
  {
   "cell_type": "code",
   "execution_count": 45,
   "metadata": {},
   "outputs": [],
   "source": [
    "# Создание двух выборок\n",
    "ultra_user_profit = clean_full_data.query('tariff == \"ultra\"').reset_index()\n",
    "smart_user_profit = clean_full_data.query('tariff == \"smart\"').reset_index()"
   ]
  },
  {
   "cell_type": "code",
   "execution_count": 46,
   "metadata": {},
   "outputs": [
    {
     "name": "stdout",
     "output_type": "stream",
     "text": [
      "p-значение: 1.927011394420941e-250\n",
      "Отвергаем нулевую гипотезу\n"
     ]
    }
   ],
   "source": [
    "alpha = 0.05\n",
    "\n",
    "results = st.ttest_ind(ultra_user_profit['profit'], smart_user_profit['profit'], equal_var=False)\n",
    "print('p-значение:', results.pvalue)\n",
    "\n",
    "if results.pvalue < alpha:\n",
    "    print('Отвергаем нулевую гипотезу')\n",
    "else:\n",
    "    print('Нулевую гипотезу отвергнуть не удалось')"
   ]
  },
  {
   "cell_type": "code",
   "execution_count": 47,
   "metadata": {},
   "outputs": [
    {
     "name": "stdout",
     "output_type": "stream",
     "text": [
      "Суммарная выручка от пользователей тарифа \"Smart\" больше\n"
     ]
    }
   ],
   "source": [
    "if ultra_user_profit['profit'].sum() > smart_user_profit['profit'].sum():\n",
    "    print('Суммарная выручка от пользователей тарифа \"Ultra\" больше')\n",
    "else:\n",
    "    print('Суммарная выручка от пользователей тарифа \"Smart\" больше')"
   ]
  },
  {
   "cell_type": "code",
   "execution_count": 48,
   "metadata": {},
   "outputs": [
    {
     "name": "stdout",
     "output_type": "stream",
     "text": [
      "Выручка за 10 месяцев разных пользователей тарифа \"Ultra\" больше\n"
     ]
    }
   ],
   "source": [
    "sum_10_smart = 0\n",
    "sum_10_ultra = 0\n",
    "\n",
    "for i in range(10):\n",
    "    sum_10_ultra = ultra_user_profit.loc[i, 'profit']\n",
    "    sum_10_smart = smart_user_profit.loc[i, 'profit']\n",
    "    \n",
    "if sum_10_ultra > sum_10_smart:\n",
    "    print('Выручка за 10 месяцев разных пользователей тарифа \"Ultra\" больше')\n",
    "else:\n",
    "    print('Выручка за 10 месяцев разных пользователей тарифа \"Smart\" больше')"
   ]
  },
  {
   "cell_type": "markdown",
   "metadata": {},
   "source": [
    "#### Вывод"
   ]
  },
  {
   "cell_type": "markdown",
   "metadata": {},
   "source": [
    "Так как p-значение оказалось меньше порогового, гипотеза о равенстве выручки от тарифов отвергается. Суммарная выручка от пользователей тарифа \"Smart\" оказалась больше. Однако выручка за 10 месяцев разных пользователей тарифа \"Ultra\" оказалась больше. Это говорит о том, что основную часть выручки приносят пользователи тарифа 'Smart', но если больше пользователей будут пользоваться тарифом \"Ultra\", то выручка компании \"Мегалайн\" вырастет."
   ]
  },
  {
   "cell_type": "markdown",
   "metadata": {},
   "source": [
    "### Проверка гипотезы о неравенстве средней выручки пользователей из Москвы и пользователей из  других городов"
   ]
  },
  {
   "cell_type": "markdown",
   "metadata": {},
   "source": [
    "**H0**: Средняя выручка от пользователей Москвы равна средней выручке от пользователей остальных городов\n",
    "\n",
    "**H1**: Средняя выручка от пользователей Москвы не равна средней выручке от пользователей остальных городов"
   ]
  },
  {
   "cell_type": "markdown",
   "metadata": {},
   "source": [
    "Для проверки гипотезы необходимо:\n",
    "1) Посчитать выручку от каждого пользователя; \n",
    "\n",
    "2) Узнать количество пользователей Москвы и остальных городов;\n",
    "\n",
    "3) Выбрать одинаковое количество пользователей в процентном соотношении для Москвы и остальных городов;\n",
    "\n",
    "4) Составить выборки на основе этих данных."
   ]
  },
  {
   "cell_type": "code",
   "execution_count": 49,
   "metadata": {},
   "outputs": [
    {
     "data": {
      "text/html": [
       "<div>\n",
       "<style scoped>\n",
       "    .dataframe tbody tr th:only-of-type {\n",
       "        vertical-align: middle;\n",
       "    }\n",
       "\n",
       "    .dataframe tbody tr th {\n",
       "        vertical-align: top;\n",
       "    }\n",
       "\n",
       "    .dataframe thead th {\n",
       "        text-align: right;\n",
       "    }\n",
       "</style>\n",
       "<table border=\"1\" class=\"dataframe\">\n",
       "  <thead>\n",
       "    <tr style=\"text-align: right;\">\n",
       "      <th></th>\n",
       "      <th>city</th>\n",
       "      <th>user_id</th>\n",
       "      <th>profit</th>\n",
       "    </tr>\n",
       "  </thead>\n",
       "  <tbody>\n",
       "    <tr>\n",
       "      <th>0</th>\n",
       "      <td>Архангельск</td>\n",
       "      <td>1135</td>\n",
       "      <td>15559.0</td>\n",
       "    </tr>\n",
       "    <tr>\n",
       "      <th>1</th>\n",
       "      <td>Астрахань</td>\n",
       "      <td>1066</td>\n",
       "      <td>12965.0</td>\n",
       "    </tr>\n",
       "    <tr>\n",
       "      <th>2</th>\n",
       "      <td>Астрахань</td>\n",
       "      <td>1253</td>\n",
       "      <td>9750.0</td>\n",
       "    </tr>\n",
       "    <tr>\n",
       "      <th>3</th>\n",
       "      <td>Астрахань</td>\n",
       "      <td>1280</td>\n",
       "      <td>7920.0</td>\n",
       "    </tr>\n",
       "    <tr>\n",
       "      <th>4</th>\n",
       "      <td>Астрахань</td>\n",
       "      <td>1423</td>\n",
       "      <td>11600.0</td>\n",
       "    </tr>\n",
       "    <tr>\n",
       "      <th>...</th>\n",
       "      <td>...</td>\n",
       "      <td>...</td>\n",
       "      <td>...</td>\n",
       "    </tr>\n",
       "    <tr>\n",
       "      <th>495</th>\n",
       "      <td>Якутск</td>\n",
       "      <td>1074</td>\n",
       "      <td>2190.0</td>\n",
       "    </tr>\n",
       "    <tr>\n",
       "      <th>496</th>\n",
       "      <td>Якутск</td>\n",
       "      <td>1147</td>\n",
       "      <td>9900.0</td>\n",
       "    </tr>\n",
       "    <tr>\n",
       "      <th>497</th>\n",
       "      <td>Ярославль</td>\n",
       "      <td>1039</td>\n",
       "      <td>13650.0</td>\n",
       "    </tr>\n",
       "    <tr>\n",
       "      <th>498</th>\n",
       "      <td>Ярославль</td>\n",
       "      <td>1198</td>\n",
       "      <td>4750.0</td>\n",
       "    </tr>\n",
       "    <tr>\n",
       "      <th>499</th>\n",
       "      <td>Ярославль</td>\n",
       "      <td>1472</td>\n",
       "      <td>19128.0</td>\n",
       "    </tr>\n",
       "  </tbody>\n",
       "</table>\n",
       "<p>500 rows × 3 columns</p>\n",
       "</div>"
      ],
      "text/plain": [
       "            city  user_id   profit\n",
       "0    Архангельск     1135  15559.0\n",
       "1      Астрахань     1066  12965.0\n",
       "2      Астрахань     1253   9750.0\n",
       "3      Астрахань     1280   7920.0\n",
       "4      Астрахань     1423  11600.0\n",
       "..           ...      ...      ...\n",
       "495       Якутск     1074   2190.0\n",
       "496       Якутск     1147   9900.0\n",
       "497    Ярославль     1039  13650.0\n",
       "498    Ярославль     1198   4750.0\n",
       "499    Ярославль     1472  19128.0\n",
       "\n",
       "[500 rows x 3 columns]"
      ]
     },
     "execution_count": 49,
     "metadata": {},
     "output_type": "execute_result"
    }
   ],
   "source": [
    "city_profit_table = clean_full_data.pivot_table(index=['city', 'user_id'], values='profit', aggfunc='sum').reset_index()\n",
    "city_profit_table"
   ]
  },
  {
   "cell_type": "code",
   "execution_count": 50,
   "metadata": {},
   "outputs": [],
   "source": [
    "moscow_user_profit = clean_full_data.query('city == \"Москва\"')\n",
    "other_city_user_profit = clean_full_data.query('city != \"Москва\"')\n",
    "\n",
    "#for i in range(len(city_profit_table)):\n",
    "#    if city_profit_table.loc[i, 'city'] == 'Москва':\n",
    "#        moscow_user_profit.append(city_profit_table.loc[i, 'profit'])\n",
    "#    if len(moscow_user_profit) == 10:\n",
    "#        break\n",
    "\n",
    "#for i in range(len(city_profit_table)):\n",
    "#    if city_profit_table.loc[i, 'city'] != 'Москва':\n",
    "#        other_city_user_profit.append(city_profit_table.loc[i, 'profit'])\n",
    "#    if len(ultra_user_profit) == 40:\n",
    "#        break"
   ]
  },
  {
   "cell_type": "code",
   "execution_count": 51,
   "metadata": {},
   "outputs": [
    {
     "name": "stdout",
     "output_type": "stream",
     "text": [
      "p-значение: 0.5216952110000278\n",
      "Нулевую гипотезу отвергнуть не удалось\n"
     ]
    }
   ],
   "source": [
    "alpha = 0.05\n",
    "\n",
    "results = st.ttest_ind(moscow_user_profit['profit'], other_city_user_profit['profit'], equal_var=False)\n",
    "print('p-значение:', results.pvalue)\n",
    "\n",
    "if results.pvalue < alpha:\n",
    "    print('Отвергаем нулевую гипотезу')\n",
    "else:\n",
    "    print('Нулевую гипотезу отвергнуть не удалось')"
   ]
  },
  {
   "cell_type": "markdown",
   "metadata": {},
   "source": [
    "#### Вывод"
   ]
  },
  {
   "cell_type": "markdown",
   "metadata": {},
   "source": [
    "Так как p-значение оказалось больше порогового (причём значительно), гипотеза о равенстве выручки из Москвы и выручки из остальных городов удалось опровергнуть. Это означает, что выручка не зависит от места жительства пользователей."
   ]
  },
  {
   "cell_type": "code",
   "execution_count": 52,
   "metadata": {},
   "outputs": [
    {
     "name": "stdout",
     "output_type": "stream",
     "text": [
      "p-значение: 0.1912450522572209\n",
      "Не получилось отвергнуть нулевую гипотезу\n"
     ]
    }
   ],
   "source": [
    "# Приведены два датасета: сумма покупок, совершённых за месяц посетителями ...\n",
    "\n",
    "sample_1 = [3071, 3636, 3454, 3151, 2185, 3259, 1727, 2263, 2015,\n",
    "2582, 4815, 633, 3186, 887, 2028, 3589, 2564, 1422, 1785,\n",
    "3180, 1770, 2716, 2546, 1848, 4644, 3134, 475, 2686,\n",
    "1838, 3352]\n",
    "sample_2 = [1211, 1228, 2157, 3699, 600, 1898, 1688, 1420, 5048, 3007,\n",
    "509, 3777, 5583, 3949, 121, 1674, 4300, 1338, 3066,\n",
    "3562, 1010, 2311, 462, 863, 2021, 528, 1849, 255,\n",
    "1740, 2596]\n",
    "alpha = .05 # критический уровень статистической значимости\n",
    "# если p-value окажется меньше него - отвергнем гипотезу\n",
    "results = st.ttest_ind(\n",
    "sample_1,\n",
    "sample_2)\n",
    "print('p-значение:', results.pvalue)\n",
    "if (results.pvalue < alpha):\n",
    "    print(\"Отвергаем нулевую гипотезу\")\n",
    "else:\n",
    "\n",
    "    print(\"Не получилось отвергнуть нулевую гипотезу\")"
   ]
  },
  {
   "cell_type": "markdown",
   "metadata": {},
   "source": [
    "## Общий вывод"
   ]
  },
  {
   "cell_type": "markdown",
   "metadata": {},
   "source": [
    "В ходе проделанной работы были посчитаны помесячные выручки от каждого пользователя. Было выяснено, что пользователи тарифа 'Ultra' тратят больше минут и мб трафика, чем пользователи тарифа 'Smart', причём пользователи обоих тарифов отправляют одинаково малое количество сообщений, потому что скорее всего большинство пользователей пользуются мессенджерами и соц. сетями.\n",
    "\n",
    "Были проверены две гипотезы: о неравенстве средней выручки обоих тарифов и неравенстве выручки Москвы и выручке других городов.\n",
    "\n",
    "В ходе проверки первой гипотезы выяснилось, что тариф 'Smart' приносит большую чать выручки, т.к. пользователей этого тарифа больше. Но при рассмотрении 10 разных месяцев выяснилось, что выручка от пользователей 'Ultra' выше. Следовательно, если удастся убедить пользователей 'Smart' перейти на тариф 'Ultra', то при том же числе пользователей выручка \"Мегалайна\" вырастет.\n",
    "\n",
    "В ходе проверки второй гипотезы выяснилось, что выручка никак не зависит от места жительства пользователя."
   ]
  }
 ],
 "metadata": {
  "ExecuteTimeLog": [
   {
    "duration": 463,
    "start_time": "2022-06-12T17:28:08.374Z"
   },
   {
    "duration": 269,
    "start_time": "2022-06-12T17:28:50.572Z"
   },
   {
    "duration": 221,
    "start_time": "2022-06-12T17:29:22.352Z"
   },
   {
    "duration": 362,
    "start_time": "2022-06-12T17:30:14.222Z"
   },
   {
    "duration": 174,
    "start_time": "2022-06-12T17:30:48.476Z"
   },
   {
    "duration": 201,
    "start_time": "2022-06-12T17:31:09.719Z"
   },
   {
    "duration": 170,
    "start_time": "2022-06-12T17:36:58.588Z"
   },
   {
    "duration": 242,
    "start_time": "2022-06-12T17:37:04.870Z"
   },
   {
    "duration": 224,
    "start_time": "2022-06-12T17:37:10.611Z"
   },
   {
    "duration": 170,
    "start_time": "2022-06-12T17:37:14.104Z"
   },
   {
    "duration": 194,
    "start_time": "2022-06-12T17:37:30.055Z"
   },
   {
    "duration": 191,
    "start_time": "2022-06-12T17:37:40.730Z"
   },
   {
    "duration": 351,
    "start_time": "2022-06-12T17:40:45.233Z"
   },
   {
    "duration": 121,
    "start_time": "2022-06-12T17:41:39.751Z"
   },
   {
    "duration": 80,
    "start_time": "2022-06-12T17:43:12.990Z"
   },
   {
    "duration": 36,
    "start_time": "2022-06-12T17:44:46.914Z"
   },
   {
    "duration": 90,
    "start_time": "2022-06-12T17:45:51.475Z"
   },
   {
    "duration": 59,
    "start_time": "2022-06-12T17:48:05.867Z"
   },
   {
    "duration": 38,
    "start_time": "2022-06-12T17:48:12.613Z"
   },
   {
    "duration": 125,
    "start_time": "2022-06-12T17:48:18.524Z"
   },
   {
    "duration": 175,
    "start_time": "2022-06-12T17:48:24.700Z"
   },
   {
    "duration": 206,
    "start_time": "2022-06-12T17:48:31.663Z"
   },
   {
    "duration": 4,
    "start_time": "2022-06-12T17:49:25.032Z"
   },
   {
    "duration": 67,
    "start_time": "2022-06-12T18:48:48.272Z"
   },
   {
    "duration": 4,
    "start_time": "2022-06-12T18:48:53.047Z"
   },
   {
    "duration": 5,
    "start_time": "2022-06-12T18:48:58.608Z"
   },
   {
    "duration": 8,
    "start_time": "2022-06-12T18:50:19.371Z"
   },
   {
    "duration": 4,
    "start_time": "2022-06-12T18:50:27.948Z"
   },
   {
    "duration": 4,
    "start_time": "2022-06-12T18:54:50.394Z"
   },
   {
    "duration": 234,
    "start_time": "2022-06-12T18:54:50.400Z"
   },
   {
    "duration": 187,
    "start_time": "2022-06-12T18:54:50.636Z"
   },
   {
    "duration": 110,
    "start_time": "2022-06-12T18:54:50.825Z"
   },
   {
    "duration": 41,
    "start_time": "2022-06-12T18:54:50.936Z"
   },
   {
    "duration": 54,
    "start_time": "2022-06-12T18:54:50.979Z"
   },
   {
    "duration": 426,
    "start_time": "2022-06-12T18:55:07.870Z"
   },
   {
    "duration": 228,
    "start_time": "2022-06-12T18:55:08.308Z"
   },
   {
    "duration": 187,
    "start_time": "2022-06-12T18:55:08.537Z"
   },
   {
    "duration": 117,
    "start_time": "2022-06-12T18:55:08.726Z"
   },
   {
    "duration": 33,
    "start_time": "2022-06-12T18:55:08.845Z"
   },
   {
    "duration": 47,
    "start_time": "2022-06-12T18:55:08.879Z"
   },
   {
    "duration": 64,
    "start_time": "2022-06-12T18:59:57.858Z"
   },
   {
    "duration": 40,
    "start_time": "2022-06-12T19:00:11.722Z"
   },
   {
    "duration": 25,
    "start_time": "2022-06-12T19:00:34.585Z"
   },
   {
    "duration": 16,
    "start_time": "2022-06-12T19:01:01.250Z"
   },
   {
    "duration": 84,
    "start_time": "2022-06-12T19:07:54.029Z"
   },
   {
    "duration": 372,
    "start_time": "2022-06-12T19:07:57.863Z"
   },
   {
    "duration": 220,
    "start_time": "2022-06-12T19:07:58.237Z"
   },
   {
    "duration": 180,
    "start_time": "2022-06-12T19:07:58.458Z"
   },
   {
    "duration": 119,
    "start_time": "2022-06-12T19:07:58.640Z"
   },
   {
    "duration": 26,
    "start_time": "2022-06-12T19:07:58.762Z"
   },
   {
    "duration": 56,
    "start_time": "2022-06-12T19:07:58.790Z"
   },
   {
    "duration": 32,
    "start_time": "2022-06-12T19:07:58.848Z"
   },
   {
    "duration": 10,
    "start_time": "2022-06-12T19:08:05.134Z"
   },
   {
    "duration": 9,
    "start_time": "2022-06-12T19:08:19.309Z"
   },
   {
    "duration": 31,
    "start_time": "2022-06-12T19:08:38.849Z"
   },
   {
    "duration": 18,
    "start_time": "2022-06-12T19:10:11.518Z"
   },
   {
    "duration": 8,
    "start_time": "2022-06-12T19:10:43.434Z"
   },
   {
    "duration": 9,
    "start_time": "2022-06-12T19:11:04.636Z"
   },
   {
    "duration": 7,
    "start_time": "2022-06-12T19:11:36.321Z"
   },
   {
    "duration": 16,
    "start_time": "2022-06-12T19:11:49.073Z"
   },
   {
    "duration": 264,
    "start_time": "2022-06-12T19:15:05.399Z"
   },
   {
    "duration": 37,
    "start_time": "2022-06-12T19:15:18.084Z"
   },
   {
    "duration": 20,
    "start_time": "2022-06-12T19:15:26.726Z"
   },
   {
    "duration": 17,
    "start_time": "2022-06-12T19:15:47.017Z"
   },
   {
    "duration": 12,
    "start_time": "2022-06-12T19:16:39.025Z"
   },
   {
    "duration": 3,
    "start_time": "2022-06-12T19:18:09.550Z"
   },
   {
    "duration": 8,
    "start_time": "2022-06-12T19:18:42.594Z"
   },
   {
    "duration": 7,
    "start_time": "2022-06-12T19:19:50.370Z"
   },
   {
    "duration": 10,
    "start_time": "2022-06-12T19:20:08.661Z"
   },
   {
    "duration": 6,
    "start_time": "2022-06-12T19:20:50.481Z"
   },
   {
    "duration": 12,
    "start_time": "2022-06-12T19:30:58.234Z"
   },
   {
    "duration": 366,
    "start_time": "2022-06-12T19:31:38.360Z"
   },
   {
    "duration": 355,
    "start_time": "2022-06-12T19:32:19.008Z"
   },
   {
    "duration": 369,
    "start_time": "2022-06-12T19:34:40.895Z"
   },
   {
    "duration": 359,
    "start_time": "2022-06-12T19:34:46.264Z"
   },
   {
    "duration": 13,
    "start_time": "2022-06-12T19:35:08.659Z"
   },
   {
    "duration": 24,
    "start_time": "2022-06-12T19:37:11.147Z"
   },
   {
    "duration": 14,
    "start_time": "2022-06-12T19:37:13.314Z"
   },
   {
    "duration": 36,
    "start_time": "2022-06-12T19:37:48.197Z"
   },
   {
    "duration": 494,
    "start_time": "2022-06-12T19:37:59.128Z"
   },
   {
    "duration": 442,
    "start_time": "2022-06-12T19:39:18.836Z"
   },
   {
    "duration": 223,
    "start_time": "2022-06-12T19:39:19.280Z"
   },
   {
    "duration": 162,
    "start_time": "2022-06-12T19:39:19.508Z"
   },
   {
    "duration": 113,
    "start_time": "2022-06-12T19:39:19.672Z"
   },
   {
    "duration": 31,
    "start_time": "2022-06-12T19:39:19.787Z"
   },
   {
    "duration": 42,
    "start_time": "2022-06-12T19:39:19.820Z"
   },
   {
    "duration": 8,
    "start_time": "2022-06-12T19:39:19.863Z"
   },
   {
    "duration": 33,
    "start_time": "2022-06-12T19:39:19.872Z"
   },
   {
    "duration": 103476,
    "start_time": "2022-06-12T19:39:19.908Z"
   },
   {
    "duration": 42,
    "start_time": "2022-06-12T19:41:03.387Z"
   },
   {
    "duration": 21,
    "start_time": "2022-06-12T19:41:03.431Z"
   },
   {
    "duration": 20,
    "start_time": "2022-06-12T19:41:18.092Z"
   },
   {
    "duration": 29,
    "start_time": "2022-06-12T19:58:37.170Z"
   },
   {
    "duration": 497,
    "start_time": "2022-06-12T19:58:40.828Z"
   },
   {
    "duration": 16,
    "start_time": "2022-06-12T19:58:44.859Z"
   },
   {
    "duration": 7,
    "start_time": "2022-06-12T20:00:18.735Z"
   },
   {
    "duration": 7,
    "start_time": "2022-06-12T20:01:01.862Z"
   },
   {
    "duration": 8,
    "start_time": "2022-06-12T20:02:03.823Z"
   },
   {
    "duration": 8,
    "start_time": "2022-06-12T20:02:12.109Z"
   },
   {
    "duration": 4,
    "start_time": "2022-06-12T20:02:37.363Z"
   },
   {
    "duration": 417,
    "start_time": "2022-06-12T20:02:56.821Z"
   },
   {
    "duration": 229,
    "start_time": "2022-06-12T20:02:57.240Z"
   },
   {
    "duration": 185,
    "start_time": "2022-06-12T20:02:57.471Z"
   },
   {
    "duration": 117,
    "start_time": "2022-06-12T20:02:57.658Z"
   },
   {
    "duration": 31,
    "start_time": "2022-06-12T20:02:57.776Z"
   },
   {
    "duration": 41,
    "start_time": "2022-06-12T20:02:57.811Z"
   },
   {
    "duration": 10,
    "start_time": "2022-06-12T20:03:03.501Z"
   },
   {
    "duration": 26,
    "start_time": "2022-06-12T20:03:05.906Z"
   },
   {
    "duration": 104986,
    "start_time": "2022-06-12T20:03:13.793Z"
   },
   {
    "duration": 17,
    "start_time": "2022-06-12T20:06:00.888Z"
   },
   {
    "duration": 35,
    "start_time": "2022-06-12T20:06:03.986Z"
   },
   {
    "duration": 4,
    "start_time": "2022-06-12T20:06:05.514Z"
   },
   {
    "duration": 18,
    "start_time": "2022-06-12T20:06:23.949Z"
   },
   {
    "duration": 411,
    "start_time": "2022-06-13T16:21:59.541Z"
   },
   {
    "duration": 338,
    "start_time": "2022-06-13T16:21:59.954Z"
   },
   {
    "duration": 440,
    "start_time": "2022-06-13T16:22:00.294Z"
   },
   {
    "duration": 364,
    "start_time": "2022-06-13T16:22:00.737Z"
   },
   {
    "duration": 92,
    "start_time": "2022-06-13T16:22:01.105Z"
   },
   {
    "duration": 85,
    "start_time": "2022-06-13T16:22:01.200Z"
   },
   {
    "duration": 10,
    "start_time": "2022-06-13T16:22:01.288Z"
   },
   {
    "duration": 47,
    "start_time": "2022-06-13T16:22:01.300Z"
   },
   {
    "duration": 103729,
    "start_time": "2022-06-13T16:22:01.349Z"
   },
   {
    "duration": 9,
    "start_time": "2022-06-13T16:23:45.080Z"
   },
   {
    "duration": 44,
    "start_time": "2022-06-13T16:23:45.091Z"
   },
   {
    "duration": 28,
    "start_time": "2022-06-13T16:23:45.137Z"
   },
   {
    "duration": 16,
    "start_time": "2022-06-13T16:24:16.958Z"
   },
   {
    "duration": 8,
    "start_time": "2022-06-13T16:25:09.891Z"
   },
   {
    "duration": 63,
    "start_time": "2022-06-13T16:25:41.784Z"
   },
   {
    "duration": 47,
    "start_time": "2022-06-13T16:25:46.058Z"
   },
   {
    "duration": 19,
    "start_time": "2022-06-13T16:31:03.407Z"
   },
   {
    "duration": 62,
    "start_time": "2022-06-13T16:34:44.697Z"
   },
   {
    "duration": 15,
    "start_time": "2022-06-13T16:43:32.454Z"
   },
   {
    "duration": 9,
    "start_time": "2022-06-13T16:44:16.685Z"
   },
   {
    "duration": 12,
    "start_time": "2022-06-13T16:44:22.949Z"
   },
   {
    "duration": 26,
    "start_time": "2022-06-13T17:43:26.525Z"
   },
   {
    "duration": 20,
    "start_time": "2022-06-13T17:45:27.059Z"
   },
   {
    "duration": 12,
    "start_time": "2022-06-13T17:45:28.136Z"
   },
   {
    "duration": 9,
    "start_time": "2022-06-13T17:46:12.440Z"
   },
   {
    "duration": 52,
    "start_time": "2022-06-13T17:46:21.456Z"
   },
   {
    "duration": 17,
    "start_time": "2022-06-13T17:48:09.620Z"
   },
   {
    "duration": 14,
    "start_time": "2022-06-13T17:48:10.096Z"
   },
   {
    "duration": 25,
    "start_time": "2022-06-13T17:49:18.632Z"
   },
   {
    "duration": 13,
    "start_time": "2022-06-13T17:49:19.132Z"
   },
   {
    "duration": 12,
    "start_time": "2022-06-13T17:50:32.036Z"
   },
   {
    "duration": 55,
    "start_time": "2022-06-13T17:51:14.465Z"
   },
   {
    "duration": 42,
    "start_time": "2022-06-13T17:51:28.963Z"
   },
   {
    "duration": 18,
    "start_time": "2022-06-13T17:52:16.480Z"
   },
   {
    "duration": 32,
    "start_time": "2022-06-13T17:52:17.020Z"
   },
   {
    "duration": 10,
    "start_time": "2022-06-13T17:52:58.614Z"
   },
   {
    "duration": 23,
    "start_time": "2022-06-13T17:54:52.670Z"
   },
   {
    "duration": 5,
    "start_time": "2022-06-13T17:55:09.256Z"
   },
   {
    "duration": 15,
    "start_time": "2022-06-13T17:55:19.793Z"
   },
   {
    "duration": 7,
    "start_time": "2022-06-13T17:58:22.065Z"
   },
   {
    "duration": 14,
    "start_time": "2022-06-13T17:58:59.527Z"
   },
   {
    "duration": 261,
    "start_time": "2022-06-13T18:00:19.370Z"
   },
   {
    "duration": 32,
    "start_time": "2022-06-13T18:00:24.968Z"
   },
   {
    "duration": 40,
    "start_time": "2022-06-13T18:05:35.252Z"
   },
   {
    "duration": 15,
    "start_time": "2022-06-13T18:05:42.163Z"
   },
   {
    "duration": 23,
    "start_time": "2022-06-13T18:06:27.152Z"
   },
   {
    "duration": 13,
    "start_time": "2022-06-13T18:06:37.531Z"
   },
   {
    "duration": 24,
    "start_time": "2022-06-13T18:07:10.583Z"
   },
   {
    "duration": 11,
    "start_time": "2022-06-13T18:07:29.339Z"
   },
   {
    "duration": 18,
    "start_time": "2022-06-13T18:07:49.669Z"
   },
   {
    "duration": 4,
    "start_time": "2022-06-13T18:10:24.546Z"
   },
   {
    "duration": 14,
    "start_time": "2022-06-13T18:10:29.978Z"
   },
   {
    "duration": 5,
    "start_time": "2022-06-13T18:10:50.460Z"
   },
   {
    "duration": 14,
    "start_time": "2022-06-13T18:10:51.133Z"
   },
   {
    "duration": 5,
    "start_time": "2022-06-13T18:10:58.838Z"
   },
   {
    "duration": 13,
    "start_time": "2022-06-13T18:10:59.719Z"
   },
   {
    "duration": 6,
    "start_time": "2022-06-13T18:12:42.587Z"
   },
   {
    "duration": 14,
    "start_time": "2022-06-13T18:12:43.116Z"
   },
   {
    "duration": 5,
    "start_time": "2022-06-13T18:16:34.754Z"
   },
   {
    "duration": 17,
    "start_time": "2022-06-13T18:16:35.227Z"
   },
   {
    "duration": 6,
    "start_time": "2022-06-13T18:17:02.758Z"
   },
   {
    "duration": 16,
    "start_time": "2022-06-13T18:17:03.110Z"
   },
   {
    "duration": 5,
    "start_time": "2022-06-13T18:18:06.887Z"
   },
   {
    "duration": 16,
    "start_time": "2022-06-13T18:18:07.310Z"
   },
   {
    "duration": 5,
    "start_time": "2022-06-13T18:21:58.983Z"
   },
   {
    "duration": 14,
    "start_time": "2022-06-13T18:21:59.766Z"
   },
   {
    "duration": 4,
    "start_time": "2022-06-13T18:22:37.219Z"
   },
   {
    "duration": 17,
    "start_time": "2022-06-13T18:22:37.562Z"
   },
   {
    "duration": 5,
    "start_time": "2022-06-13T18:23:12.719Z"
   },
   {
    "duration": 14,
    "start_time": "2022-06-13T18:23:13.302Z"
   },
   {
    "duration": 6,
    "start_time": "2022-06-13T18:23:44.523Z"
   },
   {
    "duration": 47,
    "start_time": "2022-06-13T18:23:44.971Z"
   },
   {
    "duration": 6,
    "start_time": "2022-06-13T18:24:10.661Z"
   },
   {
    "duration": 14,
    "start_time": "2022-06-13T18:24:10.951Z"
   },
   {
    "duration": 20,
    "start_time": "2022-06-13T18:24:32.633Z"
   },
   {
    "duration": 45,
    "start_time": "2022-06-13T18:24:32.997Z"
   },
   {
    "duration": 15,
    "start_time": "2022-06-13T18:24:35.193Z"
   },
   {
    "duration": 5,
    "start_time": "2022-06-13T18:24:50.515Z"
   },
   {
    "duration": 13,
    "start_time": "2022-06-13T18:24:51.012Z"
   },
   {
    "duration": 7,
    "start_time": "2022-06-13T18:24:59.591Z"
   },
   {
    "duration": 8,
    "start_time": "2022-06-13T18:25:24.944Z"
   },
   {
    "duration": 7,
    "start_time": "2022-06-13T18:31:56.564Z"
   },
   {
    "duration": 14,
    "start_time": "2022-06-13T18:31:57.021Z"
   },
   {
    "duration": 5,
    "start_time": "2022-06-13T18:32:05.261Z"
   },
   {
    "duration": 14,
    "start_time": "2022-06-13T18:32:06.311Z"
   },
   {
    "duration": 5,
    "start_time": "2022-06-13T18:32:17.593Z"
   },
   {
    "duration": 14,
    "start_time": "2022-06-13T18:32:17.975Z"
   },
   {
    "duration": 5,
    "start_time": "2022-06-13T18:32:33.570Z"
   },
   {
    "duration": 16,
    "start_time": "2022-06-13T18:32:34.160Z"
   },
   {
    "duration": 5,
    "start_time": "2022-06-13T18:32:46.386Z"
   },
   {
    "duration": 14,
    "start_time": "2022-06-13T18:32:46.847Z"
   },
   {
    "duration": 18,
    "start_time": "2022-06-13T18:32:55.051Z"
   },
   {
    "duration": 44,
    "start_time": "2022-06-13T18:32:55.379Z"
   },
   {
    "duration": 5,
    "start_time": "2022-06-13T18:32:55.706Z"
   },
   {
    "duration": 13,
    "start_time": "2022-06-13T18:32:56.172Z"
   },
   {
    "duration": 17,
    "start_time": "2022-06-13T18:33:06.244Z"
   },
   {
    "duration": 43,
    "start_time": "2022-06-13T18:33:06.570Z"
   },
   {
    "duration": 5,
    "start_time": "2022-06-13T18:33:06.861Z"
   },
   {
    "duration": 13,
    "start_time": "2022-06-13T18:33:07.229Z"
   },
   {
    "duration": 5,
    "start_time": "2022-06-13T18:34:06.808Z"
   },
   {
    "duration": 16,
    "start_time": "2022-06-13T18:34:07.917Z"
   },
   {
    "duration": 9,
    "start_time": "2022-06-13T18:44:00.458Z"
   },
   {
    "duration": 31,
    "start_time": "2022-06-13T18:45:50.586Z"
   },
   {
    "duration": 5,
    "start_time": "2022-06-13T18:46:15.005Z"
   },
   {
    "duration": 15,
    "start_time": "2022-06-13T18:46:15.653Z"
   },
   {
    "duration": 5,
    "start_time": "2022-06-13T18:46:24.439Z"
   },
   {
    "duration": 17,
    "start_time": "2022-06-13T18:46:24.885Z"
   },
   {
    "duration": 5,
    "start_time": "2022-06-13T18:46:35.982Z"
   },
   {
    "duration": 15,
    "start_time": "2022-06-13T18:46:36.343Z"
   },
   {
    "duration": 3,
    "start_time": "2022-06-13T18:55:08.563Z"
   },
   {
    "duration": 14,
    "start_time": "2022-06-13T18:55:08.995Z"
   },
   {
    "duration": 3,
    "start_time": "2022-06-13T18:55:50.049Z"
   },
   {
    "duration": 11,
    "start_time": "2022-06-13T18:55:56.233Z"
   },
   {
    "duration": 3,
    "start_time": "2022-06-13T18:56:23.805Z"
   },
   {
    "duration": 10,
    "start_time": "2022-06-13T18:56:36.126Z"
   },
   {
    "duration": 16,
    "start_time": "2022-06-13T18:56:42.865Z"
   },
   {
    "duration": 19,
    "start_time": "2022-06-13T18:57:39.831Z"
   },
   {
    "duration": 23,
    "start_time": "2022-06-13T19:06:50.672Z"
   },
   {
    "duration": 21,
    "start_time": "2022-06-13T19:08:03.923Z"
   },
   {
    "duration": 343,
    "start_time": "2022-06-13T19:08:35.792Z"
   },
   {
    "duration": 12,
    "start_time": "2022-06-13T19:08:57.738Z"
   },
   {
    "duration": 18,
    "start_time": "2022-06-13T19:09:28.133Z"
   },
   {
    "duration": 28,
    "start_time": "2022-06-13T19:20:11.513Z"
   },
   {
    "duration": 24,
    "start_time": "2022-06-13T19:20:29.388Z"
   },
   {
    "duration": 26,
    "start_time": "2022-06-13T19:20:34.373Z"
   },
   {
    "duration": 23,
    "start_time": "2022-06-13T19:21:05.081Z"
   },
   {
    "duration": 24,
    "start_time": "2022-06-13T19:21:09.746Z"
   },
   {
    "duration": 39,
    "start_time": "2022-06-13T19:23:21.060Z"
   },
   {
    "duration": 20,
    "start_time": "2022-06-13T19:23:40.262Z"
   },
   {
    "duration": 31,
    "start_time": "2022-06-13T19:23:54.024Z"
   },
   {
    "duration": 11,
    "start_time": "2022-06-13T19:24:36.268Z"
   },
   {
    "duration": 24,
    "start_time": "2022-06-13T19:24:46.183Z"
   },
   {
    "duration": 26,
    "start_time": "2022-06-13T19:28:35.918Z"
   },
   {
    "duration": 373,
    "start_time": "2022-06-13T19:29:00.743Z"
   },
   {
    "duration": 9,
    "start_time": "2022-06-13T19:30:18.330Z"
   },
   {
    "duration": 4,
    "start_time": "2022-06-13T19:30:40.460Z"
   },
   {
    "duration": 13,
    "start_time": "2022-06-13T19:30:51.238Z"
   },
   {
    "duration": 11,
    "start_time": "2022-06-13T19:31:06.889Z"
   },
   {
    "duration": 11,
    "start_time": "2022-06-13T19:33:13.490Z"
   },
   {
    "duration": 22,
    "start_time": "2022-06-13T19:33:52.295Z"
   },
   {
    "duration": 309,
    "start_time": "2022-06-13T19:34:56.512Z"
   },
   {
    "duration": 19,
    "start_time": "2022-06-13T19:35:10.336Z"
   },
   {
    "duration": 12,
    "start_time": "2022-06-13T19:35:14.611Z"
   },
   {
    "duration": 26,
    "start_time": "2022-06-13T19:35:18.370Z"
   },
   {
    "duration": 13,
    "start_time": "2022-06-13T19:36:29.908Z"
   },
   {
    "duration": 4,
    "start_time": "2022-06-13T19:38:36.437Z"
   },
   {
    "duration": 10,
    "start_time": "2022-06-13T19:38:50.126Z"
   },
   {
    "duration": 4,
    "start_time": "2022-06-13T19:38:54.623Z"
   },
   {
    "duration": 5,
    "start_time": "2022-06-13T19:39:12.911Z"
   },
   {
    "duration": 24,
    "start_time": "2022-06-13T19:42:50.704Z"
   },
   {
    "duration": 25,
    "start_time": "2022-06-13T19:44:00.761Z"
   },
   {
    "duration": 30,
    "start_time": "2022-06-13T20:05:00.824Z"
   },
   {
    "duration": 27,
    "start_time": "2022-06-13T20:05:09.119Z"
   },
   {
    "duration": 31,
    "start_time": "2022-06-13T20:05:17.255Z"
   },
   {
    "duration": 29,
    "start_time": "2022-06-13T20:07:28.971Z"
   },
   {
    "duration": 24,
    "start_time": "2022-06-13T20:07:36.788Z"
   },
   {
    "duration": 16,
    "start_time": "2022-06-13T20:13:13.776Z"
   },
   {
    "duration": 13,
    "start_time": "2022-06-13T20:13:26.410Z"
   },
   {
    "duration": 25,
    "start_time": "2022-06-13T20:13:32.706Z"
   },
   {
    "duration": 354,
    "start_time": "2022-06-16T07:29:22.199Z"
   },
   {
    "duration": 248,
    "start_time": "2022-06-16T07:29:26.184Z"
   },
   {
    "duration": 325,
    "start_time": "2022-06-16T07:29:29.504Z"
   },
   {
    "duration": 297,
    "start_time": "2022-06-16T07:29:35.184Z"
   },
   {
    "duration": 73,
    "start_time": "2022-06-16T07:29:38.192Z"
   },
   {
    "duration": 92,
    "start_time": "2022-06-16T07:29:44.585Z"
   },
   {
    "duration": 8,
    "start_time": "2022-06-16T07:29:58.398Z"
   },
   {
    "duration": 22,
    "start_time": "2022-06-16T07:29:58.931Z"
   },
   {
    "duration": 98954,
    "start_time": "2022-06-16T07:30:14.884Z"
   },
   {
    "duration": 6,
    "start_time": "2022-06-16T07:32:29.759Z"
   },
   {
    "duration": 28,
    "start_time": "2022-06-16T07:32:45.264Z"
   },
   {
    "duration": 16,
    "start_time": "2022-06-16T07:32:45.647Z"
   },
   {
    "duration": 44,
    "start_time": "2022-06-16T07:32:51.847Z"
   },
   {
    "duration": 83,
    "start_time": "2022-06-16T07:36:37.437Z"
   },
   {
    "duration": 13,
    "start_time": "2022-06-16T07:36:53.295Z"
   },
   {
    "duration": 10,
    "start_time": "2022-06-16T07:37:03.760Z"
   },
   {
    "duration": 24,
    "start_time": "2022-06-16T07:37:16.803Z"
   },
   {
    "duration": 4,
    "start_time": "2022-06-16T07:38:02.376Z"
   },
   {
    "duration": 6,
    "start_time": "2022-06-16T07:38:12.249Z"
   },
   {
    "duration": 5,
    "start_time": "2022-06-16T07:38:17.128Z"
   },
   {
    "duration": 4,
    "start_time": "2022-06-16T07:38:24.897Z"
   },
   {
    "duration": 2,
    "start_time": "2022-06-16T07:38:45.270Z"
   },
   {
    "duration": 4,
    "start_time": "2022-06-16T07:38:46.005Z"
   },
   {
    "duration": 7,
    "start_time": "2022-06-16T07:39:52.366Z"
   },
   {
    "duration": 6,
    "start_time": "2022-06-16T07:39:54.190Z"
   },
   {
    "duration": 9,
    "start_time": "2022-06-16T07:40:14.833Z"
   },
   {
    "duration": 14,
    "start_time": "2022-06-16T07:40:20.777Z"
   },
   {
    "duration": 7,
    "start_time": "2022-06-16T07:40:21.576Z"
   },
   {
    "duration": 19,
    "start_time": "2022-06-16T07:42:04.550Z"
   },
   {
    "duration": 7,
    "start_time": "2022-06-16T07:45:02.949Z"
   },
   {
    "duration": 249,
    "start_time": "2022-06-16T07:45:12.936Z"
   },
   {
    "duration": 252,
    "start_time": "2022-06-16T07:45:23.704Z"
   },
   {
    "duration": 376,
    "start_time": "2022-06-16T07:45:32.274Z"
   },
   {
    "duration": 42,
    "start_time": "2022-06-16T07:49:12.519Z"
   },
   {
    "duration": 4,
    "start_time": "2022-06-16T07:49:16.013Z"
   },
   {
    "duration": 19,
    "start_time": "2022-06-16T07:49:18.582Z"
   },
   {
    "duration": 394,
    "start_time": "2022-06-16T07:49:33.240Z"
   },
   {
    "duration": 464,
    "start_time": "2022-06-16T07:49:49.762Z"
   },
   {
    "duration": 10,
    "start_time": "2022-06-16T07:50:06.580Z"
   },
   {
    "duration": 23,
    "start_time": "2022-06-16T07:51:47.913Z"
   },
   {
    "duration": 10,
    "start_time": "2022-06-16T07:51:51.289Z"
   },
   {
    "duration": 16,
    "start_time": "2022-06-16T07:52:17.108Z"
   },
   {
    "duration": 244,
    "start_time": "2022-06-16T07:52:19.006Z"
   },
   {
    "duration": 64,
    "start_time": "2022-06-16T07:52:24.416Z"
   },
   {
    "duration": 9,
    "start_time": "2022-06-16T07:52:27.879Z"
   },
   {
    "duration": 12,
    "start_time": "2022-06-16T08:00:15.794Z"
   },
   {
    "duration": 5,
    "start_time": "2022-06-16T08:00:41.207Z"
   },
   {
    "duration": 14,
    "start_time": "2022-06-16T08:00:50.983Z"
   },
   {
    "duration": 12,
    "start_time": "2022-06-16T08:02:24.544Z"
   },
   {
    "duration": 20,
    "start_time": "2022-06-16T08:03:48.502Z"
   },
   {
    "duration": 39,
    "start_time": "2022-06-16T08:03:49.678Z"
   },
   {
    "duration": 3,
    "start_time": "2022-06-16T08:03:50.039Z"
   },
   {
    "duration": 10,
    "start_time": "2022-06-16T08:03:50.685Z"
   },
   {
    "duration": 43,
    "start_time": "2022-06-16T08:04:05.568Z"
   },
   {
    "duration": 3,
    "start_time": "2022-06-16T08:04:05.968Z"
   },
   {
    "duration": 11,
    "start_time": "2022-06-16T08:04:06.424Z"
   },
   {
    "duration": 17,
    "start_time": "2022-06-16T08:04:12.480Z"
   },
   {
    "duration": 41,
    "start_time": "2022-06-16T08:04:12.793Z"
   },
   {
    "duration": 3,
    "start_time": "2022-06-16T08:04:13.097Z"
   },
   {
    "duration": 13,
    "start_time": "2022-06-16T08:04:13.464Z"
   },
   {
    "duration": 14,
    "start_time": "2022-06-16T08:04:14.992Z"
   },
   {
    "duration": 17,
    "start_time": "2022-06-16T08:04:19.827Z"
   },
   {
    "duration": 39,
    "start_time": "2022-06-16T08:04:20.098Z"
   },
   {
    "duration": 2,
    "start_time": "2022-06-16T08:04:20.379Z"
   },
   {
    "duration": 12,
    "start_time": "2022-06-16T08:04:20.955Z"
   },
   {
    "duration": 7,
    "start_time": "2022-06-16T08:04:27.523Z"
   },
   {
    "duration": 25,
    "start_time": "2022-06-16T08:04:28.929Z"
   },
   {
    "duration": 37,
    "start_time": "2022-06-16T08:04:29.870Z"
   },
   {
    "duration": 17,
    "start_time": "2022-06-16T08:04:31.851Z"
   },
   {
    "duration": 24,
    "start_time": "2022-06-16T08:04:33.660Z"
   },
   {
    "duration": 3,
    "start_time": "2022-06-16T08:04:34.658Z"
   },
   {
    "duration": 12,
    "start_time": "2022-06-16T08:05:12.402Z"
   },
   {
    "duration": 19,
    "start_time": "2022-06-16T08:05:16.752Z"
   },
   {
    "duration": 14,
    "start_time": "2022-06-16T08:05:19.434Z"
   },
   {
    "duration": 25,
    "start_time": "2022-06-16T08:05:19.762Z"
   },
   {
    "duration": 3,
    "start_time": "2022-06-16T08:05:20.931Z"
   },
   {
    "duration": 10,
    "start_time": "2022-06-16T08:05:59.518Z"
   },
   {
    "duration": 17,
    "start_time": "2022-06-16T08:07:02.417Z"
   },
   {
    "duration": 23,
    "start_time": "2022-06-16T08:07:49.325Z"
   },
   {
    "duration": 32,
    "start_time": "2022-06-16T08:08:18.058Z"
   },
   {
    "duration": 39,
    "start_time": "2022-06-16T08:08:36.765Z"
   },
   {
    "duration": 21,
    "start_time": "2022-06-16T08:09:58.850Z"
   },
   {
    "duration": 46,
    "start_time": "2022-06-16T08:10:05.473Z"
   },
   {
    "duration": 11,
    "start_time": "2022-06-16T08:18:34.302Z"
   },
   {
    "duration": 5,
    "start_time": "2022-06-16T08:40:19.314Z"
   },
   {
    "duration": 11,
    "start_time": "2022-06-16T08:40:44.228Z"
   },
   {
    "duration": 4,
    "start_time": "2022-06-16T08:42:25.859Z"
   },
   {
    "duration": 10,
    "start_time": "2022-06-16T08:42:26.521Z"
   },
   {
    "duration": 12,
    "start_time": "2022-06-16T08:44:36.700Z"
   },
   {
    "duration": 15,
    "start_time": "2022-06-16T08:48:39.213Z"
   },
   {
    "duration": 303,
    "start_time": "2022-06-16T08:49:02.399Z"
   },
   {
    "duration": 381,
    "start_time": "2022-06-16T17:51:26.890Z"
   },
   {
    "duration": 492,
    "start_time": "2022-06-16T17:51:28.603Z"
   },
   {
    "duration": 414,
    "start_time": "2022-06-16T17:51:35.600Z"
   },
   {
    "duration": 153,
    "start_time": "2022-06-16T17:51:40.372Z"
   },
   {
    "duration": 62,
    "start_time": "2022-06-16T17:51:41.910Z"
   },
   {
    "duration": 82,
    "start_time": "2022-06-16T17:51:45.372Z"
   },
   {
    "duration": 18,
    "start_time": "2022-06-16T17:51:51.743Z"
   },
   {
    "duration": 20,
    "start_time": "2022-06-16T17:51:54.519Z"
   },
   {
    "duration": 94402,
    "start_time": "2022-06-16T17:51:55.174Z"
   },
   {
    "duration": 6,
    "start_time": "2022-06-16T17:53:38.133Z"
   },
   {
    "duration": 25,
    "start_time": "2022-06-16T17:53:39.412Z"
   },
   {
    "duration": 15,
    "start_time": "2022-06-16T17:53:40.173Z"
   },
   {
    "duration": 40,
    "start_time": "2022-06-16T17:53:41.397Z"
   },
   {
    "duration": 16,
    "start_time": "2022-06-16T17:53:43.933Z"
   },
   {
    "duration": 38,
    "start_time": "2022-06-16T17:53:44.901Z"
   },
   {
    "duration": 3,
    "start_time": "2022-06-16T17:53:45.784Z"
   },
   {
    "duration": 15,
    "start_time": "2022-06-16T17:53:48.003Z"
   },
   {
    "duration": 9,
    "start_time": "2022-06-16T17:53:53.839Z"
   },
   {
    "duration": 23,
    "start_time": "2022-06-16T17:53:54.518Z"
   },
   {
    "duration": 36,
    "start_time": "2022-06-16T17:53:55.399Z"
   },
   {
    "duration": 16,
    "start_time": "2022-06-16T17:53:58.167Z"
   },
   {
    "duration": 22,
    "start_time": "2022-06-16T17:53:58.517Z"
   },
   {
    "duration": 3,
    "start_time": "2022-06-16T17:53:58.882Z"
   },
   {
    "duration": 11,
    "start_time": "2022-06-16T17:53:59.598Z"
   },
   {
    "duration": 29,
    "start_time": "2022-06-16T17:54:07.015Z"
   },
   {
    "duration": 13,
    "start_time": "2022-06-16T17:54:09.513Z"
   },
   {
    "duration": 34,
    "start_time": "2022-06-16T17:54:09.911Z"
   },
   {
    "duration": 3,
    "start_time": "2022-06-16T17:54:10.472Z"
   },
   {
    "duration": 10,
    "start_time": "2022-06-16T17:54:11.394Z"
   },
   {
    "duration": 47,
    "start_time": "2022-06-16T17:54:21.914Z"
   },
   {
    "duration": 14,
    "start_time": "2022-06-16T17:56:17.170Z"
   },
   {
    "duration": 462,
    "start_time": "2022-06-16T17:57:20.187Z"
   },
   {
    "duration": 520,
    "start_time": "2022-06-16T17:57:42.125Z"
   },
   {
    "duration": 370,
    "start_time": "2022-06-16T17:57:57.855Z"
   },
   {
    "duration": 362,
    "start_time": "2022-06-16T17:58:19.991Z"
   },
   {
    "duration": 451,
    "start_time": "2022-06-16T17:58:24.875Z"
   },
   {
    "duration": 322,
    "start_time": "2022-06-16T17:58:51.014Z"
   },
   {
    "duration": 379,
    "start_time": "2022-06-16T17:59:00.224Z"
   },
   {
    "duration": 377,
    "start_time": "2022-06-16T17:59:14.169Z"
   },
   {
    "duration": 481,
    "start_time": "2022-06-16T17:59:52.049Z"
   },
   {
    "duration": 387,
    "start_time": "2022-06-16T17:59:59.551Z"
   },
   {
    "duration": 328,
    "start_time": "2022-06-16T18:00:26.068Z"
   },
   {
    "duration": 34,
    "start_time": "2022-06-16T18:01:03.296Z"
   },
   {
    "duration": 11,
    "start_time": "2022-06-16T18:01:06.367Z"
   },
   {
    "duration": 10,
    "start_time": "2022-06-16T18:01:07.752Z"
   },
   {
    "duration": 633,
    "start_time": "2022-06-16T18:01:21.192Z"
   },
   {
    "duration": 41,
    "start_time": "2022-06-16T18:02:10.097Z"
   },
   {
    "duration": 11,
    "start_time": "2022-06-16T18:02:12.319Z"
   },
   {
    "duration": 8,
    "start_time": "2022-06-16T18:03:15.355Z"
   },
   {
    "duration": 401,
    "start_time": "2022-06-16T18:03:21.650Z"
   },
   {
    "duration": 6,
    "start_time": "2022-06-16T18:03:30.915Z"
   },
   {
    "duration": 42,
    "start_time": "2022-06-16T18:03:34.789Z"
   },
   {
    "duration": 11,
    "start_time": "2022-06-16T18:03:39.157Z"
   },
   {
    "duration": 9,
    "start_time": "2022-06-16T18:03:40.492Z"
   },
   {
    "duration": 37,
    "start_time": "2022-06-16T18:03:44.110Z"
   },
   {
    "duration": 12,
    "start_time": "2022-06-16T18:03:46.988Z"
   },
   {
    "duration": 12,
    "start_time": "2022-06-16T18:04:22.792Z"
   },
   {
    "duration": 4,
    "start_time": "2022-06-16T18:05:25.892Z"
   },
   {
    "duration": 10,
    "start_time": "2022-06-16T18:05:29.444Z"
   },
   {
    "duration": 3,
    "start_time": "2022-06-16T18:11:42.212Z"
   },
   {
    "duration": 3,
    "start_time": "2022-06-16T18:15:40.508Z"
   },
   {
    "duration": 10,
    "start_time": "2022-06-16T18:15:41.575Z"
   },
   {
    "duration": 8,
    "start_time": "2022-06-16T18:29:21.202Z"
   },
   {
    "duration": 11,
    "start_time": "2022-06-16T18:31:27.490Z"
   },
   {
    "duration": 10,
    "start_time": "2022-06-16T18:32:52.720Z"
   },
   {
    "duration": 13,
    "start_time": "2022-06-16T18:32:58.703Z"
   },
   {
    "duration": 6,
    "start_time": "2022-06-16T18:40:52.386Z"
   },
   {
    "duration": 18,
    "start_time": "2022-06-16T18:42:16.023Z"
   },
   {
    "duration": 6,
    "start_time": "2022-06-16T18:42:52.624Z"
   },
   {
    "duration": 12,
    "start_time": "2022-06-16T18:42:58.824Z"
   },
   {
    "duration": 17,
    "start_time": "2022-06-16T18:44:03.871Z"
   },
   {
    "duration": 14,
    "start_time": "2022-06-16T18:44:34.708Z"
   },
   {
    "duration": 34,
    "start_time": "2022-06-16T18:45:33.117Z"
   },
   {
    "duration": 5,
    "start_time": "2022-06-16T18:45:36.964Z"
   },
   {
    "duration": 13,
    "start_time": "2022-06-16T18:45:40.694Z"
   },
   {
    "duration": 10,
    "start_time": "2022-06-16T18:47:11.201Z"
   },
   {
    "duration": 10,
    "start_time": "2022-06-16T18:47:33.220Z"
   },
   {
    "duration": 11,
    "start_time": "2022-06-16T18:56:07.257Z"
   },
   {
    "duration": 17,
    "start_time": "2022-06-16T18:57:06.920Z"
   },
   {
    "duration": 16,
    "start_time": "2022-06-16T18:57:39.261Z"
   },
   {
    "duration": 33,
    "start_time": "2022-06-16T18:58:40.686Z"
   },
   {
    "duration": 13,
    "start_time": "2022-06-16T18:59:55.229Z"
   },
   {
    "duration": 18,
    "start_time": "2022-06-16T19:01:14.329Z"
   },
   {
    "duration": 9,
    "start_time": "2022-06-16T19:01:50.454Z"
   },
   {
    "duration": 7,
    "start_time": "2022-06-16T19:01:58.727Z"
   },
   {
    "duration": 14,
    "start_time": "2022-06-16T19:02:02.954Z"
   },
   {
    "duration": 21,
    "start_time": "2022-06-16T19:02:14.568Z"
   },
   {
    "duration": 14,
    "start_time": "2022-06-16T19:03:26.114Z"
   },
   {
    "duration": 13,
    "start_time": "2022-06-16T19:03:31.857Z"
   },
   {
    "duration": 511,
    "start_time": "2022-06-16T19:09:20.564Z"
   },
   {
    "duration": 45,
    "start_time": "2022-06-16T19:09:44.501Z"
   },
   {
    "duration": 29,
    "start_time": "2022-06-16T19:12:18.457Z"
   },
   {
    "duration": 7,
    "start_time": "2022-06-16T19:19:53.117Z"
   },
   {
    "duration": 10,
    "start_time": "2022-06-16T19:20:46.998Z"
   },
   {
    "duration": 62,
    "start_time": "2022-06-16T19:22:29.352Z"
   },
   {
    "duration": 9,
    "start_time": "2022-06-16T19:24:57.428Z"
   },
   {
    "duration": 4,
    "start_time": "2022-06-16T19:29:18.396Z"
   },
   {
    "duration": 35,
    "start_time": "2022-06-16T19:29:24.095Z"
   },
   {
    "duration": 41,
    "start_time": "2022-06-16T19:29:36.679Z"
   },
   {
    "duration": 43,
    "start_time": "2022-06-16T19:29:41.818Z"
   },
   {
    "duration": 31,
    "start_time": "2022-06-16T19:30:34.073Z"
   },
   {
    "duration": 10,
    "start_time": "2022-06-16T19:35:18.310Z"
   },
   {
    "duration": 381,
    "start_time": "2022-06-16T19:41:31.623Z"
   },
   {
    "duration": 632,
    "start_time": "2022-06-16T19:42:07.548Z"
   },
   {
    "duration": 32,
    "start_time": "2022-06-16T19:42:36.127Z"
   },
   {
    "duration": 15,
    "start_time": "2022-06-16T19:51:01.745Z"
   },
   {
    "duration": 55,
    "start_time": "2022-06-16T19:51:14.724Z"
   },
   {
    "duration": 9,
    "start_time": "2022-06-16T19:51:20.392Z"
   },
   {
    "duration": 449,
    "start_time": "2022-06-16T19:51:55.890Z"
   },
   {
    "duration": 16,
    "start_time": "2022-06-16T19:52:34.387Z"
   },
   {
    "duration": 32,
    "start_time": "2022-06-16T19:57:29.595Z"
   },
   {
    "duration": 27,
    "start_time": "2022-06-16T19:58:12.094Z"
   },
   {
    "duration": 36,
    "start_time": "2022-06-16T20:01:07.018Z"
   },
   {
    "duration": 29,
    "start_time": "2022-06-16T20:02:07.113Z"
   },
   {
    "duration": 10,
    "start_time": "2022-06-16T20:02:17.723Z"
   },
   {
    "duration": 15,
    "start_time": "2022-06-16T20:02:25.220Z"
   },
   {
    "duration": 12,
    "start_time": "2022-06-16T20:02:50.241Z"
   },
   {
    "duration": 29,
    "start_time": "2022-06-16T20:03:03.553Z"
   },
   {
    "duration": 19,
    "start_time": "2022-06-16T20:05:34.594Z"
   },
   {
    "duration": 869,
    "start_time": "2022-06-16T20:12:44.967Z"
   },
   {
    "duration": 177,
    "start_time": "2022-06-16T20:13:35.204Z"
   },
   {
    "duration": 430,
    "start_time": "2022-06-16T20:13:47.485Z"
   },
   {
    "duration": 34,
    "start_time": "2022-06-16T20:23:17.971Z"
   },
   {
    "duration": 895,
    "start_time": "2022-06-16T20:23:56.568Z"
   },
   {
    "duration": 1014,
    "start_time": "2022-06-16T20:24:22.459Z"
   },
   {
    "duration": 407,
    "start_time": "2022-06-17T16:25:29.699Z"
   },
   {
    "duration": 562,
    "start_time": "2022-06-17T16:25:30.107Z"
   },
   {
    "duration": 426,
    "start_time": "2022-06-17T16:25:30.670Z"
   },
   {
    "duration": 151,
    "start_time": "2022-06-17T16:25:31.099Z"
   },
   {
    "duration": 73,
    "start_time": "2022-06-17T16:25:31.252Z"
   },
   {
    "duration": 91,
    "start_time": "2022-06-17T16:25:31.327Z"
   },
   {
    "duration": 6,
    "start_time": "2022-06-17T16:25:31.419Z"
   },
   {
    "duration": 29,
    "start_time": "2022-06-17T16:25:31.427Z"
   },
   {
    "duration": 94985,
    "start_time": "2022-06-17T16:25:31.457Z"
   },
   {
    "duration": 4,
    "start_time": "2022-06-17T16:27:06.445Z"
   },
   {
    "duration": 51,
    "start_time": "2022-06-17T16:27:06.451Z"
   },
   {
    "duration": 14,
    "start_time": "2022-06-17T16:27:06.504Z"
   },
   {
    "duration": 51,
    "start_time": "2022-06-17T16:27:06.519Z"
   },
   {
    "duration": 18,
    "start_time": "2022-06-17T16:27:06.571Z"
   },
   {
    "duration": 38,
    "start_time": "2022-06-17T16:27:06.590Z"
   },
   {
    "duration": 3,
    "start_time": "2022-06-17T16:27:06.629Z"
   },
   {
    "duration": 24,
    "start_time": "2022-06-17T16:27:06.633Z"
   },
   {
    "duration": 8,
    "start_time": "2022-06-17T16:27:06.659Z"
   },
   {
    "duration": 23,
    "start_time": "2022-06-17T16:27:06.669Z"
   },
   {
    "duration": 34,
    "start_time": "2022-06-17T16:27:06.693Z"
   },
   {
    "duration": 15,
    "start_time": "2022-06-17T16:27:06.728Z"
   },
   {
    "duration": 40,
    "start_time": "2022-06-17T16:27:06.744Z"
   },
   {
    "duration": 3,
    "start_time": "2022-06-17T16:27:06.786Z"
   },
   {
    "duration": 28,
    "start_time": "2022-06-17T16:27:06.790Z"
   },
   {
    "duration": 25,
    "start_time": "2022-06-17T16:27:06.820Z"
   },
   {
    "duration": 23,
    "start_time": "2022-06-17T16:27:06.846Z"
   },
   {
    "duration": 28,
    "start_time": "2022-06-17T16:27:06.871Z"
   },
   {
    "duration": 9,
    "start_time": "2022-06-17T16:27:06.902Z"
   },
   {
    "duration": 25,
    "start_time": "2022-06-17T16:27:06.912Z"
   },
   {
    "duration": 40,
    "start_time": "2022-06-17T16:27:06.939Z"
   },
   {
    "duration": 10,
    "start_time": "2022-06-17T16:27:06.980Z"
   },
   {
    "duration": 11,
    "start_time": "2022-06-17T16:27:06.991Z"
   },
   {
    "duration": 26,
    "start_time": "2022-06-17T16:27:07.003Z"
   },
   {
    "duration": 635,
    "start_time": "2022-06-17T16:27:07.031Z"
   },
   {
    "duration": 45,
    "start_time": "2022-06-17T16:27:07.668Z"
   },
   {
    "duration": 15,
    "start_time": "2022-06-17T16:27:07.715Z"
   },
   {
    "duration": 27,
    "start_time": "2022-06-17T16:27:07.732Z"
   },
   {
    "duration": 17,
    "start_time": "2022-06-17T16:28:52.924Z"
   },
   {
    "duration": 373,
    "start_time": "2022-06-19T10:13:06.189Z"
   },
   {
    "duration": 313,
    "start_time": "2022-06-19T10:13:06.564Z"
   },
   {
    "duration": 411,
    "start_time": "2022-06-19T10:13:06.879Z"
   },
   {
    "duration": 796,
    "start_time": "2022-06-19T10:13:07.293Z"
   },
   {
    "duration": 93,
    "start_time": "2022-06-19T10:13:08.091Z"
   },
   {
    "duration": 90,
    "start_time": "2022-06-19T10:13:08.186Z"
   },
   {
    "duration": 7,
    "start_time": "2022-06-19T10:13:08.278Z"
   },
   {
    "duration": 27,
    "start_time": "2022-06-19T10:13:08.287Z"
   },
   {
    "duration": 103443,
    "start_time": "2022-06-19T10:13:08.316Z"
   },
   {
    "duration": 6,
    "start_time": "2022-06-19T10:14:51.761Z"
   },
   {
    "duration": 35,
    "start_time": "2022-06-19T10:14:51.768Z"
   },
   {
    "duration": 33,
    "start_time": "2022-06-19T10:14:51.805Z"
   },
   {
    "duration": 66,
    "start_time": "2022-06-19T10:14:51.839Z"
   },
   {
    "duration": 21,
    "start_time": "2022-06-19T10:14:51.907Z"
   },
   {
    "duration": 51,
    "start_time": "2022-06-19T10:14:51.936Z"
   },
   {
    "duration": 3,
    "start_time": "2022-06-19T10:14:51.988Z"
   },
   {
    "duration": 17,
    "start_time": "2022-06-19T10:14:51.993Z"
   },
   {
    "duration": 15,
    "start_time": "2022-06-19T10:14:52.012Z"
   },
   {
    "duration": 62,
    "start_time": "2022-06-19T10:14:52.029Z"
   },
   {
    "duration": 52,
    "start_time": "2022-06-19T10:14:52.092Z"
   },
   {
    "duration": 19,
    "start_time": "2022-06-19T10:14:52.145Z"
   },
   {
    "duration": 34,
    "start_time": "2022-06-19T10:14:52.166Z"
   },
   {
    "duration": 3,
    "start_time": "2022-06-19T10:14:52.202Z"
   },
   {
    "duration": 44,
    "start_time": "2022-06-19T10:14:52.206Z"
   },
   {
    "duration": 32,
    "start_time": "2022-06-19T10:14:52.253Z"
   },
   {
    "duration": 18,
    "start_time": "2022-06-19T10:14:52.287Z"
   },
   {
    "duration": 39,
    "start_time": "2022-06-19T10:14:52.307Z"
   },
   {
    "duration": 3,
    "start_time": "2022-06-19T10:14:52.356Z"
   },
   {
    "duration": 15,
    "start_time": "2022-06-19T10:14:52.361Z"
   },
   {
    "duration": 39,
    "start_time": "2022-06-19T10:14:52.378Z"
   },
   {
    "duration": 19,
    "start_time": "2022-06-19T10:14:52.419Z"
   },
   {
    "duration": 32,
    "start_time": "2022-06-19T10:14:52.441Z"
   },
   {
    "duration": 31,
    "start_time": "2022-06-19T10:14:52.475Z"
   },
   {
    "duration": 777,
    "start_time": "2022-06-19T10:14:52.508Z"
   },
   {
    "duration": 40,
    "start_time": "2022-06-19T10:14:53.287Z"
   },
   {
    "duration": 22,
    "start_time": "2022-06-19T10:14:53.332Z"
   },
   {
    "duration": 43,
    "start_time": "2022-06-19T10:14:53.357Z"
   },
   {
    "duration": 604,
    "start_time": "2022-06-19T10:16:12.952Z"
   },
   {
    "duration": 28,
    "start_time": "2022-06-19T10:16:19.113Z"
   },
   {
    "duration": 19,
    "start_time": "2022-06-19T10:16:48.814Z"
   },
   {
    "duration": 19,
    "start_time": "2022-06-19T10:17:36.387Z"
   },
   {
    "duration": 58,
    "start_time": "2022-06-19T10:19:28.682Z"
   },
   {
    "duration": 423,
    "start_time": "2022-06-19T10:20:01.086Z"
   },
   {
    "duration": 227,
    "start_time": "2022-06-19T10:20:03.260Z"
   },
   {
    "duration": 197,
    "start_time": "2022-06-19T10:20:04.805Z"
   },
   {
    "duration": 117,
    "start_time": "2022-06-19T10:20:05.753Z"
   },
   {
    "duration": 53,
    "start_time": "2022-06-19T10:20:07.420Z"
   },
   {
    "duration": 52,
    "start_time": "2022-06-19T10:20:10.565Z"
   },
   {
    "duration": 8,
    "start_time": "2022-06-19T10:20:17.958Z"
   },
   {
    "duration": 25,
    "start_time": "2022-06-19T10:20:19.718Z"
   },
   {
    "duration": 57,
    "start_time": "2022-06-19T10:20:21.998Z"
   },
   {
    "duration": 45,
    "start_time": "2022-06-19T10:20:42.570Z"
   },
   {
    "duration": 50,
    "start_time": "2022-06-19T10:20:50.551Z"
   },
   {
    "duration": 6,
    "start_time": "2022-06-19T10:20:51.452Z"
   },
   {
    "duration": 29,
    "start_time": "2022-06-19T10:20:55.577Z"
   },
   {
    "duration": 18,
    "start_time": "2022-06-19T10:20:55.859Z"
   },
   {
    "duration": 46,
    "start_time": "2022-06-19T10:20:58.858Z"
   },
   {
    "duration": 21,
    "start_time": "2022-06-19T10:20:59.362Z"
   },
   {
    "duration": 60,
    "start_time": "2022-06-19T10:20:59.531Z"
   },
   {
    "duration": 3,
    "start_time": "2022-06-19T10:20:59.698Z"
   },
   {
    "duration": 11,
    "start_time": "2022-06-19T10:20:59.867Z"
   },
   {
    "duration": 11,
    "start_time": "2022-06-19T10:21:00.522Z"
   },
   {
    "duration": 37,
    "start_time": "2022-06-19T10:21:00.714Z"
   },
   {
    "duration": 52,
    "start_time": "2022-06-19T10:21:01.061Z"
   },
   {
    "duration": 22,
    "start_time": "2022-06-19T10:21:01.554Z"
   },
   {
    "duration": 35,
    "start_time": "2022-06-19T10:21:01.723Z"
   },
   {
    "duration": 3,
    "start_time": "2022-06-19T10:21:01.892Z"
   },
   {
    "duration": 14,
    "start_time": "2022-06-19T10:21:02.060Z"
   },
   {
    "duration": 23,
    "start_time": "2022-06-19T10:21:02.355Z"
   },
   {
    "duration": 14,
    "start_time": "2022-06-19T10:21:02.875Z"
   },
   {
    "duration": 26,
    "start_time": "2022-06-19T10:21:03.051Z"
   },
   {
    "duration": 3,
    "start_time": "2022-06-19T10:21:03.219Z"
   },
   {
    "duration": 11,
    "start_time": "2022-06-19T10:21:03.396Z"
   },
   {
    "duration": 51,
    "start_time": "2022-06-19T10:21:03.746Z"
   },
   {
    "duration": 16,
    "start_time": "2022-06-19T10:21:03.915Z"
   },
   {
    "duration": 20,
    "start_time": "2022-06-19T10:21:04.458Z"
   },
   {
    "duration": 46,
    "start_time": "2022-06-19T10:21:04.620Z"
   },
   {
    "duration": 722,
    "start_time": "2022-06-19T10:21:04.795Z"
   },
   {
    "duration": 43,
    "start_time": "2022-06-19T10:21:05.519Z"
   },
   {
    "duration": 14,
    "start_time": "2022-06-19T10:21:05.564Z"
   },
   {
    "duration": 19,
    "start_time": "2022-06-19T10:21:05.580Z"
   },
   {
    "duration": 21,
    "start_time": "2022-06-19T10:21:55.211Z"
   },
   {
    "duration": 521,
    "start_time": "2022-06-19T10:22:22.155Z"
   },
   {
    "duration": 232,
    "start_time": "2022-06-19T11:19:19.198Z"
   },
   {
    "duration": 268,
    "start_time": "2022-06-19T11:19:47.524Z"
   },
   {
    "duration": 368,
    "start_time": "2022-06-19T11:19:47.795Z"
   },
   {
    "duration": 601,
    "start_time": "2022-06-19T11:19:48.166Z"
   },
   {
    "duration": 753,
    "start_time": "2022-06-19T11:19:48.771Z"
   },
   {
    "duration": 96,
    "start_time": "2022-06-19T11:19:49.526Z"
   },
   {
    "duration": 92,
    "start_time": "2022-06-19T11:19:49.624Z"
   },
   {
    "duration": 7,
    "start_time": "2022-06-19T11:19:49.718Z"
   },
   {
    "duration": 53,
    "start_time": "2022-06-19T11:19:49.728Z"
   },
   {
    "duration": 90,
    "start_time": "2022-06-19T11:19:49.787Z"
   },
   {
    "duration": 6,
    "start_time": "2022-06-19T11:19:49.881Z"
   },
   {
    "duration": 68,
    "start_time": "2022-06-19T11:19:49.889Z"
   },
   {
    "duration": 27,
    "start_time": "2022-06-19T11:19:49.959Z"
   },
   {
    "duration": 81,
    "start_time": "2022-06-19T11:19:49.989Z"
   },
   {
    "duration": 24,
    "start_time": "2022-06-19T11:19:50.072Z"
   },
   {
    "duration": 78,
    "start_time": "2022-06-19T11:19:50.099Z"
   },
   {
    "duration": 2,
    "start_time": "2022-06-19T11:19:50.179Z"
   },
   {
    "duration": 37,
    "start_time": "2022-06-19T11:19:50.184Z"
   },
   {
    "duration": 32,
    "start_time": "2022-06-19T11:19:50.223Z"
   },
   {
    "duration": 55,
    "start_time": "2022-06-19T11:19:50.257Z"
   },
   {
    "duration": 79,
    "start_time": "2022-06-19T11:19:50.314Z"
   },
   {
    "duration": 18,
    "start_time": "2022-06-19T11:19:50.395Z"
   },
   {
    "duration": 34,
    "start_time": "2022-06-19T11:19:50.415Z"
   },
   {
    "duration": 5,
    "start_time": "2022-06-19T11:19:50.450Z"
   },
   {
    "duration": 69,
    "start_time": "2022-06-19T11:19:50.458Z"
   },
   {
    "duration": 64,
    "start_time": "2022-06-19T11:19:50.531Z"
   },
   {
    "duration": 24,
    "start_time": "2022-06-19T11:19:50.597Z"
   },
   {
    "duration": 37,
    "start_time": "2022-06-19T11:19:50.623Z"
   },
   {
    "duration": 12,
    "start_time": "2022-06-19T11:19:50.665Z"
   },
   {
    "duration": 36,
    "start_time": "2022-06-19T11:19:50.679Z"
   },
   {
    "duration": 63,
    "start_time": "2022-06-19T11:19:50.717Z"
   },
   {
    "duration": 23,
    "start_time": "2022-06-19T11:19:50.782Z"
   },
   {
    "duration": 34,
    "start_time": "2022-06-19T11:19:50.808Z"
   },
   {
    "duration": 46,
    "start_time": "2022-06-19T11:19:50.845Z"
   },
   {
    "duration": 986,
    "start_time": "2022-06-19T11:19:50.894Z"
   },
   {
    "duration": 47,
    "start_time": "2022-06-19T11:19:51.882Z"
   },
   {
    "duration": 17,
    "start_time": "2022-06-19T11:19:51.932Z"
   },
   {
    "duration": 32,
    "start_time": "2022-06-19T11:19:51.951Z"
   },
   {
    "duration": 3,
    "start_time": "2022-06-19T11:19:56.076Z"
   },
   {
    "duration": 826,
    "start_time": "2022-06-19T11:20:05.816Z"
   },
   {
    "duration": 235,
    "start_time": "2022-06-19T11:21:46.555Z"
   },
   {
    "duration": 189,
    "start_time": "2022-06-19T11:21:56.482Z"
   },
   {
    "duration": 167,
    "start_time": "2022-06-19T11:22:03.691Z"
   },
   {
    "duration": 298,
    "start_time": "2022-06-19T11:22:39.284Z"
   },
   {
    "duration": 207,
    "start_time": "2022-06-19T11:23:18.642Z"
   },
   {
    "duration": 180,
    "start_time": "2022-06-19T11:28:12.126Z"
   },
   {
    "duration": 178,
    "start_time": "2022-06-19T11:28:16.911Z"
   },
   {
    "duration": 191,
    "start_time": "2022-06-19T11:28:35.465Z"
   },
   {
    "duration": 150,
    "start_time": "2022-06-19T11:29:18.063Z"
   },
   {
    "duration": 161,
    "start_time": "2022-06-19T11:29:42.603Z"
   },
   {
    "duration": 244,
    "start_time": "2022-06-19T11:30:20.871Z"
   },
   {
    "duration": 178,
    "start_time": "2022-06-19T11:30:28.024Z"
   },
   {
    "duration": 177,
    "start_time": "2022-06-19T11:32:00.604Z"
   },
   {
    "duration": 175,
    "start_time": "2022-06-19T11:32:35.244Z"
   },
   {
    "duration": 203,
    "start_time": "2022-06-19T11:33:50.477Z"
   },
   {
    "duration": 163,
    "start_time": "2022-06-19T11:34:04.950Z"
   },
   {
    "duration": 148,
    "start_time": "2022-06-19T11:43:10.697Z"
   },
   {
    "duration": 141,
    "start_time": "2022-06-19T11:43:18.881Z"
   },
   {
    "duration": 12,
    "start_time": "2022-06-19T11:53:26.916Z"
   },
   {
    "duration": 13,
    "start_time": "2022-06-19T11:53:32.048Z"
   },
   {
    "duration": 18,
    "start_time": "2022-06-19T11:53:48.903Z"
   },
   {
    "duration": 10,
    "start_time": "2022-06-19T11:54:12.242Z"
   },
   {
    "duration": 15,
    "start_time": "2022-06-19T12:05:35.745Z"
   },
   {
    "duration": 18,
    "start_time": "2022-06-19T12:06:25.743Z"
   },
   {
    "duration": 19,
    "start_time": "2022-06-19T12:06:40.186Z"
   },
   {
    "duration": 17,
    "start_time": "2022-06-19T12:07:46.378Z"
   },
   {
    "duration": 20,
    "start_time": "2022-06-19T12:07:53.474Z"
   },
   {
    "duration": 26,
    "start_time": "2022-06-19T12:08:25.598Z"
   },
   {
    "duration": 565,
    "start_time": "2022-06-19T12:09:08.143Z"
   },
   {
    "duration": 12,
    "start_time": "2022-06-19T12:09:13.422Z"
   },
   {
    "duration": 24,
    "start_time": "2022-06-19T12:11:39.360Z"
   },
   {
    "duration": 8,
    "start_time": "2022-06-19T12:11:54.979Z"
   },
   {
    "duration": 359,
    "start_time": "2022-06-19T12:11:59.011Z"
   },
   {
    "duration": 7,
    "start_time": "2022-06-19T12:12:04.148Z"
   },
   {
    "duration": 9,
    "start_time": "2022-06-19T12:31:25.791Z"
   },
   {
    "duration": 15,
    "start_time": "2022-06-19T12:34:30.052Z"
   },
   {
    "duration": 17,
    "start_time": "2022-06-19T12:35:03.865Z"
   },
   {
    "duration": 13,
    "start_time": "2022-06-19T12:36:25.161Z"
   },
   {
    "duration": 18,
    "start_time": "2022-06-19T12:37:57.554Z"
   },
   {
    "duration": 572,
    "start_time": "2022-06-19T12:39:05.630Z"
   },
   {
    "duration": 372,
    "start_time": "2022-06-19T12:39:06.204Z"
   },
   {
    "duration": 237,
    "start_time": "2022-06-19T12:39:06.583Z"
   },
   {
    "duration": 174,
    "start_time": "2022-06-19T12:39:06.825Z"
   },
   {
    "duration": 36,
    "start_time": "2022-06-19T12:39:07.001Z"
   },
   {
    "duration": 74,
    "start_time": "2022-06-19T12:39:07.040Z"
   },
   {
    "duration": 10,
    "start_time": "2022-06-19T12:39:07.116Z"
   },
   {
    "duration": 80,
    "start_time": "2022-06-19T12:39:07.131Z"
   },
   {
    "duration": 113,
    "start_time": "2022-06-19T12:39:07.215Z"
   },
   {
    "duration": 7,
    "start_time": "2022-06-19T12:39:07.332Z"
   },
   {
    "duration": 77,
    "start_time": "2022-06-19T12:39:07.340Z"
   },
   {
    "duration": 26,
    "start_time": "2022-06-19T12:39:07.419Z"
   },
   {
    "duration": 124,
    "start_time": "2022-06-19T12:39:07.447Z"
   },
   {
    "duration": 58,
    "start_time": "2022-06-19T12:39:07.573Z"
   },
   {
    "duration": 98,
    "start_time": "2022-06-19T12:39:07.638Z"
   },
   {
    "duration": 4,
    "start_time": "2022-06-19T12:39:07.738Z"
   },
   {
    "duration": 73,
    "start_time": "2022-06-19T12:39:07.744Z"
   },
   {
    "duration": 68,
    "start_time": "2022-06-19T12:39:07.819Z"
   },
   {
    "duration": 50,
    "start_time": "2022-06-19T12:39:07.890Z"
   },
   {
    "duration": 75,
    "start_time": "2022-06-19T12:39:07.944Z"
   },
   {
    "duration": 33,
    "start_time": "2022-06-19T12:39:08.021Z"
   },
   {
    "duration": 64,
    "start_time": "2022-06-19T12:39:08.059Z"
   },
   {
    "duration": 9,
    "start_time": "2022-06-19T12:39:08.125Z"
   },
   {
    "duration": 70,
    "start_time": "2022-06-19T12:39:08.136Z"
   },
   {
    "duration": 37,
    "start_time": "2022-06-19T12:39:08.209Z"
   },
   {
    "duration": 60,
    "start_time": "2022-06-19T12:39:08.250Z"
   },
   {
    "duration": 65,
    "start_time": "2022-06-19T12:39:08.311Z"
   },
   {
    "duration": 5,
    "start_time": "2022-06-19T12:39:08.391Z"
   },
   {
    "duration": 32,
    "start_time": "2022-06-19T12:39:08.399Z"
   },
   {
    "duration": 76,
    "start_time": "2022-06-19T12:39:08.434Z"
   },
   {
    "duration": 38,
    "start_time": "2022-06-19T12:39:08.513Z"
   },
   {
    "duration": 78,
    "start_time": "2022-06-19T12:39:08.553Z"
   },
   {
    "duration": 71,
    "start_time": "2022-06-19T12:39:08.637Z"
   },
   {
    "duration": 929,
    "start_time": "2022-06-19T12:39:08.714Z"
   },
   {
    "duration": 47,
    "start_time": "2022-06-19T12:39:09.646Z"
   },
   {
    "duration": 21,
    "start_time": "2022-06-19T12:39:09.694Z"
   },
   {
    "duration": 53,
    "start_time": "2022-06-19T12:39:09.717Z"
   },
   {
    "duration": 11,
    "start_time": "2022-06-19T12:39:09.772Z"
   },
   {
    "duration": 560,
    "start_time": "2022-06-19T12:39:09.785Z"
   },
   {
    "duration": 253,
    "start_time": "2022-06-19T12:39:10.347Z"
   },
   {
    "duration": 247,
    "start_time": "2022-06-19T12:39:10.602Z"
   },
   {
    "duration": 198,
    "start_time": "2022-06-19T12:39:10.854Z"
   },
   {
    "duration": 327,
    "start_time": "2022-06-19T12:39:11.053Z"
   },
   {
    "duration": 220,
    "start_time": "2022-06-19T12:39:11.382Z"
   },
   {
    "duration": 31,
    "start_time": "2022-06-19T12:39:11.604Z"
   },
   {
    "duration": 28,
    "start_time": "2022-06-19T12:39:11.642Z"
   },
   {
    "duration": 53,
    "start_time": "2022-06-19T12:39:44.499Z"
   },
   {
    "duration": 28,
    "start_time": "2022-06-19T12:40:57.681Z"
   },
   {
    "duration": 21,
    "start_time": "2022-06-19T12:42:06.707Z"
   },
   {
    "duration": 617,
    "start_time": "2022-06-19T12:42:52.600Z"
   },
   {
    "duration": 12,
    "start_time": "2022-06-19T12:44:29.900Z"
   },
   {
    "duration": 9,
    "start_time": "2022-06-19T12:47:37.211Z"
   },
   {
    "duration": 192,
    "start_time": "2022-06-19T12:53:03.393Z"
   },
   {
    "duration": 38,
    "start_time": "2022-06-19T12:53:13.912Z"
   },
   {
    "duration": 7,
    "start_time": "2022-06-19T12:53:16.088Z"
   },
   {
    "duration": 20,
    "start_time": "2022-06-19T12:53:18.061Z"
   },
   {
    "duration": 7,
    "start_time": "2022-06-19T12:53:48.787Z"
   },
   {
    "duration": 8,
    "start_time": "2022-06-19T12:54:13.893Z"
   },
   {
    "duration": 9,
    "start_time": "2022-06-19T13:00:53.874Z"
   },
   {
    "duration": 13,
    "start_time": "2022-06-19T13:01:39.971Z"
   },
   {
    "duration": 9,
    "start_time": "2022-06-19T13:14:15.921Z"
   },
   {
    "duration": 71,
    "start_time": "2022-06-19T19:59:10.495Z"
   },
   {
    "duration": 377,
    "start_time": "2022-06-19T19:59:28.369Z"
   },
   {
    "duration": 286,
    "start_time": "2022-06-19T19:59:28.749Z"
   },
   {
    "duration": 331,
    "start_time": "2022-06-19T19:59:29.037Z"
   },
   {
    "duration": 329,
    "start_time": "2022-06-19T19:59:29.369Z"
   },
   {
    "duration": 76,
    "start_time": "2022-06-19T19:59:29.701Z"
   },
   {
    "duration": 84,
    "start_time": "2022-06-19T19:59:29.778Z"
   },
   {
    "duration": 6,
    "start_time": "2022-06-19T19:59:29.864Z"
   },
   {
    "duration": 23,
    "start_time": "2022-06-19T19:59:29.871Z"
   },
   {
    "duration": 39,
    "start_time": "2022-06-19T19:59:29.896Z"
   },
   {
    "duration": 5,
    "start_time": "2022-06-19T19:59:29.937Z"
   },
   {
    "duration": 29,
    "start_time": "2022-06-19T19:59:29.944Z"
   },
   {
    "duration": 19,
    "start_time": "2022-06-19T19:59:29.975Z"
   },
   {
    "duration": 64,
    "start_time": "2022-06-19T19:59:29.996Z"
   },
   {
    "duration": 18,
    "start_time": "2022-06-19T19:59:30.063Z"
   },
   {
    "duration": 61,
    "start_time": "2022-06-19T19:59:30.082Z"
   },
   {
    "duration": 3,
    "start_time": "2022-06-19T19:59:30.144Z"
   },
   {
    "duration": 19,
    "start_time": "2022-06-19T19:59:30.149Z"
   },
   {
    "duration": 14,
    "start_time": "2022-06-19T19:59:30.170Z"
   },
   {
    "duration": 32,
    "start_time": "2022-06-19T19:59:30.185Z"
   },
   {
    "duration": 46,
    "start_time": "2022-06-19T19:59:30.218Z"
   },
   {
    "duration": 16,
    "start_time": "2022-06-19T19:59:30.266Z"
   },
   {
    "duration": 30,
    "start_time": "2022-06-19T19:59:30.283Z"
   },
   {
    "duration": 3,
    "start_time": "2022-06-19T19:59:30.327Z"
   },
   {
    "duration": 23,
    "start_time": "2022-06-19T19:59:30.332Z"
   },
   {
    "duration": 28,
    "start_time": "2022-06-19T19:59:30.356Z"
   },
   {
    "duration": 18,
    "start_time": "2022-06-19T19:59:30.386Z"
   },
   {
    "duration": 39,
    "start_time": "2022-06-19T19:59:30.406Z"
   },
   {
    "duration": 5,
    "start_time": "2022-06-19T19:59:30.446Z"
   },
   {
    "duration": 23,
    "start_time": "2022-06-19T19:59:30.453Z"
   },
   {
    "duration": 44,
    "start_time": "2022-06-19T19:59:30.478Z"
   },
   {
    "duration": 14,
    "start_time": "2022-06-19T19:59:30.523Z"
   },
   {
    "duration": 26,
    "start_time": "2022-06-19T19:59:30.538Z"
   },
   {
    "duration": 38,
    "start_time": "2022-06-19T19:59:30.566Z"
   },
   {
    "duration": 697,
    "start_time": "2022-06-19T19:59:30.607Z"
   },
   {
    "duration": 41,
    "start_time": "2022-06-19T19:59:31.306Z"
   },
   {
    "duration": 14,
    "start_time": "2022-06-19T19:59:31.349Z"
   },
   {
    "duration": 25,
    "start_time": "2022-06-19T19:59:31.365Z"
   },
   {
    "duration": 4,
    "start_time": "2022-06-19T19:59:31.392Z"
   },
   {
    "duration": 4,
    "start_time": "2022-06-19T19:59:31.437Z"
   },
   {
    "duration": 450,
    "start_time": "2022-06-19T19:59:31.443Z"
   },
   {
    "duration": 171,
    "start_time": "2022-06-19T19:59:31.898Z"
   },
   {
    "duration": 161,
    "start_time": "2022-06-19T19:59:32.071Z"
   },
   {
    "duration": 150,
    "start_time": "2022-06-19T19:59:32.234Z"
   },
   {
    "duration": 217,
    "start_time": "2022-06-19T19:59:32.386Z"
   },
   {
    "duration": 153,
    "start_time": "2022-06-19T19:59:32.605Z"
   },
   {
    "duration": 421,
    "start_time": "2022-06-19T19:59:32.759Z"
   },
   {
    "duration": 20,
    "start_time": "2022-06-19T19:59:33.182Z"
   },
   {
    "duration": 5,
    "start_time": "2022-06-19T19:59:33.204Z"
   },
   {
    "duration": 23,
    "start_time": "2022-06-19T19:59:33.228Z"
   },
   {
    "duration": 6,
    "start_time": "2022-06-19T19:59:33.253Z"
   },
   {
    "duration": 28,
    "start_time": "2022-06-19T19:59:33.261Z"
   },
   {
    "duration": 7,
    "start_time": "2022-06-19T19:59:33.291Z"
   },
   {
    "duration": 28,
    "start_time": "2022-06-19T19:59:33.300Z"
   },
   {
    "duration": 7,
    "start_time": "2022-06-19T19:59:33.330Z"
   },
   {
    "duration": 4,
    "start_time": "2022-06-19T20:06:01.381Z"
   },
   {
    "duration": 360,
    "start_time": "2022-06-19T20:15:53.383Z"
   },
   {
    "duration": 197,
    "start_time": "2022-06-19T20:15:53.745Z"
   },
   {
    "duration": 157,
    "start_time": "2022-06-19T20:15:53.944Z"
   },
   {
    "duration": 101,
    "start_time": "2022-06-19T20:15:54.102Z"
   },
   {
    "duration": 28,
    "start_time": "2022-06-19T20:15:54.205Z"
   },
   {
    "duration": 44,
    "start_time": "2022-06-19T20:15:54.235Z"
   },
   {
    "duration": 7,
    "start_time": "2022-06-19T20:15:54.280Z"
   },
   {
    "duration": 22,
    "start_time": "2022-06-19T20:15:54.289Z"
   },
   {
    "duration": 47,
    "start_time": "2022-06-19T20:15:54.312Z"
   },
   {
    "duration": 6,
    "start_time": "2022-06-19T20:15:54.360Z"
   },
   {
    "duration": 36,
    "start_time": "2022-06-19T20:15:54.367Z"
   },
   {
    "duration": 28,
    "start_time": "2022-06-19T20:15:54.405Z"
   },
   {
    "duration": 42,
    "start_time": "2022-06-19T20:15:54.435Z"
   },
   {
    "duration": 18,
    "start_time": "2022-06-19T20:15:54.480Z"
   },
   {
    "duration": 60,
    "start_time": "2022-06-19T20:15:54.500Z"
   },
   {
    "duration": 2,
    "start_time": "2022-06-19T20:15:54.562Z"
   },
   {
    "duration": 12,
    "start_time": "2022-06-19T20:15:54.566Z"
   },
   {
    "duration": 7,
    "start_time": "2022-06-19T20:15:54.580Z"
   },
   {
    "duration": 45,
    "start_time": "2022-06-19T20:15:54.588Z"
   },
   {
    "duration": 48,
    "start_time": "2022-06-19T20:15:54.635Z"
   },
   {
    "duration": 17,
    "start_time": "2022-06-19T20:15:54.685Z"
   },
   {
    "duration": 34,
    "start_time": "2022-06-19T20:15:54.704Z"
   },
   {
    "duration": 3,
    "start_time": "2022-06-19T20:15:54.740Z"
   },
   {
    "duration": 21,
    "start_time": "2022-06-19T20:15:54.744Z"
   },
   {
    "duration": 21,
    "start_time": "2022-06-19T20:15:54.767Z"
   },
   {
    "duration": 15,
    "start_time": "2022-06-19T20:15:54.789Z"
   },
   {
    "duration": 44,
    "start_time": "2022-06-19T20:15:54.805Z"
   },
   {
    "duration": 2,
    "start_time": "2022-06-19T20:15:54.851Z"
   },
   {
    "duration": 14,
    "start_time": "2022-06-19T20:15:54.855Z"
   },
   {
    "duration": 38,
    "start_time": "2022-06-19T20:15:54.870Z"
   },
   {
    "duration": 12,
    "start_time": "2022-06-19T20:15:54.926Z"
   },
   {
    "duration": 14,
    "start_time": "2022-06-19T20:15:54.940Z"
   },
   {
    "duration": 35,
    "start_time": "2022-06-19T20:15:54.956Z"
   },
   {
    "duration": 712,
    "start_time": "2022-06-19T20:15:54.993Z"
   },
   {
    "duration": 41,
    "start_time": "2022-06-19T20:15:55.707Z"
   },
   {
    "duration": 12,
    "start_time": "2022-06-19T20:15:55.749Z"
   },
   {
    "duration": 17,
    "start_time": "2022-06-19T20:15:55.762Z"
   },
   {
    "duration": 3,
    "start_time": "2022-06-19T20:15:55.781Z"
   },
   {
    "duration": 4,
    "start_time": "2022-06-19T20:15:55.785Z"
   },
   {
    "duration": 383,
    "start_time": "2022-06-19T20:15:55.790Z"
   },
   {
    "duration": 163,
    "start_time": "2022-06-19T20:15:56.177Z"
   },
   {
    "duration": 154,
    "start_time": "2022-06-19T20:15:56.341Z"
   },
   {
    "duration": 162,
    "start_time": "2022-06-19T20:15:56.496Z"
   },
   {
    "duration": 218,
    "start_time": "2022-06-19T20:15:56.660Z"
   },
   {
    "duration": 155,
    "start_time": "2022-06-19T20:15:56.879Z"
   },
   {
    "duration": 384,
    "start_time": "2022-06-19T20:15:57.036Z"
   },
   {
    "duration": 21,
    "start_time": "2022-06-19T20:15:57.422Z"
   },
   {
    "duration": 5,
    "start_time": "2022-06-19T20:15:57.445Z"
   },
   {
    "duration": 13,
    "start_time": "2022-06-19T20:15:57.451Z"
   },
   {
    "duration": 6,
    "start_time": "2022-06-19T20:15:57.465Z"
   },
   {
    "duration": 6,
    "start_time": "2022-06-19T20:15:57.473Z"
   },
   {
    "duration": 19,
    "start_time": "2022-06-19T20:15:57.481Z"
   },
   {
    "duration": 6,
    "start_time": "2022-06-19T20:15:57.527Z"
   },
   {
    "duration": 12,
    "start_time": "2022-06-19T20:15:57.535Z"
   },
   {
    "duration": 7,
    "start_time": "2022-06-19T20:15:57.548Z"
   },
   {
    "duration": 363,
    "start_time": "2022-06-19T20:16:15.481Z"
   },
   {
    "duration": 194,
    "start_time": "2022-06-19T20:16:15.846Z"
   },
   {
    "duration": 148,
    "start_time": "2022-06-19T20:16:16.042Z"
   },
   {
    "duration": 101,
    "start_time": "2022-06-19T20:16:16.193Z"
   },
   {
    "duration": 29,
    "start_time": "2022-06-19T20:16:16.296Z"
   },
   {
    "duration": 44,
    "start_time": "2022-06-19T20:16:16.326Z"
   },
   {
    "duration": 7,
    "start_time": "2022-06-19T20:16:16.371Z"
   },
   {
    "duration": 21,
    "start_time": "2022-06-19T20:16:16.379Z"
   },
   {
    "duration": 42,
    "start_time": "2022-06-19T20:16:16.402Z"
   },
   {
    "duration": 19,
    "start_time": "2022-06-19T20:16:16.446Z"
   },
   {
    "duration": 32,
    "start_time": "2022-06-19T20:16:16.467Z"
   },
   {
    "duration": 17,
    "start_time": "2022-06-19T20:16:16.500Z"
   },
   {
    "duration": 48,
    "start_time": "2022-06-19T20:16:16.518Z"
   },
   {
    "duration": 18,
    "start_time": "2022-06-19T20:16:16.568Z"
   },
   {
    "duration": 50,
    "start_time": "2022-06-19T20:16:16.587Z"
   },
   {
    "duration": 2,
    "start_time": "2022-06-19T20:16:16.639Z"
   },
   {
    "duration": 14,
    "start_time": "2022-06-19T20:16:16.643Z"
   },
   {
    "duration": 7,
    "start_time": "2022-06-19T20:16:16.658Z"
   },
   {
    "duration": 24,
    "start_time": "2022-06-19T20:16:16.667Z"
   },
   {
    "duration": 63,
    "start_time": "2022-06-19T20:16:16.692Z"
   },
   {
    "duration": 15,
    "start_time": "2022-06-19T20:16:16.757Z"
   },
   {
    "duration": 23,
    "start_time": "2022-06-19T20:16:16.774Z"
   },
   {
    "duration": 3,
    "start_time": "2022-06-19T20:16:16.799Z"
   },
   {
    "duration": 31,
    "start_time": "2022-06-19T20:16:16.803Z"
   },
   {
    "duration": 18,
    "start_time": "2022-06-19T20:16:16.836Z"
   },
   {
    "duration": 14,
    "start_time": "2022-06-19T20:16:16.856Z"
   },
   {
    "duration": 25,
    "start_time": "2022-06-19T20:16:16.872Z"
   },
   {
    "duration": 2,
    "start_time": "2022-06-19T20:16:16.927Z"
   },
   {
    "duration": 18,
    "start_time": "2022-06-19T20:16:16.931Z"
   },
   {
    "duration": 38,
    "start_time": "2022-06-19T20:16:16.951Z"
   },
   {
    "duration": 10,
    "start_time": "2022-06-19T20:16:16.990Z"
   },
   {
    "duration": 32,
    "start_time": "2022-06-19T20:16:17.001Z"
   },
   {
    "duration": 30,
    "start_time": "2022-06-19T20:16:17.035Z"
   },
   {
    "duration": 687,
    "start_time": "2022-06-19T20:16:17.066Z"
   },
   {
    "duration": 33,
    "start_time": "2022-06-19T20:16:17.755Z"
   },
   {
    "duration": 27,
    "start_time": "2022-06-19T20:16:17.790Z"
   },
   {
    "duration": 28,
    "start_time": "2022-06-19T20:16:17.819Z"
   },
   {
    "duration": 30,
    "start_time": "2022-06-19T20:16:17.848Z"
   },
   {
    "duration": 30,
    "start_time": "2022-06-19T20:16:17.880Z"
   },
   {
    "duration": 347,
    "start_time": "2022-06-19T20:16:17.912Z"
   },
   {
    "duration": 157,
    "start_time": "2022-06-19T20:16:18.260Z"
   },
   {
    "duration": 143,
    "start_time": "2022-06-19T20:16:18.418Z"
   },
   {
    "duration": 155,
    "start_time": "2022-06-19T20:16:18.563Z"
   },
   {
    "duration": 224,
    "start_time": "2022-06-19T20:16:18.719Z"
   },
   {
    "duration": 154,
    "start_time": "2022-06-19T20:16:18.945Z"
   },
   {
    "duration": 402,
    "start_time": "2022-06-19T20:16:19.101Z"
   },
   {
    "duration": 26,
    "start_time": "2022-06-19T20:16:19.505Z"
   },
   {
    "duration": 6,
    "start_time": "2022-06-19T20:16:19.535Z"
   },
   {
    "duration": 31,
    "start_time": "2022-06-19T20:16:19.543Z"
   },
   {
    "duration": 23,
    "start_time": "2022-06-19T20:16:19.576Z"
   },
   {
    "duration": 19,
    "start_time": "2022-06-19T20:16:19.601Z"
   },
   {
    "duration": 38,
    "start_time": "2022-06-19T20:16:19.622Z"
   },
   {
    "duration": 31,
    "start_time": "2022-06-19T20:16:19.661Z"
   },
   {
    "duration": 25,
    "start_time": "2022-06-19T20:16:19.694Z"
   },
   {
    "duration": 29,
    "start_time": "2022-06-19T20:16:19.720Z"
   },
   {
    "duration": 353,
    "start_time": "2022-06-19T20:16:44.979Z"
   },
   {
    "duration": 185,
    "start_time": "2022-06-19T20:16:45.334Z"
   },
   {
    "duration": 148,
    "start_time": "2022-06-19T20:16:45.520Z"
   },
   {
    "duration": 113,
    "start_time": "2022-06-19T20:16:45.671Z"
   },
   {
    "duration": 27,
    "start_time": "2022-06-19T20:16:45.785Z"
   },
   {
    "duration": 41,
    "start_time": "2022-06-19T20:16:45.814Z"
   },
   {
    "duration": 7,
    "start_time": "2022-06-19T20:16:45.857Z"
   },
   {
    "duration": 25,
    "start_time": "2022-06-19T20:16:45.865Z"
   },
   {
    "duration": 40,
    "start_time": "2022-06-19T20:16:45.891Z"
   },
   {
    "duration": 7,
    "start_time": "2022-06-19T20:16:45.934Z"
   },
   {
    "duration": 25,
    "start_time": "2022-06-19T20:16:45.943Z"
   },
   {
    "duration": 16,
    "start_time": "2022-06-19T20:16:45.970Z"
   },
   {
    "duration": 59,
    "start_time": "2022-06-19T20:16:45.987Z"
   },
   {
    "duration": 18,
    "start_time": "2022-06-19T20:16:46.048Z"
   },
   {
    "duration": 37,
    "start_time": "2022-06-19T20:16:46.068Z"
   },
   {
    "duration": 22,
    "start_time": "2022-06-19T20:16:46.106Z"
   },
   {
    "duration": 24,
    "start_time": "2022-06-19T20:16:46.130Z"
   },
   {
    "duration": 7,
    "start_time": "2022-06-19T20:16:46.155Z"
   },
   {
    "duration": 26,
    "start_time": "2022-06-19T20:16:46.164Z"
   },
   {
    "duration": 50,
    "start_time": "2022-06-19T20:16:46.191Z"
   },
   {
    "duration": 15,
    "start_time": "2022-06-19T20:16:46.243Z"
   },
   {
    "duration": 22,
    "start_time": "2022-06-19T20:16:46.260Z"
   },
   {
    "duration": 3,
    "start_time": "2022-06-19T20:16:46.283Z"
   },
   {
    "duration": 13,
    "start_time": "2022-06-19T20:16:46.287Z"
   },
   {
    "duration": 37,
    "start_time": "2022-06-19T20:16:46.301Z"
   },
   {
    "duration": 14,
    "start_time": "2022-06-19T20:16:46.339Z"
   },
   {
    "duration": 24,
    "start_time": "2022-06-19T20:16:46.354Z"
   },
   {
    "duration": 3,
    "start_time": "2022-06-19T20:16:46.381Z"
   },
   {
    "duration": 17,
    "start_time": "2022-06-19T20:16:46.387Z"
   },
   {
    "duration": 41,
    "start_time": "2022-06-19T20:16:46.427Z"
   },
   {
    "duration": 12,
    "start_time": "2022-06-19T20:16:46.470Z"
   },
   {
    "duration": 16,
    "start_time": "2022-06-19T20:16:46.484Z"
   },
   {
    "duration": 51,
    "start_time": "2022-06-19T20:16:46.503Z"
   },
   {
    "duration": 686,
    "start_time": "2022-06-19T20:16:46.556Z"
   },
   {
    "duration": 31,
    "start_time": "2022-06-19T20:16:47.244Z"
   },
   {
    "duration": 11,
    "start_time": "2022-06-19T20:16:47.277Z"
   },
   {
    "duration": 38,
    "start_time": "2022-06-19T20:16:47.290Z"
   },
   {
    "duration": 4,
    "start_time": "2022-06-19T20:16:47.330Z"
   },
   {
    "duration": 5,
    "start_time": "2022-06-19T20:16:47.336Z"
   },
   {
    "duration": 346,
    "start_time": "2022-06-19T20:16:47.343Z"
   },
   {
    "duration": 152,
    "start_time": "2022-06-19T20:16:47.690Z"
   },
   {
    "duration": 149,
    "start_time": "2022-06-19T20:16:47.844Z"
   },
   {
    "duration": 152,
    "start_time": "2022-06-19T20:16:47.995Z"
   },
   {
    "duration": 199,
    "start_time": "2022-06-19T20:16:48.149Z"
   },
   {
    "duration": 145,
    "start_time": "2022-06-19T20:16:48.349Z"
   },
   {
    "duration": 421,
    "start_time": "2022-06-19T20:16:48.496Z"
   },
   {
    "duration": 19,
    "start_time": "2022-06-19T20:16:48.918Z"
   },
   {
    "duration": 5,
    "start_time": "2022-06-19T20:16:48.938Z"
   },
   {
    "duration": 13,
    "start_time": "2022-06-19T20:16:48.944Z"
   },
   {
    "duration": 5,
    "start_time": "2022-06-19T20:16:48.959Z"
   },
   {
    "duration": 6,
    "start_time": "2022-06-19T20:16:48.966Z"
   },
   {
    "duration": 20,
    "start_time": "2022-06-19T20:16:48.974Z"
   },
   {
    "duration": 31,
    "start_time": "2022-06-19T20:16:48.996Z"
   },
   {
    "duration": 13,
    "start_time": "2022-06-19T20:16:49.029Z"
   },
   {
    "duration": 7,
    "start_time": "2022-06-19T20:16:49.043Z"
   },
   {
    "duration": 6,
    "start_time": "2022-06-19T20:16:49.052Z"
   },
   {
    "duration": 434,
    "start_time": "2022-06-20T16:26:29.192Z"
   },
   {
    "duration": 755,
    "start_time": "2022-06-20T16:26:35.179Z"
   },
   {
    "duration": 465,
    "start_time": "2022-06-20T16:26:57.429Z"
   },
   {
    "duration": 231,
    "start_time": "2022-06-20T16:27:06.774Z"
   },
   {
    "duration": 80,
    "start_time": "2022-06-20T16:27:10.559Z"
   },
   {
    "duration": 93,
    "start_time": "2022-06-20T16:27:13.270Z"
   },
   {
    "duration": 575,
    "start_time": "2022-06-20T16:28:08.119Z"
   },
   {
    "duration": 23,
    "start_time": "2022-06-20T16:46:56.190Z"
   },
   {
    "duration": 32,
    "start_time": "2022-06-20T16:47:00.021Z"
   },
   {
    "duration": 5,
    "start_time": "2022-06-20T16:47:22.561Z"
   },
   {
    "duration": 9,
    "start_time": "2022-06-20T16:47:26.437Z"
   },
   {
    "duration": 39,
    "start_time": "2022-06-20T16:47:43.621Z"
   },
   {
    "duration": 22,
    "start_time": "2022-06-20T16:47:44.093Z"
   },
   {
    "duration": 63,
    "start_time": "2022-06-20T16:47:45.118Z"
   },
   {
    "duration": 21,
    "start_time": "2022-06-20T16:47:46.988Z"
   },
   {
    "duration": 82,
    "start_time": "2022-06-20T16:54:59.192Z"
   },
   {
    "duration": 17,
    "start_time": "2022-06-20T16:55:04.941Z"
   },
   {
    "duration": 38,
    "start_time": "2022-06-20T16:58:08.089Z"
   },
   {
    "duration": 3,
    "start_time": "2022-06-20T16:58:08.786Z"
   },
   {
    "duration": 14,
    "start_time": "2022-06-20T16:58:10.629Z"
   },
   {
    "duration": 19,
    "start_time": "2022-06-20T16:58:12.658Z"
   },
   {
    "duration": 26,
    "start_time": "2022-06-20T16:58:22.963Z"
   },
   {
    "duration": 42,
    "start_time": "2022-06-20T16:58:24.645Z"
   },
   {
    "duration": 19,
    "start_time": "2022-06-20T16:58:27.094Z"
   },
   {
    "duration": 31,
    "start_time": "2022-06-20T16:58:27.416Z"
   },
   {
    "duration": 4,
    "start_time": "2022-06-20T16:58:27.678Z"
   },
   {
    "duration": 15,
    "start_time": "2022-06-20T16:58:28.086Z"
   },
   {
    "duration": 19,
    "start_time": "2022-06-20T16:58:31.190Z"
   },
   {
    "duration": 14,
    "start_time": "2022-06-20T16:58:35.279Z"
   },
   {
    "duration": 33,
    "start_time": "2022-06-20T16:58:35.514Z"
   },
   {
    "duration": 5,
    "start_time": "2022-06-20T16:58:35.767Z"
   },
   {
    "duration": 13,
    "start_time": "2022-06-20T16:58:35.990Z"
   },
   {
    "duration": 60,
    "start_time": "2022-06-20T16:58:37.843Z"
   },
   {
    "duration": 14,
    "start_time": "2022-06-20T16:58:39.856Z"
   },
   {
    "duration": 13,
    "start_time": "2022-06-20T16:58:41.086Z"
   },
   {
    "duration": 36,
    "start_time": "2022-06-20T16:58:42.584Z"
   },
   {
    "duration": 14,
    "start_time": "2022-06-20T16:58:44.324Z"
   },
   {
    "duration": 31,
    "start_time": "2022-06-20T16:59:35.782Z"
   },
   {
    "duration": 49,
    "start_time": "2022-06-20T17:01:45.961Z"
   },
   {
    "duration": 18,
    "start_time": "2022-06-20T17:01:46.945Z"
   },
   {
    "duration": 17,
    "start_time": "2022-06-20T17:01:51.353Z"
   },
   {
    "duration": 5,
    "start_time": "2022-06-20T17:01:54.221Z"
   },
   {
    "duration": 133,
    "start_time": "2022-06-20T17:02:10.617Z"
   },
   {
    "duration": 176,
    "start_time": "2022-06-20T17:02:48.777Z"
   },
   {
    "duration": 122,
    "start_time": "2022-06-20T17:02:55.082Z"
   },
   {
    "duration": 182,
    "start_time": "2022-06-20T17:04:38.352Z"
   },
   {
    "duration": 16,
    "start_time": "2022-06-20T17:07:44.544Z"
   },
   {
    "duration": 137,
    "start_time": "2022-06-20T17:08:00.832Z"
   },
   {
    "duration": 124,
    "start_time": "2022-06-20T17:10:56.931Z"
   },
   {
    "duration": 381,
    "start_time": "2022-06-21T16:09:05.117Z"
   },
   {
    "duration": 273,
    "start_time": "2022-06-21T16:09:06.524Z"
   },
   {
    "duration": 346,
    "start_time": "2022-06-21T16:09:08.577Z"
   },
   {
    "duration": 308,
    "start_time": "2022-06-21T16:09:10.829Z"
   },
   {
    "duration": 75,
    "start_time": "2022-06-21T16:09:15.985Z"
   },
   {
    "duration": 81,
    "start_time": "2022-06-21T16:09:17.613Z"
   },
   {
    "duration": 6,
    "start_time": "2022-06-21T16:09:23.301Z"
   },
   {
    "duration": 26,
    "start_time": "2022-06-21T16:09:23.890Z"
   },
   {
    "duration": 4,
    "start_time": "2022-06-21T16:09:24.983Z"
   },
   {
    "duration": 7,
    "start_time": "2022-06-21T16:09:27.846Z"
   },
   {
    "duration": 36,
    "start_time": "2022-06-21T16:09:28.883Z"
   },
   {
    "duration": 21,
    "start_time": "2022-06-21T16:09:29.282Z"
   },
   {
    "duration": 57,
    "start_time": "2022-06-21T16:09:30.287Z"
   },
   {
    "duration": 20,
    "start_time": "2022-06-21T16:09:31.884Z"
   },
   {
    "duration": 44,
    "start_time": "2022-06-21T16:09:34.392Z"
   },
   {
    "duration": 3,
    "start_time": "2022-06-21T16:09:34.980Z"
   },
   {
    "duration": 12,
    "start_time": "2022-06-21T16:09:35.440Z"
   },
   {
    "duration": 21,
    "start_time": "2022-06-21T16:09:36.786Z"
   },
   {
    "duration": 48,
    "start_time": "2022-06-21T16:09:37.589Z"
   },
   {
    "duration": 15,
    "start_time": "2022-06-21T16:09:38.995Z"
   },
   {
    "duration": 20,
    "start_time": "2022-06-21T16:09:39.386Z"
   },
   {
    "duration": 3,
    "start_time": "2022-06-21T16:09:39.928Z"
   },
   {
    "duration": 13,
    "start_time": "2022-06-21T16:09:40.297Z"
   },
   {
    "duration": 20,
    "start_time": "2022-06-21T16:09:41.352Z"
   },
   {
    "duration": 14,
    "start_time": "2022-06-21T16:09:42.600Z"
   },
   {
    "duration": 23,
    "start_time": "2022-06-21T16:09:42.992Z"
   },
   {
    "duration": 3,
    "start_time": "2022-06-21T16:09:43.337Z"
   },
   {
    "duration": 13,
    "start_time": "2022-06-21T16:09:43.796Z"
   },
   {
    "duration": 52,
    "start_time": "2022-06-21T16:09:45.762Z"
   },
   {
    "duration": 15,
    "start_time": "2022-06-21T16:09:46.883Z"
   },
   {
    "duration": 17,
    "start_time": "2022-06-21T16:09:47.588Z"
   },
   {
    "duration": 42,
    "start_time": "2022-06-21T16:09:50.100Z"
   },
   {
    "duration": 50,
    "start_time": "2022-06-21T16:09:54.009Z"
   },
   {
    "duration": 31,
    "start_time": "2022-06-21T16:10:04.784Z"
   },
   {
    "duration": 14,
    "start_time": "2022-06-21T16:10:06.748Z"
   },
   {
    "duration": 19,
    "start_time": "2022-06-21T16:10:08.053Z"
   },
   {
    "duration": 5,
    "start_time": "2022-06-21T16:10:10.333Z"
   },
   {
    "duration": 522,
    "start_time": "2022-06-21T16:10:17.034Z"
   },
   {
    "duration": 4,
    "start_time": "2022-06-21T16:10:36.920Z"
   },
   {
    "duration": 123,
    "start_time": "2022-06-21T16:11:23.284Z"
   },
   {
    "duration": 147,
    "start_time": "2022-06-21T16:11:39.649Z"
   },
   {
    "duration": 93,
    "start_time": "2022-06-21T16:11:56.547Z"
   },
   {
    "duration": 183,
    "start_time": "2022-06-21T16:12:12.044Z"
   },
   {
    "duration": 138,
    "start_time": "2022-06-21T16:13:22.179Z"
   },
   {
    "duration": 131,
    "start_time": "2022-06-21T16:13:25.682Z"
   },
   {
    "duration": 195,
    "start_time": "2022-06-21T16:13:55.108Z"
   },
   {
    "duration": 133,
    "start_time": "2022-06-21T16:15:47.249Z"
   },
   {
    "duration": 19,
    "start_time": "2022-06-21T16:16:21.096Z"
   },
   {
    "duration": 137,
    "start_time": "2022-06-21T16:16:30.669Z"
   },
   {
    "duration": 116,
    "start_time": "2022-06-21T16:21:04.437Z"
   },
   {
    "duration": 166,
    "start_time": "2022-06-21T16:21:12.684Z"
   },
   {
    "duration": 165,
    "start_time": "2022-06-21T16:21:29.998Z"
   },
   {
    "duration": 154,
    "start_time": "2022-06-21T16:22:21.284Z"
   },
   {
    "duration": 135,
    "start_time": "2022-06-21T16:22:34.752Z"
   },
   {
    "duration": 166,
    "start_time": "2022-06-21T16:23:19.117Z"
   },
   {
    "duration": 232,
    "start_time": "2022-06-21T16:25:42.590Z"
   },
   {
    "duration": 153,
    "start_time": "2022-06-21T16:26:46.522Z"
   },
   {
    "duration": 157,
    "start_time": "2022-06-21T16:26:49.448Z"
   },
   {
    "duration": 11,
    "start_time": "2022-06-21T16:38:37.797Z"
   },
   {
    "duration": 51,
    "start_time": "2022-06-21T16:39:02.796Z"
   },
   {
    "duration": 15,
    "start_time": "2022-06-21T16:39:12.296Z"
   },
   {
    "duration": 159,
    "start_time": "2022-06-21T16:39:54.216Z"
   },
   {
    "duration": 160,
    "start_time": "2022-06-21T16:40:05.906Z"
   },
   {
    "duration": 178,
    "start_time": "2022-06-21T16:40:29.697Z"
   },
   {
    "duration": 232,
    "start_time": "2022-06-21T16:41:52.200Z"
   },
   {
    "duration": 172,
    "start_time": "2022-06-21T16:42:35.344Z"
   },
   {
    "duration": 240,
    "start_time": "2022-06-21T16:42:56.817Z"
   },
   {
    "duration": 555,
    "start_time": "2022-06-21T16:43:24.926Z"
   },
   {
    "duration": 3,
    "start_time": "2022-06-21T16:43:40.048Z"
   },
   {
    "duration": 20,
    "start_time": "2022-06-21T16:45:50.981Z"
   },
   {
    "duration": 8,
    "start_time": "2022-06-21T16:45:53.521Z"
   },
   {
    "duration": 18,
    "start_time": "2022-06-21T16:45:55.690Z"
   },
   {
    "duration": 7,
    "start_time": "2022-06-21T16:46:36.588Z"
   },
   {
    "duration": 17,
    "start_time": "2022-06-21T16:46:40.286Z"
   },
   {
    "duration": 121,
    "start_time": "2022-06-21T16:46:49.481Z"
   },
   {
    "duration": 6,
    "start_time": "2022-06-21T16:47:27.488Z"
   },
   {
    "duration": 5,
    "start_time": "2022-06-21T16:49:02.033Z"
   },
   {
    "duration": 4,
    "start_time": "2022-06-21T16:50:40.209Z"
   },
   {
    "duration": 5,
    "start_time": "2022-06-21T16:53:41.483Z"
   },
   {
    "duration": 1154,
    "start_time": "2022-06-21T16:58:05.004Z"
   },
   {
    "duration": 26,
    "start_time": "2022-06-21T16:59:13.273Z"
   },
   {
    "duration": 16,
    "start_time": "2022-06-21T16:59:21.518Z"
   },
   {
    "duration": 9,
    "start_time": "2022-06-21T16:59:28.594Z"
   },
   {
    "duration": 19,
    "start_time": "2022-06-21T16:59:29.685Z"
   },
   {
    "duration": 12,
    "start_time": "2022-06-21T16:59:38.048Z"
   },
   {
    "duration": 9,
    "start_time": "2022-06-21T17:00:04.421Z"
   },
   {
    "duration": 7,
    "start_time": "2022-06-21T17:01:01.147Z"
   },
   {
    "duration": 26,
    "start_time": "2022-06-21T17:03:57.939Z"
   },
   {
    "duration": 6,
    "start_time": "2022-06-21T17:03:59.314Z"
   },
   {
    "duration": 16,
    "start_time": "2022-06-21T17:04:02.493Z"
   },
   {
    "duration": 31,
    "start_time": "2022-06-21T17:05:23.039Z"
   },
   {
    "duration": 15,
    "start_time": "2022-06-21T17:05:50.477Z"
   },
   {
    "duration": 69,
    "start_time": "2022-06-21T17:05:55.877Z"
   },
   {
    "duration": 11,
    "start_time": "2022-06-21T17:06:23.379Z"
   },
   {
    "duration": 7,
    "start_time": "2022-06-21T17:06:36.823Z"
   },
   {
    "duration": 5,
    "start_time": "2022-06-21T17:06:37.728Z"
   },
   {
    "duration": 77,
    "start_time": "2022-06-22T13:09:11.468Z"
   },
   {
    "duration": 1434,
    "start_time": "2022-06-22T13:11:21.474Z"
   },
   {
    "duration": 1271,
    "start_time": "2022-06-22T13:11:26.415Z"
   },
   {
    "duration": 902,
    "start_time": "2022-06-22T13:11:27.689Z"
   },
   {
    "duration": 535,
    "start_time": "2022-06-22T13:11:28.595Z"
   },
   {
    "duration": 180,
    "start_time": "2022-06-22T13:11:29.132Z"
   },
   {
    "duration": 29,
    "start_time": "2022-06-22T13:11:29.315Z"
   },
   {
    "duration": 102,
    "start_time": "2022-06-22T13:11:29.346Z"
   },
   {
    "duration": 21,
    "start_time": "2022-06-22T13:11:29.449Z"
   },
   {
    "duration": 77,
    "start_time": "2022-06-22T13:11:29.472Z"
   },
   {
    "duration": 10,
    "start_time": "2022-06-22T13:11:29.550Z"
   },
   {
    "duration": 57,
    "start_time": "2022-06-22T13:11:29.562Z"
   },
   {
    "duration": 29,
    "start_time": "2022-06-22T13:11:29.621Z"
   },
   {
    "duration": 55,
    "start_time": "2022-06-22T13:11:29.652Z"
   },
   {
    "duration": 69,
    "start_time": "2022-06-22T13:11:29.720Z"
   },
   {
    "duration": 31,
    "start_time": "2022-06-22T13:11:29.792Z"
   },
   {
    "duration": 46,
    "start_time": "2022-06-22T13:11:29.824Z"
   },
   {
    "duration": 2,
    "start_time": "2022-06-22T13:11:29.873Z"
   },
   {
    "duration": 47,
    "start_time": "2022-06-22T13:11:29.880Z"
   },
   {
    "duration": 25,
    "start_time": "2022-06-22T13:11:29.929Z"
   },
   {
    "duration": 62,
    "start_time": "2022-06-22T13:11:29.963Z"
   },
   {
    "duration": 32,
    "start_time": "2022-06-22T13:11:30.027Z"
   },
   {
    "duration": 51,
    "start_time": "2022-06-22T13:11:30.075Z"
   },
   {
    "duration": 5,
    "start_time": "2022-06-22T13:11:30.128Z"
   },
   {
    "duration": 53,
    "start_time": "2022-06-22T13:11:30.134Z"
   },
   {
    "duration": 59,
    "start_time": "2022-06-22T13:11:30.191Z"
   },
   {
    "duration": 54,
    "start_time": "2022-06-22T13:11:30.252Z"
   },
   {
    "duration": 55,
    "start_time": "2022-06-22T13:11:30.308Z"
   },
   {
    "duration": 20,
    "start_time": "2022-06-22T13:11:30.364Z"
   },
   {
    "duration": 57,
    "start_time": "2022-06-22T13:11:30.386Z"
   },
   {
    "duration": 105,
    "start_time": "2022-06-22T13:11:30.445Z"
   },
   {
    "duration": 32,
    "start_time": "2022-06-22T13:11:30.552Z"
   },
   {
    "duration": 61,
    "start_time": "2022-06-22T13:11:30.586Z"
   },
   {
    "duration": 76,
    "start_time": "2022-06-22T13:11:30.648Z"
   },
   {
    "duration": 85,
    "start_time": "2022-06-22T13:11:30.725Z"
   },
   {
    "duration": 44,
    "start_time": "2022-06-22T13:11:30.816Z"
   },
   {
    "duration": 28,
    "start_time": "2022-06-22T13:11:30.862Z"
   },
   {
    "duration": 71,
    "start_time": "2022-06-22T13:11:30.892Z"
   },
   {
    "duration": 123,
    "start_time": "2022-06-22T13:11:30.967Z"
   },
   {
    "duration": 251,
    "start_time": "2022-06-22T13:11:31.091Z"
   },
   {
    "duration": 257,
    "start_time": "2022-06-22T13:11:31.343Z"
   },
   {
    "duration": 205,
    "start_time": "2022-06-22T13:11:31.602Z"
   },
   {
    "duration": 218,
    "start_time": "2022-06-22T13:11:31.812Z"
   },
   {
    "duration": 243,
    "start_time": "2022-06-22T13:11:32.032Z"
   },
   {
    "duration": 241,
    "start_time": "2022-06-22T13:11:32.284Z"
   },
   {
    "duration": 17,
    "start_time": "2022-06-22T13:11:32.526Z"
   },
   {
    "duration": 12,
    "start_time": "2022-06-22T13:11:32.544Z"
   },
   {
    "duration": 62,
    "start_time": "2022-06-22T13:11:32.560Z"
   },
   {
    "duration": 6,
    "start_time": "2022-06-22T13:11:32.624Z"
   },
   {
    "duration": 18,
    "start_time": "2022-06-22T13:11:32.632Z"
   },
   {
    "duration": 69,
    "start_time": "2022-06-22T13:11:32.652Z"
   },
   {
    "duration": 8,
    "start_time": "2022-06-22T13:11:32.723Z"
   },
   {
    "duration": 6,
    "start_time": "2022-06-22T13:11:32.733Z"
   },
   {
    "duration": 6,
    "start_time": "2022-06-22T13:11:32.741Z"
   },
   {
    "duration": 78,
    "start_time": "2022-06-22T13:11:32.748Z"
   },
   {
    "duration": 96,
    "start_time": "2022-06-22T13:11:32.827Z"
   },
   {
    "duration": 116,
    "start_time": "2022-06-22T13:11:32.925Z"
   },
   {
    "duration": 0,
    "start_time": "2022-06-22T13:11:33.043Z"
   },
   {
    "duration": 0,
    "start_time": "2022-06-22T13:11:33.044Z"
   },
   {
    "duration": 0,
    "start_time": "2022-06-22T13:11:33.045Z"
   },
   {
    "duration": 0,
    "start_time": "2022-06-22T13:11:33.046Z"
   },
   {
    "duration": 0,
    "start_time": "2022-06-22T13:11:33.047Z"
   },
   {
    "duration": 0,
    "start_time": "2022-06-22T13:11:33.048Z"
   },
   {
    "duration": 3,
    "start_time": "2022-06-22T13:11:38.813Z"
   },
   {
    "duration": 216,
    "start_time": "2022-06-22T13:11:41.289Z"
   },
   {
    "duration": 291,
    "start_time": "2022-06-22T13:13:53.828Z"
   },
   {
    "duration": 291,
    "start_time": "2022-06-22T13:14:01.775Z"
   },
   {
    "duration": 64,
    "start_time": "2022-06-22T13:14:08.783Z"
   },
   {
    "duration": 1313,
    "start_time": "2022-06-22T13:14:41.306Z"
   },
   {
    "duration": 1409,
    "start_time": "2022-06-22T13:16:50.302Z"
   },
   {
    "duration": 280,
    "start_time": "2022-06-22T13:16:51.716Z"
   },
   {
    "duration": 292,
    "start_time": "2022-06-22T13:16:52.000Z"
   },
   {
    "duration": 149,
    "start_time": "2022-06-22T13:16:52.293Z"
   },
   {
    "duration": 46,
    "start_time": "2022-06-22T13:16:52.445Z"
   },
   {
    "duration": 92,
    "start_time": "2022-06-22T13:16:52.498Z"
   },
   {
    "duration": 15,
    "start_time": "2022-06-22T13:16:52.595Z"
   },
   {
    "duration": 60,
    "start_time": "2022-06-22T13:16:52.613Z"
   },
   {
    "duration": 7,
    "start_time": "2022-06-22T13:16:52.675Z"
   },
   {
    "duration": 47,
    "start_time": "2022-06-22T13:16:52.684Z"
   },
   {
    "duration": 57,
    "start_time": "2022-06-22T13:16:52.733Z"
   },
   {
    "duration": 54,
    "start_time": "2022-06-22T13:16:52.793Z"
   },
   {
    "duration": 70,
    "start_time": "2022-06-22T13:16:52.850Z"
   },
   {
    "duration": 116,
    "start_time": "2022-06-22T13:16:52.925Z"
   },
   {
    "duration": 47,
    "start_time": "2022-06-22T13:16:53.044Z"
   },
   {
    "duration": 8,
    "start_time": "2022-06-22T13:16:53.095Z"
   },
   {
    "duration": 43,
    "start_time": "2022-06-22T13:16:53.104Z"
   },
   {
    "duration": 40,
    "start_time": "2022-06-22T13:16:53.149Z"
   },
   {
    "duration": 91,
    "start_time": "2022-06-22T13:16:53.194Z"
   },
   {
    "duration": 27,
    "start_time": "2022-06-22T13:16:53.294Z"
   },
   {
    "duration": 39,
    "start_time": "2022-06-22T13:16:53.326Z"
   },
   {
    "duration": 5,
    "start_time": "2022-06-22T13:16:53.366Z"
   },
   {
    "duration": 59,
    "start_time": "2022-06-22T13:16:53.372Z"
   },
   {
    "duration": 61,
    "start_time": "2022-06-22T13:16:53.433Z"
   },
   {
    "duration": 43,
    "start_time": "2022-06-22T13:16:53.500Z"
   },
   {
    "duration": 53,
    "start_time": "2022-06-22T13:16:53.545Z"
   },
   {
    "duration": 38,
    "start_time": "2022-06-22T13:16:53.600Z"
   },
   {
    "duration": 26,
    "start_time": "2022-06-22T13:16:53.640Z"
   },
   {
    "duration": 160,
    "start_time": "2022-06-22T13:16:53.669Z"
   },
   {
    "duration": 28,
    "start_time": "2022-06-22T13:16:53.834Z"
   },
   {
    "duration": 67,
    "start_time": "2022-06-22T13:16:53.867Z"
   },
   {
    "duration": 49,
    "start_time": "2022-06-22T13:16:53.937Z"
   },
   {
    "duration": 77,
    "start_time": "2022-06-22T13:16:53.988Z"
   },
   {
    "duration": 52,
    "start_time": "2022-06-22T13:16:54.066Z"
   },
   {
    "duration": 19,
    "start_time": "2022-06-22T13:16:54.123Z"
   },
   {
    "duration": 45,
    "start_time": "2022-06-22T13:16:54.144Z"
   },
   {
    "duration": 36,
    "start_time": "2022-06-22T13:16:54.191Z"
   },
   {
    "duration": 240,
    "start_time": "2022-06-22T13:16:54.229Z"
   },
   {
    "duration": 275,
    "start_time": "2022-06-22T13:16:54.476Z"
   },
   {
    "duration": 273,
    "start_time": "2022-06-22T13:16:54.761Z"
   },
   {
    "duration": 293,
    "start_time": "2022-06-22T13:16:55.040Z"
   },
   {
    "duration": 252,
    "start_time": "2022-06-22T13:16:55.335Z"
   },
   {
    "duration": 244,
    "start_time": "2022-06-22T13:16:55.588Z"
   },
   {
    "duration": 37,
    "start_time": "2022-06-22T13:16:55.834Z"
   },
   {
    "duration": 60,
    "start_time": "2022-06-22T13:16:55.873Z"
   },
   {
    "duration": 8,
    "start_time": "2022-06-22T13:16:55.935Z"
   },
   {
    "duration": 13,
    "start_time": "2022-06-22T13:16:55.945Z"
   },
   {
    "duration": 90,
    "start_time": "2022-06-22T13:16:55.960Z"
   },
   {
    "duration": 95,
    "start_time": "2022-06-22T13:16:56.053Z"
   },
   {
    "duration": 17,
    "start_time": "2022-06-22T13:16:56.150Z"
   },
   {
    "duration": 57,
    "start_time": "2022-06-22T13:16:56.169Z"
   },
   {
    "duration": 28,
    "start_time": "2022-06-22T13:16:56.230Z"
   },
   {
    "duration": 158,
    "start_time": "2022-06-22T13:16:56.260Z"
   },
   {
    "duration": 5,
    "start_time": "2022-06-22T13:16:56.424Z"
   },
   {
    "duration": 1556,
    "start_time": "2022-06-22T13:16:56.434Z"
   },
   {
    "duration": 306,
    "start_time": "2022-06-22T13:16:57.993Z"
   },
   {
    "duration": 263,
    "start_time": "2022-06-22T13:16:58.307Z"
   },
   {
    "duration": 247,
    "start_time": "2022-06-22T13:16:58.578Z"
   },
   {
    "duration": 98,
    "start_time": "2022-06-22T13:16:58.837Z"
   }
  ],
  "kernelspec": {
   "display_name": "Python 3 (ipykernel)",
   "language": "python",
   "name": "python3"
  },
  "language_info": {
   "codemirror_mode": {
    "name": "ipython",
    "version": 3
   },
   "file_extension": ".py",
   "mimetype": "text/x-python",
   "name": "python",
   "nbconvert_exporter": "python",
   "pygments_lexer": "ipython3",
   "version": "3.9.13"
  },
  "toc": {
   "base_numbering": 1,
   "nav_menu": {},
   "number_sections": true,
   "sideBar": true,
   "skip_h1_title": true,
   "title_cell": "Table of Contents",
   "title_sidebar": "Contents",
   "toc_cell": false,
   "toc_position": {},
   "toc_section_display": true,
   "toc_window_display": true
  }
 },
 "nbformat": 4,
 "nbformat_minor": 2
}
