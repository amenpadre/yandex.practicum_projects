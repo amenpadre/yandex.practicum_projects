{
 "cells": [
  {
   "cell_type": "markdown",
   "id": "0596a4c5",
   "metadata": {},
   "source": [
    "**Андрей, привет!**\n",
    "\n",
    "Меня зовут Артемьева Саша, я буду проверять твой проект. Приятно познакомиться, хоть и заочно:)\n",
    "    \n",
    "Предлагаю общаться на «ты» :) Но если это не удобно - дай знать, и мы перейдем на \"вы\". \n",
    "\n",
    "Моя основная цель — не указать на совершенные тобою ошибки, а поделиться своим опытом и помочь тебе стать аналитиком данных. Ты уже проделал большую работу над проектом, но давай сделаем его еще лучше. Ниже ты найдешь мои комментарии - пожалуйста, не перемещай, не изменяй и не удаляй их. Я буду использовать цветовую разметку:\n",
    "\n",
    "<div class=\"alert alert-danger\">\n",
    "<b>❌ Комментарий ревьюера:</b> Так выделены самые важные замечания. Без их отработки проект не будет принят. </div>\n",
    "\n",
    "<div class=\"alert alert-warning\">\n",
    "<b>⚠️ Комментарий ревьюера:</b> Так выделены небольшие замечания. Одно-два таких замечания в проекте допустимы, но если их будет больше - тебе будет необходимо внести исправления. Это как тестовое задание при приеме на работу: очень много мелких ошибок могут стать причиной отказа кандидату. \n",
    "\n",
    "</div>\n",
    "\n",
    "<div class=\"alert alert-success\">\n",
    "<b>✔️ Комментарий ревьюера:</b> Так я выделяю все остальные комментарии.</div>\n",
    "\n",
    "Давай работать над проектом в диалоге: если ты что-то меняешь в проекте или отвечаешь на мои комменатри — пиши об этом. Мне будет легче отследить изменения, если ты выделишь свои комментарии:\n",
    "<div class=\"alert alert-info\"> <b>Комментарий студента:</b> Например, вот так.</div>\n",
    "\n",
    "Всё это поможет выполнить повторную проверку твоего проекта оперативнее. \n"
   ]
  },
  {
   "cell_type": "markdown",
   "id": "fbbcea8c",
   "metadata": {},
   "source": [
    "# Исследование надежности заемщиков."
   ]
  },
  {
   "cell_type": "markdown",
   "id": "22c5374b",
   "metadata": {},
   "source": [
    "**Цель исследорвания** - выяснить зависимость возврата кредита в срок от четырёх параметров заёмщиков:\n",
    "* Количества детей\n",
    "* Семейного положения\n",
    "* Уровнем дохода\n",
    "* Цели кредита"
   ]
  },
  {
   "cell_type": "markdown",
   "id": "ac824075",
   "metadata": {},
   "source": [
    "<div class=\"alert alert-success\">\n",
    "<b>✔️ Комментарий ревьюера:</b>  Молодец, что четко задал цель исследования! Сюда также можно включить план работы"
   ]
  },
  {
   "cell_type": "markdown",
   "id": "337514cb",
   "metadata": {},
   "source": [
    "# 1. Обзор данных"
   ]
  },
  {
   "cell_type": "code",
   "execution_count": 1,
   "id": "39b31423",
   "metadata": {
    "scrolled": false
   },
   "outputs": [
    {
     "name": "stdout",
     "output_type": "stream",
     "text": [
      "<class 'pandas.core.frame.DataFrame'>\n",
      "RangeIndex: 21525 entries, 0 to 21524\n",
      "Data columns (total 12 columns):\n",
      " #   Column            Non-Null Count  Dtype  \n",
      "---  ------            --------------  -----  \n",
      " 0   children          21525 non-null  int64  \n",
      " 1   days_employed     19351 non-null  float64\n",
      " 2   dob_years         21525 non-null  int64  \n",
      " 3   education         21525 non-null  object \n",
      " 4   education_id      21525 non-null  int64  \n",
      " 5   family_status     21525 non-null  object \n",
      " 6   family_status_id  21525 non-null  int64  \n",
      " 7   gender            21525 non-null  object \n",
      " 8   income_type       21525 non-null  object \n",
      " 9   debt              21525 non-null  int64  \n",
      " 10  total_income      19351 non-null  float64\n",
      " 11  purpose           21525 non-null  object \n",
      "dtypes: float64(2), int64(5), object(5)\n",
      "memory usage: 2.0+ MB\n"
     ]
    }
   ],
   "source": [
    "import pandas as pd\n",
    "\n",
    "df = pd.read_csv('/datasets/data.csv')\n",
    "\n",
    "df.info()"
   ]
  },
  {
   "cell_type": "code",
   "execution_count": 2,
   "id": "befde56c",
   "metadata": {},
   "outputs": [
    {
     "data": {
      "text/html": [
       "<div>\n",
       "<style scoped>\n",
       "    .dataframe tbody tr th:only-of-type {\n",
       "        vertical-align: middle;\n",
       "    }\n",
       "\n",
       "    .dataframe tbody tr th {\n",
       "        vertical-align: top;\n",
       "    }\n",
       "\n",
       "    .dataframe thead th {\n",
       "        text-align: right;\n",
       "    }\n",
       "</style>\n",
       "<table border=\"1\" class=\"dataframe\">\n",
       "  <thead>\n",
       "    <tr style=\"text-align: right;\">\n",
       "      <th></th>\n",
       "      <th>children</th>\n",
       "      <th>days_employed</th>\n",
       "      <th>dob_years</th>\n",
       "      <th>education</th>\n",
       "      <th>education_id</th>\n",
       "      <th>family_status</th>\n",
       "      <th>family_status_id</th>\n",
       "      <th>gender</th>\n",
       "      <th>income_type</th>\n",
       "      <th>debt</th>\n",
       "      <th>total_income</th>\n",
       "      <th>purpose</th>\n",
       "    </tr>\n",
       "  </thead>\n",
       "  <tbody>\n",
       "    <tr>\n",
       "      <th>0</th>\n",
       "      <td>1</td>\n",
       "      <td>-8437.673028</td>\n",
       "      <td>42</td>\n",
       "      <td>высшее</td>\n",
       "      <td>0</td>\n",
       "      <td>женат / замужем</td>\n",
       "      <td>0</td>\n",
       "      <td>F</td>\n",
       "      <td>сотрудник</td>\n",
       "      <td>0</td>\n",
       "      <td>253875.639453</td>\n",
       "      <td>покупка жилья</td>\n",
       "    </tr>\n",
       "    <tr>\n",
       "      <th>1</th>\n",
       "      <td>1</td>\n",
       "      <td>-4024.803754</td>\n",
       "      <td>36</td>\n",
       "      <td>среднее</td>\n",
       "      <td>1</td>\n",
       "      <td>женат / замужем</td>\n",
       "      <td>0</td>\n",
       "      <td>F</td>\n",
       "      <td>сотрудник</td>\n",
       "      <td>0</td>\n",
       "      <td>112080.014102</td>\n",
       "      <td>приобретение автомобиля</td>\n",
       "    </tr>\n",
       "    <tr>\n",
       "      <th>2</th>\n",
       "      <td>0</td>\n",
       "      <td>-5623.422610</td>\n",
       "      <td>33</td>\n",
       "      <td>Среднее</td>\n",
       "      <td>1</td>\n",
       "      <td>женат / замужем</td>\n",
       "      <td>0</td>\n",
       "      <td>M</td>\n",
       "      <td>сотрудник</td>\n",
       "      <td>0</td>\n",
       "      <td>145885.952297</td>\n",
       "      <td>покупка жилья</td>\n",
       "    </tr>\n",
       "    <tr>\n",
       "      <th>3</th>\n",
       "      <td>3</td>\n",
       "      <td>-4124.747207</td>\n",
       "      <td>32</td>\n",
       "      <td>среднее</td>\n",
       "      <td>1</td>\n",
       "      <td>женат / замужем</td>\n",
       "      <td>0</td>\n",
       "      <td>M</td>\n",
       "      <td>сотрудник</td>\n",
       "      <td>0</td>\n",
       "      <td>267628.550329</td>\n",
       "      <td>дополнительное образование</td>\n",
       "    </tr>\n",
       "    <tr>\n",
       "      <th>4</th>\n",
       "      <td>0</td>\n",
       "      <td>340266.072047</td>\n",
       "      <td>53</td>\n",
       "      <td>среднее</td>\n",
       "      <td>1</td>\n",
       "      <td>гражданский брак</td>\n",
       "      <td>1</td>\n",
       "      <td>F</td>\n",
       "      <td>пенсионер</td>\n",
       "      <td>0</td>\n",
       "      <td>158616.077870</td>\n",
       "      <td>сыграть свадьбу</td>\n",
       "    </tr>\n",
       "    <tr>\n",
       "      <th>5</th>\n",
       "      <td>0</td>\n",
       "      <td>-926.185831</td>\n",
       "      <td>27</td>\n",
       "      <td>высшее</td>\n",
       "      <td>0</td>\n",
       "      <td>гражданский брак</td>\n",
       "      <td>1</td>\n",
       "      <td>M</td>\n",
       "      <td>компаньон</td>\n",
       "      <td>0</td>\n",
       "      <td>255763.565419</td>\n",
       "      <td>покупка жилья</td>\n",
       "    </tr>\n",
       "    <tr>\n",
       "      <th>6</th>\n",
       "      <td>0</td>\n",
       "      <td>-2879.202052</td>\n",
       "      <td>43</td>\n",
       "      <td>высшее</td>\n",
       "      <td>0</td>\n",
       "      <td>женат / замужем</td>\n",
       "      <td>0</td>\n",
       "      <td>F</td>\n",
       "      <td>компаньон</td>\n",
       "      <td>0</td>\n",
       "      <td>240525.971920</td>\n",
       "      <td>операции с жильем</td>\n",
       "    </tr>\n",
       "    <tr>\n",
       "      <th>7</th>\n",
       "      <td>0</td>\n",
       "      <td>-152.779569</td>\n",
       "      <td>50</td>\n",
       "      <td>СРЕДНЕЕ</td>\n",
       "      <td>1</td>\n",
       "      <td>женат / замужем</td>\n",
       "      <td>0</td>\n",
       "      <td>M</td>\n",
       "      <td>сотрудник</td>\n",
       "      <td>0</td>\n",
       "      <td>135823.934197</td>\n",
       "      <td>образование</td>\n",
       "    </tr>\n",
       "    <tr>\n",
       "      <th>8</th>\n",
       "      <td>2</td>\n",
       "      <td>-6929.865299</td>\n",
       "      <td>35</td>\n",
       "      <td>ВЫСШЕЕ</td>\n",
       "      <td>0</td>\n",
       "      <td>гражданский брак</td>\n",
       "      <td>1</td>\n",
       "      <td>F</td>\n",
       "      <td>сотрудник</td>\n",
       "      <td>0</td>\n",
       "      <td>95856.832424</td>\n",
       "      <td>на проведение свадьбы</td>\n",
       "    </tr>\n",
       "    <tr>\n",
       "      <th>9</th>\n",
       "      <td>0</td>\n",
       "      <td>-2188.756445</td>\n",
       "      <td>41</td>\n",
       "      <td>среднее</td>\n",
       "      <td>1</td>\n",
       "      <td>женат / замужем</td>\n",
       "      <td>0</td>\n",
       "      <td>M</td>\n",
       "      <td>сотрудник</td>\n",
       "      <td>0</td>\n",
       "      <td>144425.938277</td>\n",
       "      <td>покупка жилья для семьи</td>\n",
       "    </tr>\n",
       "  </tbody>\n",
       "</table>\n",
       "</div>"
      ],
      "text/plain": [
       "   children  days_employed  dob_years education  education_id  \\\n",
       "0         1   -8437.673028         42    высшее             0   \n",
       "1         1   -4024.803754         36   среднее             1   \n",
       "2         0   -5623.422610         33   Среднее             1   \n",
       "3         3   -4124.747207         32   среднее             1   \n",
       "4         0  340266.072047         53   среднее             1   \n",
       "5         0    -926.185831         27    высшее             0   \n",
       "6         0   -2879.202052         43    высшее             0   \n",
       "7         0    -152.779569         50   СРЕДНЕЕ             1   \n",
       "8         2   -6929.865299         35    ВЫСШЕЕ             0   \n",
       "9         0   -2188.756445         41   среднее             1   \n",
       "\n",
       "      family_status  family_status_id gender income_type  debt   total_income  \\\n",
       "0   женат / замужем                 0      F   сотрудник     0  253875.639453   \n",
       "1   женат / замужем                 0      F   сотрудник     0  112080.014102   \n",
       "2   женат / замужем                 0      M   сотрудник     0  145885.952297   \n",
       "3   женат / замужем                 0      M   сотрудник     0  267628.550329   \n",
       "4  гражданский брак                 1      F   пенсионер     0  158616.077870   \n",
       "5  гражданский брак                 1      M   компаньон     0  255763.565419   \n",
       "6   женат / замужем                 0      F   компаньон     0  240525.971920   \n",
       "7   женат / замужем                 0      M   сотрудник     0  135823.934197   \n",
       "8  гражданский брак                 1      F   сотрудник     0   95856.832424   \n",
       "9   женат / замужем                 0      M   сотрудник     0  144425.938277   \n",
       "\n",
       "                      purpose  \n",
       "0               покупка жилья  \n",
       "1     приобретение автомобиля  \n",
       "2               покупка жилья  \n",
       "3  дополнительное образование  \n",
       "4             сыграть свадьбу  \n",
       "5               покупка жилья  \n",
       "6           операции с жильем  \n",
       "7                 образование  \n",
       "8       на проведение свадьбы  \n",
       "9     покупка жилья для семьи  "
      ]
     },
     "execution_count": 2,
     "metadata": {},
     "output_type": "execute_result"
    }
   ],
   "source": [
    "df.head(10)"
   ]
  },
  {
   "cell_type": "markdown",
   "id": "ca08e6ca",
   "metadata": {},
   "source": [
    "Первичный обзор данных дал следующую информацию:\n",
    "1. В таблице 12 столбцов: количество детей `('children')`, трудовой стаж в днях `('days_employed')`, возраст `('dob_years')`, образование `('education')`, id образования `('education_id')`, семейное положение `'family_status')`, id семейного положения `('family_status_id')`, пол `('gender')`, тип занятости `('income_type')`, наличие задолжностей по возврату кредитов `('debt')`, месячная зарплата `('total_income')`, цель кредита `('purpose')`.\n",
    "2. В столбце `'days_employed'` странные записи: много отрицательных значений, а у 5-го клиента трудовой стаж равен 932 годам. Скорее всего это ошибка при записи данных.\n",
    "3. Столбец `'education'` содержит неявные дубликаты: часть записей состоит только из строчных букв, часть из прописных, а часть содержит и строчные, и прописные буквы.\n",
    "4. Столбец `'purpose'` так же содержит неявные дубликаты ('сыграть свадьбу' и 'на проведение свадьбы')\n",
    "5. Количество пропусков в `'days_employed'` и `'total_income'` одинаковое. Возможно пропуски в `'total_income'` связаны с ошибками при записи в `'days_employed'`.\n",
    "6. Данные в столбце `'days_employed'` и `'total_income'` `float`. Скорее всего, в них не будет неявных пропусков. Также это позволяет не беспокоиться при применении функций при расчётах."
   ]
  },
  {
   "cell_type": "markdown",
   "id": "398b5c0b",
   "metadata": {},
   "source": [
    "<div class=\"alert alert-success\">\n",
    "<b>✔️ Комментарий ревьюера:</b>  Увидели, с чем предстоит иметь дело"
   ]
  },
  {
   "cell_type": "markdown",
   "id": "75fda588",
   "metadata": {},
   "source": [
    "# 2.1 Заполнение пропусков"
   ]
  },
  {
   "cell_type": "code",
   "execution_count": 3,
   "id": "a8b235cb",
   "metadata": {},
   "outputs": [
    {
     "name": "stdout",
     "output_type": "stream",
     "text": [
      "Количество дубликатов в таблице: 54\n"
     ]
    }
   ],
   "source": [
    "print('Количество дубликатов в таблице:', df.duplicated().sum())\n",
    "\n",
    "# Это понадобится немного позже при работе с дубликатами"
   ]
  },
  {
   "cell_type": "code",
   "execution_count": 4,
   "id": "4f2ea0b4",
   "metadata": {},
   "outputs": [
    {
     "name": "stdout",
     "output_type": "stream",
     "text": [
      "2174\n",
      "2174\n",
      "Доля пропущенных значений в столбце \"total_income\" 11.2%\n",
      "Доля пропущенных значений в столбце \"days_employed\" 11.2%\n"
     ]
    }
   ],
   "source": [
    "print(df['total_income'].isna().sum())\n",
    "print(df['days_employed'].isna().sum())\n",
    "print(f'Доля пропущенных значений в столбце \"total_income\" {df[\"total_income\"].isna().sum() / df[\"total_income\"].count():.1%}')\n",
    "print(f'Доля пропущенных значений в столбце \"days_employed\" {df[\"days_employed\"].isna().sum() / df[\"days_employed\"].count():.1%}')"
   ]
  },
  {
   "cell_type": "markdown",
   "id": "c64eb797",
   "metadata": {},
   "source": [
    "<div class=\"alert alert-success\">\n",
    "<b>✔️ Комментарий ревьюера:</b>  Молодец, что нашел долю пропусков! Мы можем удалить не больше 5-7% датафрейма. Наши пропуски придется обработать "
   ]
  },
  {
   "cell_type": "markdown",
   "id": "efddea4b",
   "metadata": {},
   "source": [
    "Количество пропусков в `'days_employed'` и `'total_income'` одинаковое. Вероятно пропуски в `'total_income'` зависят от пропусков в `'days_employed'`."
   ]
  },
  {
   "cell_type": "code",
   "execution_count": 5,
   "id": "f6288fee",
   "metadata": {
    "scrolled": true
   },
   "outputs": [
    {
     "name": "stdout",
     "output_type": "stream",
     "text": [
      "<class 'pandas.core.frame.DataFrame'>\n",
      "Int64Index: 2174 entries, 12 to 21510\n",
      "Data columns (total 12 columns):\n",
      " #   Column            Non-Null Count  Dtype  \n",
      "---  ------            --------------  -----  \n",
      " 0   children          2174 non-null   int64  \n",
      " 1   days_employed     0 non-null      float64\n",
      " 2   dob_years         2174 non-null   int64  \n",
      " 3   education         2174 non-null   object \n",
      " 4   education_id      2174 non-null   int64  \n",
      " 5   family_status     2174 non-null   object \n",
      " 6   family_status_id  2174 non-null   int64  \n",
      " 7   gender            2174 non-null   object \n",
      " 8   income_type       2174 non-null   object \n",
      " 9   debt              2174 non-null   int64  \n",
      " 10  total_income      0 non-null      float64\n",
      " 11  purpose           2174 non-null   object \n",
      "dtypes: float64(2), int64(5), object(5)\n",
      "memory usage: 220.8+ KB\n"
     ]
    }
   ],
   "source": [
    "df[df['total_income'].isna() & df['days_employed'].isna()].info()"
   ]
  },
  {
   "cell_type": "markdown",
   "id": "2938374e",
   "metadata": {},
   "source": [
    "Количество строк в таблице с пропусками в столбцах `'days_employed'` и `'total_income'` равно количеству пропусков в этих столбцах. Значения в столбце `'days_employed'` аномальны (есть как отрицательные, так и слишком большие значения), значит столбец `'total_income'` действительно зависит от `'days_employed'`. "
   ]
  },
  {
   "cell_type": "code",
   "execution_count": 6,
   "id": "8d594fa0",
   "metadata": {
    "scrolled": true
   },
   "outputs": [
    {
     "data": {
      "text/plain": [
       "20667.26379327158"
      ]
     },
     "execution_count": 6,
     "metadata": {},
     "output_type": "execute_result"
    }
   ],
   "source": [
    "df['total_income'].min()"
   ]
  },
  {
   "cell_type": "code",
   "execution_count": 7,
   "id": "1621c49c",
   "metadata": {},
   "outputs": [
    {
     "data": {
      "text/plain": [
       "2265604.028722744"
      ]
     },
     "execution_count": 7,
     "metadata": {},
     "output_type": "execute_result"
    }
   ],
   "source": [
    "df['total_income'].max()"
   ]
  },
  {
   "cell_type": "markdown",
   "id": "a78a5eaa",
   "metadata": {},
   "source": [
    "Просмотрев первые 10 строк исходной таблицы, я заметил, что в столбце `'days_employed'` есть странные значения, и чтобы убедиться, что подобных странных значений нет в столбце `'total_income'`, я применил функции `min()` и `max()`.\n",
    "\n",
    "Так как максимальное значение в столбце `'total_income'` превышает минимальное почти в 110 раз, поэтому пропуски в столбце я думаю лучше заменить на медианное значение, нежели на среднее."
   ]
  },
  {
   "cell_type": "code",
   "execution_count": 8,
   "id": "3aa0685e",
   "metadata": {
    "scrolled": false
   },
   "outputs": [
    {
     "name": "stdout",
     "output_type": "stream",
     "text": [
      "<class 'pandas.core.frame.DataFrame'>\n",
      "RangeIndex: 21525 entries, 0 to 21524\n",
      "Data columns (total 12 columns):\n",
      " #   Column            Non-Null Count  Dtype  \n",
      "---  ------            --------------  -----  \n",
      " 0   children          21525 non-null  int64  \n",
      " 1   days_employed     19351 non-null  float64\n",
      " 2   dob_years         21525 non-null  int64  \n",
      " 3   education         21525 non-null  object \n",
      " 4   education_id      21525 non-null  int64  \n",
      " 5   family_status     21525 non-null  object \n",
      " 6   family_status_id  21525 non-null  int64  \n",
      " 7   gender            21525 non-null  object \n",
      " 8   income_type       21525 non-null  object \n",
      " 9   debt              21525 non-null  int64  \n",
      " 10  total_income      21525 non-null  float64\n",
      " 11  purpose           21525 non-null  object \n",
      "dtypes: float64(2), int64(5), object(5)\n",
      "memory usage: 2.0+ MB\n"
     ]
    }
   ],
   "source": [
    "df['total_income'] = df['total_income'].fillna(df['total_income'].median())\n",
    "\n",
    "df.info()"
   ]
  },
  {
   "cell_type": "markdown",
   "id": "76391f87",
   "metadata": {},
   "source": [
    "Замена пропусков в столбце `'total_income'` прошла успешно."
   ]
  },
  {
   "cell_type": "markdown",
   "id": "905b9932",
   "metadata": {},
   "source": [
    "<div class=\"alert alert-success\">\n",
    "<b>✔️ Комментарий ревьюера:</b>  Верно, медиана не подвержена вбросам"
   ]
  },
  {
   "cell_type": "markdown",
   "id": "8051f22e",
   "metadata": {},
   "source": [
    "# 2.2 Проверка данных на аномалии и исправления."
   ]
  },
  {
   "cell_type": "code",
   "execution_count": 9,
   "id": "06d3cca0",
   "metadata": {},
   "outputs": [
    {
     "name": "stdout",
     "output_type": "stream",
     "text": [
      "Количество отрицательных значений в столбце \"days_employed\": 15906\n",
      "Доля отрицательных значений в столбце \"days_employed\" 82.2%\n"
     ]
    }
   ],
   "source": [
    "print('Количество отрицательных значений в столбце \"days_employed\":' ,df[df['days_employed'] < 0]['days_employed'].count())\n",
    "print(f'Доля отрицательных значений в столбце \"days_employed\" {df[df[\"days_employed\"] < 0][\"days_employed\"].count() / df[\"days_employed\"].count():.1%}')"
   ]
  },
  {
   "cell_type": "code",
   "execution_count": 10,
   "id": "bfc65cc3",
   "metadata": {},
   "outputs": [
    {
     "data": {
      "text/plain": [
       "50.38068465909146"
      ]
     },
     "execution_count": 10,
     "metadata": {},
     "output_type": "execute_result"
    }
   ],
   "source": [
    "abs(df['days_employed'].min()) / 365"
   ]
  },
  {
   "cell_type": "markdown",
   "id": "bb4eba8e",
   "metadata": {},
   "source": [
    "Максимльный трудовой стаж в отрицательных значениях равен примерно 50 годам, что близко к правде, поэтому я думаю, что можно взять все значения из столбца `'days_employed'` по модулю."
   ]
  },
  {
   "cell_type": "code",
   "execution_count": 11,
   "id": "0508cc63",
   "metadata": {
    "scrolled": true
   },
   "outputs": [
    {
     "data": {
      "text/plain": [
       "0          8437.673028\n",
       "1          4024.803754\n",
       "2          5623.422610\n",
       "3          4124.747207\n",
       "4        340266.072047\n",
       "             ...      \n",
       "21520      4529.316663\n",
       "21521    343937.404131\n",
       "21522      2113.346888\n",
       "21523      3112.481705\n",
       "21524      1984.507589\n",
       "Name: days_employed, Length: 21525, dtype: float64"
      ]
     },
     "execution_count": 11,
     "metadata": {},
     "output_type": "execute_result"
    }
   ],
   "source": [
    "df['days_employed'] = abs(df['days_employed'])\n",
    "df['days_employed']"
   ]
  },
  {
   "cell_type": "code",
   "execution_count": 12,
   "id": "e2ef1418",
   "metadata": {},
   "outputs": [
    {
     "data": {
      "text/plain": [
       "66914.72890682236"
      ]
     },
     "execution_count": 12,
     "metadata": {},
     "output_type": "execute_result"
    }
   ],
   "source": [
    "# Среднее значение до обработки слишком высоких значений\n",
    "\n",
    "df['days_employed'].mean()"
   ]
  },
  {
   "cell_type": "code",
   "execution_count": 13,
   "id": "f771a0ea",
   "metadata": {},
   "outputs": [
    {
     "data": {
      "text/plain": [
       "24.14163324048118"
      ]
     },
     "execution_count": 13,
     "metadata": {},
     "output_type": "execute_result"
    }
   ],
   "source": [
    "df['days_employed'].min()"
   ]
  },
  {
   "cell_type": "markdown",
   "id": "a90dc8da",
   "metadata": {},
   "source": [
    "Все значения в столбце успешно взяты по модулю."
   ]
  },
  {
   "cell_type": "code",
   "execution_count": 14,
   "id": "36169875",
   "metadata": {},
   "outputs": [
    {
     "data": {
      "text/html": [
       "<div>\n",
       "<style scoped>\n",
       "    .dataframe tbody tr th:only-of-type {\n",
       "        vertical-align: middle;\n",
       "    }\n",
       "\n",
       "    .dataframe tbody tr th {\n",
       "        vertical-align: top;\n",
       "    }\n",
       "\n",
       "    .dataframe thead th {\n",
       "        text-align: right;\n",
       "    }\n",
       "</style>\n",
       "<table border=\"1\" class=\"dataframe\">\n",
       "  <thead>\n",
       "    <tr style=\"text-align: right;\">\n",
       "      <th></th>\n",
       "      <th>children</th>\n",
       "      <th>days_employed</th>\n",
       "      <th>dob_years</th>\n",
       "      <th>education</th>\n",
       "      <th>education_id</th>\n",
       "      <th>family_status</th>\n",
       "      <th>family_status_id</th>\n",
       "      <th>gender</th>\n",
       "      <th>income_type</th>\n",
       "      <th>debt</th>\n",
       "      <th>total_income</th>\n",
       "      <th>purpose</th>\n",
       "    </tr>\n",
       "  </thead>\n",
       "  <tbody>\n",
       "    <tr>\n",
       "      <th>6954</th>\n",
       "      <td>0</td>\n",
       "      <td>401755.400475</td>\n",
       "      <td>56</td>\n",
       "      <td>среднее</td>\n",
       "      <td>1</td>\n",
       "      <td>вдовец / вдова</td>\n",
       "      <td>2</td>\n",
       "      <td>F</td>\n",
       "      <td>пенсионер</td>\n",
       "      <td>0</td>\n",
       "      <td>176278.441171</td>\n",
       "      <td>ремонт жилью</td>\n",
       "    </tr>\n",
       "    <tr>\n",
       "      <th>10006</th>\n",
       "      <td>0</td>\n",
       "      <td>401715.811749</td>\n",
       "      <td>69</td>\n",
       "      <td>высшее</td>\n",
       "      <td>0</td>\n",
       "      <td>Не женат / не замужем</td>\n",
       "      <td>4</td>\n",
       "      <td>F</td>\n",
       "      <td>пенсионер</td>\n",
       "      <td>0</td>\n",
       "      <td>57390.256908</td>\n",
       "      <td>получение образования</td>\n",
       "    </tr>\n",
       "    <tr>\n",
       "      <th>7664</th>\n",
       "      <td>1</td>\n",
       "      <td>401675.093434</td>\n",
       "      <td>61</td>\n",
       "      <td>среднее</td>\n",
       "      <td>1</td>\n",
       "      <td>женат / замужем</td>\n",
       "      <td>0</td>\n",
       "      <td>F</td>\n",
       "      <td>пенсионер</td>\n",
       "      <td>0</td>\n",
       "      <td>126214.519212</td>\n",
       "      <td>операции с жильем</td>\n",
       "    </tr>\n",
       "    <tr>\n",
       "      <th>2156</th>\n",
       "      <td>0</td>\n",
       "      <td>401674.466633</td>\n",
       "      <td>60</td>\n",
       "      <td>среднее</td>\n",
       "      <td>1</td>\n",
       "      <td>женат / замужем</td>\n",
       "      <td>0</td>\n",
       "      <td>M</td>\n",
       "      <td>пенсионер</td>\n",
       "      <td>0</td>\n",
       "      <td>325395.724541</td>\n",
       "      <td>автомобили</td>\n",
       "    </tr>\n",
       "    <tr>\n",
       "      <th>7794</th>\n",
       "      <td>0</td>\n",
       "      <td>401663.850046</td>\n",
       "      <td>61</td>\n",
       "      <td>среднее</td>\n",
       "      <td>1</td>\n",
       "      <td>гражданский брак</td>\n",
       "      <td>1</td>\n",
       "      <td>F</td>\n",
       "      <td>пенсионер</td>\n",
       "      <td>0</td>\n",
       "      <td>48286.441362</td>\n",
       "      <td>свадьба</td>\n",
       "    </tr>\n",
       "    <tr>\n",
       "      <th>4697</th>\n",
       "      <td>0</td>\n",
       "      <td>401635.032697</td>\n",
       "      <td>56</td>\n",
       "      <td>среднее</td>\n",
       "      <td>1</td>\n",
       "      <td>женат / замужем</td>\n",
       "      <td>0</td>\n",
       "      <td>F</td>\n",
       "      <td>пенсионер</td>\n",
       "      <td>0</td>\n",
       "      <td>48242.322502</td>\n",
       "      <td>покупка недвижимости</td>\n",
       "    </tr>\n",
       "    <tr>\n",
       "      <th>13420</th>\n",
       "      <td>0</td>\n",
       "      <td>401619.633298</td>\n",
       "      <td>63</td>\n",
       "      <td>Среднее</td>\n",
       "      <td>1</td>\n",
       "      <td>гражданский брак</td>\n",
       "      <td>1</td>\n",
       "      <td>F</td>\n",
       "      <td>пенсионер</td>\n",
       "      <td>0</td>\n",
       "      <td>51449.788325</td>\n",
       "      <td>сыграть свадьбу</td>\n",
       "    </tr>\n",
       "    <tr>\n",
       "      <th>17823</th>\n",
       "      <td>0</td>\n",
       "      <td>401614.475622</td>\n",
       "      <td>59</td>\n",
       "      <td>среднее</td>\n",
       "      <td>1</td>\n",
       "      <td>женат / замужем</td>\n",
       "      <td>0</td>\n",
       "      <td>F</td>\n",
       "      <td>пенсионер</td>\n",
       "      <td>0</td>\n",
       "      <td>152769.694536</td>\n",
       "      <td>покупка жилья для сдачи</td>\n",
       "    </tr>\n",
       "    <tr>\n",
       "      <th>10991</th>\n",
       "      <td>0</td>\n",
       "      <td>401591.828457</td>\n",
       "      <td>56</td>\n",
       "      <td>среднее</td>\n",
       "      <td>1</td>\n",
       "      <td>в разводе</td>\n",
       "      <td>3</td>\n",
       "      <td>F</td>\n",
       "      <td>пенсионер</td>\n",
       "      <td>0</td>\n",
       "      <td>39513.517543</td>\n",
       "      <td>получение дополнительного образования</td>\n",
       "    </tr>\n",
       "    <tr>\n",
       "      <th>8369</th>\n",
       "      <td>0</td>\n",
       "      <td>401590.452231</td>\n",
       "      <td>58</td>\n",
       "      <td>среднее</td>\n",
       "      <td>1</td>\n",
       "      <td>женат / замужем</td>\n",
       "      <td>0</td>\n",
       "      <td>F</td>\n",
       "      <td>пенсионер</td>\n",
       "      <td>0</td>\n",
       "      <td>175306.312902</td>\n",
       "      <td>образование</td>\n",
       "    </tr>\n",
       "  </tbody>\n",
       "</table>\n",
       "</div>"
      ],
      "text/plain": [
       "       children  days_employed  dob_years education  education_id  \\\n",
       "6954          0  401755.400475         56   среднее             1   \n",
       "10006         0  401715.811749         69    высшее             0   \n",
       "7664          1  401675.093434         61   среднее             1   \n",
       "2156          0  401674.466633         60   среднее             1   \n",
       "7794          0  401663.850046         61   среднее             1   \n",
       "4697          0  401635.032697         56   среднее             1   \n",
       "13420         0  401619.633298         63   Среднее             1   \n",
       "17823         0  401614.475622         59   среднее             1   \n",
       "10991         0  401591.828457         56   среднее             1   \n",
       "8369          0  401590.452231         58   среднее             1   \n",
       "\n",
       "               family_status  family_status_id gender income_type  debt  \\\n",
       "6954          вдовец / вдова                 2      F   пенсионер     0   \n",
       "10006  Не женат / не замужем                 4      F   пенсионер     0   \n",
       "7664         женат / замужем                 0      F   пенсионер     0   \n",
       "2156         женат / замужем                 0      M   пенсионер     0   \n",
       "7794        гражданский брак                 1      F   пенсионер     0   \n",
       "4697         женат / замужем                 0      F   пенсионер     0   \n",
       "13420       гражданский брак                 1      F   пенсионер     0   \n",
       "17823        женат / замужем                 0      F   пенсионер     0   \n",
       "10991              в разводе                 3      F   пенсионер     0   \n",
       "8369         женат / замужем                 0      F   пенсионер     0   \n",
       "\n",
       "        total_income                                purpose  \n",
       "6954   176278.441171                           ремонт жилью  \n",
       "10006   57390.256908                  получение образования  \n",
       "7664   126214.519212                      операции с жильем  \n",
       "2156   325395.724541                             автомобили  \n",
       "7794    48286.441362                                свадьба  \n",
       "4697    48242.322502                   покупка недвижимости  \n",
       "13420   51449.788325                        сыграть свадьбу  \n",
       "17823  152769.694536                покупка жилья для сдачи  \n",
       "10991   39513.517543  получение дополнительного образования  \n",
       "8369   175306.312902                            образование  "
      ]
     },
     "execution_count": 14,
     "metadata": {},
     "output_type": "execute_result"
    }
   ],
   "source": [
    "df.sort_values(by='days_employed', ascending=False).head(10)"
   ]
  },
  {
   "cell_type": "markdown",
   "id": "9234ad83",
   "metadata": {},
   "source": [
    "Максимальные значения трудового стажа равны около 1100 лет. Вероятно ошибка привела к записи в часах, а не днях."
   ]
  },
  {
   "cell_type": "code",
   "execution_count": 15,
   "id": "1f8c9d5c",
   "metadata": {},
   "outputs": [
    {
     "data": {
      "text/plain": [
       "45.8624886387363"
      ]
     },
     "execution_count": 15,
     "metadata": {},
     "output_type": "execute_result"
    }
   ],
   "source": [
    "df['days_employed'].max()/24/365"
   ]
  },
  {
   "cell_type": "markdown",
   "id": "250d13ba",
   "metadata": {},
   "source": [
    "Трудовой стаж в 45 лет выглядит гораздо логичнее, чем в 1110 лет."
   ]
  },
  {
   "cell_type": "code",
   "execution_count": 16,
   "id": "3b2b81ae",
   "metadata": {},
   "outputs": [],
   "source": [
    "# Функция, преобразовывающая часы в дни\n",
    "\n",
    "def hours_to_days(wrong_days, age):\n",
    "    correct_days = []\n",
    "    for i in range(len(wrong_days)):\n",
    "        if wrong_days[i] > ((age[i] - 16) * 365):\n",
    "                correct_days.append(wrong_days[i] / 24)\n",
    "        else:\n",
    "            correct_days.append(wrong_days[i])\n",
    "    return correct_days"
   ]
  },
  {
   "cell_type": "code",
   "execution_count": 17,
   "id": "073d85f6",
   "metadata": {},
   "outputs": [
    {
     "data": {
      "text/plain": [
       "[24, 16739.791666666668]"
      ]
     },
     "execution_count": 17,
     "metadata": {},
     "output_type": "execute_result"
    }
   ],
   "source": [
    "# Проверка функции\n",
    "\n",
    "a = [24, 401755]\n",
    "b = [31, 56]\n",
    "hours_to_days(a, b)"
   ]
  },
  {
   "cell_type": "code",
   "execution_count": 18,
   "id": "2b737bb5",
   "metadata": {
    "scrolled": true
   },
   "outputs": [
    {
     "data": {
      "text/plain": [
       "0     8437.673028\n",
       "1     4024.803754\n",
       "2     5623.422610\n",
       "3     4124.747207\n",
       "4    14177.753002\n",
       "5      926.185831\n",
       "6     2879.202052\n",
       "7      152.779569\n",
       "8     6929.865299\n",
       "9     2188.756445\n",
       "Name: days_employed, dtype: float64"
      ]
     },
     "execution_count": 18,
     "metadata": {},
     "output_type": "execute_result"
    }
   ],
   "source": [
    "df['days_employed'] = hours_to_days(df['days_employed'], df['dob_years'])\n",
    "\n",
    "df['days_employed'].head(10)"
   ]
  },
  {
   "cell_type": "code",
   "execution_count": 19,
   "id": "ecbf4afb",
   "metadata": {},
   "outputs": [
    {
     "name": "stdout",
     "output_type": "stream",
     "text": [
      "Медианное значение \"days_employed\" = 2146.950218083361\n",
      "Среднее значение \"days_employed\" = 4593.451031316111\n"
     ]
    }
   ],
   "source": [
    "print('Медианное значение \"days_employed\" =', df['days_employed'].median())\n",
    "print('Среднее значение \"days_employed\" =', df['days_employed'].mean())"
   ]
  },
  {
   "cell_type": "markdown",
   "id": "0d6fe231",
   "metadata": {},
   "source": [
    "Среднее значение после обработки аномально высоких значений сильно снизилось. Это значит, что замена трудового стажа в часах получилась.\n",
    "\n",
    "Среднее значение трудового стажа гораздо выше медианного. Значит, что есть значения, которые сильно больше остальных, и среднее для заполнения пропусков не объективно. Поэтому, для заполнения пропусков лучше взять медианное значение."
   ]
  },
  {
   "cell_type": "markdown",
   "id": "0921c1f4",
   "metadata": {},
   "source": [
    "<div class=\"alert alert-success\">\n",
    "<b>✔️ Комментарий ревьюера:</b>  Верно"
   ]
  },
  {
   "cell_type": "code",
   "execution_count": 20,
   "id": "e84382ae",
   "metadata": {},
   "outputs": [
    {
     "name": "stdout",
     "output_type": "stream",
     "text": [
      "<class 'pandas.core.frame.DataFrame'>\n",
      "RangeIndex: 21525 entries, 0 to 21524\n",
      "Data columns (total 12 columns):\n",
      " #   Column            Non-Null Count  Dtype  \n",
      "---  ------            --------------  -----  \n",
      " 0   children          21525 non-null  int64  \n",
      " 1   days_employed     21525 non-null  float64\n",
      " 2   dob_years         21525 non-null  int64  \n",
      " 3   education         21525 non-null  object \n",
      " 4   education_id      21525 non-null  int64  \n",
      " 5   family_status     21525 non-null  object \n",
      " 6   family_status_id  21525 non-null  int64  \n",
      " 7   gender            21525 non-null  object \n",
      " 8   income_type       21525 non-null  object \n",
      " 9   debt              21525 non-null  int64  \n",
      " 10  total_income      21525 non-null  float64\n",
      " 11  purpose           21525 non-null  object \n",
      "dtypes: float64(2), int64(5), object(5)\n",
      "memory usage: 2.0+ MB\n"
     ]
    }
   ],
   "source": [
    "df['days_employed'] = df['days_employed'].fillna(df['days_employed'].median())\n",
    "\n",
    "df.info()"
   ]
  },
  {
   "cell_type": "markdown",
   "id": "56a2e49b",
   "metadata": {},
   "source": [
    "Пропуски в `'days_employed'` заполнены успешно."
   ]
  },
  {
   "cell_type": "code",
   "execution_count": 21,
   "id": "7c1d2927",
   "metadata": {},
   "outputs": [
    {
     "data": {
      "text/plain": [
       " 0     14149\n",
       " 1      4818\n",
       " 2      2055\n",
       " 3       330\n",
       " 20       76\n",
       "-1        47\n",
       " 4        41\n",
       " 5         9\n",
       "Name: children, dtype: int64"
      ]
     },
     "execution_count": 21,
     "metadata": {},
     "output_type": "execute_result"
    }
   ],
   "source": [
    "df['children'].value_counts()"
   ]
  },
  {
   "cell_type": "markdown",
   "id": "6e00ffeb",
   "metadata": {},
   "source": [
    "При просмотре значений столбца `'children'` были найдены аномальные значения `-1` и `20`. Скорее всего это опечатки, и я решил их заменить на `1` и `2` соответственно."
   ]
  },
  {
   "cell_type": "code",
   "execution_count": 22,
   "id": "5debd641",
   "metadata": {},
   "outputs": [
    {
     "data": {
      "text/plain": [
       "0    14149\n",
       "1     4865\n",
       "2     2131\n",
       "3      330\n",
       "4       41\n",
       "5        9\n",
       "Name: children, dtype: int64"
      ]
     },
     "execution_count": 22,
     "metadata": {},
     "output_type": "execute_result"
    }
   ],
   "source": [
    "df['children'] = abs(df['children'])\n",
    "df['children'] = df['children'].replace(20, 2)\n",
    "\n",
    "df['children'].value_counts()"
   ]
  },
  {
   "cell_type": "markdown",
   "id": "b0e0b154",
   "metadata": {},
   "source": [
    "Замена прошла успешно"
   ]
  },
  {
   "cell_type": "markdown",
   "id": "2705fd6b",
   "metadata": {},
   "source": [
    "<div class=\"alert alert-warning\">\n",
    "<b>⚠️ Комментарий ревьюера:</b> Сейчас доля аномалий мала и ни на что не повлияет. В следующий раз старайся сразу высчитывать их долю и если она меньше 5%, смело избавляйся от нее. Возможно наше предположение о том, что 20==2, а -1==1 неверно\n",
    "\n",
    "</div>"
   ]
  },
  {
   "cell_type": "markdown",
   "id": "dd609fb0",
   "metadata": {},
   "source": [
    "<div class=\"alert alert-warning\">\n",
    "<b>⚠️ Комментарий ревьюера:</b> Можно было бы еще обработать странное значение в данных пола. Оно единично и ни на что не повлияет, но описать его следовало:)\n",
    "\n",
    "</div>"
   ]
  },
  {
   "cell_type": "markdown",
   "id": "d823f0b5",
   "metadata": {},
   "source": [
    "# 2.3. Изменение типов данных."
   ]
  },
  {
   "cell_type": "code",
   "execution_count": 23,
   "id": "984492d0",
   "metadata": {},
   "outputs": [
    {
     "data": {
      "text/plain": [
       "children              int64\n",
       "days_employed       float64\n",
       "dob_years             int64\n",
       "education            object\n",
       "education_id          int64\n",
       "family_status        object\n",
       "family_status_id      int64\n",
       "gender               object\n",
       "income_type          object\n",
       "debt                  int64\n",
       "total_income        float64\n",
       "purpose              object\n",
       "dtype: object"
      ]
     },
     "execution_count": 23,
     "metadata": {},
     "output_type": "execute_result"
    }
   ],
   "source": [
    "df.dtypes"
   ]
  },
  {
   "cell_type": "code",
   "execution_count": 24,
   "id": "9c205623",
   "metadata": {},
   "outputs": [],
   "source": [
    "df['total_income'] = df['total_income'].astype(int)\n",
    "df['days_employed'] = df['days_employed'].astype(int)"
   ]
  },
  {
   "cell_type": "code",
   "execution_count": 25,
   "id": "44717fc0",
   "metadata": {},
   "outputs": [
    {
     "data": {
      "text/plain": [
       "children             int64\n",
       "days_employed        int64\n",
       "dob_years            int64\n",
       "education           object\n",
       "education_id         int64\n",
       "family_status       object\n",
       "family_status_id     int64\n",
       "gender              object\n",
       "income_type         object\n",
       "debt                 int64\n",
       "total_income         int64\n",
       "purpose             object\n",
       "dtype: object"
      ]
     },
     "execution_count": 25,
     "metadata": {},
     "output_type": "execute_result"
    }
   ],
   "source": [
    "df.dtypes"
   ]
  },
  {
   "cell_type": "markdown",
   "id": "ede73b5c",
   "metadata": {},
   "source": [
    "Успешно изменил тип данных в `'days_employed'` и `'total_income'` с `float` на `int`"
   ]
  },
  {
   "cell_type": "markdown",
   "id": "4dbe400c",
   "metadata": {},
   "source": [
    "<div class=\"alert alert-warning\">\n",
    "<b>⚠️ Комментарий ревьюера:</b> Можно еще заменять тип данных с float64 на float32 для экономии памяти"
   ]
  },
  {
   "cell_type": "markdown",
   "id": "34573863",
   "metadata": {},
   "source": [
    "# 2.4. Удаление дубликатов."
   ]
  },
  {
   "cell_type": "code",
   "execution_count": 26,
   "id": "02b90dfc",
   "metadata": {},
   "outputs": [
    {
     "data": {
      "text/plain": [
       "среднее                13750\n",
       "высшее                  4718\n",
       "СРЕДНЕЕ                  772\n",
       "Среднее                  711\n",
       "неоконченное высшее      668\n",
       "ВЫСШЕЕ                   274\n",
       "Высшее                   268\n",
       "начальное                250\n",
       "Неоконченное высшее       47\n",
       "НЕОКОНЧЕННОЕ ВЫСШЕЕ       29\n",
       "НАЧАЛЬНОЕ                 17\n",
       "Начальное                 15\n",
       "ученая степень             4\n",
       "УЧЕНАЯ СТЕПЕНЬ             1\n",
       "Ученая степень             1\n",
       "Name: education, dtype: int64"
      ]
     },
     "execution_count": 26,
     "metadata": {},
     "output_type": "execute_result"
    }
   ],
   "source": [
    "df['education'].value_counts()"
   ]
  },
  {
   "cell_type": "code",
   "execution_count": 27,
   "id": "6fc75dfd",
   "metadata": {},
   "outputs": [],
   "source": [
    "correct_education = []\n",
    "\n",
    "for i in range(len(df['education'])):\n",
    "    correct_education.append(df['education'][i].lower())\n",
    "    \n",
    "df['education'] = correct_education"
   ]
  },
  {
   "cell_type": "code",
   "execution_count": 28,
   "id": "1193d914",
   "metadata": {},
   "outputs": [
    {
     "data": {
      "text/plain": [
       "среднее                15233\n",
       "высшее                  5260\n",
       "неоконченное высшее      744\n",
       "начальное                282\n",
       "ученая степень             6\n",
       "Name: education, dtype: int64"
      ]
     },
     "execution_count": 28,
     "metadata": {},
     "output_type": "execute_result"
    }
   ],
   "source": [
    "df['education'].value_counts()"
   ]
  },
  {
   "cell_type": "markdown",
   "id": "dbd5612d",
   "metadata": {},
   "source": [
    "При просмотре столбца `'education'` были выявлены неявные дубликаты, записанные разными способами. Используя функцию `'lower()'` я привёл все значения к одному регистру."
   ]
  },
  {
   "cell_type": "code",
   "execution_count": 29,
   "id": "17b759a5",
   "metadata": {},
   "outputs": [
    {
     "data": {
      "text/plain": [
       "35    617\n",
       "40    609\n",
       "41    607\n",
       "34    603\n",
       "38    598\n",
       "42    597\n",
       "33    581\n",
       "39    573\n",
       "31    560\n",
       "36    555\n",
       "44    547\n",
       "29    545\n",
       "30    540\n",
       "48    538\n",
       "37    537\n",
       "50    514\n",
       "43    513\n",
       "32    510\n",
       "49    508\n",
       "28    503\n",
       "45    497\n",
       "27    493\n",
       "56    487\n",
       "52    484\n",
       "47    480\n",
       "54    479\n",
       "46    475\n",
       "58    461\n",
       "57    460\n",
       "53    459\n",
       "51    448\n",
       "59    444\n",
       "55    443\n",
       "26    408\n",
       "60    377\n",
       "25    357\n",
       "61    355\n",
       "62    352\n",
       "63    269\n",
       "64    265\n",
       "24    264\n",
       "23    254\n",
       "65    194\n",
       "66    183\n",
       "22    183\n",
       "67    167\n",
       "21    111\n",
       "0     101\n",
       "68     99\n",
       "69     85\n",
       "70     65\n",
       "71     58\n",
       "20     51\n",
       "72     33\n",
       "19     14\n",
       "73      8\n",
       "74      6\n",
       "75      1\n",
       "Name: dob_years, dtype: int64"
      ]
     },
     "execution_count": 29,
     "metadata": {},
     "output_type": "execute_result"
    }
   ],
   "source": [
    "df['dob_years'].value_counts()"
   ]
  },
  {
   "cell_type": "code",
   "execution_count": 30,
   "id": "cd323c1f",
   "metadata": {},
   "outputs": [
    {
     "name": "stdout",
     "output_type": "stream",
     "text": [
      "Доля аномального значения \"0\" в столбце \"dob_years\": 0.004692218350754936\n"
     ]
    }
   ],
   "source": [
    "print('Доля аномального значения \"0\" в столбце \"dob_years\":', df[df['dob_years'] == 0]['dob_years'].count() / df['dob_years'].count())"
   ]
  },
  {
   "cell_type": "markdown",
   "id": "dabf5240",
   "metadata": {},
   "source": [
    "Так как доля значения `'0'` в столбце `'dob_years'` очень мала, я думаю, что оно не окажет существенного влияния на ход исследования, и поэтому оставлю его как есть."
   ]
  },
  {
   "cell_type": "code",
   "execution_count": 31,
   "id": "c331c1af",
   "metadata": {},
   "outputs": [
    {
     "name": "stdout",
     "output_type": "stream",
     "text": [
      "Количество дубликатов после преобразований в таблице: 71\n"
     ]
    }
   ],
   "source": [
    "print('Количество дубликатов после преобразований в таблице:', df.duplicated().sum())"
   ]
  },
  {
   "cell_type": "markdown",
   "id": "99407971",
   "metadata": {},
   "source": [
    "Число дубликатов немного выросло после проведённых преобразований. Вероятнее всего, изначальные дубликаты были на месте некоторых пропусков, а новые появились после обработки неявных дубликатов."
   ]
  },
  {
   "cell_type": "code",
   "execution_count": 32,
   "id": "2b008e64",
   "metadata": {},
   "outputs": [
    {
     "data": {
      "text/plain": [
       "0"
      ]
     },
     "execution_count": 32,
     "metadata": {},
     "output_type": "execute_result"
    }
   ],
   "source": [
    "df = df.drop_duplicates().reset_index(drop=True)\n",
    "df.duplicated().sum()"
   ]
  },
  {
   "cell_type": "markdown",
   "id": "be2390e3",
   "metadata": {},
   "source": [
    "Дубликаты успешно устранены."
   ]
  },
  {
   "cell_type": "markdown",
   "id": "0edeb0af",
   "metadata": {},
   "source": [
    "<div class=\"alert alert-success\">\n",
    "<b>✔️ Комментарий ревьюера:</b> Отлично! Удалять явные дубли можно только после полной обработки данных:\n",
    "        \n",
    "- необходимо заполнить все пропуски\n",
    "- обработать аномальные значения\n",
    "- привести данные к единому регистру (избавиться от неявных дублей)\n",
    "- после этого удалять явные дубли"
   ]
  },
  {
   "cell_type": "markdown",
   "id": "6b8dd975",
   "metadata": {},
   "source": [
    "# 2.5. Формирование дополнительных датафреймов словарей, декомпозиция исходного датафрейма."
   ]
  },
  {
   "cell_type": "code",
   "execution_count": 33,
   "id": "e09442ed",
   "metadata": {},
   "outputs": [
    {
     "data": {
      "text/html": [
       "<div>\n",
       "<style scoped>\n",
       "    .dataframe tbody tr th:only-of-type {\n",
       "        vertical-align: middle;\n",
       "    }\n",
       "\n",
       "    .dataframe tbody tr th {\n",
       "        vertical-align: top;\n",
       "    }\n",
       "\n",
       "    .dataframe thead th {\n",
       "        text-align: right;\n",
       "    }\n",
       "</style>\n",
       "<table border=\"1\" class=\"dataframe\">\n",
       "  <thead>\n",
       "    <tr style=\"text-align: right;\">\n",
       "      <th></th>\n",
       "      <th>education_id</th>\n",
       "      <th>education</th>\n",
       "    </tr>\n",
       "  </thead>\n",
       "  <tbody>\n",
       "    <tr>\n",
       "      <th>0</th>\n",
       "      <td>0</td>\n",
       "      <td>высшее</td>\n",
       "    </tr>\n",
       "    <tr>\n",
       "      <th>1</th>\n",
       "      <td>1</td>\n",
       "      <td>среднее</td>\n",
       "    </tr>\n",
       "    <tr>\n",
       "      <th>2</th>\n",
       "      <td>2</td>\n",
       "      <td>неоконченное высшее</td>\n",
       "    </tr>\n",
       "    <tr>\n",
       "      <th>3</th>\n",
       "      <td>3</td>\n",
       "      <td>начальное</td>\n",
       "    </tr>\n",
       "    <tr>\n",
       "      <th>4</th>\n",
       "      <td>4</td>\n",
       "      <td>ученая степень</td>\n",
       "    </tr>\n",
       "  </tbody>\n",
       "</table>\n",
       "</div>"
      ],
      "text/plain": [
       "   education_id            education\n",
       "0             0               высшее\n",
       "1             1              среднее\n",
       "2             2  неоконченное высшее\n",
       "3             3            начальное\n",
       "4             4       ученая степень"
      ]
     },
     "execution_count": 33,
     "metadata": {},
     "output_type": "execute_result"
    }
   ],
   "source": [
    "# Изначально я создавал \"словари\" с помощью сводных таблиц, но как оказалось далее с ними было неудобно работать,\n",
    "# поэтому я переделал их.\n",
    "\n",
    "#education_dict = df.pivot_table(index='education', values='education_id').sort_values(by='education_id')\n",
    "#education_dict\n",
    "\n",
    "columns = ['education_id', 'education']\n",
    "rows = [[0, 'высшее'],\n",
    "       [1, 'среднее'],\n",
    "       [2, 'неоконченное высшее'],\n",
    "       [3, 'начальное'],\n",
    "       [4, 'ученая степень']]\n",
    "\n",
    "education_dict = pd.DataFrame(data=rows, columns=columns)\n",
    "education_dict"
   ]
  },
  {
   "cell_type": "code",
   "execution_count": 34,
   "id": "aab6fb3e",
   "metadata": {},
   "outputs": [
    {
     "data": {
      "text/html": [
       "<div>\n",
       "<style scoped>\n",
       "    .dataframe tbody tr th:only-of-type {\n",
       "        vertical-align: middle;\n",
       "    }\n",
       "\n",
       "    .dataframe tbody tr th {\n",
       "        vertical-align: top;\n",
       "    }\n",
       "\n",
       "    .dataframe thead th {\n",
       "        text-align: right;\n",
       "    }\n",
       "</style>\n",
       "<table border=\"1\" class=\"dataframe\">\n",
       "  <thead>\n",
       "    <tr style=\"text-align: right;\">\n",
       "      <th></th>\n",
       "      <th>family_status_id</th>\n",
       "      <th>family_status</th>\n",
       "    </tr>\n",
       "  </thead>\n",
       "  <tbody>\n",
       "    <tr>\n",
       "      <th>0</th>\n",
       "      <td>0</td>\n",
       "      <td>женат / замужем</td>\n",
       "    </tr>\n",
       "    <tr>\n",
       "      <th>1</th>\n",
       "      <td>1</td>\n",
       "      <td>гражданский брак</td>\n",
       "    </tr>\n",
       "    <tr>\n",
       "      <th>2</th>\n",
       "      <td>2</td>\n",
       "      <td>вдовец / вдова</td>\n",
       "    </tr>\n",
       "    <tr>\n",
       "      <th>3</th>\n",
       "      <td>3</td>\n",
       "      <td>в разводе</td>\n",
       "    </tr>\n",
       "    <tr>\n",
       "      <th>4</th>\n",
       "      <td>4</td>\n",
       "      <td>Не женат / не замужем</td>\n",
       "    </tr>\n",
       "  </tbody>\n",
       "</table>\n",
       "</div>"
      ],
      "text/plain": [
       "   family_status_id          family_status\n",
       "0                 0        женат / замужем\n",
       "1                 1       гражданский брак\n",
       "2                 2         вдовец / вдова\n",
       "3                 3              в разводе\n",
       "4                 4  Не женат / не замужем"
      ]
     },
     "execution_count": 34,
     "metadata": {},
     "output_type": "execute_result"
    }
   ],
   "source": [
    "#family_status_dict = df.pivot_table(index='family_status', values='family_status_id').sort_values(by='family_status_id')\n",
    "#family_status_dict\n",
    "\n",
    "columns = ['family_status_id', 'family_status']\n",
    "rows = [[0, 'женат / замужем'],\n",
    "       [1, 'гражданский брак'],\n",
    "       [2, 'вдовец / вдова'],\n",
    "       [3, 'в разводе'],\n",
    "       [4, 'Не женат / не замужем']]\n",
    "\n",
    "family_status_dict = pd.DataFrame(data=rows, columns=columns)\n",
    "family_status_dict"
   ]
  },
  {
   "cell_type": "code",
   "execution_count": 35,
   "id": "471f4d36",
   "metadata": {},
   "outputs": [
    {
     "data": {
      "text/html": [
       "<div>\n",
       "<style scoped>\n",
       "    .dataframe tbody tr th:only-of-type {\n",
       "        vertical-align: middle;\n",
       "    }\n",
       "\n",
       "    .dataframe tbody tr th {\n",
       "        vertical-align: top;\n",
       "    }\n",
       "\n",
       "    .dataframe thead th {\n",
       "        text-align: right;\n",
       "    }\n",
       "</style>\n",
       "<table border=\"1\" class=\"dataframe\">\n",
       "  <thead>\n",
       "    <tr style=\"text-align: right;\">\n",
       "      <th></th>\n",
       "      <th>children</th>\n",
       "      <th>days_employed</th>\n",
       "      <th>dob_years</th>\n",
       "      <th>education_id</th>\n",
       "      <th>family_status_id</th>\n",
       "      <th>gender</th>\n",
       "      <th>income_type</th>\n",
       "      <th>debt</th>\n",
       "      <th>total_income</th>\n",
       "      <th>purpose</th>\n",
       "    </tr>\n",
       "  </thead>\n",
       "  <tbody>\n",
       "    <tr>\n",
       "      <th>0</th>\n",
       "      <td>1</td>\n",
       "      <td>8437</td>\n",
       "      <td>42</td>\n",
       "      <td>0</td>\n",
       "      <td>0</td>\n",
       "      <td>F</td>\n",
       "      <td>сотрудник</td>\n",
       "      <td>0</td>\n",
       "      <td>253875</td>\n",
       "      <td>покупка жилья</td>\n",
       "    </tr>\n",
       "    <tr>\n",
       "      <th>1</th>\n",
       "      <td>1</td>\n",
       "      <td>4024</td>\n",
       "      <td>36</td>\n",
       "      <td>1</td>\n",
       "      <td>0</td>\n",
       "      <td>F</td>\n",
       "      <td>сотрудник</td>\n",
       "      <td>0</td>\n",
       "      <td>112080</td>\n",
       "      <td>приобретение автомобиля</td>\n",
       "    </tr>\n",
       "    <tr>\n",
       "      <th>2</th>\n",
       "      <td>0</td>\n",
       "      <td>5623</td>\n",
       "      <td>33</td>\n",
       "      <td>1</td>\n",
       "      <td>0</td>\n",
       "      <td>M</td>\n",
       "      <td>сотрудник</td>\n",
       "      <td>0</td>\n",
       "      <td>145885</td>\n",
       "      <td>покупка жилья</td>\n",
       "    </tr>\n",
       "    <tr>\n",
       "      <th>3</th>\n",
       "      <td>3</td>\n",
       "      <td>4124</td>\n",
       "      <td>32</td>\n",
       "      <td>1</td>\n",
       "      <td>0</td>\n",
       "      <td>M</td>\n",
       "      <td>сотрудник</td>\n",
       "      <td>0</td>\n",
       "      <td>267628</td>\n",
       "      <td>дополнительное образование</td>\n",
       "    </tr>\n",
       "    <tr>\n",
       "      <th>4</th>\n",
       "      <td>0</td>\n",
       "      <td>14177</td>\n",
       "      <td>53</td>\n",
       "      <td>1</td>\n",
       "      <td>1</td>\n",
       "      <td>F</td>\n",
       "      <td>пенсионер</td>\n",
       "      <td>0</td>\n",
       "      <td>158616</td>\n",
       "      <td>сыграть свадьбу</td>\n",
       "    </tr>\n",
       "    <tr>\n",
       "      <th>...</th>\n",
       "      <td>...</td>\n",
       "      <td>...</td>\n",
       "      <td>...</td>\n",
       "      <td>...</td>\n",
       "      <td>...</td>\n",
       "      <td>...</td>\n",
       "      <td>...</td>\n",
       "      <td>...</td>\n",
       "      <td>...</td>\n",
       "      <td>...</td>\n",
       "    </tr>\n",
       "    <tr>\n",
       "      <th>21449</th>\n",
       "      <td>1</td>\n",
       "      <td>4529</td>\n",
       "      <td>43</td>\n",
       "      <td>1</td>\n",
       "      <td>1</td>\n",
       "      <td>F</td>\n",
       "      <td>компаньон</td>\n",
       "      <td>0</td>\n",
       "      <td>224791</td>\n",
       "      <td>операции с жильем</td>\n",
       "    </tr>\n",
       "    <tr>\n",
       "      <th>21450</th>\n",
       "      <td>0</td>\n",
       "      <td>14330</td>\n",
       "      <td>67</td>\n",
       "      <td>1</td>\n",
       "      <td>0</td>\n",
       "      <td>F</td>\n",
       "      <td>пенсионер</td>\n",
       "      <td>0</td>\n",
       "      <td>155999</td>\n",
       "      <td>сделка с автомобилем</td>\n",
       "    </tr>\n",
       "    <tr>\n",
       "      <th>21451</th>\n",
       "      <td>1</td>\n",
       "      <td>2113</td>\n",
       "      <td>38</td>\n",
       "      <td>1</td>\n",
       "      <td>1</td>\n",
       "      <td>M</td>\n",
       "      <td>сотрудник</td>\n",
       "      <td>1</td>\n",
       "      <td>89672</td>\n",
       "      <td>недвижимость</td>\n",
       "    </tr>\n",
       "    <tr>\n",
       "      <th>21452</th>\n",
       "      <td>3</td>\n",
       "      <td>3112</td>\n",
       "      <td>38</td>\n",
       "      <td>1</td>\n",
       "      <td>0</td>\n",
       "      <td>M</td>\n",
       "      <td>сотрудник</td>\n",
       "      <td>1</td>\n",
       "      <td>244093</td>\n",
       "      <td>на покупку своего автомобиля</td>\n",
       "    </tr>\n",
       "    <tr>\n",
       "      <th>21453</th>\n",
       "      <td>2</td>\n",
       "      <td>1984</td>\n",
       "      <td>40</td>\n",
       "      <td>1</td>\n",
       "      <td>0</td>\n",
       "      <td>F</td>\n",
       "      <td>сотрудник</td>\n",
       "      <td>0</td>\n",
       "      <td>82047</td>\n",
       "      <td>на покупку автомобиля</td>\n",
       "    </tr>\n",
       "  </tbody>\n",
       "</table>\n",
       "<p>21454 rows × 10 columns</p>\n",
       "</div>"
      ],
      "text/plain": [
       "       children  days_employed  dob_years  education_id  family_status_id  \\\n",
       "0             1           8437         42             0                 0   \n",
       "1             1           4024         36             1                 0   \n",
       "2             0           5623         33             1                 0   \n",
       "3             3           4124         32             1                 0   \n",
       "4             0          14177         53             1                 1   \n",
       "...         ...            ...        ...           ...               ...   \n",
       "21449         1           4529         43             1                 1   \n",
       "21450         0          14330         67             1                 0   \n",
       "21451         1           2113         38             1                 1   \n",
       "21452         3           3112         38             1                 0   \n",
       "21453         2           1984         40             1                 0   \n",
       "\n",
       "      gender income_type  debt  total_income                       purpose  \n",
       "0          F   сотрудник     0        253875                 покупка жилья  \n",
       "1          F   сотрудник     0        112080       приобретение автомобиля  \n",
       "2          M   сотрудник     0        145885                 покупка жилья  \n",
       "3          M   сотрудник     0        267628    дополнительное образование  \n",
       "4          F   пенсионер     0        158616               сыграть свадьбу  \n",
       "...      ...         ...   ...           ...                           ...  \n",
       "21449      F   компаньон     0        224791             операции с жильем  \n",
       "21450      F   пенсионер     0        155999          сделка с автомобилем  \n",
       "21451      M   сотрудник     1         89672                  недвижимость  \n",
       "21452      M   сотрудник     1        244093  на покупку своего автомобиля  \n",
       "21453      F   сотрудник     0         82047         на покупку автомобиля  \n",
       "\n",
       "[21454 rows x 10 columns]"
      ]
     },
     "execution_count": 35,
     "metadata": {},
     "output_type": "execute_result"
    }
   ],
   "source": [
    "df = df.drop(columns=['education', 'family_status'], axis=1)\n",
    "df"
   ]
  },
  {
   "cell_type": "markdown",
   "id": "2c0131f0",
   "metadata": {},
   "source": [
    "С помощью метода `'pd.DataFrame()'` я создал таблицы-словари для образования и семейного положения.\n",
    "\n",
    "С помощью метода `'drop()'` я удалил из исходной таблицы столбцы `'education'` и `'family_status'`."
   ]
  },
  {
   "cell_type": "markdown",
   "id": "ac072881",
   "metadata": {},
   "source": [
    "# 2.6. Категоризация дохода."
   ]
  },
  {
   "cell_type": "code",
   "execution_count": 36,
   "id": "c8a47dcf",
   "metadata": {},
   "outputs": [],
   "source": [
    "# Функция возвращающая значение категории в зависимости от размеров месячного дохода\n",
    "\n",
    "def income_category(income):\n",
    "    try:\n",
    "        if 0 < income <= 30000:\n",
    "            return 'E'\n",
    "        if 30000 < income <= 50000:\n",
    "            return 'D'\n",
    "        if 50000 < income <= 200000:\n",
    "            return 'C'\n",
    "        if 200000 < income <= 1000000:\n",
    "            return 'B'\n",
    "        if 1000000 < income:\n",
    "            return 'A'\n",
    "    except:\n",
    "        return income"
   ]
  },
  {
   "cell_type": "code",
   "execution_count": 37,
   "id": "3314eda7",
   "metadata": {},
   "outputs": [
    {
     "name": "stdout",
     "output_type": "stream",
     "text": [
      "E\n",
      "B\n",
      "четыре\n"
     ]
    }
   ],
   "source": [
    "# Проверка функции\n",
    "print(income_category(25000))\n",
    "print(income_category(235000))\n",
    "print(income_category('четыре'))"
   ]
  },
  {
   "cell_type": "markdown",
   "id": "09f3ed31",
   "metadata": {},
   "source": [
    "<div class=\"alert alert-success\">\n",
    "<b>✔️ Комментарий ревьюера:</b> Молодец, что делаешь проверку работоспособности функции. Это очень важный шаг"
   ]
  },
  {
   "cell_type": "code",
   "execution_count": 38,
   "id": "187eb81a",
   "metadata": {},
   "outputs": [
    {
     "data": {
      "text/html": [
       "<div>\n",
       "<style scoped>\n",
       "    .dataframe tbody tr th:only-of-type {\n",
       "        vertical-align: middle;\n",
       "    }\n",
       "\n",
       "    .dataframe tbody tr th {\n",
       "        vertical-align: top;\n",
       "    }\n",
       "\n",
       "    .dataframe thead th {\n",
       "        text-align: right;\n",
       "    }\n",
       "</style>\n",
       "<table border=\"1\" class=\"dataframe\">\n",
       "  <thead>\n",
       "    <tr style=\"text-align: right;\">\n",
       "      <th></th>\n",
       "      <th>children</th>\n",
       "      <th>days_employed</th>\n",
       "      <th>dob_years</th>\n",
       "      <th>education_id</th>\n",
       "      <th>family_status_id</th>\n",
       "      <th>gender</th>\n",
       "      <th>income_type</th>\n",
       "      <th>debt</th>\n",
       "      <th>total_income</th>\n",
       "      <th>purpose</th>\n",
       "      <th>total_income_category</th>\n",
       "    </tr>\n",
       "  </thead>\n",
       "  <tbody>\n",
       "    <tr>\n",
       "      <th>0</th>\n",
       "      <td>1</td>\n",
       "      <td>8437</td>\n",
       "      <td>42</td>\n",
       "      <td>0</td>\n",
       "      <td>0</td>\n",
       "      <td>F</td>\n",
       "      <td>сотрудник</td>\n",
       "      <td>0</td>\n",
       "      <td>253875</td>\n",
       "      <td>покупка жилья</td>\n",
       "      <td>B</td>\n",
       "    </tr>\n",
       "    <tr>\n",
       "      <th>1</th>\n",
       "      <td>1</td>\n",
       "      <td>4024</td>\n",
       "      <td>36</td>\n",
       "      <td>1</td>\n",
       "      <td>0</td>\n",
       "      <td>F</td>\n",
       "      <td>сотрудник</td>\n",
       "      <td>0</td>\n",
       "      <td>112080</td>\n",
       "      <td>приобретение автомобиля</td>\n",
       "      <td>C</td>\n",
       "    </tr>\n",
       "    <tr>\n",
       "      <th>2</th>\n",
       "      <td>0</td>\n",
       "      <td>5623</td>\n",
       "      <td>33</td>\n",
       "      <td>1</td>\n",
       "      <td>0</td>\n",
       "      <td>M</td>\n",
       "      <td>сотрудник</td>\n",
       "      <td>0</td>\n",
       "      <td>145885</td>\n",
       "      <td>покупка жилья</td>\n",
       "      <td>C</td>\n",
       "    </tr>\n",
       "    <tr>\n",
       "      <th>3</th>\n",
       "      <td>3</td>\n",
       "      <td>4124</td>\n",
       "      <td>32</td>\n",
       "      <td>1</td>\n",
       "      <td>0</td>\n",
       "      <td>M</td>\n",
       "      <td>сотрудник</td>\n",
       "      <td>0</td>\n",
       "      <td>267628</td>\n",
       "      <td>дополнительное образование</td>\n",
       "      <td>B</td>\n",
       "    </tr>\n",
       "    <tr>\n",
       "      <th>4</th>\n",
       "      <td>0</td>\n",
       "      <td>14177</td>\n",
       "      <td>53</td>\n",
       "      <td>1</td>\n",
       "      <td>1</td>\n",
       "      <td>F</td>\n",
       "      <td>пенсионер</td>\n",
       "      <td>0</td>\n",
       "      <td>158616</td>\n",
       "      <td>сыграть свадьбу</td>\n",
       "      <td>C</td>\n",
       "    </tr>\n",
       "    <tr>\n",
       "      <th>5</th>\n",
       "      <td>0</td>\n",
       "      <td>926</td>\n",
       "      <td>27</td>\n",
       "      <td>0</td>\n",
       "      <td>1</td>\n",
       "      <td>M</td>\n",
       "      <td>компаньон</td>\n",
       "      <td>0</td>\n",
       "      <td>255763</td>\n",
       "      <td>покупка жилья</td>\n",
       "      <td>B</td>\n",
       "    </tr>\n",
       "    <tr>\n",
       "      <th>6</th>\n",
       "      <td>0</td>\n",
       "      <td>2879</td>\n",
       "      <td>43</td>\n",
       "      <td>0</td>\n",
       "      <td>0</td>\n",
       "      <td>F</td>\n",
       "      <td>компаньон</td>\n",
       "      <td>0</td>\n",
       "      <td>240525</td>\n",
       "      <td>операции с жильем</td>\n",
       "      <td>B</td>\n",
       "    </tr>\n",
       "    <tr>\n",
       "      <th>7</th>\n",
       "      <td>0</td>\n",
       "      <td>152</td>\n",
       "      <td>50</td>\n",
       "      <td>1</td>\n",
       "      <td>0</td>\n",
       "      <td>M</td>\n",
       "      <td>сотрудник</td>\n",
       "      <td>0</td>\n",
       "      <td>135823</td>\n",
       "      <td>образование</td>\n",
       "      <td>C</td>\n",
       "    </tr>\n",
       "    <tr>\n",
       "      <th>8</th>\n",
       "      <td>2</td>\n",
       "      <td>6929</td>\n",
       "      <td>35</td>\n",
       "      <td>0</td>\n",
       "      <td>1</td>\n",
       "      <td>F</td>\n",
       "      <td>сотрудник</td>\n",
       "      <td>0</td>\n",
       "      <td>95856</td>\n",
       "      <td>на проведение свадьбы</td>\n",
       "      <td>C</td>\n",
       "    </tr>\n",
       "    <tr>\n",
       "      <th>9</th>\n",
       "      <td>0</td>\n",
       "      <td>2188</td>\n",
       "      <td>41</td>\n",
       "      <td>1</td>\n",
       "      <td>0</td>\n",
       "      <td>M</td>\n",
       "      <td>сотрудник</td>\n",
       "      <td>0</td>\n",
       "      <td>144425</td>\n",
       "      <td>покупка жилья для семьи</td>\n",
       "      <td>C</td>\n",
       "    </tr>\n",
       "  </tbody>\n",
       "</table>\n",
       "</div>"
      ],
      "text/plain": [
       "   children  days_employed  dob_years  education_id  family_status_id gender  \\\n",
       "0         1           8437         42             0                 0      F   \n",
       "1         1           4024         36             1                 0      F   \n",
       "2         0           5623         33             1                 0      M   \n",
       "3         3           4124         32             1                 0      M   \n",
       "4         0          14177         53             1                 1      F   \n",
       "5         0            926         27             0                 1      M   \n",
       "6         0           2879         43             0                 0      F   \n",
       "7         0            152         50             1                 0      M   \n",
       "8         2           6929         35             0                 1      F   \n",
       "9         0           2188         41             1                 0      M   \n",
       "\n",
       "  income_type  debt  total_income                     purpose  \\\n",
       "0   сотрудник     0        253875               покупка жилья   \n",
       "1   сотрудник     0        112080     приобретение автомобиля   \n",
       "2   сотрудник     0        145885               покупка жилья   \n",
       "3   сотрудник     0        267628  дополнительное образование   \n",
       "4   пенсионер     0        158616             сыграть свадьбу   \n",
       "5   компаньон     0        255763               покупка жилья   \n",
       "6   компаньон     0        240525           операции с жильем   \n",
       "7   сотрудник     0        135823                 образование   \n",
       "8   сотрудник     0         95856       на проведение свадьбы   \n",
       "9   сотрудник     0        144425     покупка жилья для семьи   \n",
       "\n",
       "  total_income_category  \n",
       "0                     B  \n",
       "1                     C  \n",
       "2                     C  \n",
       "3                     B  \n",
       "4                     C  \n",
       "5                     B  \n",
       "6                     B  \n",
       "7                     C  \n",
       "8                     C  \n",
       "9                     C  "
      ]
     },
     "execution_count": 38,
     "metadata": {},
     "output_type": "execute_result"
    }
   ],
   "source": [
    "df['total_income_category'] = df['total_income'].apply(income_category)\n",
    "df.head(10)"
   ]
  },
  {
   "cell_type": "markdown",
   "id": "ca494ae0",
   "metadata": {},
   "source": [
    "С помощью написанной функции я добавил к таблице новый столбец, разбивающий клиентов на категории по доходам."
   ]
  },
  {
   "cell_type": "code",
   "execution_count": 39,
   "id": "b34fa0ab",
   "metadata": {},
   "outputs": [
    {
     "data": {
      "text/plain": [
       "C    16016\n",
       "B     5041\n",
       "D      350\n",
       "A       25\n",
       "E       22\n",
       "Name: total_income_category, dtype: int64"
      ]
     },
     "execution_count": 39,
     "metadata": {},
     "output_type": "execute_result"
    }
   ],
   "source": [
    "df['total_income_category'].value_counts()"
   ]
  },
  {
   "cell_type": "markdown",
   "id": "350f8769",
   "metadata": {},
   "source": [
    "Больше всего оказалось клиентов с зарплатой от `50000` до `200000`."
   ]
  },
  {
   "cell_type": "markdown",
   "id": "4d69e0a8",
   "metadata": {},
   "source": [
    "# 2.7. Категоризация целей кредита."
   ]
  },
  {
   "cell_type": "code",
   "execution_count": 40,
   "id": "218840ab",
   "metadata": {},
   "outputs": [
    {
     "data": {
      "text/plain": [
       "свадьба                                   791\n",
       "на проведение свадьбы                     768\n",
       "сыграть свадьбу                           765\n",
       "операции с недвижимостью                  675\n",
       "покупка коммерческой недвижимости         661\n",
       "операции с жильем                         652\n",
       "покупка жилья для сдачи                   651\n",
       "операции с коммерческой недвижимостью     650\n",
       "покупка жилья                             646\n",
       "жилье                                     646\n",
       "покупка жилья для семьи                   638\n",
       "строительство собственной недвижимости    635\n",
       "недвижимость                              633\n",
       "операции со своей недвижимостью           627\n",
       "строительство жилой недвижимости          624\n",
       "покупка недвижимости                      621\n",
       "покупка своего жилья                      620\n",
       "строительство недвижимости                619\n",
       "ремонт жилью                              607\n",
       "покупка жилой недвижимости                606\n",
       "на покупку своего автомобиля              505\n",
       "заняться высшим образованием              496\n",
       "автомобиль                                494\n",
       "сделка с подержанным автомобилем          486\n",
       "на покупку подержанного автомобиля        478\n",
       "автомобили                                478\n",
       "свой автомобиль                           478\n",
       "на покупку автомобиля                     471\n",
       "приобретение автомобиля                   461\n",
       "дополнительное образование                460\n",
       "сделка с автомобилем                      455\n",
       "высшее образование                        452\n",
       "образование                               447\n",
       "получение дополнительного образования     446\n",
       "получение образования                     442\n",
       "профильное образование                    436\n",
       "получение высшего образования             426\n",
       "заняться образованием                     408\n",
       "Name: purpose, dtype: int64"
      ]
     },
     "execution_count": 40,
     "metadata": {},
     "output_type": "execute_result"
    }
   ],
   "source": [
    "df['purpose'].value_counts()"
   ]
  },
  {
   "cell_type": "markdown",
   "id": "5333c36e",
   "metadata": {},
   "source": [
    "С содержанием столбца`'purpose'` всё в порядке. Значения этого столбца поправлять не нужно."
   ]
  },
  {
   "cell_type": "code",
   "execution_count": 41,
   "id": "379de55c",
   "metadata": {},
   "outputs": [],
   "source": [
    "# Функция для категоризации целей кредита\n",
    "\n",
    "def category_for_purpose(purpose):\n",
    "    try:\n",
    "        if 'жиль' in purpose:\n",
    "            return 'операции с недвижимостью'\n",
    "        if 'недвижимост' in purpose:\n",
    "            return 'операции с недвижимостью'\n",
    "        if 'свадьб' in purpose:\n",
    "            return 'проведение свадьбы'\n",
    "        if 'образован' in purpose:\n",
    "            return 'получение образования'\n",
    "        if 'автомобил' in purpose:\n",
    "            return 'операции с автомобилем'\n",
    "    except:\n",
    "        return purpose"
   ]
  },
  {
   "cell_type": "code",
   "execution_count": 42,
   "id": "4f40c8b1",
   "metadata": {},
   "outputs": [
    {
     "name": "stdout",
     "output_type": "stream",
     "text": [
      "операции с недвижимостью\n",
      "операции с недвижимостью\n",
      "проведение свадьбы\n",
      "получение образования\n",
      "операции с автомобилем\n",
      "9\n"
     ]
    }
   ],
   "source": [
    "# Проверка функции\n",
    "\n",
    "print(category_for_purpose('ремонт жилью'))\n",
    "print(category_for_purpose('покупка жилой недвижимости'))\n",
    "print(category_for_purpose('сыграть свадьбу'))\n",
    "print(category_for_purpose('заняться образованием'))\n",
    "print(category_for_purpose('свой автомобиль'))\n",
    "print(category_for_purpose(9))"
   ]
  },
  {
   "cell_type": "code",
   "execution_count": 43,
   "id": "31435956",
   "metadata": {},
   "outputs": [],
   "source": [
    "df['purpose_category'] = df['purpose'].apply(category_for_purpose)"
   ]
  },
  {
   "cell_type": "code",
   "execution_count": 44,
   "id": "369fa9ac",
   "metadata": {
    "scrolled": true
   },
   "outputs": [
    {
     "data": {
      "text/plain": [
       "0    операции с недвижимостью\n",
       "1      операции с автомобилем\n",
       "2    операции с недвижимостью\n",
       "3       получение образования\n",
       "4          проведение свадьбы\n",
       "5    операции с недвижимостью\n",
       "6    операции с недвижимостью\n",
       "7       получение образования\n",
       "8          проведение свадьбы\n",
       "9    операции с недвижимостью\n",
       "Name: purpose_category, dtype: object"
      ]
     },
     "execution_count": 44,
     "metadata": {},
     "output_type": "execute_result"
    }
   ],
   "source": [
    "df['purpose_category'].head(10)"
   ]
  },
  {
   "cell_type": "markdown",
   "id": "932762e7",
   "metadata": {},
   "source": [
    "Категоризация по цели кредита прошла успешно."
   ]
  },
  {
   "cell_type": "code",
   "execution_count": 45,
   "id": "1b34ca52",
   "metadata": {},
   "outputs": [
    {
     "data": {
      "text/plain": [
       "операции с недвижимостью    10811\n",
       "операции с автомобилем       4306\n",
       "получение образования        4013\n",
       "проведение свадьбы           2324\n",
       "Name: purpose_category, dtype: int64"
      ]
     },
     "execution_count": 45,
     "metadata": {},
     "output_type": "execute_result"
    }
   ],
   "source": [
    "df['purpose_category'].value_counts()"
   ]
  },
  {
   "cell_type": "markdown",
   "id": "aee4a5c8",
   "metadata": {},
   "source": [
    "Самая частая цель для кредита - операции с недвижимостью."
   ]
  },
  {
   "cell_type": "markdown",
   "id": "4e7e47b5",
   "metadata": {},
   "source": [
    "<div class=\"alert alert-success\">\n",
    "<b>✔️ Комментарий ревьюера:</b> Категоризация выполнена корректно"
   ]
  },
  {
   "cell_type": "markdown",
   "id": "1fed3717",
   "metadata": {},
   "source": [
    "# Ответы на вопросы."
   ]
  },
  {
   "cell_type": "markdown",
   "id": "cc806eb1",
   "metadata": {},
   "source": [
    "**Вопрос 1: Есть ли зависимость между количеством детей и возвратом кредита в срок?**"
   ]
  },
  {
   "cell_type": "code",
   "execution_count": 46,
   "id": "9df79af1",
   "metadata": {
    "scrolled": true
   },
   "outputs": [
    {
     "data": {
      "text/html": [
       "<div>\n",
       "<style scoped>\n",
       "    .dataframe tbody tr th:only-of-type {\n",
       "        vertical-align: middle;\n",
       "    }\n",
       "\n",
       "    .dataframe tbody tr th {\n",
       "        vertical-align: top;\n",
       "    }\n",
       "\n",
       "    .dataframe thead th {\n",
       "        text-align: right;\n",
       "    }\n",
       "</style>\n",
       "<table border=\"1\" class=\"dataframe\">\n",
       "  <thead>\n",
       "    <tr style=\"text-align: right;\">\n",
       "      <th>debt</th>\n",
       "      <th>0</th>\n",
       "      <th>1</th>\n",
       "      <th>%</th>\n",
       "    </tr>\n",
       "    <tr>\n",
       "      <th>children</th>\n",
       "      <th></th>\n",
       "      <th></th>\n",
       "      <th></th>\n",
       "    </tr>\n",
       "  </thead>\n",
       "  <tbody>\n",
       "    <tr>\n",
       "      <th>0</th>\n",
       "      <td>13028.0</td>\n",
       "      <td>1063.0</td>\n",
       "      <td>7.543822</td>\n",
       "    </tr>\n",
       "    <tr>\n",
       "      <th>1</th>\n",
       "      <td>4410.0</td>\n",
       "      <td>445.0</td>\n",
       "      <td>9.165808</td>\n",
       "    </tr>\n",
       "    <tr>\n",
       "      <th>2</th>\n",
       "      <td>1926.0</td>\n",
       "      <td>202.0</td>\n",
       "      <td>9.492481</td>\n",
       "    </tr>\n",
       "    <tr>\n",
       "      <th>3</th>\n",
       "      <td>303.0</td>\n",
       "      <td>27.0</td>\n",
       "      <td>8.181818</td>\n",
       "    </tr>\n",
       "    <tr>\n",
       "      <th>4</th>\n",
       "      <td>37.0</td>\n",
       "      <td>4.0</td>\n",
       "      <td>9.756098</td>\n",
       "    </tr>\n",
       "    <tr>\n",
       "      <th>5</th>\n",
       "      <td>9.0</td>\n",
       "      <td>NaN</td>\n",
       "      <td>NaN</td>\n",
       "    </tr>\n",
       "  </tbody>\n",
       "</table>\n",
       "</div>"
      ],
      "text/plain": [
       "debt            0       1         %\n",
       "children                           \n",
       "0         13028.0  1063.0  7.543822\n",
       "1          4410.0   445.0  9.165808\n",
       "2          1926.0   202.0  9.492481\n",
       "3           303.0    27.0  8.181818\n",
       "4            37.0     4.0  9.756098\n",
       "5             9.0     NaN       NaN"
      ]
     },
     "execution_count": 46,
     "metadata": {},
     "output_type": "execute_result"
    }
   ],
   "source": [
    "children_debt_table = df.pivot_table(index='children', columns='debt', values='gender', aggfunc='count')\n",
    "children_debt_table['%'] = children_debt_table[1] / (children_debt_table[0] + children_debt_table[1]) * 100\n",
    "children_debt_table"
   ]
  },
  {
   "cell_type": "markdown",
   "id": "eb220735",
   "metadata": {},
   "source": [
    "**Вывод 1:**\n",
    "Люди, не имеющие детей, возвращают кредит в срок несущественно чаще, чем люди имеющие детей. Также оказалось, что клиенты имеющие 5 детей вообще не имеют просроченных кредитов (как мне кажется, это связано с небольшой выборкой: всего 9 человек имеют 5 детей)."
   ]
  },
  {
   "cell_type": "markdown",
   "id": "9b1496a2",
   "metadata": {},
   "source": [
    "<div class=\"alert alert-warning\">\n",
    "<b>⚠️ Комментарий ревьюера:</b> Отличная работа со сводной таблицей! Если сделать аггрегацию еще и по среднему, сразу найдем долю и нам не придется высчитывать ее вручную:)\n",
    "\n",
    "        \n",
    "        data.pivot_table(index=\"category_children\", values=\"debt\", aggfunc=['sum','count','mean'])\n",
    "    \n",
    "        (можно добавить в конец .applymap(lambda x: \"{:.0f}%\".format(100*x)), чтобы вывести процент)\n",
    "        \n",
    "Так оптимизируем код до строки)"
   ]
  },
  {
   "cell_type": "markdown",
   "id": "db7dc18b",
   "metadata": {},
   "source": [
    "**Вопрос 2: Есть ли зависимость между семейным положением и возвратом кредита в срок?**"
   ]
  },
  {
   "cell_type": "code",
   "execution_count": 47,
   "id": "de72d7ca",
   "metadata": {},
   "outputs": [
    {
     "data": {
      "text/html": [
       "<div>\n",
       "<style scoped>\n",
       "    .dataframe tbody tr th:only-of-type {\n",
       "        vertical-align: middle;\n",
       "    }\n",
       "\n",
       "    .dataframe tbody tr th {\n",
       "        vertical-align: top;\n",
       "    }\n",
       "\n",
       "    .dataframe thead th {\n",
       "        text-align: right;\n",
       "    }\n",
       "</style>\n",
       "<table border=\"1\" class=\"dataframe\">\n",
       "  <thead>\n",
       "    <tr style=\"text-align: right;\">\n",
       "      <th></th>\n",
       "      <th>family_status_id</th>\n",
       "      <th>0</th>\n",
       "      <th>1</th>\n",
       "      <th>%</th>\n",
       "      <th>family_status</th>\n",
       "    </tr>\n",
       "  </thead>\n",
       "  <tbody>\n",
       "    <tr>\n",
       "      <th>0</th>\n",
       "      <td>0</td>\n",
       "      <td>11408</td>\n",
       "      <td>931</td>\n",
       "      <td>7.545182</td>\n",
       "      <td>женат / замужем</td>\n",
       "    </tr>\n",
       "    <tr>\n",
       "      <th>1</th>\n",
       "      <td>1</td>\n",
       "      <td>3763</td>\n",
       "      <td>388</td>\n",
       "      <td>9.347145</td>\n",
       "      <td>гражданский брак</td>\n",
       "    </tr>\n",
       "    <tr>\n",
       "      <th>2</th>\n",
       "      <td>2</td>\n",
       "      <td>896</td>\n",
       "      <td>63</td>\n",
       "      <td>6.569343</td>\n",
       "      <td>вдовец / вдова</td>\n",
       "    </tr>\n",
       "    <tr>\n",
       "      <th>3</th>\n",
       "      <td>3</td>\n",
       "      <td>1110</td>\n",
       "      <td>85</td>\n",
       "      <td>7.112971</td>\n",
       "      <td>в разводе</td>\n",
       "    </tr>\n",
       "    <tr>\n",
       "      <th>4</th>\n",
       "      <td>4</td>\n",
       "      <td>2536</td>\n",
       "      <td>274</td>\n",
       "      <td>9.750890</td>\n",
       "      <td>Не женат / не замужем</td>\n",
       "    </tr>\n",
       "  </tbody>\n",
       "</table>\n",
       "</div>"
      ],
      "text/plain": [
       "   family_status_id      0    1         %          family_status\n",
       "0                 0  11408  931  7.545182        женат / замужем\n",
       "1                 1   3763  388  9.347145       гражданский брак\n",
       "2                 2    896   63  6.569343         вдовец / вдова\n",
       "3                 3   1110   85  7.112971              в разводе\n",
       "4                 4   2536  274  9.750890  Не женат / не замужем"
      ]
     },
     "execution_count": 47,
     "metadata": {},
     "output_type": "execute_result"
    }
   ],
   "source": [
    "family_status_debt_table = df.pivot_table(index='family_status_id', columns='debt', values='gender', aggfunc='count')\n",
    "family_status_debt_table['%'] = family_status_debt_table[1] / (family_status_debt_table[0] + family_status_debt_table[1]) * 100\n",
    "family_status_debt_table.merge(family_status_dict, on='family_status_id', how='left')"
   ]
  },
  {
   "cell_type": "markdown",
   "id": "9ddf068e",
   "metadata": {},
   "source": [
    "**Вывод 2:** Вдовцы и вдовы возвращают кредиты в срок гораздо чаще, нежели клиенты, не состоящие в браке или состоящие в гражданском браке. "
   ]
  },
  {
   "cell_type": "markdown",
   "id": "a3135cb4",
   "metadata": {},
   "source": [
    "**Вопрос 3: Есть ли зависимость между уровнем дохода и возвратом кредита в срок?**"
   ]
  },
  {
   "cell_type": "code",
   "execution_count": 48,
   "id": "9362c6bf",
   "metadata": {},
   "outputs": [
    {
     "data": {
      "text/html": [
       "<div>\n",
       "<style scoped>\n",
       "    .dataframe tbody tr th:only-of-type {\n",
       "        vertical-align: middle;\n",
       "    }\n",
       "\n",
       "    .dataframe tbody tr th {\n",
       "        vertical-align: top;\n",
       "    }\n",
       "\n",
       "    .dataframe thead th {\n",
       "        text-align: right;\n",
       "    }\n",
       "</style>\n",
       "<table border=\"1\" class=\"dataframe\">\n",
       "  <thead>\n",
       "    <tr style=\"text-align: right;\">\n",
       "      <th>debt</th>\n",
       "      <th>0</th>\n",
       "      <th>1</th>\n",
       "      <th>%</th>\n",
       "    </tr>\n",
       "    <tr>\n",
       "      <th>total_income_category</th>\n",
       "      <th></th>\n",
       "      <th></th>\n",
       "      <th></th>\n",
       "    </tr>\n",
       "  </thead>\n",
       "  <tbody>\n",
       "    <tr>\n",
       "      <th>A</th>\n",
       "      <td>23</td>\n",
       "      <td>2</td>\n",
       "      <td>8.000000</td>\n",
       "    </tr>\n",
       "    <tr>\n",
       "      <th>B</th>\n",
       "      <td>4685</td>\n",
       "      <td>356</td>\n",
       "      <td>7.062091</td>\n",
       "    </tr>\n",
       "    <tr>\n",
       "      <th>C</th>\n",
       "      <td>14656</td>\n",
       "      <td>1360</td>\n",
       "      <td>8.491508</td>\n",
       "    </tr>\n",
       "    <tr>\n",
       "      <th>D</th>\n",
       "      <td>329</td>\n",
       "      <td>21</td>\n",
       "      <td>6.000000</td>\n",
       "    </tr>\n",
       "    <tr>\n",
       "      <th>E</th>\n",
       "      <td>20</td>\n",
       "      <td>2</td>\n",
       "      <td>9.090909</td>\n",
       "    </tr>\n",
       "  </tbody>\n",
       "</table>\n",
       "</div>"
      ],
      "text/plain": [
       "debt                       0     1         %\n",
       "total_income_category                       \n",
       "A                         23     2  8.000000\n",
       "B                       4685   356  7.062091\n",
       "C                      14656  1360  8.491508\n",
       "D                        329    21  6.000000\n",
       "E                         20     2  9.090909"
      ]
     },
     "execution_count": 48,
     "metadata": {},
     "output_type": "execute_result"
    }
   ],
   "source": [
    "total_income_debt_table = df.pivot_table(index='total_income_category', columns='debt', values='gender', aggfunc='count')\n",
    "total_income_debt_table['%'] = total_income_debt_table[1] / (total_income_debt_table[0] + total_income_debt_table[1]) * 100\n",
    "total_income_debt_table"
   ]
  },
  {
   "cell_type": "markdown",
   "id": "e8df9bf3",
   "metadata": {},
   "source": [
    "**Вывод 3:** Чаще всех возвращают кредит в срок клиенты с категорией доходов **D**. Достаточно высокую долю просроченных платежей по кредитам в категориях **A** и **Е** можно объяснить небольшой выборкой."
   ]
  },
  {
   "cell_type": "markdown",
   "id": "1b14478c",
   "metadata": {},
   "source": [
    "**Вопрос 4: Как разные цели кредита влияют на его возврат в срок?**"
   ]
  },
  {
   "cell_type": "code",
   "execution_count": 50,
   "id": "d0e71989",
   "metadata": {},
   "outputs": [
    {
     "data": {
      "text/html": [
       "<div>\n",
       "<style scoped>\n",
       "    .dataframe tbody tr th:only-of-type {\n",
       "        vertical-align: middle;\n",
       "    }\n",
       "\n",
       "    .dataframe tbody tr th {\n",
       "        vertical-align: top;\n",
       "    }\n",
       "\n",
       "    .dataframe thead th {\n",
       "        text-align: right;\n",
       "    }\n",
       "</style>\n",
       "<table border=\"1\" class=\"dataframe\">\n",
       "  <thead>\n",
       "    <tr style=\"text-align: right;\">\n",
       "      <th>debt</th>\n",
       "      <th>0</th>\n",
       "      <th>1</th>\n",
       "      <th>%</th>\n",
       "    </tr>\n",
       "    <tr>\n",
       "      <th>purpose_category</th>\n",
       "      <th></th>\n",
       "      <th></th>\n",
       "      <th></th>\n",
       "    </tr>\n",
       "  </thead>\n",
       "  <tbody>\n",
       "    <tr>\n",
       "      <th>операции с автомобилем</th>\n",
       "      <td>3903</td>\n",
       "      <td>403</td>\n",
       "      <td>9.359034</td>\n",
       "    </tr>\n",
       "    <tr>\n",
       "      <th>операции с недвижимостью</th>\n",
       "      <td>10029</td>\n",
       "      <td>782</td>\n",
       "      <td>7.233373</td>\n",
       "    </tr>\n",
       "    <tr>\n",
       "      <th>получение образования</th>\n",
       "      <td>3643</td>\n",
       "      <td>370</td>\n",
       "      <td>9.220035</td>\n",
       "    </tr>\n",
       "    <tr>\n",
       "      <th>проведение свадьбы</th>\n",
       "      <td>2138</td>\n",
       "      <td>186</td>\n",
       "      <td>8.003442</td>\n",
       "    </tr>\n",
       "  </tbody>\n",
       "</table>\n",
       "</div>"
      ],
      "text/plain": [
       "debt                          0    1         %\n",
       "purpose_category                              \n",
       "операции с автомобилем     3903  403  9.359034\n",
       "операции с недвижимостью  10029  782  7.233373\n",
       "получение образования      3643  370  9.220035\n",
       "проведение свадьбы         2138  186  8.003442"
      ]
     },
     "execution_count": 50,
     "metadata": {},
     "output_type": "execute_result"
    }
   ],
   "source": [
    "purpose_debt_table = df.pivot_table(index='purpose_category', columns='debt', values='gender', aggfunc='count')\n",
    "purpose_debt_table['%'] = purpose_debt_table[1] / (purpose_debt_table[0] + purpose_debt_table[1]) * 100\n",
    "purpose_debt_table"
   ]
  },
  {
   "cell_type": "markdown",
   "id": "a079faae",
   "metadata": {},
   "source": [
    "**Вывод 4:** Кредиты, взятые для операций с недвижимостью, возвращают в срок немного чаще, чем кредиты взятые на другие цели."
   ]
  },
  {
   "cell_type": "markdown",
   "id": "17e09d86",
   "metadata": {},
   "source": [
    "# Общий вывод:"
   ]
  },
  {
   "cell_type": "markdown",
   "id": "2a272077",
   "metadata": {},
   "source": [
    "Существенно на возврат кредита в срок не влияет ни один из выбранных в начале исследования параметров."
   ]
  },
  {
   "cell_type": "markdown",
   "id": "6992b0b3",
   "metadata": {},
   "source": [
    "<div class=\"alert alert-warning\">\n",
    "<b>⚠️ Комментарий ревьюера:</b>  Вывод - это полный отчет о проделанной работе. Он должен содержать все: от обработки данных до рекомендаций заказчику. Я бы советовала в начале кратко описывать, с какими данными мы работали и что сделали, а затем отвечать на вопрос исследования - в нашем случае, рекомендовать заказчику, как формировать модель кредитного скоринга. Даже небольшие расхождения в процентном отношении можно считать влиянием"
   ]
  },
  {
   "cell_type": "markdown",
   "id": "bafd8fe6",
   "metadata": {},
   "source": [
    "<div class=\"alert alert-success\">\n",
    "<b>✔️ Комментарий ревьюера:</b> Спасибо за проект! Видно, что ты старался и он получился очень сильным. Ты аккуратно работаешь с данными и выносишь качественные предположения - как настоящий аналитик. Критичных замечаний нет. Оставила направляющие комментарии. Я бы хотела принять твою работу с первого раза. Если у тебя будут вопросы, смело задавай их через куратора. Удачи на следующих этапах!"
   ]
  },
  {
   "cell_type": "code",
   "execution_count": null,
   "id": "e46e4ba5",
   "metadata": {},
   "outputs": [],
   "source": []
  }
 ],
 "metadata": {
  "ExecuteTimeLog": [
   {
    "duration": 444,
    "start_time": "2022-05-11T14:11:45.076Z"
   },
   {
    "duration": 59,
    "start_time": "2022-05-11T14:12:51.722Z"
   },
   {
    "duration": 91,
    "start_time": "2022-05-11T14:20:56.723Z"
   },
   {
    "duration": 5,
    "start_time": "2022-05-11T14:23:04.182Z"
   },
   {
    "duration": 65,
    "start_time": "2022-05-11T14:23:25.615Z"
   },
   {
    "duration": 6,
    "start_time": "2022-05-11T14:23:33.259Z"
   },
   {
    "duration": 61,
    "start_time": "2022-05-11T14:25:00.062Z"
   },
   {
    "duration": 65,
    "start_time": "2022-05-11T14:25:34.458Z"
   },
   {
    "duration": 9,
    "start_time": "2022-05-11T14:36:07.082Z"
   },
   {
    "duration": 4,
    "start_time": "2022-05-11T14:36:23.050Z"
   },
   {
    "duration": 15,
    "start_time": "2022-05-11T14:37:10.878Z"
   },
   {
    "duration": 6,
    "start_time": "2022-05-11T14:37:18.429Z"
   },
   {
    "duration": 4,
    "start_time": "2022-05-11T14:38:01.901Z"
   },
   {
    "duration": 4,
    "start_time": "2022-05-11T14:38:10.037Z"
   },
   {
    "duration": 5,
    "start_time": "2022-05-11T14:40:30.100Z"
   },
   {
    "duration": 5,
    "start_time": "2022-05-11T14:40:48.789Z"
   },
   {
    "duration": 7,
    "start_time": "2022-05-11T14:45:42.243Z"
   },
   {
    "duration": 5,
    "start_time": "2022-05-11T14:46:16.554Z"
   },
   {
    "duration": 5,
    "start_time": "2022-05-11T14:46:26.955Z"
   },
   {
    "duration": 5,
    "start_time": "2022-05-11T14:46:46.039Z"
   },
   {
    "duration": 8,
    "start_time": "2022-05-11T14:47:02.914Z"
   },
   {
    "duration": 87,
    "start_time": "2022-05-11T14:48:35.714Z"
   },
   {
    "duration": 7,
    "start_time": "2022-05-11T14:48:42.226Z"
   },
   {
    "duration": 6,
    "start_time": "2022-05-11T14:48:59.058Z"
   },
   {
    "duration": 7,
    "start_time": "2022-05-11T14:50:13.386Z"
   },
   {
    "duration": 10,
    "start_time": "2022-05-11T14:50:36.241Z"
   },
   {
    "duration": 7,
    "start_time": "2022-05-11T14:50:43.425Z"
   },
   {
    "duration": 7,
    "start_time": "2022-05-11T15:13:27.183Z"
   },
   {
    "duration": 4,
    "start_time": "2022-05-11T15:13:47.619Z"
   },
   {
    "duration": 21,
    "start_time": "2022-05-11T15:13:59.912Z"
   },
   {
    "duration": 7,
    "start_time": "2022-05-11T15:30:34.291Z"
   },
   {
    "duration": 21,
    "start_time": "2022-05-11T15:30:49.675Z"
   },
   {
    "duration": 6,
    "start_time": "2022-05-11T18:17:08.022Z"
   },
   {
    "duration": 5,
    "start_time": "2022-05-11T18:17:14.333Z"
   },
   {
    "duration": 5,
    "start_time": "2022-05-11T18:17:22.620Z"
   },
   {
    "duration": 68,
    "start_time": "2022-05-11T18:17:29.687Z"
   },
   {
    "duration": 13,
    "start_time": "2022-05-11T18:17:31.813Z"
   },
   {
    "duration": 4,
    "start_time": "2022-05-11T18:17:35.380Z"
   },
   {
    "duration": 5,
    "start_time": "2022-05-11T18:17:36.540Z"
   },
   {
    "duration": 6,
    "start_time": "2022-05-11T18:17:39.397Z"
   },
   {
    "duration": 5,
    "start_time": "2022-05-11T18:18:35.925Z"
   },
   {
    "duration": 80,
    "start_time": "2022-05-11T18:19:36.109Z"
   },
   {
    "duration": 5,
    "start_time": "2022-05-11T18:20:47.508Z"
   },
   {
    "duration": 11,
    "start_time": "2022-05-11T18:27:16.715Z"
   },
   {
    "duration": 5,
    "start_time": "2022-05-11T18:55:56.562Z"
   },
   {
    "duration": 5,
    "start_time": "2022-05-11T18:55:57.410Z"
   },
   {
    "duration": 6,
    "start_time": "2022-05-11T18:55:59.666Z"
   },
   {
    "duration": 81,
    "start_time": "2022-05-11T18:56:41.073Z"
   },
   {
    "duration": 9,
    "start_time": "2022-05-11T18:59:29.560Z"
   },
   {
    "duration": 8,
    "start_time": "2022-05-11T19:00:06.880Z"
   },
   {
    "duration": 4,
    "start_time": "2022-05-11T19:00:15.384Z"
   },
   {
    "duration": 85,
    "start_time": "2022-05-11T19:01:17.728Z"
   },
   {
    "duration": 89,
    "start_time": "2022-05-11T19:01:24.896Z"
   },
   {
    "duration": 5,
    "start_time": "2022-05-11T19:02:38.095Z"
   },
   {
    "duration": 73,
    "start_time": "2022-05-11T19:03:07.560Z"
   },
   {
    "duration": 85,
    "start_time": "2022-05-11T19:03:36.799Z"
   },
   {
    "duration": 5,
    "start_time": "2022-05-11T19:03:44.575Z"
   },
   {
    "duration": 5,
    "start_time": "2022-05-11T19:04:05.247Z"
   },
   {
    "duration": 5,
    "start_time": "2022-05-11T19:05:05.302Z"
   },
   {
    "duration": 6,
    "start_time": "2022-05-11T19:05:20.598Z"
   },
   {
    "duration": 5,
    "start_time": "2022-05-11T19:05:36.406Z"
   },
   {
    "duration": 4,
    "start_time": "2022-05-11T19:05:57.400Z"
   },
   {
    "duration": 5,
    "start_time": "2022-05-11T19:06:47.727Z"
   },
   {
    "duration": 5,
    "start_time": "2022-05-11T19:06:56.870Z"
   },
   {
    "duration": 6,
    "start_time": "2022-05-11T19:20:11.202Z"
   },
   {
    "duration": 6,
    "start_time": "2022-05-11T19:20:17.931Z"
   },
   {
    "duration": 14,
    "start_time": "2022-05-11T19:20:41.698Z"
   },
   {
    "duration": 8,
    "start_time": "2022-05-11T19:21:25.386Z"
   },
   {
    "duration": 9,
    "start_time": "2022-05-11T19:23:50.202Z"
   },
   {
    "duration": 9,
    "start_time": "2022-05-11T19:24:00.640Z"
   },
   {
    "duration": 102,
    "start_time": "2022-05-12T08:22:28.010Z"
   },
   {
    "duration": 9,
    "start_time": "2022-05-12T08:22:37.762Z"
   },
   {
    "duration": 847,
    "start_time": "2022-05-12T08:22:43.913Z"
   },
   {
    "duration": 34,
    "start_time": "2022-05-12T08:22:44.765Z"
   },
   {
    "duration": 9,
    "start_time": "2022-05-12T08:22:44.803Z"
   },
   {
    "duration": 43,
    "start_time": "2022-05-12T08:22:44.815Z"
   },
   {
    "duration": 12,
    "start_time": "2022-05-12T08:22:44.861Z"
   },
   {
    "duration": 64,
    "start_time": "2022-05-12T08:22:44.876Z"
   },
   {
    "duration": 19,
    "start_time": "2022-05-12T08:22:44.944Z"
   },
   {
    "duration": 8,
    "start_time": "2022-05-12T08:22:44.965Z"
   },
   {
    "duration": 8,
    "start_time": "2022-05-12T08:22:55.639Z"
   },
   {
    "duration": 7,
    "start_time": "2022-05-12T08:23:00.771Z"
   },
   {
    "duration": 6,
    "start_time": "2022-05-12T08:24:56.450Z"
   },
   {
    "duration": 130,
    "start_time": "2022-05-12T08:32:44.560Z"
   },
   {
    "duration": 22,
    "start_time": "2022-05-12T08:32:47.619Z"
   },
   {
    "duration": 10,
    "start_time": "2022-05-12T08:33:36.545Z"
   },
   {
    "duration": 48,
    "start_time": "2022-05-12T08:33:52.604Z"
   },
   {
    "duration": 6,
    "start_time": "2022-05-12T08:36:30.351Z"
   },
   {
    "duration": 10,
    "start_time": "2022-05-12T08:37:02.030Z"
   },
   {
    "duration": 43,
    "start_time": "2022-05-12T08:39:05.165Z"
   },
   {
    "duration": 22,
    "start_time": "2022-05-12T08:39:39.773Z"
   },
   {
    "duration": 12,
    "start_time": "2022-05-12T08:40:25.164Z"
   },
   {
    "duration": 7,
    "start_time": "2022-05-12T08:40:36.148Z"
   },
   {
    "duration": 7,
    "start_time": "2022-05-12T08:40:41.868Z"
   },
   {
    "duration": 9,
    "start_time": "2022-05-12T08:41:15.211Z"
   },
   {
    "duration": 7,
    "start_time": "2022-05-12T08:41:45.894Z"
   },
   {
    "duration": 53,
    "start_time": "2022-05-12T08:47:33.747Z"
   },
   {
    "duration": 19,
    "start_time": "2022-05-12T08:47:42.410Z"
   },
   {
    "duration": 23,
    "start_time": "2022-05-12T08:52:21.750Z"
   },
   {
    "duration": 49,
    "start_time": "2022-05-12T08:52:30.673Z"
   },
   {
    "duration": 6,
    "start_time": "2022-05-12T08:56:00.809Z"
   },
   {
    "duration": 8,
    "start_time": "2022-05-12T08:56:05.009Z"
   },
   {
    "duration": 6,
    "start_time": "2022-05-12T08:57:57.917Z"
   },
   {
    "duration": 42,
    "start_time": "2022-05-12T08:58:18.987Z"
   },
   {
    "duration": 17,
    "start_time": "2022-05-12T08:59:22.615Z"
   },
   {
    "duration": 10,
    "start_time": "2022-05-12T08:59:43.863Z"
   },
   {
    "duration": 5,
    "start_time": "2022-05-12T09:00:56.152Z"
   },
   {
    "duration": 17,
    "start_time": "2022-05-12T09:01:19.446Z"
   },
   {
    "duration": 4,
    "start_time": "2022-05-12T09:01:25.575Z"
   },
   {
    "duration": 13,
    "start_time": "2022-05-12T09:01:35.612Z"
   },
   {
    "duration": 217,
    "start_time": "2022-05-12T09:02:46.409Z"
   },
   {
    "duration": 172,
    "start_time": "2022-05-12T09:03:10.461Z"
   },
   {
    "duration": 11,
    "start_time": "2022-05-12T09:03:34.950Z"
   },
   {
    "duration": 14,
    "start_time": "2022-05-12T09:04:37.606Z"
   },
   {
    "duration": 17,
    "start_time": "2022-05-12T09:05:01.008Z"
   },
   {
    "duration": 126,
    "start_time": "2022-05-12T09:05:16.222Z"
   },
   {
    "duration": 20,
    "start_time": "2022-05-12T09:05:16.351Z"
   },
   {
    "duration": 21,
    "start_time": "2022-05-12T09:05:16.373Z"
   },
   {
    "duration": 24,
    "start_time": "2022-05-12T09:05:16.396Z"
   },
   {
    "duration": 7,
    "start_time": "2022-05-12T09:05:16.424Z"
   },
   {
    "duration": 9,
    "start_time": "2022-05-12T09:05:16.434Z"
   },
   {
    "duration": 24,
    "start_time": "2022-05-12T09:05:22.894Z"
   },
   {
    "duration": 5,
    "start_time": "2022-05-12T09:06:00.830Z"
   },
   {
    "duration": 7,
    "start_time": "2022-05-12T09:11:55.715Z"
   },
   {
    "duration": 6,
    "start_time": "2022-05-12T09:21:42.896Z"
   },
   {
    "duration": 11,
    "start_time": "2022-05-12T09:21:57.492Z"
   },
   {
    "duration": 130,
    "start_time": "2022-05-12T09:22:36.001Z"
   },
   {
    "duration": 8,
    "start_time": "2022-05-12T09:23:09.705Z"
   },
   {
    "duration": 0,
    "start_time": "2022-05-12T09:23:58.868Z"
   },
   {
    "duration": 4305,
    "start_time": "2022-05-12T09:24:02.545Z"
   },
   {
    "duration": 19,
    "start_time": "2022-05-12T09:24:30.929Z"
   },
   {
    "duration": 21,
    "start_time": "2022-05-12T09:25:04.249Z"
   },
   {
    "duration": 6,
    "start_time": "2022-05-12T09:26:49.152Z"
   },
   {
    "duration": 5,
    "start_time": "2022-05-12T09:31:06.099Z"
   },
   {
    "duration": 10,
    "start_time": "2022-05-12T09:36:55.027Z"
   },
   {
    "duration": 10,
    "start_time": "2022-05-12T09:37:02.370Z"
   },
   {
    "duration": 7,
    "start_time": "2022-05-12T09:37:11.138Z"
   },
   {
    "duration": 11,
    "start_time": "2022-05-12T09:38:06.897Z"
   },
   {
    "duration": 5,
    "start_time": "2022-05-12T09:41:58.195Z"
   },
   {
    "duration": 19,
    "start_time": "2022-05-12T09:43:43.642Z"
   },
   {
    "duration": 6,
    "start_time": "2022-05-12T09:44:24.491Z"
   },
   {
    "duration": 6,
    "start_time": "2022-05-12T09:44:26.154Z"
   },
   {
    "duration": 2563,
    "start_time": "2022-05-12T09:48:38.010Z"
   },
   {
    "duration": 11,
    "start_time": "2022-05-12T09:49:38.803Z"
   },
   {
    "duration": 7,
    "start_time": "2022-05-12T09:49:47.450Z"
   },
   {
    "duration": 5,
    "start_time": "2022-05-12T09:51:37.306Z"
   },
   {
    "duration": 10,
    "start_time": "2022-05-12T09:51:38.042Z"
   },
   {
    "duration": 386,
    "start_time": "2022-05-12T09:51:39.217Z"
   },
   {
    "duration": 7,
    "start_time": "2022-05-12T09:51:58.521Z"
   },
   {
    "duration": 138,
    "start_time": "2022-05-12T09:53:19.833Z"
   },
   {
    "duration": 6,
    "start_time": "2022-05-12T09:55:08.907Z"
   },
   {
    "duration": 7,
    "start_time": "2022-05-12T09:55:11.217Z"
   },
   {
    "duration": 301,
    "start_time": "2022-05-12T09:55:13.041Z"
   },
   {
    "duration": 15,
    "start_time": "2022-05-12T09:55:49.033Z"
   },
   {
    "duration": 22,
    "start_time": "2022-05-12T09:56:01.402Z"
   },
   {
    "duration": 137,
    "start_time": "2022-05-12T09:56:56.297Z"
   },
   {
    "duration": 5,
    "start_time": "2022-05-12T09:57:02.016Z"
   },
   {
    "duration": 6,
    "start_time": "2022-05-12T09:57:03.384Z"
   },
   {
    "duration": 435,
    "start_time": "2022-05-12T09:57:06.631Z"
   },
   {
    "duration": 7,
    "start_time": "2022-05-12T09:57:15.872Z"
   },
   {
    "duration": 4,
    "start_time": "2022-05-12T09:57:34.777Z"
   },
   {
    "duration": 10,
    "start_time": "2022-05-12T09:57:35.794Z"
   },
   {
    "duration": 776,
    "start_time": "2022-05-12T09:57:38.144Z"
   },
   {
    "duration": 11,
    "start_time": "2022-05-12T09:57:41.679Z"
   },
   {
    "duration": 8,
    "start_time": "2022-05-12T10:38:08.552Z"
   },
   {
    "duration": 6,
    "start_time": "2022-05-12T10:38:21.225Z"
   },
   {
    "duration": 5,
    "start_time": "2022-05-12T10:38:22.739Z"
   },
   {
    "duration": 570,
    "start_time": "2022-05-12T10:38:23.950Z"
   },
   {
    "duration": 8,
    "start_time": "2022-05-12T10:38:29.311Z"
   },
   {
    "duration": 8,
    "start_time": "2022-05-12T10:47:46.072Z"
   },
   {
    "duration": 8,
    "start_time": "2022-05-12T10:48:06.441Z"
   },
   {
    "duration": 9,
    "start_time": "2022-05-12T10:48:23.841Z"
   },
   {
    "duration": 12,
    "start_time": "2022-05-12T10:48:53.968Z"
   },
   {
    "duration": 14,
    "start_time": "2022-05-12T10:48:58.152Z"
   },
   {
    "duration": 8,
    "start_time": "2022-05-12T10:49:15.047Z"
   },
   {
    "duration": 20,
    "start_time": "2022-05-12T10:50:01.394Z"
   },
   {
    "duration": 10,
    "start_time": "2022-05-12T10:50:24.071Z"
   },
   {
    "duration": 11,
    "start_time": "2022-05-12T10:50:40.502Z"
   },
   {
    "duration": 16,
    "start_time": "2022-05-12T10:50:51.615Z"
   },
   {
    "duration": 13,
    "start_time": "2022-05-12T10:53:21.214Z"
   },
   {
    "duration": 9,
    "start_time": "2022-05-12T10:54:00.513Z"
   },
   {
    "duration": 5,
    "start_time": "2022-05-12T13:05:03.977Z"
   },
   {
    "duration": 15,
    "start_time": "2022-05-12T13:05:05.280Z"
   },
   {
    "duration": 784,
    "start_time": "2022-05-12T13:05:07.945Z"
   },
   {
    "duration": 5,
    "start_time": "2022-05-12T13:11:12.255Z"
   },
   {
    "duration": 19,
    "start_time": "2022-05-12T13:11:13.976Z"
   },
   {
    "duration": 4,
    "start_time": "2022-05-12T13:11:47.992Z"
   },
   {
    "duration": 7,
    "start_time": "2022-05-12T13:11:48.793Z"
   },
   {
    "duration": 25,
    "start_time": "2022-05-12T13:12:23.709Z"
   },
   {
    "duration": 379,
    "start_time": "2022-05-12T13:14:45.248Z"
   },
   {
    "duration": 24,
    "start_time": "2022-05-12T13:14:52.686Z"
   },
   {
    "duration": 130,
    "start_time": "2022-05-12T13:15:26.957Z"
   },
   {
    "duration": 9,
    "start_time": "2022-05-12T13:15:42.646Z"
   },
   {
    "duration": 38,
    "start_time": "2022-05-12T13:15:47.766Z"
   },
   {
    "duration": 9,
    "start_time": "2022-05-12T13:15:50.541Z"
   },
   {
    "duration": 20,
    "start_time": "2022-05-12T13:16:04.548Z"
   },
   {
    "duration": 6,
    "start_time": "2022-05-12T13:16:22.869Z"
   },
   {
    "duration": 3173,
    "start_time": "2022-05-12T13:16:25.421Z"
   },
   {
    "duration": 1386,
    "start_time": "2022-05-12T13:16:45.876Z"
   },
   {
    "duration": 91,
    "start_time": "2022-05-12T13:19:05.948Z"
   },
   {
    "duration": 7,
    "start_time": "2022-05-12T13:19:14.979Z"
   },
   {
    "duration": 11,
    "start_time": "2022-05-12T13:19:24.979Z"
   },
   {
    "duration": 787,
    "start_time": "2022-05-12T13:19:42.065Z"
   },
   {
    "duration": 47,
    "start_time": "2022-05-12T13:19:44.275Z"
   },
   {
    "duration": 10,
    "start_time": "2022-05-12T13:19:47.916Z"
   },
   {
    "duration": 19,
    "start_time": "2022-05-12T13:19:52.957Z"
   },
   {
    "duration": 7,
    "start_time": "2022-05-12T13:20:05.316Z"
   },
   {
    "duration": 7,
    "start_time": "2022-05-12T13:20:06.557Z"
   },
   {
    "duration": 25,
    "start_time": "2022-05-12T13:20:08.805Z"
   },
   {
    "duration": 20,
    "start_time": "2022-05-12T13:20:13.973Z"
   },
   {
    "duration": 6,
    "start_time": "2022-05-12T13:20:16.149Z"
   },
   {
    "duration": 9,
    "start_time": "2022-05-12T13:20:46.262Z"
   },
   {
    "duration": 25,
    "start_time": "2022-05-12T13:27:17.324Z"
   },
   {
    "duration": 164,
    "start_time": "2022-05-12T13:28:10.972Z"
   },
   {
    "duration": 12,
    "start_time": "2022-05-12T13:29:24.043Z"
   },
   {
    "duration": 60,
    "start_time": "2022-05-12T13:29:30.051Z"
   },
   {
    "duration": 37,
    "start_time": "2022-05-12T13:29:44.035Z"
   },
   {
    "duration": 34,
    "start_time": "2022-05-12T13:30:03.178Z"
   },
   {
    "duration": 45,
    "start_time": "2022-05-12T13:30:10.075Z"
   },
   {
    "duration": 39,
    "start_time": "2022-05-12T13:30:24.435Z"
   },
   {
    "duration": 7,
    "start_time": "2022-05-12T13:33:28.480Z"
   },
   {
    "duration": 14,
    "start_time": "2022-05-12T13:37:52.854Z"
   },
   {
    "duration": 4,
    "start_time": "2022-05-12T13:37:59.335Z"
   },
   {
    "duration": 6,
    "start_time": "2022-05-12T13:38:01.718Z"
   },
   {
    "duration": 6,
    "start_time": "2022-05-12T13:38:04.854Z"
   },
   {
    "duration": 20,
    "start_time": "2022-05-12T13:39:55.471Z"
   },
   {
    "duration": 23,
    "start_time": "2022-05-12T13:39:56.746Z"
   },
   {
    "duration": 5,
    "start_time": "2022-05-12T13:40:15.325Z"
   },
   {
    "duration": 6,
    "start_time": "2022-05-12T13:40:16.965Z"
   },
   {
    "duration": 7,
    "start_time": "2022-05-12T13:41:12.815Z"
   },
   {
    "duration": 7,
    "start_time": "2022-05-12T13:41:13.908Z"
   },
   {
    "duration": 480,
    "start_time": "2022-05-12T13:41:22.764Z"
   },
   {
    "duration": 503,
    "start_time": "2022-05-12T13:43:06.075Z"
   },
   {
    "duration": 382,
    "start_time": "2022-05-12T13:43:17.315Z"
   },
   {
    "duration": 12,
    "start_time": "2022-05-12T13:43:53.716Z"
   },
   {
    "duration": 35,
    "start_time": "2022-05-12T13:44:03.001Z"
   },
   {
    "duration": 32,
    "start_time": "2022-05-12T13:45:41.035Z"
   },
   {
    "duration": 12,
    "start_time": "2022-05-12T13:46:24.509Z"
   },
   {
    "duration": 9,
    "start_time": "2022-05-12T13:46:51.347Z"
   },
   {
    "duration": 10,
    "start_time": "2022-05-12T13:47:05.412Z"
   },
   {
    "duration": 15,
    "start_time": "2022-05-12T13:47:33.797Z"
   },
   {
    "duration": 8,
    "start_time": "2022-05-12T13:48:50.067Z"
   },
   {
    "duration": 16,
    "start_time": "2022-05-12T13:48:59.267Z"
   },
   {
    "duration": 342,
    "start_time": "2022-05-12T13:55:04.952Z"
   },
   {
    "duration": 391,
    "start_time": "2022-05-12T13:55:17.039Z"
   },
   {
    "duration": 375,
    "start_time": "2022-05-12T13:56:51.048Z"
   },
   {
    "duration": 1276,
    "start_time": "2022-05-12T13:59:25.644Z"
   },
   {
    "duration": 73,
    "start_time": "2022-05-12T13:59:26.924Z"
   },
   {
    "duration": 70,
    "start_time": "2022-05-12T13:59:27.000Z"
   },
   {
    "duration": 39,
    "start_time": "2022-05-12T13:59:27.074Z"
   },
   {
    "duration": 52,
    "start_time": "2022-05-12T13:59:27.125Z"
   },
   {
    "duration": 21,
    "start_time": "2022-05-12T13:59:27.181Z"
   },
   {
    "duration": 100,
    "start_time": "2022-05-12T13:59:27.205Z"
   },
   {
    "duration": 47,
    "start_time": "2022-05-12T13:59:27.309Z"
   },
   {
    "duration": 28,
    "start_time": "2022-05-12T13:59:27.359Z"
   },
   {
    "duration": 14,
    "start_time": "2022-05-12T13:59:29.878Z"
   },
   {
    "duration": 7,
    "start_time": "2022-05-12T13:59:31.508Z"
   },
   {
    "duration": 34,
    "start_time": "2022-05-12T14:00:21.970Z"
   },
   {
    "duration": 40,
    "start_time": "2022-05-12T14:00:28.154Z"
   },
   {
    "duration": 12,
    "start_time": "2022-05-12T14:00:47.328Z"
   },
   {
    "duration": 8,
    "start_time": "2022-05-12T14:00:59.227Z"
   },
   {
    "duration": 8,
    "start_time": "2022-05-12T14:01:00.054Z"
   },
   {
    "duration": 610,
    "start_time": "2022-05-12T14:01:04.365Z"
   },
   {
    "duration": 9,
    "start_time": "2022-05-12T14:01:09.227Z"
   },
   {
    "duration": 40,
    "start_time": "2022-05-12T14:07:37.171Z"
   },
   {
    "duration": 13,
    "start_time": "2022-05-12T14:09:13.883Z"
   },
   {
    "duration": 22,
    "start_time": "2022-05-12T14:46:37.258Z"
   },
   {
    "duration": 5,
    "start_time": "2022-05-12T14:47:24.514Z"
   },
   {
    "duration": 24,
    "start_time": "2022-05-12T14:47:34.985Z"
   },
   {
    "duration": 3004,
    "start_time": "2022-05-12T14:48:16.082Z"
   },
   {
    "duration": 0,
    "start_time": "2022-05-12T14:48:19.089Z"
   },
   {
    "duration": 6,
    "start_time": "2022-05-12T14:48:32.345Z"
   },
   {
    "duration": 23,
    "start_time": "2022-05-12T14:48:35.531Z"
   },
   {
    "duration": 10,
    "start_time": "2022-05-12T14:50:01.065Z"
   },
   {
    "duration": 7,
    "start_time": "2022-05-12T14:50:22.321Z"
   },
   {
    "duration": 7,
    "start_time": "2022-05-12T14:50:32.113Z"
   },
   {
    "duration": 16,
    "start_time": "2022-05-12T14:52:25.023Z"
   },
   {
    "duration": 11,
    "start_time": "2022-05-12T14:56:01.592Z"
   },
   {
    "duration": 9,
    "start_time": "2022-05-12T14:56:23.047Z"
   },
   {
    "duration": 8,
    "start_time": "2022-05-12T14:59:24.407Z"
   },
   {
    "duration": 9,
    "start_time": "2022-05-12T14:59:56.965Z"
   },
   {
    "duration": 9,
    "start_time": "2022-05-12T15:00:13.278Z"
   },
   {
    "duration": 12,
    "start_time": "2022-05-12T15:01:42.046Z"
   },
   {
    "duration": 8,
    "start_time": "2022-05-12T15:02:07.567Z"
   },
   {
    "duration": 5,
    "start_time": "2022-05-12T15:02:10.381Z"
   },
   {
    "duration": 8,
    "start_time": "2022-05-12T15:02:11.164Z"
   },
   {
    "duration": 7,
    "start_time": "2022-05-12T15:02:58.898Z"
   },
   {
    "duration": 45,
    "start_time": "2022-05-13T08:44:36.720Z"
   },
   {
    "duration": 460,
    "start_time": "2022-05-13T08:44:46.999Z"
   },
   {
    "duration": 19,
    "start_time": "2022-05-13T08:44:47.461Z"
   },
   {
    "duration": 11,
    "start_time": "2022-05-13T08:44:47.481Z"
   },
   {
    "duration": 17,
    "start_time": "2022-05-13T08:44:47.494Z"
   },
   {
    "duration": 4,
    "start_time": "2022-05-13T08:44:47.513Z"
   },
   {
    "duration": 6,
    "start_time": "2022-05-13T08:44:47.518Z"
   },
   {
    "duration": 17,
    "start_time": "2022-05-13T08:44:47.525Z"
   },
   {
    "duration": 10,
    "start_time": "2022-05-13T08:44:47.543Z"
   },
   {
    "duration": 36,
    "start_time": "2022-05-13T08:44:47.555Z"
   },
   {
    "duration": 9,
    "start_time": "2022-05-13T08:44:47.592Z"
   },
   {
    "duration": 5,
    "start_time": "2022-05-13T08:44:47.602Z"
   },
   {
    "duration": 13,
    "start_time": "2022-05-13T08:44:47.608Z"
   },
   {
    "duration": 17,
    "start_time": "2022-05-13T08:44:47.623Z"
   },
   {
    "duration": 4,
    "start_time": "2022-05-13T08:44:47.642Z"
   },
   {
    "duration": 5,
    "start_time": "2022-05-13T08:44:47.648Z"
   },
   {
    "duration": 4,
    "start_time": "2022-05-13T08:44:47.689Z"
   },
   {
    "duration": 175,
    "start_time": "2022-05-13T08:44:47.695Z"
   },
   {
    "duration": 5,
    "start_time": "2022-05-13T08:44:47.871Z"
   },
   {
    "duration": 17,
    "start_time": "2022-05-13T08:44:47.887Z"
   },
   {
    "duration": 6,
    "start_time": "2022-05-13T08:44:47.905Z"
   },
   {
    "duration": 13,
    "start_time": "2022-05-13T08:44:47.912Z"
   },
   {
    "duration": 18,
    "start_time": "2022-05-13T08:44:47.926Z"
   },
   {
    "duration": 12,
    "start_time": "2022-05-13T08:44:47.946Z"
   },
   {
    "duration": 15,
    "start_time": "2022-05-13T08:44:47.960Z"
   },
   {
    "duration": 8,
    "start_time": "2022-05-13T08:44:50.476Z"
   },
   {
    "duration": 62,
    "start_time": "2022-05-13T08:45:22.950Z"
   },
   {
    "duration": 3,
    "start_time": "2022-05-13T08:50:26.345Z"
   },
   {
    "duration": 9239,
    "start_time": "2022-05-13T08:51:28.964Z"
   },
   {
    "duration": 8,
    "start_time": "2022-05-13T08:52:00.132Z"
   },
   {
    "duration": 91,
    "start_time": "2022-05-13T08:53:36.820Z"
   },
   {
    "duration": 8,
    "start_time": "2022-05-13T08:53:38.499Z"
   },
   {
    "duration": 6,
    "start_time": "2022-05-13T08:56:07.075Z"
   },
   {
    "duration": 8,
    "start_time": "2022-05-13T08:57:11.891Z"
   },
   {
    "duration": 6,
    "start_time": "2022-05-13T08:57:15.075Z"
   },
   {
    "duration": 1833,
    "start_time": "2022-05-13T08:59:02.044Z"
   },
   {
    "duration": 19,
    "start_time": "2022-05-13T08:59:22.347Z"
   },
   {
    "duration": 8,
    "start_time": "2022-05-13T08:59:56.952Z"
   },
   {
    "duration": 6,
    "start_time": "2022-05-13T09:00:20.372Z"
   },
   {
    "duration": 6,
    "start_time": "2022-05-13T09:00:45.715Z"
   },
   {
    "duration": 5,
    "start_time": "2022-05-13T09:05:22.355Z"
   },
   {
    "duration": 5,
    "start_time": "2022-05-13T09:33:49.250Z"
   },
   {
    "duration": 20,
    "start_time": "2022-05-13T09:38:16.223Z"
   },
   {
    "duration": 16,
    "start_time": "2022-05-13T09:38:22.695Z"
   },
   {
    "duration": 29,
    "start_time": "2022-05-13T09:39:57.975Z"
   },
   {
    "duration": 70,
    "start_time": "2022-05-13T09:40:49.294Z"
   },
   {
    "duration": 17,
    "start_time": "2022-05-13T09:41:05.085Z"
   },
   {
    "duration": 58,
    "start_time": "2022-05-13T09:46:28.223Z"
   },
   {
    "duration": 492,
    "start_time": "2022-05-13T09:46:32.676Z"
   },
   {
    "duration": 20,
    "start_time": "2022-05-13T09:46:34.412Z"
   },
   {
    "duration": 17,
    "start_time": "2022-05-13T09:46:37.724Z"
   },
   {
    "duration": 61,
    "start_time": "2022-05-13T09:47:46.942Z"
   },
   {
    "duration": 12,
    "start_time": "2022-05-13T09:47:47.005Z"
   },
   {
    "duration": 20,
    "start_time": "2022-05-13T09:47:47.018Z"
   },
   {
    "duration": 7,
    "start_time": "2022-05-13T09:47:47.039Z"
   },
   {
    "duration": 15,
    "start_time": "2022-05-13T09:47:47.048Z"
   },
   {
    "duration": 5,
    "start_time": "2022-05-13T09:47:47.088Z"
   },
   {
    "duration": 7,
    "start_time": "2022-05-13T09:47:47.095Z"
   },
   {
    "duration": 20,
    "start_time": "2022-05-13T09:47:47.103Z"
   },
   {
    "duration": 10,
    "start_time": "2022-05-13T09:47:47.124Z"
   },
   {
    "duration": 4,
    "start_time": "2022-05-13T09:47:47.135Z"
   },
   {
    "duration": 8,
    "start_time": "2022-05-13T09:47:47.141Z"
   },
   {
    "duration": 39,
    "start_time": "2022-05-13T09:47:47.151Z"
   },
   {
    "duration": 12,
    "start_time": "2022-05-13T09:47:47.192Z"
   },
   {
    "duration": 17,
    "start_time": "2022-05-13T09:47:47.207Z"
   },
   {
    "duration": 5,
    "start_time": "2022-05-13T09:47:47.226Z"
   },
   {
    "duration": 6,
    "start_time": "2022-05-13T09:47:47.232Z"
   },
   {
    "duration": 9,
    "start_time": "2022-05-13T09:47:47.239Z"
   },
   {
    "duration": 182,
    "start_time": "2022-05-13T09:47:47.250Z"
   },
   {
    "duration": 6,
    "start_time": "2022-05-13T09:47:47.433Z"
   },
   {
    "duration": 17,
    "start_time": "2022-05-13T09:47:47.440Z"
   },
   {
    "duration": 5,
    "start_time": "2022-05-13T09:47:47.458Z"
   },
   {
    "duration": 28,
    "start_time": "2022-05-13T09:47:47.465Z"
   },
   {
    "duration": 5,
    "start_time": "2022-05-13T09:47:47.495Z"
   },
   {
    "duration": 6,
    "start_time": "2022-05-13T09:47:47.501Z"
   },
   {
    "duration": 6,
    "start_time": "2022-05-13T09:47:47.508Z"
   },
   {
    "duration": 8,
    "start_time": "2022-05-13T09:47:47.516Z"
   },
   {
    "duration": 112,
    "start_time": "2022-05-13T09:47:47.526Z"
   },
   {
    "duration": 8,
    "start_time": "2022-05-13T09:47:47.640Z"
   },
   {
    "duration": 11,
    "start_time": "2022-05-13T09:47:47.649Z"
   },
   {
    "duration": 10,
    "start_time": "2022-05-13T09:47:47.661Z"
   },
   {
    "duration": 19,
    "start_time": "2022-05-13T09:47:50.132Z"
   },
   {
    "duration": 15,
    "start_time": "2022-05-13T09:49:02.860Z"
   },
   {
    "duration": 16,
    "start_time": "2022-05-13T09:49:07.923Z"
   },
   {
    "duration": 18,
    "start_time": "2022-05-13T09:56:15.209Z"
   },
   {
    "duration": 33,
    "start_time": "2022-05-13T09:56:50.505Z"
   },
   {
    "duration": 27,
    "start_time": "2022-05-13T10:15:33.947Z"
   },
   {
    "duration": 6,
    "start_time": "2022-05-13T10:16:28.211Z"
   },
   {
    "duration": 4,
    "start_time": "2022-05-13T10:16:56.939Z"
   },
   {
    "duration": 18,
    "start_time": "2022-05-13T10:17:48.507Z"
   },
   {
    "duration": 18,
    "start_time": "2022-05-13T10:17:54.519Z"
   },
   {
    "duration": 18,
    "start_time": "2022-05-13T10:17:58.170Z"
   },
   {
    "duration": 18,
    "start_time": "2022-05-13T10:18:00.867Z"
   },
   {
    "duration": 11,
    "start_time": "2022-05-13T10:18:06.373Z"
   },
   {
    "duration": 18,
    "start_time": "2022-05-13T10:18:19.051Z"
   },
   {
    "duration": 8,
    "start_time": "2022-05-13T10:25:39.201Z"
   },
   {
    "duration": 8,
    "start_time": "2022-05-13T10:25:46.592Z"
   },
   {
    "duration": 17,
    "start_time": "2022-05-13T10:25:53.848Z"
   },
   {
    "duration": 11,
    "start_time": "2022-05-13T10:27:42.024Z"
   },
   {
    "duration": 3,
    "start_time": "2022-05-13T10:28:10.071Z"
   },
   {
    "duration": 5,
    "start_time": "2022-05-13T10:28:20.023Z"
   },
   {
    "duration": 23,
    "start_time": "2022-05-13T10:28:50.935Z"
   },
   {
    "duration": 9,
    "start_time": "2022-05-13T10:30:02.277Z"
   },
   {
    "duration": 14,
    "start_time": "2022-05-13T10:30:34.823Z"
   },
   {
    "duration": 1556,
    "start_time": "2022-05-13T10:30:49.567Z"
   },
   {
    "duration": 40,
    "start_time": "2022-05-13T10:32:41.902Z"
   },
   {
    "duration": 25,
    "start_time": "2022-05-13T10:33:05.614Z"
   },
   {
    "duration": 24,
    "start_time": "2022-05-13T10:33:20.462Z"
   },
   {
    "duration": 15,
    "start_time": "2022-05-13T10:33:51.646Z"
   },
   {
    "duration": 14,
    "start_time": "2022-05-13T10:33:59.336Z"
   },
   {
    "duration": 17,
    "start_time": "2022-05-13T10:34:22.198Z"
   },
   {
    "duration": 15,
    "start_time": "2022-05-13T10:34:38.981Z"
   },
   {
    "duration": 1426,
    "start_time": "2022-05-13T10:36:19.333Z"
   },
   {
    "duration": 5,
    "start_time": "2022-05-13T10:36:30.149Z"
   },
   {
    "duration": 14,
    "start_time": "2022-05-13T10:48:38.409Z"
   },
   {
    "duration": 16,
    "start_time": "2022-05-13T10:49:44.533Z"
   },
   {
    "duration": 14,
    "start_time": "2022-05-13T10:50:07.160Z"
   },
   {
    "duration": 16,
    "start_time": "2022-05-13T10:51:20.594Z"
   },
   {
    "duration": 16,
    "start_time": "2022-05-13T10:51:41.711Z"
   },
   {
    "duration": 16,
    "start_time": "2022-05-13T10:53:23.135Z"
   },
   {
    "duration": 11,
    "start_time": "2022-05-13T10:53:31.423Z"
   },
   {
    "duration": 14,
    "start_time": "2022-05-13T10:53:41.999Z"
   },
   {
    "duration": 14,
    "start_time": "2022-05-13T10:54:11.687Z"
   },
   {
    "duration": 14,
    "start_time": "2022-05-13T10:55:03.254Z"
   },
   {
    "duration": 16,
    "start_time": "2022-05-13T10:55:22.366Z"
   },
   {
    "duration": 16,
    "start_time": "2022-05-13T13:10:09.777Z"
   },
   {
    "duration": 3,
    "start_time": "2022-05-13T13:22:39.453Z"
   },
   {
    "duration": 5,
    "start_time": "2022-05-13T13:22:54.508Z"
   },
   {
    "duration": 4,
    "start_time": "2022-05-13T13:23:08.541Z"
   },
   {
    "duration": 4,
    "start_time": "2022-05-13T13:23:39.564Z"
   },
   {
    "duration": 23,
    "start_time": "2022-05-13T13:24:51.348Z"
   },
   {
    "duration": 5,
    "start_time": "2022-05-13T13:26:15.187Z"
   },
   {
    "duration": 3,
    "start_time": "2022-05-13T13:27:18.043Z"
   },
   {
    "duration": 4,
    "start_time": "2022-05-13T13:27:18.586Z"
   },
   {
    "duration": 17,
    "start_time": "2022-05-13T13:27:30.976Z"
   },
   {
    "duration": 6,
    "start_time": "2022-05-13T13:29:34.235Z"
   },
   {
    "duration": 7,
    "start_time": "2022-05-13T13:30:28.722Z"
   },
   {
    "duration": 7,
    "start_time": "2022-05-13T13:31:27.186Z"
   },
   {
    "duration": 93,
    "start_time": "2022-05-13T13:32:44.529Z"
   }
  ],
  "kernelspec": {
   "display_name": "Python 3 (ipykernel)",
   "language": "python",
   "name": "python3"
  },
  "language_info": {
   "codemirror_mode": {
    "name": "ipython",
    "version": 3
   },
   "file_extension": ".py",
   "mimetype": "text/x-python",
   "name": "python",
   "nbconvert_exporter": "python",
   "pygments_lexer": "ipython3",
   "version": "3.9.5"
  },
  "toc": {
   "base_numbering": 1,
   "nav_menu": {},
   "number_sections": true,
   "sideBar": true,
   "skip_h1_title": true,
   "title_cell": "Table of Contents",
   "title_sidebar": "Contents",
   "toc_cell": false,
   "toc_position": {},
   "toc_section_display": true,
   "toc_window_display": false
  }
 },
 "nbformat": 4,
 "nbformat_minor": 5
}
