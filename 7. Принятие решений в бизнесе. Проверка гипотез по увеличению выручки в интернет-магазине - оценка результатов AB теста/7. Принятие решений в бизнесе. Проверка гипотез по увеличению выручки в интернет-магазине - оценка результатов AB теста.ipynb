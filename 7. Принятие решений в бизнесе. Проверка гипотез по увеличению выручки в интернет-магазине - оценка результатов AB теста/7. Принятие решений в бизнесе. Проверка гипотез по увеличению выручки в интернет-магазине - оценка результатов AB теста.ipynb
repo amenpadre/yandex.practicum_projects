{
 "cells": [
  {
   "cell_type": "markdown",
   "metadata": {},
   "source": [
    "# Гипотезы и A/B тесты"
   ]
  },
  {
   "cell_type": "markdown",
   "metadata": {},
   "source": [
    "## Введение"
   ]
  },
  {
   "cell_type": "markdown",
   "metadata": {},
   "source": [
    "В интернет-магазине отдел аналитики вместе с отделом маркетинга подготовили список гипотез для увеличения выручки.\n",
    "Необходимо приоритизировать гипотезы, запустить A/B-тест и проанализировать результаты."
   ]
  },
  {
   "cell_type": "markdown",
   "metadata": {},
   "source": [
    "**Описание данных**\n",
    "\n",
    "Данные для первой части:\n",
    "\n",
    "Файл `/datasets/hypothesis.csv`\n",
    "* `Hypothesis` — краткое описание гипотезы;\n",
    "* `Reach` — охват пользователей по 10-балльной шкале;\n",
    "* `Impact` — влияние на пользователей по 10-балльной шкале;\n",
    "* `Confidence` — уверенность в гипотезе по 10-балльной шкале;\n",
    "* `Efforts` — затраты ресурсов на проверку гипотезы по 10-балльной шкале. Чем больше значение `Efforts`, тем дороже проверка гипотезы.\n",
    "\n",
    "Данные для второй части:\n",
    "\n",
    "Файл `/datasets/orders.csv`\n",
    "* `transactionId` — идентификатор заказа;\n",
    "* `visitorId` — идентификатор пользователя, совершившего заказ;\n",
    "* `date` — дата, когда был совершён заказ;\n",
    "* `revenue` — выручка заказа;\n",
    "* `group` — группа A/B-теста, в которую попал заказ.\n",
    "\n",
    "Файл `/datasets/visitors.csv`\n",
    "* `date` — дата;\n",
    "* `group` — группа A/B-теста;\n",
    "* `visitors` — количество пользователей в указанную дату в указанной группе A/B-теста"
   ]
  },
  {
   "cell_type": "code",
   "execution_count": 1,
   "metadata": {},
   "outputs": [],
   "source": [
    "import pandas as pd\n",
    "import numpy as np\n",
    "import matplotlib.pyplot as plt\n",
    "import scipy.stats as st"
   ]
  },
  {
   "cell_type": "markdown",
   "metadata": {},
   "source": [
    "## Часть 1. Приоретизация гипотез"
   ]
  },
  {
   "cell_type": "markdown",
   "metadata": {},
   "source": [
    "###### Задачи"
   ]
  },
  {
   "cell_type": "markdown",
   "metadata": {},
   "source": [
    "* Применить фреймворк ICE для приоритизации гипотез. Отсортировать их по убыванию приоритета.\n",
    "* Применить фреймворк RICE для приоритизации гипотез. Отсортировать их по убыванию приоритета.\n",
    "* Указать, как изменилась приоритизация гипотез при применении RICE вместо ICE. Объяснить, почему так произошло."
   ]
  },
  {
   "cell_type": "code",
   "execution_count": 2,
   "metadata": {
    "scrolled": true
   },
   "outputs": [
    {
     "data": {
      "text/html": [
       "<div>\n",
       "<style scoped>\n",
       "    .dataframe tbody tr th:only-of-type {\n",
       "        vertical-align: middle;\n",
       "    }\n",
       "\n",
       "    .dataframe tbody tr th {\n",
       "        vertical-align: top;\n",
       "    }\n",
       "\n",
       "    .dataframe thead th {\n",
       "        text-align: right;\n",
       "    }\n",
       "</style>\n",
       "<table border=\"1\" class=\"dataframe\">\n",
       "  <thead>\n",
       "    <tr style=\"text-align: right;\">\n",
       "      <th></th>\n",
       "      <th>Hypothesis</th>\n",
       "      <th>Reach</th>\n",
       "      <th>Impact</th>\n",
       "      <th>Confidence</th>\n",
       "      <th>Efforts</th>\n",
       "    </tr>\n",
       "  </thead>\n",
       "  <tbody>\n",
       "    <tr>\n",
       "      <th>0</th>\n",
       "      <td>Добавить два новых канала привлечения трафика,...</td>\n",
       "      <td>3</td>\n",
       "      <td>10</td>\n",
       "      <td>8</td>\n",
       "      <td>6</td>\n",
       "    </tr>\n",
       "    <tr>\n",
       "      <th>1</th>\n",
       "      <td>Запустить собственную службу доставки, что сок...</td>\n",
       "      <td>2</td>\n",
       "      <td>5</td>\n",
       "      <td>4</td>\n",
       "      <td>10</td>\n",
       "    </tr>\n",
       "    <tr>\n",
       "      <th>2</th>\n",
       "      <td>Добавить блоки рекомендаций товаров на сайт ин...</td>\n",
       "      <td>8</td>\n",
       "      <td>3</td>\n",
       "      <td>7</td>\n",
       "      <td>3</td>\n",
       "    </tr>\n",
       "    <tr>\n",
       "      <th>3</th>\n",
       "      <td>Изменить структура категорий, что увеличит кон...</td>\n",
       "      <td>8</td>\n",
       "      <td>3</td>\n",
       "      <td>3</td>\n",
       "      <td>8</td>\n",
       "    </tr>\n",
       "    <tr>\n",
       "      <th>4</th>\n",
       "      <td>Изменить цвет фона главной страницы, чтобы уве...</td>\n",
       "      <td>3</td>\n",
       "      <td>1</td>\n",
       "      <td>1</td>\n",
       "      <td>1</td>\n",
       "    </tr>\n",
       "    <tr>\n",
       "      <th>5</th>\n",
       "      <td>Добавить страницу отзывов клиентов о магазине,...</td>\n",
       "      <td>3</td>\n",
       "      <td>2</td>\n",
       "      <td>2</td>\n",
       "      <td>3</td>\n",
       "    </tr>\n",
       "    <tr>\n",
       "      <th>6</th>\n",
       "      <td>Показать на главной странице баннеры с актуаль...</td>\n",
       "      <td>5</td>\n",
       "      <td>3</td>\n",
       "      <td>8</td>\n",
       "      <td>3</td>\n",
       "    </tr>\n",
       "    <tr>\n",
       "      <th>7</th>\n",
       "      <td>Добавить форму подписки на все основные страни...</td>\n",
       "      <td>10</td>\n",
       "      <td>7</td>\n",
       "      <td>8</td>\n",
       "      <td>5</td>\n",
       "    </tr>\n",
       "    <tr>\n",
       "      <th>8</th>\n",
       "      <td>Запустить акцию, дающую скидку на товар в день...</td>\n",
       "      <td>1</td>\n",
       "      <td>9</td>\n",
       "      <td>9</td>\n",
       "      <td>5</td>\n",
       "    </tr>\n",
       "  </tbody>\n",
       "</table>\n",
       "</div>"
      ],
      "text/plain": [
       "                                          Hypothesis  Reach  Impact  \\\n",
       "0  Добавить два новых канала привлечения трафика,...      3      10   \n",
       "1  Запустить собственную службу доставки, что сок...      2       5   \n",
       "2  Добавить блоки рекомендаций товаров на сайт ин...      8       3   \n",
       "3  Изменить структура категорий, что увеличит кон...      8       3   \n",
       "4  Изменить цвет фона главной страницы, чтобы уве...      3       1   \n",
       "5  Добавить страницу отзывов клиентов о магазине,...      3       2   \n",
       "6  Показать на главной странице баннеры с актуаль...      5       3   \n",
       "7  Добавить форму подписки на все основные страни...     10       7   \n",
       "8  Запустить акцию, дающую скидку на товар в день...      1       9   \n",
       "\n",
       "   Confidence  Efforts  \n",
       "0           8        6  \n",
       "1           4       10  \n",
       "2           7        3  \n",
       "3           3        8  \n",
       "4           1        1  \n",
       "5           2        3  \n",
       "6           8        3  \n",
       "7           8        5  \n",
       "8           9        5  "
      ]
     },
     "execution_count": 2,
     "metadata": {},
     "output_type": "execute_result"
    }
   ],
   "source": [
    "hypothesis = pd.read_csv('/datasets/hypothesis.csv')\n",
    "hypothesis"
   ]
  },
  {
   "cell_type": "markdown",
   "metadata": {},
   "source": [
    "### Приоретизация гипотез с помощью фреймворка ICE"
   ]
  },
  {
   "cell_type": "markdown",
   "metadata": {},
   "source": [
    "Для приоретизации гипотез с помощью фреймворка ICE используется следующая формула:\n",
    "\n",
    "**ICE SCORE = (Impact * Confidence) / Efforts**"
   ]
  },
  {
   "cell_type": "code",
   "execution_count": 3,
   "metadata": {},
   "outputs": [
    {
     "data": {
      "text/html": [
       "<div>\n",
       "<style scoped>\n",
       "    .dataframe tbody tr th:only-of-type {\n",
       "        vertical-align: middle;\n",
       "    }\n",
       "\n",
       "    .dataframe tbody tr th {\n",
       "        vertical-align: top;\n",
       "    }\n",
       "\n",
       "    .dataframe thead th {\n",
       "        text-align: right;\n",
       "    }\n",
       "</style>\n",
       "<table border=\"1\" class=\"dataframe\">\n",
       "  <thead>\n",
       "    <tr style=\"text-align: right;\">\n",
       "      <th></th>\n",
       "      <th>Hypothesis</th>\n",
       "      <th>ICE</th>\n",
       "    </tr>\n",
       "  </thead>\n",
       "  <tbody>\n",
       "    <tr>\n",
       "      <th>8</th>\n",
       "      <td>Запустить акцию, дающую скидку на товар в день...</td>\n",
       "      <td>16.200000</td>\n",
       "    </tr>\n",
       "    <tr>\n",
       "      <th>0</th>\n",
       "      <td>Добавить два новых канала привлечения трафика,...</td>\n",
       "      <td>13.333333</td>\n",
       "    </tr>\n",
       "    <tr>\n",
       "      <th>7</th>\n",
       "      <td>Добавить форму подписки на все основные страни...</td>\n",
       "      <td>11.200000</td>\n",
       "    </tr>\n",
       "    <tr>\n",
       "      <th>6</th>\n",
       "      <td>Показать на главной странице баннеры с актуаль...</td>\n",
       "      <td>8.000000</td>\n",
       "    </tr>\n",
       "    <tr>\n",
       "      <th>2</th>\n",
       "      <td>Добавить блоки рекомендаций товаров на сайт ин...</td>\n",
       "      <td>7.000000</td>\n",
       "    </tr>\n",
       "    <tr>\n",
       "      <th>1</th>\n",
       "      <td>Запустить собственную службу доставки, что сок...</td>\n",
       "      <td>2.000000</td>\n",
       "    </tr>\n",
       "    <tr>\n",
       "      <th>5</th>\n",
       "      <td>Добавить страницу отзывов клиентов о магазине,...</td>\n",
       "      <td>1.333333</td>\n",
       "    </tr>\n",
       "    <tr>\n",
       "      <th>3</th>\n",
       "      <td>Изменить структура категорий, что увеличит кон...</td>\n",
       "      <td>1.125000</td>\n",
       "    </tr>\n",
       "    <tr>\n",
       "      <th>4</th>\n",
       "      <td>Изменить цвет фона главной страницы, чтобы уве...</td>\n",
       "      <td>1.000000</td>\n",
       "    </tr>\n",
       "  </tbody>\n",
       "</table>\n",
       "</div>"
      ],
      "text/plain": [
       "                                          Hypothesis        ICE\n",
       "8  Запустить акцию, дающую скидку на товар в день...  16.200000\n",
       "0  Добавить два новых канала привлечения трафика,...  13.333333\n",
       "7  Добавить форму подписки на все основные страни...  11.200000\n",
       "6  Показать на главной странице баннеры с актуаль...   8.000000\n",
       "2  Добавить блоки рекомендаций товаров на сайт ин...   7.000000\n",
       "1  Запустить собственную службу доставки, что сок...   2.000000\n",
       "5  Добавить страницу отзывов клиентов о магазине,...   1.333333\n",
       "3  Изменить структура категорий, что увеличит кон...   1.125000\n",
       "4  Изменить цвет фона главной страницы, чтобы уве...   1.000000"
      ]
     },
     "execution_count": 3,
     "metadata": {},
     "output_type": "execute_result"
    }
   ],
   "source": [
    "hypothesis['ICE'] = hypothesis['Impact'] * hypothesis['Confidence'] / hypothesis['Efforts']\n",
    "hypothesis[['Hypothesis', 'ICE']].sort_values(by='ICE', ascending=False)"
   ]
  },
  {
   "cell_type": "markdown",
   "metadata": {},
   "source": [
    "### Приоретизация гипотез с помощью фреймворка RICE"
   ]
  },
  {
   "cell_type": "markdown",
   "metadata": {},
   "source": [
    "Для приоретизации гипотез с помощью фреймворка RICE используется следующая формула:\n",
    "\n",
    "**ICE SCORE = (Reach * Impact * Confidence) / Efforts**"
   ]
  },
  {
   "cell_type": "code",
   "execution_count": 4,
   "metadata": {},
   "outputs": [
    {
     "data": {
      "text/html": [
       "<div>\n",
       "<style scoped>\n",
       "    .dataframe tbody tr th:only-of-type {\n",
       "        vertical-align: middle;\n",
       "    }\n",
       "\n",
       "    .dataframe tbody tr th {\n",
       "        vertical-align: top;\n",
       "    }\n",
       "\n",
       "    .dataframe thead th {\n",
       "        text-align: right;\n",
       "    }\n",
       "</style>\n",
       "<table border=\"1\" class=\"dataframe\">\n",
       "  <thead>\n",
       "    <tr style=\"text-align: right;\">\n",
       "      <th></th>\n",
       "      <th>Hypothesis</th>\n",
       "      <th>RICE</th>\n",
       "    </tr>\n",
       "  </thead>\n",
       "  <tbody>\n",
       "    <tr>\n",
       "      <th>7</th>\n",
       "      <td>Добавить форму подписки на все основные страни...</td>\n",
       "      <td>112.0</td>\n",
       "    </tr>\n",
       "    <tr>\n",
       "      <th>2</th>\n",
       "      <td>Добавить блоки рекомендаций товаров на сайт ин...</td>\n",
       "      <td>56.0</td>\n",
       "    </tr>\n",
       "    <tr>\n",
       "      <th>0</th>\n",
       "      <td>Добавить два новых канала привлечения трафика,...</td>\n",
       "      <td>40.0</td>\n",
       "    </tr>\n",
       "    <tr>\n",
       "      <th>6</th>\n",
       "      <td>Показать на главной странице баннеры с актуаль...</td>\n",
       "      <td>40.0</td>\n",
       "    </tr>\n",
       "    <tr>\n",
       "      <th>8</th>\n",
       "      <td>Запустить акцию, дающую скидку на товар в день...</td>\n",
       "      <td>16.2</td>\n",
       "    </tr>\n",
       "    <tr>\n",
       "      <th>3</th>\n",
       "      <td>Изменить структура категорий, что увеличит кон...</td>\n",
       "      <td>9.0</td>\n",
       "    </tr>\n",
       "    <tr>\n",
       "      <th>1</th>\n",
       "      <td>Запустить собственную службу доставки, что сок...</td>\n",
       "      <td>4.0</td>\n",
       "    </tr>\n",
       "    <tr>\n",
       "      <th>5</th>\n",
       "      <td>Добавить страницу отзывов клиентов о магазине,...</td>\n",
       "      <td>4.0</td>\n",
       "    </tr>\n",
       "    <tr>\n",
       "      <th>4</th>\n",
       "      <td>Изменить цвет фона главной страницы, чтобы уве...</td>\n",
       "      <td>3.0</td>\n",
       "    </tr>\n",
       "  </tbody>\n",
       "</table>\n",
       "</div>"
      ],
      "text/plain": [
       "                                          Hypothesis   RICE\n",
       "7  Добавить форму подписки на все основные страни...  112.0\n",
       "2  Добавить блоки рекомендаций товаров на сайт ин...   56.0\n",
       "0  Добавить два новых канала привлечения трафика,...   40.0\n",
       "6  Показать на главной странице баннеры с актуаль...   40.0\n",
       "8  Запустить акцию, дающую скидку на товар в день...   16.2\n",
       "3  Изменить структура категорий, что увеличит кон...    9.0\n",
       "1  Запустить собственную службу доставки, что сок...    4.0\n",
       "5  Добавить страницу отзывов клиентов о магазине,...    4.0\n",
       "4  Изменить цвет фона главной страницы, чтобы уве...    3.0"
      ]
     },
     "execution_count": 4,
     "metadata": {},
     "output_type": "execute_result"
    }
   ],
   "source": [
    "hypothesis['RICE'] = hypothesis['Reach'] * hypothesis['Impact'] * hypothesis['Confidence'] / hypothesis['Efforts']\n",
    "hypothesis[['Hypothesis', 'RICE']].sort_values(by='RICE', ascending=False)"
   ]
  },
  {
   "cell_type": "markdown",
   "metadata": {},
   "source": [
    "### Вывод"
   ]
  },
  {
   "cell_type": "markdown",
   "metadata": {},
   "source": [
    "При приоретизации с помощью фреймворка ICE самыми приоритетными гипотезами оказались гипотезы с индексам 8, 0 и 7.\n",
    "При приоретизации с помощью фреймворка RICE самыми приоритетными гипотезами оказались гипотезы с индексам 7, 2, 0 и 6.\n",
    "\n",
    "Разница в приоритеных гипотезах обуславливается тем, что при испольовании фреймворка RICE учитывается параметр `Reach`, который указывает охват пользователей, на которых повлияет тестирование гипотезы.\n",
    "\n",
    "На основе проведённых приоретизациях, можно утверждать, что в первую очередь необходимо проверить гипотезы с индексам 0 и 7."
   ]
  },
  {
   "cell_type": "markdown",
   "metadata": {},
   "source": [
    "## Часть 2. Анализ A/B теста"
   ]
  },
  {
   "cell_type": "markdown",
   "metadata": {},
   "source": [
    "###### Задачи"
   ]
  },
  {
   "cell_type": "markdown",
   "metadata": {},
   "source": [
    "Проанализировать A/B-тест:\n",
    "* Построить график кумулятивной выручки по группам. Сделать выводы и предположения.\n",
    "* Построить график кумулятивного среднего чека по группам. Сделать выводы и предположения.\n",
    "* Построить график относительного изменения кумулятивного среднего чека группы B к группе A. Сделать выводы и предположения.\n",
    "* Построить график кумулятивной конверсии по группам. Сделать выводы и предположения.\n",
    "* Построить график относительного изменения кумулятивной конверсии группы B к группе A. Сделать выводы и предположения.\n",
    "* Построить точечный график количества заказов по пользователям. Сделать выводы и предположения.\n",
    "* Посчитать 95-й и 99-й перцентили количества заказов на пользователя. Выбрать границу для определения аномальных пользователей.\n",
    "* Построить точечный график стоимостей заказов. Сделать выводы и предположения.\n",
    "* Посчитать 95-й и 99-й перцентили стоимости заказов. Выбрать границу для определения аномальных заказов.\n",
    "* Посчитать статистическую значимость различий в среднем количестве заказов между группами по «сырым» данным. Сделать выводы и предположения.\n",
    "* Посчитать статистическую значимость различий в среднем чеке заказа между группами по «сырым» данным. Сделать выводы и предположения.\n",
    "* Посчитать статистическую значимость различий в среднем количестве заказов между группами по «очищенным» данным. Сделать выводы и предположения.\n",
    "* Посчитать статистическую значимость различий в среднем чеке заказа между группами по «очищенным» данным. Сделать выводы и предположения.\n",
    "* Принять решение по результатам теста и объяснить его. Варианты решений: \n",
    "1. Остановить тест, зафиксировать победу одной из групп. \n",
    "2. Остановить тест, зафиксировать отсутствие различий между группами. \n",
    "3. Продолжить тест."
   ]
  },
  {
   "cell_type": "code",
   "execution_count": 5,
   "metadata": {
    "scrolled": true
   },
   "outputs": [
    {
     "name": "stdout",
     "output_type": "stream",
     "text": [
      "   transactionId   visitorId        date  revenue group\n",
      "0     3667963787  3312258926  2019-08-15     1650     B\n",
      "1     2804400009  3642806036  2019-08-15      730     B\n",
      "2     2961555356  4069496402  2019-08-15      400     A\n",
      "3     3797467345  1196621759  2019-08-15     9759     B\n",
      "4     2282983706  2322279887  2019-08-15     2308     B\n",
      "         date group  visitors\n",
      "0  2019-08-01     A       719\n",
      "1  2019-08-02     A       619\n",
      "2  2019-08-03     A       507\n",
      "3  2019-08-04     A       717\n",
      "4  2019-08-05     A       756\n"
     ]
    }
   ],
   "source": [
    "orders = pd.read_csv('/datasets/orders.csv')\n",
    "visitors = pd.read_csv('/datasets/visitors.csv')\n",
    "\n",
    "print(orders.head(5))\n",
    "print(visitors.head(5))"
   ]
  },
  {
   "cell_type": "code",
   "execution_count": 6,
   "metadata": {
    "scrolled": false
   },
   "outputs": [
    {
     "name": "stdout",
     "output_type": "stream",
     "text": [
      "<class 'pandas.core.frame.DataFrame'>\n",
      "RangeIndex: 1197 entries, 0 to 1196\n",
      "Data columns (total 5 columns):\n",
      " #   Column         Non-Null Count  Dtype \n",
      "---  ------         --------------  ----- \n",
      " 0   transactionId  1197 non-null   int64 \n",
      " 1   visitorId      1197 non-null   int64 \n",
      " 2   date           1197 non-null   object\n",
      " 3   revenue        1197 non-null   int64 \n",
      " 4   group          1197 non-null   object\n",
      "dtypes: int64(3), object(2)\n",
      "memory usage: 46.9+ KB\n",
      "<class 'pandas.core.frame.DataFrame'>\n",
      "RangeIndex: 62 entries, 0 to 61\n",
      "Data columns (total 3 columns):\n",
      " #   Column    Non-Null Count  Dtype \n",
      "---  ------    --------------  ----- \n",
      " 0   date      62 non-null     object\n",
      " 1   group     62 non-null     object\n",
      " 2   visitors  62 non-null     int64 \n",
      "dtypes: int64(1), object(2)\n",
      "memory usage: 1.6+ KB\n"
     ]
    }
   ],
   "source": [
    "orders.info()\n",
    "visitors.info()"
   ]
  },
  {
   "cell_type": "code",
   "execution_count": 7,
   "metadata": {},
   "outputs": [
    {
     "name": "stdout",
     "output_type": "stream",
     "text": [
      "Чилсо дубликатов в таблице orders: 0\n",
      "Число дубликатов в таблице visitors: 0\n"
     ]
    }
   ],
   "source": [
    "print('Чилсо дубликатов в таблице orders:', orders.duplicated().sum())\n",
    "print('Число дубликатов в таблице visitors:', visitors.duplicated().sum())"
   ]
  },
  {
   "cell_type": "markdown",
   "metadata": {},
   "source": [
    "Тип данных дат в обоих таблицах `object`. Необходимо привести его к типу `datetime`. Также я переименую некоторые столбцы в таблице `orders`. Дубликатов в таблицах не оказалось."
   ]
  },
  {
   "cell_type": "code",
   "execution_count": 8,
   "metadata": {},
   "outputs": [],
   "source": [
    "orders['date'] = pd.to_datetime(orders['date'], format='%Y-%m-%d')\n",
    "visitors['date'] = pd.to_datetime(visitors['date'], format='%Y-%m-%d')\n",
    "\n",
    "orders = orders.rename(columns={'transactionId':'transaction_id',\n",
    "                               'visitorId':'visitor_id'})"
   ]
  },
  {
   "cell_type": "code",
   "execution_count": 9,
   "metadata": {},
   "outputs": [
    {
     "name": "stdout",
     "output_type": "stream",
     "text": [
      "<class 'pandas.core.frame.DataFrame'>\n",
      "RangeIndex: 1197 entries, 0 to 1196\n",
      "Data columns (total 5 columns):\n",
      " #   Column          Non-Null Count  Dtype         \n",
      "---  ------          --------------  -----         \n",
      " 0   transaction_id  1197 non-null   int64         \n",
      " 1   visitor_id      1197 non-null   int64         \n",
      " 2   date            1197 non-null   datetime64[ns]\n",
      " 3   revenue         1197 non-null   int64         \n",
      " 4   group           1197 non-null   object        \n",
      "dtypes: datetime64[ns](1), int64(3), object(1)\n",
      "memory usage: 46.9+ KB\n",
      "<class 'pandas.core.frame.DataFrame'>\n",
      "RangeIndex: 62 entries, 0 to 61\n",
      "Data columns (total 3 columns):\n",
      " #   Column    Non-Null Count  Dtype         \n",
      "---  ------    --------------  -----         \n",
      " 0   date      62 non-null     datetime64[ns]\n",
      " 1   group     62 non-null     object        \n",
      " 2   visitors  62 non-null     int64         \n",
      "dtypes: datetime64[ns](1), int64(1), object(1)\n",
      "memory usage: 1.6+ KB\n"
     ]
    }
   ],
   "source": [
    "orders.info()\n",
    "visitors.info()"
   ]
  },
  {
   "cell_type": "markdown",
   "metadata": {},
   "source": [
    "Даты приведены к нужному типу данных, столбца приведены к `snake_case`."
   ]
  },
  {
   "cell_type": "code",
   "execution_count": 10,
   "metadata": {},
   "outputs": [
    {
     "data": {
      "text/plain": [
       "58"
      ]
     },
     "execution_count": 10,
     "metadata": {},
     "output_type": "execute_result"
    }
   ],
   "source": [
    "duplicated_users = orders.groupby('visitor_id', as_index=False).agg({'group':'nunique'})\n",
    "duplicated_users.columns = ['visitor_id', 'group_cnt']\n",
    "duplicated_users = duplicated_users[duplicated_users['group_cnt'] > 1]\n",
    "len(duplicated_users)"
   ]
  },
  {
   "cell_type": "markdown",
   "metadata": {},
   "source": [
    "В таблице orders оказалось 58 пользователей, которые входят в обе группы. Я думаю, будет лучше удалить их из теблицы."
   ]
  },
  {
   "cell_type": "code",
   "execution_count": 11,
   "metadata": {},
   "outputs": [],
   "source": [
    "orders = orders[np.logical_not(orders['visitor_id']\n",
    "                               .isin(duplicated_users['visitor_id'])\n",
    "                              )\n",
    "               ]"
   ]
  },
  {
   "cell_type": "markdown",
   "metadata": {},
   "source": [
    "### Подготовка данных к вычислениям"
   ]
  },
  {
   "cell_type": "code",
   "execution_count": 12,
   "metadata": {},
   "outputs": [],
   "source": [
    "date_groups = orders[['date', 'group']].drop_duplicates()"
   ]
  },
  {
   "cell_type": "code",
   "execution_count": 13,
   "metadata": {},
   "outputs": [
    {
     "data": {
      "text/html": [
       "<div>\n",
       "<style scoped>\n",
       "    .dataframe tbody tr th:only-of-type {\n",
       "        vertical-align: middle;\n",
       "    }\n",
       "\n",
       "    .dataframe tbody tr th {\n",
       "        vertical-align: top;\n",
       "    }\n",
       "\n",
       "    .dataframe thead th {\n",
       "        text-align: right;\n",
       "    }\n",
       "</style>\n",
       "<table border=\"1\" class=\"dataframe\">\n",
       "  <thead>\n",
       "    <tr style=\"text-align: right;\">\n",
       "      <th></th>\n",
       "      <th>date</th>\n",
       "      <th>group</th>\n",
       "      <th>transactions</th>\n",
       "      <th>buyers</th>\n",
       "      <th>revenue</th>\n",
       "    </tr>\n",
       "  </thead>\n",
       "  <tbody>\n",
       "    <tr>\n",
       "      <th>55</th>\n",
       "      <td>2019-08-01</td>\n",
       "      <td>A</td>\n",
       "      <td>23</td>\n",
       "      <td>19</td>\n",
       "      <td>142779</td>\n",
       "    </tr>\n",
       "    <tr>\n",
       "      <th>66</th>\n",
       "      <td>2019-08-01</td>\n",
       "      <td>B</td>\n",
       "      <td>17</td>\n",
       "      <td>17</td>\n",
       "      <td>59758</td>\n",
       "    </tr>\n",
       "    <tr>\n",
       "      <th>175</th>\n",
       "      <td>2019-08-02</td>\n",
       "      <td>A</td>\n",
       "      <td>42</td>\n",
       "      <td>36</td>\n",
       "      <td>234381</td>\n",
       "    </tr>\n",
       "    <tr>\n",
       "      <th>173</th>\n",
       "      <td>2019-08-02</td>\n",
       "      <td>B</td>\n",
       "      <td>40</td>\n",
       "      <td>39</td>\n",
       "      <td>221801</td>\n",
       "    </tr>\n",
       "    <tr>\n",
       "      <th>291</th>\n",
       "      <td>2019-08-03</td>\n",
       "      <td>A</td>\n",
       "      <td>66</td>\n",
       "      <td>60</td>\n",
       "      <td>346854</td>\n",
       "    </tr>\n",
       "    <tr>\n",
       "      <th>383</th>\n",
       "      <td>2019-08-03</td>\n",
       "      <td>B</td>\n",
       "      <td>54</td>\n",
       "      <td>53</td>\n",
       "      <td>288850</td>\n",
       "    </tr>\n",
       "  </tbody>\n",
       "</table>\n",
       "</div>"
      ],
      "text/plain": [
       "          date group  transactions  buyers  revenue\n",
       "55  2019-08-01     A            23      19   142779\n",
       "66  2019-08-01     B            17      17    59758\n",
       "175 2019-08-02     A            42      36   234381\n",
       "173 2019-08-02     B            40      39   221801\n",
       "291 2019-08-03     A            66      60   346854\n",
       "383 2019-08-03     B            54      53   288850"
      ]
     },
     "execution_count": 13,
     "metadata": {},
     "output_type": "execute_result"
    }
   ],
   "source": [
    "orders_by_group = date_groups.apply(lambda x: orders[\n",
    "                                                       np.logical_and(orders['date'] <= x['date'], \n",
    "                                                                      orders['group'] == x['group']\n",
    "                                                                     )\n",
    "                                                      ].agg({'date':'max',\n",
    "                                                            'group':'max',\n",
    "                                                            'transaction_id':'nunique',\n",
    "                                                             'visitor_id':'nunique',\n",
    "                                                            'revenue':'sum',\n",
    "                                                            }\n",
    "                                                           ), axis=1\n",
    "                                     ).sort_values(by=['date', 'group'])\n",
    "\n",
    "orders_by_group = orders_by_group.rename(columns={'transaction_id':'transactions',\n",
    "                                                 'visitor_id':'buyers'})\n",
    "orders_by_group.head(6)"
   ]
  },
  {
   "cell_type": "code",
   "execution_count": 14,
   "metadata": {},
   "outputs": [
    {
     "data": {
      "text/html": [
       "<div>\n",
       "<style scoped>\n",
       "    .dataframe tbody tr th:only-of-type {\n",
       "        vertical-align: middle;\n",
       "    }\n",
       "\n",
       "    .dataframe tbody tr th {\n",
       "        vertical-align: top;\n",
       "    }\n",
       "\n",
       "    .dataframe thead th {\n",
       "        text-align: right;\n",
       "    }\n",
       "</style>\n",
       "<table border=\"1\" class=\"dataframe\">\n",
       "  <thead>\n",
       "    <tr style=\"text-align: right;\">\n",
       "      <th></th>\n",
       "      <th>date</th>\n",
       "      <th>group</th>\n",
       "      <th>visitors</th>\n",
       "    </tr>\n",
       "  </thead>\n",
       "  <tbody>\n",
       "    <tr>\n",
       "      <th>55</th>\n",
       "      <td>2019-08-01</td>\n",
       "      <td>A</td>\n",
       "      <td>719</td>\n",
       "    </tr>\n",
       "    <tr>\n",
       "      <th>66</th>\n",
       "      <td>2019-08-01</td>\n",
       "      <td>B</td>\n",
       "      <td>713</td>\n",
       "    </tr>\n",
       "    <tr>\n",
       "      <th>175</th>\n",
       "      <td>2019-08-02</td>\n",
       "      <td>A</td>\n",
       "      <td>1338</td>\n",
       "    </tr>\n",
       "    <tr>\n",
       "      <th>173</th>\n",
       "      <td>2019-08-02</td>\n",
       "      <td>B</td>\n",
       "      <td>1294</td>\n",
       "    </tr>\n",
       "    <tr>\n",
       "      <th>291</th>\n",
       "      <td>2019-08-03</td>\n",
       "      <td>A</td>\n",
       "      <td>1845</td>\n",
       "    </tr>\n",
       "    <tr>\n",
       "      <th>383</th>\n",
       "      <td>2019-08-03</td>\n",
       "      <td>B</td>\n",
       "      <td>1803</td>\n",
       "    </tr>\n",
       "  </tbody>\n",
       "</table>\n",
       "</div>"
      ],
      "text/plain": [
       "          date group  visitors\n",
       "55  2019-08-01     A       719\n",
       "66  2019-08-01     B       713\n",
       "175 2019-08-02     A      1338\n",
       "173 2019-08-02     B      1294\n",
       "291 2019-08-03     A      1845\n",
       "383 2019-08-03     B      1803"
      ]
     },
     "execution_count": 14,
     "metadata": {},
     "output_type": "execute_result"
    }
   ],
   "source": [
    "visitors_by_group = date_groups.apply(lambda x: visitors[\n",
    "                                                        np.logical_and(visitors['date'] <= x['date'],\n",
    "                                                                      visitors['group'] == x['group']\n",
    "                                                                      )\n",
    "                                                       ].agg({'date':'max',\n",
    "                                                             'group':'max',\n",
    "                                                             'visitors':'sum'\n",
    "                                                             }\n",
    "                                                            ), axis=1\n",
    "                                    ).sort_values(by=['date', 'group'])\n",
    "\n",
    "visitors_by_group.head(6)"
   ]
  },
  {
   "cell_type": "code",
   "execution_count": 15,
   "metadata": {},
   "outputs": [
    {
     "data": {
      "text/html": [
       "<div>\n",
       "<style scoped>\n",
       "    .dataframe tbody tr th:only-of-type {\n",
       "        vertical-align: middle;\n",
       "    }\n",
       "\n",
       "    .dataframe tbody tr th {\n",
       "        vertical-align: top;\n",
       "    }\n",
       "\n",
       "    .dataframe thead th {\n",
       "        text-align: right;\n",
       "    }\n",
       "</style>\n",
       "<table border=\"1\" class=\"dataframe\">\n",
       "  <thead>\n",
       "    <tr style=\"text-align: right;\">\n",
       "      <th></th>\n",
       "      <th>date</th>\n",
       "      <th>group</th>\n",
       "      <th>transactions</th>\n",
       "      <th>buyers</th>\n",
       "      <th>revenue</th>\n",
       "      <th>visitors</th>\n",
       "      <th>conversion</th>\n",
       "    </tr>\n",
       "  </thead>\n",
       "  <tbody>\n",
       "    <tr>\n",
       "      <th>0</th>\n",
       "      <td>2019-08-01</td>\n",
       "      <td>A</td>\n",
       "      <td>23</td>\n",
       "      <td>19</td>\n",
       "      <td>142779</td>\n",
       "      <td>719</td>\n",
       "      <td>0.031989</td>\n",
       "    </tr>\n",
       "    <tr>\n",
       "      <th>1</th>\n",
       "      <td>2019-08-01</td>\n",
       "      <td>B</td>\n",
       "      <td>17</td>\n",
       "      <td>17</td>\n",
       "      <td>59758</td>\n",
       "      <td>713</td>\n",
       "      <td>0.023843</td>\n",
       "    </tr>\n",
       "    <tr>\n",
       "      <th>2</th>\n",
       "      <td>2019-08-02</td>\n",
       "      <td>A</td>\n",
       "      <td>42</td>\n",
       "      <td>36</td>\n",
       "      <td>234381</td>\n",
       "      <td>1338</td>\n",
       "      <td>0.031390</td>\n",
       "    </tr>\n",
       "    <tr>\n",
       "      <th>3</th>\n",
       "      <td>2019-08-02</td>\n",
       "      <td>B</td>\n",
       "      <td>40</td>\n",
       "      <td>39</td>\n",
       "      <td>221801</td>\n",
       "      <td>1294</td>\n",
       "      <td>0.030912</td>\n",
       "    </tr>\n",
       "    <tr>\n",
       "      <th>4</th>\n",
       "      <td>2019-08-03</td>\n",
       "      <td>A</td>\n",
       "      <td>66</td>\n",
       "      <td>60</td>\n",
       "      <td>346854</td>\n",
       "      <td>1845</td>\n",
       "      <td>0.035772</td>\n",
       "    </tr>\n",
       "    <tr>\n",
       "      <th>5</th>\n",
       "      <td>2019-08-03</td>\n",
       "      <td>B</td>\n",
       "      <td>54</td>\n",
       "      <td>53</td>\n",
       "      <td>288850</td>\n",
       "      <td>1803</td>\n",
       "      <td>0.029950</td>\n",
       "    </tr>\n",
       "  </tbody>\n",
       "</table>\n",
       "</div>"
      ],
      "text/plain": [
       "        date group  transactions  buyers  revenue  visitors  conversion\n",
       "0 2019-08-01     A            23      19   142779       719    0.031989\n",
       "1 2019-08-01     B            17      17    59758       713    0.023843\n",
       "2 2019-08-02     A            42      36   234381      1338    0.031390\n",
       "3 2019-08-02     B            40      39   221801      1294    0.030912\n",
       "4 2019-08-03     A            66      60   346854      1845    0.035772\n",
       "5 2019-08-03     B            54      53   288850      1803    0.029950"
      ]
     },
     "execution_count": 15,
     "metadata": {},
     "output_type": "execute_result"
    }
   ],
   "source": [
    "cumulative_data = orders_by_group.merge(visitors_by_group, \n",
    "                                        left_on=['date', 'group'], \n",
    "                                        right_on=['date', 'group'])\n",
    "\n",
    "cumulative_data['conversion'] = cumulative_data['transactions'] / cumulative_data['visitors']\n",
    "cumulative_data.head(6)"
   ]
  },
  {
   "cell_type": "code",
   "execution_count": 16,
   "metadata": {},
   "outputs": [],
   "source": [
    "cumulative_data_a = cumulative_data[cumulative_data['group'] == 'A']\n",
    "cumulative_data_b = cumulative_data[cumulative_data['group'] == 'B']"
   ]
  },
  {
   "cell_type": "code",
   "execution_count": 17,
   "metadata": {},
   "outputs": [
    {
     "data": {
      "text/html": [
       "<div>\n",
       "<style scoped>\n",
       "    .dataframe tbody tr th:only-of-type {\n",
       "        vertical-align: middle;\n",
       "    }\n",
       "\n",
       "    .dataframe tbody tr th {\n",
       "        vertical-align: top;\n",
       "    }\n",
       "\n",
       "    .dataframe thead th {\n",
       "        text-align: right;\n",
       "    }\n",
       "</style>\n",
       "<table border=\"1\" class=\"dataframe\">\n",
       "  <thead>\n",
       "    <tr style=\"text-align: right;\">\n",
       "      <th></th>\n",
       "      <th>date</th>\n",
       "      <th>group_a</th>\n",
       "      <th>transactions_a</th>\n",
       "      <th>buyers_a</th>\n",
       "      <th>revenue_a</th>\n",
       "      <th>visitors_a</th>\n",
       "      <th>conversion_a</th>\n",
       "      <th>group_b</th>\n",
       "      <th>transactions_b</th>\n",
       "      <th>buyers_b</th>\n",
       "      <th>revenue_b</th>\n",
       "      <th>visitors_b</th>\n",
       "      <th>conversion_b</th>\n",
       "    </tr>\n",
       "  </thead>\n",
       "  <tbody>\n",
       "    <tr>\n",
       "      <th>0</th>\n",
       "      <td>2019-08-01</td>\n",
       "      <td>A</td>\n",
       "      <td>23</td>\n",
       "      <td>19</td>\n",
       "      <td>142779</td>\n",
       "      <td>719</td>\n",
       "      <td>0.031989</td>\n",
       "      <td>B</td>\n",
       "      <td>17</td>\n",
       "      <td>17</td>\n",
       "      <td>59758</td>\n",
       "      <td>713</td>\n",
       "      <td>0.023843</td>\n",
       "    </tr>\n",
       "    <tr>\n",
       "      <th>1</th>\n",
       "      <td>2019-08-02</td>\n",
       "      <td>A</td>\n",
       "      <td>42</td>\n",
       "      <td>36</td>\n",
       "      <td>234381</td>\n",
       "      <td>1338</td>\n",
       "      <td>0.031390</td>\n",
       "      <td>B</td>\n",
       "      <td>40</td>\n",
       "      <td>39</td>\n",
       "      <td>221801</td>\n",
       "      <td>1294</td>\n",
       "      <td>0.030912</td>\n",
       "    </tr>\n",
       "    <tr>\n",
       "      <th>2</th>\n",
       "      <td>2019-08-03</td>\n",
       "      <td>A</td>\n",
       "      <td>66</td>\n",
       "      <td>60</td>\n",
       "      <td>346854</td>\n",
       "      <td>1845</td>\n",
       "      <td>0.035772</td>\n",
       "      <td>B</td>\n",
       "      <td>54</td>\n",
       "      <td>53</td>\n",
       "      <td>288850</td>\n",
       "      <td>1803</td>\n",
       "      <td>0.029950</td>\n",
       "    </tr>\n",
       "    <tr>\n",
       "      <th>3</th>\n",
       "      <td>2019-08-04</td>\n",
       "      <td>A</td>\n",
       "      <td>77</td>\n",
       "      <td>71</td>\n",
       "      <td>388030</td>\n",
       "      <td>2562</td>\n",
       "      <td>0.030055</td>\n",
       "      <td>B</td>\n",
       "      <td>68</td>\n",
       "      <td>66</td>\n",
       "      <td>385740</td>\n",
       "      <td>2573</td>\n",
       "      <td>0.026428</td>\n",
       "    </tr>\n",
       "    <tr>\n",
       "      <th>4</th>\n",
       "      <td>2019-08-05</td>\n",
       "      <td>A</td>\n",
       "      <td>99</td>\n",
       "      <td>92</td>\n",
       "      <td>474413</td>\n",
       "      <td>3318</td>\n",
       "      <td>0.029837</td>\n",
       "      <td>B</td>\n",
       "      <td>89</td>\n",
       "      <td>87</td>\n",
       "      <td>475648</td>\n",
       "      <td>3280</td>\n",
       "      <td>0.027134</td>\n",
       "    </tr>\n",
       "  </tbody>\n",
       "</table>\n",
       "</div>"
      ],
      "text/plain": [
       "        date group_a  transactions_a  buyers_a  revenue_a  visitors_a  \\\n",
       "0 2019-08-01       A              23        19     142779         719   \n",
       "1 2019-08-02       A              42        36     234381        1338   \n",
       "2 2019-08-03       A              66        60     346854        1845   \n",
       "3 2019-08-04       A              77        71     388030        2562   \n",
       "4 2019-08-05       A              99        92     474413        3318   \n",
       "\n",
       "   conversion_a group_b  transactions_b  buyers_b  revenue_b  visitors_b  \\\n",
       "0      0.031989       B              17        17      59758         713   \n",
       "1      0.031390       B              40        39     221801        1294   \n",
       "2      0.035772       B              54        53     288850        1803   \n",
       "3      0.030055       B              68        66     385740        2573   \n",
       "4      0.029837       B              89        87     475648        3280   \n",
       "\n",
       "   conversion_b  \n",
       "0      0.023843  \n",
       "1      0.030912  \n",
       "2      0.029950  \n",
       "3      0.026428  \n",
       "4      0.027134  "
      ]
     },
     "execution_count": 17,
     "metadata": {},
     "output_type": "execute_result"
    }
   ],
   "source": [
    "merged_cumulative_data = cumulative_data_a.merge(cumulative_data_b, \n",
    "                                                 left_on='date', \n",
    "                                                 right_on='date', \n",
    "                                                 suffixes=['_a', '_b'])\n",
    "\n",
    "merged_cumulative_data.head(5)"
   ]
  },
  {
   "cell_type": "markdown",
   "metadata": {},
   "source": [
    "### Построение графика кумулятивной выручки по группам"
   ]
  },
  {
   "cell_type": "code",
   "execution_count": 18,
   "metadata": {},
   "outputs": [
    {
     "data": {
      "image/png": "[encoded data removed]",
      "text/plain": [
       "<Figure size 1440x720 with 1 Axes>"
      ]
     },
     "metadata": {
      "needs_background": "light"
     },
     "output_type": "display_data"
    }
   ],
   "source": [
    "plt.figure(figsize=(20, 10))\n",
    "\n",
    "plt.plot(merged_cumulative_data['date'], \n",
    "         merged_cumulative_data['revenue_a'], \n",
    "         label='A')\n",
    "\n",
    "plt.plot(merged_cumulative_data['date'], \n",
    "         merged_cumulative_data['revenue_b'], \n",
    "         label='B')\n",
    "\n",
    "plt.title('График кумулятивной выручки по группам')\n",
    "plt.xlabel('Дата')\n",
    "plt.ylabel('Кумулятивная выручка, млн.')\n",
    "\n",
    "plt.legend()\n",
    "\n",
    "plt.show()"
   ]
  },
  {
   "cell_type": "markdown",
   "metadata": {},
   "source": [
    "Согласно графикам, кумулятивная выручка в группе В явно выше, чем в группе А, однако на графике В есть резкий скачок в районе 19 августа, что может свидетельствовать об аномалиях в этой группе."
   ]
  },
  {
   "cell_type": "markdown",
   "metadata": {},
   "source": [
    "### Построение графика кумулятивного среднего чека по группам"
   ]
  },
  {
   "cell_type": "code",
   "execution_count": 19,
   "metadata": {},
   "outputs": [
    {
     "data": {
      "image/png": "[encoded data removed]",
      "text/plain": [
       "<Figure size 1440x720 with 1 Axes>"
      ]
     },
     "metadata": {
      "needs_background": "light"
     },
     "output_type": "display_data"
    }
   ],
   "source": [
    "plt.figure(figsize=(20, 10))\n",
    "\n",
    "plt.plot(merged_cumulative_data['date'], \n",
    "         merged_cumulative_data['revenue_a']/merged_cumulative_data['transactions_a'], \n",
    "         label='A')\n",
    "\n",
    "plt.plot(merged_cumulative_data['date'], \n",
    "         merged_cumulative_data['revenue_b']/merged_cumulative_data['transactions_b'], \n",
    "         label='B')\n",
    "\n",
    "plt.title('График кумулятивного среднего чека по группам')\n",
    "plt.xlabel('Дата')\n",
    "plt.ylabel('Кумулятивный средний чек')\n",
    "\n",
    "plt.legend()\n",
    "\n",
    "plt.show()"
   ]
  },
  {
   "cell_type": "markdown",
   "metadata": {},
   "source": [
    "Согласно графику, кумулятивный средний чек группы В выше, чем группы А, однако на графике В есть резкий скачок так же в районе 19 августа, что усиливает подозрения об аномалиях в этой группе."
   ]
  },
  {
   "cell_type": "markdown",
   "metadata": {},
   "source": [
    "### Построение графика относительного изменения кумулятивного среднего чека группы B к группе A"
   ]
  },
  {
   "cell_type": "code",
   "execution_count": 20,
   "metadata": {},
   "outputs": [
    {
     "data": {
      "image/png": "[encoded data removed]",
      "text/plain": [
       "<Figure size 1440x720 with 1 Axes>"
      ]
     },
     "metadata": {
      "needs_background": "light"
     },
     "output_type": "display_data"
    }
   ],
   "source": [
    "plt.figure(figsize=(20, 10))\n",
    "\n",
    "plt.plot(merged_cumulative_data['date'], \n",
    "         (\n",
    "             (merged_cumulative_data['revenue_b']/merged_cumulative_data['transactions_b'])\n",
    "             / (merged_cumulative_data['revenue_a']/merged_cumulative_data['transactions_a']) \n",
    "             - 1\n",
    "         )\n",
    "        )\n",
    "\n",
    "plt.axhline(y=0, color='black', linestyle='--')\n",
    "\n",
    "plt.title('График относительного изменения кумулятивного среднего чека группы B к группе A')\n",
    "plt.xlabel('Дата')\n",
    "plt.ylabel('Доля')\n",
    "\n",
    "plt.show()"
   ]
  },
  {
   "cell_type": "markdown",
   "metadata": {},
   "source": [
    "График показывает, что кумулятивный чек группы В стабильно выше относительного кумулятивного чека группы А, что говорит о том, что пользователи группы В тратят больше денег, чем пользователи группы А. Скачки на графике говорят о том, что в данных есть аномалии."
   ]
  },
  {
   "cell_type": "markdown",
   "metadata": {},
   "source": [
    "### Построение графика кумулятивной конверсии заказов по группам"
   ]
  },
  {
   "cell_type": "code",
   "execution_count": 21,
   "metadata": {},
   "outputs": [
    {
     "data": {
      "image/png": "[encoded data removed]",
      "text/plain": [
       "<Figure size 1440x720 with 1 Axes>"
      ]
     },
     "metadata": {
      "needs_background": "light"
     },
     "output_type": "display_data"
    }
   ],
   "source": [
    "plt.figure(figsize=(20, 10))\n",
    "\n",
    "plt.plot(merged_cumulative_data['date'],\n",
    "        merged_cumulative_data['conversion_a'],\n",
    "        label='A')\n",
    "\n",
    "plt.plot(merged_cumulative_data['date'],\n",
    "        merged_cumulative_data['conversion_b'],\n",
    "        label='B')\n",
    "\n",
    "plt.title('График кумулятивной конверсии заказов по группам')\n",
    "plt.xlabel('Дата')\n",
    "plt.ylabel('Кумулятивная конверсия')\n",
    "\n",
    "plt.legend()\n",
    "\n",
    "plt.show()"
   ]
  },
  {
   "cell_type": "markdown",
   "metadata": {},
   "source": [
    "Графики показывают, что кумулятивная конверсия заказов в группе В мало отличается от кумулятивной конверсии заказов в группе А. Есть небольшая разница между ними, но это доли процента."
   ]
  },
  {
   "cell_type": "markdown",
   "metadata": {},
   "source": [
    "### Построение графика относительного изменения кумулятивной конверсии заказов группы B к группе A"
   ]
  },
  {
   "cell_type": "code",
   "execution_count": 22,
   "metadata": {},
   "outputs": [
    {
     "data": {
      "image/png": "[encoded data removed]",
      "text/plain": [
       "<Figure size 1440x720 with 1 Axes>"
      ]
     },
     "metadata": {
      "needs_background": "light"
     },
     "output_type": "display_data"
    }
   ],
   "source": [
    "plt.figure(figsize=(20, 10))\n",
    "\n",
    "plt.plot(merged_cumulative_data['date'],\n",
    "        merged_cumulative_data['conversion_b'] / merged_cumulative_data['conversion_a'] - 1)\n",
    "\n",
    "plt.axhline(y=0, color='black', linestyle='--')\n",
    "\n",
    "plt.title('График относительного изменения кумулятивной конверсии заказов группы B к группе A')\n",
    "plt.xlabel('Дата')\n",
    "plt.ylabel('Доля')\n",
    "\n",
    "plt.show()"
   ]
  },
  {
   "cell_type": "markdown",
   "metadata": {},
   "source": [
    "Хотя и графики кумулятивной конверсии заказов по группам показали незначительную разницу между конверсиями групп, на графике относительного изменения кумулятивной конверсии заказов группы B к группе A видно, что конверсия группы В стабильно лучше конверсии группы А на 10%."
   ]
  },
  {
   "cell_type": "markdown",
   "metadata": {},
   "source": [
    "### Построение точечного графика количества заказов по пользователям"
   ]
  },
  {
   "cell_type": "code",
   "execution_count": 23,
   "metadata": {},
   "outputs": [],
   "source": [
    "orders_by_users = (orders.groupby('visitor_id', as_index=False)\n",
    "                   .agg({'group':'max',\n",
    "                         'transaction_id':'nunique'})\n",
    "                   .rename(columns={'transaction_id':'transactions'})\n",
    "                  )"
   ]
  },
  {
   "cell_type": "code",
   "execution_count": 24,
   "metadata": {},
   "outputs": [
    {
     "data": {
      "image/png": "[encoded data removed]",
      "text/plain": [
       "<Figure size 1440x720 with 1 Axes>"
      ]
     },
     "metadata": {
      "needs_background": "light"
     },
     "output_type": "display_data"
    }
   ],
   "source": [
    "plt.figure(figsize=(20, 10))\n",
    "\n",
    "plt.scatter(range(0, len(orders_by_users)), orders_by_users['transactions'])\n",
    "\n",
    "plt.title('Точечный график количества заказов по пользователям')\n",
    "plt.xlabel('Пользователи')\n",
    "plt.ylabel('Число заказов')\n",
    "\n",
    "plt.show()"
   ]
  },
  {
   "cell_type": "markdown",
   "metadata": {},
   "source": [
    "На точечном графике количества заказов явно видно что пользователи в основном делают от 1 до 2 заказов."
   ]
  },
  {
   "cell_type": "markdown",
   "metadata": {},
   "source": [
    "### Вычисление 95-й и 99-й перцентили количества заказов на пользователя"
   ]
  },
  {
   "cell_type": "code",
   "execution_count": 25,
   "metadata": {},
   "outputs": [
    {
     "data": {
      "text/plain": [
       "array([1., 2.])"
      ]
     },
     "execution_count": 25,
     "metadata": {},
     "output_type": "execute_result"
    }
   ],
   "source": [
    "np.percentile(orders_by_users['transactions'], [95, 99])"
   ]
  },
  {
   "cell_type": "markdown",
   "metadata": {},
   "source": [
    "Лишь 5% пользователей делают более одного заказов, и только 1% пользователей делают более двух. Следовательно границу для количества аномальных заказов нужно принять за 1 заказ."
   ]
  },
  {
   "cell_type": "code",
   "execution_count": 26,
   "metadata": {},
   "outputs": [],
   "source": [
    "border_order = np.percentile(orders_by_users['transactions'], [95, 99])[0]"
   ]
  },
  {
   "cell_type": "markdown",
   "metadata": {},
   "source": [
    "### Построение точечного графика стоимостей заказов"
   ]
  },
  {
   "cell_type": "code",
   "execution_count": 27,
   "metadata": {},
   "outputs": [
    {
     "data": {
      "image/png": "[encoded data removed]",
      "text/plain": [
       "<Figure size 1440x720 with 1 Axes>"
      ]
     },
     "metadata": {
      "needs_background": "light"
     },
     "output_type": "display_data"
    }
   ],
   "source": [
    "plt.figure(figsize=(20, 10))\n",
    "\n",
    "plt.scatter(range(0, len(orders)), orders['revenue'])\n",
    "\n",
    "plt.title('Точечный график стоимостей заказов')\n",
    "plt.xlabel('Пользователи')\n",
    "plt.ylabel('Стоимость заказов')\n",
    "\n",
    "plt.show()"
   ]
  },
  {
   "cell_type": "markdown",
   "metadata": {},
   "source": [
    "На графике явно видно аномальный заказ стоимостью 1.3 млн., однако большинство заказов явно меньше 50 тыс."
   ]
  },
  {
   "cell_type": "markdown",
   "metadata": {},
   "source": [
    "### Вычисление 95-й и 99-й перцентили стоимости заказов"
   ]
  },
  {
   "cell_type": "code",
   "execution_count": 28,
   "metadata": {},
   "outputs": [
    {
     "data": {
      "text/plain": [
       "array([26785., 53904.])"
      ]
     },
     "execution_count": 28,
     "metadata": {},
     "output_type": "execute_result"
    }
   ],
   "source": [
    "np.percentile(orders['revenue'], [95, 99])"
   ]
  },
  {
   "cell_type": "markdown",
   "metadata": {},
   "source": [
    "Лишь 5% заказов превышают стоимость 26785, и только 1% заказов дороже 53904. Следовательно границу для цены аномальных заказов нужно принять за 26785."
   ]
  },
  {
   "cell_type": "code",
   "execution_count": 29,
   "metadata": {},
   "outputs": [],
   "source": [
    "border_revenue = np.percentile(orders['revenue'], [95, 99])[0]"
   ]
  },
  {
   "cell_type": "markdown",
   "metadata": {},
   "source": [
    "### Подготовка данных для вычислений статистической значимости различий"
   ]
  },
  {
   "cell_type": "code",
   "execution_count": 30,
   "metadata": {},
   "outputs": [],
   "source": [
    "visitors_a_daily = visitors[visitors['group'] == 'A'][['date', 'visitors']]\n",
    "visitors_a_daily.columns = ['date', 'visitors_per_date_a']\n",
    "\n",
    "visitors_a_cummulative = visitors_a_daily.apply(\n",
    "    lambda x: visitors_a_daily[visitors_a_daily['date'] <= x['date']].agg(\n",
    "        {'date':'max', 'visitors_per_date_a':'sum'}),\n",
    "    axis=1)\n",
    "\n",
    "visitors_a_cummulative.columns = ['date', 'visitors_cummulative_a']"
   ]
  },
  {
   "cell_type": "code",
   "execution_count": 31,
   "metadata": {},
   "outputs": [],
   "source": [
    "visitors_b_daily = visitors[visitors['group'] == 'B'][['date', 'visitors']]\n",
    "visitors_b_daily.columns = ['date', 'visitors_per_date_b']\n",
    "\n",
    "visitors_b_cummulative = visitors_b_daily.apply(\n",
    "    lambda x: visitors_b_daily[visitors_b_daily['date'] <= x['date']].agg(\n",
    "        {'date':'max', 'visitors_per_date_b':'sum'}),\n",
    "    axis=1)\n",
    "\n",
    "visitors_b_cummulative.columns = ['date', 'visitors_cummulative_b']"
   ]
  },
  {
   "cell_type": "code",
   "execution_count": 32,
   "metadata": {},
   "outputs": [],
   "source": [
    "orders_a_daily = (\n",
    "    orders[orders['group'] == 'A'][['date', 'transaction_id', 'visitor_id', 'revenue']]\n",
    "    .groupby('date', as_index=False)\n",
    "    .agg({'transaction_id':'nunique', 'revenue':'sum'})\n",
    ")\n",
    "orders_a_daily.columns = ['date', 'orders_per_date_a', 'revenue_per_date_a']\n",
    "\n",
    "orders_a_cummulative = orders_a_daily.apply(\n",
    "    lambda x: orders_a_daily[orders_a_daily['date'] <= x['date']].agg(\n",
    "        {'date': 'max', 'orders_per_date_a':'sum', 'revenue_per_date_a':'sum'}),\n",
    "    axis=1).sort_values(by=['date'])\n",
    "\n",
    "orders_a_cummulative.columns = ['date', 'orders_cummulative_a', 'revenue_cummulative_a']"
   ]
  },
  {
   "cell_type": "code",
   "execution_count": 33,
   "metadata": {},
   "outputs": [],
   "source": [
    "orders_b_daily = (\n",
    "    orders[orders['group'] == 'B'][['date', 'transaction_id', 'visitor_id', 'revenue']]\n",
    "    .groupby('date', as_index=False)\n",
    "    .agg({'transaction_id':'nunique', 'revenue':'sum'})\n",
    ")\n",
    "orders_b_daily.columns = ['date', 'orders_per_date_b', 'revenue_per_date_b']\n",
    "\n",
    "orders_b_cummulative = orders_b_daily.apply(\n",
    "    lambda x: orders_b_daily[orders_b_daily['date'] <= x['date']].agg(\n",
    "        {'date':'max', 'orders_per_date_b':'sum', 'revenue_per_date_b':'sum'}),\n",
    "    axis=1).sort_values(by=['date'])\n",
    "\n",
    "orders_b_cummulative.columns = ['date', 'orders_cummulative_b', 'revenue_cummulative_b']"
   ]
  },
  {
   "cell_type": "code",
   "execution_count": 34,
   "metadata": {},
   "outputs": [
    {
     "name": "stdout",
     "output_type": "stream",
     "text": [
      "        date  visitors_per_date_a  visitors_cummulative_a  \\\n",
      "0 2019-08-01                  719                     719   \n",
      "1 2019-08-02                  619                    1338   \n",
      "2 2019-08-03                  507                    1845   \n",
      "3 2019-08-04                  717                    2562   \n",
      "4 2019-08-05                  756                    3318   \n",
      "\n",
      "   visitors_per_date_b  visitors_cummulative_b  orders_per_date_a  \\\n",
      "0                  713                     713                 23   \n",
      "1                  581                    1294                 19   \n",
      "2                  509                    1803                 24   \n",
      "3                  770                    2573                 11   \n",
      "4                  707                    3280                 22   \n",
      "\n",
      "   revenue_per_date_a  orders_cummulative_a  revenue_cummulative_a  \\\n",
      "0              142779                    23                 142779   \n",
      "1               91602                    42                 234381   \n",
      "2              112473                    66                 346854   \n",
      "3               41176                    77                 388030   \n",
      "4               86383                    99                 474413   \n",
      "\n",
      "   orders_per_date_b  revenue_per_date_b  orders_cummulative_b  \\\n",
      "0                 17               59758                    17   \n",
      "1                 23              162043                    40   \n",
      "2                 14               67049                    54   \n",
      "3                 14               96890                    68   \n",
      "4                 21               89908                    89   \n",
      "\n",
      "   revenue_cummulative_b  \n",
      "0                  59758  \n",
      "1                 221801  \n",
      "2                 288850  \n",
      "3                 385740  \n",
      "4                 475648  \n"
     ]
    }
   ],
   "source": [
    "data = (\n",
    "    visitors_a_daily\n",
    "    .merge(visitors_a_cummulative, left_on='date', right_on='date', how='left')\n",
    "    .merge(visitors_b_daily, left_on='date', right_on='date', how='left')\n",
    "    .merge(visitors_b_cummulative, left_on='date', right_on='date', how='left')\n",
    "    .merge(orders_a_daily, left_on='date', right_on='date', how='left')\n",
    "    .merge(orders_a_cummulative, left_on='date', right_on='date', how='left')\n",
    "    .merge(orders_b_daily, left_on='date', right_on='date', how='left')\n",
    "    .merge(orders_b_cummulative, left_on='date', right_on='date', how='left')\n",
    ")\n",
    "\n",
    "print(data.head(5)) "
   ]
  },
  {
   "cell_type": "code",
   "execution_count": 35,
   "metadata": {},
   "outputs": [],
   "source": [
    "total_visitors_a = visitors[visitors['group'] == 'A']['visitors'].sum()\n",
    "total_visitors_b = visitors[visitors['group'] == 'B']['visitors'].sum()"
   ]
  },
  {
   "cell_type": "markdown",
   "metadata": {},
   "source": [
    "### Вычисление статистической значимости различий в среднем количестве заказов между группами по «сырым» данным"
   ]
  },
  {
   "cell_type": "markdown",
   "metadata": {},
   "source": [
    "**H0**: Нет статистически значимых различий в среднем числе заказов между группами по «сырым» данным.\n",
    "\n",
    "**H1**: Есть статистически значимые различия в среднем числе заказов между группами по «сырым» данным."
   ]
  },
  {
   "cell_type": "code",
   "execution_count": 36,
   "metadata": {},
   "outputs": [],
   "source": [
    "orders_by_users_a = (\n",
    "    orders[orders['group'] == 'A']\n",
    "    .groupby('visitor_id', as_index=False)\n",
    "    .agg({'transaction_id':'nunique'})\n",
    ")\n",
    "orders_by_users_a.columns = ['user_id', 'orders']\n",
    "\n",
    "orders_by_users_b = (\n",
    "    orders[orders['group'] == 'B']\n",
    "    .groupby('visitor_id', as_index=False)\n",
    "    .agg({'transaction_id':'nunique'})\n",
    ")\n",
    "orders_by_users_b.columns = ['user_id', 'orders'] "
   ]
  },
  {
   "cell_type": "code",
   "execution_count": 37,
   "metadata": {},
   "outputs": [],
   "source": [
    "sample_a = pd.concat( \n",
    "                     [orders_by_users_a['orders'], \n",
    "                      pd.Series(0,   \n",
    "                                index=(np.arange(total_visitors_a   #Старый код: visitors[visitors['group']=='A']['visitors'].sum() \n",
    "                                                 - len(orders_by_users_a['orders'])\n",
    "                                                )\n",
    "                                      ), \n",
    "                                name='orders')\n",
    "                     ], axis=0).reset_index(drop=True)\n",
    "\n",
    "sample_b = pd.concat( \n",
    "                     [orders_by_users_b['orders'], \n",
    "                      pd.Series(0, \n",
    "                                index=(np.arange(total_visitors_b #visitors[visitors['group']=='B']['visitors'].sum() \n",
    "                                                 - len(orders_by_users_b['orders'])\n",
    "                                                )\n",
    "                                      ), \n",
    "                                name='orders')\n",
    "                     ], axis=0).reset_index(drop=True)"
   ]
  },
  {
   "cell_type": "code",
   "execution_count": 38,
   "metadata": {},
   "outputs": [
    {
     "name": "stdout",
     "output_type": "stream",
     "text": [
      "p-value: 0.011\n",
      "Разница между группами составляет 16.0% в пользу группы В\n",
      "Есть статистически значимые различия в среднем числе заказов между группами по «сырым» данным.\n"
     ]
    }
   ],
   "source": [
    "print(\"p-value: {0:.3f}\"\n",
    "      .format(st.mannwhitneyu(sample_a, sample_b)[1]))\n",
    "print(\"Разница между группами составляет {0:.1f}% в пользу группы В\"\n",
    "      .format((sample_b.mean() / sample_a.mean() - 1)*100))\n",
    "\n",
    "if st.mannwhitneyu(sample_a, sample_b)[1] < 0.05:\n",
    "    print('Есть статистически значимые различия в среднем числе заказов между группами по «сырым» данным.')\n",
    "else:\n",
    "    print('Нет статистически значимых различий в среднем числе заказов между группами по «сырым» данным.')"
   ]
  },
  {
   "cell_type": "markdown",
   "metadata": {},
   "source": [
    "### Вычисление статистической значимости различий в среднем чеке заказа между группами по «сырым» данным"
   ]
  },
  {
   "cell_type": "markdown",
   "metadata": {},
   "source": [
    "**H0**: Нет статистически значимых различий в среднем чеке заказа между группами по «сырым» данным.\n",
    "\n",
    "**H1**: Есть статистически значимые различия в среднем чеке заказа между группами по «сырым» данным."
   ]
  },
  {
   "cell_type": "code",
   "execution_count": 39,
   "metadata": {},
   "outputs": [
    {
     "name": "stdout",
     "output_type": "stream",
     "text": [
      "p-value: 0.829\n",
      "Разница между группами составляет 28.7% в пользу группы В\n",
      "Нет статистически значимых различий в среднем чеке заказа между группами по «сырым» данным.\n"
     ]
    }
   ],
   "source": [
    "print('p-value: {0:.3f}'\n",
    "      .format(st.mannwhitneyu(orders[orders['group']=='A']['revenue'], orders[orders['group']=='B']['revenue'])[1]))\n",
    "print('Разница между группами составляет {0:.1f}% в пользу группы В'\n",
    "      .format((orders[orders['group']=='B']['revenue'].mean()/orders[orders['group']=='A']['revenue'].mean()-1)*100)) \n",
    "\n",
    "if st.mannwhitneyu(orders[orders['group']=='A']['revenue'], orders[orders['group']=='B']['revenue'])[1] < 0.05:\n",
    "    print('Есть статистически значимые различия в среднем чеке заказа между группами по «сырым» данным.')\n",
    "else:\n",
    "    print('Нет статистически значимых различий в среднем чеке заказа между группами по «сырым» данным.')"
   ]
  },
  {
   "cell_type": "markdown",
   "metadata": {},
   "source": [
    "### Вычисление статистической значимости различий в среднем количестве заказов между группами по «очищенным» данным"
   ]
  },
  {
   "cell_type": "markdown",
   "metadata": {},
   "source": [
    "**H0**: Нет статистически значимых различий в среднем количестве заказов между группами по «очищенным» данным.\n",
    "\n",
    "**H1**: Есть статистически значимые различия в среднем количестве заказов между группами по «очищенным» данным."
   ]
  },
  {
   "cell_type": "code",
   "execution_count": 40,
   "metadata": {},
   "outputs": [],
   "source": [
    "users_with_many_orders = pd.concat(\n",
    "                                   [orders_by_users_a[orders_by_users_a['orders'] > border_order]['user_id'],\n",
    "                                    orders_by_users_b[orders_by_users_b['orders'] > border_order]['user_id']\n",
    "                                   ], axis=0)\n",
    "\n",
    "users_with_expensive_orders = orders[orders['revenue'] > border_revenue]['visitor_id']\n",
    "\n",
    "abnormal_users = (\n",
    "    pd.concat([users_with_many_orders, users_with_expensive_orders], axis=0)\n",
    "    .drop_duplicates()\n",
    "    .sort_values()\n",
    ")"
   ]
  },
  {
   "cell_type": "code",
   "execution_count": 41,
   "metadata": {},
   "outputs": [],
   "source": [
    "sample_a_filtered = pd.concat(\n",
    "    [orders_by_users_a[np.logical_not(orders_by_users_a['user_id'].isin(abnormal_users))]['orders'], \n",
    "     pd.Series(0, \n",
    "               #Старый код: index=np.arange(data['visitors_per_date_a'].sum() - len(orders_by_users_a['orders'])),\n",
    "               index=np.arange(total_visitors_a - len(orders_by_users_a['orders'])),\n",
    "               name='orders'\n",
    "              )\n",
    "    ], axis=0)\n",
    "\n",
    "sample_b_filtered = pd.concat(\n",
    "    [orders_by_users_b[np.logical_not(orders_by_users_b['user_id'].isin(abnormal_users))]['orders'], \n",
    "     pd.Series(0,\n",
    "               # старый код: index=np.arange(data['visitors_per_date_b'].sum() - len(orders_by_users_b['orders'])), \n",
    "               index=np.arange(total_visitors_b - len(orders_by_users_b['orders'])), \n",
    "               name='orders')\n",
    "    ], axis=0)"
   ]
  },
  {
   "cell_type": "code",
   "execution_count": 42,
   "metadata": {},
   "outputs": [
    {
     "name": "stdout",
     "output_type": "stream",
     "text": [
      "p-value: 0.016\n",
      "Разница между группами составляет 17.4% в пользу группы В\n",
      "Есть статистически значимые различия в среднем количестве заказов между группами по «очищенным» данным.\n"
     ]
    }
   ],
   "source": [
    "print('p-value: {0:.3f}'\n",
    "      .format(st.mannwhitneyu(sample_a_filtered, sample_b_filtered)[1]))\n",
    "print('Разница между группами составляет {0:.1f}% в пользу группы В'\n",
    "      .format((sample_b_filtered.mean()/sample_a_filtered.mean()-1)*100)) \n",
    "\n",
    "if st.mannwhitneyu(sample_a_filtered, sample_b_filtered)[1] < 0.05:\n",
    "    print('Есть статистически значимые различия в среднем количестве заказов между группами по «очищенным» данным.')\n",
    "else:\n",
    "    print('Нет статистически значимых различий в среднем количестве заказов между группами по «очищенным» данным.')"
   ]
  },
  {
   "cell_type": "markdown",
   "metadata": {},
   "source": [
    "### Вычисление статистической значимости различий в среднем чеке заказа между группами по «очищенным» данным"
   ]
  },
  {
   "cell_type": "markdown",
   "metadata": {},
   "source": [
    "**H0**: Нет статистически значимых различий в среднем чеке заказа между группами по «очищенным» данным.\n",
    "\n",
    "**H1**: Есть статистически значимые различия в среднем чеке заказа между группами по «очищенным» данным."
   ]
  },
  {
   "cell_type": "code",
   "execution_count": 43,
   "metadata": {},
   "outputs": [
    {
     "name": "stdout",
     "output_type": "stream",
     "text": [
      "p-value: 0.727\n",
      "Разница между группами составляет -3.4% в пользу группы В\n",
      "Нет статистически значимых различий в среднем чеке заказа между группами по «очищенным» данным.\n"
     ]
    }
   ],
   "source": [
    "print('p-value: {0:.3f}'\n",
    "      .format(st.mannwhitneyu(orders\n",
    "                              [np.logical_and(orders['group'] == 'A', \n",
    "                                              np.logical_not(orders['visitor_id'].isin(abnormal_users))\n",
    "                                             )\n",
    "                              ]['revenue'],\n",
    "                              orders\n",
    "                              [np.logical_and(orders['group'] == 'B',\n",
    "                                              np.logical_not(orders['visitor_id'].isin(abnormal_users))\n",
    "                                             )\n",
    "                              ]['revenue']\n",
    "                             )\n",
    "              [1])\n",
    "     )\n",
    "\n",
    "\n",
    "print(\"Разница между группами составляет {0:.1f}% в пользу группы В\"\n",
    "      .format((orders\n",
    "              [np.logical_and(orders['group'] == 'B',\n",
    "                              np.logical_not(orders['visitor_id'].isin(abnormal_users))\n",
    "                             )\n",
    "              ]['revenue'].mean()\n",
    "              / \n",
    "              orders\n",
    "              [np.logical_and(orders['group'] == 'A',\n",
    "                              np.logical_not(orders['visitor_id'].isin(abnormal_users))\n",
    "                              )\n",
    "              ]['revenue'].mean()\n",
    "              - 1) * 100)\n",
    "     ) \n",
    "\n",
    "if (st.mannwhitneyu(orders\n",
    "                              [np.logical_and(orders['group'] == 'A', \n",
    "                                              np.logical_not(orders['visitor_id'].isin(abnormal_users))\n",
    "                                             )\n",
    "                              ]['revenue'],\n",
    "                              orders\n",
    "                              [np.logical_and(orders['group'] == 'B',\n",
    "                                              np.logical_not(orders['visitor_id'].isin(abnormal_users))\n",
    "                                             )\n",
    "                              ]['revenue']\n",
    "                             )\n",
    "              [1] < 0.05):\n",
    "    print('Есть статистически значимые различия в среднем чеке заказа между группами по «очищенным» данным.')\n",
    "else:\n",
    "    print('Нет статистически значимых различий в среднем чеке заказа между группами по «очищенным» данным.')"
   ]
  },
  {
   "cell_type": "markdown",
   "metadata": {},
   "source": [
    "### Принятие решения по результатам теста"
   ]
  },
  {
   "cell_type": "markdown",
   "metadata": {},
   "source": [
    "По результатам проведённого теста можно утверждать:\n",
    "* Есть статистическая разница по количеству заказов между группами, как по \"сырым\", так и по \"очищенным\" данным. Следовательно, пользователи стали чаще делать заказы. \n",
    "* Статистической разницы по среднему чеку между группами нет, как по \"сырым\", так и по \"очищенным\" данным. Разница между сегментами практически исчезла. На это повлияла отчистка от аномальных данных. Следовательно, средний чек заказа не изменился.\n",
    "* Согласно графику различия конверсии между группами результаты группы B лучше группы A. Конверсия группы В стабильно выше на 10%.\n",
    "\n",
    "На основе полученных выводов можно остановить A/B тест. Тест прошел успешно, группа B делает больше заказов, чем группа А."
   ]
  }
 ],
 "metadata": {
  "ExecuteTimeLog": [
   {
    "duration": 445,
    "start_time": "2022-10-11T23:58:44.733Z"
   },
   {
    "duration": 13,
    "start_time": "2022-10-11T23:58:52.052Z"
   },
   {
    "duration": 29,
    "start_time": "2022-10-12T00:05:18.180Z"
   },
   {
    "duration": 2,
    "start_time": "2022-10-12T00:05:31.354Z"
   },
   {
    "duration": 93,
    "start_time": "2022-10-12T00:06:53.130Z"
   },
   {
    "duration": 65,
    "start_time": "2022-10-12T00:07:38.394Z"
   },
   {
    "duration": 11,
    "start_time": "2022-10-12T00:07:56.545Z"
   },
   {
    "duration": 12,
    "start_time": "2022-10-12T00:08:09.194Z"
   },
   {
    "duration": 479,
    "start_time": "2022-10-12T13:33:50.021Z"
   },
   {
    "duration": 94,
    "start_time": "2022-10-12T13:33:57.448Z"
   },
   {
    "duration": 16,
    "start_time": "2022-10-12T13:42:12.617Z"
   },
   {
    "duration": 10,
    "start_time": "2022-10-12T13:42:31.383Z"
   },
   {
    "duration": 12,
    "start_time": "2022-10-12T13:44:01.843Z"
   },
   {
    "duration": 86,
    "start_time": "2022-10-12T14:15:53.170Z"
   },
   {
    "duration": 184,
    "start_time": "2022-10-12T14:15:56.466Z"
   },
   {
    "duration": 11,
    "start_time": "2022-10-12T14:15:59.390Z"
   },
   {
    "duration": 56,
    "start_time": "2022-10-12T14:16:04.242Z"
   },
   {
    "duration": 14,
    "start_time": "2022-10-12T14:16:05.892Z"
   },
   {
    "duration": 319,
    "start_time": "2022-10-12T14:16:43.170Z"
   },
   {
    "duration": 18,
    "start_time": "2022-10-12T14:17:06.090Z"
   },
   {
    "duration": 12,
    "start_time": "2022-10-12T14:17:12.530Z"
   },
   {
    "duration": 3,
    "start_time": "2022-10-12T14:18:54.265Z"
   },
   {
    "duration": 120,
    "start_time": "2022-10-12T14:20:04.546Z"
   },
   {
    "duration": 24,
    "start_time": "2022-10-12T14:21:05.233Z"
   },
   {
    "duration": 19,
    "start_time": "2022-10-12T14:21:11.000Z"
   },
   {
    "duration": 16,
    "start_time": "2022-10-12T14:22:54.280Z"
   },
   {
    "duration": 10,
    "start_time": "2022-10-12T14:22:55.609Z"
   },
   {
    "duration": 6,
    "start_time": "2022-10-12T14:28:06.407Z"
   },
   {
    "duration": 9,
    "start_time": "2022-10-12T14:29:27.439Z"
   },
   {
    "duration": 6,
    "start_time": "2022-10-12T14:33:25.597Z"
   },
   {
    "duration": 16,
    "start_time": "2022-10-12T14:33:28.046Z"
   },
   {
    "duration": 69,
    "start_time": "2022-10-12T14:33:33.646Z"
   },
   {
    "duration": 24,
    "start_time": "2022-10-12T14:33:35.677Z"
   },
   {
    "duration": 8,
    "start_time": "2022-10-12T14:33:39.582Z"
   },
   {
    "duration": 6,
    "start_time": "2022-10-12T14:33:40.934Z"
   },
   {
    "duration": 12,
    "start_time": "2022-10-12T14:33:42.389Z"
   },
   {
    "duration": 14,
    "start_time": "2022-10-12T14:34:54.958Z"
   },
   {
    "duration": 15,
    "start_time": "2022-10-12T14:35:02.924Z"
   },
   {
    "duration": 8,
    "start_time": "2022-10-12T14:35:07.389Z"
   },
   {
    "duration": 16,
    "start_time": "2022-10-12T14:35:10.925Z"
   },
   {
    "duration": 15,
    "start_time": "2022-10-12T14:35:30.165Z"
   },
   {
    "duration": 15,
    "start_time": "2022-10-12T14:36:08.235Z"
   },
   {
    "duration": 7,
    "start_time": "2022-10-12T14:37:37.269Z"
   },
   {
    "duration": 11,
    "start_time": "2022-10-12T14:37:39.973Z"
   },
   {
    "duration": 18,
    "start_time": "2022-10-12T14:37:45.714Z"
   },
   {
    "duration": 3,
    "start_time": "2022-10-12T16:06:49.857Z"
   },
   {
    "duration": 5,
    "start_time": "2022-10-12T16:07:31.721Z"
   },
   {
    "duration": 10,
    "start_time": "2022-10-12T16:07:39.328Z"
   },
   {
    "duration": 23,
    "start_time": "2022-10-12T16:23:10.242Z"
   },
   {
    "duration": 152,
    "start_time": "2022-10-12T16:23:30.222Z"
   },
   {
    "duration": 179,
    "start_time": "2022-10-12T16:27:33.117Z"
   },
   {
    "duration": 9,
    "start_time": "2022-10-12T16:32:00.173Z"
   },
   {
    "duration": 11,
    "start_time": "2022-10-12T16:33:18.980Z"
   },
   {
    "duration": 6,
    "start_time": "2022-10-12T16:34:40.923Z"
   },
   {
    "duration": 563,
    "start_time": "2022-10-12T16:35:24.333Z"
   },
   {
    "duration": 302,
    "start_time": "2022-10-12T16:37:02.187Z"
   },
   {
    "duration": 199,
    "start_time": "2022-10-12T16:37:42.467Z"
   },
   {
    "duration": 239,
    "start_time": "2022-10-12T16:38:12.133Z"
   },
   {
    "duration": 207,
    "start_time": "2022-10-12T16:39:52.810Z"
   },
   {
    "duration": 377,
    "start_time": "2022-10-12T16:41:34.786Z"
   },
   {
    "duration": 214,
    "start_time": "2022-10-12T16:42:01.858Z"
   },
   {
    "duration": 436,
    "start_time": "2022-10-12T16:42:46.538Z"
   },
   {
    "duration": 204,
    "start_time": "2022-10-12T16:47:25.560Z"
   },
   {
    "duration": 212,
    "start_time": "2022-10-12T16:47:32.625Z"
   },
   {
    "duration": 151,
    "start_time": "2022-10-12T16:48:34.465Z"
   },
   {
    "duration": 164,
    "start_time": "2022-10-12T16:48:40.075Z"
   },
   {
    "duration": 225,
    "start_time": "2022-10-12T16:48:48.008Z"
   },
   {
    "duration": 376,
    "start_time": "2022-10-12T16:52:07.760Z"
   },
   {
    "duration": 446,
    "start_time": "2022-10-12T16:52:18.786Z"
   },
   {
    "duration": 257,
    "start_time": "2022-10-12T16:52:30.447Z"
   },
   {
    "duration": 10,
    "start_time": "2022-10-12T16:57:31.783Z"
   },
   {
    "duration": 282,
    "start_time": "2022-10-12T16:57:42.551Z"
   },
   {
    "duration": 189,
    "start_time": "2022-10-12T17:34:16.663Z"
   },
   {
    "duration": 703,
    "start_time": "2022-10-13T12:03:51.059Z"
   },
   {
    "duration": 192,
    "start_time": "2022-10-13T12:04:03.554Z"
   },
   {
    "duration": 17,
    "start_time": "2022-10-13T12:04:05.770Z"
   },
   {
    "duration": 6,
    "start_time": "2022-10-13T12:04:10.475Z"
   },
   {
    "duration": 7,
    "start_time": "2022-10-13T12:04:15.826Z"
   },
   {
    "duration": 16,
    "start_time": "2022-10-13T12:04:20.162Z"
   },
   {
    "duration": 62,
    "start_time": "2022-10-13T12:07:09.658Z"
   },
   {
    "duration": 6,
    "start_time": "2022-10-13T12:07:15.313Z"
   },
   {
    "duration": 143,
    "start_time": "2022-10-13T12:07:15.878Z"
   },
   {
    "duration": 142,
    "start_time": "2022-10-13T12:07:17.490Z"
   },
   {
    "duration": 8,
    "start_time": "2022-10-13T12:07:18.826Z"
   },
   {
    "duration": 15,
    "start_time": "2022-10-13T12:07:25.618Z"
   },
   {
    "duration": 23,
    "start_time": "2022-10-13T12:10:26.210Z"
   },
   {
    "duration": 155,
    "start_time": "2022-10-13T12:10:43.466Z"
   },
   {
    "duration": 115,
    "start_time": "2022-10-13T12:10:50.554Z"
   },
   {
    "duration": 14,
    "start_time": "2022-10-13T12:10:52.985Z"
   },
   {
    "duration": 8,
    "start_time": "2022-10-13T12:13:25.739Z"
   },
   {
    "duration": 17,
    "start_time": "2022-10-13T12:13:33.236Z"
   },
   {
    "duration": 13,
    "start_time": "2022-10-13T12:13:42.305Z"
   },
   {
    "duration": 5,
    "start_time": "2022-10-13T12:14:45.401Z"
   },
   {
    "duration": 337,
    "start_time": "2022-10-13T12:14:47.553Z"
   },
   {
    "duration": 230,
    "start_time": "2022-10-13T12:15:10.001Z"
   },
   {
    "duration": 4,
    "start_time": "2022-10-13T12:16:47.785Z"
   },
   {
    "duration": 220,
    "start_time": "2022-10-13T12:17:04.542Z"
   },
   {
    "duration": 284,
    "start_time": "2022-10-13T12:17:32.164Z"
   },
   {
    "duration": 11,
    "start_time": "2022-10-13T12:21:15.240Z"
   },
   {
    "duration": 30,
    "start_time": "2022-10-13T12:21:28.784Z"
   },
   {
    "duration": 214,
    "start_time": "2022-10-13T12:25:04.575Z"
   },
   {
    "duration": 222,
    "start_time": "2022-10-13T12:26:39.903Z"
   },
   {
    "duration": 7,
    "start_time": "2022-10-13T12:26:44.199Z"
   },
   {
    "duration": 212,
    "start_time": "2022-10-13T12:26:45.522Z"
   },
   {
    "duration": 222,
    "start_time": "2022-10-13T12:27:45.271Z"
   },
   {
    "duration": 16,
    "start_time": "2022-10-13T12:29:40.454Z"
   },
   {
    "duration": 14,
    "start_time": "2022-10-13T12:29:49.831Z"
   },
   {
    "duration": 204,
    "start_time": "2022-10-13T12:37:54.141Z"
   },
   {
    "duration": 203,
    "start_time": "2022-10-13T12:38:56.574Z"
   },
   {
    "duration": 385,
    "start_time": "2022-10-13T12:39:33.925Z"
   },
   {
    "duration": 256,
    "start_time": "2022-10-13T12:40:55.820Z"
   },
   {
    "duration": 307,
    "start_time": "2022-10-13T12:40:59.748Z"
   },
   {
    "duration": 263,
    "start_time": "2022-10-13T12:43:45.316Z"
   },
   {
    "duration": 274,
    "start_time": "2022-10-13T12:47:19.292Z"
   },
   {
    "duration": 293,
    "start_time": "2022-10-13T12:48:05.548Z"
   },
   {
    "duration": 11,
    "start_time": "2022-10-13T12:55:12.314Z"
   },
   {
    "duration": 11,
    "start_time": "2022-10-13T12:55:46.115Z"
   },
   {
    "duration": 11,
    "start_time": "2022-10-13T12:56:45.098Z"
   },
   {
    "duration": 9,
    "start_time": "2022-10-13T12:57:21.266Z"
   },
   {
    "duration": 6,
    "start_time": "2022-10-13T12:58:10.890Z"
   },
   {
    "duration": 8,
    "start_time": "2022-10-13T12:59:58.713Z"
   },
   {
    "duration": 108,
    "start_time": "2022-10-13T13:00:17.114Z"
   },
   {
    "duration": 158,
    "start_time": "2022-10-13T13:01:07.010Z"
   },
   {
    "duration": 5,
    "start_time": "2022-10-13T13:02:38.113Z"
   },
   {
    "duration": 176,
    "start_time": "2022-10-13T13:05:12.889Z"
   },
   {
    "duration": 5,
    "start_time": "2022-10-13T13:06:09.817Z"
   },
   {
    "duration": 794,
    "start_time": "2022-10-13T21:22:06.857Z"
   },
   {
    "duration": 53,
    "start_time": "2022-10-13T21:22:07.653Z"
   },
   {
    "duration": 11,
    "start_time": "2022-10-13T21:22:07.708Z"
   },
   {
    "duration": 16,
    "start_time": "2022-10-13T21:22:07.720Z"
   },
   {
    "duration": 93,
    "start_time": "2022-10-13T21:22:07.738Z"
   },
   {
    "duration": 15,
    "start_time": "2022-10-13T21:22:07.833Z"
   },
   {
    "duration": 15,
    "start_time": "2022-10-13T21:22:07.849Z"
   },
   {
    "duration": 13,
    "start_time": "2022-10-13T21:22:07.865Z"
   },
   {
    "duration": 22,
    "start_time": "2022-10-13T21:22:07.879Z"
   },
   {
    "duration": 4,
    "start_time": "2022-10-13T21:22:07.903Z"
   },
   {
    "duration": 172,
    "start_time": "2022-10-13T21:22:07.908Z"
   },
   {
    "duration": 131,
    "start_time": "2022-10-13T21:22:08.082Z"
   },
   {
    "duration": 19,
    "start_time": "2022-10-13T21:22:08.215Z"
   },
   {
    "duration": 21,
    "start_time": "2022-10-13T21:22:08.236Z"
   },
   {
    "duration": 27,
    "start_time": "2022-10-13T21:22:08.259Z"
   },
   {
    "duration": 325,
    "start_time": "2022-10-13T21:22:08.288Z"
   },
   {
    "duration": 283,
    "start_time": "2022-10-13T21:22:08.615Z"
   },
   {
    "duration": 442,
    "start_time": "2022-10-13T21:22:08.900Z"
   },
   {
    "duration": 326,
    "start_time": "2022-10-13T21:22:09.343Z"
   },
   {
    "duration": 323,
    "start_time": "2022-10-13T21:22:09.671Z"
   },
   {
    "duration": 8,
    "start_time": "2022-10-13T21:22:09.996Z"
   },
   {
    "duration": 203,
    "start_time": "2022-10-13T21:22:10.006Z"
   },
   {
    "duration": 6,
    "start_time": "2022-10-13T21:22:10.211Z"
   },
   {
    "duration": 195,
    "start_time": "2022-10-13T21:22:10.219Z"
   },
   {
    "duration": 5,
    "start_time": "2022-10-13T21:22:10.415Z"
   },
   {
    "duration": 10,
    "start_time": "2022-10-13T23:35:22.708Z"
   },
   {
    "duration": 13,
    "start_time": "2022-10-13T23:40:05.126Z"
   },
   {
    "duration": 114,
    "start_time": "2022-10-13T23:49:37.148Z"
   },
   {
    "duration": 98,
    "start_time": "2022-10-13T23:50:55.460Z"
   },
   {
    "duration": 161,
    "start_time": "2022-10-13T23:50:57.516Z"
   },
   {
    "duration": 4,
    "start_time": "2022-10-13T23:54:22.234Z"
   },
   {
    "duration": 11,
    "start_time": "2022-10-13T23:54:45.355Z"
   },
   {
    "duration": 12,
    "start_time": "2022-10-13T23:54:50.322Z"
   },
   {
    "duration": 4,
    "start_time": "2022-10-13T23:55:00.323Z"
   },
   {
    "duration": 12,
    "start_time": "2022-10-13T23:55:11.738Z"
   },
   {
    "duration": 4,
    "start_time": "2022-10-13T23:55:16.107Z"
   },
   {
    "duration": 12,
    "start_time": "2022-10-13T23:55:32.418Z"
   },
   {
    "duration": 5,
    "start_time": "2022-10-13T23:55:36.179Z"
   },
   {
    "duration": 12,
    "start_time": "2022-10-13T23:57:20.225Z"
   },
   {
    "duration": 1765,
    "start_time": "2022-10-14T00:02:11.573Z"
   },
   {
    "duration": 5,
    "start_time": "2022-10-14T00:02:23.881Z"
   },
   {
    "duration": 7,
    "start_time": "2022-10-14T00:02:30.898Z"
   },
   {
    "duration": 9,
    "start_time": "2022-10-14T00:04:27.304Z"
   },
   {
    "duration": 7,
    "start_time": "2022-10-14T00:04:33.936Z"
   },
   {
    "duration": 10,
    "start_time": "2022-10-14T00:05:10.312Z"
   },
   {
    "duration": 9,
    "start_time": "2022-10-14T00:05:13.144Z"
   },
   {
    "duration": 614,
    "start_time": "2022-10-14T00:05:51.142Z"
   },
   {
    "duration": 24,
    "start_time": "2022-10-14T00:05:51.757Z"
   },
   {
    "duration": 10,
    "start_time": "2022-10-14T00:05:51.782Z"
   },
   {
    "duration": 9,
    "start_time": "2022-10-14T00:05:51.794Z"
   },
   {
    "duration": 35,
    "start_time": "2022-10-14T00:05:51.805Z"
   },
   {
    "duration": 15,
    "start_time": "2022-10-14T00:05:51.841Z"
   },
   {
    "duration": 9,
    "start_time": "2022-10-14T00:05:51.858Z"
   },
   {
    "duration": 8,
    "start_time": "2022-10-14T00:05:51.868Z"
   },
   {
    "duration": 20,
    "start_time": "2022-10-14T00:05:51.877Z"
   },
   {
    "duration": 14,
    "start_time": "2022-10-14T00:05:51.898Z"
   },
   {
    "duration": 174,
    "start_time": "2022-10-14T00:05:51.914Z"
   },
   {
    "duration": 127,
    "start_time": "2022-10-14T00:05:52.090Z"
   },
   {
    "duration": 28,
    "start_time": "2022-10-14T00:05:52.219Z"
   },
   {
    "duration": 7,
    "start_time": "2022-10-14T00:05:52.249Z"
   },
   {
    "duration": 22,
    "start_time": "2022-10-14T00:05:52.257Z"
   },
   {
    "duration": 320,
    "start_time": "2022-10-14T00:05:52.281Z"
   },
   {
    "duration": 245,
    "start_time": "2022-10-14T00:05:52.602Z"
   },
   {
    "duration": 335,
    "start_time": "2022-10-14T00:05:52.848Z"
   },
   {
    "duration": 332,
    "start_time": "2022-10-14T00:05:53.185Z"
   },
   {
    "duration": 355,
    "start_time": "2022-10-14T00:05:53.518Z"
   },
   {
    "duration": 106,
    "start_time": "2022-10-14T00:05:53.875Z"
   },
   {
    "duration": 195,
    "start_time": "2022-10-14T00:05:53.982Z"
   },
   {
    "duration": 6,
    "start_time": "2022-10-14T00:05:54.179Z"
   },
   {
    "duration": 211,
    "start_time": "2022-10-14T00:05:54.186Z"
   },
   {
    "duration": 4,
    "start_time": "2022-10-14T00:05:54.399Z"
   },
   {
    "duration": 5,
    "start_time": "2022-10-14T00:05:58.932Z"
   },
   {
    "duration": 5,
    "start_time": "2022-10-14T00:06:04.652Z"
   },
   {
    "duration": 7,
    "start_time": "2022-10-14T00:06:12.660Z"
   },
   {
    "duration": 71,
    "start_time": "2022-10-14T00:07:26.916Z"
   },
   {
    "duration": 69,
    "start_time": "2022-10-14T00:08:00.204Z"
   },
   {
    "duration": 5,
    "start_time": "2022-10-14T00:08:20.443Z"
   },
   {
    "duration": 71,
    "start_time": "2022-10-14T00:08:23.093Z"
   },
   {
    "duration": 1503,
    "start_time": "2022-10-14T00:10:32.603Z"
   },
   {
    "duration": 7,
    "start_time": "2022-10-14T00:10:49.187Z"
   },
   {
    "duration": 10,
    "start_time": "2022-10-14T00:11:19.379Z"
   },
   {
    "duration": 5,
    "start_time": "2022-10-14T00:11:31.827Z"
   },
   {
    "duration": 5,
    "start_time": "2022-10-14T00:11:34.539Z"
   },
   {
    "duration": 6,
    "start_time": "2022-10-14T00:12:04.475Z"
   },
   {
    "duration": 8,
    "start_time": "2022-10-14T00:15:59.955Z"
   },
   {
    "duration": 8,
    "start_time": "2022-10-14T00:16:43.386Z"
   },
   {
    "duration": 43,
    "start_time": "2022-10-14T00:17:18.090Z"
   },
   {
    "duration": 387,
    "start_time": "2022-10-14T00:17:22.059Z"
   },
   {
    "duration": 24,
    "start_time": "2022-10-14T00:17:23.273Z"
   },
   {
    "duration": 22,
    "start_time": "2022-10-14T00:17:40.241Z"
   },
   {
    "duration": 24,
    "start_time": "2022-10-14T00:17:48.961Z"
   },
   {
    "duration": 5,
    "start_time": "2022-10-14T00:20:06.905Z"
   },
   {
    "duration": 11,
    "start_time": "2022-10-14T00:20:15.273Z"
   },
   {
    "duration": 31,
    "start_time": "2022-10-14T00:20:25.501Z"
   },
   {
    "duration": 9,
    "start_time": "2022-10-14T00:21:13.922Z"
   },
   {
    "duration": 5,
    "start_time": "2022-10-14T00:21:22.305Z"
   },
   {
    "duration": 23,
    "start_time": "2022-10-14T00:21:39.944Z"
   },
   {
    "duration": 6,
    "start_time": "2022-10-14T00:22:37.592Z"
   },
   {
    "duration": 8,
    "start_time": "2022-10-14T00:22:42.776Z"
   },
   {
    "duration": 7,
    "start_time": "2022-10-14T00:22:46.338Z"
   },
   {
    "duration": 10,
    "start_time": "2022-10-14T00:30:35.887Z"
   },
   {
    "duration": 25,
    "start_time": "2022-10-14T00:33:28.662Z"
   },
   {
    "duration": 23,
    "start_time": "2022-10-14T00:33:52.538Z"
   },
   {
    "duration": 21,
    "start_time": "2022-10-14T00:34:03.062Z"
   },
   {
    "duration": 25,
    "start_time": "2022-10-14T00:34:11.494Z"
   },
   {
    "duration": 25,
    "start_time": "2022-10-14T00:34:16.254Z"
   },
   {
    "duration": 22,
    "start_time": "2022-10-14T00:35:27.477Z"
   },
   {
    "duration": 9,
    "start_time": "2022-10-14T00:38:24.789Z"
   },
   {
    "duration": 20,
    "start_time": "2022-10-14T00:38:31.165Z"
   },
   {
    "duration": 23,
    "start_time": "2022-10-14T00:39:00.949Z"
   },
   {
    "duration": 7,
    "start_time": "2022-10-14T00:39:56.877Z"
   },
   {
    "duration": 22,
    "start_time": "2022-10-14T00:40:01.772Z"
   },
   {
    "duration": 23,
    "start_time": "2022-10-14T00:40:02.532Z"
   },
   {
    "duration": 3,
    "start_time": "2022-10-14T00:40:35.132Z"
   },
   {
    "duration": 22,
    "start_time": "2022-10-14T00:40:36.756Z"
   },
   {
    "duration": 3,
    "start_time": "2022-10-14T00:40:46.876Z"
   },
   {
    "duration": 23,
    "start_time": "2022-10-14T00:42:52.107Z"
   },
   {
    "duration": 205,
    "start_time": "2022-10-14T00:46:09.332Z"
   },
   {
    "duration": 14,
    "start_time": "2022-10-14T00:46:32.443Z"
   },
   {
    "duration": 138,
    "start_time": "2022-10-14T00:47:13.419Z"
   },
   {
    "duration": 15,
    "start_time": "2022-10-14T00:47:35.556Z"
   },
   {
    "duration": 123,
    "start_time": "2022-10-14T00:48:03.251Z"
   },
   {
    "duration": 26,
    "start_time": "2022-10-14T00:48:04.027Z"
   },
   {
    "duration": 88,
    "start_time": "2022-10-14T01:18:16.603Z"
   },
   {
    "duration": 45,
    "start_time": "2022-10-14T01:19:25.987Z"
   },
   {
    "duration": 45,
    "start_time": "2022-10-14T01:19:29.866Z"
   },
   {
    "duration": 51,
    "start_time": "2022-10-14T01:19:47.436Z"
   },
   {
    "duration": 51,
    "start_time": "2022-10-14T01:19:51.659Z"
   },
   {
    "duration": 22,
    "start_time": "2022-10-14T01:21:43.635Z"
   },
   {
    "duration": 25,
    "start_time": "2022-10-14T01:22:26.546Z"
   },
   {
    "duration": 11,
    "start_time": "2022-10-14T01:28:14.865Z"
   },
   {
    "duration": 866,
    "start_time": "2022-10-14T01:28:36.017Z"
   },
   {
    "duration": 0,
    "start_time": "2022-10-14T01:28:36.885Z"
   },
   {
    "duration": 9,
    "start_time": "2022-10-14T01:29:39.497Z"
   },
   {
    "duration": 22,
    "start_time": "2022-10-14T01:29:40.785Z"
   },
   {
    "duration": 21,
    "start_time": "2022-10-14T01:31:23.113Z"
   },
   {
    "duration": 21,
    "start_time": "2022-10-14T01:31:40.688Z"
   },
   {
    "duration": 9,
    "start_time": "2022-10-14T01:33:27.712Z"
   },
   {
    "duration": 22,
    "start_time": "2022-10-14T01:33:28.799Z"
   },
   {
    "duration": 9,
    "start_time": "2022-10-14T01:33:39.000Z"
   },
   {
    "duration": 10,
    "start_time": "2022-10-14T01:41:44.039Z"
   },
   {
    "duration": 14,
    "start_time": "2022-10-14T01:41:48.117Z"
   },
   {
    "duration": 10,
    "start_time": "2022-10-14T01:41:51.645Z"
   },
   {
    "duration": 23,
    "start_time": "2022-10-14T01:42:19.709Z"
   },
   {
    "duration": 22,
    "start_time": "2022-10-14T01:42:30.582Z"
   },
   {
    "duration": 28,
    "start_time": "2022-10-14T01:49:46.180Z"
   },
   {
    "duration": 70,
    "start_time": "2022-10-14T01:50:04.060Z"
   },
   {
    "duration": 22,
    "start_time": "2022-10-14T01:50:17.468Z"
   },
   {
    "duration": 22,
    "start_time": "2022-10-14T01:50:24.228Z"
   },
   {
    "duration": 21,
    "start_time": "2022-10-14T01:50:27.748Z"
   },
   {
    "duration": 39,
    "start_time": "2022-10-14T01:52:22.028Z"
   },
   {
    "duration": 40,
    "start_time": "2022-10-14T01:55:07.411Z"
   },
   {
    "duration": 44,
    "start_time": "2022-10-14T01:56:29.699Z"
   },
   {
    "duration": 38,
    "start_time": "2022-10-14T01:56:46.019Z"
   },
   {
    "duration": 39,
    "start_time": "2022-10-14T01:57:03.882Z"
   },
   {
    "duration": 38,
    "start_time": "2022-10-14T01:57:51.906Z"
   },
   {
    "duration": 14,
    "start_time": "2022-10-14T02:01:23.930Z"
   },
   {
    "duration": 729,
    "start_time": "2022-10-14T02:09:23.080Z"
   },
   {
    "duration": 669,
    "start_time": "2022-10-14T02:09:54.695Z"
   },
   {
    "duration": 7,
    "start_time": "2022-10-14T02:10:33.943Z"
   },
   {
    "duration": 752,
    "start_time": "2022-10-14T02:11:23.591Z"
   },
   {
    "duration": 14,
    "start_time": "2022-10-14T02:11:39.214Z"
   },
   {
    "duration": 8,
    "start_time": "2022-10-14T02:11:47.903Z"
   },
   {
    "duration": 9,
    "start_time": "2022-10-14T03:40:50.626Z"
   },
   {
    "duration": 6,
    "start_time": "2022-10-14T03:41:06.042Z"
   },
   {
    "duration": 7,
    "start_time": "2022-10-14T03:43:05.386Z"
   },
   {
    "duration": 719,
    "start_time": "2022-10-14T03:44:46.281Z"
   },
   {
    "duration": 7,
    "start_time": "2022-10-14T03:45:11.409Z"
   },
   {
    "duration": 22,
    "start_time": "2022-10-14T03:45:45.248Z"
   },
   {
    "duration": 20,
    "start_time": "2022-10-14T03:47:05.713Z"
   },
   {
    "duration": 14,
    "start_time": "2022-10-14T03:48:33.008Z"
   },
   {
    "duration": 1298,
    "start_time": "2022-10-14T12:57:47.760Z"
   },
   {
    "duration": 91,
    "start_time": "2022-10-14T12:57:49.060Z"
   },
   {
    "duration": 13,
    "start_time": "2022-10-14T12:57:49.153Z"
   },
   {
    "duration": 11,
    "start_time": "2022-10-14T12:57:49.169Z"
   },
   {
    "duration": 165,
    "start_time": "2022-10-14T12:57:49.181Z"
   },
   {
    "duration": 17,
    "start_time": "2022-10-14T12:57:49.348Z"
   },
   {
    "duration": 6,
    "start_time": "2022-10-14T12:57:49.367Z"
   },
   {
    "duration": 7,
    "start_time": "2022-10-14T12:57:49.375Z"
   },
   {
    "duration": 21,
    "start_time": "2022-10-14T12:57:49.383Z"
   },
   {
    "duration": 7,
    "start_time": "2022-10-14T12:57:49.407Z"
   },
   {
    "duration": 182,
    "start_time": "2022-10-14T12:57:49.416Z"
   },
   {
    "duration": 136,
    "start_time": "2022-10-14T12:57:49.600Z"
   },
   {
    "duration": 14,
    "start_time": "2022-10-14T12:57:49.738Z"
   },
   {
    "duration": 12,
    "start_time": "2022-10-14T12:57:49.754Z"
   },
   {
    "duration": 32,
    "start_time": "2022-10-14T12:57:49.768Z"
   },
   {
    "duration": 342,
    "start_time": "2022-10-14T12:57:49.802Z"
   },
   {
    "duration": 269,
    "start_time": "2022-10-14T12:57:50.146Z"
   },
   {
    "duration": 379,
    "start_time": "2022-10-14T12:57:50.416Z"
   },
   {
    "duration": 297,
    "start_time": "2022-10-14T12:57:50.797Z"
   },
   {
    "duration": 380,
    "start_time": "2022-10-14T12:57:51.096Z"
   },
   {
    "duration": 89,
    "start_time": "2022-10-14T12:57:51.478Z"
   },
   {
    "duration": 185,
    "start_time": "2022-10-14T12:57:51.569Z"
   },
   {
    "duration": 5,
    "start_time": "2022-10-14T12:57:51.756Z"
   },
   {
    "duration": 203,
    "start_time": "2022-10-14T12:57:51.763Z"
   },
   {
    "duration": 5,
    "start_time": "2022-10-14T12:57:51.967Z"
   },
   {
    "duration": 60,
    "start_time": "2022-10-14T12:57:51.974Z"
   },
   {
    "duration": 51,
    "start_time": "2022-10-14T12:57:52.035Z"
   },
   {
    "duration": 56,
    "start_time": "2022-10-14T12:57:52.094Z"
   },
   {
    "duration": 72,
    "start_time": "2022-10-14T12:57:52.152Z"
   },
   {
    "duration": 25,
    "start_time": "2022-10-14T12:57:52.225Z"
   },
   {
    "duration": 10,
    "start_time": "2022-10-14T12:57:52.252Z"
   },
   {
    "duration": 8,
    "start_time": "2022-10-14T12:57:52.264Z"
   },
   {
    "duration": 57,
    "start_time": "2022-10-14T12:57:52.274Z"
   },
   {
    "duration": 16,
    "start_time": "2022-10-14T12:57:52.333Z"
   },
   {
    "duration": 7,
    "start_time": "2022-10-14T12:57:52.351Z"
   },
   {
    "duration": 35,
    "start_time": "2022-10-14T12:57:52.360Z"
   },
   {
    "duration": 28,
    "start_time": "2022-10-14T12:57:52.397Z"
   },
   {
    "duration": 16,
    "start_time": "2022-10-14T12:57:52.426Z"
   },
   {
    "duration": 8,
    "start_time": "2022-10-14T13:04:19.607Z"
   },
   {
    "duration": 22,
    "start_time": "2022-10-14T13:04:20.130Z"
   },
   {
    "duration": 14,
    "start_time": "2022-10-14T13:12:38.220Z"
   },
   {
    "duration": 38,
    "start_time": "2022-10-14T13:13:56.466Z"
   },
   {
    "duration": 16,
    "start_time": "2022-10-14T13:15:38.152Z"
   },
   {
    "duration": 20,
    "start_time": "2022-10-14T13:15:42.608Z"
   },
   {
    "duration": 37,
    "start_time": "2022-10-14T13:16:05.248Z"
   },
   {
    "duration": 41,
    "start_time": "2022-10-14T13:16:09.960Z"
   },
   {
    "duration": 37,
    "start_time": "2022-10-14T13:16:19.713Z"
   },
   {
    "duration": 95,
    "start_time": "2022-10-14T13:16:59.184Z"
   },
   {
    "duration": 18,
    "start_time": "2022-10-14T13:17:08.801Z"
   },
   {
    "duration": 17,
    "start_time": "2022-10-14T13:17:18.280Z"
   },
   {
    "duration": 6,
    "start_time": "2022-10-14T13:30:11.280Z"
   },
   {
    "duration": 19,
    "start_time": "2022-10-14T13:30:23.044Z"
   },
   {
    "duration": 20,
    "start_time": "2022-10-14T13:31:53.749Z"
   },
   {
    "duration": 214,
    "start_time": "2022-10-14T13:47:53.940Z"
   },
   {
    "duration": 243,
    "start_time": "2022-10-14T13:48:58.447Z"
   },
   {
    "duration": 326,
    "start_time": "2022-10-14T13:50:47.671Z"
   },
   {
    "duration": 181,
    "start_time": "2022-10-14T13:50:57.363Z"
   },
   {
    "duration": 200,
    "start_time": "2022-10-14T13:51:39.768Z"
   },
   {
    "duration": 194,
    "start_time": "2022-10-14T13:51:52.583Z"
   },
   {
    "duration": 38,
    "start_time": "2022-10-14T13:57:08.607Z"
   },
   {
    "duration": 15,
    "start_time": "2022-10-14T13:57:16.110Z"
   },
   {
    "duration": 19,
    "start_time": "2022-10-14T13:57:54.654Z"
   },
   {
    "duration": 166,
    "start_time": "2022-10-14T14:12:55.489Z"
   },
   {
    "duration": 154,
    "start_time": "2022-10-14T14:33:07.162Z"
   },
   {
    "duration": 165,
    "start_time": "2022-10-14T14:33:09.979Z"
   },
   {
    "duration": 11,
    "start_time": "2022-10-14T14:33:37.155Z"
   },
   {
    "duration": 145,
    "start_time": "2022-10-14T14:34:31.266Z"
   },
   {
    "duration": 22,
    "start_time": "2022-10-14T14:36:07.810Z"
   },
   {
    "duration": 113,
    "start_time": "2022-10-14T14:36:33.658Z"
   },
   {
    "duration": 1236,
    "start_time": "2022-10-14T15:18:10.235Z"
   },
   {
    "duration": 44,
    "start_time": "2022-10-14T15:18:11.473Z"
   },
   {
    "duration": 13,
    "start_time": "2022-10-14T15:18:11.518Z"
   },
   {
    "duration": 24,
    "start_time": "2022-10-14T15:18:11.533Z"
   },
   {
    "duration": 81,
    "start_time": "2022-10-14T15:18:11.559Z"
   },
   {
    "duration": 17,
    "start_time": "2022-10-14T15:18:11.642Z"
   },
   {
    "duration": 10,
    "start_time": "2022-10-14T15:18:11.660Z"
   },
   {
    "duration": 48,
    "start_time": "2022-10-14T15:18:11.671Z"
   },
   {
    "duration": 48,
    "start_time": "2022-10-14T15:18:11.721Z"
   },
   {
    "duration": 29,
    "start_time": "2022-10-14T15:18:11.770Z"
   },
   {
    "duration": 185,
    "start_time": "2022-10-14T15:18:11.801Z"
   },
   {
    "duration": 131,
    "start_time": "2022-10-14T15:18:11.987Z"
   },
   {
    "duration": 43,
    "start_time": "2022-10-14T15:18:12.119Z"
   },
   {
    "duration": 12,
    "start_time": "2022-10-14T15:18:12.165Z"
   },
   {
    "duration": 36,
    "start_time": "2022-10-14T15:18:12.179Z"
   },
   {
    "duration": 351,
    "start_time": "2022-10-14T15:18:12.217Z"
   },
   {
    "duration": 304,
    "start_time": "2022-10-14T15:18:12.570Z"
   },
   {
    "duration": 434,
    "start_time": "2022-10-14T15:18:12.876Z"
   },
   {
    "duration": 297,
    "start_time": "2022-10-14T15:18:13.312Z"
   },
   {
    "duration": 373,
    "start_time": "2022-10-14T15:18:13.611Z"
   },
   {
    "duration": 96,
    "start_time": "2022-10-14T15:18:13.986Z"
   },
   {
    "duration": 210,
    "start_time": "2022-10-14T15:18:14.083Z"
   },
   {
    "duration": 5,
    "start_time": "2022-10-14T15:18:14.295Z"
   },
   {
    "duration": 207,
    "start_time": "2022-10-14T15:18:14.309Z"
   },
   {
    "duration": 5,
    "start_time": "2022-10-14T15:18:14.518Z"
   },
   {
    "duration": 47,
    "start_time": "2022-10-14T15:18:14.525Z"
   },
   {
    "duration": 63,
    "start_time": "2022-10-14T15:18:14.574Z"
   },
   {
    "duration": 55,
    "start_time": "2022-10-14T15:18:14.639Z"
   },
   {
    "duration": 63,
    "start_time": "2022-10-14T15:18:14.695Z"
   },
   {
    "duration": 24,
    "start_time": "2022-10-14T15:18:14.760Z"
   },
   {
    "duration": 28,
    "start_time": "2022-10-14T15:18:14.786Z"
   },
   {
    "duration": 7,
    "start_time": "2022-10-14T15:18:14.816Z"
   },
   {
    "duration": 47,
    "start_time": "2022-10-14T15:18:14.825Z"
   },
   {
    "duration": 13,
    "start_time": "2022-10-14T15:18:14.873Z"
   },
   {
    "duration": 26,
    "start_time": "2022-10-14T15:18:14.888Z"
   },
   {
    "duration": 20,
    "start_time": "2022-10-14T15:18:14.916Z"
   },
   {
    "duration": 39,
    "start_time": "2022-10-14T15:18:14.938Z"
   },
   {
    "duration": 29,
    "start_time": "2022-10-14T15:18:14.980Z"
   },
   {
    "duration": 1266,
    "start_time": "2022-10-15T12:52:43.870Z"
   },
   {
    "duration": 113,
    "start_time": "2022-10-15T12:52:45.139Z"
   },
   {
    "duration": 12,
    "start_time": "2022-10-15T12:52:45.254Z"
   },
   {
    "duration": 11,
    "start_time": "2022-10-15T12:52:45.268Z"
   },
   {
    "duration": 170,
    "start_time": "2022-10-15T12:52:45.281Z"
   },
   {
    "duration": 18,
    "start_time": "2022-10-15T12:52:45.453Z"
   },
   {
    "duration": 15,
    "start_time": "2022-10-15T12:52:45.473Z"
   },
   {
    "duration": 13,
    "start_time": "2022-10-15T12:52:45.490Z"
   },
   {
    "duration": 27,
    "start_time": "2022-10-15T12:52:45.506Z"
   },
   {
    "duration": 126,
    "start_time": "2022-10-15T12:54:25.443Z"
   },
   {
    "duration": 13,
    "start_time": "2022-10-15T12:54:45.016Z"
   },
   {
    "duration": 10,
    "start_time": "2022-10-15T12:55:28.467Z"
   },
   {
    "duration": 8,
    "start_time": "2022-10-15T12:55:59.115Z"
   },
   {
    "duration": 16,
    "start_time": "2022-10-15T12:58:27.954Z"
   },
   {
    "duration": 1294,
    "start_time": "2022-10-15T12:59:09.219Z"
   },
   {
    "duration": 12,
    "start_time": "2022-10-15T12:59:24.613Z"
   },
   {
    "duration": 1166,
    "start_time": "2022-10-15T13:13:29.457Z"
   },
   {
    "duration": 36,
    "start_time": "2022-10-15T13:13:33.121Z"
   },
   {
    "duration": 27,
    "start_time": "2022-10-15T13:13:35.184Z"
   },
   {
    "duration": 11,
    "start_time": "2022-10-15T13:13:36.952Z"
   },
   {
    "duration": 72,
    "start_time": "2022-10-15T13:13:41.480Z"
   },
   {
    "duration": 20,
    "start_time": "2022-10-15T13:13:43.568Z"
   },
   {
    "duration": 7,
    "start_time": "2022-10-15T13:13:44.941Z"
   },
   {
    "duration": 8,
    "start_time": "2022-10-15T13:13:47.425Z"
   },
   {
    "duration": 14,
    "start_time": "2022-10-15T13:14:13.305Z"
   },
   {
    "duration": 7,
    "start_time": "2022-10-15T13:14:15.649Z"
   },
   {
    "duration": 37,
    "start_time": "2022-10-15T13:14:16.953Z"
   },
   {
    "duration": 26,
    "start_time": "2022-10-15T13:14:23.193Z"
   },
   {
    "duration": 8,
    "start_time": "2022-10-15T13:14:27.433Z"
   },
   {
    "duration": 122,
    "start_time": "2022-10-15T13:14:29.993Z"
   },
   {
    "duration": 9,
    "start_time": "2022-10-15T13:15:22.145Z"
   },
   {
    "duration": 22,
    "start_time": "2022-10-15T13:15:29.041Z"
   },
   {
    "duration": 58,
    "start_time": "2022-10-15T13:15:47.153Z"
   },
   {
    "duration": 55,
    "start_time": "2022-10-15T13:15:47.529Z"
   },
   {
    "duration": 60,
    "start_time": "2022-10-15T13:15:48.193Z"
   },
   {
    "duration": 58,
    "start_time": "2022-10-15T13:15:49.016Z"
   },
   {
    "duration": 43,
    "start_time": "2022-10-15T13:15:51.136Z"
   },
   {
    "duration": 9,
    "start_time": "2022-10-15T13:16:13.761Z"
   },
   {
    "duration": 36,
    "start_time": "2022-10-15T13:16:18.858Z"
   },
   {
    "duration": 10,
    "start_time": "2022-10-15T13:19:04.327Z"
   },
   {
    "duration": 45,
    "start_time": "2022-10-15T13:19:06.168Z"
   },
   {
    "duration": 7,
    "start_time": "2022-10-15T13:51:56.710Z"
   },
   {
    "duration": 1091,
    "start_time": "2022-10-15T13:56:49.591Z"
   },
   {
    "duration": 9,
    "start_time": "2022-10-15T13:56:54.975Z"
   },
   {
    "duration": 8,
    "start_time": "2022-10-15T13:57:00.167Z"
   },
   {
    "duration": 8,
    "start_time": "2022-10-15T13:57:55.575Z"
   },
   {
    "duration": 8,
    "start_time": "2022-10-15T13:58:00.159Z"
   },
   {
    "duration": 8,
    "start_time": "2022-10-15T13:59:58.566Z"
   },
   {
    "duration": 8,
    "start_time": "2022-10-15T14:02:03.830Z"
   },
   {
    "duration": 304,
    "start_time": "2022-10-15T14:02:58.170Z"
   },
   {
    "duration": 9,
    "start_time": "2022-10-15T14:03:11.885Z"
   },
   {
    "duration": 8,
    "start_time": "2022-10-15T14:03:16.053Z"
   },
   {
    "duration": 10,
    "start_time": "2022-10-15T14:03:50.893Z"
   },
   {
    "duration": 8,
    "start_time": "2022-10-15T14:04:08.581Z"
   },
   {
    "duration": 11,
    "start_time": "2022-10-15T14:04:26.981Z"
   },
   {
    "duration": 13,
    "start_time": "2022-10-15T14:05:03.069Z"
   },
   {
    "duration": 10,
    "start_time": "2022-10-15T14:05:24.429Z"
   },
   {
    "duration": 12,
    "start_time": "2022-10-15T14:05:26.270Z"
   },
   {
    "duration": 5,
    "start_time": "2022-10-15T14:08:21.997Z"
   },
   {
    "duration": 14,
    "start_time": "2022-10-15T14:08:29.324Z"
   },
   {
    "duration": 12,
    "start_time": "2022-10-15T14:08:46.053Z"
   },
   {
    "duration": 10,
    "start_time": "2022-10-15T14:09:37.909Z"
   },
   {
    "duration": 13,
    "start_time": "2022-10-15T14:10:07.036Z"
   },
   {
    "duration": 13,
    "start_time": "2022-10-15T14:11:17.588Z"
   },
   {
    "duration": 4,
    "start_time": "2022-10-15T14:11:40.300Z"
   },
   {
    "duration": 6,
    "start_time": "2022-10-15T14:12:56.155Z"
   },
   {
    "duration": 163,
    "start_time": "2022-10-15T14:12:57.635Z"
   },
   {
    "duration": 124,
    "start_time": "2022-10-15T14:13:02.348Z"
   },
   {
    "duration": 15,
    "start_time": "2022-10-15T14:13:03.780Z"
   },
   {
    "duration": 5,
    "start_time": "2022-10-15T14:13:13.443Z"
   },
   {
    "duration": 24,
    "start_time": "2022-10-15T14:13:15.140Z"
   },
   {
    "duration": 320,
    "start_time": "2022-10-15T14:13:17.892Z"
   },
   {
    "duration": 266,
    "start_time": "2022-10-15T14:14:28.923Z"
   },
   {
    "duration": 242,
    "start_time": "2022-10-15T14:15:08.332Z"
   },
   {
    "duration": 260,
    "start_time": "2022-10-15T14:15:46.683Z"
   },
   {
    "duration": 233,
    "start_time": "2022-10-15T14:15:59.635Z"
   },
   {
    "duration": 266,
    "start_time": "2022-10-15T14:17:06.908Z"
   },
   {
    "duration": 311,
    "start_time": "2022-10-15T14:17:43.555Z"
   },
   {
    "duration": 278,
    "start_time": "2022-10-15T14:17:59.490Z"
   },
   {
    "duration": 325,
    "start_time": "2022-10-15T14:18:38.939Z"
   },
   {
    "duration": 335,
    "start_time": "2022-10-15T14:19:01.906Z"
   },
   {
    "duration": 97,
    "start_time": "2022-10-15T14:19:13.906Z"
   },
   {
    "duration": 204,
    "start_time": "2022-10-15T14:19:29.186Z"
   },
   {
    "duration": 193,
    "start_time": "2022-10-15T14:20:14.050Z"
   },
   {
    "duration": 5,
    "start_time": "2022-10-15T14:20:22.265Z"
   },
   {
    "duration": 5,
    "start_time": "2022-10-15T14:25:06.265Z"
   },
   {
    "duration": 4,
    "start_time": "2022-10-15T14:25:12.449Z"
   },
   {
    "duration": 199,
    "start_time": "2022-10-15T14:26:10.040Z"
   },
   {
    "duration": 6,
    "start_time": "2022-10-15T14:26:19.672Z"
   },
   {
    "duration": 4,
    "start_time": "2022-10-15T14:27:08.201Z"
   },
   {
    "duration": 4,
    "start_time": "2022-10-15T14:27:12.336Z"
   },
   {
    "duration": 3,
    "start_time": "2022-10-15T14:28:17.128Z"
   },
   {
    "duration": 12,
    "start_time": "2022-10-15T14:32:05.407Z"
   },
   {
    "duration": 8,
    "start_time": "2022-10-15T14:32:08.863Z"
   },
   {
    "duration": 5,
    "start_time": "2022-10-15T14:33:18.272Z"
   },
   {
    "duration": 5,
    "start_time": "2022-10-15T14:34:19.036Z"
   },
   {
    "duration": 7,
    "start_time": "2022-10-15T14:37:03.039Z"
   },
   {
    "duration": 38,
    "start_time": "2022-10-15T14:37:05.790Z"
   },
   {
    "duration": 14,
    "start_time": "2022-10-15T14:38:35.127Z"
   },
   {
    "duration": 11,
    "start_time": "2022-10-15T14:41:38.936Z"
   },
   {
    "duration": 8,
    "start_time": "2022-10-15T14:41:47.422Z"
   },
   {
    "duration": 50,
    "start_time": "2022-10-15T14:41:51.278Z"
   },
   {
    "duration": 38,
    "start_time": "2022-10-15T14:42:28.510Z"
   },
   {
    "duration": 24,
    "start_time": "2022-10-15T14:42:35.317Z"
   },
   {
    "duration": 1018,
    "start_time": "2022-10-15T14:46:34.217Z"
   },
   {
    "duration": 37,
    "start_time": "2022-10-15T14:46:35.237Z"
   },
   {
    "duration": 12,
    "start_time": "2022-10-15T14:46:35.275Z"
   },
   {
    "duration": 11,
    "start_time": "2022-10-15T14:46:35.289Z"
   },
   {
    "duration": 62,
    "start_time": "2022-10-15T14:46:35.302Z"
   },
   {
    "duration": 17,
    "start_time": "2022-10-15T14:46:35.366Z"
   },
   {
    "duration": 7,
    "start_time": "2022-10-15T14:46:35.384Z"
   },
   {
    "duration": 6,
    "start_time": "2022-10-15T14:46:35.393Z"
   },
   {
    "duration": 21,
    "start_time": "2022-10-15T14:46:35.401Z"
   },
   {
    "duration": 8,
    "start_time": "2022-10-15T14:46:35.425Z"
   },
   {
    "duration": 5,
    "start_time": "2022-10-15T14:46:35.435Z"
   },
   {
    "duration": 10,
    "start_time": "2022-10-15T14:46:35.441Z"
   },
   {
    "duration": 187,
    "start_time": "2022-10-15T14:46:35.453Z"
   },
   {
    "duration": 134,
    "start_time": "2022-10-15T14:46:35.642Z"
   },
   {
    "duration": 27,
    "start_time": "2022-10-15T14:46:35.777Z"
   },
   {
    "duration": 5,
    "start_time": "2022-10-15T14:46:35.805Z"
   },
   {
    "duration": 17,
    "start_time": "2022-10-15T14:46:35.811Z"
   },
   {
    "duration": 340,
    "start_time": "2022-10-15T14:46:35.829Z"
   },
   {
    "duration": 274,
    "start_time": "2022-10-15T14:46:36.171Z"
   },
   {
    "duration": 366,
    "start_time": "2022-10-15T14:46:36.447Z"
   },
   {
    "duration": 329,
    "start_time": "2022-10-15T14:46:36.815Z"
   },
   {
    "duration": 303,
    "start_time": "2022-10-15T14:46:37.146Z"
   },
   {
    "duration": 92,
    "start_time": "2022-10-15T14:46:37.450Z"
   },
   {
    "duration": 214,
    "start_time": "2022-10-15T14:46:37.544Z"
   },
   {
    "duration": 5,
    "start_time": "2022-10-15T14:46:37.760Z"
   },
   {
    "duration": 7,
    "start_time": "2022-10-15T14:46:37.767Z"
   },
   {
    "duration": 208,
    "start_time": "2022-10-15T14:46:37.776Z"
   },
   {
    "duration": 11,
    "start_time": "2022-10-15T14:46:37.986Z"
   },
   {
    "duration": 6,
    "start_time": "2022-10-15T14:46:37.999Z"
   },
   {
    "duration": 64,
    "start_time": "2022-10-15T14:46:38.006Z"
   },
   {
    "duration": 72,
    "start_time": "2022-10-15T14:46:38.072Z"
   },
   {
    "duration": 70,
    "start_time": "2022-10-15T14:46:38.146Z"
   },
   {
    "duration": 61,
    "start_time": "2022-10-15T14:46:38.218Z"
   },
   {
    "duration": 38,
    "start_time": "2022-10-15T14:46:38.280Z"
   },
   {
    "duration": 5,
    "start_time": "2022-10-15T14:46:38.319Z"
   },
   {
    "duration": 17,
    "start_time": "2022-10-15T14:46:38.326Z"
   },
   {
    "duration": 8,
    "start_time": "2022-10-15T14:46:38.345Z"
   },
   {
    "duration": 59,
    "start_time": "2022-10-15T14:46:38.356Z"
   },
   {
    "duration": 19,
    "start_time": "2022-10-15T14:46:38.417Z"
   },
   {
    "duration": 8,
    "start_time": "2022-10-15T14:46:38.437Z"
   },
   {
    "duration": 27,
    "start_time": "2022-10-15T14:46:38.447Z"
   },
   {
    "duration": 44,
    "start_time": "2022-10-15T14:46:38.476Z"
   },
   {
    "duration": 18,
    "start_time": "2022-10-15T14:46:38.523Z"
   },
   {
    "duration": 1153,
    "start_time": "2022-10-20T17:16:23.638Z"
   },
   {
    "duration": 91,
    "start_time": "2022-10-20T17:16:27.996Z"
   },
   {
    "duration": 15,
    "start_time": "2022-10-20T17:16:32.316Z"
   },
   {
    "duration": 11,
    "start_time": "2022-10-20T17:16:39.404Z"
   },
   {
    "duration": 204,
    "start_time": "2022-10-20T17:16:47.317Z"
   }
  ],
  "kernelspec": {
   "display_name": "Python 3 (ipykernel)",
   "language": "python",
   "name": "python3"
  },
  "language_info": {
   "codemirror_mode": {
    "name": "ipython",
    "version": 3
   },
   "file_extension": ".py",
   "mimetype": "text/x-python",
   "name": "python",
   "nbconvert_exporter": "python",
   "pygments_lexer": "ipython3",
   "version": "3.9.13"
  },
  "toc": {
   "base_numbering": 1,
   "nav_menu": {},
   "number_sections": true,
   "sideBar": true,
   "skip_h1_title": true,
   "title_cell": "Table of Contents",
   "title_sidebar": "Contents",
   "toc_cell": false,
   "toc_position": {},
   "toc_section_display": true,
   "toc_window_display": true
  }
 },
 "nbformat": 4,
 "nbformat_minor": 2
}
