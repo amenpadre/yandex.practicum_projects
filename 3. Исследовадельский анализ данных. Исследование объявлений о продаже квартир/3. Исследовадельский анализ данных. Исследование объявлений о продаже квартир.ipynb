{
 "cells": [
  {
   "cell_type": "markdown",
   "metadata": {},
   "source": [
    "# Исследование объявлений о продаже квартир\n",
    "\n",
    "В вашем распоряжении данные сервиса Яндекc Недвижимость — архив объявлений о продаже квартир в Санкт-Петербурге и соседних населённых пунктах за несколько лет. Нужно научиться определять рыночную стоимость объектов недвижимости. Ваша задача — установить параметры. Это позволит построить автоматизированную систему: она отследит аномалии и мошенническую деятельность. \n",
    "\n",
    "По каждой квартире на продажу доступны два вида данных. Первые вписаны пользователем, вторые получены автоматически на основе картографических данных. Например, расстояние до центра, аэропорта, ближайшего парка и водоёма. "
   ]
  },
  {
   "cell_type": "markdown",
   "metadata": {},
   "source": [
    "## Изучение данных из файла"
   ]
  },
  {
   "cell_type": "code",
   "execution_count": 1,
   "metadata": {},
   "outputs": [
    {
     "data": {
      "text/html": [
       "<div>\n",
       "<style scoped>\n",
       "    .dataframe tbody tr th:only-of-type {\n",
       "        vertical-align: middle;\n",
       "    }\n",
       "\n",
       "    .dataframe tbody tr th {\n",
       "        vertical-align: top;\n",
       "    }\n",
       "\n",
       "    .dataframe thead th {\n",
       "        text-align: right;\n",
       "    }\n",
       "</style>\n",
       "<table border=\"1\" class=\"dataframe\">\n",
       "  <thead>\n",
       "    <tr style=\"text-align: right;\">\n",
       "      <th></th>\n",
       "      <th>total_images</th>\n",
       "      <th>last_price</th>\n",
       "      <th>total_area</th>\n",
       "      <th>first_day_exposition</th>\n",
       "      <th>rooms</th>\n",
       "      <th>ceiling_height</th>\n",
       "      <th>floors_total</th>\n",
       "      <th>living_area</th>\n",
       "      <th>floor</th>\n",
       "      <th>is_apartment</th>\n",
       "      <th>...</th>\n",
       "      <th>kitchen_area</th>\n",
       "      <th>balcony</th>\n",
       "      <th>locality_name</th>\n",
       "      <th>airports_nearest</th>\n",
       "      <th>cityCenters_nearest</th>\n",
       "      <th>parks_around3000</th>\n",
       "      <th>parks_nearest</th>\n",
       "      <th>ponds_around3000</th>\n",
       "      <th>ponds_nearest</th>\n",
       "      <th>days_exposition</th>\n",
       "    </tr>\n",
       "  </thead>\n",
       "  <tbody>\n",
       "    <tr>\n",
       "      <th>0</th>\n",
       "      <td>20</td>\n",
       "      <td>13000000.0</td>\n",
       "      <td>108.00</td>\n",
       "      <td>2019-03-07T00:00:00</td>\n",
       "      <td>3</td>\n",
       "      <td>2.70</td>\n",
       "      <td>16.0</td>\n",
       "      <td>51.00</td>\n",
       "      <td>8</td>\n",
       "      <td>NaN</td>\n",
       "      <td>...</td>\n",
       "      <td>25.00</td>\n",
       "      <td>NaN</td>\n",
       "      <td>Санкт-Петербург</td>\n",
       "      <td>18863.0</td>\n",
       "      <td>16028.0</td>\n",
       "      <td>1.0</td>\n",
       "      <td>482.0</td>\n",
       "      <td>2.0</td>\n",
       "      <td>755.0</td>\n",
       "      <td>NaN</td>\n",
       "    </tr>\n",
       "    <tr>\n",
       "      <th>1</th>\n",
       "      <td>7</td>\n",
       "      <td>3350000.0</td>\n",
       "      <td>40.40</td>\n",
       "      <td>2018-12-04T00:00:00</td>\n",
       "      <td>1</td>\n",
       "      <td>NaN</td>\n",
       "      <td>11.0</td>\n",
       "      <td>18.60</td>\n",
       "      <td>1</td>\n",
       "      <td>NaN</td>\n",
       "      <td>...</td>\n",
       "      <td>11.00</td>\n",
       "      <td>2.0</td>\n",
       "      <td>посёлок Шушары</td>\n",
       "      <td>12817.0</td>\n",
       "      <td>18603.0</td>\n",
       "      <td>0.0</td>\n",
       "      <td>NaN</td>\n",
       "      <td>0.0</td>\n",
       "      <td>NaN</td>\n",
       "      <td>81.0</td>\n",
       "    </tr>\n",
       "    <tr>\n",
       "      <th>2</th>\n",
       "      <td>10</td>\n",
       "      <td>5196000.0</td>\n",
       "      <td>56.00</td>\n",
       "      <td>2015-08-20T00:00:00</td>\n",
       "      <td>2</td>\n",
       "      <td>NaN</td>\n",
       "      <td>5.0</td>\n",
       "      <td>34.30</td>\n",
       "      <td>4</td>\n",
       "      <td>NaN</td>\n",
       "      <td>...</td>\n",
       "      <td>8.30</td>\n",
       "      <td>0.0</td>\n",
       "      <td>Санкт-Петербург</td>\n",
       "      <td>21741.0</td>\n",
       "      <td>13933.0</td>\n",
       "      <td>1.0</td>\n",
       "      <td>90.0</td>\n",
       "      <td>2.0</td>\n",
       "      <td>574.0</td>\n",
       "      <td>558.0</td>\n",
       "    </tr>\n",
       "    <tr>\n",
       "      <th>3</th>\n",
       "      <td>0</td>\n",
       "      <td>64900000.0</td>\n",
       "      <td>159.00</td>\n",
       "      <td>2015-07-24T00:00:00</td>\n",
       "      <td>3</td>\n",
       "      <td>NaN</td>\n",
       "      <td>14.0</td>\n",
       "      <td>NaN</td>\n",
       "      <td>9</td>\n",
       "      <td>NaN</td>\n",
       "      <td>...</td>\n",
       "      <td>NaN</td>\n",
       "      <td>0.0</td>\n",
       "      <td>Санкт-Петербург</td>\n",
       "      <td>28098.0</td>\n",
       "      <td>6800.0</td>\n",
       "      <td>2.0</td>\n",
       "      <td>84.0</td>\n",
       "      <td>3.0</td>\n",
       "      <td>234.0</td>\n",
       "      <td>424.0</td>\n",
       "    </tr>\n",
       "    <tr>\n",
       "      <th>4</th>\n",
       "      <td>2</td>\n",
       "      <td>10000000.0</td>\n",
       "      <td>100.00</td>\n",
       "      <td>2018-06-19T00:00:00</td>\n",
       "      <td>2</td>\n",
       "      <td>3.03</td>\n",
       "      <td>14.0</td>\n",
       "      <td>32.00</td>\n",
       "      <td>13</td>\n",
       "      <td>NaN</td>\n",
       "      <td>...</td>\n",
       "      <td>41.00</td>\n",
       "      <td>NaN</td>\n",
       "      <td>Санкт-Петербург</td>\n",
       "      <td>31856.0</td>\n",
       "      <td>8098.0</td>\n",
       "      <td>2.0</td>\n",
       "      <td>112.0</td>\n",
       "      <td>1.0</td>\n",
       "      <td>48.0</td>\n",
       "      <td>121.0</td>\n",
       "    </tr>\n",
       "    <tr>\n",
       "      <th>5</th>\n",
       "      <td>10</td>\n",
       "      <td>2890000.0</td>\n",
       "      <td>30.40</td>\n",
       "      <td>2018-09-10T00:00:00</td>\n",
       "      <td>1</td>\n",
       "      <td>NaN</td>\n",
       "      <td>12.0</td>\n",
       "      <td>14.40</td>\n",
       "      <td>5</td>\n",
       "      <td>NaN</td>\n",
       "      <td>...</td>\n",
       "      <td>9.10</td>\n",
       "      <td>NaN</td>\n",
       "      <td>городской посёлок Янино-1</td>\n",
       "      <td>NaN</td>\n",
       "      <td>NaN</td>\n",
       "      <td>NaN</td>\n",
       "      <td>NaN</td>\n",
       "      <td>NaN</td>\n",
       "      <td>NaN</td>\n",
       "      <td>55.0</td>\n",
       "    </tr>\n",
       "    <tr>\n",
       "      <th>6</th>\n",
       "      <td>6</td>\n",
       "      <td>3700000.0</td>\n",
       "      <td>37.30</td>\n",
       "      <td>2017-11-02T00:00:00</td>\n",
       "      <td>1</td>\n",
       "      <td>NaN</td>\n",
       "      <td>26.0</td>\n",
       "      <td>10.60</td>\n",
       "      <td>6</td>\n",
       "      <td>NaN</td>\n",
       "      <td>...</td>\n",
       "      <td>14.40</td>\n",
       "      <td>1.0</td>\n",
       "      <td>посёлок Парголово</td>\n",
       "      <td>52996.0</td>\n",
       "      <td>19143.0</td>\n",
       "      <td>0.0</td>\n",
       "      <td>NaN</td>\n",
       "      <td>0.0</td>\n",
       "      <td>NaN</td>\n",
       "      <td>155.0</td>\n",
       "    </tr>\n",
       "    <tr>\n",
       "      <th>7</th>\n",
       "      <td>5</td>\n",
       "      <td>7915000.0</td>\n",
       "      <td>71.60</td>\n",
       "      <td>2019-04-18T00:00:00</td>\n",
       "      <td>2</td>\n",
       "      <td>NaN</td>\n",
       "      <td>24.0</td>\n",
       "      <td>NaN</td>\n",
       "      <td>22</td>\n",
       "      <td>NaN</td>\n",
       "      <td>...</td>\n",
       "      <td>18.90</td>\n",
       "      <td>2.0</td>\n",
       "      <td>Санкт-Петербург</td>\n",
       "      <td>23982.0</td>\n",
       "      <td>11634.0</td>\n",
       "      <td>0.0</td>\n",
       "      <td>NaN</td>\n",
       "      <td>0.0</td>\n",
       "      <td>NaN</td>\n",
       "      <td>NaN</td>\n",
       "    </tr>\n",
       "    <tr>\n",
       "      <th>8</th>\n",
       "      <td>20</td>\n",
       "      <td>2900000.0</td>\n",
       "      <td>33.16</td>\n",
       "      <td>2018-05-23T00:00:00</td>\n",
       "      <td>1</td>\n",
       "      <td>NaN</td>\n",
       "      <td>27.0</td>\n",
       "      <td>15.43</td>\n",
       "      <td>26</td>\n",
       "      <td>NaN</td>\n",
       "      <td>...</td>\n",
       "      <td>8.81</td>\n",
       "      <td>NaN</td>\n",
       "      <td>посёлок Мурино</td>\n",
       "      <td>NaN</td>\n",
       "      <td>NaN</td>\n",
       "      <td>NaN</td>\n",
       "      <td>NaN</td>\n",
       "      <td>NaN</td>\n",
       "      <td>NaN</td>\n",
       "      <td>189.0</td>\n",
       "    </tr>\n",
       "    <tr>\n",
       "      <th>9</th>\n",
       "      <td>18</td>\n",
       "      <td>5400000.0</td>\n",
       "      <td>61.00</td>\n",
       "      <td>2017-02-26T00:00:00</td>\n",
       "      <td>3</td>\n",
       "      <td>2.50</td>\n",
       "      <td>9.0</td>\n",
       "      <td>43.60</td>\n",
       "      <td>7</td>\n",
       "      <td>NaN</td>\n",
       "      <td>...</td>\n",
       "      <td>6.50</td>\n",
       "      <td>2.0</td>\n",
       "      <td>Санкт-Петербург</td>\n",
       "      <td>50898.0</td>\n",
       "      <td>15008.0</td>\n",
       "      <td>0.0</td>\n",
       "      <td>NaN</td>\n",
       "      <td>0.0</td>\n",
       "      <td>NaN</td>\n",
       "      <td>289.0</td>\n",
       "    </tr>\n",
       "  </tbody>\n",
       "</table>\n",
       "<p>10 rows × 22 columns</p>\n",
       "</div>"
      ],
      "text/plain": [
       "   total_images  last_price  total_area first_day_exposition  rooms  \\\n",
       "0            20  13000000.0      108.00  2019-03-07T00:00:00      3   \n",
       "1             7   3350000.0       40.40  2018-12-04T00:00:00      1   \n",
       "2            10   5196000.0       56.00  2015-08-20T00:00:00      2   \n",
       "3             0  64900000.0      159.00  2015-07-24T00:00:00      3   \n",
       "4             2  10000000.0      100.00  2018-06-19T00:00:00      2   \n",
       "5            10   2890000.0       30.40  2018-09-10T00:00:00      1   \n",
       "6             6   3700000.0       37.30  2017-11-02T00:00:00      1   \n",
       "7             5   7915000.0       71.60  2019-04-18T00:00:00      2   \n",
       "8            20   2900000.0       33.16  2018-05-23T00:00:00      1   \n",
       "9            18   5400000.0       61.00  2017-02-26T00:00:00      3   \n",
       "\n",
       "   ceiling_height  floors_total  living_area  floor is_apartment  ...  \\\n",
       "0            2.70          16.0        51.00      8          NaN  ...   \n",
       "1             NaN          11.0        18.60      1          NaN  ...   \n",
       "2             NaN           5.0        34.30      4          NaN  ...   \n",
       "3             NaN          14.0          NaN      9          NaN  ...   \n",
       "4            3.03          14.0        32.00     13          NaN  ...   \n",
       "5             NaN          12.0        14.40      5          NaN  ...   \n",
       "6             NaN          26.0        10.60      6          NaN  ...   \n",
       "7             NaN          24.0          NaN     22          NaN  ...   \n",
       "8             NaN          27.0        15.43     26          NaN  ...   \n",
       "9            2.50           9.0        43.60      7          NaN  ...   \n",
       "\n",
       "   kitchen_area  balcony              locality_name  airports_nearest  \\\n",
       "0         25.00      NaN            Санкт-Петербург           18863.0   \n",
       "1         11.00      2.0             посёлок Шушары           12817.0   \n",
       "2          8.30      0.0            Санкт-Петербург           21741.0   \n",
       "3           NaN      0.0            Санкт-Петербург           28098.0   \n",
       "4         41.00      NaN            Санкт-Петербург           31856.0   \n",
       "5          9.10      NaN  городской посёлок Янино-1               NaN   \n",
       "6         14.40      1.0          посёлок Парголово           52996.0   \n",
       "7         18.90      2.0            Санкт-Петербург           23982.0   \n",
       "8          8.81      NaN             посёлок Мурино               NaN   \n",
       "9          6.50      2.0            Санкт-Петербург           50898.0   \n",
       "\n",
       "  cityCenters_nearest  parks_around3000  parks_nearest  ponds_around3000  \\\n",
       "0             16028.0               1.0          482.0               2.0   \n",
       "1             18603.0               0.0            NaN               0.0   \n",
       "2             13933.0               1.0           90.0               2.0   \n",
       "3              6800.0               2.0           84.0               3.0   \n",
       "4              8098.0               2.0          112.0               1.0   \n",
       "5                 NaN               NaN            NaN               NaN   \n",
       "6             19143.0               0.0            NaN               0.0   \n",
       "7             11634.0               0.0            NaN               0.0   \n",
       "8                 NaN               NaN            NaN               NaN   \n",
       "9             15008.0               0.0            NaN               0.0   \n",
       "\n",
       "   ponds_nearest  days_exposition  \n",
       "0          755.0              NaN  \n",
       "1            NaN             81.0  \n",
       "2          574.0            558.0  \n",
       "3          234.0            424.0  \n",
       "4           48.0            121.0  \n",
       "5            NaN             55.0  \n",
       "6            NaN            155.0  \n",
       "7            NaN              NaN  \n",
       "8            NaN            189.0  \n",
       "9            NaN            289.0  \n",
       "\n",
       "[10 rows x 22 columns]"
      ]
     },
     "execution_count": 1,
     "metadata": {},
     "output_type": "execute_result"
    }
   ],
   "source": [
    "import pandas as pd\n",
    "data = pd.read_csv('/datasets/real_estate_data.csv', sep='\\t')\n",
    "data.head(10)"
   ]
  },
  {
   "cell_type": "code",
   "execution_count": 2,
   "metadata": {},
   "outputs": [
    {
     "name": "stdout",
     "output_type": "stream",
     "text": [
      "<class 'pandas.core.frame.DataFrame'>\n",
      "RangeIndex: 23699 entries, 0 to 23698\n",
      "Data columns (total 22 columns):\n",
      " #   Column                Non-Null Count  Dtype  \n",
      "---  ------                --------------  -----  \n",
      " 0   total_images          23699 non-null  int64  \n",
      " 1   last_price            23699 non-null  float64\n",
      " 2   total_area            23699 non-null  float64\n",
      " 3   first_day_exposition  23699 non-null  object \n",
      " 4   rooms                 23699 non-null  int64  \n",
      " 5   ceiling_height        14504 non-null  float64\n",
      " 6   floors_total          23613 non-null  float64\n",
      " 7   living_area           21796 non-null  float64\n",
      " 8   floor                 23699 non-null  int64  \n",
      " 9   is_apartment          2775 non-null   object \n",
      " 10  studio                23699 non-null  bool   \n",
      " 11  open_plan             23699 non-null  bool   \n",
      " 12  kitchen_area          21421 non-null  float64\n",
      " 13  balcony               12180 non-null  float64\n",
      " 14  locality_name         23650 non-null  object \n",
      " 15  airports_nearest      18157 non-null  float64\n",
      " 16  city_centers_nearest  18180 non-null  float64\n",
      " 17  parks_around3000      18181 non-null  float64\n",
      " 18  parks_nearest         8079 non-null   float64\n",
      " 19  ponds_around3000      18181 non-null  float64\n",
      " 20  ponds_nearest         9110 non-null   float64\n",
      " 21  days_exposition       20518 non-null  float64\n",
      "dtypes: bool(2), float64(14), int64(3), object(3)\n",
      "memory usage: 3.7+ MB\n"
     ]
    }
   ],
   "source": [
    "data = data.rename(columns={'cityCenters_nearest': 'city_centers_nearest'})\n",
    "data.info()"
   ]
  },
  {
   "cell_type": "markdown",
   "metadata": {},
   "source": [
    "### Вывод"
   ]
  },
  {
   "cell_type": "markdown",
   "metadata": {},
   "source": [
    "Первичный обзор данных дал следующую информацияю:\n",
    "В данных 22 столбца:\n",
    " * `total_images` - количество фотографий в объявлении;\n",
    " * `last_price` - последняя указаная цена, тип данных `float` нужно заменить на `int`;\n",
    " * `total_area` - общая площадь;\n",
    " * `first_day_exposition` - дата публикации объявления, тип данных `object` нужно заменить на `datetime`;\n",
    " * `rooms` - количество комнат;\n",
    " * `ceiling_height` - высота потолков, есть пропуски;\n",
    " * `floors_total` - всего этажей в доме, есть пропуски, тип данных `float` нужно заменить на `int`;\n",
    " * `living_area` - жилая площадь, есть пропуски;\n",
    " * `floor` - этаж квартиры;\n",
    " * `is_apartment` - является ли квартира апартаментами, есть пропуски, тип данных `object` нужно заменить на `bool`;\n",
    " * `studio` - является ли квартира студией;\n",
    " * `open_plan` - свободная планировка;\n",
    " * `kitchen_area` - площадь кухни, есть пропуски;\n",
    " * `balcony` - количество балконов, есть пропуски, тип данных `float` нужно заменить на `int`;\n",
    " * `locality_name` - название населеного пункта, где расположена квартира, есть пропуски;\n",
    " * `airports_nearest` - расстояние до ближайшего аэропорта, есть пропуски;\n",
    " * `cityCenters_nearest` - расстояние до центра населеного пункта, есть пропуски;\n",
    " * `parks_around3000` - количество парков в радиусе 3 км, есть пропуски;\n",
    " * `parks_nearest` - расстояние до ближайшего парка, есть пропуски;\n",
    " * `ponds_around3000` - водоёмы в радиусе 3 км, есть пропуски;\n",
    " * `ponds_nearest` - расстояние до ближайшего водоёма, есть пропуски;\n",
    " * `days_exposition` - дни с момента публикации объявления до его снятия, есть пропуски, тип данных `float` нужно заменить на `int`;"
   ]
  },
  {
   "cell_type": "markdown",
   "metadata": {},
   "source": [
    "## Предобработка данных"
   ]
  },
  {
   "cell_type": "code",
   "execution_count": 3,
   "metadata": {},
   "outputs": [
    {
     "data": {
      "text/plain": [
       "False    2725\n",
       "True       50\n",
       "Name: is_apartment, dtype: int64"
      ]
     },
     "execution_count": 3,
     "metadata": {},
     "output_type": "execute_result"
    }
   ],
   "source": [
    "data['is_apartment'].value_counts()"
   ]
  },
  {
   "cell_type": "markdown",
   "metadata": {},
   "source": [
    "В столбце `is_apartment` много пропусков, при этом указанные значения `True` и `False`, а также тип данных `object`. Логично предположить, что пропущенные значения это такие значения, которые при заполнении люди не указали, и поэтому их нужно заменить на `False`, а также привести все значения к `bool`."
   ]
  },
  {
   "cell_type": "code",
   "execution_count": 4,
   "metadata": {},
   "outputs": [
    {
     "data": {
      "text/plain": [
       "False    23649\n",
       "True        50\n",
       "Name: is_apartment, dtype: int64"
      ]
     },
     "execution_count": 4,
     "metadata": {},
     "output_type": "execute_result"
    }
   ],
   "source": [
    "data['is_apartment'] = data['is_apartment'].fillna(False)\n",
    "data['is_apartment'].value_counts()"
   ]
  },
  {
   "cell_type": "code",
   "execution_count": 5,
   "metadata": {},
   "outputs": [
    {
     "data": {
      "text/plain": [
       "dtype('bool')"
      ]
     },
     "execution_count": 5,
     "metadata": {},
     "output_type": "execute_result"
    }
   ],
   "source": [
    "data['is_apartment'].dtype"
   ]
  },
  {
   "cell_type": "markdown",
   "metadata": {},
   "source": [
    "Пропуски успешно заполнены, а тип данных изменился на `bool`."
   ]
  },
  {
   "cell_type": "code",
   "execution_count": 6,
   "metadata": {},
   "outputs": [
    {
     "data": {
      "text/plain": [
       "1.0    4195\n",
       "0.0    3758\n",
       "2.0    3659\n",
       "5.0     304\n",
       "4.0     183\n",
       "3.0      81\n",
       "Name: balcony, dtype: int64"
      ]
     },
     "execution_count": 6,
     "metadata": {},
     "output_type": "execute_result"
    }
   ],
   "source": [
    "data['balcony'].value_counts()"
   ]
  },
  {
   "cell_type": "markdown",
   "metadata": {},
   "source": [
    "В столбце `balcony` есть пропуски. Скорее всего они появились от незаполнения графы в объявлении о количестве балконов, поэтому пропуски можно заменить на `0`."
   ]
  },
  {
   "cell_type": "code",
   "execution_count": 7,
   "metadata": {},
   "outputs": [
    {
     "data": {
      "text/plain": [
       "0.0    15277\n",
       "1.0     4195\n",
       "2.0     3659\n",
       "5.0      304\n",
       "4.0      183\n",
       "3.0       81\n",
       "Name: balcony, dtype: int64"
      ]
     },
     "execution_count": 7,
     "metadata": {},
     "output_type": "execute_result"
    }
   ],
   "source": [
    "data['balcony'] = data['balcony'].fillna(0)\n",
    "data['balcony'].value_counts()"
   ]
  },
  {
   "cell_type": "code",
   "execution_count": 8,
   "metadata": {},
   "outputs": [
    {
     "data": {
      "text/plain": [
       "dtype('int64')"
      ]
     },
     "execution_count": 8,
     "metadata": {},
     "output_type": "execute_result"
    }
   ],
   "source": [
    "data['balcony'] = data['balcony'].astype('int')\n",
    "data['balcony'].dtype"
   ]
  },
  {
   "cell_type": "markdown",
   "metadata": {},
   "source": [
    "Пропуски заполнены, тип данных изменён."
   ]
  },
  {
   "cell_type": "markdown",
   "metadata": {},
   "source": [
    "В некоторых столбцах тип данных нужно изменить на более подходящий, например в `floors_total` тип данных `float` нужно изменить на `int`, ведь не бывает домов с неполными этажами."
   ]
  },
  {
   "cell_type": "code",
   "execution_count": 9,
   "metadata": {},
   "outputs": [
    {
     "name": "stdout",
     "output_type": "stream",
     "text": [
      "<class 'pandas.core.frame.DataFrame'>\n",
      "RangeIndex: 23699 entries, 0 to 23698\n",
      "Data columns (total 22 columns):\n",
      " #   Column                Non-Null Count  Dtype         \n",
      "---  ------                --------------  -----         \n",
      " 0   total_images          23699 non-null  int64         \n",
      " 1   last_price            23699 non-null  float64       \n",
      " 2   total_area            23699 non-null  float64       \n",
      " 3   first_day_exposition  23699 non-null  datetime64[ns]\n",
      " 4   rooms                 23699 non-null  int64         \n",
      " 5   ceiling_height        14504 non-null  float64       \n",
      " 6   floors_total          23613 non-null  float64       \n",
      " 7   living_area           21796 non-null  float64       \n",
      " 8   floor                 23699 non-null  int64         \n",
      " 9   is_apartment          23699 non-null  bool          \n",
      " 10  studio                23699 non-null  bool          \n",
      " 11  open_plan             23699 non-null  bool          \n",
      " 12  kitchen_area          21421 non-null  float64       \n",
      " 13  balcony               23699 non-null  int64         \n",
      " 14  locality_name         23650 non-null  object        \n",
      " 15  airports_nearest      18157 non-null  float64       \n",
      " 16  city_centers_nearest  18180 non-null  float64       \n",
      " 17  parks_around3000      18181 non-null  float64       \n",
      " 18  parks_nearest         8079 non-null   float64       \n",
      " 19  ponds_around3000      18181 non-null  float64       \n",
      " 20  ponds_nearest         9110 non-null   float64       \n",
      " 21  days_exposition       20518 non-null  float64       \n",
      "dtypes: bool(3), datetime64[ns](1), float64(13), int64(4), object(1)\n",
      "memory usage: 3.5+ MB\n"
     ]
    }
   ],
   "source": [
    "data['first_day_exposition'] = pd.to_datetime(data['first_day_exposition'], format='%Y-%m-%dT%H:%M:%S')\n",
    "\n",
    "# data['floors_total'] = data['floors_total'].astype('int')\n",
    "# data['days_exposition'] = data['days_exposition'].astype('int')\n",
    "    \n",
    "data.info()"
   ]
  },
  {
   "cell_type": "markdown",
   "metadata": {},
   "source": [
    "При попытке изменить тип данных в `floors_total` и `days_exposition` появилась ошибка `Cannot convert non-finite values (NA or inf) to integer`, которая сообщает, что нельзя перевесть пустые значения в `int`."
   ]
  },
  {
   "cell_type": "code",
   "execution_count": 10,
   "metadata": {},
   "outputs": [
    {
     "data": {
      "text/html": [
       "<div>\n",
       "<style scoped>\n",
       "    .dataframe tbody tr th:only-of-type {\n",
       "        vertical-align: middle;\n",
       "    }\n",
       "\n",
       "    .dataframe tbody tr th {\n",
       "        vertical-align: top;\n",
       "    }\n",
       "\n",
       "    .dataframe thead th {\n",
       "        text-align: right;\n",
       "    }\n",
       "</style>\n",
       "<table border=\"1\" class=\"dataframe\">\n",
       "  <thead>\n",
       "    <tr style=\"text-align: right;\">\n",
       "      <th></th>\n",
       "      <th>total_images</th>\n",
       "      <th>last_price</th>\n",
       "      <th>total_area</th>\n",
       "      <th>first_day_exposition</th>\n",
       "      <th>rooms</th>\n",
       "      <th>ceiling_height</th>\n",
       "      <th>floors_total</th>\n",
       "      <th>living_area</th>\n",
       "      <th>floor</th>\n",
       "      <th>is_apartment</th>\n",
       "      <th>...</th>\n",
       "      <th>kitchen_area</th>\n",
       "      <th>balcony</th>\n",
       "      <th>locality_name</th>\n",
       "      <th>airports_nearest</th>\n",
       "      <th>city_centers_nearest</th>\n",
       "      <th>parks_around3000</th>\n",
       "      <th>parks_nearest</th>\n",
       "      <th>ponds_around3000</th>\n",
       "      <th>ponds_nearest</th>\n",
       "      <th>days_exposition</th>\n",
       "    </tr>\n",
       "  </thead>\n",
       "  <tbody>\n",
       "    <tr>\n",
       "      <th>186</th>\n",
       "      <td>12</td>\n",
       "      <td>11640000.0</td>\n",
       "      <td>65.2</td>\n",
       "      <td>2018-10-02</td>\n",
       "      <td>2</td>\n",
       "      <td>NaN</td>\n",
       "      <td>NaN</td>\n",
       "      <td>30.80</td>\n",
       "      <td>4</td>\n",
       "      <td>False</td>\n",
       "      <td>...</td>\n",
       "      <td>12.00</td>\n",
       "      <td>0</td>\n",
       "      <td>Санкт-Петербург</td>\n",
       "      <td>39197.0</td>\n",
       "      <td>12373.0</td>\n",
       "      <td>1.0</td>\n",
       "      <td>123.0</td>\n",
       "      <td>0.0</td>\n",
       "      <td>NaN</td>\n",
       "      <td>49.0</td>\n",
       "    </tr>\n",
       "    <tr>\n",
       "      <th>237</th>\n",
       "      <td>4</td>\n",
       "      <td>2438033.0</td>\n",
       "      <td>28.1</td>\n",
       "      <td>2016-11-23</td>\n",
       "      <td>1</td>\n",
       "      <td>NaN</td>\n",
       "      <td>NaN</td>\n",
       "      <td>20.75</td>\n",
       "      <td>1</td>\n",
       "      <td>False</td>\n",
       "      <td>...</td>\n",
       "      <td>NaN</td>\n",
       "      <td>0</td>\n",
       "      <td>Санкт-Петербург</td>\n",
       "      <td>22041.0</td>\n",
       "      <td>17369.0</td>\n",
       "      <td>0.0</td>\n",
       "      <td>NaN</td>\n",
       "      <td>1.0</td>\n",
       "      <td>374.0</td>\n",
       "      <td>251.0</td>\n",
       "    </tr>\n",
       "    <tr>\n",
       "      <th>457</th>\n",
       "      <td>4</td>\n",
       "      <td>9788348.0</td>\n",
       "      <td>70.8</td>\n",
       "      <td>2015-08-01</td>\n",
       "      <td>2</td>\n",
       "      <td>NaN</td>\n",
       "      <td>NaN</td>\n",
       "      <td>38.40</td>\n",
       "      <td>12</td>\n",
       "      <td>False</td>\n",
       "      <td>...</td>\n",
       "      <td>10.63</td>\n",
       "      <td>0</td>\n",
       "      <td>Санкт-Петербург</td>\n",
       "      <td>37364.0</td>\n",
       "      <td>8322.0</td>\n",
       "      <td>2.0</td>\n",
       "      <td>309.0</td>\n",
       "      <td>2.0</td>\n",
       "      <td>706.0</td>\n",
       "      <td>727.0</td>\n",
       "    </tr>\n",
       "    <tr>\n",
       "      <th>671</th>\n",
       "      <td>4</td>\n",
       "      <td>6051191.0</td>\n",
       "      <td>93.6</td>\n",
       "      <td>2017-04-06</td>\n",
       "      <td>3</td>\n",
       "      <td>NaN</td>\n",
       "      <td>NaN</td>\n",
       "      <td>47.10</td>\n",
       "      <td>8</td>\n",
       "      <td>False</td>\n",
       "      <td>...</td>\n",
       "      <td>16.80</td>\n",
       "      <td>0</td>\n",
       "      <td>Санкт-Петербург</td>\n",
       "      <td>22041.0</td>\n",
       "      <td>17369.0</td>\n",
       "      <td>0.0</td>\n",
       "      <td>NaN</td>\n",
       "      <td>1.0</td>\n",
       "      <td>374.0</td>\n",
       "      <td>123.0</td>\n",
       "    </tr>\n",
       "    <tr>\n",
       "      <th>1757</th>\n",
       "      <td>5</td>\n",
       "      <td>3600000.0</td>\n",
       "      <td>39.0</td>\n",
       "      <td>2017-04-22</td>\n",
       "      <td>1</td>\n",
       "      <td>NaN</td>\n",
       "      <td>NaN</td>\n",
       "      <td>NaN</td>\n",
       "      <td>9</td>\n",
       "      <td>False</td>\n",
       "      <td>...</td>\n",
       "      <td>NaN</td>\n",
       "      <td>0</td>\n",
       "      <td>Санкт-Петербург</td>\n",
       "      <td>22735.0</td>\n",
       "      <td>11618.0</td>\n",
       "      <td>1.0</td>\n",
       "      <td>835.0</td>\n",
       "      <td>1.0</td>\n",
       "      <td>652.0</td>\n",
       "      <td>77.0</td>\n",
       "    </tr>\n",
       "    <tr>\n",
       "      <th>...</th>\n",
       "      <td>...</td>\n",
       "      <td>...</td>\n",
       "      <td>...</td>\n",
       "      <td>...</td>\n",
       "      <td>...</td>\n",
       "      <td>...</td>\n",
       "      <td>...</td>\n",
       "      <td>...</td>\n",
       "      <td>...</td>\n",
       "      <td>...</td>\n",
       "      <td>...</td>\n",
       "      <td>...</td>\n",
       "      <td>...</td>\n",
       "      <td>...</td>\n",
       "      <td>...</td>\n",
       "      <td>...</td>\n",
       "      <td>...</td>\n",
       "      <td>...</td>\n",
       "      <td>...</td>\n",
       "      <td>...</td>\n",
       "      <td>...</td>\n",
       "    </tr>\n",
       "    <tr>\n",
       "      <th>22542</th>\n",
       "      <td>5</td>\n",
       "      <td>8500000.0</td>\n",
       "      <td>63.5</td>\n",
       "      <td>2017-05-24</td>\n",
       "      <td>2</td>\n",
       "      <td>2.8</td>\n",
       "      <td>NaN</td>\n",
       "      <td>NaN</td>\n",
       "      <td>3</td>\n",
       "      <td>False</td>\n",
       "      <td>...</td>\n",
       "      <td>NaN</td>\n",
       "      <td>0</td>\n",
       "      <td>Санкт-Петербург</td>\n",
       "      <td>51340.0</td>\n",
       "      <td>15363.0</td>\n",
       "      <td>0.0</td>\n",
       "      <td>NaN</td>\n",
       "      <td>1.0</td>\n",
       "      <td>853.0</td>\n",
       "      <td>512.0</td>\n",
       "    </tr>\n",
       "    <tr>\n",
       "      <th>22656</th>\n",
       "      <td>4</td>\n",
       "      <td>4574160.0</td>\n",
       "      <td>64.5</td>\n",
       "      <td>2017-04-02</td>\n",
       "      <td>2</td>\n",
       "      <td>NaN</td>\n",
       "      <td>NaN</td>\n",
       "      <td>31.70</td>\n",
       "      <td>20</td>\n",
       "      <td>False</td>\n",
       "      <td>...</td>\n",
       "      <td>14.40</td>\n",
       "      <td>0</td>\n",
       "      <td>Санкт-Петербург</td>\n",
       "      <td>22041.0</td>\n",
       "      <td>17369.0</td>\n",
       "      <td>0.0</td>\n",
       "      <td>NaN</td>\n",
       "      <td>1.0</td>\n",
       "      <td>374.0</td>\n",
       "      <td>127.0</td>\n",
       "    </tr>\n",
       "    <tr>\n",
       "      <th>22808</th>\n",
       "      <td>0</td>\n",
       "      <td>14569263.0</td>\n",
       "      <td>110.4</td>\n",
       "      <td>2016-11-20</td>\n",
       "      <td>3</td>\n",
       "      <td>NaN</td>\n",
       "      <td>NaN</td>\n",
       "      <td>45.38</td>\n",
       "      <td>6</td>\n",
       "      <td>False</td>\n",
       "      <td>...</td>\n",
       "      <td>23.42</td>\n",
       "      <td>0</td>\n",
       "      <td>Санкт-Петербург</td>\n",
       "      <td>19095.0</td>\n",
       "      <td>4529.0</td>\n",
       "      <td>0.0</td>\n",
       "      <td>NaN</td>\n",
       "      <td>0.0</td>\n",
       "      <td>NaN</td>\n",
       "      <td>260.0</td>\n",
       "    </tr>\n",
       "    <tr>\n",
       "      <th>23590</th>\n",
       "      <td>0</td>\n",
       "      <td>21187872.0</td>\n",
       "      <td>123.3</td>\n",
       "      <td>2017-04-25</td>\n",
       "      <td>3</td>\n",
       "      <td>NaN</td>\n",
       "      <td>NaN</td>\n",
       "      <td>50.40</td>\n",
       "      <td>18</td>\n",
       "      <td>False</td>\n",
       "      <td>...</td>\n",
       "      <td>23.60</td>\n",
       "      <td>0</td>\n",
       "      <td>Санкт-Петербург</td>\n",
       "      <td>19095.0</td>\n",
       "      <td>4529.0</td>\n",
       "      <td>0.0</td>\n",
       "      <td>NaN</td>\n",
       "      <td>0.0</td>\n",
       "      <td>NaN</td>\n",
       "      <td>104.0</td>\n",
       "    </tr>\n",
       "    <tr>\n",
       "      <th>23658</th>\n",
       "      <td>6</td>\n",
       "      <td>3063600.0</td>\n",
       "      <td>43.8</td>\n",
       "      <td>2016-11-28</td>\n",
       "      <td>1</td>\n",
       "      <td>2.7</td>\n",
       "      <td>NaN</td>\n",
       "      <td>14.00</td>\n",
       "      <td>8</td>\n",
       "      <td>False</td>\n",
       "      <td>...</td>\n",
       "      <td>15.50</td>\n",
       "      <td>2</td>\n",
       "      <td>Санкт-Петербург</td>\n",
       "      <td>8426.0</td>\n",
       "      <td>12082.0</td>\n",
       "      <td>2.0</td>\n",
       "      <td>24.0</td>\n",
       "      <td>1.0</td>\n",
       "      <td>271.0</td>\n",
       "      <td>246.0</td>\n",
       "    </tr>\n",
       "  </tbody>\n",
       "</table>\n",
       "<p>86 rows × 22 columns</p>\n",
       "</div>"
      ],
      "text/plain": [
       "       total_images  last_price  total_area first_day_exposition  rooms  \\\n",
       "186              12  11640000.0        65.2           2018-10-02      2   \n",
       "237               4   2438033.0        28.1           2016-11-23      1   \n",
       "457               4   9788348.0        70.8           2015-08-01      2   \n",
       "671               4   6051191.0        93.6           2017-04-06      3   \n",
       "1757              5   3600000.0        39.0           2017-04-22      1   \n",
       "...             ...         ...         ...                  ...    ...   \n",
       "22542             5   8500000.0        63.5           2017-05-24      2   \n",
       "22656             4   4574160.0        64.5           2017-04-02      2   \n",
       "22808             0  14569263.0       110.4           2016-11-20      3   \n",
       "23590             0  21187872.0       123.3           2017-04-25      3   \n",
       "23658             6   3063600.0        43.8           2016-11-28      1   \n",
       "\n",
       "       ceiling_height  floors_total  living_area  floor  is_apartment  ...  \\\n",
       "186               NaN           NaN        30.80      4         False  ...   \n",
       "237               NaN           NaN        20.75      1         False  ...   \n",
       "457               NaN           NaN        38.40     12         False  ...   \n",
       "671               NaN           NaN        47.10      8         False  ...   \n",
       "1757              NaN           NaN          NaN      9         False  ...   \n",
       "...               ...           ...          ...    ...           ...  ...   \n",
       "22542             2.8           NaN          NaN      3         False  ...   \n",
       "22656             NaN           NaN        31.70     20         False  ...   \n",
       "22808             NaN           NaN        45.38      6         False  ...   \n",
       "23590             NaN           NaN        50.40     18         False  ...   \n",
       "23658             2.7           NaN        14.00      8         False  ...   \n",
       "\n",
       "       kitchen_area  balcony    locality_name  airports_nearest  \\\n",
       "186           12.00        0  Санкт-Петербург           39197.0   \n",
       "237             NaN        0  Санкт-Петербург           22041.0   \n",
       "457           10.63        0  Санкт-Петербург           37364.0   \n",
       "671           16.80        0  Санкт-Петербург           22041.0   \n",
       "1757            NaN        0  Санкт-Петербург           22735.0   \n",
       "...             ...      ...              ...               ...   \n",
       "22542           NaN        0  Санкт-Петербург           51340.0   \n",
       "22656         14.40        0  Санкт-Петербург           22041.0   \n",
       "22808         23.42        0  Санкт-Петербург           19095.0   \n",
       "23590         23.60        0  Санкт-Петербург           19095.0   \n",
       "23658         15.50        2  Санкт-Петербург            8426.0   \n",
       "\n",
       "      city_centers_nearest  parks_around3000  parks_nearest  ponds_around3000  \\\n",
       "186                12373.0               1.0          123.0               0.0   \n",
       "237                17369.0               0.0            NaN               1.0   \n",
       "457                 8322.0               2.0          309.0               2.0   \n",
       "671                17369.0               0.0            NaN               1.0   \n",
       "1757               11618.0               1.0          835.0               1.0   \n",
       "...                    ...               ...            ...               ...   \n",
       "22542              15363.0               0.0            NaN               1.0   \n",
       "22656              17369.0               0.0            NaN               1.0   \n",
       "22808               4529.0               0.0            NaN               0.0   \n",
       "23590               4529.0               0.0            NaN               0.0   \n",
       "23658              12082.0               2.0           24.0               1.0   \n",
       "\n",
       "       ponds_nearest  days_exposition  \n",
       "186              NaN             49.0  \n",
       "237            374.0            251.0  \n",
       "457            706.0            727.0  \n",
       "671            374.0            123.0  \n",
       "1757           652.0             77.0  \n",
       "...              ...              ...  \n",
       "22542          853.0            512.0  \n",
       "22656          374.0            127.0  \n",
       "22808            NaN            260.0  \n",
       "23590            NaN            104.0  \n",
       "23658          271.0            246.0  \n",
       "\n",
       "[86 rows x 22 columns]"
      ]
     },
     "execution_count": 10,
     "metadata": {},
     "output_type": "execute_result"
    }
   ],
   "source": [
    "data[data['floors_total'].isna()]"
   ]
  },
  {
   "cell_type": "markdown",
   "metadata": {},
   "source": [
    "Изначально у меня было предположение, что в объявлениях, в которых количество этажей в доме не указано, относится к одноэтажным домам, но проанализировав строки с пустыми значениями в `floors_total` я пришёл опроверг эту гипотезу. Как видно по столбцу `floor` этажность дома не указана в тех домах, в которых квартиры расположены выше второго этажа."
   ]
  },
  {
   "cell_type": "code",
   "execution_count": 11,
   "metadata": {},
   "outputs": [
    {
     "name": "stdout",
     "output_type": "stream",
     "text": [
      "['Санкт-Петербург' 'посёлок Шушары' 'городской посёлок Янино-1'\n",
      " 'посёлок Парголово' 'посёлок Мурино' 'Ломоносов' 'Сертолово' 'Петергоф'\n",
      " 'Пушкин' 'деревня Кудрово' 'Коммунар' 'Колпино'\n",
      " 'поселок городского типа Красный Бор' 'Гатчина' 'поселок Мурино'\n",
      " 'деревня Фёдоровское' 'Выборг' 'Кронштадт' 'Кировск'\n",
      " 'деревня Новое Девяткино' 'посёлок Металлострой'\n",
      " 'посёлок городского типа Лебяжье' 'посёлок городского типа Сиверский'\n",
      " 'поселок Молодцово' 'поселок городского типа Кузьмоловский'\n",
      " 'садовое товарищество Новая Ропша' 'Павловск' 'деревня Пикколово'\n",
      " 'Всеволожск' 'Волхов' 'Кингисепп' 'Приозерск' 'Сестрорецк'\n",
      " 'деревня Куттузи' 'посёлок Аннино' 'поселок городского типа Ефимовский'\n",
      " 'посёлок Плодовое' 'деревня Заклинье' 'поселок Торковичи'\n",
      " 'поселок Первомайское' 'Красное Село' 'посёлок Понтонный' 'Сясьстрой'\n",
      " 'деревня Старая' 'деревня Лесколово' 'посёлок Новый Свет' 'Сланцы'\n",
      " 'село Путилово' 'Ивангород' 'Мурино' 'Шлиссельбург' 'Никольское'\n",
      " 'Зеленогорск' 'Сосновый Бор' 'поселок Новый Свет' 'деревня Оржицы'\n",
      " 'деревня Кальтино' 'Кудрово' 'поселок Романовка' 'посёлок Бугры'\n",
      " 'поселок Бугры' 'поселок городского типа Рощино' 'Кириши' 'Луга'\n",
      " 'Волосово' 'Отрадное' 'село Павлово' 'поселок Оредеж' 'село Копорье'\n",
      " 'посёлок городского типа Красный Бор' 'посёлок Молодёжное' 'Тихвин'\n",
      " 'посёлок Победа' 'деревня Нурма' 'поселок городского типа Синявино'\n",
      " 'Тосно' 'посёлок городского типа Кузьмоловский' 'посёлок Стрельна'\n",
      " 'Бокситогорск' 'посёлок Александровская' 'деревня Лопухинка' 'Пикалёво'\n",
      " 'поселок Терволово' 'поселок городского типа Советский' 'Подпорожье'\n",
      " 'посёлок Петровское' 'посёлок городского типа Токсово' 'поселок Сельцо'\n",
      " 'посёлок городского типа Вырица' 'деревня Кипень' 'деревня Келози'\n",
      " 'деревня Вартемяги' 'посёлок Тельмана' 'поселок Севастьяново'\n",
      " 'городской поселок Большая Ижора' nan 'городской посёлок Павлово'\n",
      " 'деревня Агалатово' 'посёлок Новогорелово'\n",
      " 'городской посёлок Лесогорский' 'деревня Лаголово' 'поселок Цвелодубово'\n",
      " 'поселок городского типа Рахья' 'поселок городского типа Вырица'\n",
      " 'деревня Белогорка' 'поселок Заводской' 'городской посёлок Новоселье'\n",
      " 'деревня Большие Колпаны' 'деревня Горбунки' 'деревня Батово'\n",
      " 'деревня Заневка' 'деревня Иссад' 'Приморск'\n",
      " 'городской посёлок Фёдоровское' 'деревня Мистолово' 'Новая Ладога'\n",
      " 'поселок Зимитицы' 'поселок Барышево' 'деревня Разметелево'\n",
      " 'поселок городского типа имени Свердлова' 'деревня Пеники'\n",
      " 'поселок Рябово' 'деревня Пудомяги' 'поселок станции Корнево'\n",
      " 'деревня Низино' 'деревня Бегуницы' 'посёлок Поляны'\n",
      " 'городской посёлок Мга' 'поселок Елизаветино'\n",
      " 'посёлок городского типа Кузнечное' 'деревня Колтуши'\n",
      " 'поселок Запорожское' 'посёлок городского типа Рощино'\n",
      " 'деревня Гостилицы' 'деревня Малое Карлино' 'посёлок Мичуринское'\n",
      " 'посёлок городского типа имени Морозова' 'посёлок Песочный'\n",
      " 'посёлок Сосново' 'деревня Аро' 'поселок Ильичёво'\n",
      " 'посёлок городского типа Тайцы' 'деревня Малое Верево' 'деревня Извара'\n",
      " 'поселок станции Вещево' 'село Паша' 'деревня Калитино'\n",
      " 'посёлок городского типа Ульяновка' 'деревня Чудской Бор'\n",
      " 'поселок городского типа Дубровка' 'деревня Мины' 'поселок Войсковицы'\n",
      " 'посёлок городского типа имени Свердлова' 'деревня Коркино'\n",
      " 'посёлок Ропша' 'поселок городского типа Приладожский' 'посёлок Щеглово'\n",
      " 'посёлок Гаврилово' 'Лодейное Поле' 'деревня Рабитицы'\n",
      " 'поселок городского типа Никольский' 'деревня Кузьмолово'\n",
      " 'деревня Малые Колпаны' 'поселок Тельмана' 'посёлок Петро-Славянка'\n",
      " 'городской посёлок Назия' 'посёлок Репино' 'посёлок Ильичёво'\n",
      " 'поселок Углово' 'поселок Старая Малукса' 'садовое товарищество Рахья'\n",
      " 'поселок Аннино' 'поселок Победа' 'деревня Меньково'\n",
      " 'деревня Старые Бегуницы' 'посёлок Сапёрный' 'поселок Семрино'\n",
      " 'поселок Гаврилово' 'поселок Глажево' 'поселок Кобринское'\n",
      " 'деревня Гарболово' 'деревня Юкки' 'поселок станции Приветнинское'\n",
      " 'деревня Мануйлово' 'деревня Пчева' 'поселок Поляны' 'поселок Цвылёво'\n",
      " 'поселок Мельниково' 'посёлок Пудость' 'посёлок Усть-Луга' 'Светогорск'\n",
      " 'Любань' 'поселок Селезнёво' 'поселок городского типа Рябово'\n",
      " 'Каменногорск' 'деревня Кривко' 'поселок Глебычево' 'деревня Парицы'\n",
      " 'поселок Жилпосёлок' 'посёлок городского типа Мга'\n",
      " 'городской поселок Янино-1' 'посёлок Войскорово' 'село Никольское'\n",
      " 'посёлок Терволово' 'поселок Стеклянный' 'посёлок городского типа Важины'\n",
      " 'посёлок Мыза-Ивановка' 'село Русско-Высоцкое'\n",
      " 'поселок городского типа Лебяжье' 'поселок городского типа Форносово'\n",
      " 'село Старая Ладога' 'поселок Житково' 'городской посёлок Виллози'\n",
      " 'деревня Лампово' 'деревня Шпаньково' 'деревня Лаврики' 'посёлок Сумино'\n",
      " 'посёлок Возрождение' 'деревня Старосиверская' 'посёлок Кикерино'\n",
      " 'поселок Возрождение' 'деревня Старое Хинколово' 'посёлок Пригородный'\n",
      " 'посёлок Торфяное' 'городской посёлок Будогощь' 'поселок Суходолье'\n",
      " 'поселок Красная Долина' 'деревня Хапо-Ое'\n",
      " 'поселок городского типа Дружная Горка' 'поселок Лисий Нос'\n",
      " 'деревня Яльгелево' 'посёлок Стеклянный' 'село Рождествено'\n",
      " 'деревня Старополье' 'посёлок Левашово' 'деревня Сяськелево'\n",
      " 'деревня Камышовка'\n",
      " 'садоводческое некоммерческое товарищество Лесная Поляна'\n",
      " 'деревня Хязельки' 'поселок Жилгородок' 'посёлок городского типа Павлово'\n",
      " 'деревня Ялгино' 'поселок Новый Учхоз' 'городской посёлок Рощино'\n",
      " 'поселок Гончарово' 'поселок Почап' 'посёлок Сапёрное'\n",
      " 'посёлок Платформа 69-й километр' 'поселок Каложицы' 'деревня Фалилеево'\n",
      " 'деревня Пельгора' 'поселок городского типа Лесогорский'\n",
      " 'деревня Торошковичи' 'посёлок Белоостров' 'посёлок Алексеевка'\n",
      " 'поселок Серебрянский' 'поселок Лукаши' 'поселок Петровское'\n",
      " 'деревня Щеглово' 'поселок Мичуринское' 'деревня Тарасово'\n",
      " 'поселок Кингисеппский' 'посёлок при железнодорожной станции Вещево'\n",
      " 'поселок Ушаки' 'деревня Котлы' 'деревня Сижно' 'деревня Торосово'\n",
      " 'посёлок Форт Красная Горка' 'поселок городского типа Токсово'\n",
      " 'деревня Новолисино' 'посёлок станции Громово' 'деревня Глинка'\n",
      " 'посёлок Мельниково' 'поселок городского типа Назия'\n",
      " 'деревня Старая Пустошь' 'поселок Коммунары' 'поселок Починок'\n",
      " 'посёлок городского типа Вознесенье' 'деревня Разбегаево'\n",
      " 'посёлок городского типа Рябово' 'поселок Гладкое'\n",
      " 'посёлок при железнодорожной станции Приветнинское' 'поселок Тёсово-4'\n",
      " 'посёлок Жилгородок' 'деревня Бор' 'посёлок Коробицыно'\n",
      " 'деревня Большая Вруда' 'деревня Курковицы' 'посёлок Лисий Нос'\n",
      " 'городской посёлок Советский' 'посёлок Кобралово' 'деревня Суоранда'\n",
      " 'поселок Кобралово' 'поселок городского типа Кондратьево'\n",
      " 'коттеджный поселок Счастье' 'поселок Любань' 'деревня Реброво'\n",
      " 'деревня Зимитицы' 'деревня Тойворово' 'поселок Семиозерье'\n",
      " 'поселок Лесное' 'поселок Совхозный' 'поселок Усть-Луга'\n",
      " 'посёлок Ленинское' 'посёлок Суйда' 'посёлок городского типа Форносово'\n",
      " 'деревня Нижние Осельки' 'посёлок станции Свирь' 'поселок Перово'\n",
      " 'Высоцк' 'поселок Гарболово' 'село Шум' 'поселок Котельский'\n",
      " 'поселок станции Лужайка' 'деревня Большая Пустомержа'\n",
      " 'поселок Красносельское' 'деревня Вахнова Кара' 'деревня Пижма'\n",
      " 'коттеджный поселок Кивеннапа Север' 'поселок Коробицыно'\n",
      " 'поселок Ромашки' 'посёлок Перово' 'деревня Каськово' 'деревня Куровицы'\n",
      " 'посёлок Плоское' 'поселок Сумино'\n",
      " 'поселок городского типа Большая Ижора' 'поселок Кирпичное'\n",
      " 'деревня Ям-Тесово' 'деревня Раздолье' 'деревня Терпилицы'\n",
      " 'посёлок Шугозеро' 'деревня Ваганово' 'поселок Пушное'\n",
      " 'садовое товарищество Садко' 'посёлок Усть-Ижора' 'деревня Выскатка'\n",
      " 'городской посёлок Свирьстрой' 'поселок Громово' 'деревня Кисельня'\n",
      " 'посёлок Старая Малукса' 'деревня Трубников Бор' 'поселок Калитино'\n",
      " 'посёлок Высокоключевой' 'садовое товарищество Приладожский'\n",
      " 'посёлок Пансионат Зелёный Бор' 'деревня Ненимяки'\n",
      " 'поселок Пансионат Зелёный Бор' 'деревня Снегирёвка' 'деревня Рапполово'\n",
      " 'деревня Пустынка' 'поселок Рабитицы' 'деревня Большой Сабск'\n",
      " 'деревня Русско' 'деревня Лупполово' 'деревня Большое Рейзино'\n",
      " 'деревня Малая Романовка' 'поселок Дружноселье' 'поселок Пчевжа'\n",
      " 'поселок Володарское' 'деревня Нижняя' 'коттеджный посёлок Лесное'\n",
      " 'деревня Тихковицы' 'деревня Борисова Грива' 'посёлок Дзержинского']\n",
      "365\n"
     ]
    }
   ],
   "source": [
    "print(data['locality_name'].unique())\n",
    "print(len(data['locality_name'].unique()))"
   ]
  },
  {
   "cell_type": "markdown",
   "metadata": {},
   "source": [
    "При просмотре уникальных значений `locality_name` были найдены неявные дубликаты: часть значений записана как `посёлок`, а часть как `поселок`."
   ]
  },
  {
   "cell_type": "code",
   "execution_count": 12,
   "metadata": {},
   "outputs": [],
   "source": [
    "# Функция, заменяющая 'ё' на 'е' в 'полсёлок'\n",
    "\n",
    "def wrong_letter_to_correct(city):\n",
    "    if 'посёлок' in city:\n",
    "        return city.replace('посёлок', 'поселок')\n",
    "    else:\n",
    "        return city"
   ]
  },
  {
   "cell_type": "code",
   "execution_count": 13,
   "metadata": {},
   "outputs": [
    {
     "name": "stdout",
     "output_type": "stream",
     "text": [
      "поселок ёлка\n",
      "поселок еж\n"
     ]
    }
   ],
   "source": [
    "# Проверка функции 'wrong_letter_to_correct'\n",
    "\n",
    "print(wrong_letter_to_correct('посёлок ёлка'))\n",
    "print(wrong_letter_to_correct('посёлок еж'))"
   ]
  },
  {
   "cell_type": "code",
   "execution_count": 14,
   "metadata": {},
   "outputs": [],
   "source": [
    "# Функция, заменяющая неявные дубликаты в столбце 'locality_name' (вроде 'поселок Мурино' и 'Мурино')\n",
    "\n",
    "def drop_implicit_city_name(city_list):\n",
    "    unique_city_name = city_list.unique()\n",
    "    for i in range(len(unique_city_name)):\n",
    "        for j in range(len(city_list)):\n",
    "            if unique_city_name[i] in city_list[j]:\n",
    "                city_list[j] = unique_city_name[i]\n",
    "    return city_list"
   ]
  },
  {
   "cell_type": "code",
   "execution_count": 15,
   "metadata": {},
   "outputs": [
    {
     "data": {
      "text/plain": [
       "0    Москва\n",
       "1    Москва\n",
       "2    Казань\n",
       "3    Казань\n",
       "4    Москва\n",
       "dtype: object"
      ]
     },
     "execution_count": 15,
     "metadata": {},
     "output_type": "execute_result"
    }
   ],
   "source": [
    "# Проверка функции 'drop_implicit_city_name'\n",
    "\n",
    "test_city_list = pd.Series(['город Москва', 'Москва', 'Казань', 'город Казань', 'город Москва'])\n",
    "drop_implicit_city_name(test_city_list)"
   ]
  },
  {
   "cell_type": "code",
   "execution_count": 16,
   "metadata": {
    "scrolled": true
   },
   "outputs": [
    {
     "name": "stderr",
     "output_type": "stream",
     "text": [
      "/tmp/ipykernel_101/1469007275.py:8: SettingWithCopyWarning: \n",
      "A value is trying to be set on a copy of a slice from a DataFrame\n",
      "\n",
      "See the caveats in the documentation: https://pandas.pydata.org/pandas-docs/stable/user_guide/indexing.html#returning-a-view-versus-a-copy\n",
      "  city_list[j] = unique_city_name[i]\n"
     ]
    },
    {
     "name": "stdout",
     "output_type": "stream",
     "text": [
      "['Санкт-Петербург' 'поселок Шушары' 'городской поселок Янино-1'\n",
      " 'поселок Парголово' 'Мурино' 'Ломоносов' 'Сертолово' 'Петергоф' 'Пушкин'\n",
      " 'Кудрово' 'Коммунар' 'Колпино' 'поселок городского типа Красный Бор'\n",
      " 'Гатчина' 'деревня Фёдоровское' 'Выборг' 'Кронштадт' 'Кировск'\n",
      " 'деревня Новое Девяткино' 'поселок Металлострой'\n",
      " 'поселок городского типа Лебяжье' 'поселок городского типа Сиверский'\n",
      " 'поселок Молодцово' 'поселок городского типа Кузьмоловский'\n",
      " 'садовое товарищество Новая Ропша' 'Павловск' 'деревня Пикколово'\n",
      " 'Всеволожск' 'Волхов' 'Кингисепп' 'Приозерск' 'Сестрорецк'\n",
      " 'деревня Куттузи' 'поселок Аннино' 'поселок городского типа Ефимовский'\n",
      " 'поселок Плодовое' 'деревня Заклинье' 'поселок Торковичи'\n",
      " 'поселок Первомайское' 'Красное Село' 'поселок Понтонный' 'Сясьстрой'\n",
      " 'деревня Старая' 'деревня Лесколово' 'поселок Новый Свет' 'Сланцы'\n",
      " 'село Путилово' 'Ивангород' 'Шлиссельбург' 'Никольское' 'Зеленогорск'\n",
      " 'Сосновый Бор' 'деревня Оржицы' 'деревня Кальтино' 'поселок Романовка'\n",
      " 'поселок Бугры' 'поселок городского типа Рощино' 'Кириши' 'Луга'\n",
      " 'Волосово' 'Отрадное' 'село Павлово' 'поселок Оредеж' 'село Копорье'\n",
      " 'поселок Молодёжное' 'Тихвин' 'поселок Победа' 'деревня Нурма'\n",
      " 'поселок городского типа Синявино' 'Тосно' 'поселок Стрельна'\n",
      " 'Бокситогорск' 'поселок Александровская' 'деревня Лопухинка' 'Пикалёво'\n",
      " 'поселок Терволово' 'поселок городского типа Советский' 'Подпорожье'\n",
      " 'поселок Петровское' 'поселок городского типа Токсово' 'поселок Сельцо'\n",
      " 'поселок городского типа Вырица' 'деревня Кипень' 'деревня Келози'\n",
      " 'деревня Вартемяги' 'поселок Тельмана' 'поселок Севастьяново'\n",
      " 'городской поселок Большая Ижора' 'nan' 'городской поселок Павлово'\n",
      " 'деревня Агалатово' 'поселок Новогорелово'\n",
      " 'городской поселок Лесогорский' 'деревня Лаголово' 'поселок Цвелодубово'\n",
      " 'поселок городского типа Рахья' 'деревня Белогорка' 'поселок Заводской'\n",
      " 'городской поселок Новоселье' 'деревня Большие Колпаны'\n",
      " 'деревня Горбунки' 'деревня Батово' 'деревня Заневка' 'деревня Иссад'\n",
      " 'Приморск' 'городской поселок Фёдоровское' 'деревня Мистолово'\n",
      " 'Новая Ладога' 'поселок Зимитицы' 'поселок Барышево'\n",
      " 'деревня Разметелево' 'поселок городского типа имени Свердлова'\n",
      " 'деревня Пеники' 'поселок Рябово' 'деревня Пудомяги'\n",
      " 'поселок станции Корнево' 'деревня Низино' 'деревня Бегуницы'\n",
      " 'поселок Поляны' 'городской поселок Мга' 'поселок Елизаветино'\n",
      " 'поселок городского типа Кузнечное' 'деревня Колтуши'\n",
      " 'поселок Запорожское' 'деревня Гостилицы' 'деревня Малое Карлино'\n",
      " 'поселок Мичуринское' 'поселок городского типа имени Морозова'\n",
      " 'поселок Песочный' 'поселок Сосново' 'деревня Аро' 'поселок Ильичёво'\n",
      " 'поселок городского типа Тайцы' 'деревня Малое Верево' 'деревня Извара'\n",
      " 'поселок станции Вещево' 'село Паша' 'деревня Калитино'\n",
      " 'поселок городского типа Ульяновка' 'деревня Чудской Бор'\n",
      " 'поселок городского типа Дубровка' 'деревня Мины' 'поселок Войсковицы'\n",
      " 'деревня Коркино' 'поселок Ропша' 'поселок городского типа Приладожский'\n",
      " 'поселок Щеглово' 'поселок Гаврилово' 'Лодейное Поле' 'деревня Рабитицы'\n",
      " 'поселок городского типа Никольский' 'деревня Кузьмолово'\n",
      " 'деревня Малые Колпаны' 'поселок Петро-Славянка'\n",
      " 'городской поселок Назия' 'поселок Репино' 'поселок Углово'\n",
      " 'поселок Старая Малукса' 'садовое товарищество Рахья' 'деревня Меньково'\n",
      " 'деревня Старые Бегуницы' 'поселок Сапёрный' 'поселок Семрино'\n",
      " 'поселок Глажево' 'поселок Кобринское' 'деревня Гарболово' 'деревня Юкки'\n",
      " 'поселок станции Приветнинское' 'деревня Мануйлово' 'деревня Пчева'\n",
      " 'поселок Цвылёво' 'поселок Мельниково' 'поселок Пудость' 'Светогорск'\n",
      " 'Любань' 'поселок Селезнёво' 'поселок городского типа Рябово'\n",
      " 'Каменногорск' 'деревня Кривко' 'поселок Глебычево' 'деревня Парицы'\n",
      " 'поселок Жилпоселок' 'поселок городского типа Мга' 'поселок Войскорово'\n",
      " 'поселок Стеклянный' 'поселок городского типа Важины'\n",
      " 'поселок Мыза-Ивановка' 'Высоцк' 'поселок городского типа Форносово'\n",
      " 'село Старая Ладога' 'поселок Житково' 'городской поселок Виллози'\n",
      " 'деревня Лампово' 'деревня Шпаньково' 'деревня Лаврики' 'поселок Сумино'\n",
      " 'поселок Возрождение' 'деревня Старосиверская' 'поселок Кикерино'\n",
      " 'деревня Старое Хинколово' 'поселок Пригородный' 'поселок Торфяное'\n",
      " 'городской поселок Будогощь' 'поселок Суходолье' 'поселок Красная Долина'\n",
      " 'деревня Хапо-Ое' 'поселок городского типа Дружная Горка'\n",
      " 'поселок Лисий Нос' 'деревня Яльгелево' 'село Рождествено'\n",
      " 'деревня Старополье' 'поселок Левашово' 'деревня Сяськелево'\n",
      " 'деревня Камышовка'\n",
      " 'садоводческое некоммерческое товарищество Лесная Поляна'\n",
      " 'деревня Хязельки' 'поселок Жилгородок' 'поселок городского типа Павлово'\n",
      " 'деревня Ялгино' 'поселок Новый Учхоз' 'городской поселок Рощино'\n",
      " 'поселок Гончарово' 'поселок Почап' 'поселок Сапёрное'\n",
      " 'поселок Платформа 69-й километр' 'поселок Каложицы' 'деревня Фалилеево'\n",
      " 'деревня Пельгора' 'поселок городского типа Лесогорский'\n",
      " 'деревня Торошковичи' 'поселок Белоостров' 'поселок Алексеевка'\n",
      " 'поселок Серебрянский' 'поселок Лукаши' 'деревня Щеглово'\n",
      " 'деревня Тарасово' 'поселок при железнодорожной станции Вещево'\n",
      " 'поселок Ушаки' 'деревня Котлы' 'деревня Сижно' 'деревня Торосово'\n",
      " 'поселок Форт Красная Горка' 'деревня Новолисино'\n",
      " 'поселок станции Громово' 'деревня Глинка'\n",
      " 'поселок городского типа Назия' 'поселок Починок'\n",
      " 'поселок городского типа Вознесенье' 'деревня Разбегаево'\n",
      " 'поселок Гладкое' 'поселок при железнодорожной станции Приветнинское'\n",
      " 'поселок Тёсово-4' 'деревня Бор' 'поселок Коробицыно'\n",
      " 'деревня Большая Вруда' 'деревня Курковицы' 'городской поселок Советский'\n",
      " 'поселок Кобралово' 'деревня Суоранда'\n",
      " 'поселок городского типа Кондратьево' 'коттеджный поселок Счастье'\n",
      " 'деревня Реброво' 'деревня Зимитицы' 'деревня Тойворово'\n",
      " 'поселок Семиозерье' 'поселок Лесное' 'поселок Совхозный'\n",
      " 'поселок Ленинское' 'поселок Суйда' 'деревня Нижние Осельки'\n",
      " 'поселок станции Свирь' 'поселок Перово' 'поселок Гарболово' 'село Шум'\n",
      " 'поселок Котельский' 'поселок станции Лужайка'\n",
      " 'деревня Большая Пустомержа' 'поселок Красносельское'\n",
      " 'деревня Вахнова Кара' 'деревня Пижма'\n",
      " 'коттеджный поселок Кивеннапа Север' 'поселок Ромашки' 'деревня Каськово'\n",
      " 'деревня Куровицы' 'поселок Плоское'\n",
      " 'поселок городского типа Большая Ижора' 'поселок Кирпичное'\n",
      " 'деревня Ям-Тесово' 'деревня Раздолье' 'деревня Терпилицы'\n",
      " 'поселок Шугозеро' 'деревня Ваганово' 'поселок Пушное'\n",
      " 'садовое товарищество Садко' 'поселок Усть-Ижора' 'деревня Выскатка'\n",
      " 'городской поселок Свирьстрой' 'поселок Громово' 'деревня Кисельня'\n",
      " 'деревня Трубников Бор' 'поселок Калитино' 'поселок Высокоключевой'\n",
      " 'садовое товарищество Приладожский' 'поселок Пансионат Зелёный Бор'\n",
      " 'деревня Ненимяки' 'деревня Снегирёвка' 'деревня Рапполово'\n",
      " 'деревня Пустынка' 'поселок Рабитицы' 'деревня Большой Сабск'\n",
      " 'деревня Русско' 'деревня Лупполово' 'деревня Большое Рейзино'\n",
      " 'деревня Малая Романовка' 'поселок Дружноселье' 'поселок Пчевжа'\n",
      " 'поселок Володарское' 'деревня Нижняя' 'деревня Тихковицы'\n",
      " 'поселок Дзержинского']\n",
      "320\n"
     ]
    }
   ],
   "source": [
    "data['locality_name'] = data['locality_name'].astype('str') # Я применил astype(), так как если его не использовать, \n",
    "                                                            # значение 'Санкт-петербуг' заменялся на 'None'\n",
    "\n",
    "data['locality_name'] = data['locality_name'].apply(wrong_letter_to_correct)\n",
    "data['locality_name'] = drop_implicit_city_name(data['locality_name'])\n",
    "print(data['locality_name'].unique())\n",
    "print(len(data['locality_name'].unique()))"
   ]
  },
  {
   "cell_type": "markdown",
   "metadata": {},
   "source": [
    "Число неявных дубликатов в столбце `locality_name` уменьшилось с 365 до 320, что говорит об успешном избавлении от неявных дубликатов в данном столбце."
   ]
  },
  {
   "cell_type": "code",
   "execution_count": 17,
   "metadata": {},
   "outputs": [
    {
     "data": {
      "text/plain": [
       "0"
      ]
     },
     "execution_count": 17,
     "metadata": {},
     "output_type": "execute_result"
    }
   ],
   "source": [
    "data.duplicated().sum()"
   ]
  },
  {
   "cell_type": "markdown",
   "metadata": {},
   "source": [
    "Явных дубликатов в таблице с данными нет."
   ]
  },
  {
   "cell_type": "markdown",
   "metadata": {},
   "source": [
    "### Вывод"
   ]
  },
  {
   "cell_type": "markdown",
   "metadata": {},
   "source": [
    "При предобработке данных были выявлены следующие моменты:\n",
    " 1. Обнаружены пропуски в 13 столбцах:\n",
    "  * Пропуски в `is_apartment` были успешно заполнены на `False`, пропуски в `balcony` были успешно заменены на `0`. Скорее всего пропуски появились от незаполнения соответствующей графы при создании объявления.\n",
    "  * Пропуски в `ceiling_height`, `floors_total`, `living_area`, `kitchen_area` обусловлены незаполнением в соответстующих графах, неизвестно каким значениями их можно заполнить. Во всех них небольшое число пропусков кроме `ceiling_height` -  в нём около 40% пропусков.\n",
    "  * Пропуски в `locality_name` странные, но их очень мало. Возможно они появились при записи.\n",
    "  * `airports_nearest`, `city_centers_nearest`, `parks_around3000`, `parks_nearest`, `ponds_around3000`, `ponds_nearest` заполнялись автоматически, пропуски в них скорее всего появились из-за ошибки при автоматических рассчётах.\n",
    "  * Пропуски в `days_exposition` вероятнее всего значат, что объявление всё ещё актуально.\n",
    " 2. Изменены типы данных в следующих столбцах:\n",
    "  * В столбце `is_apartment` тип данных изменён на `bool`, т.к. в столбце содержится информация о том, является ли продающаяся квартира апартаментом или не является.\n",
    "  * В столбце `balcony` тип данных изменён на `int`, т.к. количеством балконов может быть только целое число.\n",
    "  * В столбце `first_day_exposition` тип данных был изменён на `datetime`, т.к. данные в столбце содержат информацию о дате и времени.\n",
    "  * В столбце `floors_total` тип данных не удалось изменить на `int`, т.к. в этом столбце содержатся пропуски, которые неизвесто какими значениями заполнять.\n",
    "  * В столбце `days_exposition` тип данных не удалось изменить на `int`, т.к. в этом столбце содержатся пропуски, которые скорее всего означают, что сделка о продаже ещё не состоялась.\n",
    " 3. Были обнаружены и устранены неявные дубликаты в столбце `locality_name`. Явных дубликатов в таблице нет."
   ]
  },
  {
   "cell_type": "markdown",
   "metadata": {},
   "source": [
    "## Расчёты и добавление результатов в таблицу"
   ]
  },
  {
   "cell_type": "code",
   "execution_count": 18,
   "metadata": {},
   "outputs": [
    {
     "data": {
      "text/html": [
       "<div>\n",
       "<style scoped>\n",
       "    .dataframe tbody tr th:only-of-type {\n",
       "        vertical-align: middle;\n",
       "    }\n",
       "\n",
       "    .dataframe tbody tr th {\n",
       "        vertical-align: top;\n",
       "    }\n",
       "\n",
       "    .dataframe thead th {\n",
       "        text-align: right;\n",
       "    }\n",
       "</style>\n",
       "<table border=\"1\" class=\"dataframe\">\n",
       "  <thead>\n",
       "    <tr style=\"text-align: right;\">\n",
       "      <th></th>\n",
       "      <th>total_images</th>\n",
       "      <th>last_price</th>\n",
       "      <th>total_area</th>\n",
       "      <th>first_day_exposition</th>\n",
       "      <th>rooms</th>\n",
       "      <th>ceiling_height</th>\n",
       "      <th>floors_total</th>\n",
       "      <th>living_area</th>\n",
       "      <th>floor</th>\n",
       "      <th>is_apartment</th>\n",
       "      <th>...</th>\n",
       "      <th>balcony</th>\n",
       "      <th>locality_name</th>\n",
       "      <th>airports_nearest</th>\n",
       "      <th>city_centers_nearest</th>\n",
       "      <th>parks_around3000</th>\n",
       "      <th>parks_nearest</th>\n",
       "      <th>ponds_around3000</th>\n",
       "      <th>ponds_nearest</th>\n",
       "      <th>days_exposition</th>\n",
       "      <th>price_for_sq_metr</th>\n",
       "    </tr>\n",
       "  </thead>\n",
       "  <tbody>\n",
       "    <tr>\n",
       "      <th>0</th>\n",
       "      <td>20</td>\n",
       "      <td>13000000.0</td>\n",
       "      <td>108.00</td>\n",
       "      <td>2019-03-07</td>\n",
       "      <td>3</td>\n",
       "      <td>2.70</td>\n",
       "      <td>16.0</td>\n",
       "      <td>51.0</td>\n",
       "      <td>8</td>\n",
       "      <td>False</td>\n",
       "      <td>...</td>\n",
       "      <td>0</td>\n",
       "      <td>Санкт-Петербург</td>\n",
       "      <td>18863.0</td>\n",
       "      <td>16028.0</td>\n",
       "      <td>1.0</td>\n",
       "      <td>482.0</td>\n",
       "      <td>2.0</td>\n",
       "      <td>755.0</td>\n",
       "      <td>NaN</td>\n",
       "      <td>120370.37</td>\n",
       "    </tr>\n",
       "    <tr>\n",
       "      <th>1</th>\n",
       "      <td>7</td>\n",
       "      <td>3350000.0</td>\n",
       "      <td>40.40</td>\n",
       "      <td>2018-12-04</td>\n",
       "      <td>1</td>\n",
       "      <td>NaN</td>\n",
       "      <td>11.0</td>\n",
       "      <td>18.6</td>\n",
       "      <td>1</td>\n",
       "      <td>False</td>\n",
       "      <td>...</td>\n",
       "      <td>2</td>\n",
       "      <td>поселок Шушары</td>\n",
       "      <td>12817.0</td>\n",
       "      <td>18603.0</td>\n",
       "      <td>0.0</td>\n",
       "      <td>NaN</td>\n",
       "      <td>0.0</td>\n",
       "      <td>NaN</td>\n",
       "      <td>81.0</td>\n",
       "      <td>82920.79</td>\n",
       "    </tr>\n",
       "    <tr>\n",
       "      <th>2</th>\n",
       "      <td>10</td>\n",
       "      <td>5196000.0</td>\n",
       "      <td>56.00</td>\n",
       "      <td>2015-08-20</td>\n",
       "      <td>2</td>\n",
       "      <td>NaN</td>\n",
       "      <td>5.0</td>\n",
       "      <td>34.3</td>\n",
       "      <td>4</td>\n",
       "      <td>False</td>\n",
       "      <td>...</td>\n",
       "      <td>0</td>\n",
       "      <td>Санкт-Петербург</td>\n",
       "      <td>21741.0</td>\n",
       "      <td>13933.0</td>\n",
       "      <td>1.0</td>\n",
       "      <td>90.0</td>\n",
       "      <td>2.0</td>\n",
       "      <td>574.0</td>\n",
       "      <td>558.0</td>\n",
       "      <td>92785.71</td>\n",
       "    </tr>\n",
       "    <tr>\n",
       "      <th>3</th>\n",
       "      <td>0</td>\n",
       "      <td>64900000.0</td>\n",
       "      <td>159.00</td>\n",
       "      <td>2015-07-24</td>\n",
       "      <td>3</td>\n",
       "      <td>NaN</td>\n",
       "      <td>14.0</td>\n",
       "      <td>NaN</td>\n",
       "      <td>9</td>\n",
       "      <td>False</td>\n",
       "      <td>...</td>\n",
       "      <td>0</td>\n",
       "      <td>Санкт-Петербург</td>\n",
       "      <td>28098.0</td>\n",
       "      <td>6800.0</td>\n",
       "      <td>2.0</td>\n",
       "      <td>84.0</td>\n",
       "      <td>3.0</td>\n",
       "      <td>234.0</td>\n",
       "      <td>424.0</td>\n",
       "      <td>408176.10</td>\n",
       "    </tr>\n",
       "    <tr>\n",
       "      <th>4</th>\n",
       "      <td>2</td>\n",
       "      <td>10000000.0</td>\n",
       "      <td>100.00</td>\n",
       "      <td>2018-06-19</td>\n",
       "      <td>2</td>\n",
       "      <td>3.03</td>\n",
       "      <td>14.0</td>\n",
       "      <td>32.0</td>\n",
       "      <td>13</td>\n",
       "      <td>False</td>\n",
       "      <td>...</td>\n",
       "      <td>0</td>\n",
       "      <td>Санкт-Петербург</td>\n",
       "      <td>31856.0</td>\n",
       "      <td>8098.0</td>\n",
       "      <td>2.0</td>\n",
       "      <td>112.0</td>\n",
       "      <td>1.0</td>\n",
       "      <td>48.0</td>\n",
       "      <td>121.0</td>\n",
       "      <td>100000.00</td>\n",
       "    </tr>\n",
       "    <tr>\n",
       "      <th>...</th>\n",
       "      <td>...</td>\n",
       "      <td>...</td>\n",
       "      <td>...</td>\n",
       "      <td>...</td>\n",
       "      <td>...</td>\n",
       "      <td>...</td>\n",
       "      <td>...</td>\n",
       "      <td>...</td>\n",
       "      <td>...</td>\n",
       "      <td>...</td>\n",
       "      <td>...</td>\n",
       "      <td>...</td>\n",
       "      <td>...</td>\n",
       "      <td>...</td>\n",
       "      <td>...</td>\n",
       "      <td>...</td>\n",
       "      <td>...</td>\n",
       "      <td>...</td>\n",
       "      <td>...</td>\n",
       "      <td>...</td>\n",
       "      <td>...</td>\n",
       "    </tr>\n",
       "    <tr>\n",
       "      <th>23694</th>\n",
       "      <td>9</td>\n",
       "      <td>9700000.0</td>\n",
       "      <td>133.81</td>\n",
       "      <td>2017-03-21</td>\n",
       "      <td>3</td>\n",
       "      <td>3.70</td>\n",
       "      <td>5.0</td>\n",
       "      <td>73.3</td>\n",
       "      <td>3</td>\n",
       "      <td>False</td>\n",
       "      <td>...</td>\n",
       "      <td>0</td>\n",
       "      <td>Санкт-Петербург</td>\n",
       "      <td>24665.0</td>\n",
       "      <td>4232.0</td>\n",
       "      <td>1.0</td>\n",
       "      <td>796.0</td>\n",
       "      <td>3.0</td>\n",
       "      <td>381.0</td>\n",
       "      <td>NaN</td>\n",
       "      <td>72490.85</td>\n",
       "    </tr>\n",
       "    <tr>\n",
       "      <th>23695</th>\n",
       "      <td>14</td>\n",
       "      <td>3100000.0</td>\n",
       "      <td>59.00</td>\n",
       "      <td>2018-01-15</td>\n",
       "      <td>3</td>\n",
       "      <td>NaN</td>\n",
       "      <td>5.0</td>\n",
       "      <td>38.0</td>\n",
       "      <td>4</td>\n",
       "      <td>False</td>\n",
       "      <td>...</td>\n",
       "      <td>0</td>\n",
       "      <td>Тосно</td>\n",
       "      <td>NaN</td>\n",
       "      <td>NaN</td>\n",
       "      <td>NaN</td>\n",
       "      <td>NaN</td>\n",
       "      <td>NaN</td>\n",
       "      <td>NaN</td>\n",
       "      <td>45.0</td>\n",
       "      <td>52542.37</td>\n",
       "    </tr>\n",
       "    <tr>\n",
       "      <th>23696</th>\n",
       "      <td>18</td>\n",
       "      <td>2500000.0</td>\n",
       "      <td>56.70</td>\n",
       "      <td>2018-02-11</td>\n",
       "      <td>2</td>\n",
       "      <td>NaN</td>\n",
       "      <td>3.0</td>\n",
       "      <td>29.7</td>\n",
       "      <td>1</td>\n",
       "      <td>False</td>\n",
       "      <td>...</td>\n",
       "      <td>0</td>\n",
       "      <td>село Рождествено</td>\n",
       "      <td>NaN</td>\n",
       "      <td>NaN</td>\n",
       "      <td>NaN</td>\n",
       "      <td>NaN</td>\n",
       "      <td>NaN</td>\n",
       "      <td>NaN</td>\n",
       "      <td>NaN</td>\n",
       "      <td>44091.71</td>\n",
       "    </tr>\n",
       "    <tr>\n",
       "      <th>23697</th>\n",
       "      <td>13</td>\n",
       "      <td>11475000.0</td>\n",
       "      <td>76.75</td>\n",
       "      <td>2017-03-28</td>\n",
       "      <td>2</td>\n",
       "      <td>3.00</td>\n",
       "      <td>17.0</td>\n",
       "      <td>NaN</td>\n",
       "      <td>12</td>\n",
       "      <td>False</td>\n",
       "      <td>...</td>\n",
       "      <td>2</td>\n",
       "      <td>Санкт-Петербург</td>\n",
       "      <td>39140.0</td>\n",
       "      <td>10364.0</td>\n",
       "      <td>2.0</td>\n",
       "      <td>173.0</td>\n",
       "      <td>3.0</td>\n",
       "      <td>196.0</td>\n",
       "      <td>602.0</td>\n",
       "      <td>149511.40</td>\n",
       "    </tr>\n",
       "    <tr>\n",
       "      <th>23698</th>\n",
       "      <td>4</td>\n",
       "      <td>1350000.0</td>\n",
       "      <td>32.30</td>\n",
       "      <td>2017-07-21</td>\n",
       "      <td>1</td>\n",
       "      <td>2.50</td>\n",
       "      <td>5.0</td>\n",
       "      <td>12.3</td>\n",
       "      <td>1</td>\n",
       "      <td>False</td>\n",
       "      <td>...</td>\n",
       "      <td>0</td>\n",
       "      <td>поселок Новый Учхоз</td>\n",
       "      <td>NaN</td>\n",
       "      <td>NaN</td>\n",
       "      <td>NaN</td>\n",
       "      <td>NaN</td>\n",
       "      <td>NaN</td>\n",
       "      <td>NaN</td>\n",
       "      <td>NaN</td>\n",
       "      <td>41795.67</td>\n",
       "    </tr>\n",
       "  </tbody>\n",
       "</table>\n",
       "<p>23699 rows × 23 columns</p>\n",
       "</div>"
      ],
      "text/plain": [
       "       total_images  last_price  total_area first_day_exposition  rooms  \\\n",
       "0                20  13000000.0      108.00           2019-03-07      3   \n",
       "1                 7   3350000.0       40.40           2018-12-04      1   \n",
       "2                10   5196000.0       56.00           2015-08-20      2   \n",
       "3                 0  64900000.0      159.00           2015-07-24      3   \n",
       "4                 2  10000000.0      100.00           2018-06-19      2   \n",
       "...             ...         ...         ...                  ...    ...   \n",
       "23694             9   9700000.0      133.81           2017-03-21      3   \n",
       "23695            14   3100000.0       59.00           2018-01-15      3   \n",
       "23696            18   2500000.0       56.70           2018-02-11      2   \n",
       "23697            13  11475000.0       76.75           2017-03-28      2   \n",
       "23698             4   1350000.0       32.30           2017-07-21      1   \n",
       "\n",
       "       ceiling_height  floors_total  living_area  floor  is_apartment  ...  \\\n",
       "0                2.70          16.0         51.0      8         False  ...   \n",
       "1                 NaN          11.0         18.6      1         False  ...   \n",
       "2                 NaN           5.0         34.3      4         False  ...   \n",
       "3                 NaN          14.0          NaN      9         False  ...   \n",
       "4                3.03          14.0         32.0     13         False  ...   \n",
       "...               ...           ...          ...    ...           ...  ...   \n",
       "23694            3.70           5.0         73.3      3         False  ...   \n",
       "23695             NaN           5.0         38.0      4         False  ...   \n",
       "23696             NaN           3.0         29.7      1         False  ...   \n",
       "23697            3.00          17.0          NaN     12         False  ...   \n",
       "23698            2.50           5.0         12.3      1         False  ...   \n",
       "\n",
       "       balcony        locality_name  airports_nearest  city_centers_nearest  \\\n",
       "0            0      Санкт-Петербург           18863.0               16028.0   \n",
       "1            2       поселок Шушары           12817.0               18603.0   \n",
       "2            0      Санкт-Петербург           21741.0               13933.0   \n",
       "3            0      Санкт-Петербург           28098.0                6800.0   \n",
       "4            0      Санкт-Петербург           31856.0                8098.0   \n",
       "...        ...                  ...               ...                   ...   \n",
       "23694        0      Санкт-Петербург           24665.0                4232.0   \n",
       "23695        0                Тосно               NaN                   NaN   \n",
       "23696        0     село Рождествено               NaN                   NaN   \n",
       "23697        2      Санкт-Петербург           39140.0               10364.0   \n",
       "23698        0  поселок Новый Учхоз               NaN                   NaN   \n",
       "\n",
       "      parks_around3000  parks_nearest  ponds_around3000  ponds_nearest  \\\n",
       "0                  1.0          482.0               2.0          755.0   \n",
       "1                  0.0            NaN               0.0            NaN   \n",
       "2                  1.0           90.0               2.0          574.0   \n",
       "3                  2.0           84.0               3.0          234.0   \n",
       "4                  2.0          112.0               1.0           48.0   \n",
       "...                ...            ...               ...            ...   \n",
       "23694              1.0          796.0               3.0          381.0   \n",
       "23695              NaN            NaN               NaN            NaN   \n",
       "23696              NaN            NaN               NaN            NaN   \n",
       "23697              2.0          173.0               3.0          196.0   \n",
       "23698              NaN            NaN               NaN            NaN   \n",
       "\n",
       "       days_exposition  price_for_sq_metr  \n",
       "0                  NaN          120370.37  \n",
       "1                 81.0           82920.79  \n",
       "2                558.0           92785.71  \n",
       "3                424.0          408176.10  \n",
       "4                121.0          100000.00  \n",
       "...                ...                ...  \n",
       "23694              NaN           72490.85  \n",
       "23695             45.0           52542.37  \n",
       "23696              NaN           44091.71  \n",
       "23697            602.0          149511.40  \n",
       "23698              NaN           41795.67  \n",
       "\n",
       "[23699 rows x 23 columns]"
      ]
     },
     "execution_count": 18,
     "metadata": {},
     "output_type": "execute_result"
    }
   ],
   "source": [
    "data['price_for_sq_metr'] = round(data['last_price']/data['total_area'], 2)\n",
    "data"
   ]
  },
  {
   "cell_type": "markdown",
   "metadata": {},
   "source": [
    "Успешно добавлен столбец с ценой за кв. метр в каждом объявлении."
   ]
  },
  {
   "cell_type": "code",
   "execution_count": 19,
   "metadata": {},
   "outputs": [
    {
     "data": {
      "text/html": [
       "<div>\n",
       "<style scoped>\n",
       "    .dataframe tbody tr th:only-of-type {\n",
       "        vertical-align: middle;\n",
       "    }\n",
       "\n",
       "    .dataframe tbody tr th {\n",
       "        vertical-align: top;\n",
       "    }\n",
       "\n",
       "    .dataframe thead th {\n",
       "        text-align: right;\n",
       "    }\n",
       "</style>\n",
       "<table border=\"1\" class=\"dataframe\">\n",
       "  <thead>\n",
       "    <tr style=\"text-align: right;\">\n",
       "      <th></th>\n",
       "      <th>total_images</th>\n",
       "      <th>last_price</th>\n",
       "      <th>total_area</th>\n",
       "      <th>first_day_exposition</th>\n",
       "      <th>rooms</th>\n",
       "      <th>ceiling_height</th>\n",
       "      <th>floors_total</th>\n",
       "      <th>living_area</th>\n",
       "      <th>floor</th>\n",
       "      <th>is_apartment</th>\n",
       "      <th>...</th>\n",
       "      <th>city_centers_nearest</th>\n",
       "      <th>parks_around3000</th>\n",
       "      <th>parks_nearest</th>\n",
       "      <th>ponds_around3000</th>\n",
       "      <th>ponds_nearest</th>\n",
       "      <th>days_exposition</th>\n",
       "      <th>price_for_sq_metr</th>\n",
       "      <th>id_dayweek</th>\n",
       "      <th>id_month</th>\n",
       "      <th>year</th>\n",
       "    </tr>\n",
       "  </thead>\n",
       "  <tbody>\n",
       "    <tr>\n",
       "      <th>0</th>\n",
       "      <td>20</td>\n",
       "      <td>13000000.0</td>\n",
       "      <td>108.00</td>\n",
       "      <td>2019-03-07</td>\n",
       "      <td>3</td>\n",
       "      <td>2.70</td>\n",
       "      <td>16.0</td>\n",
       "      <td>51.0</td>\n",
       "      <td>8</td>\n",
       "      <td>False</td>\n",
       "      <td>...</td>\n",
       "      <td>16028.0</td>\n",
       "      <td>1.0</td>\n",
       "      <td>482.0</td>\n",
       "      <td>2.0</td>\n",
       "      <td>755.0</td>\n",
       "      <td>NaN</td>\n",
       "      <td>120370.37</td>\n",
       "      <td>3</td>\n",
       "      <td>3</td>\n",
       "      <td>2019</td>\n",
       "    </tr>\n",
       "    <tr>\n",
       "      <th>1</th>\n",
       "      <td>7</td>\n",
       "      <td>3350000.0</td>\n",
       "      <td>40.40</td>\n",
       "      <td>2018-12-04</td>\n",
       "      <td>1</td>\n",
       "      <td>NaN</td>\n",
       "      <td>11.0</td>\n",
       "      <td>18.6</td>\n",
       "      <td>1</td>\n",
       "      <td>False</td>\n",
       "      <td>...</td>\n",
       "      <td>18603.0</td>\n",
       "      <td>0.0</td>\n",
       "      <td>NaN</td>\n",
       "      <td>0.0</td>\n",
       "      <td>NaN</td>\n",
       "      <td>81.0</td>\n",
       "      <td>82920.79</td>\n",
       "      <td>1</td>\n",
       "      <td>12</td>\n",
       "      <td>2018</td>\n",
       "    </tr>\n",
       "    <tr>\n",
       "      <th>2</th>\n",
       "      <td>10</td>\n",
       "      <td>5196000.0</td>\n",
       "      <td>56.00</td>\n",
       "      <td>2015-08-20</td>\n",
       "      <td>2</td>\n",
       "      <td>NaN</td>\n",
       "      <td>5.0</td>\n",
       "      <td>34.3</td>\n",
       "      <td>4</td>\n",
       "      <td>False</td>\n",
       "      <td>...</td>\n",
       "      <td>13933.0</td>\n",
       "      <td>1.0</td>\n",
       "      <td>90.0</td>\n",
       "      <td>2.0</td>\n",
       "      <td>574.0</td>\n",
       "      <td>558.0</td>\n",
       "      <td>92785.71</td>\n",
       "      <td>3</td>\n",
       "      <td>8</td>\n",
       "      <td>2015</td>\n",
       "    </tr>\n",
       "    <tr>\n",
       "      <th>3</th>\n",
       "      <td>0</td>\n",
       "      <td>64900000.0</td>\n",
       "      <td>159.00</td>\n",
       "      <td>2015-07-24</td>\n",
       "      <td>3</td>\n",
       "      <td>NaN</td>\n",
       "      <td>14.0</td>\n",
       "      <td>NaN</td>\n",
       "      <td>9</td>\n",
       "      <td>False</td>\n",
       "      <td>...</td>\n",
       "      <td>6800.0</td>\n",
       "      <td>2.0</td>\n",
       "      <td>84.0</td>\n",
       "      <td>3.0</td>\n",
       "      <td>234.0</td>\n",
       "      <td>424.0</td>\n",
       "      <td>408176.10</td>\n",
       "      <td>4</td>\n",
       "      <td>7</td>\n",
       "      <td>2015</td>\n",
       "    </tr>\n",
       "    <tr>\n",
       "      <th>4</th>\n",
       "      <td>2</td>\n",
       "      <td>10000000.0</td>\n",
       "      <td>100.00</td>\n",
       "      <td>2018-06-19</td>\n",
       "      <td>2</td>\n",
       "      <td>3.03</td>\n",
       "      <td>14.0</td>\n",
       "      <td>32.0</td>\n",
       "      <td>13</td>\n",
       "      <td>False</td>\n",
       "      <td>...</td>\n",
       "      <td>8098.0</td>\n",
       "      <td>2.0</td>\n",
       "      <td>112.0</td>\n",
       "      <td>1.0</td>\n",
       "      <td>48.0</td>\n",
       "      <td>121.0</td>\n",
       "      <td>100000.00</td>\n",
       "      <td>1</td>\n",
       "      <td>6</td>\n",
       "      <td>2018</td>\n",
       "    </tr>\n",
       "    <tr>\n",
       "      <th>...</th>\n",
       "      <td>...</td>\n",
       "      <td>...</td>\n",
       "      <td>...</td>\n",
       "      <td>...</td>\n",
       "      <td>...</td>\n",
       "      <td>...</td>\n",
       "      <td>...</td>\n",
       "      <td>...</td>\n",
       "      <td>...</td>\n",
       "      <td>...</td>\n",
       "      <td>...</td>\n",
       "      <td>...</td>\n",
       "      <td>...</td>\n",
       "      <td>...</td>\n",
       "      <td>...</td>\n",
       "      <td>...</td>\n",
       "      <td>...</td>\n",
       "      <td>...</td>\n",
       "      <td>...</td>\n",
       "      <td>...</td>\n",
       "      <td>...</td>\n",
       "    </tr>\n",
       "    <tr>\n",
       "      <th>23694</th>\n",
       "      <td>9</td>\n",
       "      <td>9700000.0</td>\n",
       "      <td>133.81</td>\n",
       "      <td>2017-03-21</td>\n",
       "      <td>3</td>\n",
       "      <td>3.70</td>\n",
       "      <td>5.0</td>\n",
       "      <td>73.3</td>\n",
       "      <td>3</td>\n",
       "      <td>False</td>\n",
       "      <td>...</td>\n",
       "      <td>4232.0</td>\n",
       "      <td>1.0</td>\n",
       "      <td>796.0</td>\n",
       "      <td>3.0</td>\n",
       "      <td>381.0</td>\n",
       "      <td>NaN</td>\n",
       "      <td>72490.85</td>\n",
       "      <td>1</td>\n",
       "      <td>3</td>\n",
       "      <td>2017</td>\n",
       "    </tr>\n",
       "    <tr>\n",
       "      <th>23695</th>\n",
       "      <td>14</td>\n",
       "      <td>3100000.0</td>\n",
       "      <td>59.00</td>\n",
       "      <td>2018-01-15</td>\n",
       "      <td>3</td>\n",
       "      <td>NaN</td>\n",
       "      <td>5.0</td>\n",
       "      <td>38.0</td>\n",
       "      <td>4</td>\n",
       "      <td>False</td>\n",
       "      <td>...</td>\n",
       "      <td>NaN</td>\n",
       "      <td>NaN</td>\n",
       "      <td>NaN</td>\n",
       "      <td>NaN</td>\n",
       "      <td>NaN</td>\n",
       "      <td>45.0</td>\n",
       "      <td>52542.37</td>\n",
       "      <td>0</td>\n",
       "      <td>1</td>\n",
       "      <td>2018</td>\n",
       "    </tr>\n",
       "    <tr>\n",
       "      <th>23696</th>\n",
       "      <td>18</td>\n",
       "      <td>2500000.0</td>\n",
       "      <td>56.70</td>\n",
       "      <td>2018-02-11</td>\n",
       "      <td>2</td>\n",
       "      <td>NaN</td>\n",
       "      <td>3.0</td>\n",
       "      <td>29.7</td>\n",
       "      <td>1</td>\n",
       "      <td>False</td>\n",
       "      <td>...</td>\n",
       "      <td>NaN</td>\n",
       "      <td>NaN</td>\n",
       "      <td>NaN</td>\n",
       "      <td>NaN</td>\n",
       "      <td>NaN</td>\n",
       "      <td>NaN</td>\n",
       "      <td>44091.71</td>\n",
       "      <td>6</td>\n",
       "      <td>2</td>\n",
       "      <td>2018</td>\n",
       "    </tr>\n",
       "    <tr>\n",
       "      <th>23697</th>\n",
       "      <td>13</td>\n",
       "      <td>11475000.0</td>\n",
       "      <td>76.75</td>\n",
       "      <td>2017-03-28</td>\n",
       "      <td>2</td>\n",
       "      <td>3.00</td>\n",
       "      <td>17.0</td>\n",
       "      <td>NaN</td>\n",
       "      <td>12</td>\n",
       "      <td>False</td>\n",
       "      <td>...</td>\n",
       "      <td>10364.0</td>\n",
       "      <td>2.0</td>\n",
       "      <td>173.0</td>\n",
       "      <td>3.0</td>\n",
       "      <td>196.0</td>\n",
       "      <td>602.0</td>\n",
       "      <td>149511.40</td>\n",
       "      <td>1</td>\n",
       "      <td>3</td>\n",
       "      <td>2017</td>\n",
       "    </tr>\n",
       "    <tr>\n",
       "      <th>23698</th>\n",
       "      <td>4</td>\n",
       "      <td>1350000.0</td>\n",
       "      <td>32.30</td>\n",
       "      <td>2017-07-21</td>\n",
       "      <td>1</td>\n",
       "      <td>2.50</td>\n",
       "      <td>5.0</td>\n",
       "      <td>12.3</td>\n",
       "      <td>1</td>\n",
       "      <td>False</td>\n",
       "      <td>...</td>\n",
       "      <td>NaN</td>\n",
       "      <td>NaN</td>\n",
       "      <td>NaN</td>\n",
       "      <td>NaN</td>\n",
       "      <td>NaN</td>\n",
       "      <td>NaN</td>\n",
       "      <td>41795.67</td>\n",
       "      <td>4</td>\n",
       "      <td>7</td>\n",
       "      <td>2017</td>\n",
       "    </tr>\n",
       "  </tbody>\n",
       "</table>\n",
       "<p>23699 rows × 26 columns</p>\n",
       "</div>"
      ],
      "text/plain": [
       "       total_images  last_price  total_area first_day_exposition  rooms  \\\n",
       "0                20  13000000.0      108.00           2019-03-07      3   \n",
       "1                 7   3350000.0       40.40           2018-12-04      1   \n",
       "2                10   5196000.0       56.00           2015-08-20      2   \n",
       "3                 0  64900000.0      159.00           2015-07-24      3   \n",
       "4                 2  10000000.0      100.00           2018-06-19      2   \n",
       "...             ...         ...         ...                  ...    ...   \n",
       "23694             9   9700000.0      133.81           2017-03-21      3   \n",
       "23695            14   3100000.0       59.00           2018-01-15      3   \n",
       "23696            18   2500000.0       56.70           2018-02-11      2   \n",
       "23697            13  11475000.0       76.75           2017-03-28      2   \n",
       "23698             4   1350000.0       32.30           2017-07-21      1   \n",
       "\n",
       "       ceiling_height  floors_total  living_area  floor  is_apartment  ...  \\\n",
       "0                2.70          16.0         51.0      8         False  ...   \n",
       "1                 NaN          11.0         18.6      1         False  ...   \n",
       "2                 NaN           5.0         34.3      4         False  ...   \n",
       "3                 NaN          14.0          NaN      9         False  ...   \n",
       "4                3.03          14.0         32.0     13         False  ...   \n",
       "...               ...           ...          ...    ...           ...  ...   \n",
       "23694            3.70           5.0         73.3      3         False  ...   \n",
       "23695             NaN           5.0         38.0      4         False  ...   \n",
       "23696             NaN           3.0         29.7      1         False  ...   \n",
       "23697            3.00          17.0          NaN     12         False  ...   \n",
       "23698            2.50           5.0         12.3      1         False  ...   \n",
       "\n",
       "       city_centers_nearest  parks_around3000  parks_nearest  \\\n",
       "0                   16028.0               1.0          482.0   \n",
       "1                   18603.0               0.0            NaN   \n",
       "2                   13933.0               1.0           90.0   \n",
       "3                    6800.0               2.0           84.0   \n",
       "4                    8098.0               2.0          112.0   \n",
       "...                     ...               ...            ...   \n",
       "23694                4232.0               1.0          796.0   \n",
       "23695                   NaN               NaN            NaN   \n",
       "23696                   NaN               NaN            NaN   \n",
       "23697               10364.0               2.0          173.0   \n",
       "23698                   NaN               NaN            NaN   \n",
       "\n",
       "       ponds_around3000 ponds_nearest  days_exposition  price_for_sq_metr  \\\n",
       "0                   2.0         755.0              NaN          120370.37   \n",
       "1                   0.0           NaN             81.0           82920.79   \n",
       "2                   2.0         574.0            558.0           92785.71   \n",
       "3                   3.0         234.0            424.0          408176.10   \n",
       "4                   1.0          48.0            121.0          100000.00   \n",
       "...                 ...           ...              ...                ...   \n",
       "23694               3.0         381.0              NaN           72490.85   \n",
       "23695               NaN           NaN             45.0           52542.37   \n",
       "23696               NaN           NaN              NaN           44091.71   \n",
       "23697               3.0         196.0            602.0          149511.40   \n",
       "23698               NaN           NaN              NaN           41795.67   \n",
       "\n",
       "       id_dayweek  id_month  year  \n",
       "0               3         3  2019  \n",
       "1               1        12  2018  \n",
       "2               3         8  2015  \n",
       "3               4         7  2015  \n",
       "4               1         6  2018  \n",
       "...           ...       ...   ...  \n",
       "23694           1         3  2017  \n",
       "23695           0         1  2018  \n",
       "23696           6         2  2018  \n",
       "23697           1         3  2017  \n",
       "23698           4         7  2017  \n",
       "\n",
       "[23699 rows x 26 columns]"
      ]
     },
     "execution_count": 19,
     "metadata": {},
     "output_type": "execute_result"
    }
   ],
   "source": [
    "data['id_dayweek'] = pd.DatetimeIndex(data['first_day_exposition']).weekday\n",
    "data['id_month'] = pd.DatetimeIndex(data['first_day_exposition']).month\n",
    "data['year'] = pd.DatetimeIndex(data['first_day_exposition']).year\n",
    "data"
   ]
  },
  {
   "cell_type": "markdown",
   "metadata": {},
   "source": [
    "Успешно добавлены дни недели, месяцы и года первой публикации объявления."
   ]
  },
  {
   "cell_type": "code",
   "execution_count": 20,
   "metadata": {},
   "outputs": [],
   "source": [
    "data['dayweek'] = data['id_dayweek'].replace(0, 'Понедельник')\n",
    "data['dayweek'] = data['dayweek'].replace(1, 'Вторник')\n",
    "data['dayweek'] = data['dayweek'].replace(2, 'Среда')\n",
    "data['dayweek'] = data['dayweek'].replace(3, 'Четверг')\n",
    "data['dayweek'] = data['dayweek'].replace(4, 'Пятница')\n",
    "data['dayweek'] = data['dayweek'].replace(5, 'Суббота')\n",
    "data['dayweek'] = data['dayweek'].replace(6, 'Воскресенье')"
   ]
  },
  {
   "cell_type": "code",
   "execution_count": 21,
   "metadata": {},
   "outputs": [],
   "source": [
    "data['month'] = data['id_month'].replace(1, 'Январь')\n",
    "data['month'] = data['month'].replace(2, 'Февраль')\n",
    "data['month'] = data['month'].replace(3, 'Март')\n",
    "data['month'] = data['month'].replace(4, 'Апрель')\n",
    "data['month'] = data['month'].replace(5, 'Май')\n",
    "data['month'] = data['month'].replace(6, 'Июнь')\n",
    "data['month'] = data['month'].replace(7, 'Июль')\n",
    "data['month'] = data['month'].replace(8, 'Август')\n",
    "data['month'] = data['month'].replace(9, 'Сентябрь')\n",
    "data['month'] = data['month'].replace(10, 'Октябрь')\n",
    "data['month'] = data['month'].replace(11, 'Ноябрь')\n",
    "data['month'] = data['month'].replace(12, 'Декабрь')"
   ]
  },
  {
   "cell_type": "code",
   "execution_count": 22,
   "metadata": {
    "scrolled": true
   },
   "outputs": [
    {
     "data": {
      "text/html": [
       "<div>\n",
       "<style scoped>\n",
       "    .dataframe tbody tr th:only-of-type {\n",
       "        vertical-align: middle;\n",
       "    }\n",
       "\n",
       "    .dataframe tbody tr th {\n",
       "        vertical-align: top;\n",
       "    }\n",
       "\n",
       "    .dataframe thead th {\n",
       "        text-align: right;\n",
       "    }\n",
       "</style>\n",
       "<table border=\"1\" class=\"dataframe\">\n",
       "  <thead>\n",
       "    <tr style=\"text-align: right;\">\n",
       "      <th></th>\n",
       "      <th>total_images</th>\n",
       "      <th>last_price</th>\n",
       "      <th>total_area</th>\n",
       "      <th>first_day_exposition</th>\n",
       "      <th>rooms</th>\n",
       "      <th>ceiling_height</th>\n",
       "      <th>floors_total</th>\n",
       "      <th>living_area</th>\n",
       "      <th>floor</th>\n",
       "      <th>is_apartment</th>\n",
       "      <th>...</th>\n",
       "      <th>parks_nearest</th>\n",
       "      <th>ponds_around3000</th>\n",
       "      <th>ponds_nearest</th>\n",
       "      <th>days_exposition</th>\n",
       "      <th>price_for_sq_metr</th>\n",
       "      <th>id_dayweek</th>\n",
       "      <th>id_month</th>\n",
       "      <th>year</th>\n",
       "      <th>dayweek</th>\n",
       "      <th>month</th>\n",
       "    </tr>\n",
       "  </thead>\n",
       "  <tbody>\n",
       "    <tr>\n",
       "      <th>0</th>\n",
       "      <td>20</td>\n",
       "      <td>13000000.0</td>\n",
       "      <td>108.00</td>\n",
       "      <td>2019-03-07</td>\n",
       "      <td>3</td>\n",
       "      <td>2.70</td>\n",
       "      <td>16.0</td>\n",
       "      <td>51.0</td>\n",
       "      <td>8</td>\n",
       "      <td>False</td>\n",
       "      <td>...</td>\n",
       "      <td>482.0</td>\n",
       "      <td>2.0</td>\n",
       "      <td>755.0</td>\n",
       "      <td>NaN</td>\n",
       "      <td>120370.37</td>\n",
       "      <td>3</td>\n",
       "      <td>3</td>\n",
       "      <td>2019</td>\n",
       "      <td>Четверг</td>\n",
       "      <td>Март</td>\n",
       "    </tr>\n",
       "    <tr>\n",
       "      <th>1</th>\n",
       "      <td>7</td>\n",
       "      <td>3350000.0</td>\n",
       "      <td>40.40</td>\n",
       "      <td>2018-12-04</td>\n",
       "      <td>1</td>\n",
       "      <td>NaN</td>\n",
       "      <td>11.0</td>\n",
       "      <td>18.6</td>\n",
       "      <td>1</td>\n",
       "      <td>False</td>\n",
       "      <td>...</td>\n",
       "      <td>NaN</td>\n",
       "      <td>0.0</td>\n",
       "      <td>NaN</td>\n",
       "      <td>81.0</td>\n",
       "      <td>82920.79</td>\n",
       "      <td>1</td>\n",
       "      <td>12</td>\n",
       "      <td>2018</td>\n",
       "      <td>Вторник</td>\n",
       "      <td>Декабрь</td>\n",
       "    </tr>\n",
       "    <tr>\n",
       "      <th>2</th>\n",
       "      <td>10</td>\n",
       "      <td>5196000.0</td>\n",
       "      <td>56.00</td>\n",
       "      <td>2015-08-20</td>\n",
       "      <td>2</td>\n",
       "      <td>NaN</td>\n",
       "      <td>5.0</td>\n",
       "      <td>34.3</td>\n",
       "      <td>4</td>\n",
       "      <td>False</td>\n",
       "      <td>...</td>\n",
       "      <td>90.0</td>\n",
       "      <td>2.0</td>\n",
       "      <td>574.0</td>\n",
       "      <td>558.0</td>\n",
       "      <td>92785.71</td>\n",
       "      <td>3</td>\n",
       "      <td>8</td>\n",
       "      <td>2015</td>\n",
       "      <td>Четверг</td>\n",
       "      <td>Август</td>\n",
       "    </tr>\n",
       "    <tr>\n",
       "      <th>3</th>\n",
       "      <td>0</td>\n",
       "      <td>64900000.0</td>\n",
       "      <td>159.00</td>\n",
       "      <td>2015-07-24</td>\n",
       "      <td>3</td>\n",
       "      <td>NaN</td>\n",
       "      <td>14.0</td>\n",
       "      <td>NaN</td>\n",
       "      <td>9</td>\n",
       "      <td>False</td>\n",
       "      <td>...</td>\n",
       "      <td>84.0</td>\n",
       "      <td>3.0</td>\n",
       "      <td>234.0</td>\n",
       "      <td>424.0</td>\n",
       "      <td>408176.10</td>\n",
       "      <td>4</td>\n",
       "      <td>7</td>\n",
       "      <td>2015</td>\n",
       "      <td>Пятница</td>\n",
       "      <td>Июль</td>\n",
       "    </tr>\n",
       "    <tr>\n",
       "      <th>4</th>\n",
       "      <td>2</td>\n",
       "      <td>10000000.0</td>\n",
       "      <td>100.00</td>\n",
       "      <td>2018-06-19</td>\n",
       "      <td>2</td>\n",
       "      <td>3.03</td>\n",
       "      <td>14.0</td>\n",
       "      <td>32.0</td>\n",
       "      <td>13</td>\n",
       "      <td>False</td>\n",
       "      <td>...</td>\n",
       "      <td>112.0</td>\n",
       "      <td>1.0</td>\n",
       "      <td>48.0</td>\n",
       "      <td>121.0</td>\n",
       "      <td>100000.00</td>\n",
       "      <td>1</td>\n",
       "      <td>6</td>\n",
       "      <td>2018</td>\n",
       "      <td>Вторник</td>\n",
       "      <td>Июнь</td>\n",
       "    </tr>\n",
       "    <tr>\n",
       "      <th>...</th>\n",
       "      <td>...</td>\n",
       "      <td>...</td>\n",
       "      <td>...</td>\n",
       "      <td>...</td>\n",
       "      <td>...</td>\n",
       "      <td>...</td>\n",
       "      <td>...</td>\n",
       "      <td>...</td>\n",
       "      <td>...</td>\n",
       "      <td>...</td>\n",
       "      <td>...</td>\n",
       "      <td>...</td>\n",
       "      <td>...</td>\n",
       "      <td>...</td>\n",
       "      <td>...</td>\n",
       "      <td>...</td>\n",
       "      <td>...</td>\n",
       "      <td>...</td>\n",
       "      <td>...</td>\n",
       "      <td>...</td>\n",
       "      <td>...</td>\n",
       "    </tr>\n",
       "    <tr>\n",
       "      <th>23694</th>\n",
       "      <td>9</td>\n",
       "      <td>9700000.0</td>\n",
       "      <td>133.81</td>\n",
       "      <td>2017-03-21</td>\n",
       "      <td>3</td>\n",
       "      <td>3.70</td>\n",
       "      <td>5.0</td>\n",
       "      <td>73.3</td>\n",
       "      <td>3</td>\n",
       "      <td>False</td>\n",
       "      <td>...</td>\n",
       "      <td>796.0</td>\n",
       "      <td>3.0</td>\n",
       "      <td>381.0</td>\n",
       "      <td>NaN</td>\n",
       "      <td>72490.85</td>\n",
       "      <td>1</td>\n",
       "      <td>3</td>\n",
       "      <td>2017</td>\n",
       "      <td>Вторник</td>\n",
       "      <td>Март</td>\n",
       "    </tr>\n",
       "    <tr>\n",
       "      <th>23695</th>\n",
       "      <td>14</td>\n",
       "      <td>3100000.0</td>\n",
       "      <td>59.00</td>\n",
       "      <td>2018-01-15</td>\n",
       "      <td>3</td>\n",
       "      <td>NaN</td>\n",
       "      <td>5.0</td>\n",
       "      <td>38.0</td>\n",
       "      <td>4</td>\n",
       "      <td>False</td>\n",
       "      <td>...</td>\n",
       "      <td>NaN</td>\n",
       "      <td>NaN</td>\n",
       "      <td>NaN</td>\n",
       "      <td>45.0</td>\n",
       "      <td>52542.37</td>\n",
       "      <td>0</td>\n",
       "      <td>1</td>\n",
       "      <td>2018</td>\n",
       "      <td>Понедельник</td>\n",
       "      <td>Январь</td>\n",
       "    </tr>\n",
       "    <tr>\n",
       "      <th>23696</th>\n",
       "      <td>18</td>\n",
       "      <td>2500000.0</td>\n",
       "      <td>56.70</td>\n",
       "      <td>2018-02-11</td>\n",
       "      <td>2</td>\n",
       "      <td>NaN</td>\n",
       "      <td>3.0</td>\n",
       "      <td>29.7</td>\n",
       "      <td>1</td>\n",
       "      <td>False</td>\n",
       "      <td>...</td>\n",
       "      <td>NaN</td>\n",
       "      <td>NaN</td>\n",
       "      <td>NaN</td>\n",
       "      <td>NaN</td>\n",
       "      <td>44091.71</td>\n",
       "      <td>6</td>\n",
       "      <td>2</td>\n",
       "      <td>2018</td>\n",
       "      <td>Воскресенье</td>\n",
       "      <td>Февраль</td>\n",
       "    </tr>\n",
       "    <tr>\n",
       "      <th>23697</th>\n",
       "      <td>13</td>\n",
       "      <td>11475000.0</td>\n",
       "      <td>76.75</td>\n",
       "      <td>2017-03-28</td>\n",
       "      <td>2</td>\n",
       "      <td>3.00</td>\n",
       "      <td>17.0</td>\n",
       "      <td>NaN</td>\n",
       "      <td>12</td>\n",
       "      <td>False</td>\n",
       "      <td>...</td>\n",
       "      <td>173.0</td>\n",
       "      <td>3.0</td>\n",
       "      <td>196.0</td>\n",
       "      <td>602.0</td>\n",
       "      <td>149511.40</td>\n",
       "      <td>1</td>\n",
       "      <td>3</td>\n",
       "      <td>2017</td>\n",
       "      <td>Вторник</td>\n",
       "      <td>Март</td>\n",
       "    </tr>\n",
       "    <tr>\n",
       "      <th>23698</th>\n",
       "      <td>4</td>\n",
       "      <td>1350000.0</td>\n",
       "      <td>32.30</td>\n",
       "      <td>2017-07-21</td>\n",
       "      <td>1</td>\n",
       "      <td>2.50</td>\n",
       "      <td>5.0</td>\n",
       "      <td>12.3</td>\n",
       "      <td>1</td>\n",
       "      <td>False</td>\n",
       "      <td>...</td>\n",
       "      <td>NaN</td>\n",
       "      <td>NaN</td>\n",
       "      <td>NaN</td>\n",
       "      <td>NaN</td>\n",
       "      <td>41795.67</td>\n",
       "      <td>4</td>\n",
       "      <td>7</td>\n",
       "      <td>2017</td>\n",
       "      <td>Пятница</td>\n",
       "      <td>Июль</td>\n",
       "    </tr>\n",
       "  </tbody>\n",
       "</table>\n",
       "<p>23699 rows × 28 columns</p>\n",
       "</div>"
      ],
      "text/plain": [
       "       total_images  last_price  total_area first_day_exposition  rooms  \\\n",
       "0                20  13000000.0      108.00           2019-03-07      3   \n",
       "1                 7   3350000.0       40.40           2018-12-04      1   \n",
       "2                10   5196000.0       56.00           2015-08-20      2   \n",
       "3                 0  64900000.0      159.00           2015-07-24      3   \n",
       "4                 2  10000000.0      100.00           2018-06-19      2   \n",
       "...             ...         ...         ...                  ...    ...   \n",
       "23694             9   9700000.0      133.81           2017-03-21      3   \n",
       "23695            14   3100000.0       59.00           2018-01-15      3   \n",
       "23696            18   2500000.0       56.70           2018-02-11      2   \n",
       "23697            13  11475000.0       76.75           2017-03-28      2   \n",
       "23698             4   1350000.0       32.30           2017-07-21      1   \n",
       "\n",
       "       ceiling_height  floors_total  living_area  floor  is_apartment  ...  \\\n",
       "0                2.70          16.0         51.0      8         False  ...   \n",
       "1                 NaN          11.0         18.6      1         False  ...   \n",
       "2                 NaN           5.0         34.3      4         False  ...   \n",
       "3                 NaN          14.0          NaN      9         False  ...   \n",
       "4                3.03          14.0         32.0     13         False  ...   \n",
       "...               ...           ...          ...    ...           ...  ...   \n",
       "23694            3.70           5.0         73.3      3         False  ...   \n",
       "23695             NaN           5.0         38.0      4         False  ...   \n",
       "23696             NaN           3.0         29.7      1         False  ...   \n",
       "23697            3.00          17.0          NaN     12         False  ...   \n",
       "23698            2.50           5.0         12.3      1         False  ...   \n",
       "\n",
       "       parks_nearest  ponds_around3000  ponds_nearest  days_exposition  \\\n",
       "0              482.0               2.0          755.0              NaN   \n",
       "1                NaN               0.0            NaN             81.0   \n",
       "2               90.0               2.0          574.0            558.0   \n",
       "3               84.0               3.0          234.0            424.0   \n",
       "4              112.0               1.0           48.0            121.0   \n",
       "...              ...               ...            ...              ...   \n",
       "23694          796.0               3.0          381.0              NaN   \n",
       "23695            NaN               NaN            NaN             45.0   \n",
       "23696            NaN               NaN            NaN              NaN   \n",
       "23697          173.0               3.0          196.0            602.0   \n",
       "23698            NaN               NaN            NaN              NaN   \n",
       "\n",
       "      price_for_sq_metr  id_dayweek  id_month  year      dayweek    month  \n",
       "0             120370.37           3         3  2019      Четверг     Март  \n",
       "1              82920.79           1        12  2018      Вторник  Декабрь  \n",
       "2              92785.71           3         8  2015      Четверг   Август  \n",
       "3             408176.10           4         7  2015      Пятница     Июль  \n",
       "4             100000.00           1         6  2018      Вторник     Июнь  \n",
       "...                 ...         ...       ...   ...          ...      ...  \n",
       "23694          72490.85           1         3  2017      Вторник     Март  \n",
       "23695          52542.37           0         1  2018  Понедельник   Январь  \n",
       "23696          44091.71           6         2  2018  Воскресенье  Февраль  \n",
       "23697         149511.40           1         3  2017      Вторник     Март  \n",
       "23698          41795.67           4         7  2017      Пятница     Июль  \n",
       "\n",
       "[23699 rows x 28 columns]"
      ]
     },
     "execution_count": 22,
     "metadata": {},
     "output_type": "execute_result"
    }
   ],
   "source": [
    "data"
   ]
  },
  {
   "cell_type": "markdown",
   "metadata": {},
   "source": [
    "Индексы месяцев и дней недели изменены на их названия, для удобства чтения."
   ]
  },
  {
   "cell_type": "code",
   "execution_count": 23,
   "metadata": {},
   "outputs": [],
   "source": [
    "# Функция для группировки этажей квартир по группам 'первый', 'последний', 'другой'\n",
    "\n",
    "def group_floor(floor, total_floor):\n",
    "    column = []\n",
    "    for i in range(len(floor)):\n",
    "        if floor[i] == 1:\n",
    "            column.append('Первый')\n",
    "        elif floor[i] == total_floor[i]:\n",
    "            column.append('Последний')\n",
    "        else:\n",
    "            column.append('Другой')\n",
    "    return column"
   ]
  },
  {
   "cell_type": "code",
   "execution_count": 24,
   "metadata": {
    "scrolled": true
   },
   "outputs": [
    {
     "data": {
      "text/plain": [
       "0        Другой\n",
       "1        Первый\n",
       "2        Другой\n",
       "3        Другой\n",
       "4        Другой\n",
       "5        Другой\n",
       "6        Другой\n",
       "7        Другой\n",
       "8        Другой\n",
       "9        Другой\n",
       "10       Другой\n",
       "11       Другой\n",
       "12    Последний\n",
       "13    Последний\n",
       "14       Первый\n",
       "Name: group_floor, dtype: object"
      ]
     },
     "execution_count": 24,
     "metadata": {},
     "output_type": "execute_result"
    }
   ],
   "source": [
    "data['group_floor'] = group_floor(data['floor'], data['floors_total'])\n",
    "data['group_floor'].head(15)"
   ]
  },
  {
   "cell_type": "code",
   "execution_count": 25,
   "metadata": {},
   "outputs": [],
   "source": [
    "data['id_group_floor'] = data['group_floor'].replace('Первый', 0)\n",
    "data['id_group_floor'] = data['id_group_floor'].replace('Другой', 1)\n",
    "data['id_group_floor'] = data['id_group_floor'].replace('Последний', 2)"
   ]
  },
  {
   "cell_type": "markdown",
   "metadata": {},
   "source": [
    "Расположение квартир сгруппировано."
   ]
  },
  {
   "cell_type": "code",
   "execution_count": 26,
   "metadata": {},
   "outputs": [
    {
     "data": {
      "text/html": [
       "<div>\n",
       "<style scoped>\n",
       "    .dataframe tbody tr th:only-of-type {\n",
       "        vertical-align: middle;\n",
       "    }\n",
       "\n",
       "    .dataframe tbody tr th {\n",
       "        vertical-align: top;\n",
       "    }\n",
       "\n",
       "    .dataframe thead th {\n",
       "        text-align: right;\n",
       "    }\n",
       "</style>\n",
       "<table border=\"1\" class=\"dataframe\">\n",
       "  <thead>\n",
       "    <tr style=\"text-align: right;\">\n",
       "      <th></th>\n",
       "      <th>total_images</th>\n",
       "      <th>last_price</th>\n",
       "      <th>total_area</th>\n",
       "      <th>first_day_exposition</th>\n",
       "      <th>rooms</th>\n",
       "      <th>ceiling_height</th>\n",
       "      <th>floors_total</th>\n",
       "      <th>living_area</th>\n",
       "      <th>floor</th>\n",
       "      <th>is_apartment</th>\n",
       "      <th>...</th>\n",
       "      <th>price_for_sq_metr</th>\n",
       "      <th>id_dayweek</th>\n",
       "      <th>id_month</th>\n",
       "      <th>year</th>\n",
       "      <th>dayweek</th>\n",
       "      <th>month</th>\n",
       "      <th>group_floor</th>\n",
       "      <th>id_group_floor</th>\n",
       "      <th>live_to_total_area</th>\n",
       "      <th>kitchen_to_total_area</th>\n",
       "    </tr>\n",
       "  </thead>\n",
       "  <tbody>\n",
       "    <tr>\n",
       "      <th>0</th>\n",
       "      <td>20</td>\n",
       "      <td>13000000.0</td>\n",
       "      <td>108.00</td>\n",
       "      <td>2019-03-07</td>\n",
       "      <td>3</td>\n",
       "      <td>2.70</td>\n",
       "      <td>16.0</td>\n",
       "      <td>51.0</td>\n",
       "      <td>8</td>\n",
       "      <td>False</td>\n",
       "      <td>...</td>\n",
       "      <td>120370.37</td>\n",
       "      <td>3</td>\n",
       "      <td>3</td>\n",
       "      <td>2019</td>\n",
       "      <td>Четверг</td>\n",
       "      <td>Март</td>\n",
       "      <td>Другой</td>\n",
       "      <td>1</td>\n",
       "      <td>47.2</td>\n",
       "      <td>23.1</td>\n",
       "    </tr>\n",
       "    <tr>\n",
       "      <th>1</th>\n",
       "      <td>7</td>\n",
       "      <td>3350000.0</td>\n",
       "      <td>40.40</td>\n",
       "      <td>2018-12-04</td>\n",
       "      <td>1</td>\n",
       "      <td>NaN</td>\n",
       "      <td>11.0</td>\n",
       "      <td>18.6</td>\n",
       "      <td>1</td>\n",
       "      <td>False</td>\n",
       "      <td>...</td>\n",
       "      <td>82920.79</td>\n",
       "      <td>1</td>\n",
       "      <td>12</td>\n",
       "      <td>2018</td>\n",
       "      <td>Вторник</td>\n",
       "      <td>Декабрь</td>\n",
       "      <td>Первый</td>\n",
       "      <td>0</td>\n",
       "      <td>46.0</td>\n",
       "      <td>27.2</td>\n",
       "    </tr>\n",
       "    <tr>\n",
       "      <th>2</th>\n",
       "      <td>10</td>\n",
       "      <td>5196000.0</td>\n",
       "      <td>56.00</td>\n",
       "      <td>2015-08-20</td>\n",
       "      <td>2</td>\n",
       "      <td>NaN</td>\n",
       "      <td>5.0</td>\n",
       "      <td>34.3</td>\n",
       "      <td>4</td>\n",
       "      <td>False</td>\n",
       "      <td>...</td>\n",
       "      <td>92785.71</td>\n",
       "      <td>3</td>\n",
       "      <td>8</td>\n",
       "      <td>2015</td>\n",
       "      <td>Четверг</td>\n",
       "      <td>Август</td>\n",
       "      <td>Другой</td>\n",
       "      <td>1</td>\n",
       "      <td>61.2</td>\n",
       "      <td>14.8</td>\n",
       "    </tr>\n",
       "    <tr>\n",
       "      <th>3</th>\n",
       "      <td>0</td>\n",
       "      <td>64900000.0</td>\n",
       "      <td>159.00</td>\n",
       "      <td>2015-07-24</td>\n",
       "      <td>3</td>\n",
       "      <td>NaN</td>\n",
       "      <td>14.0</td>\n",
       "      <td>NaN</td>\n",
       "      <td>9</td>\n",
       "      <td>False</td>\n",
       "      <td>...</td>\n",
       "      <td>408176.10</td>\n",
       "      <td>4</td>\n",
       "      <td>7</td>\n",
       "      <td>2015</td>\n",
       "      <td>Пятница</td>\n",
       "      <td>Июль</td>\n",
       "      <td>Другой</td>\n",
       "      <td>1</td>\n",
       "      <td>NaN</td>\n",
       "      <td>NaN</td>\n",
       "    </tr>\n",
       "    <tr>\n",
       "      <th>4</th>\n",
       "      <td>2</td>\n",
       "      <td>10000000.0</td>\n",
       "      <td>100.00</td>\n",
       "      <td>2018-06-19</td>\n",
       "      <td>2</td>\n",
       "      <td>3.03</td>\n",
       "      <td>14.0</td>\n",
       "      <td>32.0</td>\n",
       "      <td>13</td>\n",
       "      <td>False</td>\n",
       "      <td>...</td>\n",
       "      <td>100000.00</td>\n",
       "      <td>1</td>\n",
       "      <td>6</td>\n",
       "      <td>2018</td>\n",
       "      <td>Вторник</td>\n",
       "      <td>Июнь</td>\n",
       "      <td>Другой</td>\n",
       "      <td>1</td>\n",
       "      <td>32.0</td>\n",
       "      <td>41.0</td>\n",
       "    </tr>\n",
       "    <tr>\n",
       "      <th>...</th>\n",
       "      <td>...</td>\n",
       "      <td>...</td>\n",
       "      <td>...</td>\n",
       "      <td>...</td>\n",
       "      <td>...</td>\n",
       "      <td>...</td>\n",
       "      <td>...</td>\n",
       "      <td>...</td>\n",
       "      <td>...</td>\n",
       "      <td>...</td>\n",
       "      <td>...</td>\n",
       "      <td>...</td>\n",
       "      <td>...</td>\n",
       "      <td>...</td>\n",
       "      <td>...</td>\n",
       "      <td>...</td>\n",
       "      <td>...</td>\n",
       "      <td>...</td>\n",
       "      <td>...</td>\n",
       "      <td>...</td>\n",
       "      <td>...</td>\n",
       "    </tr>\n",
       "    <tr>\n",
       "      <th>23694</th>\n",
       "      <td>9</td>\n",
       "      <td>9700000.0</td>\n",
       "      <td>133.81</td>\n",
       "      <td>2017-03-21</td>\n",
       "      <td>3</td>\n",
       "      <td>3.70</td>\n",
       "      <td>5.0</td>\n",
       "      <td>73.3</td>\n",
       "      <td>3</td>\n",
       "      <td>False</td>\n",
       "      <td>...</td>\n",
       "      <td>72490.85</td>\n",
       "      <td>1</td>\n",
       "      <td>3</td>\n",
       "      <td>2017</td>\n",
       "      <td>Вторник</td>\n",
       "      <td>Март</td>\n",
       "      <td>Другой</td>\n",
       "      <td>1</td>\n",
       "      <td>54.8</td>\n",
       "      <td>10.3</td>\n",
       "    </tr>\n",
       "    <tr>\n",
       "      <th>23695</th>\n",
       "      <td>14</td>\n",
       "      <td>3100000.0</td>\n",
       "      <td>59.00</td>\n",
       "      <td>2018-01-15</td>\n",
       "      <td>3</td>\n",
       "      <td>NaN</td>\n",
       "      <td>5.0</td>\n",
       "      <td>38.0</td>\n",
       "      <td>4</td>\n",
       "      <td>False</td>\n",
       "      <td>...</td>\n",
       "      <td>52542.37</td>\n",
       "      <td>0</td>\n",
       "      <td>1</td>\n",
       "      <td>2018</td>\n",
       "      <td>Понедельник</td>\n",
       "      <td>Январь</td>\n",
       "      <td>Другой</td>\n",
       "      <td>1</td>\n",
       "      <td>64.4</td>\n",
       "      <td>14.4</td>\n",
       "    </tr>\n",
       "    <tr>\n",
       "      <th>23696</th>\n",
       "      <td>18</td>\n",
       "      <td>2500000.0</td>\n",
       "      <td>56.70</td>\n",
       "      <td>2018-02-11</td>\n",
       "      <td>2</td>\n",
       "      <td>NaN</td>\n",
       "      <td>3.0</td>\n",
       "      <td>29.7</td>\n",
       "      <td>1</td>\n",
       "      <td>False</td>\n",
       "      <td>...</td>\n",
       "      <td>44091.71</td>\n",
       "      <td>6</td>\n",
       "      <td>2</td>\n",
       "      <td>2018</td>\n",
       "      <td>Воскресенье</td>\n",
       "      <td>Февраль</td>\n",
       "      <td>Первый</td>\n",
       "      <td>0</td>\n",
       "      <td>52.4</td>\n",
       "      <td>NaN</td>\n",
       "    </tr>\n",
       "    <tr>\n",
       "      <th>23697</th>\n",
       "      <td>13</td>\n",
       "      <td>11475000.0</td>\n",
       "      <td>76.75</td>\n",
       "      <td>2017-03-28</td>\n",
       "      <td>2</td>\n",
       "      <td>3.00</td>\n",
       "      <td>17.0</td>\n",
       "      <td>NaN</td>\n",
       "      <td>12</td>\n",
       "      <td>False</td>\n",
       "      <td>...</td>\n",
       "      <td>149511.40</td>\n",
       "      <td>1</td>\n",
       "      <td>3</td>\n",
       "      <td>2017</td>\n",
       "      <td>Вторник</td>\n",
       "      <td>Март</td>\n",
       "      <td>Другой</td>\n",
       "      <td>1</td>\n",
       "      <td>NaN</td>\n",
       "      <td>30.4</td>\n",
       "    </tr>\n",
       "    <tr>\n",
       "      <th>23698</th>\n",
       "      <td>4</td>\n",
       "      <td>1350000.0</td>\n",
       "      <td>32.30</td>\n",
       "      <td>2017-07-21</td>\n",
       "      <td>1</td>\n",
       "      <td>2.50</td>\n",
       "      <td>5.0</td>\n",
       "      <td>12.3</td>\n",
       "      <td>1</td>\n",
       "      <td>False</td>\n",
       "      <td>...</td>\n",
       "      <td>41795.67</td>\n",
       "      <td>4</td>\n",
       "      <td>7</td>\n",
       "      <td>2017</td>\n",
       "      <td>Пятница</td>\n",
       "      <td>Июль</td>\n",
       "      <td>Первый</td>\n",
       "      <td>0</td>\n",
       "      <td>38.1</td>\n",
       "      <td>27.9</td>\n",
       "    </tr>\n",
       "  </tbody>\n",
       "</table>\n",
       "<p>23699 rows × 32 columns</p>\n",
       "</div>"
      ],
      "text/plain": [
       "       total_images  last_price  total_area first_day_exposition  rooms  \\\n",
       "0                20  13000000.0      108.00           2019-03-07      3   \n",
       "1                 7   3350000.0       40.40           2018-12-04      1   \n",
       "2                10   5196000.0       56.00           2015-08-20      2   \n",
       "3                 0  64900000.0      159.00           2015-07-24      3   \n",
       "4                 2  10000000.0      100.00           2018-06-19      2   \n",
       "...             ...         ...         ...                  ...    ...   \n",
       "23694             9   9700000.0      133.81           2017-03-21      3   \n",
       "23695            14   3100000.0       59.00           2018-01-15      3   \n",
       "23696            18   2500000.0       56.70           2018-02-11      2   \n",
       "23697            13  11475000.0       76.75           2017-03-28      2   \n",
       "23698             4   1350000.0       32.30           2017-07-21      1   \n",
       "\n",
       "       ceiling_height  floors_total  living_area  floor  is_apartment  ...  \\\n",
       "0                2.70          16.0         51.0      8         False  ...   \n",
       "1                 NaN          11.0         18.6      1         False  ...   \n",
       "2                 NaN           5.0         34.3      4         False  ...   \n",
       "3                 NaN          14.0          NaN      9         False  ...   \n",
       "4                3.03          14.0         32.0     13         False  ...   \n",
       "...               ...           ...          ...    ...           ...  ...   \n",
       "23694            3.70           5.0         73.3      3         False  ...   \n",
       "23695             NaN           5.0         38.0      4         False  ...   \n",
       "23696             NaN           3.0         29.7      1         False  ...   \n",
       "23697            3.00          17.0          NaN     12         False  ...   \n",
       "23698            2.50           5.0         12.3      1         False  ...   \n",
       "\n",
       "       price_for_sq_metr  id_dayweek  id_month  year      dayweek    month  \\\n",
       "0              120370.37           3         3  2019      Четверг     Март   \n",
       "1               82920.79           1        12  2018      Вторник  Декабрь   \n",
       "2               92785.71           3         8  2015      Четверг   Август   \n",
       "3              408176.10           4         7  2015      Пятница     Июль   \n",
       "4              100000.00           1         6  2018      Вторник     Июнь   \n",
       "...                  ...         ...       ...   ...          ...      ...   \n",
       "23694           72490.85           1         3  2017      Вторник     Март   \n",
       "23695           52542.37           0         1  2018  Понедельник   Январь   \n",
       "23696           44091.71           6         2  2018  Воскресенье  Февраль   \n",
       "23697          149511.40           1         3  2017      Вторник     Март   \n",
       "23698           41795.67           4         7  2017      Пятница     Июль   \n",
       "\n",
       "       group_floor  id_group_floor  live_to_total_area  kitchen_to_total_area  \n",
       "0           Другой               1                47.2                   23.1  \n",
       "1           Первый               0                46.0                   27.2  \n",
       "2           Другой               1                61.2                   14.8  \n",
       "3           Другой               1                 NaN                    NaN  \n",
       "4           Другой               1                32.0                   41.0  \n",
       "...            ...             ...                 ...                    ...  \n",
       "23694       Другой               1                54.8                   10.3  \n",
       "23695       Другой               1                64.4                   14.4  \n",
       "23696       Первый               0                52.4                    NaN  \n",
       "23697       Другой               1                 NaN                   30.4  \n",
       "23698       Первый               0                38.1                   27.9  \n",
       "\n",
       "[23699 rows x 32 columns]"
      ]
     },
     "execution_count": 26,
     "metadata": {},
     "output_type": "execute_result"
    }
   ],
   "source": [
    "data['live_to_total_area'] = round(data['living_area'] / data['total_area'] * 100, 1)\n",
    "data['kitchen_to_total_area'] = round(data['kitchen_area'] / data['total_area'] * 100, 1)\n",
    "data"
   ]
  },
  {
   "cell_type": "markdown",
   "metadata": {},
   "source": [
    "В таблицу добавлены доли жилой площади и доли кухонь."
   ]
  },
  {
   "cell_type": "markdown",
   "metadata": {},
   "source": [
    "## Исследовательский анализ данных"
   ]
  },
  {
   "cell_type": "markdown",
   "metadata": {},
   "source": [
    "### Ислледовние площади квартир, цены, числа комнат и высоты потолков"
   ]
  },
  {
   "cell_type": "code",
   "execution_count": 27,
   "metadata": {},
   "outputs": [
    {
     "data": {
      "text/plain": [
       "count    23699.000000\n",
       "mean        60.348651\n",
       "std         35.654083\n",
       "min         12.000000\n",
       "25%         40.000000\n",
       "50%         52.000000\n",
       "75%         69.900000\n",
       "max        900.000000\n",
       "Name: total_area, dtype: float64"
      ]
     },
     "execution_count": 27,
     "metadata": {},
     "output_type": "execute_result"
    }
   ],
   "source": [
    "data['total_area'].describe()"
   ]
  },
  {
   "cell_type": "markdown",
   "metadata": {},
   "source": [
    "* Средняя площадь продаваемых квартир - 60 кв. метров;\n",
    "* Среднее отклонение площади продаваемых квартир - 35.7 кв. метров;\n",
    "* Медианная площадь площадь продаваемых квартир - 52 кв. метра;\n",
    "* Аномально высокая максимальная площадь - 900 кв. метров."
   ]
  },
  {
   "cell_type": "code",
   "execution_count": 28,
   "metadata": {},
   "outputs": [
    {
     "data": {
      "text/plain": [
       "<AxesSubplot:>"
      ]
     },
     "execution_count": 28,
     "metadata": {},
     "output_type": "execute_result"
    },
    {
     "data": {
      "image/png": "[encoded data removed]",
      "text/plain": [
       "<Figure size 432x288 with 1 Axes>"
      ]
     },
     "metadata": {
      "needs_background": "light"
     },
     "output_type": "display_data"
    }
   ],
   "source": [
    "data['total_area'].hist(bins=20, range=(40-1.5*(69.9-40), 69.9+1.5*(69.9-40)))"
   ]
  },
  {
   "cell_type": "markdown",
   "metadata": {},
   "source": [
    "Гистограмма имеет вид почти правильного распределения значений, с просадками около квартир с площадью в 40 кв. метров и 55 кв. метров. Возможно это говорит о том, что объявлений с такой площадью меньше. Пик гистограммы приходится на 45-50 кв. метров."
   ]
  },
  {
   "cell_type": "code",
   "execution_count": 29,
   "metadata": {},
   "outputs": [
    {
     "data": {
      "text/plain": [
       "count    23699.000000\n",
       "mean         6.541549\n",
       "std         10.887013\n",
       "min          0.012190\n",
       "25%          3.400000\n",
       "50%          4.650000\n",
       "75%          6.800000\n",
       "max        763.000000\n",
       "Name: last_price, dtype: float64"
      ]
     },
     "execution_count": 29,
     "metadata": {},
     "output_type": "execute_result"
    }
   ],
   "source": [
    "data['last_price'] = data['last_price'] / 1000000 # Сокращение цен до млн. рублей\n",
    "data['last_price'].describe()"
   ]
  },
  {
   "cell_type": "markdown",
   "metadata": {},
   "source": [
    "* Средняя цена продаж - 6.54 млн. рублей;\n",
    "* Среднее отклонение цен продаж - 10.88 млн. рублей;\n",
    "* Медианная цена продаж - 4.65 млн. рублей;\n",
    "* Аномально высокая максимальная цена квартиры равна 763 млн. рублей (хотя не исключено что это цена в аппартаментах в центре города)."
   ]
  },
  {
   "cell_type": "code",
   "execution_count": 30,
   "metadata": {},
   "outputs": [
    {
     "data": {
      "text/plain": [
       "<AxesSubplot:>"
      ]
     },
     "execution_count": 30,
     "metadata": {},
     "output_type": "execute_result"
    },
    {
     "data": {
      "image/png": "[encoded data removed]",
      "text/plain": [
       "<Figure size 432x288 with 1 Axes>"
      ]
     },
     "metadata": {
      "needs_background": "light"
     },
     "output_type": "display_data"
    }
   ],
   "source": [
    "data['last_price'].hist(bins=25, range=(3.4-1.5*(6.8-3.4), 6.8+1.5*(6.8-3.4)))"
   ]
  },
  {
   "cell_type": "markdown",
   "metadata": {},
   "source": [
    "Гистограмма имеет вид правильного распределения значений. Есть небольшие подозрения об очень заниженных ценах, хотя возможно это цены за доли в квартирах рассположенных очень далеко. Пик гистограммы приходится на 3 млн. рублей."
   ]
  },
  {
   "cell_type": "code",
   "execution_count": 31,
   "metadata": {},
   "outputs": [
    {
     "data": {
      "text/plain": [
       "count    23699.000000\n",
       "mean         2.070636\n",
       "std          1.078405\n",
       "min          0.000000\n",
       "25%          1.000000\n",
       "50%          2.000000\n",
       "75%          3.000000\n",
       "max         19.000000\n",
       "Name: rooms, dtype: float64"
      ]
     },
     "execution_count": 31,
     "metadata": {},
     "output_type": "execute_result"
    }
   ],
   "source": [
    "data['rooms'].describe()"
   ]
  },
  {
   "cell_type": "code",
   "execution_count": 32,
   "metadata": {},
   "outputs": [
    {
     "data": {
      "text/plain": [
       "<AxesSubplot:>"
      ]
     },
     "execution_count": 32,
     "metadata": {},
     "output_type": "execute_result"
    },
    {
     "data": {
      "image/png": "[encoded data removed]",
      "text/plain": [
       "<Figure size 432x288 with 1 Axes>"
      ]
     },
     "metadata": {
      "needs_background": "light"
     },
     "output_type": "display_data"
    }
   ],
   "source": [
    "data['rooms'].hist(bins=25, range=(1-1.5*(3-1), 3+1.5*(3-1)))"
   ]
  },
  {
   "cell_type": "markdown",
   "metadata": {},
   "source": [
    "На гистограмме отчётливо видно, что в основном продаются однокомнатные и двухкомнатные квартиры. Подозрения вызывают лишь объявления, в которых указанное число комнат равно `0`. Хотя возможно так люди указывали квартиры-студии и квартиры со свободной планировкой. "
   ]
  },
  {
   "cell_type": "code",
   "execution_count": 33,
   "metadata": {},
   "outputs": [
    {
     "data": {
      "text/plain": [
       "count    14504.000000\n",
       "mean         2.771499\n",
       "std          1.261056\n",
       "min          1.000000\n",
       "25%          2.520000\n",
       "50%          2.650000\n",
       "75%          2.800000\n",
       "max        100.000000\n",
       "Name: ceiling_height, dtype: float64"
      ]
     },
     "execution_count": 33,
     "metadata": {},
     "output_type": "execute_result"
    }
   ],
   "source": [
    "data['ceiling_height'].describe()"
   ]
  },
  {
   "cell_type": "markdown",
   "metadata": {},
   "source": []
  },
  {
   "cell_type": "code",
   "execution_count": 34,
   "metadata": {},
   "outputs": [
    {
     "data": {
      "text/plain": [
       "<AxesSubplot:>"
      ]
     },
     "execution_count": 34,
     "metadata": {},
     "output_type": "execute_result"
    },
    {
     "data": {
      "image/png": "[encoded data removed]",
      "text/plain": [
       "<Figure size 432x288 with 1 Axes>"
      ]
     },
     "metadata": {
      "needs_background": "light"
     },
     "output_type": "display_data"
    }
   ],
   "source": [
    "data['ceiling_height'].hist(bins=20, range=(2.52-1.5*(2.8-2.52), 2.8+1.5*(2.8-2.52)))"
   ]
  },
  {
   "cell_type": "markdown",
   "metadata": {},
   "source": [
    "Диаграмма имеет совершенно хаотичный вид, т.к. большинство продавцов не указывает высоту потолков. Если бы эта графа при объявлении была обязательной, то гистограмма имела бы совершенно другой вид."
   ]
  },
  {
   "cell_type": "markdown",
   "metadata": {},
   "source": [
    "### Исследование времени продажи квартир"
   ]
  },
  {
   "cell_type": "code",
   "execution_count": 35,
   "metadata": {},
   "outputs": [
    {
     "data": {
      "text/plain": [
       "count    20518.000000\n",
       "mean       180.888634\n",
       "std        219.727988\n",
       "min          1.000000\n",
       "25%         45.000000\n",
       "50%         95.000000\n",
       "75%        232.000000\n",
       "max       1580.000000\n",
       "Name: days_exposition, dtype: float64"
      ]
     },
     "execution_count": 35,
     "metadata": {},
     "output_type": "execute_result"
    }
   ],
   "source": [
    "data['days_exposition'].describe()"
   ]
  },
  {
   "cell_type": "markdown",
   "metadata": {},
   "source": [
    "* В среднем квартиры продают 181 день;\n",
    "* Медианное время продажи равно 95 дней;\n",
    "* Самое маленькое время продажи равно 1 дню, что достаточно подозрительно. Но не исключено, что продавец передумал продавать квартиру.\n",
    "* Самое долгое время продажи равно 1580 дням (почти 5 лет).\n",
    "* Квартиры, продающиеся за менее чем 45 дней - это квартиры, продающиеся необычайно быстро;\n",
    "* Квартиры, продающиеся за более чем 232 дня - это квартиры, продающиеся необычайно долго."
   ]
  },
  {
   "cell_type": "code",
   "execution_count": 36,
   "metadata": {},
   "outputs": [
    {
     "data": {
      "text/plain": [
       "<AxesSubplot:>"
      ]
     },
     "execution_count": 36,
     "metadata": {},
     "output_type": "execute_result"
    },
    {
     "data": {
      "image/png": "[encoded data removed]",
      "text/plain": [
       "<Figure size 432x288 with 1 Axes>"
      ]
     },
     "metadata": {
      "needs_background": "light"
     },
     "output_type": "display_data"
    }
   ],
   "source": [
    "data['days_exposition'].hist(bins=200)"
   ]
  },
  {
   "cell_type": "markdown",
   "metadata": {},
   "source": [
    "Пик истограммы расположен в самом начале графика. "
   ]
  },
  {
   "cell_type": "markdown",
   "metadata": {},
   "source": [
    "Гисторамма имеет вид распределения Пуассона, очень много квартир, продающихся за первые полгода размещения объявления. Чем больше проходит время с момента публикации, тем менее охотно покупают квартиру."
   ]
  },
  {
   "cell_type": "markdown",
   "metadata": {},
   "source": [
    "### Изучение влияния факторов на стоимость квартиры."
   ]
  },
  {
   "cell_type": "code",
   "execution_count": 37,
   "metadata": {},
   "outputs": [
    {
     "data": {
      "text/plain": [
       "0.6536750579657243"
      ]
     },
     "execution_count": 37,
     "metadata": {},
     "output_type": "execute_result"
    }
   ],
   "source": [
    "data[\"last_price\"].corr(data[\"total_area\"])"
   ]
  },
  {
   "cell_type": "markdown",
   "metadata": {},
   "source": [
    "Коэф. корреляции Пирсона равен 0.65, что говорит, что цена квартиры зависит от площади. Чем больше площадь, тем выше цена."
   ]
  },
  {
   "cell_type": "code",
   "execution_count": 38,
   "metadata": {},
   "outputs": [
    {
     "data": {
      "text/plain": [
       "0.3633428499648948"
      ]
     },
     "execution_count": 38,
     "metadata": {},
     "output_type": "execute_result"
    }
   ],
   "source": [
    "data[\"last_price\"].corr(data[\"rooms\"])"
   ]
  },
  {
   "cell_type": "markdown",
   "metadata": {},
   "source": [
    "Коэф. корреляции Пирсона равен 0,36, что говорит, что цена квартиры немного зависит от количества комнат. Чем больше комнат, тем выше цена."
   ]
  },
  {
   "cell_type": "code",
   "execution_count": 39,
   "metadata": {},
   "outputs": [
    {
     "data": {
      "text/plain": [
       "-0.20674734874298373"
      ]
     },
     "execution_count": 39,
     "metadata": {},
     "output_type": "execute_result"
    }
   ],
   "source": [
    "data[\"last_price\"].corr(data[\"city_centers_nearest\"]) "
   ]
  },
  {
   "cell_type": "markdown",
   "metadata": {},
   "source": [
    "Коэф. корреляции Пирсона равен -0.21, что говорит о небольшой зависимости цены квартиры от расстояния от центра города. Отрицательный знак коэффициента говорит об обратной зависимости, то есть чем меньше расстояние до центра, тем выше цена."
   ]
  },
  {
   "cell_type": "code",
   "execution_count": 40,
   "metadata": {},
   "outputs": [
    {
     "data": {
      "text/plain": [
       "0.05891653263797449"
      ]
     },
     "execution_count": 40,
     "metadata": {},
     "output_type": "execute_result"
    }
   ],
   "source": [
    "data[\"last_price\"].corr(data[\"id_group_floor\"]) "
   ]
  },
  {
   "cell_type": "code",
   "execution_count": 41,
   "metadata": {},
   "outputs": [
    {
     "data": {
      "text/plain": [
       "0.0015501452176215481"
      ]
     },
     "execution_count": 41,
     "metadata": {},
     "output_type": "execute_result"
    }
   ],
   "source": [
    "data[\"last_price\"].corr(data[\"id_dayweek\"])   "
   ]
  },
  {
   "cell_type": "code",
   "execution_count": 42,
   "metadata": {},
   "outputs": [
    {
     "data": {
      "text/plain": [
       "0.002779128750739722"
      ]
     },
     "execution_count": 42,
     "metadata": {},
     "output_type": "execute_result"
    }
   ],
   "source": [
    "data[\"last_price\"].corr(data[\"id_month\"])   "
   ]
  },
  {
   "cell_type": "code",
   "execution_count": 43,
   "metadata": {},
   "outputs": [
    {
     "data": {
      "text/plain": [
       "-0.043089036199508685"
      ]
     },
     "execution_count": 43,
     "metadata": {},
     "output_type": "execute_result"
    }
   ],
   "source": [
    "data[\"last_price\"].corr(data[\"year\"])   "
   ]
  },
  {
   "cell_type": "code",
   "execution_count": 44,
   "metadata": {},
   "outputs": [
    {
     "data": {
      "text/plain": [
       "<AxesSubplot:xlabel='group_floor'>"
      ]
     },
     "execution_count": 44,
     "metadata": {},
     "output_type": "execute_result"
    },
    {
     "data": {
      "image/png": "[encoded data removed]",
      "text/plain": [
       "<Figure size 432x288 with 1 Axes>"
      ]
     },
     "metadata": {
      "needs_background": "light"
     },
     "output_type": "display_data"
    }
   ],
   "source": [
    "data.groupby('group_floor')['last_price'].mean().plot(kind='bar')"
   ]
  },
  {
   "cell_type": "markdown",
   "metadata": {},
   "source": [
    "На графике видно, что средняя цена квартир на первом этаже гораздо ниже, чем на других или же на последнем"
   ]
  },
  {
   "cell_type": "code",
   "execution_count": 45,
   "metadata": {},
   "outputs": [
    {
     "data": {
      "text/plain": [
       "<AxesSubplot:xlabel='id_dayweek'>"
      ]
     },
     "execution_count": 45,
     "metadata": {},
     "output_type": "execute_result"
    },
    {
     "data": {
      "image/png": "[encoded data removed]",
      "text/plain": [
       "<Figure size 432x288 with 1 Axes>"
      ]
     },
     "metadata": {
      "needs_background": "light"
     },
     "output_type": "display_data"
    }
   ],
   "source": [
    "data.groupby('id_dayweek')['last_price'].mean().plot(kind='bar')"
   ]
  },
  {
   "cell_type": "markdown",
   "metadata": {},
   "source": [
    "График показывает, что средняя цена квартир, выставляемых на продажу в субботу немного выше, чем в остальные дни, но в целом цена не зависит от дня размещения объявления."
   ]
  },
  {
   "cell_type": "code",
   "execution_count": 46,
   "metadata": {},
   "outputs": [
    {
     "data": {
      "text/plain": [
       "<AxesSubplot:xlabel='id_month'>"
      ]
     },
     "execution_count": 46,
     "metadata": {},
     "output_type": "execute_result"
    },
    {
     "data": {
      "image/png": "[encoded data removed]",
      "text/plain": [
       "<Figure size 432x288 with 1 Axes>"
      ]
     },
     "metadata": {
      "needs_background": "light"
     },
     "output_type": "display_data"
    }
   ],
   "source": [
    "data.groupby('id_month')['last_price'].mean().plot(kind='bar')"
   ]
  },
  {
   "cell_type": "markdown",
   "metadata": {},
   "source": [
    "Средняя цена продаваемых квартир в декабре немного выше, чем в остальные месяцы, но в целом цена не зависит от месяца размещения, так же как и от дня недели."
   ]
  },
  {
   "cell_type": "code",
   "execution_count": 47,
   "metadata": {},
   "outputs": [
    {
     "data": {
      "text/plain": [
       "<AxesSubplot:xlabel='year'>"
      ]
     },
     "execution_count": 47,
     "metadata": {},
     "output_type": "execute_result"
    },
    {
     "data": {
      "image/png": "[encoded data removed]",
      "text/plain": [
       "<Figure size 432x288 with 1 Axes>"
      ]
     },
     "metadata": {
      "needs_background": "light"
     },
     "output_type": "display_data"
    }
   ],
   "source": [
    "data.groupby('year')['last_price'].mean().plot(kind='bar')"
   ]
  },
  {
   "cell_type": "markdown",
   "metadata": {},
   "source": [
    "График показывает, что в 2014 году средняя цена квартир была гораздо выше, чем в последующие года."
   ]
  },
  {
   "cell_type": "markdown",
   "metadata": {},
   "source": [
    "### Изучение 10 населённых пунктов с наибольшим числом объявлений."
   ]
  },
  {
   "cell_type": "code",
   "execution_count": 48,
   "metadata": {},
   "outputs": [
    {
     "data": {
      "text/plain": [
       "Санкт-Петербург      15721\n",
       "Мурино                 590\n",
       "Кудрово                472\n",
       "поселок Шушары         440\n",
       "Всеволожск             398\n",
       "Пушкин                 369\n",
       "Колпино                338\n",
       "поселок Парголово      327\n",
       "Гатчина                307\n",
       "Выборг                 237\n",
       "Name: locality_name, dtype: int64"
      ]
     },
     "execution_count": 48,
     "metadata": {},
     "output_type": "execute_result"
    }
   ],
   "source": [
    "data['locality_name'].value_counts().head(10)"
   ]
  },
  {
   "cell_type": "code",
   "execution_count": 49,
   "metadata": {
    "scrolled": true
   },
   "outputs": [
    {
     "data": {
      "text/html": [
       "<div>\n",
       "<style scoped>\n",
       "    .dataframe tbody tr th:only-of-type {\n",
       "        vertical-align: middle;\n",
       "    }\n",
       "\n",
       "    .dataframe tbody tr th {\n",
       "        vertical-align: top;\n",
       "    }\n",
       "\n",
       "    .dataframe thead th {\n",
       "        text-align: right;\n",
       "    }\n",
       "</style>\n",
       "<table border=\"1\" class=\"dataframe\">\n",
       "  <thead>\n",
       "    <tr style=\"text-align: right;\">\n",
       "      <th></th>\n",
       "      <th>price_for_sq_metr</th>\n",
       "    </tr>\n",
       "    <tr>\n",
       "      <th>locality_name</th>\n",
       "      <th></th>\n",
       "    </tr>\n",
       "  </thead>\n",
       "  <tbody>\n",
       "    <tr>\n",
       "      <th>Всеволожск</th>\n",
       "      <td>68654.473970</td>\n",
       "    </tr>\n",
       "    <tr>\n",
       "      <th>Выборг</th>\n",
       "      <td>58141.909325</td>\n",
       "    </tr>\n",
       "    <tr>\n",
       "      <th>Гатчина</th>\n",
       "      <td>68746.146515</td>\n",
       "    </tr>\n",
       "    <tr>\n",
       "      <th>Колпино</th>\n",
       "      <td>75424.579112</td>\n",
       "    </tr>\n",
       "    <tr>\n",
       "      <th>Кудрово</th>\n",
       "      <td>95324.930508</td>\n",
       "    </tr>\n",
       "    <tr>\n",
       "      <th>Мурино</th>\n",
       "      <td>86087.512017</td>\n",
       "    </tr>\n",
       "    <tr>\n",
       "      <th>Пушкин</th>\n",
       "      <td>103125.819377</td>\n",
       "    </tr>\n",
       "    <tr>\n",
       "      <th>Санкт-Петербург</th>\n",
       "      <td>114849.008793</td>\n",
       "    </tr>\n",
       "    <tr>\n",
       "      <th>поселок Парголово</th>\n",
       "      <td>90175.913089</td>\n",
       "    </tr>\n",
       "    <tr>\n",
       "      <th>поселок Шушары</th>\n",
       "      <td>78677.364318</td>\n",
       "    </tr>\n",
       "  </tbody>\n",
       "</table>\n",
       "</div>"
      ],
      "text/plain": [
       "                   price_for_sq_metr\n",
       "locality_name                       \n",
       "Всеволожск              68654.473970\n",
       "Выборг                  58141.909325\n",
       "Гатчина                 68746.146515\n",
       "Колпино                 75424.579112\n",
       "Кудрово                 95324.930508\n",
       "Мурино                  86087.512017\n",
       "Пушкин                 103125.819377\n",
       "Санкт-Петербург        114849.008793\n",
       "поселок Парголово       90175.913089\n",
       "поселок Шушары          78677.364318"
      ]
     },
     "execution_count": 49,
     "metadata": {},
     "output_type": "execute_result"
    }
   ],
   "source": [
    "pop_10_city = ['Санкт-Петербург', 'Мурино', \n",
    "               'Кудрово', 'поселок Шушары', \n",
    "               'Всеволожск', 'Пушкин', \n",
    "               'Колпино', 'поселок Парголово', \n",
    "               'Гатчина', 'Выборг']\n",
    "\n",
    "data.query('locality_name in @pop_10_city').pivot_table(index='locality_name', \n",
    "                         values='price_for_sq_metr')"
   ]
  },
  {
   "cell_type": "markdown",
   "metadata": {},
   "source": [
    "Ожидаемо, что в Санкт-Петербурге самая высокая средняя цена за кв. метр - 114 тыс. рублей. Самая маленькая цена за кв. метр (из 10 населённых пунктов с самым большим числом объявлений) в Выборге - 58 тыс. рублей."
   ]
  },
  {
   "cell_type": "markdown",
   "metadata": {},
   "source": [
    "### Выделение центра города в Санкт-Петербурге."
   ]
  },
  {
   "cell_type": "code",
   "execution_count": 50,
   "metadata": {
    "scrolled": true
   },
   "outputs": [],
   "source": [
    "spb_flats = data.query('locality_name == \"Санкт-Петербург\"')"
   ]
  },
  {
   "cell_type": "markdown",
   "metadata": {},
   "source": [
    "Расстояние до центра в таблице считается в метрах. Необходимо перевести их в км."
   ]
  },
  {
   "cell_type": "code",
   "execution_count": 51,
   "metadata": {},
   "outputs": [
    {
     "name": "stderr",
     "output_type": "stream",
     "text": [
      "/tmp/ipykernel_101/1771193118.py:1: SettingWithCopyWarning: \n",
      "A value is trying to be set on a copy of a slice from a DataFrame.\n",
      "Try using .loc[row_indexer,col_indexer] = value instead\n",
      "\n",
      "See the caveats in the documentation: https://pandas.pydata.org/pandas-docs/stable/user_guide/indexing.html#returning-a-view-versus-a-copy\n",
      "  spb_flats['city_centers_nearest_km'] = round(spb_flats['city_centers_nearest']/1000)\n"
     ]
    },
    {
     "data": {
      "text/plain": [
       "<AxesSubplot:xlabel='city_centers_nearest_km'>"
      ]
     },
     "execution_count": 51,
     "metadata": {},
     "output_type": "execute_result"
    },
    {
     "data": {
      "image/png": "[encoded data removed]",
      "text/plain": [
       "<Figure size 432x288 with 1 Axes>"
      ]
     },
     "metadata": {
      "needs_background": "light"
     },
     "output_type": "display_data"
    }
   ],
   "source": [
    "spb_flats['city_centers_nearest_km'] = round(spb_flats['city_centers_nearest']/1000)\n",
    "grouped_spb_flats = spb_flats.pivot_table(index='city_centers_nearest_km', values='price_for_sq_metr')\n",
    "grouped_spb_flats.plot()"
   ]
  },
  {
   "cell_type": "markdown",
   "metadata": {},
   "source": [
    "График цены за кв. метр проседает на 3 км, затем идёт небольшой подъём и спуск на 7 км. Вероятнее всего целесообразнее считать что центр города находится в радиусе 7 км."
   ]
  },
  {
   "cell_type": "markdown",
   "metadata": {},
   "source": [
    "### Сравнение квартир в центре Санкт-Петербурга со всем городом."
   ]
  },
  {
   "cell_type": "code",
   "execution_count": 52,
   "metadata": {},
   "outputs": [],
   "source": [
    "spb_flats_center = spb_flats.query('city_centers_nearest_km <= 7')"
   ]
  },
  {
   "cell_type": "code",
   "execution_count": 53,
   "metadata": {},
   "outputs": [
    {
     "data": {
      "text/plain": [
       "count    3525.000000\n",
       "mean       93.168641\n",
       "std        59.473561\n",
       "min        12.000000\n",
       "25%        57.000000\n",
       "50%        78.700000\n",
       "75%       110.000000\n",
       "max       631.200000\n",
       "Name: total_area, dtype: float64"
      ]
     },
     "execution_count": 53,
     "metadata": {},
     "output_type": "execute_result"
    }
   ],
   "source": [
    "spb_flats_center['total_area'].describe()"
   ]
  },
  {
   "cell_type": "code",
   "execution_count": 57,
   "metadata": {},
   "outputs": [
    {
     "data": {
      "text/plain": [
       "<AxesSubplot:>"
      ]
     },
     "execution_count": 57,
     "metadata": {},
     "output_type": "execute_result"
    },
    {
     "data": {
      "image/png": "[encoded data removed]",
      "text/plain": [
       "<Figure size 432x288 with 1 Axes>"
      ]
     },
     "metadata": {
      "needs_background": "light"
     },
     "output_type": "display_data"
    }
   ],
   "source": [
    "spb_flats_center['total_area'].hist(bins=50)"
   ]
  },
  {
   "cell_type": "markdown",
   "metadata": {},
   "source": [
    "Пик гистограммы указывает на то, что в центре города площадь у большинства квартир равна около 60 кв. метров, что немного выше, чем во всём городе, так как площадь большинства квартир в Петербурге около 45-50 кв.км."
   ]
  },
  {
   "cell_type": "code",
   "execution_count": 58,
   "metadata": {},
   "outputs": [
    {
     "data": {
      "text/plain": [
       "count    3525.000000\n",
       "mean       14.895529\n",
       "std        24.320912\n",
       "min         1.600000\n",
       "25%         6.690000\n",
       "50%         9.200000\n",
       "75%        14.500000\n",
       "max       763.000000\n",
       "Name: last_price, dtype: float64"
      ]
     },
     "execution_count": 58,
     "metadata": {},
     "output_type": "execute_result"
    }
   ],
   "source": [
    "spb_flats_center['last_price'].describe()"
   ]
  },
  {
   "cell_type": "code",
   "execution_count": 59,
   "metadata": {},
   "outputs": [
    {
     "data": {
      "text/plain": [
       "<AxesSubplot:>"
      ]
     },
     "execution_count": 59,
     "metadata": {},
     "output_type": "execute_result"
    },
    {
     "data": {
      "image/png": "[encoded data removed]",
      "text/plain": [
       "<Figure size 432x288 with 1 Axes>"
      ]
     },
     "metadata": {
      "needs_background": "light"
     },
     "output_type": "display_data"
    }
   ],
   "source": [
    "spb_flats_center['last_price'].hist(range=(7.3-1.5*(14.995-7.3), 14.995+1.5*(14.995-7.3)))"
   ]
  },
  {
   "cell_type": "markdown",
   "metadata": {},
   "source": [
    "Пик гистограммы указывает на то, что в центре квартиры продаются в основном за 5-7,5 млн. рублей, что почти в два раза больше, чем цена большинства продаваемых квартир в городе."
   ]
  },
  {
   "cell_type": "code",
   "execution_count": 60,
   "metadata": {},
   "outputs": [
    {
     "data": {
      "text/plain": [
       "count    3525.000000\n",
       "mean        2.834326\n",
       "std         1.449808\n",
       "min         0.000000\n",
       "25%         2.000000\n",
       "50%         3.000000\n",
       "75%         3.000000\n",
       "max        19.000000\n",
       "Name: rooms, dtype: float64"
      ]
     },
     "execution_count": 60,
     "metadata": {},
     "output_type": "execute_result"
    }
   ],
   "source": [
    "spb_flats_center['rooms'].describe()"
   ]
  },
  {
   "cell_type": "code",
   "execution_count": 64,
   "metadata": {},
   "outputs": [
    {
     "data": {
      "text/plain": [
       "<AxesSubplot:>"
      ]
     },
     "execution_count": 64,
     "metadata": {},
     "output_type": "execute_result"
    },
    {
     "data": {
      "image/png": "[encoded data removed]",
      "text/plain": [
       "<Figure size 432x288 with 1 Axes>"
      ]
     },
     "metadata": {
      "needs_background": "light"
     },
     "output_type": "display_data"
    }
   ],
   "source": [
    "spb_flats_center['rooms'].hist(bins=20)"
   ]
  },
  {
   "cell_type": "markdown",
   "metadata": {},
   "source": [
    "Большинство продаваемых квартир в центре имеют от 2 до 3 комнат, когда как большинство продаваемых квартир имеют 1-2."
   ]
  },
  {
   "cell_type": "code",
   "execution_count": 65,
   "metadata": {},
   "outputs": [
    {
     "data": {
      "text/plain": [
       "count    2286.000000\n",
       "mean        3.118609\n",
       "std         0.871873\n",
       "min         2.400000\n",
       "25%         2.830000\n",
       "50%         3.000000\n",
       "75%         3.300000\n",
       "max        32.000000\n",
       "Name: ceiling_height, dtype: float64"
      ]
     },
     "execution_count": 65,
     "metadata": {},
     "output_type": "execute_result"
    }
   ],
   "source": [
    "spb_flats_center['ceiling_height'].describe()"
   ]
  },
  {
   "cell_type": "code",
   "execution_count": 66,
   "metadata": {},
   "outputs": [
    {
     "data": {
      "text/plain": [
       "<AxesSubplot:>"
      ]
     },
     "execution_count": 66,
     "metadata": {},
     "output_type": "execute_result"
    },
    {
     "data": {
      "image/png": "[encoded data removed]",
      "text/plain": [
       "<Figure size 432x288 with 1 Axes>"
      ]
     },
     "metadata": {
      "needs_background": "light"
     },
     "output_type": "display_data"
    }
   ],
   "source": [
    "spb_flats_center['ceiling_height'].hist(range=(3-1.5*(3.45-3), 3.45+1.5*(3.45-3)))"
   ]
  },
  {
   "cell_type": "markdown",
   "metadata": {},
   "source": [
    "У большинства квартир в центре высота потолков 2,8-3 метра. Если сравнивать с высотой потолков во всём городе, то это гораздо выше, чем во всём городе. Это обуславливается дореволюционной застройкой в центре, где высота потолков была гораздо выше, чем в последующие года."
   ]
  },
  {
   "cell_type": "markdown",
   "metadata": {},
   "source": [
    "## Общий вывод"
   ]
  },
  {
   "cell_type": "markdown",
   "metadata": {},
   "source": [
    "В ходе данной работы было проделано многое:\n",
    "* Заполнены пропуски в столбцах, где это было возможно;\n",
    "* Устранены дубликаты в названиях населённых пунктов;\n",
    "* Составлены графики и зависимости цен от факторов.\n",
    "\n",
    "Я выяснил, что система, собирающая данные работает не до конца корректно:\n",
    "* В данных есть объявления, не содержащие в себе ни одной фотографии;\n",
    "* Есть объявления, в которых указано, что в них 0 комнат, а также 6 и более;\n",
    "* Есть пропуски в высотах потоков, общей этажности зданий, жилых и кухонных площадях;\n",
    "* Многие дубликаты появляются в названиях населённых пунктах (например \"Мурино\" и \"поселок Мурино\", \"поселок Шушары\" и \"посёлок Шушары\")\n",
    "* Плохо собираются данные о близости к центру города, а также о ближайших аэропортах, парках и прудах.\n",
    "\n",
    "При создании антимошеннических систем я бы обратил внимание на следующие параметры: наличие фотографий, значения комнат, удалённости от центра и на каком этаже располагается квартира. Также, если опираться на нормальное распределение, мне кажется что квартиры стоимостью менее 500 тыс. рублей и более 11.9 млн. рублей выглядят подозрительно."
   ]
  }
 ],
 "metadata": {
  "ExecuteTimeLog": [
   {
    "duration": 755,
    "start_time": "2022-05-27T06:25:30.682Z"
   },
   {
    "duration": 96,
    "start_time": "2022-05-27T06:26:19.161Z"
   },
   {
    "duration": 35,
    "start_time": "2022-05-27T06:26:23.216Z"
   },
   {
    "duration": 93,
    "start_time": "2022-05-27T06:26:30.096Z"
   },
   {
    "duration": 130,
    "start_time": "2022-05-27T06:26:39.000Z"
   },
   {
    "duration": 14,
    "start_time": "2022-05-27T06:27:33.209Z"
   },
   {
    "duration": 12,
    "start_time": "2022-05-27T06:33:49.968Z"
   },
   {
    "duration": 5,
    "start_time": "2022-05-27T06:34:17.979Z"
   },
   {
    "duration": 5,
    "start_time": "2022-05-27T06:34:43.286Z"
   },
   {
    "duration": 4,
    "start_time": "2022-05-27T06:37:49.110Z"
   },
   {
    "duration": 127,
    "start_time": "2022-05-27T06:43:31.825Z"
   },
   {
    "duration": 72,
    "start_time": "2022-05-27T06:44:53.723Z"
   },
   {
    "duration": 48,
    "start_time": "2022-05-27T06:44:58.003Z"
   },
   {
    "duration": 5,
    "start_time": "2022-05-27T06:45:32.275Z"
   },
   {
    "duration": 6,
    "start_time": "2022-05-27T06:45:46.123Z"
   },
   {
    "duration": 6,
    "start_time": "2022-05-27T06:46:39.486Z"
   },
   {
    "duration": 5,
    "start_time": "2022-05-27T06:47:09.064Z"
   },
   {
    "duration": 7,
    "start_time": "2022-05-27T06:47:15.714Z"
   },
   {
    "duration": 410,
    "start_time": "2022-05-27T06:47:33.202Z"
   },
   {
    "duration": 469,
    "start_time": "2022-05-27T06:47:38.672Z"
   },
   {
    "duration": 7,
    "start_time": "2022-05-27T06:47:47.298Z"
   },
   {
    "duration": 7,
    "start_time": "2022-05-27T06:48:09.693Z"
   },
   {
    "duration": 4,
    "start_time": "2022-05-27T06:48:25.202Z"
   },
   {
    "duration": 4,
    "start_time": "2022-05-27T06:48:52.782Z"
   },
   {
    "duration": 6,
    "start_time": "2022-05-27T06:49:12.784Z"
   },
   {
    "duration": 4,
    "start_time": "2022-05-27T06:49:44.506Z"
   },
   {
    "duration": 5,
    "start_time": "2022-05-27T06:50:35.979Z"
   },
   {
    "duration": 9,
    "start_time": "2022-05-27T06:50:51.265Z"
   },
   {
    "duration": 6,
    "start_time": "2022-05-27T06:50:54.114Z"
   },
   {
    "duration": 7,
    "start_time": "2022-05-27T06:51:19.506Z"
   },
   {
    "duration": 5,
    "start_time": "2022-05-27T06:54:25.990Z"
   },
   {
    "duration": 4,
    "start_time": "2022-05-27T06:54:38.305Z"
   },
   {
    "duration": 597,
    "start_time": "2022-05-27T11:52:53.722Z"
   },
   {
    "duration": 15,
    "start_time": "2022-05-27T11:52:55.987Z"
   },
   {
    "duration": 9,
    "start_time": "2022-05-27T12:07:24.988Z"
   },
   {
    "duration": 12,
    "start_time": "2022-05-27T12:12:33.150Z"
   },
   {
    "duration": 8,
    "start_time": "2022-05-27T12:13:25.609Z"
   },
   {
    "duration": 18,
    "start_time": "2022-05-27T12:13:41.067Z"
   },
   {
    "duration": 545,
    "start_time": "2022-05-27T12:13:58.637Z"
   },
   {
    "duration": 19,
    "start_time": "2022-05-27T12:13:59.183Z"
   },
   {
    "duration": 6,
    "start_time": "2022-05-27T12:13:59.204Z"
   },
   {
    "duration": 9,
    "start_time": "2022-05-27T12:14:00.772Z"
   },
   {
    "duration": 9,
    "start_time": "2022-05-27T12:14:02.596Z"
   },
   {
    "duration": 85,
    "start_time": "2022-05-27T12:14:32.732Z"
   },
   {
    "duration": 4,
    "start_time": "2022-05-27T12:14:36.732Z"
   },
   {
    "duration": 5,
    "start_time": "2022-05-27T12:17:27.385Z"
   },
   {
    "duration": 6,
    "start_time": "2022-05-27T12:20:21.384Z"
   },
   {
    "duration": 5,
    "start_time": "2022-05-27T12:21:36.282Z"
   },
   {
    "duration": 21,
    "start_time": "2022-05-27T12:34:18.791Z"
   },
   {
    "duration": 26,
    "start_time": "2022-05-27T12:34:49.957Z"
   },
   {
    "duration": 18,
    "start_time": "2022-05-27T12:35:07.808Z"
   },
   {
    "duration": 14,
    "start_time": "2022-05-27T12:35:32.191Z"
   },
   {
    "duration": 14,
    "start_time": "2022-05-27T12:36:23.840Z"
   },
   {
    "duration": 11,
    "start_time": "2022-05-27T12:39:07.095Z"
   },
   {
    "duration": 23,
    "start_time": "2022-05-27T12:39:15.822Z"
   },
   {
    "duration": 55,
    "start_time": "2022-05-27T12:39:43.183Z"
   },
   {
    "duration": 21,
    "start_time": "2022-05-27T12:40:56.247Z"
   },
   {
    "duration": 19,
    "start_time": "2022-05-27T12:41:04.734Z"
   },
   {
    "duration": 69,
    "start_time": "2022-05-27T12:52:39.874Z"
   },
   {
    "duration": 49,
    "start_time": "2022-05-27T12:52:56.308Z"
   },
   {
    "duration": 24,
    "start_time": "2022-05-27T12:53:50.155Z"
   },
   {
    "duration": 54,
    "start_time": "2022-05-27T12:54:26.523Z"
   },
   {
    "duration": 75,
    "start_time": "2022-05-27T12:54:33.043Z"
   },
   {
    "duration": 26,
    "start_time": "2022-05-27T12:54:49.627Z"
   },
   {
    "duration": 14,
    "start_time": "2022-05-27T13:07:59.866Z"
   },
   {
    "duration": 542,
    "start_time": "2022-05-27T13:08:13.253Z"
   },
   {
    "duration": 19,
    "start_time": "2022-05-27T13:08:18.214Z"
   },
   {
    "duration": 12,
    "start_time": "2022-05-27T13:08:44.270Z"
   },
   {
    "duration": 20,
    "start_time": "2022-05-27T13:08:45.470Z"
   },
   {
    "duration": 4,
    "start_time": "2022-05-27T13:08:51.336Z"
   },
   {
    "duration": 7,
    "start_time": "2022-05-27T13:08:53.518Z"
   },
   {
    "duration": 8,
    "start_time": "2022-05-27T13:08:54.846Z"
   },
   {
    "duration": 8,
    "start_time": "2022-05-27T13:08:57.494Z"
   },
   {
    "duration": 782,
    "start_time": "2022-05-27T15:37:48.022Z"
   },
   {
    "duration": 17,
    "start_time": "2022-05-27T15:37:48.806Z"
   },
   {
    "duration": 6,
    "start_time": "2022-05-27T15:37:48.825Z"
   },
   {
    "duration": 10,
    "start_time": "2022-05-27T15:37:48.832Z"
   },
   {
    "duration": 3,
    "start_time": "2022-05-27T15:37:48.844Z"
   },
   {
    "duration": 7,
    "start_time": "2022-05-27T15:37:48.859Z"
   },
   {
    "duration": 9,
    "start_time": "2022-05-27T15:37:48.867Z"
   },
   {
    "duration": 7,
    "start_time": "2022-05-27T15:37:48.877Z"
   },
   {
    "duration": 5,
    "start_time": "2022-05-27T15:37:51.376Z"
   },
   {
    "duration": 86,
    "start_time": "2022-05-27T15:38:45.777Z"
   },
   {
    "duration": 9,
    "start_time": "2022-05-27T15:43:46.509Z"
   },
   {
    "duration": 30,
    "start_time": "2022-05-27T15:44:23.663Z"
   },
   {
    "duration": 165,
    "start_time": "2022-05-27T15:44:27.993Z"
   },
   {
    "duration": 27,
    "start_time": "2022-05-27T15:47:27.365Z"
   },
   {
    "duration": 6,
    "start_time": "2022-05-27T15:48:38.144Z"
   },
   {
    "duration": 689,
    "start_time": "2022-05-28T06:41:04.680Z"
   },
   {
    "duration": 26,
    "start_time": "2022-05-28T06:41:05.371Z"
   },
   {
    "duration": 6,
    "start_time": "2022-05-28T06:41:05.399Z"
   },
   {
    "duration": 12,
    "start_time": "2022-05-28T06:41:05.407Z"
   },
   {
    "duration": 5,
    "start_time": "2022-05-28T06:41:05.422Z"
   },
   {
    "duration": 9,
    "start_time": "2022-05-28T06:41:05.428Z"
   },
   {
    "duration": 8,
    "start_time": "2022-05-28T06:41:05.439Z"
   },
   {
    "duration": 8,
    "start_time": "2022-05-28T06:41:05.449Z"
   },
   {
    "duration": 21,
    "start_time": "2022-05-28T06:41:05.459Z"
   },
   {
    "duration": 3,
    "start_time": "2022-05-28T06:41:05.482Z"
   },
   {
    "duration": 5,
    "start_time": "2022-05-28T06:41:07.846Z"
   },
   {
    "duration": 473,
    "start_time": "2022-05-28T06:41:43.099Z"
   },
   {
    "duration": 39,
    "start_time": "2022-05-28T06:41:50.141Z"
   },
   {
    "duration": 20,
    "start_time": "2022-05-28T06:47:41.029Z"
   },
   {
    "duration": 25,
    "start_time": "2022-05-28T06:47:49.373Z"
   },
   {
    "duration": 21,
    "start_time": "2022-05-28T06:48:19.301Z"
   },
   {
    "duration": 6,
    "start_time": "2022-05-28T06:49:35.572Z"
   },
   {
    "duration": 7,
    "start_time": "2022-05-28T06:49:46.780Z"
   },
   {
    "duration": 5,
    "start_time": "2022-05-28T06:49:53.364Z"
   },
   {
    "duration": 9,
    "start_time": "2022-05-28T06:50:03.924Z"
   },
   {
    "duration": 9,
    "start_time": "2022-05-28T06:50:09.932Z"
   },
   {
    "duration": 7,
    "start_time": "2022-05-28T06:50:18.876Z"
   },
   {
    "duration": 7,
    "start_time": "2022-05-28T06:50:49.428Z"
   },
   {
    "duration": 7,
    "start_time": "2022-05-28T06:51:36.212Z"
   },
   {
    "duration": 35,
    "start_time": "2022-05-28T06:53:35.108Z"
   },
   {
    "duration": 54,
    "start_time": "2022-05-28T06:54:34.987Z"
   },
   {
    "duration": 553,
    "start_time": "2022-05-28T06:54:41.197Z"
   },
   {
    "duration": 15,
    "start_time": "2022-05-28T06:54:41.752Z"
   },
   {
    "duration": 7,
    "start_time": "2022-05-28T06:54:41.769Z"
   },
   {
    "duration": 10,
    "start_time": "2022-05-28T06:54:41.777Z"
   },
   {
    "duration": 3,
    "start_time": "2022-05-28T06:54:41.790Z"
   },
   {
    "duration": 7,
    "start_time": "2022-05-28T06:54:41.795Z"
   },
   {
    "duration": 6,
    "start_time": "2022-05-28T06:54:41.824Z"
   },
   {
    "duration": 7,
    "start_time": "2022-05-28T06:54:41.832Z"
   },
   {
    "duration": 21,
    "start_time": "2022-05-28T06:54:41.840Z"
   },
   {
    "duration": 22,
    "start_time": "2022-05-28T06:54:44.563Z"
   },
   {
    "duration": 48,
    "start_time": "2022-05-28T06:54:48.731Z"
   },
   {
    "duration": 26,
    "start_time": "2022-05-28T06:54:59.684Z"
   },
   {
    "duration": 35,
    "start_time": "2022-05-28T06:55:30.188Z"
   },
   {
    "duration": 24,
    "start_time": "2022-05-28T07:04:26.786Z"
   },
   {
    "duration": 21,
    "start_time": "2022-05-28T07:04:32.464Z"
   },
   {
    "duration": 126,
    "start_time": "2022-05-28T08:07:39.554Z"
   },
   {
    "duration": 17,
    "start_time": "2022-05-28T08:07:39.682Z"
   },
   {
    "duration": 7,
    "start_time": "2022-05-28T08:07:39.701Z"
   },
   {
    "duration": 11,
    "start_time": "2022-05-28T08:07:39.722Z"
   },
   {
    "duration": 6,
    "start_time": "2022-05-28T08:07:39.735Z"
   },
   {
    "duration": 9,
    "start_time": "2022-05-28T08:07:39.743Z"
   },
   {
    "duration": 7,
    "start_time": "2022-05-28T08:07:39.754Z"
   },
   {
    "duration": 14,
    "start_time": "2022-05-28T08:07:39.763Z"
   },
   {
    "duration": 55,
    "start_time": "2022-05-28T08:07:39.779Z"
   },
   {
    "duration": 35,
    "start_time": "2022-05-28T08:07:39.836Z"
   },
   {
    "duration": 25,
    "start_time": "2022-05-28T08:07:39.873Z"
   },
   {
    "duration": 23,
    "start_time": "2022-05-28T08:07:42.116Z"
   },
   {
    "duration": 9,
    "start_time": "2022-05-28T08:08:19.828Z"
   },
   {
    "duration": 6,
    "start_time": "2022-05-28T08:08:37.838Z"
   },
   {
    "duration": 7,
    "start_time": "2022-05-28T08:09:05.630Z"
   },
   {
    "duration": 9,
    "start_time": "2022-05-28T08:09:13.334Z"
   },
   {
    "duration": 8,
    "start_time": "2022-05-28T08:11:04.239Z"
   },
   {
    "duration": 8,
    "start_time": "2022-05-28T08:11:12.309Z"
   },
   {
    "duration": 5,
    "start_time": "2022-05-28T08:11:16.406Z"
   },
   {
    "duration": 9,
    "start_time": "2022-05-28T08:13:29.805Z"
   },
   {
    "duration": 9,
    "start_time": "2022-05-28T08:13:40.682Z"
   },
   {
    "duration": 6,
    "start_time": "2022-05-28T08:13:47.132Z"
   },
   {
    "duration": 8,
    "start_time": "2022-05-28T08:21:28.804Z"
   },
   {
    "duration": 27,
    "start_time": "2022-05-28T08:23:26.818Z"
   },
   {
    "duration": 2943,
    "start_time": "2022-05-28T08:23:38.746Z"
   },
   {
    "duration": 11,
    "start_time": "2022-05-28T08:24:21.954Z"
   },
   {
    "duration": 3,
    "start_time": "2022-05-28T08:29:14.482Z"
   },
   {
    "duration": 4,
    "start_time": "2022-05-28T08:29:38.202Z"
   },
   {
    "duration": 3,
    "start_time": "2022-05-28T08:30:51.057Z"
   },
   {
    "duration": 4,
    "start_time": "2022-05-28T08:30:55.049Z"
   },
   {
    "duration": 3,
    "start_time": "2022-05-28T08:31:27.698Z"
   },
   {
    "duration": 137,
    "start_time": "2022-05-28T08:32:21.481Z"
   },
   {
    "duration": 3,
    "start_time": "2022-05-28T08:33:23.881Z"
   },
   {
    "duration": 3,
    "start_time": "2022-05-28T08:33:25.089Z"
   },
   {
    "duration": 11,
    "start_time": "2022-05-28T08:33:26.121Z"
   },
   {
    "duration": 3,
    "start_time": "2022-05-28T08:37:09.392Z"
   },
   {
    "duration": 4,
    "start_time": "2022-05-28T08:37:09.952Z"
   },
   {
    "duration": 4,
    "start_time": "2022-05-28T08:38:36.807Z"
   },
   {
    "duration": 4,
    "start_time": "2022-05-28T08:38:37.415Z"
   },
   {
    "duration": 58,
    "start_time": "2022-05-29T10:09:40.194Z"
   },
   {
    "duration": 8,
    "start_time": "2022-05-29T10:11:35.058Z"
   },
   {
    "duration": 4,
    "start_time": "2022-05-29T10:14:12.764Z"
   },
   {
    "duration": 4,
    "start_time": "2022-05-29T10:14:16.501Z"
   },
   {
    "duration": 717,
    "start_time": "2022-05-29T10:20:56.773Z"
   },
   {
    "duration": 16,
    "start_time": "2022-05-29T10:20:57.492Z"
   },
   {
    "duration": 6,
    "start_time": "2022-05-29T10:20:57.510Z"
   },
   {
    "duration": 30,
    "start_time": "2022-05-29T10:20:57.518Z"
   },
   {
    "duration": 18,
    "start_time": "2022-05-29T10:20:57.550Z"
   },
   {
    "duration": 9,
    "start_time": "2022-05-29T10:20:57.570Z"
   },
   {
    "duration": 8,
    "start_time": "2022-05-29T10:20:57.580Z"
   },
   {
    "duration": 9,
    "start_time": "2022-05-29T10:20:57.591Z"
   },
   {
    "duration": 42,
    "start_time": "2022-05-29T10:20:57.602Z"
   },
   {
    "duration": 43,
    "start_time": "2022-05-29T10:20:57.646Z"
   },
   {
    "duration": 23,
    "start_time": "2022-05-29T10:20:57.692Z"
   },
   {
    "duration": 32,
    "start_time": "2022-05-29T10:20:57.717Z"
   },
   {
    "duration": 22,
    "start_time": "2022-05-29T10:20:57.751Z"
   },
   {
    "duration": 6,
    "start_time": "2022-05-29T10:20:57.777Z"
   },
   {
    "duration": 4,
    "start_time": "2022-05-29T10:20:59.906Z"
   },
   {
    "duration": 87,
    "start_time": "2022-05-29T10:21:05.684Z"
   },
   {
    "duration": 3,
    "start_time": "2022-05-29T10:23:51.098Z"
   },
   {
    "duration": 4,
    "start_time": "2022-05-29T10:23:59.978Z"
   },
   {
    "duration": 3,
    "start_time": "2022-05-29T10:24:01.764Z"
   },
   {
    "duration": 144,
    "start_time": "2022-05-29T10:24:19.064Z"
   },
   {
    "duration": 48,
    "start_time": "2022-05-29T10:25:48.736Z"
   },
   {
    "duration": 3,
    "start_time": "2022-05-29T10:25:58.530Z"
   },
   {
    "duration": 3,
    "start_time": "2022-05-29T10:25:59.825Z"
   },
   {
    "duration": 18,
    "start_time": "2022-05-29T10:26:00.886Z"
   },
   {
    "duration": 5,
    "start_time": "2022-05-29T10:26:11.595Z"
   },
   {
    "duration": 7,
    "start_time": "2022-05-29T10:26:30.374Z"
   },
   {
    "duration": 559,
    "start_time": "2022-05-29T10:27:57.266Z"
   },
   {
    "duration": 27,
    "start_time": "2022-05-29T10:27:57.827Z"
   },
   {
    "duration": 9,
    "start_time": "2022-05-29T10:27:57.856Z"
   },
   {
    "duration": 9,
    "start_time": "2022-05-29T10:27:57.866Z"
   },
   {
    "duration": 5,
    "start_time": "2022-05-29T10:27:57.877Z"
   },
   {
    "duration": 8,
    "start_time": "2022-05-29T10:27:57.883Z"
   },
   {
    "duration": 6,
    "start_time": "2022-05-29T10:27:57.894Z"
   },
   {
    "duration": 44,
    "start_time": "2022-05-29T10:27:57.902Z"
   },
   {
    "duration": 28,
    "start_time": "2022-05-29T10:27:57.948Z"
   },
   {
    "duration": 35,
    "start_time": "2022-05-29T10:27:57.977Z"
   },
   {
    "duration": 52,
    "start_time": "2022-05-29T10:27:58.014Z"
   },
   {
    "duration": 7,
    "start_time": "2022-05-29T10:28:03.581Z"
   },
   {
    "duration": 106,
    "start_time": "2022-05-29T10:29:30.488Z"
   },
   {
    "duration": 5,
    "start_time": "2022-05-29T10:29:37.922Z"
   },
   {
    "duration": 3,
    "start_time": "2022-05-29T10:30:08.686Z"
   },
   {
    "duration": 4,
    "start_time": "2022-05-29T10:30:09.758Z"
   },
   {
    "duration": 13,
    "start_time": "2022-05-29T10:30:11.292Z"
   },
   {
    "duration": 10,
    "start_time": "2022-05-29T10:30:19.974Z"
   },
   {
    "duration": 23,
    "start_time": "2022-05-29T10:35:14.550Z"
   },
   {
    "duration": 17,
    "start_time": "2022-05-29T10:35:26.822Z"
   },
   {
    "duration": 192,
    "start_time": "2022-05-29T10:35:54.602Z"
   },
   {
    "duration": 20,
    "start_time": "2022-05-29T10:36:08.692Z"
   },
   {
    "duration": 20,
    "start_time": "2022-05-29T10:36:16.466Z"
   },
   {
    "duration": 17,
    "start_time": "2022-05-29T10:37:02.693Z"
   },
   {
    "duration": 4,
    "start_time": "2022-05-29T10:37:33.916Z"
   },
   {
    "duration": 5,
    "start_time": "2022-05-29T10:37:34.678Z"
   },
   {
    "duration": 16,
    "start_time": "2022-05-29T10:37:48.138Z"
   },
   {
    "duration": 4,
    "start_time": "2022-05-29T10:37:57.111Z"
   },
   {
    "duration": 4,
    "start_time": "2022-05-29T10:37:57.866Z"
   },
   {
    "duration": 16,
    "start_time": "2022-05-29T10:40:28.199Z"
   },
   {
    "duration": 10,
    "start_time": "2022-05-29T10:40:38.873Z"
   },
   {
    "duration": 189,
    "start_time": "2022-05-29T10:50:35.179Z"
   },
   {
    "duration": 28,
    "start_time": "2022-05-29T10:50:35.370Z"
   },
   {
    "duration": 9,
    "start_time": "2022-05-29T10:50:35.401Z"
   },
   {
    "duration": 29,
    "start_time": "2022-05-29T10:50:35.413Z"
   },
   {
    "duration": 32,
    "start_time": "2022-05-29T10:50:35.450Z"
   },
   {
    "duration": 14,
    "start_time": "2022-05-29T10:50:35.485Z"
   },
   {
    "duration": 10,
    "start_time": "2022-05-29T10:50:35.501Z"
   },
   {
    "duration": 9,
    "start_time": "2022-05-29T10:50:35.514Z"
   },
   {
    "duration": 41,
    "start_time": "2022-05-29T10:50:35.525Z"
   },
   {
    "duration": 61,
    "start_time": "2022-05-29T10:50:35.568Z"
   },
   {
    "duration": 44,
    "start_time": "2022-05-29T10:50:35.631Z"
   },
   {
    "duration": 13,
    "start_time": "2022-05-29T10:50:35.677Z"
   },
   {
    "duration": 10,
    "start_time": "2022-05-29T10:50:35.693Z"
   },
   {
    "duration": 6,
    "start_time": "2022-05-29T10:50:35.707Z"
   },
   {
    "duration": 728,
    "start_time": "2022-05-29T10:50:50.284Z"
   },
   {
    "duration": 37,
    "start_time": "2022-05-29T10:50:51.015Z"
   },
   {
    "duration": 9,
    "start_time": "2022-05-29T10:50:51.054Z"
   },
   {
    "duration": 25,
    "start_time": "2022-05-29T10:50:51.067Z"
   },
   {
    "duration": 6,
    "start_time": "2022-05-29T10:50:51.100Z"
   },
   {
    "duration": 34,
    "start_time": "2022-05-29T10:50:51.108Z"
   },
   {
    "duration": 45,
    "start_time": "2022-05-29T10:50:51.151Z"
   },
   {
    "duration": 18,
    "start_time": "2022-05-29T10:50:51.200Z"
   },
   {
    "duration": 39,
    "start_time": "2022-05-29T10:50:51.220Z"
   },
   {
    "duration": 62,
    "start_time": "2022-05-29T10:50:51.263Z"
   },
   {
    "duration": 44,
    "start_time": "2022-05-29T10:50:51.327Z"
   },
   {
    "duration": 10,
    "start_time": "2022-05-29T10:50:51.373Z"
   },
   {
    "duration": 10,
    "start_time": "2022-05-29T10:50:56.468Z"
   },
   {
    "duration": 4,
    "start_time": "2022-05-29T10:50:58.696Z"
   },
   {
    "duration": 6,
    "start_time": "2022-05-29T10:51:00.118Z"
   },
   {
    "duration": 29,
    "start_time": "2022-05-29T10:51:09.869Z"
   },
   {
    "duration": 761,
    "start_time": "2022-05-29T10:54:25.616Z"
   },
   {
    "duration": 36,
    "start_time": "2022-05-29T10:54:26.379Z"
   },
   {
    "duration": 11,
    "start_time": "2022-05-29T10:54:26.422Z"
   },
   {
    "duration": 26,
    "start_time": "2022-05-29T10:54:26.435Z"
   },
   {
    "duration": 38,
    "start_time": "2022-05-29T10:54:26.466Z"
   },
   {
    "duration": 9,
    "start_time": "2022-05-29T10:54:26.505Z"
   },
   {
    "duration": 11,
    "start_time": "2022-05-29T10:54:26.515Z"
   },
   {
    "duration": 9,
    "start_time": "2022-05-29T10:54:26.528Z"
   },
   {
    "duration": 61,
    "start_time": "2022-05-29T10:54:26.540Z"
   },
   {
    "duration": 62,
    "start_time": "2022-05-29T10:54:26.604Z"
   },
   {
    "duration": 35,
    "start_time": "2022-05-29T10:54:26.668Z"
   },
   {
    "duration": 17,
    "start_time": "2022-05-29T10:54:26.705Z"
   },
   {
    "duration": 5,
    "start_time": "2022-05-29T10:54:34.601Z"
   },
   {
    "duration": 9,
    "start_time": "2022-05-29T10:54:35.642Z"
   },
   {
    "duration": 25,
    "start_time": "2022-05-29T10:54:38.121Z"
   },
   {
    "duration": 53,
    "start_time": "2022-05-29T10:55:35.577Z"
   },
   {
    "duration": 17,
    "start_time": "2022-05-29T10:57:33.823Z"
   },
   {
    "duration": 8,
    "start_time": "2022-05-29T11:06:18.912Z"
   },
   {
    "duration": 691,
    "start_time": "2022-05-29T11:06:35.997Z"
   },
   {
    "duration": 26,
    "start_time": "2022-05-29T11:06:36.691Z"
   },
   {
    "duration": 9,
    "start_time": "2022-05-29T11:06:36.720Z"
   },
   {
    "duration": 44,
    "start_time": "2022-05-29T11:06:36.741Z"
   },
   {
    "duration": 8,
    "start_time": "2022-05-29T11:06:36.789Z"
   },
   {
    "duration": 13,
    "start_time": "2022-05-29T11:06:36.799Z"
   },
   {
    "duration": 52,
    "start_time": "2022-05-29T11:06:36.815Z"
   },
   {
    "duration": 15,
    "start_time": "2022-05-29T11:06:36.871Z"
   },
   {
    "duration": 79,
    "start_time": "2022-05-29T11:06:36.895Z"
   },
   {
    "duration": 61,
    "start_time": "2022-05-29T11:06:36.977Z"
   },
   {
    "duration": 48,
    "start_time": "2022-05-29T11:06:37.040Z"
   },
   {
    "duration": 42,
    "start_time": "2022-05-29T11:06:37.090Z"
   },
   {
    "duration": 10,
    "start_time": "2022-05-29T11:06:41.328Z"
   },
   {
    "duration": 47,
    "start_time": "2022-05-29T11:07:47.800Z"
   },
   {
    "duration": 7,
    "start_time": "2022-05-29T11:09:54.656Z"
   },
   {
    "duration": 11,
    "start_time": "2022-05-29T11:09:55.372Z"
   },
   {
    "duration": 1868,
    "start_time": "2022-05-29T11:10:38.039Z"
   },
   {
    "duration": 1860,
    "start_time": "2022-05-29T11:10:52.956Z"
   },
   {
    "duration": 1943,
    "start_time": "2022-05-29T11:16:25.301Z"
   },
   {
    "duration": 160,
    "start_time": "2022-05-29T11:22:21.124Z"
   },
   {
    "duration": 27,
    "start_time": "2022-05-29T11:23:16.715Z"
   },
   {
    "duration": 34,
    "start_time": "2022-05-29T11:24:02.075Z"
   },
   {
    "duration": 46,
    "start_time": "2022-05-29T11:24:20.139Z"
   },
   {
    "duration": 70600,
    "start_time": "2022-05-29T11:27:12.210Z"
   },
   {
    "duration": 20,
    "start_time": "2022-05-29T11:29:17.074Z"
   },
   {
    "duration": 48,
    "start_time": "2022-05-29T11:29:53.678Z"
   },
   {
    "duration": 71308,
    "start_time": "2022-05-29T11:31:32.711Z"
   },
   {
    "duration": 5,
    "start_time": "2022-05-29T11:44:11.566Z"
   },
   {
    "duration": 15,
    "start_time": "2022-05-29T11:45:54.191Z"
   },
   {
    "duration": 11,
    "start_time": "2022-05-29T11:48:58.065Z"
   },
   {
    "duration": 6,
    "start_time": "2022-05-29T11:49:44.997Z"
   },
   {
    "duration": 15,
    "start_time": "2022-05-29T11:50:15.844Z"
   },
   {
    "duration": 5,
    "start_time": "2022-05-29T11:50:59.319Z"
   },
   {
    "duration": 6,
    "start_time": "2022-05-29T11:51:30.180Z"
   },
   {
    "duration": 11,
    "start_time": "2022-05-29T11:51:40.236Z"
   },
   {
    "duration": 5,
    "start_time": "2022-05-29T11:51:58.964Z"
   },
   {
    "duration": 7,
    "start_time": "2022-05-29T11:52:31.043Z"
   },
   {
    "duration": 24,
    "start_time": "2022-05-29T11:52:41.139Z"
   },
   {
    "duration": 5,
    "start_time": "2022-05-29T11:53:09.207Z"
   },
   {
    "duration": 5,
    "start_time": "2022-05-29T11:53:32.626Z"
   },
   {
    "duration": 5,
    "start_time": "2022-05-29T11:53:56.973Z"
   },
   {
    "duration": 13,
    "start_time": "2022-05-29T11:54:18.337Z"
   },
   {
    "duration": 9,
    "start_time": "2022-05-29T11:55:12.999Z"
   },
   {
    "duration": 5,
    "start_time": "2022-05-29T11:55:35.698Z"
   },
   {
    "duration": 4,
    "start_time": "2022-05-29T11:55:55.084Z"
   },
   {
    "duration": 4,
    "start_time": "2022-05-29T11:56:32.868Z"
   },
   {
    "duration": 6,
    "start_time": "2022-05-29T11:56:39.131Z"
   },
   {
    "duration": 4,
    "start_time": "2022-05-29T11:58:08.380Z"
   },
   {
    "duration": 7,
    "start_time": "2022-05-29T11:58:09.383Z"
   },
   {
    "duration": 195,
    "start_time": "2022-05-29T11:58:19.337Z"
   },
   {
    "duration": 564,
    "start_time": "2022-05-29T11:58:57.913Z"
   },
   {
    "duration": 19,
    "start_time": "2022-05-29T11:58:58.479Z"
   },
   {
    "duration": 8,
    "start_time": "2022-05-29T11:58:58.500Z"
   },
   {
    "duration": 35,
    "start_time": "2022-05-29T11:58:58.510Z"
   },
   {
    "duration": 11,
    "start_time": "2022-05-29T11:58:58.548Z"
   },
   {
    "duration": 7,
    "start_time": "2022-05-29T11:58:58.561Z"
   },
   {
    "duration": 8,
    "start_time": "2022-05-29T11:58:58.570Z"
   },
   {
    "duration": 14,
    "start_time": "2022-05-29T11:58:58.581Z"
   },
   {
    "duration": 24,
    "start_time": "2022-05-29T11:58:58.599Z"
   },
   {
    "duration": 41,
    "start_time": "2022-05-29T11:58:58.646Z"
   },
   {
    "duration": 31,
    "start_time": "2022-05-29T11:58:58.689Z"
   },
   {
    "duration": 37,
    "start_time": "2022-05-29T11:58:58.722Z"
   },
   {
    "duration": 7,
    "start_time": "2022-05-29T11:58:58.762Z"
   },
   {
    "duration": 10,
    "start_time": "2022-05-29T11:58:58.772Z"
   },
   {
    "duration": 8,
    "start_time": "2022-05-29T11:58:58.784Z"
   },
   {
    "duration": 3,
    "start_time": "2022-05-29T11:59:03.565Z"
   },
   {
    "duration": 9,
    "start_time": "2022-05-29T11:59:05.052Z"
   },
   {
    "duration": 156,
    "start_time": "2022-05-29T11:59:06.902Z"
   },
   {
    "duration": 30427,
    "start_time": "2022-05-29T12:00:04.557Z"
   },
   {
    "duration": 50,
    "start_time": "2022-05-29T12:07:37.495Z"
   },
   {
    "duration": 44,
    "start_time": "2022-05-29T12:07:51.554Z"
   },
   {
    "duration": 8,
    "start_time": "2022-05-29T12:09:43.986Z"
   },
   {
    "duration": 7,
    "start_time": "2022-05-29T12:09:53.155Z"
   },
   {
    "duration": 5,
    "start_time": "2022-05-29T12:11:12.877Z"
   },
   {
    "duration": 26,
    "start_time": "2022-05-29T12:14:23.502Z"
   },
   {
    "duration": 141,
    "start_time": "2022-05-29T12:25:11.389Z"
   },
   {
    "duration": 33,
    "start_time": "2022-05-29T12:32:30.395Z"
   },
   {
    "duration": 763,
    "start_time": "2022-05-29T17:25:56.693Z"
   },
   {
    "duration": 21,
    "start_time": "2022-05-29T17:26:00.500Z"
   },
   {
    "duration": 8,
    "start_time": "2022-05-29T17:26:04.621Z"
   },
   {
    "duration": 9,
    "start_time": "2022-05-29T17:26:18.799Z"
   },
   {
    "duration": 4,
    "start_time": "2022-05-29T17:26:19.590Z"
   },
   {
    "duration": 5,
    "start_time": "2022-05-29T17:26:20.599Z"
   },
   {
    "duration": 6,
    "start_time": "2022-05-29T17:26:26.689Z"
   },
   {
    "duration": 8,
    "start_time": "2022-05-29T17:26:27.609Z"
   },
   {
    "duration": 21,
    "start_time": "2022-05-29T17:26:42.425Z"
   },
   {
    "duration": 55,
    "start_time": "2022-05-29T17:26:48.924Z"
   },
   {
    "duration": 6,
    "start_time": "2022-05-29T17:27:49.389Z"
   },
   {
    "duration": 3,
    "start_time": "2022-05-29T17:28:12.590Z"
   },
   {
    "duration": 3,
    "start_time": "2022-05-29T17:28:13.860Z"
   },
   {
    "duration": 21,
    "start_time": "2022-05-29T17:29:37.282Z"
   },
   {
    "duration": 3,
    "start_time": "2022-05-29T17:37:35.102Z"
   },
   {
    "duration": 3,
    "start_time": "2022-05-29T17:40:09.125Z"
   },
   {
    "duration": 71,
    "start_time": "2022-05-29T17:40:48.339Z"
   },
   {
    "duration": 3,
    "start_time": "2022-05-29T17:40:53.802Z"
   },
   {
    "duration": 10,
    "start_time": "2022-05-29T17:40:54.692Z"
   },
   {
    "duration": 4,
    "start_time": "2022-05-29T17:41:11.917Z"
   },
   {
    "duration": 5,
    "start_time": "2022-05-29T17:41:12.877Z"
   },
   {
    "duration": 3,
    "start_time": "2022-05-29T17:43:37.410Z"
   },
   {
    "duration": 8,
    "start_time": "2022-05-29T17:43:38.737Z"
   },
   {
    "duration": 108,
    "start_time": "2022-05-29T17:45:41.195Z"
   },
   {
    "duration": 28638,
    "start_time": "2022-05-29T17:46:15.603Z"
   },
   {
    "duration": 23,
    "start_time": "2022-05-29T17:51:11.245Z"
   },
   {
    "duration": 255,
    "start_time": "2022-05-29T18:11:24.877Z"
   },
   {
    "duration": 8,
    "start_time": "2022-05-29T18:12:27.159Z"
   },
   {
    "duration": 50,
    "start_time": "2022-05-29T18:13:06.899Z"
   },
   {
    "duration": 12,
    "start_time": "2022-05-29T18:17:05.156Z"
   },
   {
    "duration": 6,
    "start_time": "2022-05-29T18:19:11.486Z"
   },
   {
    "duration": 6,
    "start_time": "2022-05-29T18:21:08.379Z"
   },
   {
    "duration": 12,
    "start_time": "2022-05-29T18:23:08.812Z"
   },
   {
    "duration": 51,
    "start_time": "2022-05-29T18:23:28.605Z"
   },
   {
    "duration": 8,
    "start_time": "2022-05-29T18:26:20.041Z"
   },
   {
    "duration": 141,
    "start_time": "2022-05-29T18:29:16.446Z"
   },
   {
    "duration": 157,
    "start_time": "2022-05-29T18:29:46.745Z"
   },
   {
    "duration": 24,
    "start_time": "2022-05-29T18:30:04.972Z"
   },
   {
    "duration": 15,
    "start_time": "2022-05-29T18:30:07.818Z"
   },
   {
    "duration": 1679,
    "start_time": "2022-05-29T18:31:31.718Z"
   },
   {
    "duration": 9113,
    "start_time": "2022-05-29T18:33:36.854Z"
   },
   {
    "duration": 1705,
    "start_time": "2022-05-29T18:37:10.374Z"
   },
   {
    "duration": 513,
    "start_time": "2022-05-29T18:38:58.293Z"
   },
   {
    "duration": 16,
    "start_time": "2022-05-29T18:38:58.808Z"
   },
   {
    "duration": 6,
    "start_time": "2022-05-29T18:38:58.826Z"
   },
   {
    "duration": 30,
    "start_time": "2022-05-29T18:38:58.834Z"
   },
   {
    "duration": 8,
    "start_time": "2022-05-29T18:38:58.870Z"
   },
   {
    "duration": 10,
    "start_time": "2022-05-29T18:38:58.880Z"
   },
   {
    "duration": 6,
    "start_time": "2022-05-29T18:38:58.891Z"
   },
   {
    "duration": 6,
    "start_time": "2022-05-29T18:38:58.899Z"
   },
   {
    "duration": 20,
    "start_time": "2022-05-29T18:38:58.906Z"
   },
   {
    "duration": 70,
    "start_time": "2022-05-29T18:38:58.928Z"
   },
   {
    "duration": 5,
    "start_time": "2022-05-29T18:38:59.000Z"
   },
   {
    "duration": 7,
    "start_time": "2022-05-29T18:38:59.007Z"
   },
   {
    "duration": 7,
    "start_time": "2022-05-29T18:38:59.015Z"
   },
   {
    "duration": 4,
    "start_time": "2022-05-29T18:38:59.024Z"
   },
   {
    "duration": 10,
    "start_time": "2022-05-29T18:38:59.029Z"
   },
   {
    "duration": 33159,
    "start_time": "2022-05-29T18:38:59.060Z"
   },
   {
    "duration": 23,
    "start_time": "2022-05-29T18:39:32.221Z"
   },
   {
    "duration": 69,
    "start_time": "2022-05-29T18:39:32.246Z"
   },
   {
    "duration": 517,
    "start_time": "2022-05-29T18:40:41.837Z"
   },
   {
    "duration": 65,
    "start_time": "2022-05-29T18:40:58.465Z"
   },
   {
    "duration": 7,
    "start_time": "2022-05-29T18:41:06.623Z"
   },
   {
    "duration": 8,
    "start_time": "2022-05-29T18:41:18.497Z"
   },
   {
    "duration": 15,
    "start_time": "2022-05-29T18:42:24.113Z"
   },
   {
    "duration": 24,
    "start_time": "2022-05-29T18:44:08.910Z"
   },
   {
    "duration": 53,
    "start_time": "2022-05-29T18:44:50.749Z"
   },
   {
    "duration": 12,
    "start_time": "2022-05-29T18:45:51.174Z"
   },
   {
    "duration": 23,
    "start_time": "2022-05-29T18:45:59.570Z"
   },
   {
    "duration": 3,
    "start_time": "2022-05-29T19:00:28.694Z"
   },
   {
    "duration": 15,
    "start_time": "2022-05-29T19:01:41.656Z"
   },
   {
    "duration": 390,
    "start_time": "2022-05-29T19:02:33.909Z"
   },
   {
    "duration": 11,
    "start_time": "2022-05-29T19:02:52.283Z"
   },
   {
    "duration": 4,
    "start_time": "2022-05-29T19:03:19.132Z"
   },
   {
    "duration": 33,
    "start_time": "2022-05-29T19:03:19.949Z"
   },
   {
    "duration": 6,
    "start_time": "2022-05-29T19:04:27.967Z"
   },
   {
    "duration": 306,
    "start_time": "2022-05-29T19:04:28.638Z"
   },
   {
    "duration": 257,
    "start_time": "2022-05-29T19:04:51.017Z"
   },
   {
    "duration": 236,
    "start_time": "2022-05-29T19:05:04.718Z"
   },
   {
    "duration": 231,
    "start_time": "2022-05-29T19:05:26.146Z"
   },
   {
    "duration": 36,
    "start_time": "2022-05-29T19:05:45.945Z"
   },
   {
    "duration": 56,
    "start_time": "2022-05-29T19:10:35.442Z"
   },
   {
    "duration": 57,
    "start_time": "2022-05-29T19:11:25.851Z"
   },
   {
    "duration": 54,
    "start_time": "2022-05-29T19:11:41.428Z"
   },
   {
    "duration": 64,
    "start_time": "2022-05-29T19:13:20.738Z"
   },
   {
    "duration": 758,
    "start_time": "2022-05-29T19:17:21.967Z"
   },
   {
    "duration": 153,
    "start_time": "2022-05-29T19:17:35.437Z"
   },
   {
    "duration": 4,
    "start_time": "2022-05-29T19:17:51.504Z"
   },
   {
    "duration": 112,
    "start_time": "2022-05-29T19:18:05.024Z"
   },
   {
    "duration": 167,
    "start_time": "2022-05-29T19:18:14.418Z"
   },
   {
    "duration": 229,
    "start_time": "2022-05-29T19:18:45.702Z"
   },
   {
    "duration": 285,
    "start_time": "2022-05-29T19:20:22.214Z"
   },
   {
    "duration": 232,
    "start_time": "2022-05-29T19:20:28.632Z"
   },
   {
    "duration": 206,
    "start_time": "2022-05-29T19:20:44.203Z"
   },
   {
    "duration": 250,
    "start_time": "2022-05-29T19:20:50.179Z"
   },
   {
    "duration": 160,
    "start_time": "2022-05-29T19:20:56.631Z"
   },
   {
    "duration": 140,
    "start_time": "2022-05-29T19:21:05.532Z"
   },
   {
    "duration": 121,
    "start_time": "2022-05-29T19:21:10.389Z"
   },
   {
    "duration": 15,
    "start_time": "2022-05-29T19:22:16.464Z"
   },
   {
    "duration": 785,
    "start_time": "2022-05-30T16:18:29.481Z"
   },
   {
    "duration": 15,
    "start_time": "2022-05-30T16:18:30.268Z"
   },
   {
    "duration": 12,
    "start_time": "2022-05-30T16:18:30.285Z"
   },
   {
    "duration": 15,
    "start_time": "2022-05-30T16:18:30.298Z"
   },
   {
    "duration": 28,
    "start_time": "2022-05-30T16:18:30.315Z"
   },
   {
    "duration": 13,
    "start_time": "2022-05-30T16:18:30.344Z"
   },
   {
    "duration": 16,
    "start_time": "2022-05-30T16:18:30.358Z"
   },
   {
    "duration": 14,
    "start_time": "2022-05-30T16:18:30.375Z"
   },
   {
    "duration": 28,
    "start_time": "2022-05-30T16:18:30.390Z"
   },
   {
    "duration": 47,
    "start_time": "2022-05-30T16:18:30.419Z"
   },
   {
    "duration": 6,
    "start_time": "2022-05-30T16:18:30.467Z"
   },
   {
    "duration": 30,
    "start_time": "2022-05-30T16:18:30.474Z"
   },
   {
    "duration": 28,
    "start_time": "2022-05-30T16:18:30.505Z"
   },
   {
    "duration": 34,
    "start_time": "2022-05-30T16:18:30.536Z"
   },
   {
    "duration": 26,
    "start_time": "2022-05-30T16:18:30.571Z"
   },
   {
    "duration": 26252,
    "start_time": "2022-05-30T16:18:30.599Z"
   },
   {
    "duration": 23,
    "start_time": "2022-05-30T16:18:56.852Z"
   },
   {
    "duration": 58,
    "start_time": "2022-05-30T16:18:56.876Z"
   },
   {
    "duration": 42,
    "start_time": "2022-05-30T16:18:56.935Z"
   },
   {
    "duration": 22,
    "start_time": "2022-05-30T16:18:56.979Z"
   },
   {
    "duration": 16,
    "start_time": "2022-05-30T16:18:57.003Z"
   },
   {
    "duration": 40,
    "start_time": "2022-05-30T16:18:57.020Z"
   },
   {
    "duration": 4,
    "start_time": "2022-05-30T16:18:57.061Z"
   },
   {
    "duration": 184,
    "start_time": "2022-05-30T16:18:57.091Z"
   },
   {
    "duration": 59,
    "start_time": "2022-05-30T16:18:57.276Z"
   },
   {
    "duration": 7,
    "start_time": "2022-05-30T16:18:57.336Z"
   },
   {
    "duration": 8,
    "start_time": "2022-05-30T16:19:24.025Z"
   },
   {
    "duration": 7,
    "start_time": "2022-05-30T16:20:03.072Z"
   },
   {
    "duration": 7,
    "start_time": "2022-05-30T16:20:40.549Z"
   },
   {
    "duration": 8,
    "start_time": "2022-05-30T16:21:18.473Z"
   },
   {
    "duration": 10,
    "start_time": "2022-05-30T16:22:56.741Z"
   },
   {
    "duration": 8,
    "start_time": "2022-05-30T16:24:03.249Z"
   },
   {
    "duration": 4,
    "start_time": "2022-05-30T16:24:25.785Z"
   },
   {
    "duration": 4,
    "start_time": "2022-05-30T16:24:31.555Z"
   },
   {
    "duration": 448,
    "start_time": "2022-05-30T16:25:40.451Z"
   },
   {
    "duration": 15,
    "start_time": "2022-05-30T16:25:40.901Z"
   },
   {
    "duration": 5,
    "start_time": "2022-05-30T16:25:40.918Z"
   },
   {
    "duration": 9,
    "start_time": "2022-05-30T16:25:40.924Z"
   },
   {
    "duration": 3,
    "start_time": "2022-05-30T16:25:40.934Z"
   },
   {
    "duration": 6,
    "start_time": "2022-05-30T16:25:40.938Z"
   },
   {
    "duration": 5,
    "start_time": "2022-05-30T16:25:40.946Z"
   },
   {
    "duration": 5,
    "start_time": "2022-05-30T16:25:40.952Z"
   },
   {
    "duration": 45,
    "start_time": "2022-05-30T16:25:40.958Z"
   },
   {
    "duration": 31,
    "start_time": "2022-05-30T16:25:41.005Z"
   },
   {
    "duration": 5,
    "start_time": "2022-05-30T16:25:41.038Z"
   },
   {
    "duration": 5,
    "start_time": "2022-05-30T16:25:41.044Z"
   },
   {
    "duration": 5,
    "start_time": "2022-05-30T16:25:41.050Z"
   },
   {
    "duration": 6,
    "start_time": "2022-05-30T16:25:41.056Z"
   },
   {
    "duration": 7,
    "start_time": "2022-05-30T16:25:41.063Z"
   },
   {
    "duration": 25294,
    "start_time": "2022-05-30T16:25:41.071Z"
   },
   {
    "duration": 26,
    "start_time": "2022-05-30T16:26:06.366Z"
   },
   {
    "duration": 51,
    "start_time": "2022-05-30T16:26:06.393Z"
   },
   {
    "duration": 55,
    "start_time": "2022-05-30T16:26:06.445Z"
   },
   {
    "duration": 12,
    "start_time": "2022-05-30T16:26:06.501Z"
   },
   {
    "duration": 18,
    "start_time": "2022-05-30T16:26:06.514Z"
   },
   {
    "duration": 37,
    "start_time": "2022-05-30T16:26:06.533Z"
   },
   {
    "duration": 21,
    "start_time": "2022-05-30T16:26:06.571Z"
   },
   {
    "duration": 190,
    "start_time": "2022-05-30T16:26:06.594Z"
   },
   {
    "duration": 49,
    "start_time": "2022-05-30T16:26:06.785Z"
   },
   {
    "duration": 50,
    "start_time": "2022-05-30T16:26:11.921Z"
   },
   {
    "duration": 9,
    "start_time": "2022-05-30T16:26:13.912Z"
   },
   {
    "duration": 8,
    "start_time": "2022-05-30T16:26:19.474Z"
   },
   {
    "duration": 8,
    "start_time": "2022-05-30T16:26:58.415Z"
   },
   {
    "duration": 27,
    "start_time": "2022-05-30T16:27:06.591Z"
   },
   {
    "duration": 7,
    "start_time": "2022-05-30T16:27:18.281Z"
   },
   {
    "duration": 8,
    "start_time": "2022-05-30T16:27:53.039Z"
   },
   {
    "duration": 6,
    "start_time": "2022-05-30T16:28:05.664Z"
   },
   {
    "duration": 8,
    "start_time": "2022-05-30T16:28:10.568Z"
   },
   {
    "duration": 7,
    "start_time": "2022-05-30T16:31:51.071Z"
   },
   {
    "duration": 28608,
    "start_time": "2022-05-30T16:32:10.489Z"
   },
   {
    "duration": 130,
    "start_time": "2022-05-30T16:33:21.563Z"
   },
   {
    "duration": 1134,
    "start_time": "2022-05-30T16:33:29.267Z"
   },
   {
    "duration": 113,
    "start_time": "2022-05-30T16:34:02.007Z"
   },
   {
    "duration": 214,
    "start_time": "2022-05-30T16:34:13.048Z"
   },
   {
    "duration": 264,
    "start_time": "2022-05-30T16:34:18.881Z"
   },
   {
    "duration": 165,
    "start_time": "2022-05-30T16:34:24.963Z"
   },
   {
    "duration": 364,
    "start_time": "2022-05-30T16:34:51.974Z"
   },
   {
    "duration": 215,
    "start_time": "2022-05-30T16:35:01.352Z"
   },
   {
    "duration": 183,
    "start_time": "2022-05-30T16:35:15.625Z"
   },
   {
    "duration": 29604,
    "start_time": "2022-05-30T16:35:35.173Z"
   },
   {
    "duration": 330,
    "start_time": "2022-05-30T16:36:23.156Z"
   },
   {
    "duration": 8,
    "start_time": "2022-05-30T16:39:06.103Z"
   },
   {
    "duration": 121,
    "start_time": "2022-05-30T16:39:40.412Z"
   },
   {
    "duration": 125,
    "start_time": "2022-05-30T16:40:12.922Z"
   },
   {
    "duration": 103,
    "start_time": "2022-05-30T16:41:17.113Z"
   },
   {
    "duration": 163,
    "start_time": "2022-05-30T16:41:22.492Z"
   },
   {
    "duration": 112,
    "start_time": "2022-05-30T17:21:19.639Z"
   },
   {
    "duration": 199,
    "start_time": "2022-05-30T17:21:45.402Z"
   },
   {
    "duration": 158,
    "start_time": "2022-05-30T17:22:00.996Z"
   },
   {
    "duration": 113,
    "start_time": "2022-05-30T17:30:41.082Z"
   },
   {
    "duration": 296,
    "start_time": "2022-05-30T17:33:35.473Z"
   },
   {
    "duration": 209,
    "start_time": "2022-05-30T17:33:43.650Z"
   },
   {
    "duration": 150,
    "start_time": "2022-05-30T17:33:56.404Z"
   },
   {
    "duration": 134,
    "start_time": "2022-05-30T17:34:04.124Z"
   },
   {
    "duration": 136,
    "start_time": "2022-05-30T17:35:27.320Z"
   },
   {
    "duration": 132,
    "start_time": "2022-05-30T17:35:39.561Z"
   },
   {
    "duration": 125,
    "start_time": "2022-05-30T17:35:50.760Z"
   },
   {
    "duration": 121,
    "start_time": "2022-05-30T17:35:56.075Z"
   },
   {
    "duration": 122,
    "start_time": "2022-05-30T17:35:59.315Z"
   },
   {
    "duration": 123,
    "start_time": "2022-05-30T17:36:20.644Z"
   },
   {
    "duration": 123,
    "start_time": "2022-05-30T17:36:34.378Z"
   },
   {
    "duration": 128,
    "start_time": "2022-05-30T17:36:38.529Z"
   },
   {
    "duration": 131,
    "start_time": "2022-05-30T17:36:42.651Z"
   },
   {
    "duration": 119,
    "start_time": "2022-05-30T17:36:53.138Z"
   },
   {
    "duration": 124,
    "start_time": "2022-05-30T17:37:07.413Z"
   },
   {
    "duration": 165,
    "start_time": "2022-05-30T17:38:27.872Z"
   },
   {
    "duration": 128,
    "start_time": "2022-05-30T17:38:32.185Z"
   },
   {
    "duration": 123,
    "start_time": "2022-05-30T17:38:41.497Z"
   },
   {
    "duration": 122,
    "start_time": "2022-05-30T17:38:46.358Z"
   },
   {
    "duration": 8,
    "start_time": "2022-05-30T17:40:33.497Z"
   },
   {
    "duration": 67,
    "start_time": "2022-05-30T19:47:32.294Z"
   },
   {
    "duration": 743,
    "start_time": "2022-05-30T19:47:50.404Z"
   },
   {
    "duration": 18,
    "start_time": "2022-05-30T19:47:51.150Z"
   },
   {
    "duration": 7,
    "start_time": "2022-05-30T19:47:51.170Z"
   },
   {
    "duration": 13,
    "start_time": "2022-05-30T19:47:51.179Z"
   },
   {
    "duration": 5,
    "start_time": "2022-05-30T19:47:51.195Z"
   },
   {
    "duration": 7,
    "start_time": "2022-05-30T19:47:51.227Z"
   },
   {
    "duration": 12,
    "start_time": "2022-05-30T19:47:51.236Z"
   },
   {
    "duration": 9,
    "start_time": "2022-05-30T19:47:51.249Z"
   },
   {
    "duration": 25,
    "start_time": "2022-05-30T19:47:51.259Z"
   },
   {
    "duration": 52,
    "start_time": "2022-05-30T19:47:51.286Z"
   },
   {
    "duration": 6,
    "start_time": "2022-05-30T19:47:51.340Z"
   },
   {
    "duration": 7,
    "start_time": "2022-05-30T19:47:51.348Z"
   },
   {
    "duration": 8,
    "start_time": "2022-05-30T19:47:51.356Z"
   },
   {
    "duration": 8,
    "start_time": "2022-05-30T19:47:51.366Z"
   },
   {
    "duration": 14,
    "start_time": "2022-05-30T19:47:51.376Z"
   },
   {
    "duration": 28159,
    "start_time": "2022-05-30T19:47:51.393Z"
   },
   {
    "duration": 24,
    "start_time": "2022-05-30T19:48:19.554Z"
   },
   {
    "duration": 58,
    "start_time": "2022-05-30T19:48:19.580Z"
   },
   {
    "duration": 49,
    "start_time": "2022-05-30T19:48:19.639Z"
   },
   {
    "duration": 36,
    "start_time": "2022-05-30T19:48:19.690Z"
   },
   {
    "duration": 21,
    "start_time": "2022-05-30T19:48:19.728Z"
   },
   {
    "duration": 57,
    "start_time": "2022-05-30T19:48:19.751Z"
   },
   {
    "duration": 5,
    "start_time": "2022-05-30T19:48:19.809Z"
   },
   {
    "duration": 235,
    "start_time": "2022-05-30T19:48:19.816Z"
   },
   {
    "duration": 53,
    "start_time": "2022-05-30T19:48:20.053Z"
   },
   {
    "duration": 20,
    "start_time": "2022-05-30T19:48:20.107Z"
   },
   {
    "duration": 640,
    "start_time": "2022-05-30T19:48:20.128Z"
   },
   {
    "duration": 13,
    "start_time": "2022-05-30T19:48:20.770Z"
   },
   {
    "duration": 17,
    "start_time": "2022-05-30T19:48:20.785Z"
   },
   {
    "duration": 173,
    "start_time": "2022-05-30T19:48:20.804Z"
   },
   {
    "duration": 12,
    "start_time": "2022-05-30T19:48:20.979Z"
   },
   {
    "duration": 168,
    "start_time": "2022-05-30T19:48:20.993Z"
   },
   {
    "duration": 528,
    "start_time": "2022-05-30T19:53:51.546Z"
   },
   {
    "duration": 19,
    "start_time": "2022-05-30T19:53:52.076Z"
   },
   {
    "duration": 8,
    "start_time": "2022-05-30T19:53:52.096Z"
   },
   {
    "duration": 36,
    "start_time": "2022-05-30T19:53:52.106Z"
   },
   {
    "duration": 5,
    "start_time": "2022-05-30T19:53:52.144Z"
   },
   {
    "duration": 10,
    "start_time": "2022-05-30T19:53:52.151Z"
   },
   {
    "duration": 8,
    "start_time": "2022-05-30T19:53:52.164Z"
   },
   {
    "duration": 8,
    "start_time": "2022-05-30T19:53:52.173Z"
   },
   {
    "duration": 44,
    "start_time": "2022-05-30T19:53:52.183Z"
   },
   {
    "duration": 35,
    "start_time": "2022-05-30T19:53:52.230Z"
   },
   {
    "duration": 6,
    "start_time": "2022-05-30T19:53:52.267Z"
   },
   {
    "duration": 4,
    "start_time": "2022-05-30T19:53:52.275Z"
   },
   {
    "duration": 6,
    "start_time": "2022-05-30T19:53:52.280Z"
   },
   {
    "duration": 4,
    "start_time": "2022-05-30T19:53:52.288Z"
   },
   {
    "duration": 33,
    "start_time": "2022-05-30T19:53:52.294Z"
   },
   {
    "duration": 28726,
    "start_time": "2022-05-30T19:53:52.329Z"
   },
   {
    "duration": 36,
    "start_time": "2022-05-30T19:54:21.058Z"
   },
   {
    "duration": 73,
    "start_time": "2022-05-30T19:54:21.096Z"
   },
   {
    "duration": 68,
    "start_time": "2022-05-30T19:54:21.171Z"
   },
   {
    "duration": 14,
    "start_time": "2022-05-30T19:54:21.241Z"
   },
   {
    "duration": 24,
    "start_time": "2022-05-30T19:54:21.257Z"
   },
   {
    "duration": 68,
    "start_time": "2022-05-30T19:54:21.283Z"
   },
   {
    "duration": 4,
    "start_time": "2022-05-30T19:54:21.353Z"
   },
   {
    "duration": 246,
    "start_time": "2022-05-30T19:54:21.359Z"
   },
   {
    "duration": 64,
    "start_time": "2022-05-30T19:54:21.607Z"
   },
   {
    "duration": 10,
    "start_time": "2022-05-30T19:54:21.673Z"
   },
   {
    "duration": 459,
    "start_time": "2022-05-30T19:54:21.684Z"
   },
   {
    "duration": 11,
    "start_time": "2022-05-30T19:54:22.147Z"
   },
   {
    "duration": 12,
    "start_time": "2022-05-30T19:54:22.160Z"
   },
   {
    "duration": 207,
    "start_time": "2022-05-30T19:54:22.174Z"
   },
   {
    "duration": 13,
    "start_time": "2022-05-30T19:54:22.383Z"
   },
   {
    "duration": 164,
    "start_time": "2022-05-30T19:54:22.398Z"
   },
   {
    "duration": 175,
    "start_time": "2022-05-30T19:56:12.043Z"
   },
   {
    "duration": 241,
    "start_time": "2022-05-30T19:59:18.710Z"
   },
   {
    "duration": 178,
    "start_time": "2022-05-30T19:59:24.608Z"
   },
   {
    "duration": 228,
    "start_time": "2022-05-30T19:59:31.616Z"
   },
   {
    "duration": 153,
    "start_time": "2022-05-30T20:00:10.683Z"
   },
   {
    "duration": 141,
    "start_time": "2022-05-30T20:00:15.948Z"
   },
   {
    "duration": 140,
    "start_time": "2022-05-30T20:00:39.134Z"
   },
   {
    "duration": 155,
    "start_time": "2022-05-30T20:00:48.095Z"
   },
   {
    "duration": 160,
    "start_time": "2022-05-30T20:00:56.144Z"
   },
   {
    "duration": 9,
    "start_time": "2022-05-30T20:17:54.691Z"
   },
   {
    "duration": 137,
    "start_time": "2022-05-30T20:24:23.768Z"
   },
   {
    "duration": 144,
    "start_time": "2022-05-30T20:24:35.433Z"
   },
   {
    "duration": 159,
    "start_time": "2022-05-30T20:24:40.528Z"
   },
   {
    "duration": 925,
    "start_time": "2022-05-31T15:52:39.716Z"
   },
   {
    "duration": 18,
    "start_time": "2022-05-31T15:52:40.643Z"
   },
   {
    "duration": 6,
    "start_time": "2022-05-31T15:52:40.662Z"
   },
   {
    "duration": 14,
    "start_time": "2022-05-31T15:52:40.669Z"
   },
   {
    "duration": 25,
    "start_time": "2022-05-31T15:52:40.685Z"
   },
   {
    "duration": 9,
    "start_time": "2022-05-31T15:52:40.711Z"
   },
   {
    "duration": 9,
    "start_time": "2022-05-31T15:52:40.721Z"
   },
   {
    "duration": 9,
    "start_time": "2022-05-31T15:52:40.732Z"
   },
   {
    "duration": 18,
    "start_time": "2022-05-31T15:52:40.743Z"
   },
   {
    "duration": 52,
    "start_time": "2022-05-31T15:52:40.763Z"
   },
   {
    "duration": 6,
    "start_time": "2022-05-31T15:52:40.817Z"
   },
   {
    "duration": 9,
    "start_time": "2022-05-31T15:52:40.826Z"
   },
   {
    "duration": 10,
    "start_time": "2022-05-31T15:52:40.838Z"
   },
   {
    "duration": 19,
    "start_time": "2022-05-31T15:52:40.852Z"
   },
   {
    "duration": 29,
    "start_time": "2022-05-31T15:52:40.873Z"
   },
   {
    "duration": 30170,
    "start_time": "2022-05-31T15:52:40.904Z"
   },
   {
    "duration": 31,
    "start_time": "2022-05-31T15:53:11.079Z"
   },
   {
    "duration": 52,
    "start_time": "2022-05-31T15:53:11.111Z"
   },
   {
    "duration": 68,
    "start_time": "2022-05-31T15:53:11.164Z"
   },
   {
    "duration": 14,
    "start_time": "2022-05-31T15:53:11.233Z"
   },
   {
    "duration": 45,
    "start_time": "2022-05-31T15:53:11.249Z"
   },
   {
    "duration": 49,
    "start_time": "2022-05-31T15:53:11.299Z"
   },
   {
    "duration": 4,
    "start_time": "2022-05-31T15:53:11.349Z"
   },
   {
    "duration": 238,
    "start_time": "2022-05-31T15:53:11.354Z"
   },
   {
    "duration": 51,
    "start_time": "2022-05-31T15:53:11.594Z"
   },
   {
    "duration": 8,
    "start_time": "2022-05-31T15:53:11.647Z"
   },
   {
    "duration": 617,
    "start_time": "2022-05-31T15:53:11.657Z"
   },
   {
    "duration": 15,
    "start_time": "2022-05-31T15:53:12.276Z"
   },
   {
    "duration": 211,
    "start_time": "2022-05-31T15:53:12.293Z"
   },
   {
    "duration": 9,
    "start_time": "2022-05-31T15:53:12.506Z"
   },
   {
    "duration": 191,
    "start_time": "2022-05-31T15:53:12.517Z"
   },
   {
    "duration": 10,
    "start_time": "2022-05-31T15:53:12.709Z"
   },
   {
    "duration": 160,
    "start_time": "2022-05-31T15:53:12.720Z"
   },
   {
    "duration": 12,
    "start_time": "2022-05-31T15:53:12.881Z"
   },
   {
    "duration": 197,
    "start_time": "2022-05-31T15:53:12.895Z"
   },
   {
    "duration": 140,
    "start_time": "2022-05-31T15:54:25.741Z"
   },
   {
    "duration": 149,
    "start_time": "2022-05-31T15:54:49.790Z"
   },
   {
    "duration": 923,
    "start_time": "2022-06-01T16:18:55.157Z"
   },
   {
    "duration": 18,
    "start_time": "2022-06-01T16:18:56.082Z"
   },
   {
    "duration": 6,
    "start_time": "2022-06-01T16:18:56.102Z"
   },
   {
    "duration": 11,
    "start_time": "2022-06-01T16:18:56.109Z"
   },
   {
    "duration": 7,
    "start_time": "2022-06-01T16:18:56.122Z"
   },
   {
    "duration": 8,
    "start_time": "2022-06-01T16:18:56.130Z"
   },
   {
    "duration": 6,
    "start_time": "2022-06-01T16:18:56.140Z"
   },
   {
    "duration": 6,
    "start_time": "2022-06-01T16:18:56.148Z"
   },
   {
    "duration": 18,
    "start_time": "2022-06-01T16:18:56.156Z"
   },
   {
    "duration": 68,
    "start_time": "2022-06-01T16:18:56.176Z"
   },
   {
    "duration": 6,
    "start_time": "2022-06-01T16:18:56.246Z"
   },
   {
    "duration": 7,
    "start_time": "2022-06-01T16:18:56.254Z"
   },
   {
    "duration": 6,
    "start_time": "2022-06-01T16:18:56.263Z"
   },
   {
    "duration": 5,
    "start_time": "2022-06-01T16:18:56.271Z"
   },
   {
    "duration": 9,
    "start_time": "2022-06-01T16:18:56.277Z"
   },
   {
    "duration": 28524,
    "start_time": "2022-06-01T16:18:56.287Z"
   },
   {
    "duration": 30,
    "start_time": "2022-06-01T16:19:24.813Z"
   },
   {
    "duration": 47,
    "start_time": "2022-06-01T16:19:24.845Z"
   },
   {
    "duration": 69,
    "start_time": "2022-06-01T16:19:24.894Z"
   },
   {
    "duration": 12,
    "start_time": "2022-06-01T16:19:24.965Z"
   },
   {
    "duration": 18,
    "start_time": "2022-06-01T16:19:24.978Z"
   },
   {
    "duration": 68,
    "start_time": "2022-06-01T16:19:24.998Z"
   },
   {
    "duration": 4,
    "start_time": "2022-06-01T16:19:25.067Z"
   },
   {
    "duration": 207,
    "start_time": "2022-06-01T16:19:25.072Z"
   },
   {
    "duration": 58,
    "start_time": "2022-06-01T16:19:25.281Z"
   },
   {
    "duration": 8,
    "start_time": "2022-06-01T16:19:25.341Z"
   },
   {
    "duration": 584,
    "start_time": "2022-06-01T16:19:25.351Z"
   },
   {
    "duration": 10,
    "start_time": "2022-06-01T16:19:25.937Z"
   },
   {
    "duration": 179,
    "start_time": "2022-06-01T16:19:25.949Z"
   },
   {
    "duration": 10,
    "start_time": "2022-06-01T16:19:26.129Z"
   },
   {
    "duration": 198,
    "start_time": "2022-06-01T16:19:26.140Z"
   },
   {
    "duration": 10,
    "start_time": "2022-06-01T16:19:26.340Z"
   },
   {
    "duration": 171,
    "start_time": "2022-06-01T16:19:26.352Z"
   },
   {
    "duration": 11,
    "start_time": "2022-06-01T16:19:26.526Z"
   },
   {
    "duration": 227,
    "start_time": "2022-06-01T16:19:26.539Z"
   },
   {
    "duration": 799,
    "start_time": "2022-06-01T16:21:33.028Z"
   },
   {
    "duration": 13,
    "start_time": "2022-06-01T16:21:46.749Z"
   },
   {
    "duration": 8,
    "start_time": "2022-06-01T16:21:59.567Z"
   },
   {
    "duration": 9,
    "start_time": "2022-06-01T16:22:31.187Z"
   },
   {
    "duration": 8,
    "start_time": "2022-06-01T16:22:44.549Z"
   },
   {
    "duration": 9,
    "start_time": "2022-06-01T16:22:51.782Z"
   },
   {
    "duration": 6,
    "start_time": "2022-06-01T16:24:41.379Z"
   },
   {
    "duration": 6,
    "start_time": "2022-06-01T16:24:47.627Z"
   },
   {
    "duration": 5,
    "start_time": "2022-06-01T16:24:59.406Z"
   },
   {
    "duration": 8,
    "start_time": "2022-06-01T16:25:21.463Z"
   },
   {
    "duration": 6,
    "start_time": "2022-06-01T16:25:27.904Z"
   },
   {
    "duration": 9,
    "start_time": "2022-06-01T16:25:57.501Z"
   },
   {
    "duration": 7,
    "start_time": "2022-06-01T16:42:05.297Z"
   },
   {
    "duration": 6,
    "start_time": "2022-06-01T16:42:57.151Z"
   },
   {
    "duration": 88,
    "start_time": "2022-06-01T16:43:36.926Z"
   },
   {
    "duration": 3,
    "start_time": "2022-06-01T16:43:41.422Z"
   },
   {
    "duration": 4,
    "start_time": "2022-06-01T16:43:48.990Z"
   },
   {
    "duration": 9,
    "start_time": "2022-06-01T16:44:22.230Z"
   },
   {
    "duration": 4,
    "start_time": "2022-06-01T16:44:39.262Z"
   },
   {
    "duration": 14,
    "start_time": "2022-06-01T16:50:22.322Z"
   },
   {
    "duration": 7,
    "start_time": "2022-06-01T16:50:24.450Z"
   },
   {
    "duration": 240,
    "start_time": "2022-06-01T16:50:28.510Z"
   },
   {
    "duration": 255,
    "start_time": "2022-06-01T16:50:44.711Z"
   },
   {
    "duration": 5,
    "start_time": "2022-06-01T16:53:24.483Z"
   },
   {
    "duration": 5,
    "start_time": "2022-06-01T17:03:40.468Z"
   },
   {
    "duration": 58,
    "start_time": "2022-06-01T17:20:47.910Z"
   },
   {
    "duration": 5,
    "start_time": "2022-06-01T17:21:04.893Z"
   },
   {
    "duration": 6,
    "start_time": "2022-06-01T17:21:10.100Z"
   },
   {
    "duration": 191,
    "start_time": "2022-06-01T17:23:00.699Z"
   },
   {
    "duration": 205,
    "start_time": "2022-06-01T17:23:21.160Z"
   },
   {
    "duration": 186,
    "start_time": "2022-06-01T17:23:43.539Z"
   },
   {
    "duration": 17,
    "start_time": "2022-06-01T17:25:58.380Z"
   },
   {
    "duration": 48,
    "start_time": "2022-06-01T17:26:01.901Z"
   },
   {
    "duration": 5,
    "start_time": "2022-06-01T17:26:18.383Z"
   },
   {
    "duration": 39,
    "start_time": "2022-06-01T17:34:41.054Z"
   },
   {
    "duration": 10,
    "start_time": "2022-06-01T17:34:44.423Z"
   },
   {
    "duration": 12,
    "start_time": "2022-06-01T17:34:51.473Z"
   },
   {
    "duration": 8,
    "start_time": "2022-06-01T17:40:10.404Z"
   },
   {
    "duration": 16,
    "start_time": "2022-06-01T17:43:13.326Z"
   },
   {
    "duration": 32,
    "start_time": "2022-06-01T17:45:26.936Z"
   },
   {
    "duration": 87,
    "start_time": "2022-06-01T17:46:26.297Z"
   },
   {
    "duration": 32,
    "start_time": "2022-06-01T17:49:58.582Z"
   },
   {
    "duration": 29,
    "start_time": "2022-06-01T17:50:07.702Z"
   },
   {
    "duration": 4,
    "start_time": "2022-06-01T17:50:27.278Z"
   },
   {
    "duration": 29,
    "start_time": "2022-06-01T17:50:42.836Z"
   },
   {
    "duration": 25,
    "start_time": "2022-06-01T17:51:39.418Z"
   },
   {
    "duration": 19,
    "start_time": "2022-06-01T17:51:56.342Z"
   },
   {
    "duration": 19,
    "start_time": "2022-06-01T17:53:08.039Z"
   },
   {
    "duration": 21,
    "start_time": "2022-06-01T17:53:14.121Z"
   },
   {
    "duration": 16,
    "start_time": "2022-06-01T18:13:27.967Z"
   },
   {
    "duration": 39,
    "start_time": "2022-06-01T18:13:34.820Z"
   },
   {
    "duration": 9,
    "start_time": "2022-06-01T18:18:22.322Z"
   },
   {
    "duration": 15,
    "start_time": "2022-06-01T18:18:33.810Z"
   },
   {
    "duration": 9,
    "start_time": "2022-06-01T18:21:51.327Z"
   },
   {
    "duration": 5,
    "start_time": "2022-06-01T18:22:18.336Z"
   },
   {
    "duration": 5,
    "start_time": "2022-06-01T18:22:31.604Z"
   },
   {
    "duration": 4,
    "start_time": "2022-06-01T18:22:34.955Z"
   },
   {
    "duration": 4,
    "start_time": "2022-06-01T18:24:45.125Z"
   },
   {
    "duration": 5,
    "start_time": "2022-06-01T18:24:49.465Z"
   },
   {
    "duration": 382,
    "start_time": "2022-06-01T18:27:19.826Z"
   },
   {
    "duration": 10,
    "start_time": "2022-06-01T18:27:42.244Z"
   },
   {
    "duration": 54,
    "start_time": "2022-06-01T18:28:21.218Z"
   },
   {
    "duration": 41,
    "start_time": "2022-06-01T18:28:39.853Z"
   },
   {
    "duration": 9,
    "start_time": "2022-06-01T18:28:54.312Z"
   },
   {
    "duration": 39,
    "start_time": "2022-06-01T18:29:04.161Z"
   },
   {
    "duration": 7,
    "start_time": "2022-06-01T18:29:32.268Z"
   },
   {
    "duration": 11,
    "start_time": "2022-06-01T18:30:01.927Z"
   },
   {
    "duration": 10,
    "start_time": "2022-06-01T18:31:50.037Z"
   },
   {
    "duration": 10,
    "start_time": "2022-06-01T18:33:38.228Z"
   },
   {
    "duration": 4,
    "start_time": "2022-06-01T18:34:28.179Z"
   },
   {
    "duration": 5,
    "start_time": "2022-06-01T18:34:31.819Z"
   },
   {
    "duration": 682,
    "start_time": "2022-06-01T18:34:47.436Z"
   },
   {
    "duration": 17,
    "start_time": "2022-06-01T18:34:48.121Z"
   },
   {
    "duration": 8,
    "start_time": "2022-06-01T18:34:48.140Z"
   },
   {
    "duration": 9,
    "start_time": "2022-06-01T18:34:48.150Z"
   },
   {
    "duration": 4,
    "start_time": "2022-06-01T18:34:48.161Z"
   },
   {
    "duration": 9,
    "start_time": "2022-06-01T18:34:48.167Z"
   },
   {
    "duration": 7,
    "start_time": "2022-06-01T18:34:48.178Z"
   },
   {
    "duration": 7,
    "start_time": "2022-06-01T18:34:48.186Z"
   },
   {
    "duration": 46,
    "start_time": "2022-06-01T18:34:48.194Z"
   },
   {
    "duration": 47,
    "start_time": "2022-06-01T18:34:48.243Z"
   },
   {
    "duration": 7,
    "start_time": "2022-06-01T18:34:48.291Z"
   },
   {
    "duration": 30,
    "start_time": "2022-06-01T18:34:48.300Z"
   },
   {
    "duration": 7,
    "start_time": "2022-06-01T18:34:48.332Z"
   },
   {
    "duration": 5,
    "start_time": "2022-06-01T18:34:48.341Z"
   },
   {
    "duration": 8,
    "start_time": "2022-06-01T18:34:48.348Z"
   },
   {
    "duration": 28001,
    "start_time": "2022-06-01T18:34:48.357Z"
   },
   {
    "duration": 24,
    "start_time": "2022-06-01T18:35:16.360Z"
   },
   {
    "duration": 68,
    "start_time": "2022-06-01T18:35:16.385Z"
   },
   {
    "duration": 50,
    "start_time": "2022-06-01T18:35:16.454Z"
   },
   {
    "duration": 33,
    "start_time": "2022-06-01T18:35:16.505Z"
   },
   {
    "duration": 19,
    "start_time": "2022-06-01T18:35:16.539Z"
   },
   {
    "duration": 42,
    "start_time": "2022-06-01T18:35:16.560Z"
   },
   {
    "duration": 23,
    "start_time": "2022-06-01T18:35:16.604Z"
   },
   {
    "duration": 221,
    "start_time": "2022-06-01T18:35:16.629Z"
   },
   {
    "duration": 11,
    "start_time": "2022-06-01T18:35:16.852Z"
   },
   {
    "duration": 62,
    "start_time": "2022-06-01T18:35:16.865Z"
   },
   {
    "duration": 10,
    "start_time": "2022-06-01T18:35:16.929Z"
   },
   {
    "duration": 431,
    "start_time": "2022-06-01T18:35:16.942Z"
   },
   {
    "duration": 10,
    "start_time": "2022-06-01T18:35:17.374Z"
   },
   {
    "duration": 162,
    "start_time": "2022-06-01T18:35:17.386Z"
   },
   {
    "duration": 9,
    "start_time": "2022-06-01T18:35:17.550Z"
   },
   {
    "duration": 180,
    "start_time": "2022-06-01T18:35:17.561Z"
   },
   {
    "duration": 15,
    "start_time": "2022-06-01T18:35:17.751Z"
   },
   {
    "duration": 173,
    "start_time": "2022-06-01T18:35:17.769Z"
   },
   {
    "duration": 11,
    "start_time": "2022-06-01T18:35:17.944Z"
   },
   {
    "duration": 185,
    "start_time": "2022-06-01T18:35:17.956Z"
   },
   {
    "duration": 5,
    "start_time": "2022-06-01T18:35:18.142Z"
   },
   {
    "duration": 8,
    "start_time": "2022-06-01T18:35:18.149Z"
   },
   {
    "duration": 6,
    "start_time": "2022-06-01T18:35:18.159Z"
   },
   {
    "duration": 7,
    "start_time": "2022-06-01T18:35:18.167Z"
   },
   {
    "duration": 5,
    "start_time": "2022-06-01T18:35:18.176Z"
   },
   {
    "duration": 8,
    "start_time": "2022-06-01T18:35:18.182Z"
   },
   {
    "duration": 37,
    "start_time": "2022-06-01T18:35:18.191Z"
   },
   {
    "duration": 23,
    "start_time": "2022-06-01T18:35:18.230Z"
   },
   {
    "duration": 42,
    "start_time": "2022-06-01T18:35:18.254Z"
   },
   {
    "duration": 10,
    "start_time": "2022-06-01T18:35:18.298Z"
   },
   {
    "duration": 8,
    "start_time": "2022-06-01T18:35:18.310Z"
   },
   {
    "duration": 4,
    "start_time": "2022-06-01T18:36:07.545Z"
   },
   {
    "duration": 21,
    "start_time": "2022-06-01T18:38:56.912Z"
   },
   {
    "duration": 23,
    "start_time": "2022-06-01T18:39:11.947Z"
   },
   {
    "duration": 25,
    "start_time": "2022-06-01T18:39:53.854Z"
   },
   {
    "duration": 24,
    "start_time": "2022-06-01T18:42:31.620Z"
   },
   {
    "duration": 569,
    "start_time": "2022-06-01T18:43:08.720Z"
   },
   {
    "duration": 20,
    "start_time": "2022-06-01T18:44:05.656Z"
   },
   {
    "duration": 352,
    "start_time": "2022-06-01T18:44:22.418Z"
   },
   {
    "duration": 18,
    "start_time": "2022-06-01T18:44:31.235Z"
   },
   {
    "duration": 159,
    "start_time": "2022-06-01T18:44:46.908Z"
   },
   {
    "duration": 146,
    "start_time": "2022-06-01T18:45:00.918Z"
   },
   {
    "duration": 161,
    "start_time": "2022-06-01T18:45:29.594Z"
   },
   {
    "duration": 230,
    "start_time": "2022-06-01T18:46:16.523Z"
   },
   {
    "duration": 14,
    "start_time": "2022-06-01T18:56:49.723Z"
   },
   {
    "duration": 150,
    "start_time": "2022-06-01T19:04:40.993Z"
   },
   {
    "duration": 146,
    "start_time": "2022-06-01T19:04:54.116Z"
   },
   {
    "duration": 9,
    "start_time": "2022-06-01T19:04:57.490Z"
   },
   {
    "duration": 9,
    "start_time": "2022-06-01T19:10:06.787Z"
   },
   {
    "duration": 654,
    "start_time": "2022-06-04T14:54:26.718Z"
   },
   {
    "duration": 21,
    "start_time": "2022-06-04T14:54:27.374Z"
   },
   {
    "duration": 7,
    "start_time": "2022-06-04T14:54:27.397Z"
   },
   {
    "duration": 11,
    "start_time": "2022-06-04T14:54:27.405Z"
   },
   {
    "duration": 4,
    "start_time": "2022-06-04T14:54:27.418Z"
   },
   {
    "duration": 8,
    "start_time": "2022-06-04T14:54:27.424Z"
   },
   {
    "duration": 7,
    "start_time": "2022-06-04T14:54:27.433Z"
   },
   {
    "duration": 10,
    "start_time": "2022-06-04T14:54:27.442Z"
   },
   {
    "duration": 51,
    "start_time": "2022-06-04T14:54:27.454Z"
   },
   {
    "duration": 40,
    "start_time": "2022-06-04T14:54:27.507Z"
   },
   {
    "duration": 6,
    "start_time": "2022-06-04T14:54:27.549Z"
   },
   {
    "duration": 5,
    "start_time": "2022-06-04T14:54:27.557Z"
   },
   {
    "duration": 4,
    "start_time": "2022-06-04T14:54:27.590Z"
   },
   {
    "duration": 5,
    "start_time": "2022-06-04T14:54:27.597Z"
   },
   {
    "duration": 8,
    "start_time": "2022-06-04T14:54:27.604Z"
   },
   {
    "duration": 32046,
    "start_time": "2022-06-04T14:54:27.613Z"
   },
   {
    "duration": 37,
    "start_time": "2022-06-04T14:54:59.660Z"
   },
   {
    "duration": 54,
    "start_time": "2022-06-04T14:54:59.699Z"
   },
   {
    "duration": 70,
    "start_time": "2022-06-04T14:54:59.755Z"
   },
   {
    "duration": 14,
    "start_time": "2022-06-04T14:54:59.827Z"
   },
   {
    "duration": 21,
    "start_time": "2022-06-04T14:54:59.843Z"
   },
   {
    "duration": 65,
    "start_time": "2022-06-04T14:54:59.866Z"
   },
   {
    "duration": 4,
    "start_time": "2022-06-04T14:54:59.933Z"
   },
   {
    "duration": 248,
    "start_time": "2022-06-04T14:54:59.939Z"
   },
   {
    "duration": 13,
    "start_time": "2022-06-04T14:55:00.190Z"
   },
   {
    "duration": 59,
    "start_time": "2022-06-04T14:55:00.205Z"
   },
   {
    "duration": 32,
    "start_time": "2022-06-04T14:55:00.266Z"
   },
   {
    "duration": 650,
    "start_time": "2022-06-04T14:55:00.300Z"
   },
   {
    "duration": 11,
    "start_time": "2022-06-04T14:55:00.952Z"
   },
   {
    "duration": 195,
    "start_time": "2022-06-04T14:55:00.965Z"
   },
   {
    "duration": 11,
    "start_time": "2022-06-04T14:55:01.162Z"
   },
   {
    "duration": 206,
    "start_time": "2022-06-04T14:55:01.189Z"
   },
   {
    "duration": 13,
    "start_time": "2022-06-04T14:55:01.397Z"
   },
   {
    "duration": 191,
    "start_time": "2022-06-04T14:55:01.412Z"
   },
   {
    "duration": 10,
    "start_time": "2022-06-04T14:55:01.605Z"
   },
   {
    "duration": 222,
    "start_time": "2022-06-04T14:55:01.617Z"
   },
   {
    "duration": 6,
    "start_time": "2022-06-04T14:55:01.841Z"
   },
   {
    "duration": 19,
    "start_time": "2022-06-04T14:55:01.849Z"
   },
   {
    "duration": 23,
    "start_time": "2022-06-04T14:55:01.869Z"
   },
   {
    "duration": 10,
    "start_time": "2022-06-04T14:55:01.894Z"
   },
   {
    "duration": 6,
    "start_time": "2022-06-04T14:55:01.910Z"
   },
   {
    "duration": 9,
    "start_time": "2022-06-04T14:55:01.918Z"
   },
   {
    "duration": 12,
    "start_time": "2022-06-04T14:55:01.929Z"
   },
   {
    "duration": 14,
    "start_time": "2022-06-04T14:55:01.943Z"
   },
   {
    "duration": 61,
    "start_time": "2022-06-04T14:55:01.959Z"
   },
   {
    "duration": 9,
    "start_time": "2022-06-04T14:55:02.022Z"
   },
   {
    "duration": 193,
    "start_time": "2022-06-04T14:55:02.032Z"
   },
   {
    "duration": 8,
    "start_time": "2022-06-04T14:55:02.226Z"
   },
   {
    "duration": 10,
    "start_time": "2022-06-04T14:56:49.745Z"
   },
   {
    "duration": 13,
    "start_time": "2022-06-04T14:57:38.379Z"
   },
   {
    "duration": 9,
    "start_time": "2022-06-04T14:57:45.672Z"
   },
   {
    "duration": 9,
    "start_time": "2022-06-04T14:58:49.310Z"
   },
   {
    "duration": 167,
    "start_time": "2022-06-04T14:59:54.765Z"
   },
   {
    "duration": 165,
    "start_time": "2022-06-04T15:00:12.502Z"
   },
   {
    "duration": 10,
    "start_time": "2022-06-04T15:03:27.766Z"
   },
   {
    "duration": 235,
    "start_time": "2022-06-04T15:03:33.744Z"
   },
   {
    "duration": 148,
    "start_time": "2022-06-04T15:03:55.961Z"
   },
   {
    "duration": 186,
    "start_time": "2022-06-04T15:04:49.857Z"
   },
   {
    "duration": 33,
    "start_time": "2022-06-04T15:05:59.310Z"
   },
   {
    "duration": 146,
    "start_time": "2022-06-04T15:06:12.619Z"
   },
   {
    "duration": 166,
    "start_time": "2022-06-04T15:06:39.823Z"
   },
   {
    "duration": 157,
    "start_time": "2022-06-04T15:07:45.023Z"
   },
   {
    "duration": 35,
    "start_time": "2022-06-04T15:08:17.794Z"
   },
   {
    "duration": 151,
    "start_time": "2022-06-04T15:08:21.921Z"
   },
   {
    "duration": 9,
    "start_time": "2022-06-04T15:22:33.276Z"
   },
   {
    "duration": 4,
    "start_time": "2022-06-04T15:22:59.714Z"
   },
   {
    "duration": 4,
    "start_time": "2022-06-04T15:23:24.983Z"
   },
   {
    "duration": 92,
    "start_time": "2022-06-04T15:24:15.483Z"
   },
   {
    "duration": 52,
    "start_time": "2022-06-04T15:24:52.427Z"
   },
   {
    "duration": 1131,
    "start_time": "2022-06-05T11:28:08.080Z"
   },
   {
    "duration": 22,
    "start_time": "2022-06-05T11:28:09.213Z"
   },
   {
    "duration": 25,
    "start_time": "2022-06-05T11:28:09.236Z"
   },
   {
    "duration": 24,
    "start_time": "2022-06-05T11:28:09.264Z"
   },
   {
    "duration": 6,
    "start_time": "2022-06-05T11:28:09.291Z"
   },
   {
    "duration": 13,
    "start_time": "2022-06-05T11:28:09.299Z"
   },
   {
    "duration": 10,
    "start_time": "2022-06-05T11:28:09.313Z"
   },
   {
    "duration": 56,
    "start_time": "2022-06-05T11:28:09.325Z"
   },
   {
    "duration": 32,
    "start_time": "2022-06-05T11:28:09.383Z"
   },
   {
    "duration": 54,
    "start_time": "2022-06-05T11:28:09.418Z"
   },
   {
    "duration": 23,
    "start_time": "2022-06-05T11:28:09.477Z"
   },
   {
    "duration": 21,
    "start_time": "2022-06-05T11:28:09.501Z"
   },
   {
    "duration": 43,
    "start_time": "2022-06-05T11:28:09.524Z"
   },
   {
    "duration": 20,
    "start_time": "2022-06-05T11:28:09.569Z"
   },
   {
    "duration": 14,
    "start_time": "2022-06-05T11:28:09.590Z"
   },
   {
    "duration": 36304,
    "start_time": "2022-06-05T11:28:09.606Z"
   },
   {
    "duration": 58,
    "start_time": "2022-06-05T11:28:45.912Z"
   },
   {
    "duration": 79,
    "start_time": "2022-06-05T11:28:45.971Z"
   },
   {
    "duration": 58,
    "start_time": "2022-06-05T11:28:46.053Z"
   },
   {
    "duration": 23,
    "start_time": "2022-06-05T11:28:46.113Z"
   },
   {
    "duration": 72,
    "start_time": "2022-06-05T11:28:46.138Z"
   },
   {
    "duration": 64,
    "start_time": "2022-06-05T11:28:46.211Z"
   },
   {
    "duration": 5,
    "start_time": "2022-06-05T11:28:46.281Z"
   },
   {
    "duration": 314,
    "start_time": "2022-06-05T11:28:46.288Z"
   },
   {
    "duration": 13,
    "start_time": "2022-06-05T11:28:46.604Z"
   },
   {
    "duration": 120,
    "start_time": "2022-06-05T11:28:46.637Z"
   },
   {
    "duration": 10,
    "start_time": "2022-06-05T11:28:46.759Z"
   },
   {
    "duration": 516,
    "start_time": "2022-06-05T11:28:46.773Z"
   },
   {
    "duration": 12,
    "start_time": "2022-06-05T11:28:47.291Z"
   },
   {
    "duration": 253,
    "start_time": "2022-06-05T11:28:47.305Z"
   },
   {
    "duration": 16,
    "start_time": "2022-06-05T11:28:47.565Z"
   },
   {
    "duration": 266,
    "start_time": "2022-06-05T11:28:47.584Z"
   },
   {
    "duration": 14,
    "start_time": "2022-06-05T11:28:47.856Z"
   },
   {
    "duration": 214,
    "start_time": "2022-06-05T11:28:47.875Z"
   },
   {
    "duration": 16,
    "start_time": "2022-06-05T11:28:48.092Z"
   },
   {
    "duration": 278,
    "start_time": "2022-06-05T11:28:48.111Z"
   },
   {
    "duration": 8,
    "start_time": "2022-06-05T11:28:48.391Z"
   },
   {
    "duration": 7,
    "start_time": "2022-06-05T11:28:48.401Z"
   },
   {
    "duration": 11,
    "start_time": "2022-06-05T11:28:48.433Z"
   },
   {
    "duration": 42,
    "start_time": "2022-06-05T11:28:48.446Z"
   },
   {
    "duration": 11,
    "start_time": "2022-06-05T11:28:48.490Z"
   },
   {
    "duration": 7,
    "start_time": "2022-06-05T11:28:48.504Z"
   },
   {
    "duration": 7,
    "start_time": "2022-06-05T11:28:48.513Z"
   },
   {
    "duration": 18,
    "start_time": "2022-06-05T11:28:48.522Z"
   },
   {
    "duration": 74,
    "start_time": "2022-06-05T11:28:48.543Z"
   },
   {
    "duration": 15,
    "start_time": "2022-06-05T11:28:48.619Z"
   },
   {
    "duration": 277,
    "start_time": "2022-06-05T11:28:48.642Z"
   },
   {
    "duration": 12,
    "start_time": "2022-06-05T11:28:48.934Z"
   },
   {
    "duration": 42,
    "start_time": "2022-06-05T11:28:48.947Z"
   },
   {
    "duration": 11,
    "start_time": "2022-06-05T11:28:55.824Z"
   },
   {
    "duration": 195,
    "start_time": "2022-06-05T11:29:07.917Z"
   },
   {
    "duration": 198,
    "start_time": "2022-06-05T11:29:13.660Z"
   },
   {
    "duration": 324,
    "start_time": "2022-06-05T11:29:24.318Z"
   },
   {
    "duration": 1151,
    "start_time": "2022-06-05T12:55:39.508Z"
   },
   {
    "duration": 17,
    "start_time": "2022-06-05T12:55:40.660Z"
   },
   {
    "duration": 7,
    "start_time": "2022-06-05T12:55:40.678Z"
   },
   {
    "duration": 17,
    "start_time": "2022-06-05T12:55:40.687Z"
   },
   {
    "duration": 23,
    "start_time": "2022-06-05T12:55:40.706Z"
   },
   {
    "duration": 11,
    "start_time": "2022-06-05T12:55:40.732Z"
   },
   {
    "duration": 8,
    "start_time": "2022-06-05T12:55:40.746Z"
   },
   {
    "duration": 14,
    "start_time": "2022-06-05T12:55:40.756Z"
   },
   {
    "duration": 20,
    "start_time": "2022-06-05T12:55:40.771Z"
   },
   {
    "duration": 45,
    "start_time": "2022-06-05T12:55:40.826Z"
   },
   {
    "duration": 9,
    "start_time": "2022-06-05T12:55:40.873Z"
   },
   {
    "duration": 7,
    "start_time": "2022-06-05T12:55:40.883Z"
   },
   {
    "duration": 5,
    "start_time": "2022-06-05T12:55:40.892Z"
   },
   {
    "duration": 28,
    "start_time": "2022-06-05T12:55:40.899Z"
   },
   {
    "duration": 20,
    "start_time": "2022-06-05T12:55:40.930Z"
   },
   {
    "duration": 29537,
    "start_time": "2022-06-05T12:55:40.951Z"
   },
   {
    "duration": 23,
    "start_time": "2022-06-05T12:56:10.489Z"
   },
   {
    "duration": 57,
    "start_time": "2022-06-05T12:56:10.514Z"
   },
   {
    "duration": 61,
    "start_time": "2022-06-05T12:56:10.573Z"
   },
   {
    "duration": 14,
    "start_time": "2022-06-05T12:56:10.636Z"
   },
   {
    "duration": 22,
    "start_time": "2022-06-05T12:56:10.652Z"
   },
   {
    "duration": 78,
    "start_time": "2022-06-05T12:56:10.676Z"
   },
   {
    "duration": 3,
    "start_time": "2022-06-05T12:56:10.756Z"
   },
   {
    "duration": 232,
    "start_time": "2022-06-05T12:56:10.760Z"
   },
   {
    "duration": 12,
    "start_time": "2022-06-05T12:56:10.994Z"
   },
   {
    "duration": 64,
    "start_time": "2022-06-05T12:56:11.008Z"
   },
   {
    "duration": 7,
    "start_time": "2022-06-05T12:56:11.074Z"
   },
   {
    "duration": 655,
    "start_time": "2022-06-05T12:56:11.085Z"
   },
   {
    "duration": 12,
    "start_time": "2022-06-05T12:56:11.743Z"
   },
   {
    "duration": 169,
    "start_time": "2022-06-05T12:56:11.756Z"
   },
   {
    "duration": 16,
    "start_time": "2022-06-05T12:56:11.926Z"
   },
   {
    "duration": 196,
    "start_time": "2022-06-05T12:56:11.945Z"
   },
   {
    "duration": 10,
    "start_time": "2022-06-05T12:56:12.143Z"
   },
   {
    "duration": 180,
    "start_time": "2022-06-05T12:56:12.154Z"
   },
   {
    "duration": 14,
    "start_time": "2022-06-05T12:56:12.337Z"
   },
   {
    "duration": 212,
    "start_time": "2022-06-05T12:56:12.353Z"
   },
   {
    "duration": 7,
    "start_time": "2022-06-05T12:56:12.567Z"
   },
   {
    "duration": 32,
    "start_time": "2022-06-05T12:56:12.575Z"
   },
   {
    "duration": 12,
    "start_time": "2022-06-05T12:56:12.610Z"
   },
   {
    "duration": 14,
    "start_time": "2022-06-05T12:56:12.624Z"
   },
   {
    "duration": 21,
    "start_time": "2022-06-05T12:56:12.641Z"
   },
   {
    "duration": 12,
    "start_time": "2022-06-05T12:56:12.664Z"
   },
   {
    "duration": 10,
    "start_time": "2022-06-05T12:56:12.678Z"
   },
   {
    "duration": 9,
    "start_time": "2022-06-05T12:56:12.690Z"
   },
   {
    "duration": 58,
    "start_time": "2022-06-05T12:56:12.701Z"
   },
   {
    "duration": 11,
    "start_time": "2022-06-05T12:56:12.761Z"
   },
   {
    "duration": 201,
    "start_time": "2022-06-05T12:56:12.776Z"
   },
   {
    "duration": 7,
    "start_time": "2022-06-05T12:56:12.979Z"
   },
   {
    "duration": 10,
    "start_time": "2022-06-05T12:56:12.987Z"
   },
   {
    "duration": 166,
    "start_time": "2022-06-05T12:56:12.999Z"
   },
   {
    "duration": 8,
    "start_time": "2022-06-05T12:56:13.167Z"
   },
   {
    "duration": 141,
    "start_time": "2022-06-05T12:56:13.176Z"
   },
   {
    "duration": 12,
    "start_time": "2022-06-05T12:56:13.322Z"
   },
   {
    "duration": 232,
    "start_time": "2022-06-05T12:56:13.336Z"
   },
   {
    "duration": 8,
    "start_time": "2022-06-05T12:56:13.569Z"
   },
   {
    "duration": 145,
    "start_time": "2022-06-05T12:56:13.578Z"
   },
   {
    "duration": 238,
    "start_time": "2022-06-05T12:57:34.485Z"
   },
   {
    "duration": 409,
    "start_time": "2022-06-05T12:57:40.591Z"
   },
   {
    "duration": 177,
    "start_time": "2022-06-05T12:57:50.094Z"
   },
   {
    "duration": 92,
    "start_time": "2022-06-05T13:01:33.084Z"
   },
   {
    "duration": 54,
    "start_time": "2022-06-05T18:32:34.872Z"
   },
   {
    "duration": 6,
    "start_time": "2022-06-05T18:32:41.120Z"
   },
   {
    "duration": 601,
    "start_time": "2022-06-05T18:32:43.663Z"
   },
   {
    "duration": 15,
    "start_time": "2022-06-05T18:32:44.266Z"
   },
   {
    "duration": 6,
    "start_time": "2022-06-05T18:32:44.282Z"
   },
   {
    "duration": 10,
    "start_time": "2022-06-05T18:32:44.290Z"
   },
   {
    "duration": 3,
    "start_time": "2022-06-05T18:32:44.302Z"
   },
   {
    "duration": 8,
    "start_time": "2022-06-05T18:32:44.307Z"
   },
   {
    "duration": 28,
    "start_time": "2022-06-05T18:32:44.316Z"
   },
   {
    "duration": 7,
    "start_time": "2022-06-05T18:32:44.345Z"
   },
   {
    "duration": 18,
    "start_time": "2022-06-05T18:32:44.354Z"
   },
   {
    "duration": 35,
    "start_time": "2022-06-05T18:32:44.375Z"
   },
   {
    "duration": 32,
    "start_time": "2022-06-05T18:32:44.412Z"
   },
   {
    "duration": 4,
    "start_time": "2022-06-05T18:32:44.446Z"
   },
   {
    "duration": 6,
    "start_time": "2022-06-05T18:32:44.451Z"
   },
   {
    "duration": 5,
    "start_time": "2022-06-05T18:32:44.458Z"
   },
   {
    "duration": 10,
    "start_time": "2022-06-05T18:32:44.465Z"
   },
   {
    "duration": 28566,
    "start_time": "2022-06-05T18:32:44.476Z"
   },
   {
    "duration": 23,
    "start_time": "2022-06-05T18:33:13.044Z"
   },
   {
    "duration": 47,
    "start_time": "2022-06-05T18:33:13.068Z"
   },
   {
    "duration": 66,
    "start_time": "2022-06-05T18:33:13.117Z"
   },
   {
    "duration": 13,
    "start_time": "2022-06-05T18:33:13.185Z"
   },
   {
    "duration": 18,
    "start_time": "2022-06-05T18:33:13.199Z"
   },
   {
    "duration": 59,
    "start_time": "2022-06-05T18:33:13.218Z"
   },
   {
    "duration": 3,
    "start_time": "2022-06-05T18:33:13.279Z"
   },
   {
    "duration": 221,
    "start_time": "2022-06-05T18:33:13.283Z"
   },
   {
    "duration": 11,
    "start_time": "2022-06-05T18:33:13.506Z"
   },
   {
    "duration": 57,
    "start_time": "2022-06-05T18:33:13.519Z"
   },
   {
    "duration": 7,
    "start_time": "2022-06-05T18:33:13.578Z"
   },
   {
    "duration": 585,
    "start_time": "2022-06-05T18:33:13.588Z"
   },
   {
    "duration": 10,
    "start_time": "2022-06-05T18:33:14.174Z"
   },
   {
    "duration": 159,
    "start_time": "2022-06-05T18:33:14.186Z"
   },
   {
    "duration": 8,
    "start_time": "2022-06-05T18:33:14.346Z"
   },
   {
    "duration": 187,
    "start_time": "2022-06-05T18:33:14.356Z"
   },
   {
    "duration": 9,
    "start_time": "2022-06-05T18:33:14.545Z"
   },
   {
    "duration": 165,
    "start_time": "2022-06-05T18:33:14.555Z"
   },
   {
    "duration": 21,
    "start_time": "2022-06-05T18:33:14.722Z"
   },
   {
    "duration": 175,
    "start_time": "2022-06-05T18:33:14.745Z"
   },
   {
    "duration": 5,
    "start_time": "2022-06-05T18:33:14.922Z"
   },
   {
    "duration": 15,
    "start_time": "2022-06-05T18:33:14.929Z"
   },
   {
    "duration": 8,
    "start_time": "2022-06-05T18:33:14.946Z"
   },
   {
    "duration": 6,
    "start_time": "2022-06-05T18:33:14.956Z"
   },
   {
    "duration": 11,
    "start_time": "2022-06-05T18:33:14.963Z"
   },
   {
    "duration": 6,
    "start_time": "2022-06-05T18:33:14.976Z"
   },
   {
    "duration": 5,
    "start_time": "2022-06-05T18:33:14.984Z"
   },
   {
    "duration": 134,
    "start_time": "2022-06-05T18:38:31.512Z"
   },
   {
    "duration": 27,
    "start_time": "2022-06-05T18:38:31.656Z"
   },
   {
    "duration": 0,
    "start_time": "2022-06-05T18:38:31.744Z"
   },
   {
    "duration": 0,
    "start_time": "2022-06-05T18:38:31.747Z"
   },
   {
    "duration": 0,
    "start_time": "2022-06-05T18:38:31.750Z"
   },
   {
    "duration": 0,
    "start_time": "2022-06-05T18:38:31.752Z"
   },
   {
    "duration": 0,
    "start_time": "2022-06-05T18:38:31.754Z"
   },
   {
    "duration": 0,
    "start_time": "2022-06-05T18:38:31.755Z"
   },
   {
    "duration": 0,
    "start_time": "2022-06-05T18:38:31.757Z"
   },
   {
    "duration": 0,
    "start_time": "2022-06-05T18:38:31.758Z"
   },
   {
    "duration": 0,
    "start_time": "2022-06-05T18:38:31.759Z"
   },
   {
    "duration": 0,
    "start_time": "2022-06-05T18:38:31.761Z"
   },
   {
    "duration": 0,
    "start_time": "2022-06-05T18:38:31.762Z"
   },
   {
    "duration": 0,
    "start_time": "2022-06-05T18:38:31.763Z"
   },
   {
    "duration": 0,
    "start_time": "2022-06-05T18:38:31.764Z"
   },
   {
    "duration": 0,
    "start_time": "2022-06-05T18:38:31.765Z"
   },
   {
    "duration": 0,
    "start_time": "2022-06-05T18:38:31.766Z"
   },
   {
    "duration": 0,
    "start_time": "2022-06-05T18:38:31.767Z"
   },
   {
    "duration": 0,
    "start_time": "2022-06-05T18:38:31.768Z"
   },
   {
    "duration": 0,
    "start_time": "2022-06-05T18:38:31.770Z"
   },
   {
    "duration": 0,
    "start_time": "2022-06-05T18:38:31.771Z"
   },
   {
    "duration": 0,
    "start_time": "2022-06-05T18:38:31.772Z"
   },
   {
    "duration": 0,
    "start_time": "2022-06-05T18:38:31.773Z"
   },
   {
    "duration": 0,
    "start_time": "2022-06-05T18:38:31.774Z"
   },
   {
    "duration": 0,
    "start_time": "2022-06-05T18:38:31.776Z"
   },
   {
    "duration": 0,
    "start_time": "2022-06-05T18:38:31.777Z"
   },
   {
    "duration": 0,
    "start_time": "2022-06-05T18:38:31.778Z"
   },
   {
    "duration": 0,
    "start_time": "2022-06-05T18:38:31.780Z"
   },
   {
    "duration": 0,
    "start_time": "2022-06-05T18:38:31.781Z"
   },
   {
    "duration": 0,
    "start_time": "2022-06-05T18:38:31.782Z"
   },
   {
    "duration": 0,
    "start_time": "2022-06-05T18:38:31.783Z"
   },
   {
    "duration": 0,
    "start_time": "2022-06-05T18:38:31.784Z"
   },
   {
    "duration": 0,
    "start_time": "2022-06-05T18:38:31.786Z"
   },
   {
    "duration": 0,
    "start_time": "2022-06-05T18:38:31.841Z"
   },
   {
    "duration": 0,
    "start_time": "2022-06-05T18:38:31.843Z"
   },
   {
    "duration": 0,
    "start_time": "2022-06-05T18:38:31.844Z"
   },
   {
    "duration": 1,
    "start_time": "2022-06-05T18:38:31.845Z"
   },
   {
    "duration": 0,
    "start_time": "2022-06-05T18:38:31.846Z"
   },
   {
    "duration": 0,
    "start_time": "2022-06-05T18:38:31.848Z"
   },
   {
    "duration": 0,
    "start_time": "2022-06-05T18:38:31.848Z"
   },
   {
    "duration": 0,
    "start_time": "2022-06-05T18:38:31.850Z"
   },
   {
    "duration": 0,
    "start_time": "2022-06-05T18:38:31.851Z"
   },
   {
    "duration": 0,
    "start_time": "2022-06-05T18:38:31.852Z"
   },
   {
    "duration": 0,
    "start_time": "2022-06-05T18:38:31.853Z"
   },
   {
    "duration": 0,
    "start_time": "2022-06-05T18:38:31.855Z"
   },
   {
    "duration": 0,
    "start_time": "2022-06-05T18:38:31.856Z"
   },
   {
    "duration": 0,
    "start_time": "2022-06-05T18:38:31.857Z"
   },
   {
    "duration": 0,
    "start_time": "2022-06-05T18:38:31.858Z"
   },
   {
    "duration": 0,
    "start_time": "2022-06-05T18:38:31.859Z"
   },
   {
    "duration": 0,
    "start_time": "2022-06-05T18:38:31.860Z"
   },
   {
    "duration": 0,
    "start_time": "2022-06-05T18:38:31.861Z"
   },
   {
    "duration": 0,
    "start_time": "2022-06-05T18:38:31.862Z"
   },
   {
    "duration": 0,
    "start_time": "2022-06-05T18:38:31.863Z"
   },
   {
    "duration": 0,
    "start_time": "2022-06-05T18:38:31.864Z"
   },
   {
    "duration": 0,
    "start_time": "2022-06-05T18:38:31.865Z"
   },
   {
    "duration": 0,
    "start_time": "2022-06-05T18:38:31.866Z"
   },
   {
    "duration": 0,
    "start_time": "2022-06-05T18:38:31.867Z"
   },
   {
    "duration": 121,
    "start_time": "2022-06-05T18:40:35.050Z"
   },
   {
    "duration": 16,
    "start_time": "2022-06-05T18:40:35.173Z"
   },
   {
    "duration": 7,
    "start_time": "2022-06-05T18:40:35.190Z"
   },
   {
    "duration": 46,
    "start_time": "2022-06-05T18:40:35.200Z"
   },
   {
    "duration": 5,
    "start_time": "2022-06-05T18:40:35.248Z"
   },
   {
    "duration": 8,
    "start_time": "2022-06-05T18:40:35.255Z"
   },
   {
    "duration": 8,
    "start_time": "2022-06-05T18:40:35.265Z"
   },
   {
    "duration": 6,
    "start_time": "2022-06-05T18:40:35.276Z"
   },
   {
    "duration": 24,
    "start_time": "2022-06-05T18:40:35.283Z"
   },
   {
    "duration": 67,
    "start_time": "2022-06-05T18:40:35.310Z"
   },
   {
    "duration": 7,
    "start_time": "2022-06-05T18:40:35.378Z"
   },
   {
    "duration": 4,
    "start_time": "2022-06-05T18:40:35.387Z"
   },
   {
    "duration": 5,
    "start_time": "2022-06-05T18:40:35.393Z"
   },
   {
    "duration": 8,
    "start_time": "2022-06-05T18:40:35.400Z"
   },
   {
    "duration": 33,
    "start_time": "2022-06-05T18:40:35.410Z"
   },
   {
    "duration": 29914,
    "start_time": "2022-06-05T18:40:35.445Z"
   },
   {
    "duration": 21,
    "start_time": "2022-06-05T18:41:05.361Z"
   },
   {
    "duration": 41,
    "start_time": "2022-06-05T18:41:05.383Z"
   },
   {
    "duration": 47,
    "start_time": "2022-06-05T18:41:05.441Z"
   },
   {
    "duration": 14,
    "start_time": "2022-06-05T18:41:05.490Z"
   },
   {
    "duration": 38,
    "start_time": "2022-06-05T18:41:05.505Z"
   },
   {
    "duration": 39,
    "start_time": "2022-06-05T18:41:05.545Z"
   },
   {
    "duration": 3,
    "start_time": "2022-06-05T18:41:05.586Z"
   },
   {
    "duration": 253,
    "start_time": "2022-06-05T18:41:05.591Z"
   },
   {
    "duration": 16,
    "start_time": "2022-06-05T18:41:05.846Z"
   },
   {
    "duration": 55,
    "start_time": "2022-06-05T18:41:05.864Z"
   },
   {
    "duration": 29,
    "start_time": "2022-06-05T18:41:05.921Z"
   },
   {
    "duration": 183,
    "start_time": "2022-06-05T18:41:05.954Z"
   },
   {
    "duration": 12,
    "start_time": "2022-06-05T18:41:06.141Z"
   },
   {
    "duration": 180,
    "start_time": "2022-06-05T18:41:06.155Z"
   },
   {
    "duration": 9,
    "start_time": "2022-06-05T18:41:06.340Z"
   },
   {
    "duration": 207,
    "start_time": "2022-06-05T18:41:06.350Z"
   },
   {
    "duration": 10,
    "start_time": "2022-06-05T18:41:06.559Z"
   },
   {
    "duration": 186,
    "start_time": "2022-06-05T18:41:06.571Z"
   },
   {
    "duration": 9,
    "start_time": "2022-06-05T18:41:06.759Z"
   },
   {
    "duration": 410,
    "start_time": "2022-06-05T18:41:06.769Z"
   },
   {
    "duration": 6,
    "start_time": "2022-06-05T18:41:07.181Z"
   },
   {
    "duration": 6,
    "start_time": "2022-06-05T18:41:07.189Z"
   },
   {
    "duration": 8,
    "start_time": "2022-06-05T18:41:07.197Z"
   },
   {
    "duration": 7,
    "start_time": "2022-06-05T18:41:07.206Z"
   },
   {
    "duration": 32,
    "start_time": "2022-06-05T18:41:07.214Z"
   },
   {
    "duration": 9,
    "start_time": "2022-06-05T18:41:07.247Z"
   },
   {
    "duration": 5,
    "start_time": "2022-06-05T18:41:07.258Z"
   },
   {
    "duration": 2,
    "start_time": "2022-06-05T18:41:07.265Z"
   },
   {
    "duration": 10,
    "start_time": "2022-06-05T18:41:07.268Z"
   },
   {
    "duration": 24,
    "start_time": "2022-06-05T18:41:07.280Z"
   },
   {
    "duration": 38,
    "start_time": "2022-06-05T18:41:07.306Z"
   },
   {
    "duration": 171,
    "start_time": "2022-06-05T18:41:07.346Z"
   },
   {
    "duration": 7,
    "start_time": "2022-06-05T18:41:07.519Z"
   },
   {
    "duration": 23,
    "start_time": "2022-06-05T18:41:07.528Z"
   },
   {
    "duration": 164,
    "start_time": "2022-06-05T18:41:07.553Z"
   },
   {
    "duration": 8,
    "start_time": "2022-06-05T18:41:07.718Z"
   },
   {
    "duration": 191,
    "start_time": "2022-06-05T18:41:07.728Z"
   },
   {
    "duration": 22,
    "start_time": "2022-06-05T18:41:07.921Z"
   },
   {
    "duration": 227,
    "start_time": "2022-06-05T18:41:07.945Z"
   },
   {
    "duration": 9,
    "start_time": "2022-06-05T18:41:08.174Z"
   },
   {
    "duration": 170,
    "start_time": "2022-06-05T18:41:08.185Z"
   },
   {
    "duration": 16,
    "start_time": "2022-06-05T18:44:37.014Z"
   },
   {
    "duration": 553,
    "start_time": "2022-06-05T18:47:53.778Z"
   },
   {
    "duration": 23,
    "start_time": "2022-06-05T18:47:54.333Z"
   },
   {
    "duration": 7,
    "start_time": "2022-06-05T18:47:54.358Z"
   },
   {
    "duration": 16,
    "start_time": "2022-06-05T18:47:54.368Z"
   },
   {
    "duration": 4,
    "start_time": "2022-06-05T18:47:54.385Z"
   },
   {
    "duration": 9,
    "start_time": "2022-06-05T18:47:54.390Z"
   },
   {
    "duration": 8,
    "start_time": "2022-06-05T18:47:54.401Z"
   },
   {
    "duration": 36,
    "start_time": "2022-06-05T18:47:54.411Z"
   },
   {
    "duration": 19,
    "start_time": "2022-06-05T18:47:54.450Z"
   },
   {
    "duration": 38,
    "start_time": "2022-06-05T18:47:54.472Z"
   },
   {
    "duration": 32,
    "start_time": "2022-06-05T18:47:54.511Z"
   },
   {
    "duration": 5,
    "start_time": "2022-06-05T18:47:54.545Z"
   },
   {
    "duration": 11,
    "start_time": "2022-06-05T18:47:54.552Z"
   },
   {
    "duration": 5,
    "start_time": "2022-06-05T18:47:54.565Z"
   },
   {
    "duration": 23,
    "start_time": "2022-06-05T18:47:54.572Z"
   },
   {
    "duration": 29621,
    "start_time": "2022-06-05T18:47:54.597Z"
   },
   {
    "duration": 30,
    "start_time": "2022-06-05T18:48:24.220Z"
   },
   {
    "duration": 52,
    "start_time": "2022-06-05T18:48:24.251Z"
   },
   {
    "duration": 77,
    "start_time": "2022-06-05T18:48:24.304Z"
   },
   {
    "duration": 20,
    "start_time": "2022-06-05T18:48:24.383Z"
   },
   {
    "duration": 44,
    "start_time": "2022-06-05T18:48:24.405Z"
   },
   {
    "duration": 59,
    "start_time": "2022-06-05T18:48:24.451Z"
   },
   {
    "duration": 3,
    "start_time": "2022-06-05T18:48:24.512Z"
   },
   {
    "duration": 263,
    "start_time": "2022-06-05T18:48:24.517Z"
   },
   {
    "duration": 12,
    "start_time": "2022-06-05T18:48:24.781Z"
   },
   {
    "duration": 69,
    "start_time": "2022-06-05T18:48:24.794Z"
   },
   {
    "duration": 9,
    "start_time": "2022-06-05T18:48:24.864Z"
   },
   {
    "duration": 472,
    "start_time": "2022-06-05T18:48:24.877Z"
   },
   {
    "duration": 10,
    "start_time": "2022-06-05T18:48:25.351Z"
   },
   {
    "duration": 180,
    "start_time": "2022-06-05T18:48:25.362Z"
   },
   {
    "duration": 9,
    "start_time": "2022-06-05T18:48:25.544Z"
   },
   {
    "duration": 187,
    "start_time": "2022-06-05T18:48:25.554Z"
   },
   {
    "duration": 10,
    "start_time": "2022-06-05T18:48:25.743Z"
   },
   {
    "duration": 178,
    "start_time": "2022-06-05T18:48:25.755Z"
   },
   {
    "duration": 14,
    "start_time": "2022-06-05T18:48:25.935Z"
   },
   {
    "duration": 416,
    "start_time": "2022-06-05T18:48:25.950Z"
   },
   {
    "duration": 6,
    "start_time": "2022-06-05T18:48:26.368Z"
   },
   {
    "duration": 8,
    "start_time": "2022-06-05T18:48:26.376Z"
   },
   {
    "duration": 7,
    "start_time": "2022-06-05T18:48:26.385Z"
   },
   {
    "duration": 6,
    "start_time": "2022-06-05T18:48:26.394Z"
   },
   {
    "duration": 6,
    "start_time": "2022-06-05T18:48:26.402Z"
   },
   {
    "duration": 9,
    "start_time": "2022-06-05T18:48:26.442Z"
   },
   {
    "duration": 7,
    "start_time": "2022-06-05T18:48:26.452Z"
   },
   {
    "duration": 7,
    "start_time": "2022-06-05T18:48:26.461Z"
   },
   {
    "duration": 19,
    "start_time": "2022-06-05T18:48:26.470Z"
   },
   {
    "duration": 57,
    "start_time": "2022-06-05T18:48:26.490Z"
   },
   {
    "duration": 8,
    "start_time": "2022-06-05T18:48:26.549Z"
   },
   {
    "duration": 194,
    "start_time": "2022-06-05T18:48:26.559Z"
   },
   {
    "duration": 7,
    "start_time": "2022-06-05T18:48:26.755Z"
   },
   {
    "duration": 11,
    "start_time": "2022-06-05T18:48:26.764Z"
   },
   {
    "duration": 252,
    "start_time": "2022-06-05T18:48:26.776Z"
   },
   {
    "duration": 18,
    "start_time": "2022-06-05T18:48:27.029Z"
   },
   {
    "duration": 151,
    "start_time": "2022-06-05T18:48:27.049Z"
   },
   {
    "duration": 7,
    "start_time": "2022-06-05T18:48:27.202Z"
   },
   {
    "duration": 176,
    "start_time": "2022-06-05T18:48:27.211Z"
   },
   {
    "duration": 8,
    "start_time": "2022-06-05T18:48:27.389Z"
   },
   {
    "duration": 174,
    "start_time": "2022-06-05T18:48:27.399Z"
   },
   {
    "duration": 94,
    "start_time": "2022-06-05T18:48:46.852Z"
   },
   {
    "duration": 795,
    "start_time": "2022-06-11T07:24:12.143Z"
   },
   {
    "duration": 16,
    "start_time": "2022-06-11T07:24:12.940Z"
   },
   {
    "duration": 6,
    "start_time": "2022-06-11T07:24:12.958Z"
   },
   {
    "duration": 26,
    "start_time": "2022-06-11T07:24:12.967Z"
   },
   {
    "duration": 4,
    "start_time": "2022-06-11T07:24:12.994Z"
   },
   {
    "duration": 7,
    "start_time": "2022-06-11T07:24:12.999Z"
   },
   {
    "duration": 6,
    "start_time": "2022-06-11T07:24:13.008Z"
   },
   {
    "duration": 6,
    "start_time": "2022-06-11T07:24:13.015Z"
   },
   {
    "duration": 18,
    "start_time": "2022-06-11T07:24:13.023Z"
   },
   {
    "duration": 41,
    "start_time": "2022-06-11T07:24:13.066Z"
   },
   {
    "duration": 6,
    "start_time": "2022-06-11T07:24:13.109Z"
   },
   {
    "duration": 6,
    "start_time": "2022-06-11T07:24:13.117Z"
   },
   {
    "duration": 6,
    "start_time": "2022-06-11T07:24:13.125Z"
   },
   {
    "duration": 5,
    "start_time": "2022-06-11T07:24:13.133Z"
   },
   {
    "duration": 32,
    "start_time": "2022-06-11T07:24:13.139Z"
   },
   {
    "duration": 31713,
    "start_time": "2022-06-11T07:24:13.173Z"
   },
   {
    "duration": 21,
    "start_time": "2022-06-11T07:24:44.888Z"
   },
   {
    "duration": 55,
    "start_time": "2022-06-11T07:24:44.911Z"
   },
   {
    "duration": 54,
    "start_time": "2022-06-11T07:24:44.968Z"
   },
   {
    "duration": 15,
    "start_time": "2022-06-11T07:24:45.024Z"
   },
   {
    "duration": 45,
    "start_time": "2022-06-11T07:24:45.040Z"
   },
   {
    "duration": 41,
    "start_time": "2022-06-11T07:24:45.087Z"
   },
   {
    "duration": 3,
    "start_time": "2022-06-11T07:24:45.130Z"
   },
   {
    "duration": 249,
    "start_time": "2022-06-11T07:24:45.134Z"
   },
   {
    "duration": 11,
    "start_time": "2022-06-11T07:24:45.385Z"
   },
   {
    "duration": 50,
    "start_time": "2022-06-11T07:24:45.398Z"
   },
   {
    "duration": 24,
    "start_time": "2022-06-11T07:24:45.450Z"
   },
   {
    "duration": 540,
    "start_time": "2022-06-11T07:24:45.480Z"
   },
   {
    "duration": 12,
    "start_time": "2022-06-11T07:24:46.023Z"
   },
   {
    "duration": 185,
    "start_time": "2022-06-11T07:24:46.036Z"
   },
   {
    "duration": 8,
    "start_time": "2022-06-11T07:24:46.222Z"
   },
   {
    "duration": 183,
    "start_time": "2022-06-11T07:24:46.231Z"
   },
   {
    "duration": 8,
    "start_time": "2022-06-11T07:24:46.416Z"
   },
   {
    "duration": 158,
    "start_time": "2022-06-11T07:24:46.425Z"
   },
   {
    "duration": 9,
    "start_time": "2022-06-11T07:24:46.585Z"
   },
   {
    "duration": 427,
    "start_time": "2022-06-11T07:24:46.596Z"
   },
   {
    "duration": 6,
    "start_time": "2022-06-11T07:24:47.024Z"
   },
   {
    "duration": 5,
    "start_time": "2022-06-11T07:24:47.031Z"
   },
   {
    "duration": 6,
    "start_time": "2022-06-11T07:24:47.038Z"
   },
   {
    "duration": 19,
    "start_time": "2022-06-11T07:24:47.046Z"
   },
   {
    "duration": 6,
    "start_time": "2022-06-11T07:24:47.067Z"
   },
   {
    "duration": 14,
    "start_time": "2022-06-11T07:24:47.075Z"
   },
   {
    "duration": 8,
    "start_time": "2022-06-11T07:24:47.090Z"
   },
   {
    "duration": 566,
    "start_time": "2022-06-11T07:25:20.077Z"
   },
   {
    "duration": 22,
    "start_time": "2022-06-11T07:25:20.645Z"
   },
   {
    "duration": 11,
    "start_time": "2022-06-11T07:25:20.669Z"
   },
   {
    "duration": 10,
    "start_time": "2022-06-11T07:25:20.682Z"
   },
   {
    "duration": 6,
    "start_time": "2022-06-11T07:25:20.694Z"
   },
   {
    "duration": 13,
    "start_time": "2022-06-11T07:25:20.702Z"
   },
   {
    "duration": 8,
    "start_time": "2022-06-11T07:25:20.716Z"
   },
   {
    "duration": 7,
    "start_time": "2022-06-11T07:25:20.726Z"
   },
   {
    "duration": 38,
    "start_time": "2022-06-11T07:25:20.734Z"
   },
   {
    "duration": 34,
    "start_time": "2022-06-11T07:25:20.774Z"
   },
   {
    "duration": 6,
    "start_time": "2022-06-11T07:25:20.810Z"
   },
   {
    "duration": 15,
    "start_time": "2022-06-11T07:25:20.817Z"
   },
   {
    "duration": 15,
    "start_time": "2022-06-11T07:25:20.833Z"
   },
   {
    "duration": 9,
    "start_time": "2022-06-11T07:25:20.851Z"
   },
   {
    "duration": 19,
    "start_time": "2022-06-11T07:25:20.862Z"
   },
   {
    "duration": 28884,
    "start_time": "2022-06-11T07:25:20.883Z"
   },
   {
    "duration": 29,
    "start_time": "2022-06-11T07:25:49.769Z"
   },
   {
    "duration": 43,
    "start_time": "2022-06-11T07:25:49.799Z"
   },
   {
    "duration": 71,
    "start_time": "2022-06-11T07:25:49.844Z"
   },
   {
    "duration": 13,
    "start_time": "2022-06-11T07:25:49.916Z"
   },
   {
    "duration": 39,
    "start_time": "2022-06-11T07:25:49.930Z"
   },
   {
    "duration": 45,
    "start_time": "2022-06-11T07:25:49.971Z"
   },
   {
    "duration": 4,
    "start_time": "2022-06-11T07:25:50.018Z"
   },
   {
    "duration": 227,
    "start_time": "2022-06-11T07:25:50.023Z"
   },
   {
    "duration": 14,
    "start_time": "2022-06-11T07:25:50.252Z"
   },
   {
    "duration": 54,
    "start_time": "2022-06-11T07:25:50.269Z"
   },
   {
    "duration": 8,
    "start_time": "2022-06-11T07:25:50.325Z"
   },
   {
    "duration": 354,
    "start_time": "2022-06-11T07:25:50.334Z"
   },
   {
    "duration": 9,
    "start_time": "2022-06-11T07:25:50.689Z"
   },
   {
    "duration": 153,
    "start_time": "2022-06-11T07:25:50.700Z"
   },
   {
    "duration": 16,
    "start_time": "2022-06-11T07:25:50.855Z"
   },
   {
    "duration": 171,
    "start_time": "2022-06-11T07:25:50.873Z"
   },
   {
    "duration": 20,
    "start_time": "2022-06-11T07:25:51.046Z"
   },
   {
    "duration": 160,
    "start_time": "2022-06-11T07:25:51.067Z"
   },
   {
    "duration": 9,
    "start_time": "2022-06-11T07:25:51.228Z"
   },
   {
    "duration": 456,
    "start_time": "2022-06-11T07:25:51.239Z"
   },
   {
    "duration": 5,
    "start_time": "2022-06-11T07:25:51.697Z"
   },
   {
    "duration": 7,
    "start_time": "2022-06-11T07:25:51.704Z"
   },
   {
    "duration": 5,
    "start_time": "2022-06-11T07:25:51.713Z"
   },
   {
    "duration": 5,
    "start_time": "2022-06-11T07:25:51.719Z"
   },
   {
    "duration": 6,
    "start_time": "2022-06-11T07:25:51.727Z"
   },
   {
    "duration": 7,
    "start_time": "2022-06-11T07:25:51.765Z"
   },
   {
    "duration": 28,
    "start_time": "2022-06-11T07:25:51.774Z"
   },
   {
    "duration": 7,
    "start_time": "2022-06-11T07:25:51.804Z"
   },
   {
    "duration": 25,
    "start_time": "2022-06-11T07:25:51.812Z"
   },
   {
    "duration": 17,
    "start_time": "2022-06-11T07:25:51.838Z"
   },
   {
    "duration": 35,
    "start_time": "2022-06-11T07:25:51.856Z"
   },
   {
    "duration": 9,
    "start_time": "2022-06-11T07:25:51.893Z"
   },
   {
    "duration": 165,
    "start_time": "2022-06-11T07:25:51.904Z"
   },
   {
    "duration": 10,
    "start_time": "2022-06-11T07:25:52.072Z"
   },
   {
    "duration": 10,
    "start_time": "2022-06-11T07:25:52.083Z"
   },
   {
    "duration": 158,
    "start_time": "2022-06-11T07:25:52.095Z"
   },
   {
    "duration": 17,
    "start_time": "2022-06-11T07:25:52.255Z"
   },
   {
    "duration": 133,
    "start_time": "2022-06-11T07:25:52.274Z"
   },
   {
    "duration": 7,
    "start_time": "2022-06-11T07:25:52.408Z"
   },
   {
    "duration": 168,
    "start_time": "2022-06-11T07:25:52.416Z"
   },
   {
    "duration": 16,
    "start_time": "2022-06-11T07:25:52.585Z"
   },
   {
    "duration": 136,
    "start_time": "2022-06-11T07:25:52.602Z"
   },
   {
    "duration": 4,
    "start_time": "2022-06-11T07:26:08.192Z"
   },
   {
    "duration": 120,
    "start_time": "2022-06-11T07:31:05.382Z"
   },
   {
    "duration": 542,
    "start_time": "2022-06-11T07:33:23.877Z"
   },
   {
    "duration": 16,
    "start_time": "2022-06-11T07:33:24.421Z"
   },
   {
    "duration": 6,
    "start_time": "2022-06-11T07:33:24.439Z"
   },
   {
    "duration": 26,
    "start_time": "2022-06-11T07:33:24.447Z"
   },
   {
    "duration": 5,
    "start_time": "2022-06-11T07:33:24.476Z"
   },
   {
    "duration": 8,
    "start_time": "2022-06-11T07:33:24.483Z"
   },
   {
    "duration": 7,
    "start_time": "2022-06-11T07:33:24.492Z"
   },
   {
    "duration": 6,
    "start_time": "2022-06-11T07:33:24.501Z"
   },
   {
    "duration": 18,
    "start_time": "2022-06-11T07:33:24.509Z"
   },
   {
    "duration": 83,
    "start_time": "2022-06-11T07:33:24.528Z"
   },
   {
    "duration": 15,
    "start_time": "2022-06-11T07:33:24.613Z"
   },
   {
    "duration": 8,
    "start_time": "2022-06-11T07:33:24.631Z"
   },
   {
    "duration": 11,
    "start_time": "2022-06-11T07:33:24.641Z"
   },
   {
    "duration": 5,
    "start_time": "2022-06-11T07:33:24.664Z"
   },
   {
    "duration": 19,
    "start_time": "2022-06-11T07:33:24.671Z"
   },
   {
    "duration": 29888,
    "start_time": "2022-06-11T07:33:24.691Z"
   },
   {
    "duration": 28,
    "start_time": "2022-06-11T07:33:54.582Z"
   },
   {
    "duration": 90,
    "start_time": "2022-06-11T07:33:54.611Z"
   },
   {
    "duration": 49,
    "start_time": "2022-06-11T07:33:54.702Z"
   },
   {
    "duration": 28,
    "start_time": "2022-06-11T07:33:54.752Z"
   },
   {
    "duration": 23,
    "start_time": "2022-06-11T07:33:54.781Z"
   },
   {
    "duration": 44,
    "start_time": "2022-06-11T07:33:54.805Z"
   },
   {
    "duration": 14,
    "start_time": "2022-06-11T07:33:54.851Z"
   },
   {
    "duration": 222,
    "start_time": "2022-06-11T07:33:54.867Z"
   },
   {
    "duration": 11,
    "start_time": "2022-06-11T07:33:55.090Z"
   },
   {
    "duration": 55,
    "start_time": "2022-06-11T07:33:55.102Z"
   },
   {
    "duration": 12,
    "start_time": "2022-06-11T07:33:55.165Z"
   },
   {
    "duration": 380,
    "start_time": "2022-06-11T07:33:55.178Z"
   },
   {
    "duration": 15,
    "start_time": "2022-06-11T07:33:55.560Z"
   },
   {
    "duration": 165,
    "start_time": "2022-06-11T07:33:55.577Z"
   },
   {
    "duration": 8,
    "start_time": "2022-06-11T07:33:55.744Z"
   },
   {
    "duration": 179,
    "start_time": "2022-06-11T07:33:55.754Z"
   },
   {
    "duration": 8,
    "start_time": "2022-06-11T07:33:55.935Z"
   },
   {
    "duration": 158,
    "start_time": "2022-06-11T07:33:55.944Z"
   },
   {
    "duration": 8,
    "start_time": "2022-06-11T07:33:56.104Z"
   },
   {
    "duration": 445,
    "start_time": "2022-06-11T07:33:56.114Z"
   },
   {
    "duration": 8,
    "start_time": "2022-06-11T07:33:56.561Z"
   },
   {
    "duration": 13,
    "start_time": "2022-06-11T07:33:56.577Z"
   },
   {
    "duration": 5,
    "start_time": "2022-06-11T07:33:56.593Z"
   },
   {
    "duration": 6,
    "start_time": "2022-06-11T07:33:56.600Z"
   },
   {
    "duration": 5,
    "start_time": "2022-06-11T07:33:56.610Z"
   },
   {
    "duration": 8,
    "start_time": "2022-06-11T07:33:56.617Z"
   },
   {
    "duration": 7,
    "start_time": "2022-06-11T07:33:56.626Z"
   },
   {
    "duration": 146,
    "start_time": "2022-06-11T07:33:56.634Z"
   },
   {
    "duration": 130,
    "start_time": "2022-06-11T07:34:00.150Z"
   },
   {
    "duration": 152,
    "start_time": "2022-06-11T07:34:02.661Z"
   },
   {
    "duration": 123,
    "start_time": "2022-06-11T07:34:19.200Z"
   },
   {
    "duration": 941,
    "start_time": "2022-06-11T07:35:21.085Z"
   },
   {
    "duration": 150,
    "start_time": "2022-06-11T07:35:37.877Z"
   },
   {
    "duration": 140,
    "start_time": "2022-06-11T07:36:16.921Z"
   },
   {
    "duration": 111,
    "start_time": "2022-06-11T07:42:54.110Z"
   },
   {
    "duration": 126,
    "start_time": "2022-06-11T07:43:07.105Z"
   },
   {
    "duration": 79,
    "start_time": "2022-06-11T07:43:14.106Z"
   },
   {
    "duration": 110,
    "start_time": "2022-06-11T07:43:19.299Z"
   },
   {
    "duration": 117,
    "start_time": "2022-06-11T07:43:29.308Z"
   },
   {
    "duration": 149,
    "start_time": "2022-06-11T07:43:45.480Z"
   },
   {
    "duration": 156,
    "start_time": "2022-06-11T07:43:51.727Z"
   },
   {
    "duration": 139,
    "start_time": "2022-06-11T07:44:34.198Z"
   },
   {
    "duration": 146,
    "start_time": "2022-06-11T07:44:38.981Z"
   },
   {
    "duration": 11,
    "start_time": "2022-06-11T08:03:21.765Z"
   },
   {
    "duration": 545,
    "start_time": "2022-06-11T08:03:52.515Z"
   },
   {
    "duration": 25,
    "start_time": "2022-06-11T08:03:53.062Z"
   },
   {
    "duration": 7,
    "start_time": "2022-06-11T08:03:53.089Z"
   },
   {
    "duration": 14,
    "start_time": "2022-06-11T08:03:53.098Z"
   },
   {
    "duration": 8,
    "start_time": "2022-06-11T08:03:53.113Z"
   },
   {
    "duration": 10,
    "start_time": "2022-06-11T08:03:53.123Z"
   },
   {
    "duration": 33,
    "start_time": "2022-06-11T08:03:53.135Z"
   },
   {
    "duration": 9,
    "start_time": "2022-06-11T08:03:53.171Z"
   },
   {
    "duration": 22,
    "start_time": "2022-06-11T08:03:53.182Z"
   },
   {
    "duration": 36,
    "start_time": "2022-06-11T08:03:53.207Z"
   },
   {
    "duration": 32,
    "start_time": "2022-06-11T08:03:53.244Z"
   },
   {
    "duration": 12,
    "start_time": "2022-06-11T08:03:53.279Z"
   },
   {
    "duration": 6,
    "start_time": "2022-06-11T08:03:53.293Z"
   },
   {
    "duration": 10,
    "start_time": "2022-06-11T08:03:53.301Z"
   },
   {
    "duration": 15,
    "start_time": "2022-06-11T08:03:53.313Z"
   },
   {
    "duration": 30502,
    "start_time": "2022-06-11T08:03:53.329Z"
   },
   {
    "duration": 32,
    "start_time": "2022-06-11T08:04:23.833Z"
   },
   {
    "duration": 50,
    "start_time": "2022-06-11T08:04:23.866Z"
   },
   {
    "duration": 68,
    "start_time": "2022-06-11T08:04:23.918Z"
   },
   {
    "duration": 13,
    "start_time": "2022-06-11T08:04:23.988Z"
   },
   {
    "duration": 20,
    "start_time": "2022-06-11T08:04:24.002Z"
   },
   {
    "duration": 62,
    "start_time": "2022-06-11T08:04:24.024Z"
   },
   {
    "duration": 4,
    "start_time": "2022-06-11T08:04:24.087Z"
   },
   {
    "duration": 222,
    "start_time": "2022-06-11T08:04:24.092Z"
   },
   {
    "duration": 11,
    "start_time": "2022-06-11T08:04:24.315Z"
   },
   {
    "duration": 63,
    "start_time": "2022-06-11T08:04:24.327Z"
   },
   {
    "duration": 8,
    "start_time": "2022-06-11T08:04:24.392Z"
   },
   {
    "duration": 364,
    "start_time": "2022-06-11T08:04:24.403Z"
   },
   {
    "duration": 13,
    "start_time": "2022-06-11T08:04:24.768Z"
   },
   {
    "duration": 169,
    "start_time": "2022-06-11T08:04:24.783Z"
   },
   {
    "duration": 16,
    "start_time": "2022-06-11T08:04:24.953Z"
   },
   {
    "duration": 189,
    "start_time": "2022-06-11T08:04:24.971Z"
   },
   {
    "duration": 15,
    "start_time": "2022-06-11T08:04:25.164Z"
   },
   {
    "duration": 161,
    "start_time": "2022-06-11T08:04:25.181Z"
   },
   {
    "duration": 10,
    "start_time": "2022-06-11T08:04:25.344Z"
   },
   {
    "duration": 454,
    "start_time": "2022-06-11T08:04:25.365Z"
   },
   {
    "duration": 6,
    "start_time": "2022-06-11T08:04:25.821Z"
   },
   {
    "duration": 8,
    "start_time": "2022-06-11T08:04:25.829Z"
   },
   {
    "duration": 6,
    "start_time": "2022-06-11T08:04:25.839Z"
   },
   {
    "duration": 9,
    "start_time": "2022-06-11T08:04:25.865Z"
   },
   {
    "duration": 16,
    "start_time": "2022-06-11T08:04:25.876Z"
   },
   {
    "duration": 7,
    "start_time": "2022-06-11T08:04:25.894Z"
   },
   {
    "duration": 7,
    "start_time": "2022-06-11T08:04:25.903Z"
   },
   {
    "duration": 129,
    "start_time": "2022-06-11T08:04:25.912Z"
   },
   {
    "duration": 155,
    "start_time": "2022-06-11T08:04:26.043Z"
   },
   {
    "duration": 157,
    "start_time": "2022-06-11T08:04:26.200Z"
   },
   {
    "duration": 129,
    "start_time": "2022-06-11T08:04:26.364Z"
   },
   {
    "duration": 8,
    "start_time": "2022-06-11T08:04:26.494Z"
   },
   {
    "duration": 28,
    "start_time": "2022-06-11T08:04:26.504Z"
   },
   {
    "duration": 30,
    "start_time": "2022-06-11T08:04:26.535Z"
   },
   {
    "duration": 174,
    "start_time": "2022-06-11T08:04:26.567Z"
   },
   {
    "duration": 7,
    "start_time": "2022-06-11T08:04:48.177Z"
   },
   {
    "duration": 7,
    "start_time": "2022-06-11T08:04:51.929Z"
   },
   {
    "duration": 144,
    "start_time": "2022-06-11T08:04:56.128Z"
   },
   {
    "duration": 144,
    "start_time": "2022-06-11T08:05:46.017Z"
   },
   {
    "duration": 157,
    "start_time": "2022-06-11T08:06:11.293Z"
   },
   {
    "duration": 273,
    "start_time": "2022-06-11T08:09:03.617Z"
   },
   {
    "duration": 8,
    "start_time": "2022-06-11T08:10:06.506Z"
   },
   {
    "duration": 126,
    "start_time": "2022-06-11T08:10:07.442Z"
   },
   {
    "duration": 8,
    "start_time": "2022-06-11T08:10:15.812Z"
   },
   {
    "duration": 143,
    "start_time": "2022-06-11T08:10:19.989Z"
   },
   {
    "duration": 143,
    "start_time": "2022-06-11T08:10:36.592Z"
   },
   {
    "duration": 159,
    "start_time": "2022-06-11T08:10:45.535Z"
   },
   {
    "duration": 145,
    "start_time": "2022-06-11T08:10:59.851Z"
   },
   {
    "duration": 8,
    "start_time": "2022-06-11T08:11:22.595Z"
   },
   {
    "duration": 139,
    "start_time": "2022-06-11T08:11:23.782Z"
   },
   {
    "duration": 4,
    "start_time": "2022-06-11T10:14:36.560Z"
   }
  ],
  "kernelspec": {
   "display_name": "Python 3 (ipykernel)",
   "language": "python",
   "name": "python3"
  },
  "language_info": {
   "codemirror_mode": {
    "name": "ipython",
    "version": 3
   },
   "file_extension": ".py",
   "mimetype": "text/x-python",
   "name": "python",
   "nbconvert_exporter": "python",
   "pygments_lexer": "ipython3",
   "version": "3.9.13"
  },
  "toc": {
   "base_numbering": 1,
   "nav_menu": {},
   "number_sections": true,
   "sideBar": true,
   "skip_h1_title": true,
   "title_cell": "Содержание",
   "title_sidebar": "Contents",
   "toc_cell": true,
   "toc_position": {},
   "toc_section_display": true,
   "toc_window_display": true
  }
 },
 "nbformat": 4,
 "nbformat_minor": 4
}
